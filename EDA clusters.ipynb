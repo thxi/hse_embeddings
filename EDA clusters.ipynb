{
 "cells": [
  {
   "cell_type": "markdown",
   "id": "extra-sacrifice",
   "metadata": {
    "toc": true
   },
   "source": [
    "<h1>Table of Contents<span class=\"tocSkip\"></span></h1>\n",
    "<div class=\"toc\"><ul class=\"toc-item\"><li><span><a href=\"#Data\" data-toc-modified-id=\"Data-1\"><span class=\"toc-item-num\">1&nbsp;&nbsp;</span>Data</a></span></li><li><span><a href=\"#EDA\" data-toc-modified-id=\"EDA-2\"><span class=\"toc-item-num\">2&nbsp;&nbsp;</span>EDA</a></span></li><li><span><a href=\"#Feature-engineering\" data-toc-modified-id=\"Feature-engineering-3\"><span class=\"toc-item-num\">3&nbsp;&nbsp;</span>Feature engineering</a></span></li><li><span><a href=\"#Models\" data-toc-modified-id=\"Models-4\"><span class=\"toc-item-num\">4&nbsp;&nbsp;</span>Models</a></span><ul class=\"toc-item\"><li><span><a href=\"#Log-reg\" data-toc-modified-id=\"Log-reg-4.1\"><span class=\"toc-item-num\">4.1&nbsp;&nbsp;</span>Log reg</a></span></li><li><span><a href=\"#Catboost\" data-toc-modified-id=\"Catboost-4.2\"><span class=\"toc-item-num\">4.2&nbsp;&nbsp;</span>Catboost</a></span></li></ul></li><li><span><a href=\"#Clusterization\" data-toc-modified-id=\"Clusterization-5\"><span class=\"toc-item-num\">5&nbsp;&nbsp;</span>Clusterization</a></span><ul class=\"toc-item\"><li><span><a href=\"#UMAP\" data-toc-modified-id=\"UMAP-5.1\"><span class=\"toc-item-num\">5.1&nbsp;&nbsp;</span>UMAP</a></span></li><li><span><a href=\"#K-Means\" data-toc-modified-id=\"K-Means-5.2\"><span class=\"toc-item-num\">5.2&nbsp;&nbsp;</span>K-Means</a></span></li></ul></li></ul></div>"
   ]
  },
  {
   "cell_type": "code",
   "execution_count": 1,
   "id": "material-isaac",
   "metadata": {
    "ExecuteTime": {
     "end_time": "2021-05-07T08:30:08.107375Z",
     "start_time": "2021-05-07T08:30:07.566927Z"
    },
    "executionInfo": {
     "elapsed": 11998,
     "status": "ok",
     "timestamp": 1610889833656,
     "user": {
      "displayName": "Ilya",
      "photoUrl": "https://lh3.googleusercontent.com/a-/AOh14GgqMMWh-yu_Neff4SfMdF5-F8RTIn4IimUv7_Wu=s64",
      "userId": "18401577808228678959"
     },
     "user_tz": -180
    },
    "id": "thKgYQF3URYw"
   },
   "outputs": [],
   "source": [
    "import pandas as pd\n",
    "import numpy as np\n",
    "import matplotlib.pyplot as plt\n",
    "import seaborn as sns\n",
    "\n",
    "sns.set()\n",
    "\n",
    "sns.set_style(\"whitegrid\", {'axes.grid' : False})\n",
    "\n",
    "# from tqdm.notebook import tqdm\n",
    "from tqdm.auto import tqdm"
   ]
  },
  {
   "cell_type": "markdown",
   "id": "enabling-builder",
   "metadata": {
    "id": "-_RBRZ19P7qm"
   },
   "source": [
    "## Data"
   ]
  },
  {
   "cell_type": "code",
   "execution_count": 2,
   "id": "latin-colorado",
   "metadata": {
    "ExecuteTime": {
     "end_time": "2021-05-07T08:30:11.715464Z",
     "start_time": "2021-05-07T08:30:08.108360Z"
    }
   },
   "outputs": [],
   "source": [
    "df = pd.read_csv('data/transactions_train.csv')"
   ]
  },
  {
   "cell_type": "code",
   "execution_count": 3,
   "id": "bearing-thirty",
   "metadata": {
    "ExecuteTime": {
     "end_time": "2021-05-07T08:30:15.040392Z",
     "start_time": "2021-05-07T08:30:11.716678Z"
    }
   },
   "outputs": [],
   "source": [
    "df = df.sort_values(['client_id', 'trans_date'])"
   ]
  },
  {
   "cell_type": "code",
   "execution_count": 4,
   "id": "insured-monitor",
   "metadata": {
    "ExecuteTime": {
     "end_time": "2021-05-07T08:30:15.046300Z",
     "start_time": "2021-05-07T08:30:15.041376Z"
    }
   },
   "outputs": [],
   "source": [
    "bins = pd.read_csv('data/train_target.csv')"
   ]
  },
  {
   "cell_type": "code",
   "execution_count": 5,
   "id": "confirmed-mention",
   "metadata": {
    "ExecuteTime": {
     "end_time": "2021-05-07T08:30:16.106622Z",
     "start_time": "2021-05-07T08:30:15.047259Z"
    }
   },
   "outputs": [],
   "source": [
    "df = pd.merge(df, bins, on='client_id')"
   ]
  },
  {
   "cell_type": "code",
   "execution_count": 6,
   "id": "silent-restaurant",
   "metadata": {
    "ExecuteTime": {
     "end_time": "2021-05-07T08:30:17.506710Z",
     "start_time": "2021-05-07T08:30:16.107713Z"
    }
   },
   "outputs": [
    {
     "name": "stdout",
     "output_type": "stream",
     "text": [
      "before downsampling:\n",
      " client_id        int64\n",
      "trans_date       int64\n",
      "small_group      int64\n",
      "amount_rur     float64\n",
      "bins             int64\n",
      "dtype: object\n",
      "after downsampling:\n",
      " client_id       uint16\n",
      "trans_date      uint16\n",
      "small_group      int16\n",
      "amount_rur     float32\n",
      "bins             int64\n",
      "dtype: object\n"
     ]
    }
   ],
   "source": [
    "print('before downsampling:\\n', df.dtypes)\n",
    "df['client_id'] = pd.to_numeric(df['client_id'], downcast='unsigned')\n",
    "df['trans_date'] = pd.to_numeric(df['trans_date'], downcast='unsigned')\n",
    "df['small_group'] = pd.to_numeric(df['small_group'], downcast='signed')\n",
    "df['amount_rur'] = pd.to_numeric(df['amount_rur'], downcast='float')\n",
    "\n",
    "print('after downsampling:\\n',df.dtypes)"
   ]
  },
  {
   "cell_type": "code",
   "execution_count": 7,
   "id": "complete-distributor",
   "metadata": {
    "ExecuteTime": {
     "end_time": "2021-05-07T08:30:17.511545Z",
     "start_time": "2021-05-07T08:30:17.507877Z"
    }
   },
   "outputs": [],
   "source": [
    "groups = pd.read_csv('data/small_group_description.csv')"
   ]
  },
  {
   "cell_type": "code",
   "execution_count": 8,
   "id": "increasing-rescue",
   "metadata": {
    "ExecuteTime": {
     "end_time": "2021-05-07T08:30:17.588094Z",
     "start_time": "2021-05-07T08:30:17.512838Z"
    }
   },
   "outputs": [],
   "source": [
    "df['weekday'] = df['trans_date'] % 7"
   ]
  },
  {
   "cell_type": "markdown",
   "id": "continental-sodium",
   "metadata": {},
   "source": [
    "## EDA"
   ]
  },
  {
   "cell_type": "code",
   "execution_count": null,
   "id": "enabling-profit",
   "metadata": {
    "ExecuteTime": {
     "end_time": "2021-04-26T11:28:19.816307Z",
     "start_time": "2021-04-26T11:28:19.814009Z"
    }
   },
   "outputs": [],
   "source": [
    "np.random.seed(228)"
   ]
  },
  {
   "cell_type": "code",
   "execution_count": null,
   "id": "cubic-reflection",
   "metadata": {
    "ExecuteTime": {
     "end_time": "2021-04-26T11:28:21.791004Z",
     "start_time": "2021-04-26T11:28:19.817858Z"
    }
   },
   "outputs": [],
   "source": [
    "sns.boxplot(x=df['amount_rur'].sample(1000000))\n",
    "plt.xscale('log')"
   ]
  },
  {
   "cell_type": "code",
   "execution_count": null,
   "id": "aging-denial",
   "metadata": {
    "ExecuteTime": {
     "end_time": "2021-04-26T11:28:23.759516Z",
     "start_time": "2021-04-26T11:28:21.794012Z"
    }
   },
   "outputs": [],
   "source": [
    "sns.boxplot(x=df[df['small_group'] == 1]['amount_rur'])\n",
    "plt.xscale('log')\n",
    "plt.title('Supermarkets transaction amount')"
   ]
  },
  {
   "cell_type": "code",
   "execution_count": 9,
   "id": "weekly-runner",
   "metadata": {
    "ExecuteTime": {
     "end_time": "2021-05-07T08:30:35.334372Z",
     "start_time": "2021-05-07T08:30:33.748692Z"
    }
   },
   "outputs": [
    {
     "data": {
      "text/html": [
       "<div>\n",
       "<style scoped>\n",
       "    .dataframe tbody tr th:only-of-type {\n",
       "        vertical-align: middle;\n",
       "    }\n",
       "\n",
       "    .dataframe tbody tr th {\n",
       "        vertical-align: top;\n",
       "    }\n",
       "\n",
       "    .dataframe thead th {\n",
       "        text-align: right;\n",
       "    }\n",
       "</style>\n",
       "<table border=\"1\" class=\"dataframe\">\n",
       "  <thead>\n",
       "    <tr style=\"text-align: right;\">\n",
       "      <th></th>\n",
       "      <th>mean</th>\n",
       "      <th>count</th>\n",
       "      <th>max</th>\n",
       "      <th>min</th>\n",
       "      <th>small_group</th>\n",
       "      <th>small_group_code</th>\n",
       "    </tr>\n",
       "  </thead>\n",
       "  <tbody>\n",
       "    <tr>\n",
       "      <th>1</th>\n",
       "      <td>41.666897</td>\n",
       "      <td>8131374.0</td>\n",
       "      <td>22447.980469</td>\n",
       "      <td>0.002000</td>\n",
       "      <td>Сетевые супермаркеты и продуктовые магазины</td>\n",
       "      <td>1</td>\n",
       "    </tr>\n",
       "    <tr>\n",
       "      <th>11</th>\n",
       "      <td>21.339022</td>\n",
       "      <td>3202881.0</td>\n",
       "      <td>11515.068359</td>\n",
       "      <td>0.001000</td>\n",
       "      <td>Фастфуд и кафе</td>\n",
       "      <td>11</td>\n",
       "    </tr>\n",
       "    <tr>\n",
       "      <th>3</th>\n",
       "      <td>19.819042</td>\n",
       "      <td>2428984.0</td>\n",
       "      <td>24261.560547</td>\n",
       "      <td>0.001000</td>\n",
       "      <td>Оплата телефона и связи</td>\n",
       "      <td>3</td>\n",
       "    </tr>\n",
       "    <tr>\n",
       "      <th>15</th>\n",
       "      <td>21.617123</td>\n",
       "      <td>1427077.0</td>\n",
       "      <td>13318.199219</td>\n",
       "      <td>0.005000</td>\n",
       "      <td>Несетевые супермаркеты и продуктовые магазины</td>\n",
       "      <td>15</td>\n",
       "    </tr>\n",
       "    <tr>\n",
       "      <th>4</th>\n",
       "      <td>34.616478</td>\n",
       "      <td>1207604.0</td>\n",
       "      <td>38081.308594</td>\n",
       "      <td>0.001000</td>\n",
       "      <td>Аптеки</td>\n",
       "      <td>4</td>\n",
       "    </tr>\n",
       "    <tr>\n",
       "      <th>...</th>\n",
       "      <td>...</td>\n",
       "      <td>...</td>\n",
       "      <td>...</td>\n",
       "      <td>...</td>\n",
       "      <td>...</td>\n",
       "      <td>...</td>\n",
       "    </tr>\n",
       "    <tr>\n",
       "      <th>198</th>\n",
       "      <td>45.794998</td>\n",
       "      <td>1.0</td>\n",
       "      <td>45.794998</td>\n",
       "      <td>45.794998</td>\n",
       "      <td>Услуги починки (металлические изделия)</td>\n",
       "      <td>199</td>\n",
       "    </tr>\n",
       "    <tr>\n",
       "      <th>199</th>\n",
       "      <td>126.484001</td>\n",
       "      <td>1.0</td>\n",
       "      <td>126.484001</td>\n",
       "      <td>126.484001</td>\n",
       "      <td>Телеграф</td>\n",
       "      <td>200</td>\n",
       "    </tr>\n",
       "    <tr>\n",
       "      <th>201</th>\n",
       "      <td>68.968002</td>\n",
       "      <td>1.0</td>\n",
       "      <td>68.968002</td>\n",
       "      <td>68.968002</td>\n",
       "      <td>Бетонные работы</td>\n",
       "      <td>203</td>\n",
       "    </tr>\n",
       "    <tr>\n",
       "      <th>202</th>\n",
       "      <td>NaN</td>\n",
       "      <td>NaN</td>\n",
       "      <td>NaN</td>\n",
       "      <td>NaN</td>\n",
       "      <td>Снегоходы</td>\n",
       "      <td>194</td>\n",
       "    </tr>\n",
       "    <tr>\n",
       "      <th>203</th>\n",
       "      <td>NaN</td>\n",
       "      <td>NaN</td>\n",
       "      <td>NaN</td>\n",
       "      <td>NaN</td>\n",
       "      <td>Мануальные терапевты</td>\n",
       "      <td>201</td>\n",
       "    </tr>\n",
       "  </tbody>\n",
       "</table>\n",
       "<p>204 rows × 6 columns</p>\n",
       "</div>"
      ],
      "text/plain": [
       "           mean      count           max         min  \\\n",
       "1     41.666897  8131374.0  22447.980469    0.002000   \n",
       "11    21.339022  3202881.0  11515.068359    0.001000   \n",
       "3     19.819042  2428984.0  24261.560547    0.001000   \n",
       "15    21.617123  1427077.0  13318.199219    0.005000   \n",
       "4     34.616478  1207604.0  38081.308594    0.001000   \n",
       "..          ...        ...           ...         ...   \n",
       "198   45.794998        1.0     45.794998   45.794998   \n",
       "199  126.484001        1.0    126.484001  126.484001   \n",
       "201   68.968002        1.0     68.968002   68.968002   \n",
       "202         NaN        NaN           NaN         NaN   \n",
       "203         NaN        NaN           NaN         NaN   \n",
       "\n",
       "                                       small_group  small_group_code  \n",
       "1      Сетевые супермаркеты и продуктовые магазины                 1  \n",
       "11                                  Фастфуд и кафе                11  \n",
       "3                          Оплата телефона и связи                 3  \n",
       "15   Несетевые супермаркеты и продуктовые магазины                15  \n",
       "4                                           Аптеки                 4  \n",
       "..                                             ...               ...  \n",
       "198         Услуги починки (металлические изделия)               199  \n",
       "199                                       Телеграф               200  \n",
       "201                                Бетонные работы               203  \n",
       "202                                      Снегоходы               194  \n",
       "203                           Мануальные терапевты               201  \n",
       "\n",
       "[204 rows x 6 columns]"
      ]
     },
     "execution_count": 9,
     "metadata": {},
     "output_type": "execute_result"
    }
   ],
   "source": [
    "tmp = df.groupby('small_group')[['amount_rur']].agg(['mean', 'count', 'max', 'min']).reset_index()\n",
    "tmp.columns =['small_group_code', 'mean', 'count', 'max', 'min']\n",
    "tmp = tmp.set_index('small_group_code')\n",
    "tmp = tmp.join(groups, on='small_group_code', how='outer').reset_index(drop=True)\n",
    "tmp = tmp.sort_values('count', ascending=False)\n",
    "tmp"
   ]
  },
  {
   "cell_type": "code",
   "execution_count": null,
   "id": "false-reducing",
   "metadata": {
    "ExecuteTime": {
     "end_time": "2021-04-26T11:28:28.758793Z",
     "start_time": "2021-04-26T11:28:26.778447Z"
    }
   },
   "outputs": [],
   "source": [
    "mask = df['small_group'] == 1\n",
    "sns.boxplot(x=df[mask]['amount_rur'])\n",
    "plt.xscale('log')"
   ]
  },
  {
   "cell_type": "code",
   "execution_count": null,
   "id": "moved-hybrid",
   "metadata": {
    "ExecuteTime": {
     "end_time": "2021-04-26T11:28:33.329957Z",
     "start_time": "2021-04-26T11:28:28.761406Z"
    }
   },
   "outputs": [],
   "source": [
    "fig, axs = plt.subplots(figsize=(20, 4))\n",
    "\n",
    "sns.barplot(x=list(range(len(tmp))), y=tmp['count'].sort_values(ascending=False));"
   ]
  },
  {
   "cell_type": "code",
   "execution_count": null,
   "id": "amino-undergraduate",
   "metadata": {
    "ExecuteTime": {
     "end_time": "2021-04-26T11:28:33.350321Z",
     "start_time": "2021-04-26T11:28:33.332551Z"
    }
   },
   "outputs": [],
   "source": [
    "quantiles = np.arange(0.1, 1.1, 0.1)\n",
    "counts = [int(tmp['count'].quantile(i)) for i in quantiles]\n",
    "quantiles = pd.DataFrame({'quantile': quantiles, 'count': counts})\n",
    "quantiles"
   ]
  },
  {
   "cell_type": "code",
   "execution_count": null,
   "id": "variable-briefing",
   "metadata": {
    "ExecuteTime": {
     "end_time": "2021-04-26T11:28:33.366948Z",
     "start_time": "2021-04-26T11:28:33.351620Z"
    }
   },
   "outputs": [],
   "source": [
    "tmp = tmp.sort_values('mean', ascending=False)\n",
    "tmp"
   ]
  },
  {
   "cell_type": "code",
   "execution_count": null,
   "id": "communist-marshall",
   "metadata": {
    "ExecuteTime": {
     "end_time": "2021-04-26T11:28:33.383831Z",
     "start_time": "2021-04-26T11:28:33.368397Z"
    }
   },
   "outputs": [],
   "source": [
    "tmp = tmp.sort_values('mean', ascending=False)\n",
    "tmp[:30]"
   ]
  },
  {
   "cell_type": "code",
   "execution_count": null,
   "id": "normal-murray",
   "metadata": {
    "ExecuteTime": {
     "end_time": "2021-04-26T11:28:33.399034Z",
     "start_time": "2021-04-26T11:28:33.385379Z"
    }
   },
   "outputs": [],
   "source": [
    "tmp = tmp.sort_values('max', ascending=False)\n",
    "tmp"
   ]
  },
  {
   "cell_type": "code",
   "execution_count": null,
   "id": "straight-pendant",
   "metadata": {
    "ExecuteTime": {
     "end_time": "2021-04-26T11:28:33.413895Z",
     "start_time": "2021-04-26T11:28:33.400517Z"
    }
   },
   "outputs": [],
   "source": [
    "tmp = tmp.sort_values('min', ascending=False)\n",
    "tmp"
   ]
  },
  {
   "cell_type": "markdown",
   "id": "twenty-astrology",
   "metadata": {},
   "source": [
    "**drop transactions from categories with low number of samples**"
   ]
  },
  {
   "cell_type": "markdown",
   "id": "fifteen-pressure",
   "metadata": {},
   "source": [
    "keep transactions from categories > 0.7 quantile"
   ]
  },
  {
   "cell_type": "code",
   "execution_count": 10,
   "id": "tropical-essence",
   "metadata": {
    "ExecuteTime": {
     "end_time": "2021-05-07T08:30:40.774780Z",
     "start_time": "2021-05-07T08:30:39.926940Z"
    }
   },
   "outputs": [],
   "source": [
    "df = df[df['small_group'].isin(set(tmp[tmp['count'] > 23829]['small_group_code']))]"
   ]
  },
  {
   "cell_type": "markdown",
   "id": "understood-cuisine",
   "metadata": {},
   "source": [
    "## Feature engineering"
   ]
  },
  {
   "cell_type": "markdown",
   "id": "animal-nepal",
   "metadata": {},
   "source": [
    "basically, RFM"
   ]
  },
  {
   "cell_type": "code",
   "execution_count": 11,
   "id": "raised-anger",
   "metadata": {
    "ExecuteTime": {
     "end_time": "2021-05-07T08:30:43.526048Z",
     "start_time": "2021-05-07T08:30:43.521090Z"
    }
   },
   "outputs": [],
   "source": [
    "import gc"
   ]
  },
  {
   "cell_type": "markdown",
   "id": "described-postage",
   "metadata": {},
   "source": [
    "count of small group transactions"
   ]
  },
  {
   "cell_type": "code",
   "execution_count": 12,
   "id": "enhanced-ceremony",
   "metadata": {
    "ExecuteTime": {
     "end_time": "2021-05-07T08:30:45.521209Z",
     "start_time": "2021-05-07T08:30:44.469788Z"
    }
   },
   "outputs": [],
   "source": [
    "tmp = df.groupby(['client_id', 'small_group'])[['amount_rur']].count().reset_index()\n",
    "tmp = tmp.pivot(index='client_id', columns='small_group', values='amount_rur')\n",
    "tmp = tmp.fillna(0)"
   ]
  },
  {
   "cell_type": "code",
   "execution_count": 13,
   "id": "after-tolerance",
   "metadata": {
    "ExecuteTime": {
     "end_time": "2021-05-07T08:30:45.524220Z",
     "start_time": "2021-05-07T08:30:45.522331Z"
    }
   },
   "outputs": [],
   "source": [
    "tmp.columns = [f'group{c}_cnt' for c in tmp.columns]"
   ]
  },
  {
   "cell_type": "code",
   "execution_count": 14,
   "id": "level-officer",
   "metadata": {
    "ExecuteTime": {
     "end_time": "2021-05-07T08:30:45.536602Z",
     "start_time": "2021-05-07T08:30:45.525145Z"
    }
   },
   "outputs": [],
   "source": [
    "client_df = tmp"
   ]
  },
  {
   "cell_type": "markdown",
   "id": "floating-individual",
   "metadata": {},
   "source": [
    "https://stackoverflow.com/questions/14507794/pandas-how-to-flatten-a-hierarchical-index-in-columns"
   ]
  },
  {
   "cell_type": "markdown",
   "id": "behind-soldier",
   "metadata": {},
   "source": [
    "count of transactions by weekday"
   ]
  },
  {
   "cell_type": "code",
   "execution_count": 15,
   "id": "becoming-detective",
   "metadata": {
    "ExecuteTime": {
     "end_time": "2021-05-07T08:30:56.950582Z",
     "start_time": "2021-05-07T08:30:56.105865Z"
    }
   },
   "outputs": [],
   "source": [
    "tmp = df.groupby(['client_id', 'weekday'])[['amount_rur']].count().reset_index()\n",
    "tmp = tmp.pivot(index='client_id', columns='weekday', values='amount_rur')\n",
    "tmp = tmp.fillna(0)"
   ]
  },
  {
   "cell_type": "code",
   "execution_count": 16,
   "id": "tough-grant",
   "metadata": {
    "ExecuteTime": {
     "end_time": "2021-05-07T08:30:56.953440Z",
     "start_time": "2021-05-07T08:30:56.951520Z"
    }
   },
   "outputs": [],
   "source": [
    "tmp.columns = [f'weekday{c}_cnt' for c in tmp.columns]"
   ]
  },
  {
   "cell_type": "code",
   "execution_count": 17,
   "id": "caring-orchestra",
   "metadata": {
    "ExecuteTime": {
     "end_time": "2021-05-07T08:30:56.968691Z",
     "start_time": "2021-05-07T08:30:56.954514Z"
    }
   },
   "outputs": [],
   "source": [
    "client_df = client_df.join(tmp)"
   ]
  },
  {
   "cell_type": "markdown",
   "id": "literary-offense",
   "metadata": {},
   "source": [
    "count of small group transactions by weekday"
   ]
  },
  {
   "cell_type": "code",
   "execution_count": 18,
   "id": "legislative-poultry",
   "metadata": {
    "ExecuteTime": {
     "end_time": "2021-05-07T08:31:03.323507Z",
     "start_time": "2021-05-07T08:31:00.455841Z"
    }
   },
   "outputs": [],
   "source": [
    "tmp = df.groupby(['client_id', 'weekday', 'small_group'])[['amount_rur']].count().reset_index()\n",
    "tmp = tmp.pivot(index='client_id', columns=['small_group', 'weekday'], values='amount_rur')\n",
    "tmp = tmp.fillna(0)"
   ]
  },
  {
   "cell_type": "code",
   "execution_count": 19,
   "id": "special-audio",
   "metadata": {
    "ExecuteTime": {
     "end_time": "2021-05-07T08:31:03.327167Z",
     "start_time": "2021-05-07T08:31:03.324507Z"
    }
   },
   "outputs": [],
   "source": [
    "tmp.columns = [f'group{c1}_weekday{c2}_cnt' for c1, c2 in tmp.columns.values]"
   ]
  },
  {
   "cell_type": "code",
   "execution_count": 20,
   "id": "parental-thumbnail",
   "metadata": {
    "ExecuteTime": {
     "end_time": "2021-05-07T08:31:03.359164Z",
     "start_time": "2021-05-07T08:31:03.328301Z"
    }
   },
   "outputs": [],
   "source": [
    "client_df = client_df.join(tmp)"
   ]
  },
  {
   "cell_type": "markdown",
   "id": "regional-dairy",
   "metadata": {},
   "source": [
    "mean by small group"
   ]
  },
  {
   "cell_type": "code",
   "execution_count": 21,
   "id": "operational-salmon",
   "metadata": {
    "ExecuteTime": {
     "end_time": "2021-05-07T08:31:06.735694Z",
     "start_time": "2021-05-07T08:31:05.675005Z"
    }
   },
   "outputs": [],
   "source": [
    "tmp = df.groupby(['client_id', 'small_group'])[['amount_rur']].mean().reset_index()\n",
    "tmp = tmp.pivot(index='client_id', columns='small_group', values='amount_rur')\n",
    "tmp = tmp.fillna(0)"
   ]
  },
  {
   "cell_type": "code",
   "execution_count": 22,
   "id": "inclusive-conspiracy",
   "metadata": {
    "ExecuteTime": {
     "end_time": "2021-05-07T08:31:06.738738Z",
     "start_time": "2021-05-07T08:31:06.736798Z"
    }
   },
   "outputs": [],
   "source": [
    "tmp.columns = [f'group{i}_mean' for i in tmp.columns]"
   ]
  },
  {
   "cell_type": "code",
   "execution_count": 23,
   "id": "protecting-medicare",
   "metadata": {
    "ExecuteTime": {
     "end_time": "2021-05-07T08:31:06.778190Z",
     "start_time": "2021-05-07T08:31:06.739705Z"
    }
   },
   "outputs": [],
   "source": [
    "client_df = client_df.join(tmp)"
   ]
  },
  {
   "cell_type": "markdown",
   "id": "level-intelligence",
   "metadata": {},
   "source": [
    "mean amount by weekday"
   ]
  },
  {
   "cell_type": "code",
   "execution_count": 24,
   "id": "related-alignment",
   "metadata": {
    "ExecuteTime": {
     "end_time": "2021-05-07T08:31:15.602535Z",
     "start_time": "2021-05-07T08:31:14.733056Z"
    }
   },
   "outputs": [],
   "source": [
    "tmp = df.groupby(['client_id', 'weekday'])[['amount_rur']].mean().reset_index()\n",
    "tmp = tmp.pivot(index='client_id', columns='weekday', values='amount_rur')\n",
    "tmp = tmp.fillna(0)"
   ]
  },
  {
   "cell_type": "code",
   "execution_count": 25,
   "id": "unlimited-thing",
   "metadata": {
    "ExecuteTime": {
     "end_time": "2021-05-07T08:31:15.605627Z",
     "start_time": "2021-05-07T08:31:15.603630Z"
    }
   },
   "outputs": [],
   "source": [
    "tmp.columns = [f'weekday{i}_mean' for i in tmp.columns]"
   ]
  },
  {
   "cell_type": "code",
   "execution_count": 26,
   "id": "juvenile-triumph",
   "metadata": {
    "ExecuteTime": {
     "end_time": "2021-05-07T08:31:15.638910Z",
     "start_time": "2021-05-07T08:31:15.606652Z"
    }
   },
   "outputs": [],
   "source": [
    "client_df = client_df.join(tmp)"
   ]
  },
  {
   "cell_type": "markdown",
   "id": "interesting-membrane",
   "metadata": {},
   "source": [
    "mean amount by small group and weekday"
   ]
  },
  {
   "cell_type": "code",
   "execution_count": 27,
   "id": "quality-whole",
   "metadata": {
    "ExecuteTime": {
     "end_time": "2021-05-07T08:31:21.856480Z",
     "start_time": "2021-05-07T08:31:18.904430Z"
    }
   },
   "outputs": [],
   "source": [
    "tmp = df.groupby(['client_id', 'small_group', 'weekday'])[['amount_rur']].mean().reset_index()\n",
    "tmp = tmp.pivot(index='client_id', columns=['small_group', 'weekday'], values='amount_rur')\n",
    "tmp = tmp.fillna(0)"
   ]
  },
  {
   "cell_type": "code",
   "execution_count": 28,
   "id": "administrative-environment",
   "metadata": {
    "ExecuteTime": {
     "end_time": "2021-05-07T08:31:21.860500Z",
     "start_time": "2021-05-07T08:31:21.857550Z"
    }
   },
   "outputs": [],
   "source": [
    "tmp.columns = [f'group{c1}_weekday{c2}_mean' for c1, c2 in tmp.columns]"
   ]
  },
  {
   "cell_type": "code",
   "execution_count": 29,
   "id": "quick-jimmy",
   "metadata": {
    "ExecuteTime": {
     "end_time": "2021-05-07T08:31:21.907127Z",
     "start_time": "2021-05-07T08:31:21.861786Z"
    }
   },
   "outputs": [],
   "source": [
    "client_df = client_df.join(tmp)"
   ]
  },
  {
   "cell_type": "markdown",
   "id": "changing-music",
   "metadata": {},
   "source": [
    "max/min in each category"
   ]
  },
  {
   "cell_type": "code",
   "execution_count": 30,
   "id": "ecological-hepatitis",
   "metadata": {
    "ExecuteTime": {
     "end_time": "2021-05-07T08:31:25.405024Z",
     "start_time": "2021-05-07T08:31:24.339799Z"
    }
   },
   "outputs": [],
   "source": [
    "tmp = df.groupby(['client_id', 'small_group'])[['amount_rur']].max().reset_index()\n",
    "tmp = tmp.pivot(index='client_id', columns='small_group', values='amount_rur')\n",
    "tmp = tmp.fillna(0)"
   ]
  },
  {
   "cell_type": "code",
   "execution_count": 31,
   "id": "environmental-possession",
   "metadata": {
    "ExecuteTime": {
     "end_time": "2021-05-07T08:31:25.407862Z",
     "start_time": "2021-05-07T08:31:25.406011Z"
    }
   },
   "outputs": [],
   "source": [
    "tmp.columns = [f'group{i}_max' for i in tmp.columns]"
   ]
  },
  {
   "cell_type": "code",
   "execution_count": 32,
   "id": "derived-merit",
   "metadata": {
    "ExecuteTime": {
     "end_time": "2021-05-07T08:31:25.441759Z",
     "start_time": "2021-05-07T08:31:25.408736Z"
    }
   },
   "outputs": [],
   "source": [
    "client_df = client_df.join(tmp)"
   ]
  },
  {
   "cell_type": "code",
   "execution_count": 33,
   "id": "acting-affair",
   "metadata": {
    "ExecuteTime": {
     "end_time": "2021-05-07T08:31:27.326172Z",
     "start_time": "2021-05-07T08:31:26.226162Z"
    }
   },
   "outputs": [],
   "source": [
    "tmp = df.groupby(['client_id', 'small_group'])[['amount_rur']].min().reset_index()\n",
    "tmp = tmp.pivot(index='client_id', columns='small_group', values='amount_rur')\n",
    "tmp = tmp.fillna(0)"
   ]
  },
  {
   "cell_type": "code",
   "execution_count": 34,
   "id": "complete-warner",
   "metadata": {
    "ExecuteTime": {
     "end_time": "2021-05-07T08:31:27.329179Z",
     "start_time": "2021-05-07T08:31:27.327281Z"
    }
   },
   "outputs": [],
   "source": [
    "tmp.columns = [f'group{i}_min' for i in tmp.columns]"
   ]
  },
  {
   "cell_type": "code",
   "execution_count": 35,
   "id": "federal-eight",
   "metadata": {
    "ExecuteTime": {
     "end_time": "2021-05-07T08:31:27.375787Z",
     "start_time": "2021-05-07T08:31:27.330264Z"
    }
   },
   "outputs": [],
   "source": [
    "client_df = client_df.join(tmp)"
   ]
  },
  {
   "cell_type": "markdown",
   "id": "pointed-favor",
   "metadata": {},
   "source": [
    "target"
   ]
  },
  {
   "cell_type": "code",
   "execution_count": 36,
   "id": "recognized-roberts",
   "metadata": {
    "ExecuteTime": {
     "end_time": "2021-05-07T08:31:27.414697Z",
     "start_time": "2021-05-07T08:31:27.376755Z"
    }
   },
   "outputs": [],
   "source": [
    "client_df = client_df.join(bins.set_index('client_id'))"
   ]
  },
  {
   "cell_type": "code",
   "execution_count": 38,
   "id": "offshore-stadium",
   "metadata": {
    "ExecuteTime": {
     "end_time": "2021-05-07T08:32:36.374779Z",
     "start_time": "2021-05-07T08:32:25.338292Z"
    }
   },
   "outputs": [],
   "source": [
    "client_df.to_csv('data/client_df.csv')"
   ]
  },
  {
   "cell_type": "markdown",
   "id": "innocent-bunny",
   "metadata": {},
   "source": [
    "## Models"
   ]
  },
  {
   "cell_type": "code",
   "execution_count": null,
   "id": "rough-alfred",
   "metadata": {
    "ExecuteTime": {
     "end_time": "2021-04-26T11:28:50.586934Z",
     "start_time": "2021-04-26T11:28:50.539093Z"
    }
   },
   "outputs": [],
   "source": [
    "from catboost import CatBoostRegressor, CatBoostClassifier, Pool, cv\n",
    "from sklearn.model_selection import train_test_split\n",
    "from sklearn.metrics import roc_auc_score\n",
    "from sklearn.linear_model import LogisticRegression\n",
    "from sklearn import metrics"
   ]
  },
  {
   "cell_type": "code",
   "execution_count": 40,
   "id": "weird-feedback",
   "metadata": {
    "ExecuteTime": {
     "end_time": "2021-05-07T08:35:40.751099Z",
     "start_time": "2021-05-07T08:35:40.664721Z"
    }
   },
   "outputs": [],
   "source": [
    "X = client_df.drop('bins', axis=1)\n",
    "y = client_df.reset_index()['bins']"
   ]
  },
  {
   "cell_type": "code",
   "execution_count": null,
   "id": "chinese-arcade",
   "metadata": {
    "ExecuteTime": {
     "end_time": "2021-04-26T11:28:50.795038Z",
     "start_time": "2021-04-26T11:28:50.723760Z"
    }
   },
   "outputs": [],
   "source": [
    "X_train, X_valid, y_train, y_valid = train_test_split(\n",
    "    X, y, test_size=0.3, shuffle=False, random_state=228)"
   ]
  },
  {
   "cell_type": "markdown",
   "id": "enabling-symphony",
   "metadata": {},
   "source": [
    "### Log reg"
   ]
  },
  {
   "cell_type": "code",
   "execution_count": null,
   "id": "specific-harmony",
   "metadata": {
    "ExecuteTime": {
     "end_time": "2021-04-26T11:30:05.602252Z",
     "start_time": "2021-04-26T11:28:50.796605Z"
    }
   },
   "outputs": [],
   "source": [
    "logit = LogisticRegression(multi_class='ovr', random_state=228, solver='liblinear')\n",
    "logit.fit(X_train, y_train)"
   ]
  },
  {
   "cell_type": "code",
   "execution_count": null,
   "id": "functioning-enforcement",
   "metadata": {
    "ExecuteTime": {
     "end_time": "2021-04-26T11:30:05.909585Z",
     "start_time": "2021-04-26T11:30:05.604039Z"
    }
   },
   "outputs": [],
   "source": [
    "logit_train_pred = logit.predict_proba(X_train)\n",
    "logit_valid_pred = logit.predict_proba(X_valid)\n",
    "\n",
    "logit_train_pred = logit.predict(X_train)\n",
    "logit_valid_pred = logit.predict(X_valid)"
   ]
  },
  {
   "cell_type": "code",
   "execution_count": null,
   "id": "announced-eagle",
   "metadata": {
    "ExecuteTime": {
     "end_time": "2021-04-26T11:30:05.980275Z",
     "start_time": "2021-04-26T11:30:05.912073Z"
    }
   },
   "outputs": [],
   "source": [
    "print(metrics.classification_report(y_valid, logit.predict(X_valid)))"
   ]
  },
  {
   "cell_type": "code",
   "execution_count": null,
   "id": "desirable-control",
   "metadata": {
    "ExecuteTime": {
     "end_time": "2021-04-26T11:30:05.991765Z",
     "start_time": "2021-04-26T11:30:05.982301Z"
    }
   },
   "outputs": [],
   "source": [
    "cm=metrics.confusion_matrix(y_valid, logit_valid_pred )\n",
    "cm_norm = cm.astype('float') / cm.sum(axis=1)[:, np.newaxis]\n",
    "# for i, r in enumerate(cm_norm):\n",
    "#     r[i] = 0"
   ]
  },
  {
   "cell_type": "code",
   "execution_count": null,
   "id": "hollow-locking",
   "metadata": {
    "ExecuteTime": {
     "end_time": "2021-04-26T11:30:06.167857Z",
     "start_time": "2021-04-26T11:30:05.993414Z"
    }
   },
   "outputs": [],
   "source": [
    "sns.heatmap(cm_norm, annot=True, cmap='magma')"
   ]
  },
  {
   "cell_type": "markdown",
   "id": "practical-bridges",
   "metadata": {},
   "source": [
    "### Catboost"
   ]
  },
  {
   "cell_type": "code",
   "execution_count": null,
   "id": "particular-forth",
   "metadata": {
    "ExecuteTime": {
     "end_time": "2021-04-26T11:30:06.266712Z",
     "start_time": "2021-04-26T11:30:06.169489Z"
    }
   },
   "outputs": [],
   "source": [
    "train_pool = Pool(\n",
    "    X_train, y_train,\n",
    ")\n",
    "val_pool = Pool(\n",
    "    X_valid, y_valid,\n",
    ")"
   ]
  },
  {
   "cell_type": "code",
   "execution_count": null,
   "id": "looking-violin",
   "metadata": {
    "ExecuteTime": {
     "end_time": "2021-04-26T11:30:06.271432Z",
     "start_time": "2021-04-26T11:30:06.268199Z"
    }
   },
   "outputs": [],
   "source": [
    "params = {\n",
    "    #'loss_function': 'Logloss',\n",
    "    'loss_function':'MultiClass',\n",
    "    'custom_metric': ['F1', 'Accuracy'],\n",
    "    'iterations': 400,\n",
    "    'random_seed': 228,\n",
    "    'auto_class_weights': 'Balanced',\n",
    "    #'early_stopping_rounds': 100,\n",
    "    'use_best_model': True,\n",
    "}"
   ]
  },
  {
   "cell_type": "code",
   "execution_count": null,
   "id": "speaking-infection",
   "metadata": {
    "ExecuteTime": {
     "end_time": "2021-04-26T11:30:06.276147Z",
     "start_time": "2021-04-26T11:30:06.273608Z"
    }
   },
   "outputs": [],
   "source": [
    "model = CatBoostClassifier(\n",
    "    **params,\n",
    "    depth=3,\n",
    "    verbose=True,\n",
    "    l2_leaf_reg=3,\n",
    "    learning_rate=0.1\n",
    ")"
   ]
  },
  {
   "cell_type": "code",
   "execution_count": null,
   "id": "accompanied-worship",
   "metadata": {
    "ExecuteTime": {
     "end_time": "2021-04-26T11:30:23.105821Z",
     "start_time": "2021-04-26T11:30:06.278138Z"
    }
   },
   "outputs": [],
   "source": [
    "model.fit(\n",
    "    train_pool,\n",
    "    eval_set=val_pool,\n",
    "    verbose=False, plot=True,\n",
    ");"
   ]
  },
  {
   "cell_type": "code",
   "execution_count": null,
   "id": "chemical-jenny",
   "metadata": {
    "ExecuteTime": {
     "end_time": "2021-04-26T11:30:23.178783Z",
     "start_time": "2021-04-26T11:30:23.107567Z"
    }
   },
   "outputs": [],
   "source": [
    "importances = [(col, imp) for (col, imp) in zip(X_train, model.get_feature_importance(train_pool))]\n",
    "importances = pd.DataFrame(importances, columns=['column', 'importance'])\n",
    "cb_imp = importances.copy()\n",
    "importances = importances.sort_values('importance', ascending=False)"
   ]
  },
  {
   "cell_type": "code",
   "execution_count": null,
   "id": "retained-preview",
   "metadata": {
    "ExecuteTime": {
     "end_time": "2021-04-26T11:30:23.514064Z",
     "start_time": "2021-04-26T11:30:23.180527Z"
    }
   },
   "outputs": [],
   "source": [
    "fig, axs = plt.subplots(figsize=(4, 6))\n",
    "\n",
    "sns.barplot(x='importance',\n",
    "            y='column',\n",
    "            orient='h',\n",
    "            color='green',\n",
    "            data=importances.head(30))"
   ]
  },
  {
   "cell_type": "code",
   "execution_count": null,
   "id": "normal-louisville",
   "metadata": {
    "ExecuteTime": {
     "end_time": "2021-04-26T11:30:23.544519Z",
     "start_time": "2021-04-26T11:30:23.515718Z"
    }
   },
   "outputs": [],
   "source": [
    "y_pred = model.predict(X_valid)[:, 0]"
   ]
  },
  {
   "cell_type": "code",
   "execution_count": null,
   "id": "provincial-soccer",
   "metadata": {
    "ExecuteTime": {
     "end_time": "2021-04-26T11:30:23.562518Z",
     "start_time": "2021-04-26T11:30:23.546378Z"
    }
   },
   "outputs": [],
   "source": [
    "print(metrics.classification_report(y_valid, y_pred))"
   ]
  },
  {
   "cell_type": "code",
   "execution_count": null,
   "id": "atlantic-population",
   "metadata": {
    "ExecuteTime": {
     "end_time": "2021-04-26T11:30:23.572757Z",
     "start_time": "2021-04-26T11:30:23.564316Z"
    }
   },
   "outputs": [],
   "source": [
    "cm=metrics.confusion_matrix(y_valid, y_pred)\n",
    "cm_norm = cm.astype('float') / cm.sum(axis=1)[:, np.newaxis]\n",
    "# for i, r in enumerate(cm_norm):\n",
    "#     r[i] = 0"
   ]
  },
  {
   "cell_type": "code",
   "execution_count": null,
   "id": "prerequisite-vanilla",
   "metadata": {
    "ExecuteTime": {
     "end_time": "2021-04-26T11:30:23.770789Z",
     "start_time": "2021-04-26T11:30:23.574159Z"
    }
   },
   "outputs": [],
   "source": [
    "sns.heatmap(cm_norm, annot=True, cmap='magma')"
   ]
  },
  {
   "cell_type": "markdown",
   "id": "united-bulletin",
   "metadata": {},
   "source": [
    "## Clusterization"
   ]
  },
  {
   "cell_type": "markdown",
   "id": "indonesian-mailman",
   "metadata": {},
   "source": [
    "Кластеризация пользователей на основе handmade признаков обоснование выбора признаков с использованием EDA. Кластеризация пользователей любым способом, который кажется пригодным(с учетом особенностей данных). Визуализация категорий пользователей с использованием алгоритмов понижения размерности данных."
   ]
  },
  {
   "cell_type": "code",
   "execution_count": null,
   "id": "identified-protein",
   "metadata": {
    "ExecuteTime": {
     "end_time": "2021-04-26T11:30:23.774505Z",
     "start_time": "2021-04-26T11:30:23.772580Z"
    }
   },
   "outputs": [],
   "source": [
    "from sklearn.preprocessing import StandardScaler"
   ]
  },
  {
   "cell_type": "code",
   "execution_count": null,
   "id": "civic-digest",
   "metadata": {
    "ExecuteTime": {
     "end_time": "2021-04-26T11:30:23.833262Z",
     "start_time": "2021-04-26T11:30:23.791941Z"
    }
   },
   "outputs": [],
   "source": [
    "X = client_df.drop('bins', axis=1)"
   ]
  },
  {
   "cell_type": "markdown",
   "id": "fitted-coordinate",
   "metadata": {},
   "source": [
    "### UMAP"
   ]
  },
  {
   "cell_type": "code",
   "execution_count": null,
   "id": "portuguese-cocktail",
   "metadata": {
    "ExecuteTime": {
     "end_time": "2021-04-26T11:30:38.179011Z",
     "start_time": "2021-04-26T11:30:29.135123Z"
    }
   },
   "outputs": [],
   "source": [
    "from umap import UMAP"
   ]
  },
  {
   "cell_type": "code",
   "execution_count": null,
   "id": "wrapped-headline",
   "metadata": {
    "ExecuteTime": {
     "end_time": "2021-04-26T11:30:38.794540Z",
     "start_time": "2021-04-26T11:30:38.181262Z"
    }
   },
   "outputs": [],
   "source": [
    "X_scaled = StandardScaler().fit_transform(X)"
   ]
  },
  {
   "cell_type": "code",
   "execution_count": null,
   "id": "resident-training",
   "metadata": {
    "ExecuteTime": {
     "end_time": "2021-04-26T11:30:38.799040Z",
     "start_time": "2021-04-26T11:30:38.796497Z"
    }
   },
   "outputs": [],
   "source": [
    "umap = UMAP(\n",
    "    n_components=2,\n",
    "    init='random',\n",
    "    min_dist=0.5,\n",
    "    random_state=228)"
   ]
  },
  {
   "cell_type": "code",
   "execution_count": null,
   "id": "oriental-wiring",
   "metadata": {
    "ExecuteTime": {
     "end_time": "2021-04-26T11:31:12.722933Z",
     "start_time": "2021-04-26T11:30:38.801007Z"
    }
   },
   "outputs": [],
   "source": [
    "# takes 20 seconds on my pc\n",
    "X_umap = umap.fit_transform(X_scaled)"
   ]
  },
  {
   "cell_type": "code",
   "execution_count": null,
   "id": "sustained-indonesian",
   "metadata": {
    "ExecuteTime": {
     "end_time": "2021-04-26T11:31:12.751759Z",
     "start_time": "2021-04-26T11:31:12.725076Z"
    }
   },
   "outputs": [],
   "source": [
    "df_to_plot = pd.DataFrame(X_umap, columns=['x', 'y'])\n",
    "df_to_plot['bins'] = client_df['bins'].astype(str)"
   ]
  },
  {
   "cell_type": "code",
   "execution_count": null,
   "id": "endless-stretch",
   "metadata": {
    "ExecuteTime": {
     "end_time": "2021-04-26T11:31:13.333483Z",
     "start_time": "2021-04-26T11:31:12.754394Z"
    }
   },
   "outputs": [],
   "source": [
    "fig, axs = plt.subplots(figsize=(10, 8))\n",
    "\n",
    "sns.scatterplot(\n",
    "    x='x', y='y', hue='bins',\n",
    "    data=df_to_plot,\n",
    "    alpha=0.3)\n",
    "\n",
    "plt.title(\"UMAP embedding of the clients\")"
   ]
  },
  {
   "cell_type": "code",
   "execution_count": null,
   "id": "material-ethics",
   "metadata": {
    "ExecuteTime": {
     "end_time": "2021-04-26T11:31:13.338414Z",
     "start_time": "2021-04-26T11:31:13.335165Z"
    }
   },
   "outputs": [],
   "source": [
    "df_to_plot_umap = df_to_plot.copy()"
   ]
  },
  {
   "cell_type": "markdown",
   "id": "amateur-hydrogen",
   "metadata": {
    "ExecuteTime": {
     "end_time": "2021-04-21T13:09:12.612532Z",
     "start_time": "2021-04-21T13:09:12.610343Z"
    }
   },
   "source": [
    "### K-Means"
   ]
  },
  {
   "cell_type": "code",
   "execution_count": null,
   "id": "minus-wednesday",
   "metadata": {
    "ExecuteTime": {
     "end_time": "2021-04-26T11:31:13.358234Z",
     "start_time": "2021-04-26T11:31:13.345355Z"
    }
   },
   "outputs": [],
   "source": [
    "from sklearn.cluster import KMeans"
   ]
  },
  {
   "cell_type": "code",
   "execution_count": null,
   "id": "hybrid-analysis",
   "metadata": {
    "ExecuteTime": {
     "end_time": "2021-04-26T11:31:39.705507Z",
     "start_time": "2021-04-26T11:31:13.359424Z"
    }
   },
   "outputs": [],
   "source": [
    "# 1 min 36 sec\n",
    "inertia = []\n",
    "ks = range(2, 10, 3)\n",
    "for k in ks:\n",
    "    print(k)\n",
    "    kmeans = KMeans(n_clusters=k, random_state=1).fit(X_scaled)\n",
    "    inertia.append(np.sqrt(kmeans.inertia_))"
   ]
  },
  {
   "cell_type": "code",
   "execution_count": null,
   "id": "banned-output",
   "metadata": {
    "ExecuteTime": {
     "end_time": "2021-04-26T11:31:39.932455Z",
     "start_time": "2021-04-26T11:31:39.707564Z"
    }
   },
   "outputs": [],
   "source": [
    "plt.plot(ks, inertia, marker='s');\n",
    "plt.xlabel('$k$')\n",
    "plt.ylabel('$J(C_k)$');"
   ]
  },
  {
   "cell_type": "markdown",
   "id": "shared-costume",
   "metadata": {},
   "source": [
    "4 clusters"
   ]
  },
  {
   "cell_type": "code",
   "execution_count": null,
   "id": "obvious-middle",
   "metadata": {
    "ExecuteTime": {
     "end_time": "2021-04-26T11:31:47.877579Z",
     "start_time": "2021-04-26T11:31:39.934077Z"
    }
   },
   "outputs": [],
   "source": [
    "kmeans = KMeans(n_clusters=4, random_state=1).fit(X_scaled)"
   ]
  },
  {
   "cell_type": "code",
   "execution_count": null,
   "id": "therapeutic-station",
   "metadata": {
    "ExecuteTime": {
     "end_time": "2021-04-26T11:31:47.885638Z",
     "start_time": "2021-04-26T11:31:47.879559Z"
    }
   },
   "outputs": [],
   "source": [
    "pd.Series(kmeans.labels_).value_counts()"
   ]
  },
  {
   "cell_type": "code",
   "execution_count": null,
   "id": "chicken-thomas",
   "metadata": {
    "ExecuteTime": {
     "end_time": "2021-04-26T11:31:47.965500Z",
     "start_time": "2021-04-26T11:31:47.887886Z"
    }
   },
   "outputs": [],
   "source": [
    "# take umap\n",
    "df_to_plot = pd.DataFrame(X_umap, columns=['x', 'y'])\n",
    "df_to_plot['bins'] = client_df['bins'].astype(str)\n",
    "df_to_plot['k-label'] = kmeans.labels_\n",
    "df_to_plot['k-label'] = df_to_plot['k-label'].astype(str)"
   ]
  },
  {
   "cell_type": "code",
   "execution_count": null,
   "id": "third-california",
   "metadata": {
    "ExecuteTime": {
     "end_time": "2021-04-26T11:31:47.970950Z",
     "start_time": "2021-04-26T11:31:47.967747Z"
    }
   },
   "outputs": [],
   "source": [
    "df_to_plot_not_scaled = df_to_plot.copy()"
   ]
  },
  {
   "cell_type": "code",
   "execution_count": null,
   "id": "ordinary-calcium",
   "metadata": {
    "ExecuteTime": {
     "end_time": "2021-04-26T11:31:49.737700Z",
     "start_time": "2021-04-26T11:31:47.973487Z"
    }
   },
   "outputs": [],
   "source": [
    "fig, axs = plt.subplots(figsize=(16, 8))\n",
    "\n",
    "plt.subplot(1, 2, 1)\n",
    "\n",
    "sns.scatterplot(\n",
    "    x='x', y='y', hue='k-label',\n",
    "    data=df_to_plot,\n",
    "    alpha=0.2)\n",
    "plt.title('UMAP representations of K-Means clusters')\n",
    "\n",
    "plt.subplot(1, 2, 2)\n",
    "\n",
    "plt.title('UMAP representations of age groups')\n",
    "\n",
    "sns.scatterplot(\n",
    "    x='x', y='y', hue='bins',\n",
    "    data=df_to_plot_umap,\n",
    "    alpha=0.2)\n",
    "\n",
    "fig.tight_layout()"
   ]
  },
  {
   "cell_type": "markdown",
   "id": "virgin-phase",
   "metadata": {},
   "source": [
    "clusters are tight unlike age bins"
   ]
  }
 ],
 "metadata": {
  "kernelspec": {
   "display_name": "Python 3",
   "language": "python",
   "name": "python3"
  },
  "language_info": {
   "codemirror_mode": {
    "name": "ipython",
    "version": 3
   },
   "file_extension": ".py",
   "mimetype": "text/x-python",
   "name": "python",
   "nbconvert_exporter": "python",
   "pygments_lexer": "ipython3",
   "version": "3.8.6"
  },
  "toc": {
   "base_numbering": 1,
   "nav_menu": {},
   "number_sections": true,
   "sideBar": true,
   "skip_h1_title": true,
   "title_cell": "Table of Contents",
   "title_sidebar": "Contents",
   "toc_cell": true,
   "toc_position": {
    "height": "calc(100% - 180px)",
    "left": "10px",
    "top": "150px",
    "width": "384px"
   },
   "toc_section_display": true,
   "toc_window_display": true
  }
 },
 "nbformat": 4,
 "nbformat_minor": 5
}
