{
 "cells": [
  {
   "cell_type": "markdown",
   "id": "finnish-harris",
   "metadata": {
    "toc": true
   },
   "source": [
    "<h1>Table of Contents<span class=\"tocSkip\"></span></h1>\n",
    "<div class=\"toc\"><ul class=\"toc-item\"><li><span><a href=\"#Tabnet-as-event-encoder\" data-toc-modified-id=\"Tabnet-as-event-encoder-1\"><span class=\"toc-item-num\">1&nbsp;&nbsp;</span>Tabnet as event encoder</a></span></li></ul></div>"
   ]
  },
  {
   "cell_type": "code",
   "execution_count": 1,
   "id": "inner-canada",
   "metadata": {
    "ExecuteTime": {
     "end_time": "2021-05-07T09:17:41.413031Z",
     "start_time": "2021-05-07T09:17:40.866935Z"
    },
    "id": "thKgYQF3URYw"
   },
   "outputs": [],
   "source": [
    "import pandas as pd\n",
    "import numpy as np\n",
    "import matplotlib.pyplot as plt\n",
    "import seaborn as sns\n",
    "\n",
    "sns.set()\n",
    "\n",
    "sns.set_style(\"whitegrid\", {'axes.grid' : False})\n",
    "\n",
    "from tqdm.auto import tqdm"
   ]
  },
  {
   "cell_type": "code",
   "execution_count": 2,
   "id": "sublime-strap",
   "metadata": {
    "ExecuteTime": {
     "end_time": "2021-05-07T09:17:41.424948Z",
     "start_time": "2021-05-07T09:17:41.414048Z"
    }
   },
   "outputs": [],
   "source": [
    "%load_ext autoreload\n",
    "%autoreload 2"
   ]
  },
  {
   "cell_type": "code",
   "execution_count": 3,
   "id": "polar-married",
   "metadata": {
    "ExecuteTime": {
     "end_time": "2021-05-07T09:17:41.811785Z",
     "start_time": "2021-05-07T09:17:41.426114Z"
    },
    "colab": {
     "base_uri": "https://localhost:8080/"
    },
    "id": "UBFRCZowUWGt",
    "outputId": "09cfb931-6126-4fcf-f0b6-d6abfa0d4ba5"
   },
   "outputs": [
    {
     "data": {
      "text/plain": [
       "True"
      ]
     },
     "execution_count": 3,
     "metadata": {},
     "output_type": "execute_result"
    }
   ],
   "source": [
    "import torch\n",
    "torch.cuda.is_available()"
   ]
  },
  {
   "cell_type": "code",
   "execution_count": 4,
   "id": "infectious-providence",
   "metadata": {
    "ExecuteTime": {
     "end_time": "2021-05-07T09:17:41.822892Z",
     "start_time": "2021-05-07T09:17:41.812867Z"
    },
    "colab": {
     "base_uri": "https://localhost:8080/"
    },
    "id": "Q-kXTk-bNPzx",
    "outputId": "7a991cca-3b7a-4ec3-9fa8-ee0b5fce2537"
   },
   "outputs": [
    {
     "name": "stdout",
     "output_type": "stream",
     "text": [
      "cuda:0\n"
     ]
    }
   ],
   "source": [
    "device = torch.device(\"cuda:0\" if torch.cuda.is_available() else \"cpu\")\n",
    "\n",
    "# Assuming that we are on a CUDA machine, this should print a CUDA device:\n",
    "\n",
    "print(device)"
   ]
  },
  {
   "cell_type": "code",
   "execution_count": 5,
   "id": "peaceful-chaos",
   "metadata": {
    "ExecuteTime": {
     "end_time": "2021-05-07T09:17:41.946178Z",
     "start_time": "2021-05-07T09:17:41.824047Z"
    }
   },
   "outputs": [],
   "source": [
    "from pytorch_metric_learning import losses, miners, distances, reducers, samplers\n",
    "import torch.optim as optim\n",
    "from sklearn.model_selection import train_test_split\n",
    "import torch.nn as nn\n",
    "import random\n",
    "from pytorch_tabnet.tab_network import TabNet"
   ]
  },
  {
   "cell_type": "code",
   "execution_count": 6,
   "id": "romantic-brook",
   "metadata": {
    "ExecuteTime": {
     "end_time": "2021-05-07T09:17:41.959710Z",
     "start_time": "2021-05-07T09:17:41.947188Z"
    }
   },
   "outputs": [],
   "source": [
    "from code.dataloader_handmade import AgeGroupHandmadeDataset\n",
    "from code.encoder_tabnet import Encoder\n",
    "from code.decoder import Decoder\n",
    "from code.classifier import Classifier\n",
    "from code.utils import train_ml_model, train_classifier, train_tabnet"
   ]
  },
  {
   "cell_type": "code",
   "execution_count": 25,
   "id": "upset-raising",
   "metadata": {
    "ExecuteTime": {
     "end_time": "2021-05-07T09:44:24.895166Z",
     "start_time": "2021-05-07T09:44:24.882707Z"
    },
    "id": "pm80PCIl79LE"
   },
   "outputs": [],
   "source": [
    "BATCH_SIZE = 64 # BATCH_SIZE unique persons\n",
    "NUM_OF_SUBSEQUENCES = 5\n",
    "SUBSEQUENCE_LENGTH = 90\n",
    "\n",
    "EMBEDDING_DIM = 256\n",
    "LR = 0.002\n",
    "NUM_EPOCHS = 200\n",
    "\n",
    "cat_vocab_sizes = [204]\n",
    "cat_embedding_dim = 20\n",
    "num_input_dim = 4\n",
    "NUM_OBS = 30000"
   ]
  },
  {
   "cell_type": "code",
   "execution_count": 19,
   "id": "available-surname",
   "metadata": {
    "ExecuteTime": {
     "end_time": "2021-05-07T09:26:08.288611Z",
     "start_time": "2021-05-07T09:26:05.497235Z"
    }
   },
   "outputs": [],
   "source": [
    "dataset = AgeGroupHandmadeDataset()"
   ]
  },
  {
   "cell_type": "code",
   "execution_count": 27,
   "id": "linear-trinidad",
   "metadata": {
    "ExecuteTime": {
     "end_time": "2021-05-07T09:44:28.571917Z",
     "start_time": "2021-05-07T09:44:28.553901Z"
    },
    "id": "WxzkX-VZ3zJu"
   },
   "outputs": [],
   "source": [
    "torch.manual_seed(0)\n",
    "random.seed(0)\n",
    "np.random.seed(0)"
   ]
  },
  {
   "cell_type": "code",
   "execution_count": 28,
   "id": "peaceful-diameter",
   "metadata": {
    "ExecuteTime": {
     "end_time": "2021-05-07T09:44:28.853187Z",
     "start_time": "2021-05-07T09:44:28.824530Z"
    },
    "id": "2W-DuPoHuACu"
   },
   "outputs": [],
   "source": [
    "dataloader = torch.utils.data.DataLoader(\n",
    "    dataset, batch_size=BATCH_SIZE,\n",
    "    num_workers=0,\n",
    ")\n",
    "\n",
    "# targets = clfdataset.targets\n",
    "\n",
    "# train_idx, test_idx= train_test_split(\n",
    "#     np.arange(len(targets)),\n",
    "#     test_size=0.3,\n",
    "#     shuffle=True,\n",
    "#     stratify=targets,\n",
    "#     random_state=228\n",
    "# )\n",
    "\n",
    "# train_sampler = torch.utils.data.SubsetRandomSampler(train_idx)\n",
    "# test_sampler = torch.utils.data.SubsetRandomSampler(test_idx)\n",
    "\n",
    "# trainloader = torch.utils.data.DataLoader(\n",
    "#     clfdataset, batch_size=BATCH_SIZE,\n",
    "#     sampler=train_sampler)\n",
    "# testloader = torch.utils.data.DataLoader(\n",
    "#     clfdataset, batch_size=BATCH_SIZE,\n",
    "#     sampler=test_sampler)"
   ]
  },
  {
   "cell_type": "markdown",
   "id": "complex-delight",
   "metadata": {},
   "source": [
    "## Tabnet as event encoder"
   ]
  },
  {
   "cell_type": "code",
   "execution_count": 29,
   "id": "based-morning",
   "metadata": {
    "ExecuteTime": {
     "end_time": "2021-05-07T09:44:29.955027Z",
     "start_time": "2021-05-07T09:44:29.916797Z"
    }
   },
   "outputs": [],
   "source": [
    "LR = 0.002\n",
    "\n",
    "encoder = TabNet(input_dim=dataset[0][0].shape[0],\n",
    "                output_dim=EMBEDDING_DIM,\n",
    "                n_d=8,\n",
    "                n_a=8,\n",
    "                n_steps=3,\n",
    "                gamma=1.3,\n",
    "                cat_idxs=[],\n",
    "                cat_dims=[],\n",
    "                #cat_emb_dim=cat_embedding_dim,\n",
    "                n_independent=2,\n",
    "                n_shared=2,\n",
    "                epsilon=1e-15,\n",
    "                virtual_batch_size=128,\n",
    "                momentum=0.02,\n",
    "                mask_type=\"sparsemax\")\n",
    "\n",
    "encoder.to(device);\n",
    "optimizer = optim.Adam(encoder.parameters(), lr=LR)\n",
    "\n",
    "distance = distances.CosineSimilarity()\n",
    "reducer = reducers.ThresholdReducer(low = 0) # basically, returns average\n",
    "loss_func = losses.TripletMarginLoss(margin = 1000, distance = distance, reducer = reducer)\n",
    "mining_func = miners.TripletMarginMiner(margin = 1000, distance = distance, type_of_triplets = \"all\")"
   ]
  },
  {
   "cell_type": "code",
   "execution_count": 30,
   "id": "unsigned-exploration",
   "metadata": {
    "ExecuteTime": {
     "end_time": "2021-05-07T10:07:49.314018Z",
     "start_time": "2021-05-07T09:44:30.476021Z"
    },
    "scrolled": false
   },
   "outputs": [
    {
     "data": {
      "application/vnd.jupyter.widget-view+json": {
       "model_id": "3a20155d8bfa4d5f8339f150000966cf",
       "version_major": 2,
       "version_minor": 0
      },
      "text/plain": [
       "  0%|          | 0/200 [00:00<?, ?it/s]"
      ]
     },
     "metadata": {},
     "output_type": "display_data"
    },
    {
     "name": "stdout",
     "output_type": "stream",
     "text": [
      "Epoch 0 Loss = 999.9993286132812\n",
      "Epoch 1 Loss = 999.9962768554688\n",
      "Epoch 2 Loss = 999.9564819335938\n",
      "Epoch 3 Loss = 999.8687744140625\n",
      "Epoch 4 Loss = 999.80859375\n",
      "Epoch 5 Loss = 999.7434692382812\n",
      "Epoch 6 Loss = 999.714111328125\n",
      "Epoch 7 Loss = 999.7019653320312\n",
      "Epoch 8 Loss = 999.6814575195312\n",
      "Epoch 9 Loss = 999.6799926757812\n",
      "Epoch 10 Loss = 999.6946411132812\n",
      "Epoch 11 Loss = 999.6915283203125\n",
      "Epoch 12 Loss = 999.6801147460938\n",
      "Epoch 13 Loss = 999.658203125\n",
      "Epoch 14 Loss = 999.6691284179688\n",
      "Epoch 15 Loss = 999.6688842773438\n",
      "Epoch 16 Loss = 999.66455078125\n",
      "Epoch 17 Loss = 999.659912109375\n",
      "Epoch 18 Loss = 999.6807861328125\n",
      "Epoch 19 Loss = 999.6549072265625\n",
      "Epoch 20 Loss = 999.6569213867188\n",
      "Epoch 21 Loss = 999.6578369140625\n",
      "Epoch 22 Loss = 999.6395263671875\n",
      "Epoch 23 Loss = 999.6395263671875\n",
      "Epoch 24 Loss = 999.6446533203125\n",
      "Epoch 25 Loss = 999.6481323242188\n",
      "Epoch 26 Loss = 999.6378784179688\n",
      "Epoch 27 Loss = 999.6517333984375\n",
      "Epoch 28 Loss = 999.6536254882812\n",
      "Epoch 29 Loss = 999.6327514648438\n",
      "Epoch 30 Loss = 999.629150390625\n",
      "Epoch 31 Loss = 999.6314697265625\n",
      "Epoch 32 Loss = 999.644775390625\n",
      "Epoch 33 Loss = 999.6339111328125\n",
      "Epoch 34 Loss = 999.627685546875\n",
      "Epoch 35 Loss = 999.63720703125\n",
      "Epoch 36 Loss = 999.6261596679688\n",
      "Epoch 37 Loss = 999.62646484375\n",
      "Epoch 38 Loss = 999.6258544921875\n",
      "Epoch 39 Loss = 999.6309814453125\n",
      "Epoch 40 Loss = 999.6432495117188\n",
      "Epoch 41 Loss = 999.6331787109375\n",
      "Epoch 42 Loss = 999.62060546875\n",
      "Epoch 43 Loss = 999.6307983398438\n",
      "Epoch 44 Loss = 999.6300048828125\n",
      "Epoch 45 Loss = 999.6220703125\n",
      "Epoch 46 Loss = 999.62548828125\n",
      "Epoch 47 Loss = 999.6373901367188\n",
      "Epoch 48 Loss = 999.649169921875\n",
      "Epoch 49 Loss = 999.6409912109375\n",
      "Epoch 50 Loss = 999.637451171875\n",
      "Epoch 51 Loss = 999.6271362304688\n",
      "Epoch 52 Loss = 999.6063232421875\n",
      "Epoch 53 Loss = 999.6235961914062\n",
      "Epoch 54 Loss = 999.6185302734375\n",
      "Epoch 55 Loss = 999.6171264648438\n",
      "Epoch 56 Loss = 999.6116943359375\n",
      "Epoch 57 Loss = 999.6388549804688\n",
      "Epoch 58 Loss = 999.6405029296875\n",
      "Epoch 59 Loss = 999.6233520507812\n",
      "Epoch 60 Loss = 999.6162719726562\n",
      "Epoch 61 Loss = 999.6136474609375\n",
      "Epoch 62 Loss = 999.6201171875\n",
      "Epoch 63 Loss = 999.6174926757812\n",
      "Epoch 64 Loss = 999.6083374023438\n",
      "Epoch 65 Loss = 999.588623046875\n",
      "Epoch 66 Loss = 999.5856323242188\n",
      "Epoch 67 Loss = 999.5830078125\n",
      "Epoch 68 Loss = 999.5736694335938\n",
      "Epoch 69 Loss = 999.5850219726562\n",
      "Epoch 70 Loss = 999.5721435546875\n",
      "Epoch 71 Loss = 999.5885620117188\n",
      "Epoch 72 Loss = 999.584228515625\n",
      "Epoch 73 Loss = 999.5764770507812\n",
      "Epoch 74 Loss = 999.5863037109375\n",
      "Epoch 75 Loss = 999.5609741210938\n",
      "Epoch 76 Loss = 999.56298828125\n",
      "Epoch 77 Loss = 999.560546875\n",
      "Epoch 78 Loss = 999.55517578125\n",
      "Epoch 79 Loss = 999.5536499023438\n",
      "Epoch 80 Loss = 999.5448608398438\n",
      "Epoch 81 Loss = 999.5504150390625\n",
      "Epoch 82 Loss = 999.5479125976562\n",
      "Epoch 83 Loss = 999.5498657226562\n",
      "Epoch 84 Loss = 999.5479125976562\n",
      "Epoch 85 Loss = 999.5545654296875\n",
      "Epoch 86 Loss = 999.5826416015625\n",
      "Epoch 87 Loss = 999.6109619140625\n",
      "Epoch 88 Loss = 999.5958251953125\n",
      "Epoch 89 Loss = 999.5928344726562\n",
      "Epoch 90 Loss = 999.5852661132812\n",
      "Epoch 91 Loss = 999.5798950195312\n",
      "Epoch 92 Loss = 999.5782470703125\n",
      "Epoch 93 Loss = 999.5640869140625\n",
      "Epoch 94 Loss = 999.582763671875\n",
      "Epoch 95 Loss = 999.558837890625\n",
      "Epoch 96 Loss = 999.5542602539062\n",
      "Epoch 97 Loss = 999.560791015625\n",
      "Epoch 98 Loss = 999.5638427734375\n",
      "Epoch 99 Loss = 999.559326171875\n",
      "Epoch 100 Loss = 999.556640625\n",
      "Epoch 101 Loss = 999.55419921875\n",
      "Epoch 102 Loss = 999.5515747070312\n",
      "Epoch 103 Loss = 999.5593872070312\n",
      "Epoch 104 Loss = 999.5655517578125\n",
      "Epoch 105 Loss = 999.5521850585938\n",
      "Epoch 106 Loss = 999.5464477539062\n",
      "Epoch 107 Loss = 999.5399780273438\n",
      "Epoch 108 Loss = 999.5328979492188\n",
      "Epoch 109 Loss = 999.5303344726562\n",
      "Epoch 110 Loss = 999.5322265625\n",
      "Epoch 111 Loss = 999.535888671875\n",
      "Epoch 112 Loss = 999.5411987304688\n",
      "Epoch 113 Loss = 999.5291748046875\n",
      "Epoch 114 Loss = 999.5252075195312\n",
      "Epoch 115 Loss = 999.5182495117188\n",
      "Epoch 116 Loss = 999.5339965820312\n",
      "Epoch 117 Loss = 999.5330200195312\n",
      "Epoch 118 Loss = 999.5380859375\n",
      "Epoch 119 Loss = 999.5260009765625\n",
      "Epoch 120 Loss = 999.5406494140625\n",
      "Epoch 121 Loss = 999.5327758789062\n",
      "Epoch 122 Loss = 999.532958984375\n",
      "Epoch 123 Loss = 999.5557250976562\n",
      "Epoch 124 Loss = 999.576416015625\n",
      "Epoch 125 Loss = 999.5205078125\n",
      "Epoch 126 Loss = 999.5167236328125\n",
      "Epoch 127 Loss = 999.5313110351562\n",
      "Epoch 128 Loss = 999.5106201171875\n",
      "Epoch 129 Loss = 999.5101928710938\n",
      "Epoch 130 Loss = 999.5017700195312\n",
      "Epoch 131 Loss = 999.4912719726562\n",
      "Epoch 132 Loss = 999.4901123046875\n",
      "Epoch 133 Loss = 999.4945068359375\n",
      "Epoch 134 Loss = 999.491943359375\n",
      "Epoch 135 Loss = 999.5017700195312\n",
      "Epoch 136 Loss = 999.4918823242188\n",
      "Epoch 137 Loss = 999.4966430664062\n",
      "Epoch 138 Loss = 999.4877319335938\n",
      "Epoch 139 Loss = 999.4869995117188\n",
      "Epoch 140 Loss = 999.4754638671875\n",
      "Epoch 141 Loss = 999.47412109375\n",
      "Epoch 142 Loss = 999.46044921875\n",
      "Epoch 143 Loss = 999.4557495117188\n",
      "Epoch 144 Loss = 999.4602661132812\n",
      "Epoch 145 Loss = 999.4696655273438\n",
      "Epoch 146 Loss = 999.470947265625\n",
      "Epoch 147 Loss = 999.4609375\n",
      "Epoch 148 Loss = 999.4576416015625\n",
      "Epoch 149 Loss = 999.4498291015625\n",
      "Epoch 150 Loss = 999.4494018554688\n",
      "Epoch 151 Loss = 999.4515991210938\n",
      "Epoch 152 Loss = 999.4486694335938\n",
      "Epoch 153 Loss = 999.4555053710938\n",
      "Epoch 154 Loss = 999.4473876953125\n",
      "Epoch 155 Loss = 999.4324340820312\n",
      "Epoch 156 Loss = 999.4337768554688\n",
      "Epoch 157 Loss = 999.4382934570312\n",
      "Epoch 158 Loss = 999.4296264648438\n",
      "Epoch 159 Loss = 999.445556640625\n",
      "Epoch 160 Loss = 999.4457397460938\n",
      "Epoch 161 Loss = 999.4314575195312\n",
      "Epoch 162 Loss = 999.4312133789062\n",
      "Epoch 163 Loss = 999.4364624023438\n",
      "Epoch 164 Loss = 999.4345092773438\n",
      "Epoch 165 Loss = 999.4212646484375\n",
      "Epoch 166 Loss = 999.4182739257812\n",
      "Epoch 167 Loss = 999.4144287109375\n",
      "Epoch 168 Loss = 999.4224853515625\n",
      "Epoch 169 Loss = 999.4275512695312\n",
      "Epoch 170 Loss = 999.423828125\n",
      "Epoch 171 Loss = 999.4221801757812\n",
      "Epoch 172 Loss = 999.415771484375\n",
      "Epoch 173 Loss = 999.4132080078125\n",
      "Epoch 174 Loss = 999.4169921875\n",
      "Epoch 175 Loss = 999.4069213867188\n",
      "Epoch 176 Loss = 999.4055786132812\n",
      "Epoch 177 Loss = 999.4098510742188\n",
      "Epoch 178 Loss = 999.4224853515625\n",
      "Epoch 179 Loss = 999.4205932617188\n",
      "Epoch 180 Loss = 999.4091186523438\n",
      "Epoch 181 Loss = 999.4092407226562\n",
      "Epoch 182 Loss = 999.4014892578125\n",
      "Epoch 183 Loss = 999.3984375\n",
      "Epoch 184 Loss = 999.3975219726562\n",
      "Epoch 185 Loss = 999.4010620117188\n",
      "Epoch 186 Loss = 999.39306640625\n",
      "Epoch 187 Loss = 999.404541015625\n",
      "Epoch 188 Loss = 999.4044799804688\n",
      "Epoch 189 Loss = 999.392578125\n",
      "Epoch 190 Loss = 999.3836059570312\n",
      "Epoch 191 Loss = 999.384521484375\n",
      "Epoch 192 Loss = 999.3779296875\n",
      "Epoch 193 Loss = 999.377197265625\n",
      "Epoch 194 Loss = 999.3854370117188\n",
      "Epoch 195 Loss = 999.395263671875\n",
      "Epoch 196 Loss = 999.3900756835938\n",
      "Epoch 197 Loss = 999.3873901367188\n",
      "Epoch 198 Loss = 999.3777465820312\n",
      "Epoch 199 Loss = 999.380615234375\n"
     ]
    }
   ],
   "source": [
    "train_losses = train_tabnet(\n",
    "    encoder, NUM_EPOCHS, dataloader,\n",
    "    mining_func, loss_func, optimizer)"
   ]
  },
  {
   "cell_type": "code",
   "execution_count": 32,
   "id": "aware-render",
   "metadata": {
    "ExecuteTime": {
     "end_time": "2021-05-07T11:24:06.648813Z",
     "start_time": "2021-05-07T11:24:06.471698Z"
    }
   },
   "outputs": [
    {
     "data": {
      "image/png": "[encoded data removed]",
      "text/plain": [
       "<Figure size 864x432 with 1 Axes>"
      ]
     },
     "metadata": {},
     "output_type": "display_data"
    }
   ],
   "source": [
    "fig, axs = plt.subplots(figsize=(12, 6))\n",
    "\n",
    "plt.plot(train_losses, label='train')\n",
    "plt.xlabel('iter')\n",
    "plt.ylabel('loss');\n",
    "plt.savefig(f'plots/ML_tabnet_{EMBEDDING_DIM}_{NUM_OBS}_{NUM_EPOCHS}.png')"
   ]
  },
  {
   "cell_type": "code",
   "execution_count": null,
   "id": "geological-training",
   "metadata": {},
   "outputs": [],
   "source": []
  },
  {
   "cell_type": "code",
   "execution_count": null,
   "id": "gorgeous-league",
   "metadata": {},
   "outputs": [],
   "source": []
  }
 ],
 "metadata": {
  "kernelspec": {
   "display_name": "Python 3",
   "language": "python",
   "name": "python3"
  },
  "language_info": {
   "codemirror_mode": {
    "name": "ipython",
    "version": 3
   },
   "file_extension": ".py",
   "mimetype": "text/x-python",
   "name": "python",
   "nbconvert_exporter": "python",
   "pygments_lexer": "ipython3",
   "version": "3.8.6"
  },
  "toc": {
   "base_numbering": 1,
   "nav_menu": {},
   "number_sections": true,
   "sideBar": true,
   "skip_h1_title": true,
   "title_cell": "Table of Contents",
   "title_sidebar": "Contents",
   "toc_cell": true,
   "toc_position": {},
   "toc_section_display": true,
   "toc_window_display": false
  }
 },
 "nbformat": 4,
 "nbformat_minor": 5
}
