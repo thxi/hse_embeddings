{
 "cells": [
  {
   "cell_type": "markdown",
   "id": "finnish-harris",
   "metadata": {
    "toc": true
   },
   "source": [
    "<h1>Table of Contents<span class=\"tocSkip\"></span></h1>\n",
    "<div class=\"toc\"><ul class=\"toc-item\"><li><span><a href=\"#Tabnet-on-handmade\" data-toc-modified-id=\"Tabnet-on-handmade-1\"><span class=\"toc-item-num\">1&nbsp;&nbsp;</span>Tabnet on handmade</a></span></li></ul></div>"
   ]
  },
  {
   "cell_type": "code",
   "execution_count": 1,
   "id": "inner-canada",
   "metadata": {
    "ExecuteTime": {
     "end_time": "2021-05-18T12:37:57.457913Z",
     "start_time": "2021-05-18T12:37:56.665159Z"
    },
    "id": "thKgYQF3URYw"
   },
   "outputs": [],
   "source": [
    "import pandas as pd\n",
    "import numpy as np\n",
    "import matplotlib.pyplot as plt\n",
    "import seaborn as sns\n",
    "\n",
    "sns.set()\n",
    "\n",
    "sns.set_style(\"whitegrid\", {'axes.grid' : False})\n",
    "\n",
    "from tqdm.auto import tqdm"
   ]
  },
  {
   "cell_type": "code",
   "execution_count": 2,
   "id": "sublime-strap",
   "metadata": {
    "ExecuteTime": {
     "end_time": "2021-05-18T12:37:57.474001Z",
     "start_time": "2021-05-18T12:37:57.459319Z"
    }
   },
   "outputs": [],
   "source": [
    "%load_ext autoreload\n",
    "%autoreload 2"
   ]
  },
  {
   "cell_type": "code",
   "execution_count": 3,
   "id": "polar-married",
   "metadata": {
    "ExecuteTime": {
     "end_time": "2021-05-18T12:37:57.962072Z",
     "start_time": "2021-05-18T12:37:57.475669Z"
    },
    "colab": {
     "base_uri": "https://localhost:8080/"
    },
    "id": "UBFRCZowUWGt",
    "outputId": "09cfb931-6126-4fcf-f0b6-d6abfa0d4ba5"
   },
   "outputs": [
    {
     "data": {
      "text/plain": [
       "True"
      ]
     },
     "execution_count": 3,
     "metadata": {},
     "output_type": "execute_result"
    }
   ],
   "source": [
    "import torch\n",
    "torch.cuda.is_available()"
   ]
  },
  {
   "cell_type": "code",
   "execution_count": 4,
   "id": "infectious-providence",
   "metadata": {
    "ExecuteTime": {
     "end_time": "2021-05-18T12:37:57.978126Z",
     "start_time": "2021-05-18T12:37:57.963971Z"
    },
    "colab": {
     "base_uri": "https://localhost:8080/"
    },
    "id": "Q-kXTk-bNPzx",
    "outputId": "7a991cca-3b7a-4ec3-9fa8-ee0b5fce2537"
   },
   "outputs": [
    {
     "name": "stdout",
     "output_type": "stream",
     "text": [
      "cuda:0\n"
     ]
    }
   ],
   "source": [
    "device = torch.device(\"cuda:0\" if torch.cuda.is_available() else \"cpu\")\n",
    "\n",
    "# Assuming that we are on a CUDA machine, this should print a CUDA device:\n",
    "\n",
    "print(device)"
   ]
  },
  {
   "cell_type": "code",
   "execution_count": 5,
   "id": "peaceful-chaos",
   "metadata": {
    "ExecuteTime": {
     "end_time": "2021-05-18T12:37:58.134831Z",
     "start_time": "2021-05-18T12:37:57.979497Z"
    }
   },
   "outputs": [],
   "source": [
    "from pytorch_metric_learning import losses, miners, distances, reducers, samplers\n",
    "import torch.optim as optim\n",
    "from sklearn.model_selection import train_test_split\n",
    "import torch.nn as nn\n",
    "import random\n",
    "from pytorch_tabnet.tab_network import TabNet"
   ]
  },
  {
   "cell_type": "code",
   "execution_count": 6,
   "id": "romantic-brook",
   "metadata": {
    "ExecuteTime": {
     "end_time": "2021-05-18T12:37:58.152433Z",
     "start_time": "2021-05-18T12:37:58.136001Z"
    }
   },
   "outputs": [],
   "source": [
    "from code.dataloader_handmade import AgeGroupHandmadeDataset\n",
    "from code.encoder_tabnet import Encoder\n",
    "from code.decoder import Decoder\n",
    "from code.classifier import Classifier\n",
    "from code.utils import train_ml_model, train_classifier, train_tabnet"
   ]
  },
  {
   "cell_type": "code",
   "execution_count": 7,
   "id": "upset-raising",
   "metadata": {
    "ExecuteTime": {
     "end_time": "2021-05-18T12:37:58.167145Z",
     "start_time": "2021-05-18T12:37:58.153460Z"
    },
    "id": "pm80PCIl79LE"
   },
   "outputs": [],
   "source": [
    "BATCH_SIZE = 64 # BATCH_SIZE unique persons\n",
    "NUM_OF_SUBSEQUENCES = 5\n",
    "SUBSEQUENCE_LENGTH = 90\n",
    "\n",
    "EMBEDDING_DIM = 10\n",
    "LR = 0.002\n",
    "NUM_EPOCHS = 10\n",
    "\n",
    "cat_vocab_sizes = [204]\n",
    "cat_embedding_dim = 20\n",
    "num_input_dim = 4\n",
    "NUM_OBS = 30000\n",
    "SCHEDULER_EPOCHS = 2"
   ]
  },
  {
   "cell_type": "code",
   "execution_count": 8,
   "id": "available-surname",
   "metadata": {
    "ExecuteTime": {
     "end_time": "2021-05-18T12:38:02.022206Z",
     "start_time": "2021-05-18T12:37:58.168899Z"
    }
   },
   "outputs": [],
   "source": [
    "dataset = AgeGroupHandmadeDataset()"
   ]
  },
  {
   "cell_type": "code",
   "execution_count": 9,
   "id": "linear-trinidad",
   "metadata": {
    "ExecuteTime": {
     "end_time": "2021-05-18T12:38:02.037108Z",
     "start_time": "2021-05-18T12:38:02.023337Z"
    },
    "id": "WxzkX-VZ3zJu"
   },
   "outputs": [],
   "source": [
    "torch.manual_seed(0)\n",
    "random.seed(0)\n",
    "np.random.seed(0)"
   ]
  },
  {
   "cell_type": "code",
   "execution_count": 10,
   "id": "peaceful-diameter",
   "metadata": {
    "ExecuteTime": {
     "end_time": "2021-05-18T12:38:02.061026Z",
     "start_time": "2021-05-18T12:38:02.038239Z"
    },
    "id": "2W-DuPoHuACu"
   },
   "outputs": [],
   "source": [
    "dataloader = torch.utils.data.DataLoader(\n",
    "    dataset, batch_size=BATCH_SIZE,\n",
    "    num_workers=0,\n",
    ")\n",
    "\n",
    "targets = dataset.y\n",
    "\n",
    "train_idx, test_idx= train_test_split(\n",
    "    np.arange(len(targets)),\n",
    "    test_size=0.3,\n",
    "    shuffle=True,\n",
    "    stratify=targets,\n",
    "    random_state=228\n",
    ")\n",
    "\n",
    "train_sampler = torch.utils.data.SubsetRandomSampler(train_idx)\n",
    "test_sampler = torch.utils.data.SubsetRandomSampler(test_idx)\n",
    "\n",
    "trainloader = torch.utils.data.DataLoader(\n",
    "    dataset, batch_size=BATCH_SIZE,\n",
    "    sampler=train_sampler)\n",
    "testloader = torch.utils.data.DataLoader(\n",
    "    dataset, batch_size=BATCH_SIZE,\n",
    "    sampler=test_sampler)"
   ]
  },
  {
   "cell_type": "markdown",
   "id": "hispanic-forward",
   "metadata": {},
   "source": [
    "## Tabnet on handmade"
   ]
  },
  {
   "cell_type": "code",
   "execution_count": 11,
   "id": "electronic-customer",
   "metadata": {
    "ExecuteTime": {
     "end_time": "2021-05-18T12:38:02.076462Z",
     "start_time": "2021-05-18T12:38:02.062306Z"
    }
   },
   "outputs": [],
   "source": [
    "from code.classifier_tabnet import Classifier"
   ]
  },
  {
   "cell_type": "code",
   "execution_count": 12,
   "id": "christian-equipment",
   "metadata": {
    "ExecuteTime": {
     "end_time": "2021-05-18T12:38:02.110971Z",
     "start_time": "2021-05-18T12:38:02.077622Z"
    }
   },
   "outputs": [],
   "source": [
    "clf = Classifier(\n",
    "    input_dim=dataset.X.shape[1],\n",
    "    embedding_dim=EMBEDDING_DIM,\n",
    "    out_dim=4,\n",
    ")"
   ]
  },
  {
   "cell_type": "code",
   "execution_count": 13,
   "id": "stainless-kinase",
   "metadata": {
    "ExecuteTime": {
     "end_time": "2021-05-18T12:38:03.988423Z",
     "start_time": "2021-05-18T12:38:02.112144Z"
    }
   },
   "outputs": [],
   "source": [
    "clf.to(device);"
   ]
  },
  {
   "cell_type": "code",
   "execution_count": 14,
   "id": "cleared-boston",
   "metadata": {
    "ExecuteTime": {
     "end_time": "2021-05-18T12:38:04.002818Z",
     "start_time": "2021-05-18T12:38:03.989433Z"
    }
   },
   "outputs": [],
   "source": [
    "NUM_EPOCHS = 30\n",
    "LR = 0.02"
   ]
  },
  {
   "cell_type": "code",
   "execution_count": 15,
   "id": "handmade-justice",
   "metadata": {
    "ExecuteTime": {
     "end_time": "2021-05-18T12:38:04.019226Z",
     "start_time": "2021-05-18T12:38:04.003929Z"
    }
   },
   "outputs": [],
   "source": [
    "optimizer = optim.Adam(clf.parameters(), lr=LR)\n",
    "criterion = nn.CrossEntropyLoss()\n",
    "scheduler = optim.lr_scheduler.ReduceLROnPlateau(\n",
    "    optimizer,\n",
    "    patience=SCHEDULER_EPOCHS,\n",
    ")"
   ]
  },
  {
   "cell_type": "code",
   "execution_count": 16,
   "id": "electric-judgment",
   "metadata": {
    "ExecuteTime": {
     "end_time": "2021-05-18T12:38:04.034434Z",
     "start_time": "2021-05-18T12:38:04.020404Z"
    }
   },
   "outputs": [],
   "source": [
    "train_losses = []\n",
    "train_accuracy = []\n",
    "val_losses = []\n",
    "val_accuracy = []"
   ]
  },
  {
   "cell_type": "code",
   "execution_count": null,
   "id": "returning-standing",
   "metadata": {
    "ExecuteTime": {
     "start_time": "2021-05-18T12:37:56.712Z"
    },
    "scrolled": true
   },
   "outputs": [
    {
     "data": {
      "application/vnd.jupyter.widget-view+json": {
       "model_id": "dedc303a0cb841699d0c6751b9674933",
       "version_major": 2,
       "version_minor": 0
      },
      "text/plain": [
       "  0%|          | 0/30 [00:00<?, ?it/s]"
      ]
     },
     "metadata": {},
     "output_type": "display_data"
    },
    {
     "name": "stdout",
     "output_type": "stream",
     "text": [
      "Epoch 0, train acc: 0.31785714626312256, val acc: 0.3687777817249298\n",
      "train loss: 1.3635399341583252; val loss: 1.3129692077636719\n",
      "Epoch 1, train acc: 0.3692857027053833, val acc: 0.3243333399295807\n",
      "train loss: 1.313274621963501; val loss: 1.326460599899292\n",
      "Epoch 2, train acc: 0.38309523463249207, val acc: 0.3627777695655823\n",
      "train loss: 1.2941408157348633; val loss: 1.3012179136276245\n",
      "Epoch 3, train acc: 0.39361903071403503, val acc: 0.410444438457489\n",
      "train loss: 1.2620761394500732; val loss: 1.2573271989822388\n",
      "Epoch 4, train acc: 0.42766666412353516, val acc: 0.4144444465637207\n",
      "train loss: 1.2203360795974731; val loss: 1.2404489517211914\n",
      "Epoch 5, train acc: 0.44342857599258423, val acc: 0.43433332443237305\n",
      "train loss: 1.1979565620422363; val loss: 1.200209379196167\n",
      "Epoch 6, train acc: 0.45961904525756836, val acc: 0.4735555648803711\n",
      "train loss: 1.1728606224060059; val loss: 1.1518391370773315\n",
      "Epoch 7, train acc: 0.47004762291908264, val acc: 0.48455557227134705\n",
      "train loss: 1.1426576375961304; val loss: 1.1341633796691895\n",
      "Epoch 8, train acc: 0.4884285628795624, val acc: 0.4082222282886505\n",
      "train loss: 1.1135127544403076; val loss: 1.3553481101989746\n",
      "Epoch 9, train acc: 0.4773809611797333, val acc: 0.4880000054836273\n",
      "train loss: 1.1393749713897705; val loss: 1.1141725778579712\n",
      "Epoch 10, train acc: 0.5021904706954956, val acc: 0.5106666684150696\n",
      "train loss: 1.0805833339691162; val loss: 1.070390224456787\n",
      "Epoch 11, train acc: 0.5218095183372498, val acc: 0.5106666684150696\n",
      "train loss: 1.0404759645462036; val loss: 1.071938395500183\n",
      "Epoch 12, train acc: 0.5219523906707764, val acc: 0.5103333592414856\n",
      "train loss: 1.0512274503707886; val loss: 1.0876384973526\n",
      "Epoch 13, train acc: 0.534761905670166, val acc: 0.5273333191871643\n",
      "train loss: 1.032778263092041; val loss: 1.0328330993652344\n",
      "Epoch 14, train acc: 0.5470952391624451, val acc: 0.5355555415153503\n",
      "train loss: 1.0111159086227417; val loss: 1.0130434036254883\n",
      "Epoch 15, train acc: 0.5451904535293579, val acc: 0.5454444289207458\n",
      "train loss: 1.0053232908248901; val loss: 1.007474660873413\n"
     ]
    }
   ],
   "source": [
    "for epoch in tqdm(range(NUM_EPOCHS)):\n",
    "    clf.train()\n",
    "    correct = 0\n",
    "    total = 0\n",
    "    epoch_losses = []\n",
    "    for (sequences, labels) in trainloader:\n",
    "        sequences = sequences.to(device)\n",
    "        labels = labels.to(device)\n",
    "\n",
    "        outputs = clf(sequences)\n",
    "        loss = criterion(outputs, labels)\n",
    "\n",
    "        optimizer.zero_grad()\n",
    "        loss.backward()\n",
    "        optimizer.step()\n",
    "\n",
    "        pred_labels = torch.argmax(outputs, dim=1)\n",
    "        correct += sum(labels == pred_labels)\n",
    "        total += len(sequences)\n",
    "        epoch_losses.append(loss.item())\n",
    "\n",
    "    train_acc = correct / total\n",
    "    epoch_loss = torch.tensor(epoch_losses).mean()\n",
    "    train_losses.append(epoch_loss)\n",
    "    train_accuracy.append(train_acc.item())\n",
    "\n",
    "    clf.eval()\n",
    "    correct = 0\n",
    "    total = 0\n",
    "    epoch_val_losses = []\n",
    "    for sequences, labels in testloader:\n",
    "        sequences = sequences.to(device)\n",
    "        labels = labels.to(device)\n",
    "\n",
    "        with torch.no_grad():\n",
    "            outputs = clf(sequences)\n",
    "            loss = criterion(outputs, labels)\n",
    "\n",
    "            pred_labels = torch.argmax(outputs, dim=1)\n",
    "            correct += sum(labels == pred_labels)\n",
    "            total += len(sequences)\n",
    "            epoch_val_losses.append(loss.item())\n",
    "\n",
    "    val_acc = correct / total\n",
    "    epoch_val_loss = torch.tensor(epoch_val_losses).mean()\n",
    "    val_losses.append(epoch_val_loss)\n",
    "    val_accuracy.append(val_acc.item())\n",
    "\n",
    "    scheduler.step(epoch_val_loss)\n",
    "\n",
    "    print(f'Epoch {epoch}, train acc: {train_acc}, val acc: {val_acc}')\n",
    "    print(f'train loss: {epoch_loss}; val loss: {epoch_val_loss}')"
   ]
  },
  {
   "cell_type": "code",
   "execution_count": null,
   "id": "independent-brass",
   "metadata": {
    "ExecuteTime": {
     "end_time": "2021-05-18T12:36:57.943231Z",
     "start_time": "2021-05-18T12:36:57.343157Z"
    }
   },
   "outputs": [],
   "source": [
    "fig, axs = plt.subplots(figsize=(12, 6))\n",
    "\n",
    "plt.subplot(1, 2, 1)\n",
    "plt.plot(train_losses, label='train')\n",
    "plt.plot(val_losses, label='validation')\n",
    "plt.xlabel('iter')\n",
    "plt.ylabel('loss')\n",
    "plt.legend()\n",
    "\n",
    "plt.subplot(1, 2, 2)\n",
    "plt.xlabel('iter')\n",
    "plt.ylabel('accuracy');\n",
    "plt.plot(train_accuracy, label='train')\n",
    "plt.plot(val_accuracy, label='validation')\n",
    "plt.legend()\n",
    "\n",
    "plt.savefig(f'plots/tabnet_handmade_{EMBEDDING_DIM}_{NUM_EPOCHS}.png')"
   ]
  },
  {
   "cell_type": "code",
   "execution_count": null,
   "id": "comparable-delaware",
   "metadata": {
    "ExecuteTime": {
     "end_time": "2021-05-18T12:36:57.966824Z",
     "start_time": "2021-05-18T12:36:57.944640Z"
    }
   },
   "outputs": [],
   "source": [
    "val_accuracy[-1]"
   ]
  },
  {
   "cell_type": "code",
   "execution_count": null,
   "id": "geological-training",
   "metadata": {},
   "outputs": [],
   "source": []
  },
  {
   "cell_type": "code",
   "execution_count": null,
   "id": "gorgeous-league",
   "metadata": {},
   "outputs": [],
   "source": []
  }
 ],
 "metadata": {
  "kernelspec": {
   "display_name": "Python 3",
   "language": "python",
   "name": "python3"
  },
  "language_info": {
   "codemirror_mode": {
    "name": "ipython",
    "version": 3
   },
   "file_extension": ".py",
   "mimetype": "text/x-python",
   "name": "python",
   "nbconvert_exporter": "python",
   "pygments_lexer": "ipython3",
   "version": "3.8.9"
  },
  "toc": {
   "base_numbering": 1,
   "nav_menu": {
    "height": "400px",
    "width": "209px"
   },
   "number_sections": true,
   "sideBar": true,
   "skip_h1_title": true,
   "title_cell": "Table of Contents",
   "title_sidebar": "Contents",
   "toc_cell": true,
   "toc_position": {},
   "toc_section_display": true,
   "toc_window_display": false
  }
 },
 "nbformat": 4,
 "nbformat_minor": 5
}
