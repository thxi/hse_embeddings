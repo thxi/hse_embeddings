{
 "cells": [
  {
   "cell_type": "markdown",
   "id": "finnish-harris",
   "metadata": {
    "toc": true
   },
   "source": [
    "<h1>Table of Contents<span class=\"tocSkip\"></span></h1>\n",
    "<div class=\"toc\"><ul class=\"toc-item\"><li><span><a href=\"#Tabnet-on-handmade\" data-toc-modified-id=\"Tabnet-on-handmade-1\"><span class=\"toc-item-num\">1&nbsp;&nbsp;</span>Tabnet on handmade</a></span></li></ul></div>"
   ]
  },
  {
   "cell_type": "code",
   "execution_count": 1,
   "id": "inner-canada",
   "metadata": {
    "ExecuteTime": {
     "end_time": "2021-05-18T12:45:44.744448Z",
     "start_time": "2021-05-18T12:45:44.020045Z"
    },
    "id": "thKgYQF3URYw"
   },
   "outputs": [],
   "source": [
    "import pandas as pd\n",
    "import numpy as np\n",
    "import matplotlib.pyplot as plt\n",
    "import seaborn as sns\n",
    "\n",
    "sns.set()\n",
    "\n",
    "sns.set_style(\"whitegrid\", {'axes.grid' : False})\n",
    "\n",
    "from tqdm.auto import tqdm"
   ]
  },
  {
   "cell_type": "code",
   "execution_count": 2,
   "id": "sublime-strap",
   "metadata": {
    "ExecuteTime": {
     "end_time": "2021-05-18T12:45:44.759316Z",
     "start_time": "2021-05-18T12:45:44.745608Z"
    }
   },
   "outputs": [],
   "source": [
    "%load_ext autoreload\n",
    "%autoreload 2"
   ]
  },
  {
   "cell_type": "code",
   "execution_count": 3,
   "id": "polar-married",
   "metadata": {
    "ExecuteTime": {
     "end_time": "2021-05-18T12:45:45.242227Z",
     "start_time": "2021-05-18T12:45:44.760722Z"
    },
    "colab": {
     "base_uri": "https://localhost:8080/"
    },
    "id": "UBFRCZowUWGt",
    "outputId": "09cfb931-6126-4fcf-f0b6-d6abfa0d4ba5"
   },
   "outputs": [
    {
     "data": {
      "text/plain": [
       "True"
      ]
     },
     "execution_count": 3,
     "metadata": {},
     "output_type": "execute_result"
    }
   ],
   "source": [
    "import torch\n",
    "torch.cuda.is_available()"
   ]
  },
  {
   "cell_type": "code",
   "execution_count": 4,
   "id": "infectious-providence",
   "metadata": {
    "ExecuteTime": {
     "end_time": "2021-05-18T12:45:45.255765Z",
     "start_time": "2021-05-18T12:45:45.243561Z"
    },
    "colab": {
     "base_uri": "https://localhost:8080/"
    },
    "id": "Q-kXTk-bNPzx",
    "outputId": "7a991cca-3b7a-4ec3-9fa8-ee0b5fce2537"
   },
   "outputs": [
    {
     "name": "stdout",
     "output_type": "stream",
     "text": [
      "cuda:0\n"
     ]
    }
   ],
   "source": [
    "device = torch.device(\"cuda:0\" if torch.cuda.is_available() else \"cpu\")\n",
    "\n",
    "# Assuming that we are on a CUDA machine, this should print a CUDA device:\n",
    "\n",
    "print(device)"
   ]
  },
  {
   "cell_type": "code",
   "execution_count": 5,
   "id": "peaceful-chaos",
   "metadata": {
    "ExecuteTime": {
     "end_time": "2021-05-18T12:45:45.403956Z",
     "start_time": "2021-05-18T12:45:45.257266Z"
    }
   },
   "outputs": [],
   "source": [
    "from pytorch_metric_learning import losses, miners, distances, reducers, samplers\n",
    "import torch.optim as optim\n",
    "from sklearn.model_selection import train_test_split\n",
    "import torch.nn as nn\n",
    "import random\n",
    "from pytorch_tabnet.tab_network import TabNet"
   ]
  },
  {
   "cell_type": "code",
   "execution_count": 6,
   "id": "romantic-brook",
   "metadata": {
    "ExecuteTime": {
     "end_time": "2021-05-18T12:45:45.421012Z",
     "start_time": "2021-05-18T12:45:45.405163Z"
    }
   },
   "outputs": [],
   "source": [
    "from code.dataloader_handmade import AgeGroupHandmadeDataset\n",
    "from code.encoder_tabnet import Encoder\n",
    "from code.decoder import Decoder\n",
    "from code.classifier import Classifier\n",
    "from code.utils import train_ml_model, train_classifier, train_tabnet"
   ]
  },
  {
   "cell_type": "code",
   "execution_count": 7,
   "id": "upset-raising",
   "metadata": {
    "ExecuteTime": {
     "end_time": "2021-05-18T12:45:45.435200Z",
     "start_time": "2021-05-18T12:45:45.422112Z"
    },
    "id": "pm80PCIl79LE"
   },
   "outputs": [],
   "source": [
    "BATCH_SIZE = 64 # BATCH_SIZE unique persons\n",
    "NUM_OF_SUBSEQUENCES = 5\n",
    "SUBSEQUENCE_LENGTH = 90\n",
    "\n",
    "EMBEDDING_DIM = 10\n",
    "LR = 0.002\n",
    "NUM_EPOCHS = 10\n",
    "\n",
    "cat_vocab_sizes = [204]\n",
    "cat_embedding_dim = 20\n",
    "num_input_dim = 4\n",
    "NUM_OBS = 30000\n",
    "SCHEDULER_EPOCHS = 2"
   ]
  },
  {
   "cell_type": "code",
   "execution_count": 8,
   "id": "available-surname",
   "metadata": {
    "ExecuteTime": {
     "end_time": "2021-05-18T12:45:49.083307Z",
     "start_time": "2021-05-18T12:45:45.436910Z"
    }
   },
   "outputs": [],
   "source": [
    "dataset = AgeGroupHandmadeDataset()"
   ]
  },
  {
   "cell_type": "code",
   "execution_count": 9,
   "id": "linear-trinidad",
   "metadata": {
    "ExecuteTime": {
     "end_time": "2021-05-18T12:45:49.099366Z",
     "start_time": "2021-05-18T12:45:49.084814Z"
    },
    "id": "WxzkX-VZ3zJu"
   },
   "outputs": [],
   "source": [
    "torch.manual_seed(0)\n",
    "random.seed(0)\n",
    "np.random.seed(0)"
   ]
  },
  {
   "cell_type": "code",
   "execution_count": 10,
   "id": "peaceful-diameter",
   "metadata": {
    "ExecuteTime": {
     "end_time": "2021-05-18T12:45:49.120748Z",
     "start_time": "2021-05-18T12:45:49.100423Z"
    },
    "id": "2W-DuPoHuACu"
   },
   "outputs": [],
   "source": [
    "dataloader = torch.utils.data.DataLoader(\n",
    "    dataset, batch_size=BATCH_SIZE,\n",
    "    num_workers=0,\n",
    ")\n",
    "\n",
    "targets = dataset.y\n",
    "\n",
    "train_idx, test_idx= train_test_split(\n",
    "    np.arange(len(targets)),\n",
    "    test_size=0.3,\n",
    "    shuffle=True,\n",
    "    stratify=targets,\n",
    "    random_state=228\n",
    ")\n",
    "\n",
    "train_sampler = torch.utils.data.SubsetRandomSampler(train_idx)\n",
    "test_sampler = torch.utils.data.SubsetRandomSampler(test_idx)\n",
    "\n",
    "trainloader = torch.utils.data.DataLoader(\n",
    "    dataset, batch_size=BATCH_SIZE,\n",
    "    sampler=train_sampler)\n",
    "testloader = torch.utils.data.DataLoader(\n",
    "    dataset, batch_size=BATCH_SIZE,\n",
    "    sampler=test_sampler)"
   ]
  },
  {
   "cell_type": "markdown",
   "id": "hispanic-forward",
   "metadata": {},
   "source": [
    "## Tabnet on handmade"
   ]
  },
  {
   "cell_type": "code",
   "execution_count": 11,
   "id": "quality-tract",
   "metadata": {
    "ExecuteTime": {
     "end_time": "2021-05-18T12:45:49.134302Z",
     "start_time": "2021-05-18T12:45:49.121838Z"
    }
   },
   "outputs": [],
   "source": [
    "from code.classifier_tabnet import Classifier"
   ]
  },
  {
   "cell_type": "code",
   "execution_count": 28,
   "id": "intermediate-steal",
   "metadata": {
    "ExecuteTime": {
     "end_time": "2021-05-18T13:01:04.229180Z",
     "start_time": "2021-05-18T13:01:04.177750Z"
    }
   },
   "outputs": [],
   "source": [
    "clf = Classifier(\n",
    "    input_dim=dataset.X.shape[1],\n",
    "    embedding_dim=EMBEDDING_DIM,\n",
    "    out_dim=4,\n",
    ")"
   ]
  },
  {
   "cell_type": "code",
   "execution_count": 29,
   "id": "aggressive-receipt",
   "metadata": {
    "ExecuteTime": {
     "end_time": "2021-05-18T13:01:04.665357Z",
     "start_time": "2021-05-18T13:01:04.622130Z"
    }
   },
   "outputs": [],
   "source": [
    "clf.to(device);"
   ]
  },
  {
   "cell_type": "code",
   "execution_count": 30,
   "id": "musical-california",
   "metadata": {
    "ExecuteTime": {
     "end_time": "2021-05-18T13:01:04.869998Z",
     "start_time": "2021-05-18T13:01:04.845100Z"
    }
   },
   "outputs": [],
   "source": [
    "NUM_EPOCHS = 30\n",
    "LR = 0.02"
   ]
  },
  {
   "cell_type": "code",
   "execution_count": 31,
   "id": "responsible-subdivision",
   "metadata": {
    "ExecuteTime": {
     "end_time": "2021-05-18T13:01:05.086960Z",
     "start_time": "2021-05-18T13:01:05.065749Z"
    }
   },
   "outputs": [],
   "source": [
    "optimizer = optim.Adam(clf.parameters(), lr=LR)\n",
    "criterion = nn.CrossEntropyLoss()\n",
    "scheduler = optim.lr_scheduler.ReduceLROnPlateau(\n",
    "    optimizer,\n",
    "    patience=SCHEDULER_EPOCHS,\n",
    ")"
   ]
  },
  {
   "cell_type": "code",
   "execution_count": 32,
   "id": "contemporary-terrain",
   "metadata": {
    "ExecuteTime": {
     "end_time": "2021-05-18T13:01:05.379192Z",
     "start_time": "2021-05-18T13:01:05.344634Z"
    }
   },
   "outputs": [],
   "source": [
    "train_losses = []\n",
    "train_accuracy = []\n",
    "val_losses = []\n",
    "val_accuracy = []"
   ]
  },
  {
   "cell_type": "code",
   "execution_count": 33,
   "id": "identified-oregon",
   "metadata": {
    "ExecuteTime": {
     "end_time": "2021-05-18T13:07:27.957510Z",
     "start_time": "2021-05-18T13:01:05.890749Z"
    },
    "scrolled": true
   },
   "outputs": [
    {
     "data": {
      "application/vnd.jupyter.widget-view+json": {
       "model_id": "16994a9d59df4e4d844bed622379934c",
       "version_major": 2,
       "version_minor": 0
      },
      "text/plain": [
       "  0%|          | 0/30 [00:00<?, ?it/s]"
      ]
     },
     "metadata": {},
     "output_type": "display_data"
    },
    {
     "name": "stdout",
     "output_type": "stream",
     "text": [
      "Epoch 0, train acc: 0.3284761905670166, val acc: 0.42855554819107056\n",
      "train loss: 1.3558132648468018; val loss: 1.2360025644302368\n",
      "Epoch 1, train acc: 0.47380951046943665, val acc: 0.5278888940811157\n",
      "train loss: 1.1265696287155151; val loss: 1.05453622341156\n",
      "Epoch 2, train acc: 0.5425238013267517, val acc: 0.5526666641235352\n",
      "train loss: 1.0123931169509888; val loss: 0.9963223934173584\n",
      "Epoch 3, train acc: 0.5719524025917053, val acc: 0.5517777800559998\n",
      "train loss: 0.9586978554725647; val loss: 1.0148885250091553\n",
      "Epoch 4, train acc: 0.5894761681556702, val acc: 0.5736666917800903\n",
      "train loss: 0.9234438538551331; val loss: 0.9535168409347534\n",
      "Epoch 5, train acc: 0.6030952334403992, val acc: 0.5671111345291138\n",
      "train loss: 0.8944997191429138; val loss: 0.9748910665512085\n",
      "Epoch 6, train acc: 0.6163333058357239, val acc: 0.5772222280502319\n",
      "train loss: 0.864996075630188; val loss: 0.9446609020233154\n",
      "Epoch 7, train acc: 0.628333330154419, val acc: 0.5796666741371155\n",
      "train loss: 0.8384194374084473; val loss: 0.936676025390625\n",
      "Epoch 8, train acc: 0.6473809480667114, val acc: 0.5792222023010254\n",
      "train loss: 0.8085880279541016; val loss: 0.965576171875\n",
      "Epoch 9, train acc: 0.6662380695343018, val acc: 0.5559999942779541\n",
      "train loss: 0.7699893116950989; val loss: 1.0057835578918457\n",
      "Epoch 10, train acc: 0.6809999942779541, val acc: 0.5339999794960022\n",
      "train loss: 0.733262300491333; val loss: 1.031096339225769\n",
      "Epoch 11, train acc: 0.7383809685707092, val acc: 0.566444456577301\n",
      "train loss: 0.6310171484947205; val loss: 1.026220440864563\n",
      "Epoch 12, train acc: 0.7550952434539795, val acc: 0.5661110877990723\n",
      "train loss: 0.5853670239448547; val loss: 1.077507495880127\n",
      "Epoch 13, train acc: 0.7662380933761597, val acc: 0.570555567741394\n",
      "train loss: 0.5727899670600891; val loss: 1.0511844158172607\n",
      "Epoch 14, train acc: 0.7738571166992188, val acc: 0.5640000104904175\n",
      "train loss: 0.546649158000946; val loss: 1.0832494497299194\n",
      "Epoch 15, train acc: 0.7774761915206909, val acc: 0.5652222037315369\n",
      "train loss: 0.5453450083732605; val loss: 1.0882203578948975\n",
      "Epoch 16, train acc: 0.7788094878196716, val acc: 0.5622222423553467\n",
      "train loss: 0.5491393208503723; val loss: 1.096664309501648\n",
      "Epoch 17, train acc: 0.7801428437232971, val acc: 0.5666666626930237\n",
      "train loss: 0.5386888384819031; val loss: 1.0913273096084595\n",
      "Epoch 18, train acc: 0.7747619152069092, val acc: 0.5630000233650208\n",
      "train loss: 0.5440415740013123; val loss: 1.0958329439163208\n",
      "Epoch 19, train acc: 0.7759047746658325, val acc: 0.5627777576446533\n",
      "train loss: 0.5474940538406372; val loss: 1.0958962440490723\n",
      "Epoch 20, train acc: 0.7795237898826599, val acc: 0.5611110925674438\n",
      "train loss: 0.5405074954032898; val loss: 1.0992413759231567\n",
      "Epoch 21, train acc: 0.7770476341247559, val acc: 0.5606666803359985\n",
      "train loss: 0.5425925254821777; val loss: 1.0981026887893677\n",
      "Epoch 22, train acc: 0.7794761657714844, val acc: 0.5616666674613953\n",
      "train loss: 0.5375643372535706; val loss: 1.099514126777649\n",
      "Epoch 23, train acc: 0.7795237898826599, val acc: 0.5591111183166504\n",
      "train loss: 0.5372101068496704; val loss: 1.0955922603607178\n",
      "Epoch 24, train acc: 0.7771428227424622, val acc: 0.5621111392974854\n",
      "train loss: 0.5429807305335999; val loss: 1.101414442062378\n",
      "Epoch 25, train acc: 0.7814285755157471, val acc: 0.5625555515289307\n",
      "train loss: 0.5373631715774536; val loss: 1.1041005849838257\n",
      "Epoch 26, train acc: 0.7788094878196716, val acc: 0.5598888993263245\n",
      "train loss: 0.5430561900138855; val loss: 1.1014143228530884\n",
      "Epoch 27, train acc: 0.7810475826263428, val acc: 0.5601111054420471\n",
      "train loss: 0.5344841480255127; val loss: 1.1009255647659302\n",
      "Epoch 28, train acc: 0.7761428356170654, val acc: 0.5617777705192566\n",
      "train loss: 0.5445488095283508; val loss: 1.0904371738433838\n",
      "Epoch 29, train acc: 0.7787142992019653, val acc: 0.565666675567627\n",
      "train loss: 0.537017822265625; val loss: 1.0913667678833008\n"
     ]
    }
   ],
   "source": [
    "for epoch in tqdm(range(NUM_EPOCHS)):\n",
    "    clf.train()\n",
    "    correct = 0\n",
    "    total = 0\n",
    "    epoch_losses = []\n",
    "    for (sequences, labels) in trainloader:\n",
    "        sequences = sequences.to(device)\n",
    "        labels = labels.to(device)\n",
    "\n",
    "        outputs = clf(sequences)\n",
    "        loss = criterion(outputs, labels)\n",
    "\n",
    "        optimizer.zero_grad()\n",
    "        loss.backward()\n",
    "        \n",
    "        torch.nn.utils.clip_grad_norm_(clf.parameters(), 0.3)\n",
    "        optimizer.step()\n",
    "\n",
    "        pred_labels = torch.argmax(outputs, dim=1)\n",
    "        correct += sum(labels == pred_labels)\n",
    "        total += len(sequences)\n",
    "        epoch_losses.append(loss.item())\n",
    "\n",
    "    train_acc = correct / total\n",
    "    epoch_loss = torch.tensor(epoch_losses).mean()\n",
    "    train_losses.append(epoch_loss)\n",
    "    train_accuracy.append(train_acc.item())\n",
    "\n",
    "    clf.eval()\n",
    "    correct = 0\n",
    "    total = 0\n",
    "    epoch_val_losses = []\n",
    "    for sequences, labels in testloader:\n",
    "        sequences = sequences.to(device)\n",
    "        labels = labels.to(device)\n",
    "\n",
    "        with torch.no_grad():\n",
    "            outputs = clf(sequences)\n",
    "            loss = criterion(outputs, labels)\n",
    "\n",
    "            pred_labels = torch.argmax(outputs, dim=1)\n",
    "            correct += sum(labels == pred_labels)\n",
    "            total += len(sequences)\n",
    "            epoch_val_losses.append(loss.item())\n",
    "\n",
    "    val_acc = correct / total\n",
    "    epoch_val_loss = torch.tensor(epoch_val_losses).mean()\n",
    "    val_losses.append(epoch_val_loss)\n",
    "    val_accuracy.append(val_acc.item())\n",
    "\n",
    "    scheduler.step(epoch_val_loss)\n",
    "\n",
    "    print(f'Epoch {epoch}, train acc: {train_acc}, val acc: {val_acc}')\n",
    "    print(f'train loss: {epoch_loss}; val loss: {epoch_val_loss}')"
   ]
  },
  {
   "cell_type": "code",
   "execution_count": 35,
   "id": "arranged-transition",
   "metadata": {
    "ExecuteTime": {
     "end_time": "2021-05-18T13:11:03.068287Z",
     "start_time": "2021-05-18T13:11:02.637664Z"
    }
   },
   "outputs": [
    {
     "data": {
      "image/png": "[encoded data removed]",
      "text/plain": [
       "<Figure size 864x432 with 2 Axes>"
      ]
     },
     "metadata": {},
     "output_type": "display_data"
    }
   ],
   "source": [
    "fig, axs = plt.subplots(figsize=(12, 6))\n",
    "\n",
    "plt.subplot(1, 2, 1)\n",
    "plt.plot(train_losses, label='train')\n",
    "plt.plot(val_losses, label='validation')\n",
    "plt.xlabel('iter')\n",
    "plt.ylabel('loss')\n",
    "plt.legend()\n",
    "\n",
    "plt.subplot(1, 2, 2)\n",
    "plt.xlabel('iter')\n",
    "plt.ylabel('accuracy');\n",
    "plt.plot(train_accuracy, label='train')\n",
    "plt.plot(val_accuracy, label='validation')\n",
    "plt.legend()\n",
    "\n",
    "plt.savefig(f'plots/tabnet_handmade_{EMBEDDING_DIM}_{NUM_EPOCHS}.png')"
   ]
  },
  {
   "cell_type": "code",
   "execution_count": 39,
   "id": "cultural-central",
   "metadata": {
    "ExecuteTime": {
     "end_time": "2021-05-18T13:24:07.834526Z",
     "start_time": "2021-05-18T13:24:07.811004Z"
    }
   },
   "outputs": [
    {
     "data": {
      "text/plain": [
       "0.565666675567627"
      ]
     },
     "execution_count": 39,
     "metadata": {},
     "output_type": "execute_result"
    }
   ],
   "source": [
    "val_accuracy[-1]"
   ]
  },
  {
   "cell_type": "code",
   "execution_count": null,
   "id": "geological-training",
   "metadata": {},
   "outputs": [],
   "source": []
  },
  {
   "cell_type": "code",
   "execution_count": null,
   "id": "gorgeous-league",
   "metadata": {},
   "outputs": [],
   "source": []
  }
 ],
 "metadata": {
  "kernelspec": {
   "display_name": "Python 3",
   "language": "python",
   "name": "python3"
  },
  "language_info": {
   "codemirror_mode": {
    "name": "ipython",
    "version": 3
   },
   "file_extension": ".py",
   "mimetype": "text/x-python",
   "name": "python",
   "nbconvert_exporter": "python",
   "pygments_lexer": "ipython3",
   "version": "3.8.9"
  },
  "toc": {
   "base_numbering": 1,
   "nav_menu": {
    "height": "400px",
    "width": "209px"
   },
   "number_sections": true,
   "sideBar": true,
   "skip_h1_title": true,
   "title_cell": "Table of Contents",
   "title_sidebar": "Contents",
   "toc_cell": true,
   "toc_position": {},
   "toc_section_display": true,
   "toc_window_display": false
  }
 },
 "nbformat": 4,
 "nbformat_minor": 5
}
