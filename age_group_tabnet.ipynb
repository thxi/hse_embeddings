{
 "cells": [
  {
   "cell_type": "markdown",
   "id": "finnish-harris",
   "metadata": {
    "toc": true
   },
   "source": [
    "<h1>Table of Contents<span class=\"tocSkip\"></span></h1>\n",
    "<div class=\"toc\"><ul class=\"toc-item\"><li><span><a href=\"#Tabnet-as-event-encoder\" data-toc-modified-id=\"Tabnet-as-event-encoder-1\"><span class=\"toc-item-num\">1&nbsp;&nbsp;</span>Tabnet as event encoder</a></span></li></ul></div>"
   ]
  },
  {
   "cell_type": "code",
   "execution_count": null,
   "id": "inner-canada",
   "metadata": {
    "ExecuteTime": {
     "end_time": "2021-05-07T06:04:20.866552Z",
     "start_time": "2021-05-07T06:04:20.111489Z"
    },
    "id": "thKgYQF3URYw"
   },
   "outputs": [],
   "source": [
    "import pandas as pd\n",
    "import numpy as np\n",
    "import matplotlib.pyplot as plt\n",
    "import seaborn as sns\n",
    "\n",
    "sns.set()\n",
    "\n",
    "sns.set_style(\"whitegrid\", {'axes.grid' : False})\n",
    "\n",
    "from tqdm.auto import tqdm"
   ]
  },
  {
   "cell_type": "code",
   "execution_count": null,
   "id": "sublime-strap",
   "metadata": {
    "ExecuteTime": {
     "end_time": "2021-05-07T06:04:20.878144Z",
     "start_time": "2021-05-07T06:04:20.867713Z"
    }
   },
   "outputs": [],
   "source": [
    "%load_ext autoreload\n",
    "%autoreload 2"
   ]
  },
  {
   "cell_type": "code",
   "execution_count": null,
   "id": "polar-married",
   "metadata": {
    "ExecuteTime": {
     "end_time": "2021-05-07T06:04:21.691843Z",
     "start_time": "2021-05-07T06:04:20.879272Z"
    },
    "colab": {
     "base_uri": "https://localhost:8080/"
    },
    "id": "UBFRCZowUWGt",
    "outputId": "09cfb931-6126-4fcf-f0b6-d6abfa0d4ba5"
   },
   "outputs": [],
   "source": [
    "import torch\n",
    "torch.cuda.is_available()"
   ]
  },
  {
   "cell_type": "code",
   "execution_count": null,
   "id": "infectious-providence",
   "metadata": {
    "ExecuteTime": {
     "end_time": "2021-05-07T06:04:21.705047Z",
     "start_time": "2021-05-07T06:04:21.693182Z"
    },
    "colab": {
     "base_uri": "https://localhost:8080/"
    },
    "id": "Q-kXTk-bNPzx",
    "outputId": "7a991cca-3b7a-4ec3-9fa8-ee0b5fce2537"
   },
   "outputs": [],
   "source": [
    "device = torch.device(\"cuda:0\" if torch.cuda.is_available() else \"cpu\")\n",
    "\n",
    "# Assuming that we are on a CUDA machine, this should print a CUDA device:\n",
    "\n",
    "print(device)"
   ]
  },
  {
   "cell_type": "code",
   "execution_count": null,
   "id": "peaceful-chaos",
   "metadata": {
    "ExecuteTime": {
     "end_time": "2021-05-07T06:14:23.461601Z",
     "start_time": "2021-05-07T06:14:23.447659Z"
    }
   },
   "outputs": [],
   "source": [
    "from pytorch_metric_learning import losses, miners, distances, reducers, samplers\n",
    "import torch.optim as optim\n",
    "from sklearn.model_selection import train_test_split\n",
    "import torch.nn as nn\n",
    "import random"
   ]
  },
  {
   "cell_type": "code",
   "execution_count": null,
   "id": "romantic-brook",
   "metadata": {
    "ExecuteTime": {
     "end_time": "2021-05-07T06:45:06.007329Z",
     "start_time": "2021-05-07T06:45:05.992644Z"
    }
   },
   "outputs": [],
   "source": [
    "from code.dataloader import AgeGroupMLDataset, AgeGroupClfDataset\n",
    "from code.encoder_tabnet import Encoder\n",
    "from code.decoder import Decoder\n",
    "from code.classifier import Classifier\n",
    "from code.utils import train_ml_model, train_classifier"
   ]
  },
  {
   "cell_type": "code",
   "execution_count": null,
   "id": "upset-raising",
   "metadata": {
    "ExecuteTime": {
     "end_time": "2021-05-07T06:44:38.451944Z",
     "start_time": "2021-05-07T06:44:38.433801Z"
    },
    "id": "pm80PCIl79LE"
   },
   "outputs": [],
   "source": [
    "BATCH_SIZE = 64 # BATCH_SIZE unique persons\n",
    "NUM_OF_SUBSEQUENCES = 5\n",
    "SUBSEQUENCE_LENGTH = 90\n",
    "\n",
    "EMBEDDING_DIM = 256\n",
    "LR = 0.002\n",
    "NUM_EPOCHS = 20\n",
    "\n",
    "cat_vocab_sizes = [204]\n",
    "cat_embedding_dim = 20\n",
    "num_input_dim = 4\n",
    "NUM_OBS = 30000"
   ]
  },
  {
   "cell_type": "code",
   "execution_count": null,
   "id": "honest-drilling",
   "metadata": {
    "ExecuteTime": {
     "end_time": "2021-05-07T06:44:13.740583Z",
     "start_time": "2021-05-07T06:44:13.723509Z"
    }
   },
   "outputs": [],
   "source": [
    "arch = 'tabnet'"
   ]
  },
  {
   "cell_type": "code",
   "execution_count": null,
   "id": "material-dimension",
   "metadata": {
    "ExecuteTime": {
     "end_time": "2021-05-07T06:04:34.905653Z",
     "start_time": "2021-05-07T06:04:21.921441Z"
    },
    "id": "GYYj4IyZdrtg"
   },
   "outputs": [],
   "source": [
    "dataset = AgeGroupMLDataset(num_observations=NUM_OBS)"
   ]
  },
  {
   "cell_type": "code",
   "execution_count": null,
   "id": "seventh-think",
   "metadata": {
    "ExecuteTime": {
     "end_time": "2021-05-07T06:04:34.966827Z",
     "start_time": "2021-05-07T06:04:34.906518Z"
    },
    "id": "EY6GM_RjsCWg"
   },
   "outputs": [],
   "source": [
    "dataset.load_client_to_indices()"
   ]
  },
  {
   "cell_type": "code",
   "execution_count": null,
   "id": "registered-alpha",
   "metadata": {
    "ExecuteTime": {
     "end_time": "2021-05-07T06:04:48.064906Z",
     "start_time": "2021-05-07T06:04:34.967833Z"
    },
    "id": "ZZyL5MiF-Ufm"
   },
   "outputs": [],
   "source": [
    "clfdataset = AgeGroupClfDataset()"
   ]
  },
  {
   "cell_type": "code",
   "execution_count": null,
   "id": "bridal-livestock",
   "metadata": {
    "ExecuteTime": {
     "end_time": "2021-05-07T06:04:48.086922Z",
     "start_time": "2021-05-07T06:04:48.065830Z"
    },
    "id": "nW8khMXN-STb"
   },
   "outputs": [],
   "source": [
    "clfdataset.load_client_to_indices()"
   ]
  },
  {
   "cell_type": "code",
   "execution_count": null,
   "id": "linear-trinidad",
   "metadata": {
    "ExecuteTime": {
     "end_time": "2021-05-07T06:04:48.099211Z",
     "start_time": "2021-05-07T06:04:48.087838Z"
    },
    "id": "WxzkX-VZ3zJu"
   },
   "outputs": [],
   "source": [
    "torch.manual_seed(0)\n",
    "random.seed(0)\n",
    "np.random.seed(0)"
   ]
  },
  {
   "cell_type": "code",
   "execution_count": null,
   "id": "peaceful-diameter",
   "metadata": {
    "ExecuteTime": {
     "end_time": "2021-05-07T06:44:18.203017Z",
     "start_time": "2021-05-07T06:44:18.181994Z"
    },
    "id": "2W-DuPoHuACu"
   },
   "outputs": [],
   "source": [
    "targets = dataset.targets\n",
    "\n",
    "dataloader = torch.utils.data.DataLoader(\n",
    "    dataset, batch_size=BATCH_SIZE,\n",
    "    num_workers=0,\n",
    ")\n",
    "\n",
    "targets = clfdataset.targets\n",
    "\n",
    "train_idx, test_idx= train_test_split(\n",
    "    np.arange(len(targets)),\n",
    "    test_size=0.3,\n",
    "    shuffle=True,\n",
    "    stratify=targets,\n",
    "    random_state=228\n",
    ")\n",
    "\n",
    "train_sampler = torch.utils.data.SubsetRandomSampler(train_idx)\n",
    "test_sampler = torch.utils.data.SubsetRandomSampler(test_idx)\n",
    "\n",
    "trainloader = torch.utils.data.DataLoader(\n",
    "    clfdataset, batch_size=BATCH_SIZE,\n",
    "    sampler=train_sampler)\n",
    "testloader = torch.utils.data.DataLoader(\n",
    "    clfdataset, batch_size=BATCH_SIZE,\n",
    "    sampler=test_sampler)"
   ]
  },
  {
   "cell_type": "markdown",
   "id": "complex-delight",
   "metadata": {},
   "source": [
    "## Tabnet as event encoder"
   ]
  },
  {
   "cell_type": "code",
   "execution_count": null,
   "id": "based-morning",
   "metadata": {
    "ExecuteTime": {
     "end_time": "2021-05-07T06:45:08.257468Z",
     "start_time": "2021-05-07T06:45:08.233115Z"
    }
   },
   "outputs": [],
   "source": [
    "LR = 0.002\n",
    "\n",
    "# train decoder\n",
    "\n",
    "encoder = Encoder(\n",
    "    numerical_input_dim=num_input_dim,\n",
    "    cat_vocab_sizes=cat_vocab_sizes,\n",
    "    cat_embedding_dim=cat_embedding_dim,\n",
    "    embedding_dim=EMBEDDING_DIM,\n",
    ")\n",
    "encoder.to(device);\n",
    "optimizer = optim.Adam(encoder.parameters(), lr=LR)\n",
    "\n",
    "distance = distances.CosineSimilarity()\n",
    "reducer = reducers.ThresholdReducer(low = 0) # basically, returns average\n",
    "loss_func = losses.TripletMarginLoss(margin = 0.4, distance = distance, reducer = reducer)\n",
    "mining_func = miners.TripletMarginMiner(margin = 0.4, distance = distance, type_of_triplets = \"semihard\")"
   ]
  },
  {
   "cell_type": "code",
   "execution_count": null,
   "id": "unsigned-exploration",
   "metadata": {
    "ExecuteTime": {
     "end_time": "2021-05-07T07:45:11.104901Z",
     "start_time": "2021-05-07T06:45:08.436876Z"
    }
   },
   "outputs": [],
   "source": [
    "train_losses = train_ml_model(\n",
    "    encoder, NUM_EPOCHS, dataloader, NUM_OF_SUBSEQUENCES,\n",
    "    mining_func, loss_func, optimizer)"
   ]
  },
  {
   "cell_type": "code",
   "execution_count": null,
   "id": "aware-render",
   "metadata": {
    "ExecuteTime": {
     "end_time": "2021-05-07T07:45:11.301831Z",
     "start_time": "2021-05-07T07:45:11.106019Z"
    }
   },
   "outputs": [],
   "source": [
    "fig, axs = plt.subplots(figsize=(12, 6))\n",
    "\n",
    "plt.plot(train_losses, label='train')\n",
    "plt.xlabel('iter')\n",
    "plt.ylabel('loss');\n",
    "plt.savefig(f'plots/ML_{arch}_{EMBEDDING_DIM}_{NUM_OBS}_{NUM_EPOCHS}.png')"
   ]
  },
  {
   "cell_type": "markdown",
   "id": "accredited-wildlife",
   "metadata": {},
   "source": [
    "todo: interpretability from tabnet"
   ]
  },
  {
   "cell_type": "code",
   "execution_count": null,
   "id": "proof-constitution",
   "metadata": {},
   "outputs": [],
   "source": []
  },
  {
   "cell_type": "code",
   "execution_count": null,
   "id": "orange-brief",
   "metadata": {
    "ExecuteTime": {
     "end_time": "2021-05-07T07:51:58.834478Z",
     "start_time": "2021-05-07T07:51:58.822683Z"
    }
   },
   "outputs": [],
   "source": [
    "NUM_EPOCHS=50"
   ]
  },
  {
   "cell_type": "code",
   "execution_count": null,
   "id": "consistent-leisure",
   "metadata": {
    "ExecuteTime": {
     "end_time": "2021-05-07T07:51:59.604765Z",
     "start_time": "2021-05-07T07:51:59.569175Z"
    }
   },
   "outputs": [],
   "source": [
    "SCHEDULER_EPOCHS = 2\n",
    "LR = 0.002\n",
    "\n",
    "# train classifier decoder\n",
    "\n",
    "classifier = Classifier(\n",
    "    numerical_input_dim=num_input_dim,\n",
    "    cat_vocab_sizes=cat_vocab_sizes,\n",
    "    cat_embedding_dim=cat_embedding_dim,\n",
    "    embedding_dim=EMBEDDING_DIM\n",
    ")\n",
    "classifier.encoder = encoder\n",
    "classifier.freeze_encoder()\n",
    "classifier.to(device);\n",
    "\n",
    "optimizer = optim.Adam(classifier.decoder.parameters(), lr=LR)\n",
    "criterion = nn.CrossEntropyLoss()\n",
    "scheduler = optim.lr_scheduler.ReduceLROnPlateau(\n",
    "    optimizer,\n",
    "    patience=SCHEDULER_EPOCHS,\n",
    ")"
   ]
  },
  {
   "cell_type": "code",
   "execution_count": null,
   "id": "extra-instrumentation",
   "metadata": {
    "ExecuteTime": {
     "end_time": "2021-05-07T08:03:12.542626Z",
     "start_time": "2021-05-07T07:52:04.809143Z"
    }
   },
   "outputs": [],
   "source": [
    "train_losses, train_accuracy, val_losses, val_accuracy = train_classifier(\n",
    "    classifier, NUM_EPOCHS, trainloader, testloader,\n",
    "    optimizer, criterion, scheduler,\n",
    "    enable_train_mode = lambda: classifier.decoder.train(),\n",
    "    enable_test_mode = lambda: classifier.decoder.eval(),\n",
    ")"
   ]
  },
  {
   "cell_type": "code",
   "execution_count": null,
   "id": "threatened-fountain",
   "metadata": {
    "ExecuteTime": {
     "end_time": "2021-05-07T08:03:12.856226Z",
     "start_time": "2021-05-07T08:03:12.543852Z"
    }
   },
   "outputs": [],
   "source": [
    "fig, axs = plt.subplots(figsize=(12, 6))\n",
    "\n",
    "plt.subplot(1, 2, 1)\n",
    "plt.plot(train_losses, label='train')\n",
    "plt.plot(val_losses, label='validation')\n",
    "plt.xlabel('iter')\n",
    "plt.ylabel('loss')\n",
    "plt.legend()\n",
    "\n",
    "plt.subplot(1, 2, 2)\n",
    "plt.xlabel('iter')\n",
    "plt.ylabel('accuracy');\n",
    "plt.plot(train_accuracy, label='train')\n",
    "plt.plot(val_accuracy, label='validation')\n",
    "plt.legend()\n",
    "\n",
    "plt.savefig(f'plots/clfdec_{arch}_{EMBEDDING_DIM}_{NUM_OBS}_{NUM_EPOCHS}.png')"
   ]
  },
  {
   "cell_type": "code",
   "execution_count": null,
   "id": "chicken-fetish",
   "metadata": {
    "ExecuteTime": {
     "end_time": "2021-05-06T08:21:47.203289Z",
     "start_time": "2021-05-06T08:21:47.193596Z"
    },
    "id": "C7-X1GRsAK7x"
   },
   "outputs": [],
   "source": []
  },
  {
   "cell_type": "code",
   "execution_count": null,
   "id": "gorgeous-league",
   "metadata": {},
   "outputs": [],
   "source": []
  }
 ],
 "metadata": {
  "kernelspec": {
   "display_name": "Python 3",
   "language": "python",
   "name": "python3"
  },
  "language_info": {
   "codemirror_mode": {
    "name": "ipython",
    "version": 3
   },
   "file_extension": ".py",
   "mimetype": "text/x-python",
   "name": "python",
   "nbconvert_exporter": "python",
   "pygments_lexer": "ipython3",
   "version": "3.8.9"
  },
  "toc": {
   "base_numbering": 1,
   "nav_menu": {},
   "number_sections": true,
   "sideBar": true,
   "skip_h1_title": true,
   "title_cell": "Table of Contents",
   "title_sidebar": "Contents",
   "toc_cell": true,
   "toc_position": {},
   "toc_section_display": true,
   "toc_window_display": false
  }
 },
 "nbformat": 4,
 "nbformat_minor": 5
}
