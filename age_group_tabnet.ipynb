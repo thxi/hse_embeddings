{
 "cells": [
  {
   "cell_type": "markdown",
   "id": "finnish-harris",
   "metadata": {
    "toc": true
   },
   "source": [
    "<h1>Table of Contents<span class=\"tocSkip\"></span></h1>\n",
    "<div class=\"toc\"><ul class=\"toc-item\"><li><span><a href=\"#Tabnet-as-event-encoder\" data-toc-modified-id=\"Tabnet-as-event-encoder-1\"><span class=\"toc-item-num\">1&nbsp;&nbsp;</span>Tabnet as event encoder</a></span></li><li><span><a href=\"#Tabnet-on-handmade-features\" data-toc-modified-id=\"Tabnet-on-handmade-features-2\"><span class=\"toc-item-num\">2&nbsp;&nbsp;</span>Tabnet on handmade features</a></span></li></ul></div>"
   ]
  },
  {
   "cell_type": "code",
   "execution_count": 2,
   "id": "inner-canada",
   "metadata": {
    "ExecuteTime": {
     "end_time": "2021-05-07T06:04:20.866552Z",
     "start_time": "2021-05-07T06:04:20.111489Z"
    },
    "id": "thKgYQF3URYw"
   },
   "outputs": [],
   "source": [
    "import pandas as pd\n",
    "import numpy as np\n",
    "import matplotlib.pyplot as plt\n",
    "import seaborn as sns\n",
    "\n",
    "sns.set()\n",
    "\n",
    "sns.set_style(\"whitegrid\", {'axes.grid' : False})\n",
    "\n",
    "from tqdm.auto import tqdm"
   ]
  },
  {
   "cell_type": "code",
   "execution_count": 3,
   "id": "sublime-strap",
   "metadata": {
    "ExecuteTime": {
     "end_time": "2021-05-07T06:04:20.878144Z",
     "start_time": "2021-05-07T06:04:20.867713Z"
    }
   },
   "outputs": [],
   "source": [
    "%load_ext autoreload\n",
    "%autoreload 2"
   ]
  },
  {
   "cell_type": "code",
   "execution_count": 4,
   "id": "polar-married",
   "metadata": {
    "ExecuteTime": {
     "end_time": "2021-05-07T06:04:21.691843Z",
     "start_time": "2021-05-07T06:04:20.879272Z"
    },
    "colab": {
     "base_uri": "https://localhost:8080/"
    },
    "id": "UBFRCZowUWGt",
    "outputId": "09cfb931-6126-4fcf-f0b6-d6abfa0d4ba5"
   },
   "outputs": [
    {
     "data": {
      "text/plain": [
       "True"
      ]
     },
     "execution_count": 4,
     "metadata": {},
     "output_type": "execute_result"
    }
   ],
   "source": [
    "import torch\n",
    "torch.cuda.is_available()"
   ]
  },
  {
   "cell_type": "code",
   "execution_count": 5,
   "id": "infectious-providence",
   "metadata": {
    "ExecuteTime": {
     "end_time": "2021-05-07T06:04:21.705047Z",
     "start_time": "2021-05-07T06:04:21.693182Z"
    },
    "colab": {
     "base_uri": "https://localhost:8080/"
    },
    "id": "Q-kXTk-bNPzx",
    "outputId": "7a991cca-3b7a-4ec3-9fa8-ee0b5fce2537"
   },
   "outputs": [
    {
     "name": "stdout",
     "output_type": "stream",
     "text": [
      "cuda:0\n"
     ]
    }
   ],
   "source": [
    "device = torch.device(\"cuda:0\" if torch.cuda.is_available() else \"cpu\")\n",
    "\n",
    "# Assuming that we are on a CUDA machine, this should print a CUDA device:\n",
    "\n",
    "print(device)"
   ]
  },
  {
   "cell_type": "code",
   "execution_count": 19,
   "id": "peaceful-chaos",
   "metadata": {
    "ExecuteTime": {
     "end_time": "2021-05-07T06:14:23.461601Z",
     "start_time": "2021-05-07T06:14:23.447659Z"
    }
   },
   "outputs": [],
   "source": [
    "from pytorch_metric_learning import losses, miners, distances, reducers, samplers\n",
    "import torch.optim as optim\n",
    "from sklearn.model_selection import train_test_split\n",
    "import torch.nn as nn\n",
    "import random"
   ]
  },
  {
   "cell_type": "code",
   "execution_count": 66,
   "id": "romantic-brook",
   "metadata": {
    "ExecuteTime": {
     "end_time": "2021-05-07T06:45:06.007329Z",
     "start_time": "2021-05-07T06:45:05.992644Z"
    }
   },
   "outputs": [],
   "source": [
    "from code.dataloader import AgeGroupMLDataset, AgeGroupClfDataset\n",
    "from code.encoder_tabnet import Encoder\n",
    "from code.decoder import Decoder\n",
    "from code.classifier import Classifier\n",
    "from code.utils import train_ml_model, train_classifier"
   ]
  },
  {
   "cell_type": "code",
   "execution_count": 62,
   "id": "upset-raising",
   "metadata": {
    "ExecuteTime": {
     "end_time": "2021-05-07T06:44:38.451944Z",
     "start_time": "2021-05-07T06:44:38.433801Z"
    },
    "id": "pm80PCIl79LE"
   },
   "outputs": [],
   "source": [
    "BATCH_SIZE = 64 # BATCH_SIZE unique persons\n",
    "NUM_OF_SUBSEQUENCES = 5\n",
    "SUBSEQUENCE_LENGTH = 90\n",
    "\n",
    "EMBEDDING_DIM = 256\n",
    "LR = 0.002\n",
    "NUM_EPOCHS = 20\n",
    "\n",
    "cat_vocab_sizes = [204]\n",
    "cat_embedding_dim = 20\n",
    "num_input_dim = 4\n",
    "NUM_OBS = 30000"
   ]
  },
  {
   "cell_type": "code",
   "execution_count": 59,
   "id": "reserved-adult",
   "metadata": {
    "ExecuteTime": {
     "end_time": "2021-05-07T06:44:13.740583Z",
     "start_time": "2021-05-07T06:44:13.723509Z"
    }
   },
   "outputs": [],
   "source": [
    "arch = 'tabnet'"
   ]
  },
  {
   "cell_type": "code",
   "execution_count": 10,
   "id": "material-dimension",
   "metadata": {
    "ExecuteTime": {
     "end_time": "2021-05-07T06:04:34.905653Z",
     "start_time": "2021-05-07T06:04:21.921441Z"
    },
    "id": "GYYj4IyZdrtg"
   },
   "outputs": [],
   "source": [
    "dataset = AgeGroupMLDataset(num_observations=NUM_OBS)"
   ]
  },
  {
   "cell_type": "code",
   "execution_count": 11,
   "id": "seventh-think",
   "metadata": {
    "ExecuteTime": {
     "end_time": "2021-05-07T06:04:34.966827Z",
     "start_time": "2021-05-07T06:04:34.906518Z"
    },
    "id": "EY6GM_RjsCWg"
   },
   "outputs": [],
   "source": [
    "dataset.load_client_to_indices()"
   ]
  },
  {
   "cell_type": "code",
   "execution_count": 12,
   "id": "registered-alpha",
   "metadata": {
    "ExecuteTime": {
     "end_time": "2021-05-07T06:04:48.064906Z",
     "start_time": "2021-05-07T06:04:34.967833Z"
    },
    "id": "ZZyL5MiF-Ufm"
   },
   "outputs": [],
   "source": [
    "clfdataset = AgeGroupClfDataset()"
   ]
  },
  {
   "cell_type": "code",
   "execution_count": 13,
   "id": "bridal-livestock",
   "metadata": {
    "ExecuteTime": {
     "end_time": "2021-05-07T06:04:48.086922Z",
     "start_time": "2021-05-07T06:04:48.065830Z"
    },
    "id": "nW8khMXN-STb"
   },
   "outputs": [],
   "source": [
    "clfdataset.load_client_to_indices()"
   ]
  },
  {
   "cell_type": "code",
   "execution_count": 14,
   "id": "linear-trinidad",
   "metadata": {
    "ExecuteTime": {
     "end_time": "2021-05-07T06:04:48.099211Z",
     "start_time": "2021-05-07T06:04:48.087838Z"
    },
    "id": "WxzkX-VZ3zJu"
   },
   "outputs": [],
   "source": [
    "torch.manual_seed(0)\n",
    "random.seed(0)\n",
    "np.random.seed(0)"
   ]
  },
  {
   "cell_type": "code",
   "execution_count": 60,
   "id": "peaceful-diameter",
   "metadata": {
    "ExecuteTime": {
     "end_time": "2021-05-07T06:44:18.203017Z",
     "start_time": "2021-05-07T06:44:18.181994Z"
    },
    "id": "2W-DuPoHuACu"
   },
   "outputs": [],
   "source": [
    "targets = dataset.targets\n",
    "\n",
    "dataloader = torch.utils.data.DataLoader(\n",
    "    dataset, batch_size=BATCH_SIZE,\n",
    "    num_workers=0,\n",
    ")\n",
    "\n",
    "targets = clfdataset.targets\n",
    "\n",
    "train_idx, test_idx= train_test_split(\n",
    "    np.arange(len(targets)),\n",
    "    test_size=0.3,\n",
    "    shuffle=True,\n",
    "    stratify=targets,\n",
    "    random_state=228\n",
    ")\n",
    "\n",
    "train_sampler = torch.utils.data.SubsetRandomSampler(train_idx)\n",
    "test_sampler = torch.utils.data.SubsetRandomSampler(test_idx)\n",
    "\n",
    "trainloader = torch.utils.data.DataLoader(\n",
    "    clfdataset, batch_size=BATCH_SIZE,\n",
    "    sampler=train_sampler)\n",
    "testloader = torch.utils.data.DataLoader(\n",
    "    clfdataset, batch_size=BATCH_SIZE,\n",
    "    sampler=test_sampler)"
   ]
  },
  {
   "cell_type": "markdown",
   "id": "objective-unemployment",
   "metadata": {},
   "source": [
    "## Tabnet as event encoder"
   ]
  },
  {
   "cell_type": "code",
   "execution_count": 67,
   "id": "green-witness",
   "metadata": {
    "ExecuteTime": {
     "end_time": "2021-05-07T06:45:08.257468Z",
     "start_time": "2021-05-07T06:45:08.233115Z"
    }
   },
   "outputs": [],
   "source": [
    "LR = 0.002\n",
    "\n",
    "# train decoder\n",
    "\n",
    "encoder = Encoder(\n",
    "    numerical_input_dim=num_input_dim,\n",
    "    cat_vocab_sizes=cat_vocab_sizes,\n",
    "    cat_embedding_dim=cat_embedding_dim,\n",
    "    embedding_dim=EMBEDDING_DIM,\n",
    ")\n",
    "encoder.to(device);\n",
    "optimizer = optim.Adam(encoder.parameters(), lr=LR)\n",
    "\n",
    "distance = distances.CosineSimilarity()\n",
    "reducer = reducers.ThresholdReducer(low = 0) # basically, returns average\n",
    "loss_func = losses.TripletMarginLoss(margin = 0.4, distance = distance, reducer = reducer)\n",
    "mining_func = miners.TripletMarginMiner(margin = 0.4, distance = distance, type_of_triplets = \"semihard\")"
   ]
  },
  {
   "cell_type": "code",
   "execution_count": 68,
   "id": "metallic-receiver",
   "metadata": {
    "ExecuteTime": {
     "end_time": "2021-05-07T07:45:11.104901Z",
     "start_time": "2021-05-07T06:45:08.436876Z"
    }
   },
   "outputs": [
    {
     "data": {
      "application/vnd.jupyter.widget-view+json": {
       "model_id": "feac5de2f5cb406bbc151f14029eb216",
       "version_major": 2,
       "version_minor": 0
      },
      "text/plain": [
       "  0%|          | 0/20 [00:00<?, ?it/s]"
      ]
     },
     "metadata": {},
     "output_type": "display_data"
    },
    {
     "name": "stdout",
     "output_type": "stream",
     "text": [
      "Epoch 0 Loss = 0.2163325846195221\n",
      "Epoch 1 Loss = 0.18846341967582703\n",
      "Epoch 2 Loss = 0.17344476282596588\n",
      "Epoch 3 Loss = 0.16134488582611084\n",
      "Epoch 4 Loss = 0.1541159451007843\n",
      "Epoch 5 Loss = 0.1512359380722046\n",
      "Epoch 6 Loss = 0.14952608942985535\n",
      "Epoch 7 Loss = 0.14822766184806824\n",
      "Epoch 8 Loss = 0.1467020958662033\n",
      "Epoch 9 Loss = 0.14573177695274353\n",
      "Epoch 10 Loss = 0.14465147256851196\n",
      "Epoch 11 Loss = 0.14360611140727997\n",
      "Epoch 12 Loss = 0.14282843470573425\n",
      "Epoch 13 Loss = 0.14175066351890564\n",
      "Epoch 14 Loss = 0.14066608250141144\n",
      "Epoch 15 Loss = 0.14006993174552917\n",
      "Epoch 16 Loss = 0.13930070400238037\n",
      "Epoch 17 Loss = 0.13842502236366272\n",
      "Epoch 18 Loss = 0.13770803809165955\n",
      "Epoch 19 Loss = 0.13709260523319244\n"
     ]
    }
   ],
   "source": [
    "train_losses = train_ml_model(\n",
    "    encoder, NUM_EPOCHS, dataloader, NUM_OF_SUBSEQUENCES,\n",
    "    mining_func, loss_func, optimizer)"
   ]
  },
  {
   "cell_type": "code",
   "execution_count": 69,
   "id": "usual-classification",
   "metadata": {
    "ExecuteTime": {
     "end_time": "2021-05-07T07:45:11.301831Z",
     "start_time": "2021-05-07T07:45:11.106019Z"
    }
   },
   "outputs": [
    {
     "data": {
      "image/png": "[encoded data removed]",
      "text/plain": [
       "<Figure size 864x432 with 1 Axes>"
      ]
     },
     "metadata": {},
     "output_type": "display_data"
    }
   ],
   "source": [
    "fig, axs = plt.subplots(figsize=(12, 6))\n",
    "\n",
    "plt.plot(train_losses, label='train')\n",
    "plt.xlabel('iter')\n",
    "plt.ylabel('loss');\n",
    "plt.savefig(f'plots/ML_{arch}_{EMBEDDING_DIM}_{NUM_OBS}_{NUM_EPOCHS}.png')"
   ]
  },
  {
   "cell_type": "markdown",
   "id": "therapeutic-patch",
   "metadata": {},
   "source": [
    "todo: interpretability from tabnet"
   ]
  },
  {
   "cell_type": "code",
   "execution_count": null,
   "id": "brave-information",
   "metadata": {},
   "outputs": [],
   "source": []
  },
  {
   "cell_type": "code",
   "execution_count": 73,
   "id": "bigger-windsor",
   "metadata": {
    "ExecuteTime": {
     "end_time": "2021-05-07T07:51:58.834478Z",
     "start_time": "2021-05-07T07:51:58.822683Z"
    }
   },
   "outputs": [],
   "source": [
    "NUM_EPOCHS=50"
   ]
  },
  {
   "cell_type": "code",
   "execution_count": 74,
   "id": "structured-latex",
   "metadata": {
    "ExecuteTime": {
     "end_time": "2021-05-07T07:51:59.604765Z",
     "start_time": "2021-05-07T07:51:59.569175Z"
    }
   },
   "outputs": [],
   "source": [
    "SCHEDULER_EPOCHS = 2\n",
    "LR = 0.002\n",
    "\n",
    "# train classifier decoder\n",
    "\n",
    "classifier = Classifier(\n",
    "    numerical_input_dim=num_input_dim,\n",
    "    cat_vocab_sizes=cat_vocab_sizes,\n",
    "    cat_embedding_dim=cat_embedding_dim,\n",
    "    embedding_dim=EMBEDDING_DIM\n",
    ")\n",
    "classifier.encoder = encoder\n",
    "classifier.freeze_encoder()\n",
    "classifier.to(device);\n",
    "\n",
    "optimizer = optim.Adam(classifier.decoder.parameters(), lr=LR)\n",
    "criterion = nn.CrossEntropyLoss()\n",
    "scheduler = optim.lr_scheduler.ReduceLROnPlateau(\n",
    "    optimizer,\n",
    "    patience=SCHEDULER_EPOCHS,\n",
    ")"
   ]
  },
  {
   "cell_type": "code",
   "execution_count": 75,
   "id": "quick-infrared",
   "metadata": {
    "ExecuteTime": {
     "end_time": "2021-05-07T08:03:12.542626Z",
     "start_time": "2021-05-07T07:52:04.809143Z"
    }
   },
   "outputs": [
    {
     "data": {
      "application/vnd.jupyter.widget-view+json": {
       "model_id": "4187989fe5884bc5802af6990e0322c9",
       "version_major": 2,
       "version_minor": 0
      },
      "text/plain": [
       "  0%|          | 0/50 [00:00<?, ?it/s]"
      ]
     },
     "metadata": {},
     "output_type": "display_data"
    },
    {
     "name": "stdout",
     "output_type": "stream",
     "text": [
      "Epoch 0, train acc: 0.4433809518814087, val acc: 0.468111127614975\n",
      "train loss: 1.1992367506027222; val loss: 1.1613271236419678\n",
      "Epoch 1, train acc: 0.46566665172576904, val acc: 0.47877779603004456\n",
      "train loss: 1.1651827096939087; val loss: 1.1406508684158325\n",
      "Epoch 2, train acc: 0.46885713934898376, val acc: 0.4703333377838135\n",
      "train loss: 1.1602741479873657; val loss: 1.149618148803711\n",
      "Epoch 3, train acc: 0.4734761714935303, val acc: 0.4757777750492096\n",
      "train loss: 1.1476926803588867; val loss: 1.1395347118377686\n",
      "Epoch 4, train acc: 0.47652381658554077, val acc: 0.476666659116745\n",
      "train loss: 1.1490159034729004; val loss: 1.1519590616226196\n",
      "Epoch 5, train acc: 0.47890475392341614, val acc: 0.4708888828754425\n",
      "train loss: 1.1487690210342407; val loss: 1.164040446281433\n",
      "Epoch 6, train acc: 0.47495236992836, val acc: 0.4856666624546051\n",
      "train loss: 1.145078182220459; val loss: 1.133867859840393\n",
      "Epoch 7, train acc: 0.47785714268684387, val acc: 0.4735555648803711\n",
      "train loss: 1.1437339782714844; val loss: 1.1417683362960815\n",
      "Epoch 8, train acc: 0.47966665029525757, val acc: 0.4726666808128357\n",
      "train loss: 1.1403862237930298; val loss: 1.1463539600372314\n",
      "Epoch 9, train acc: 0.4796190559864044, val acc: 0.48899999260902405\n",
      "train loss: 1.1408792734146118; val loss: 1.1353026628494263\n",
      "Epoch 10, train acc: 0.4848095178604126, val acc: 0.4906666576862335\n",
      "train loss: 1.1330589056015015; val loss: 1.1202363967895508\n",
      "Epoch 11, train acc: 0.48295238614082336, val acc: 0.4905555546283722\n",
      "train loss: 1.1305749416351318; val loss: 1.1222892999649048\n",
      "Epoch 12, train acc: 0.48595237731933594, val acc: 0.48811110854148865\n",
      "train loss: 1.1270010471343994; val loss: 1.124103307723999\n",
      "Epoch 13, train acc: 0.4814285635948181, val acc: 0.49255555868148804\n",
      "train loss: 1.129051685333252; val loss: 1.1180764436721802\n",
      "Epoch 14, train acc: 0.48585712909698486, val acc: 0.4877777695655823\n",
      "train loss: 1.127638339996338; val loss: 1.1209988594055176\n",
      "Epoch 15, train acc: 0.4835714101791382, val acc: 0.4915555715560913\n",
      "train loss: 1.1264163255691528; val loss: 1.1149348020553589\n",
      "Epoch 16, train acc: 0.4899523854255676, val acc: 0.49122223258018494\n",
      "train loss: 1.1221954822540283; val loss: 1.122352957725525\n",
      "Epoch 17, train acc: 0.48899999260902405, val acc: 0.49533334374427795\n",
      "train loss: 1.1264721155166626; val loss: 1.115745186805725\n",
      "Epoch 18, train acc: 0.49057140946388245, val acc: 0.49000000953674316\n",
      "train loss: 1.12490713596344; val loss: 1.1139602661132812\n",
      "Epoch 19, train acc: 0.49314284324645996, val acc: 0.49033334851264954\n",
      "train loss: 1.1199090480804443; val loss: 1.1167429685592651\n",
      "Epoch 20, train acc: 0.4862380921840668, val acc: 0.4967777729034424\n",
      "train loss: 1.1230021715164185; val loss: 1.1147913932800293\n",
      "Epoch 21, train acc: 0.4881904721260071, val acc: 0.49077779054641724\n",
      "train loss: 1.1210466623306274; val loss: 1.1139888763427734\n",
      "Epoch 22, train acc: 0.4895237982273102, val acc: 0.4866666793823242\n",
      "train loss: 1.1220471858978271; val loss: 1.1142666339874268\n",
      "Epoch 23, train acc: 0.49033331871032715, val acc: 0.4897777736186981\n",
      "train loss: 1.1220927238464355; val loss: 1.117026448249817\n",
      "Epoch 24, train acc: 0.48461905121803284, val acc: 0.4963333308696747\n",
      "train loss: 1.123260259628296; val loss: 1.1211507320404053\n",
      "Epoch 25, train acc: 0.4889523684978485, val acc: 0.4936666786670685\n",
      "train loss: 1.1243896484375; val loss: 1.124472737312317\n",
      "Epoch 26, train acc: 0.48790475726127625, val acc: 0.4914444386959076\n",
      "train loss: 1.1244856119155884; val loss: 1.115775465965271\n",
      "Epoch 27, train acc: 0.4922381043434143, val acc: 0.4956666827201843\n",
      "train loss: 1.1188971996307373; val loss: 1.114018201828003\n",
      "Epoch 28, train acc: 0.4872380793094635, val acc: 0.4914444386959076\n",
      "train loss: 1.1278955936431885; val loss: 1.112257719039917\n",
      "Epoch 29, train acc: 0.4873809516429901, val acc: 0.4945555627346039\n",
      "train loss: 1.1267346143722534; val loss: 1.1221128702163696\n",
      "Epoch 30, train acc: 0.4886666536331177, val acc: 0.4968889057636261\n",
      "train loss: 1.1220903396606445; val loss: 1.1161575317382812\n",
      "Epoch 31, train acc: 0.4920952320098877, val acc: 0.4964444637298584\n",
      "train loss: 1.116697907447815; val loss: 1.1194500923156738\n",
      "Epoch 32, train acc: 0.4867618978023529, val acc: 0.48544445633888245\n",
      "train loss: 1.121702790260315; val loss: 1.1217806339263916\n",
      "Epoch 33, train acc: 0.49219048023223877, val acc: 0.49344444274902344\n",
      "train loss: 1.1202868223190308; val loss: 1.1261894702911377\n",
      "Epoch 34, train acc: 0.4934285581111908, val acc: 0.48955556750297546\n",
      "train loss: 1.1165692806243896; val loss: 1.117040991783142\n",
      "Epoch 35, train acc: 0.488904744386673, val acc: 0.4946666657924652\n",
      "train loss: 1.1218386888504028; val loss: 1.1144503355026245\n",
      "Epoch 36, train acc: 0.4887142777442932, val acc: 0.49222221970558167\n",
      "train loss: 1.119454264640808; val loss: 1.1211950778961182\n",
      "Epoch 37, train acc: 0.4870952367782593, val acc: 0.4918888807296753\n",
      "train loss: 1.1262550354003906; val loss: 1.1191068887710571\n",
      "Epoch 38, train acc: 0.4928095042705536, val acc: 0.4946666657924652\n",
      "train loss: 1.1214056015014648; val loss: 1.120378851890564\n",
      "Epoch 39, train acc: 0.4874761998653412, val acc: 0.49988889694213867\n",
      "train loss: 1.1207553148269653; val loss: 1.1124277114868164\n",
      "Epoch 40, train acc: 0.48719048500061035, val acc: 0.49088889360427856\n",
      "train loss: 1.1218785047531128; val loss: 1.1201393604278564\n",
      "Epoch 41, train acc: 0.4900476038455963, val acc: 0.4924444556236267\n",
      "train loss: 1.1170932054519653; val loss: 1.1166974306106567\n",
      "Epoch 42, train acc: 0.4894285798072815, val acc: 0.4862222373485565\n",
      "train loss: 1.1203372478485107; val loss: 1.1236590147018433\n",
      "Epoch 43, train acc: 0.48752379417419434, val acc: 0.4955555498600006\n",
      "train loss: 1.1211235523223877; val loss: 1.1229932308197021\n",
      "Epoch 44, train acc: 0.49009522795677185, val acc: 0.49088889360427856\n",
      "train loss: 1.119446873664856; val loss: 1.1241830587387085\n",
      "Epoch 45, train acc: 0.48961904644966125, val acc: 0.5008888840675354\n",
      "train loss: 1.1204464435577393; val loss: 1.1099684238433838\n",
      "Epoch 46, train acc: 0.49000000953674316, val acc: 0.48677778244018555\n",
      "train loss: 1.1191489696502686; val loss: 1.1243716478347778\n",
      "Epoch 47, train acc: 0.49261903762817383, val acc: 0.487888902425766\n",
      "train loss: 1.116106390953064; val loss: 1.1217132806777954\n",
      "Epoch 48, train acc: 0.4908571243286133, val acc: 0.48866668343544006\n",
      "train loss: 1.1234978437423706; val loss: 1.1202912330627441\n",
      "Epoch 49, train acc: 0.486380934715271, val acc: 0.4914444386959076\n",
      "train loss: 1.120784878730774; val loss: 1.1189497709274292\n"
     ]
    }
   ],
   "source": [
    "train_losses, train_accuracy, val_losses, val_accuracy = train_classifier(\n",
    "    classifier, NUM_EPOCHS, trainloader, testloader,\n",
    "    optimizer, criterion, scheduler,\n",
    "    enable_train_mode = lambda: classifier.decoder.train(),\n",
    "    enable_test_mode = lambda: classifier.decoder.eval(),\n",
    ")"
   ]
  },
  {
   "cell_type": "code",
   "execution_count": 76,
   "id": "acknowledged-sarah",
   "metadata": {
    "ExecuteTime": {
     "end_time": "2021-05-07T08:03:12.856226Z",
     "start_time": "2021-05-07T08:03:12.543852Z"
    }
   },
   "outputs": [
    {
     "data": {
      "image/png": "[encoded data removed]",
      "text/plain": [
       "<Figure size 864x432 with 2 Axes>"
      ]
     },
     "metadata": {},
     "output_type": "display_data"
    }
   ],
   "source": [
    "fig, axs = plt.subplots(figsize=(12, 6))\n",
    "\n",
    "plt.subplot(1, 2, 1)\n",
    "plt.plot(train_losses, label='train')\n",
    "plt.plot(val_losses, label='validation')\n",
    "plt.xlabel('iter')\n",
    "plt.ylabel('loss')\n",
    "plt.legend()\n",
    "\n",
    "plt.subplot(1, 2, 2)\n",
    "plt.xlabel('iter')\n",
    "plt.ylabel('accuracy');\n",
    "plt.plot(train_accuracy, label='train')\n",
    "plt.plot(val_accuracy, label='validation')\n",
    "plt.legend()\n",
    "\n",
    "plt.savefig(f'plots/clfdec_{arch}_{EMBEDDING_DIM}_{NUM_OBS}_{NUM_EPOCHS}.png')"
   ]
  },
  {
   "cell_type": "code",
   "execution_count": null,
   "id": "chicken-fetish",
   "metadata": {
    "ExecuteTime": {
     "end_time": "2021-05-06T08:21:47.203289Z",
     "start_time": "2021-05-06T08:21:47.193596Z"
    },
    "id": "C7-X1GRsAK7x"
   },
   "outputs": [],
   "source": []
  },
  {
   "cell_type": "markdown",
   "id": "convenient-crash",
   "metadata": {},
   "source": [
    "## Tabnet on handmade features"
   ]
  },
  {
   "cell_type": "code",
   "execution_count": null,
   "id": "geological-training",
   "metadata": {},
   "outputs": [],
   "source": []
  },
  {
   "cell_type": "code",
   "execution_count": null,
   "id": "gorgeous-league",
   "metadata": {},
   "outputs": [],
   "source": []
  }
 ],
 "metadata": {
  "kernelspec": {
   "display_name": "Python 3",
   "language": "python",
   "name": "python3"
  },
  "language_info": {
   "codemirror_mode": {
    "name": "ipython",
    "version": 3
   },
   "file_extension": ".py",
   "mimetype": "text/x-python",
   "name": "python",
   "nbconvert_exporter": "python",
   "pygments_lexer": "ipython3",
   "version": "3.8.6"
  },
  "toc": {
   "base_numbering": 1,
   "nav_menu": {},
   "number_sections": true,
   "sideBar": true,
   "skip_h1_title": true,
   "title_cell": "Table of Contents",
   "title_sidebar": "Contents",
   "toc_cell": true,
   "toc_position": {},
   "toc_section_display": true,
   "toc_window_display": false
  }
 },
 "nbformat": 4,
 "nbformat_minor": 5
}
