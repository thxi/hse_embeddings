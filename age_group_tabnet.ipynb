{
 "cells": [
  {
   "cell_type": "markdown",
   "id": "finnish-harris",
   "metadata": {
    "toc": true
   },
   "source": [
    "<h1>Table of Contents<span class=\"tocSkip\"></span></h1>\n",
    "<div class=\"toc\"><ul class=\"toc-item\"><li><span><a href=\"#Handmade\" data-toc-modified-id=\"Handmade-1\"><span class=\"toc-item-num\">1&nbsp;&nbsp;</span>Handmade</a></span></li><li><span><a href=\"#Embeddings\" data-toc-modified-id=\"Embeddings-2\"><span class=\"toc-item-num\">2&nbsp;&nbsp;</span>Embeddings</a></span></li></ul></div>"
   ]
  },
  {
   "cell_type": "code",
   "execution_count": 1,
   "id": "inner-canada",
   "metadata": {
    "ExecuteTime": {
     "end_time": "2021-05-19T10:19:10.025190Z",
     "start_time": "2021-05-19T10:19:09.317526Z"
    },
    "id": "thKgYQF3URYw"
   },
   "outputs": [],
   "source": [
    "import pandas as pd\n",
    "import numpy as np\n",
    "import matplotlib.pyplot as plt\n",
    "import seaborn as sns\n",
    "\n",
    "sns.set()\n",
    "\n",
    "sns.set_style(\"whitegrid\", {'axes.grid' : False})\n",
    "\n",
    "from tqdm.auto import tqdm"
   ]
  },
  {
   "cell_type": "code",
   "execution_count": 2,
   "id": "sublime-strap",
   "metadata": {
    "ExecuteTime": {
     "end_time": "2021-05-19T10:19:10.039442Z",
     "start_time": "2021-05-19T10:19:10.026761Z"
    }
   },
   "outputs": [],
   "source": [
    "%load_ext autoreload\n",
    "%autoreload 2"
   ]
  },
  {
   "cell_type": "code",
   "execution_count": 3,
   "id": "polar-married",
   "metadata": {
    "ExecuteTime": {
     "end_time": "2021-05-19T10:19:10.508045Z",
     "start_time": "2021-05-19T10:19:10.041033Z"
    },
    "colab": {
     "base_uri": "https://localhost:8080/"
    },
    "id": "UBFRCZowUWGt",
    "outputId": "09cfb931-6126-4fcf-f0b6-d6abfa0d4ba5"
   },
   "outputs": [
    {
     "data": {
      "text/plain": [
       "True"
      ]
     },
     "execution_count": 3,
     "metadata": {},
     "output_type": "execute_result"
    }
   ],
   "source": [
    "import torch\n",
    "torch.cuda.is_available()"
   ]
  },
  {
   "cell_type": "code",
   "execution_count": 4,
   "id": "infectious-providence",
   "metadata": {
    "ExecuteTime": {
     "end_time": "2021-05-19T10:19:10.521619Z",
     "start_time": "2021-05-19T10:19:10.509866Z"
    },
    "colab": {
     "base_uri": "https://localhost:8080/"
    },
    "id": "Q-kXTk-bNPzx",
    "outputId": "7a991cca-3b7a-4ec3-9fa8-ee0b5fce2537"
   },
   "outputs": [
    {
     "name": "stdout",
     "output_type": "stream",
     "text": [
      "cuda:0\n"
     ]
    }
   ],
   "source": [
    "device = torch.device(\"cuda:0\" if torch.cuda.is_available() else \"cpu\")\n",
    "\n",
    "# Assuming that we are on a CUDA machine, this should print a CUDA device:\n",
    "\n",
    "print(device)"
   ]
  },
  {
   "cell_type": "code",
   "execution_count": 5,
   "id": "peaceful-chaos",
   "metadata": {
    "ExecuteTime": {
     "end_time": "2021-05-19T10:19:10.666097Z",
     "start_time": "2021-05-19T10:19:10.522827Z"
    }
   },
   "outputs": [],
   "source": [
    "from pytorch_metric_learning import losses, miners, distances, reducers, samplers\n",
    "import torch.optim as optim\n",
    "from sklearn.model_selection import train_test_split\n",
    "import torch.nn as nn\n",
    "import random\n",
    "from pytorch_tabnet.tab_network import TabNet"
   ]
  },
  {
   "cell_type": "code",
   "execution_count": 6,
   "id": "romantic-brook",
   "metadata": {
    "ExecuteTime": {
     "end_time": "2021-05-19T10:19:10.682756Z",
     "start_time": "2021-05-19T10:19:10.667223Z"
    }
   },
   "outputs": [],
   "source": [
    "from code.dataloader_handmade import AgeGroupHandmadeDataset\n",
    "from code.encoder_tabnet import Encoder\n",
    "from code.decoder import Decoder\n",
    "from code.classifier import Classifier\n",
    "from code.utils import train_ml_model, train_classifier, train_tabnet"
   ]
  },
  {
   "cell_type": "code",
   "execution_count": 7,
   "id": "upset-raising",
   "metadata": {
    "ExecuteTime": {
     "end_time": "2021-05-19T10:19:10.696656Z",
     "start_time": "2021-05-19T10:19:10.683752Z"
    },
    "id": "pm80PCIl79LE"
   },
   "outputs": [],
   "source": [
    "BATCH_SIZE = 64 # BATCH_SIZE unique persons\n",
    "NUM_OF_SUBSEQUENCES = 5\n",
    "SUBSEQUENCE_LENGTH = 90\n",
    "\n",
    "EMBEDDING_DIM = 10\n",
    "LR = 0.002\n",
    "NUM_EPOCHS = 10\n",
    "\n",
    "cat_vocab_sizes = [204]\n",
    "cat_embedding_dim = 20\n",
    "num_input_dim = 4\n",
    "NUM_OBS = 30000\n",
    "SCHEDULER_EPOCHS = 2"
   ]
  },
  {
   "cell_type": "code",
   "execution_count": 8,
   "id": "available-surname",
   "metadata": {
    "ExecuteTime": {
     "end_time": "2021-05-19T10:19:14.168968Z",
     "start_time": "2021-05-19T10:19:10.698141Z"
    }
   },
   "outputs": [],
   "source": [
    "dataset = AgeGroupHandmadeDataset()"
   ]
  },
  {
   "cell_type": "code",
   "execution_count": 9,
   "id": "linear-trinidad",
   "metadata": {
    "ExecuteTime": {
     "end_time": "2021-05-19T10:19:14.182847Z",
     "start_time": "2021-05-19T10:19:14.170036Z"
    },
    "id": "WxzkX-VZ3zJu"
   },
   "outputs": [],
   "source": [
    "torch.manual_seed(0)\n",
    "random.seed(0)\n",
    "np.random.seed(0)"
   ]
  },
  {
   "cell_type": "code",
   "execution_count": 10,
   "id": "peaceful-diameter",
   "metadata": {
    "ExecuteTime": {
     "end_time": "2021-05-19T10:19:14.204654Z",
     "start_time": "2021-05-19T10:19:14.183943Z"
    },
    "id": "2W-DuPoHuACu"
   },
   "outputs": [],
   "source": [
    "dataloader = torch.utils.data.DataLoader(\n",
    "    dataset, batch_size=BATCH_SIZE,\n",
    "    num_workers=0,\n",
    ")\n",
    "\n",
    "targets = dataset.y\n",
    "\n",
    "train_idx, test_idx= train_test_split(\n",
    "    np.arange(len(targets)),\n",
    "    test_size=0.3,\n",
    "    shuffle=True,\n",
    "    stratify=targets,\n",
    "    random_state=228\n",
    ")\n",
    "\n",
    "train_sampler = torch.utils.data.SubsetRandomSampler(train_idx)\n",
    "test_sampler = torch.utils.data.SubsetRandomSampler(test_idx)\n",
    "\n",
    "trainloader = torch.utils.data.DataLoader(\n",
    "    dataset, batch_size=BATCH_SIZE,\n",
    "    sampler=train_sampler)\n",
    "testloader = torch.utils.data.DataLoader(\n",
    "    dataset, batch_size=BATCH_SIZE,\n",
    "    sampler=test_sampler)"
   ]
  },
  {
   "cell_type": "markdown",
   "id": "hispanic-forward",
   "metadata": {},
   "source": [
    "##  Handmade"
   ]
  },
  {
   "cell_type": "code",
   "execution_count": null,
   "id": "violent-university",
   "metadata": {
    "ExecuteTime": {
     "end_time": "2021-05-18T12:45:49.134302Z",
     "start_time": "2021-05-18T12:45:49.121838Z"
    }
   },
   "outputs": [],
   "source": [
    "from code.classifier_tabnet import Classifier"
   ]
  },
  {
   "cell_type": "code",
   "execution_count": null,
   "id": "neural-aruba",
   "metadata": {
    "ExecuteTime": {
     "end_time": "2021-05-18T13:01:04.229180Z",
     "start_time": "2021-05-18T13:01:04.177750Z"
    }
   },
   "outputs": [],
   "source": [
    "clf = Classifier(\n",
    "    input_dim=dataset.X.shape[1],\n",
    "    embedding_dim=EMBEDDING_DIM,\n",
    "    out_dim=4,\n",
    ")"
   ]
  },
  {
   "cell_type": "code",
   "execution_count": null,
   "id": "flying-wagon",
   "metadata": {
    "ExecuteTime": {
     "end_time": "2021-05-18T13:01:04.665357Z",
     "start_time": "2021-05-18T13:01:04.622130Z"
    }
   },
   "outputs": [],
   "source": [
    "clf.to(device);"
   ]
  },
  {
   "cell_type": "code",
   "execution_count": null,
   "id": "competent-divide",
   "metadata": {
    "ExecuteTime": {
     "end_time": "2021-05-18T13:01:04.869998Z",
     "start_time": "2021-05-18T13:01:04.845100Z"
    }
   },
   "outputs": [],
   "source": [
    "NUM_EPOCHS = 30\n",
    "LR = 0.02"
   ]
  },
  {
   "cell_type": "code",
   "execution_count": null,
   "id": "buried-zoning",
   "metadata": {
    "ExecuteTime": {
     "end_time": "2021-05-18T13:01:05.086960Z",
     "start_time": "2021-05-18T13:01:05.065749Z"
    }
   },
   "outputs": [],
   "source": [
    "optimizer = optim.Adam(clf.parameters(), lr=LR)\n",
    "criterion = nn.CrossEntropyLoss()\n",
    "scheduler = optim.lr_scheduler.ReduceLROnPlateau(\n",
    "    optimizer,\n",
    "    patience=SCHEDULER_EPOCHS,\n",
    ")"
   ]
  },
  {
   "cell_type": "code",
   "execution_count": null,
   "id": "seeing-immigration",
   "metadata": {
    "ExecuteTime": {
     "end_time": "2021-05-18T13:01:05.379192Z",
     "start_time": "2021-05-18T13:01:05.344634Z"
    }
   },
   "outputs": [],
   "source": [
    "train_losses = []\n",
    "train_accuracy = []\n",
    "val_losses = []\n",
    "val_accuracy = []"
   ]
  },
  {
   "cell_type": "code",
   "execution_count": null,
   "id": "killing-delicious",
   "metadata": {
    "ExecuteTime": {
     "end_time": "2021-05-18T13:07:27.957510Z",
     "start_time": "2021-05-18T13:01:05.890749Z"
    },
    "scrolled": true
   },
   "outputs": [],
   "source": [
    "for epoch in tqdm(range(NUM_EPOCHS)):\n",
    "    clf.train()\n",
    "    correct = 0\n",
    "    total = 0\n",
    "    epoch_losses = []\n",
    "    for (sequences, labels) in trainloader:\n",
    "        sequences = sequences.to(device)\n",
    "        labels = labels.to(device)\n",
    "\n",
    "        outputs = clf(sequences)\n",
    "        loss = criterion(outputs, labels)\n",
    "\n",
    "        optimizer.zero_grad()\n",
    "        loss.backward()\n",
    "        \n",
    "        torch.nn.utils.clip_grad_norm_(clf.parameters(), 0.3)\n",
    "        optimizer.step()\n",
    "\n",
    "        pred_labels = torch.argmax(outputs, dim=1)\n",
    "        correct += sum(labels == pred_labels)\n",
    "        total += len(sequences)\n",
    "        epoch_losses.append(loss.item())\n",
    "\n",
    "    train_acc = correct / total\n",
    "    epoch_loss = torch.tensor(epoch_losses).mean()\n",
    "    train_losses.append(epoch_loss)\n",
    "    train_accuracy.append(train_acc.item())\n",
    "\n",
    "    clf.eval()\n",
    "    correct = 0\n",
    "    total = 0\n",
    "    epoch_val_losses = []\n",
    "    for sequences, labels in testloader:\n",
    "        sequences = sequences.to(device)\n",
    "        labels = labels.to(device)\n",
    "\n",
    "        with torch.no_grad():\n",
    "            outputs = clf(sequences)\n",
    "            loss = criterion(outputs, labels)\n",
    "\n",
    "            pred_labels = torch.argmax(outputs, dim=1)\n",
    "            correct += sum(labels == pred_labels)\n",
    "            total += len(sequences)\n",
    "            epoch_val_losses.append(loss.item())\n",
    "\n",
    "    val_acc = correct / total\n",
    "    epoch_val_loss = torch.tensor(epoch_val_losses).mean()\n",
    "    val_losses.append(epoch_val_loss)\n",
    "    val_accuracy.append(val_acc.item())\n",
    "\n",
    "    scheduler.step(epoch_val_loss)\n",
    "\n",
    "    print(f'Epoch {epoch}, train acc: {train_acc}, val acc: {val_acc}')\n",
    "    print(f'train loss: {epoch_loss}; val loss: {epoch_val_loss}')"
   ]
  },
  {
   "cell_type": "code",
   "execution_count": null,
   "id": "narrative-handy",
   "metadata": {
    "ExecuteTime": {
     "end_time": "2021-05-18T13:11:03.068287Z",
     "start_time": "2021-05-18T13:11:02.637664Z"
    }
   },
   "outputs": [],
   "source": [
    "fig, axs = plt.subplots(figsize=(12, 6))\n",
    "\n",
    "plt.subplot(1, 2, 1)\n",
    "plt.plot(train_losses, label='train')\n",
    "plt.plot(val_losses, label='validation')\n",
    "plt.xlabel('iter')\n",
    "plt.ylabel('loss')\n",
    "plt.legend()\n",
    "\n",
    "plt.subplot(1, 2, 2)\n",
    "plt.xlabel('iter')\n",
    "plt.ylabel('accuracy');\n",
    "plt.plot(train_accuracy, label='train')\n",
    "plt.plot(val_accuracy, label='validation')\n",
    "plt.legend()\n",
    "\n",
    "plt.savefig(f'plots/tabnet_handmade_{EMBEDDING_DIM}_{NUM_EPOCHS}.png')"
   ]
  },
  {
   "cell_type": "code",
   "execution_count": null,
   "id": "appropriate-occasion",
   "metadata": {
    "ExecuteTime": {
     "end_time": "2021-05-18T13:24:07.834526Z",
     "start_time": "2021-05-18T13:24:07.811004Z"
    }
   },
   "outputs": [],
   "source": [
    "val_accuracy[-1]"
   ]
  },
  {
   "cell_type": "markdown",
   "id": "smart-turkish",
   "metadata": {},
   "source": [
    "## Embeddings"
   ]
  },
  {
   "cell_type": "code",
   "execution_count": 18,
   "id": "included-roads",
   "metadata": {
    "ExecuteTime": {
     "end_time": "2021-05-19T10:21:10.936499Z",
     "start_time": "2021-05-19T10:21:10.914824Z"
    }
   },
   "outputs": [],
   "source": [
    "from code.dataloader import AgeGroupMLDataset, AgeGroupClfDataset\n",
    "from code.encoder_gru import Encoder\n",
    "from code.classifier_tabnet import Classifier\n",
    "from code.utils import train_ml_model, train_classifier"
   ]
  },
  {
   "cell_type": "code",
   "execution_count": 22,
   "id": "paperback-flower",
   "metadata": {
    "ExecuteTime": {
     "end_time": "2021-05-19T10:21:39.418819Z",
     "start_time": "2021-05-19T10:21:39.403889Z"
    }
   },
   "outputs": [],
   "source": [
    "BATCH_SIZE = 64 # BATCH_SIZE unique persons\n",
    "NUM_OF_SUBSEQUENCES = 5\n",
    "SUBSEQUENCE_LENGTH = 90\n",
    "\n",
    "EMBEDDING_DIM = 256\n",
    "LR = 0.002\n",
    "NUM_EPOCHS = 20\n",
    "\n",
    "cat_vocab_sizes = [204]\n",
    "cat_embedding_dim = 20\n",
    "num_input_dim = 4\n",
    "NUM_OBS = 30000\n",
    "SCHEDULER_EPOCHS = 2"
   ]
  },
  {
   "cell_type": "code",
   "execution_count": 13,
   "id": "material-dimension",
   "metadata": {
    "ExecuteTime": {
     "end_time": "2021-05-19T10:20:23.509002Z",
     "start_time": "2021-05-19T10:20:07.193001Z"
    },
    "id": "GYYj4IyZdrtg"
   },
   "outputs": [],
   "source": [
    "dataset = AgeGroupMLDataset(num_observations=NUM_OBS)"
   ]
  },
  {
   "cell_type": "code",
   "execution_count": 14,
   "id": "seventh-think",
   "metadata": {
    "ExecuteTime": {
     "end_time": "2021-05-19T10:20:23.583170Z",
     "start_time": "2021-05-19T10:20:23.510585Z"
    },
    "id": "EY6GM_RjsCWg"
   },
   "outputs": [],
   "source": [
    "dataset.load_client_to_indices()"
   ]
  },
  {
   "cell_type": "code",
   "execution_count": 15,
   "id": "registered-alpha",
   "metadata": {
    "ExecuteTime": {
     "end_time": "2021-05-19T10:20:40.171697Z",
     "start_time": "2021-05-19T10:20:23.584541Z"
    },
    "id": "ZZyL5MiF-Ufm"
   },
   "outputs": [],
   "source": [
    "clfdataset = AgeGroupClfDataset()"
   ]
  },
  {
   "cell_type": "code",
   "execution_count": 16,
   "id": "bridal-livestock",
   "metadata": {
    "ExecuteTime": {
     "end_time": "2021-05-19T10:20:40.203017Z",
     "start_time": "2021-05-19T10:20:40.172894Z"
    },
    "id": "nW8khMXN-STb"
   },
   "outputs": [],
   "source": [
    "clfdataset.load_client_to_indices()"
   ]
  },
  {
   "cell_type": "code",
   "execution_count": 17,
   "id": "young-framing",
   "metadata": {
    "ExecuteTime": {
     "end_time": "2021-05-19T10:20:55.325265Z",
     "start_time": "2021-05-19T10:20:55.305468Z"
    },
    "id": "WxzkX-VZ3zJu"
   },
   "outputs": [],
   "source": [
    "torch.manual_seed(0)\n",
    "random.seed(0)\n",
    "np.random.seed(0)"
   ]
  },
  {
   "cell_type": "code",
   "execution_count": 23,
   "id": "honey-budapest",
   "metadata": {
    "ExecuteTime": {
     "end_time": "2021-05-19T10:21:43.787294Z",
     "start_time": "2021-05-19T10:21:43.740184Z"
    },
    "id": "2W-DuPoHuACu"
   },
   "outputs": [],
   "source": [
    "targets = dataset.targets\n",
    "\n",
    "dataloader = torch.utils.data.DataLoader(\n",
    "    dataset, batch_size=BATCH_SIZE,\n",
    "    num_workers=0,\n",
    ")\n",
    "\n",
    "targets = clfdataset.targets\n",
    "\n",
    "train_idx, test_idx= train_test_split(\n",
    "    np.arange(len(targets)),\n",
    "    test_size=0.3,\n",
    "    shuffle=True,\n",
    "    stratify=targets,\n",
    "    random_state=228\n",
    ")\n",
    "\n",
    "train_sampler = torch.utils.data.SubsetRandomSampler(train_idx)\n",
    "test_sampler = torch.utils.data.SubsetRandomSampler(test_idx)\n",
    "\n",
    "trainloader = torch.utils.data.DataLoader(\n",
    "    clfdataset, batch_size=BATCH_SIZE,\n",
    "    sampler=train_sampler)\n",
    "testloader = torch.utils.data.DataLoader(\n",
    "    clfdataset, batch_size=BATCH_SIZE,\n",
    "    sampler=test_sampler)"
   ]
  },
  {
   "cell_type": "code",
   "execution_count": 24,
   "id": "offensive-tennis",
   "metadata": {
    "ExecuteTime": {
     "end_time": "2021-05-19T10:22:50.301870Z",
     "start_time": "2021-05-19T10:22:48.316071Z"
    }
   },
   "outputs": [],
   "source": [
    "encoder = Encoder(\n",
    "    numerical_input_dim=num_input_dim,\n",
    "    cat_vocab_sizes=cat_vocab_sizes,\n",
    "    cat_embedding_dim=cat_embedding_dim,\n",
    "    embedding_dim=EMBEDDING_DIM,\n",
    ")\n",
    "encoder.to(device);\n",
    "optimizer = optim.Adam(encoder.parameters(), lr=LR)\n",
    "\n",
    "distance = distances.CosineSimilarity()\n",
    "reducer = reducers.ThresholdReducer(low = 0) # basically, returns average\n",
    "loss_func = losses.TripletMarginLoss(margin = 0.4, distance = distance, reducer = reducer)\n",
    "mining_func = miners.TripletMarginMiner(margin = 0.4, distance = distance, type_of_triplets = \"semihard\")"
   ]
  },
  {
   "cell_type": "code",
   "execution_count": 25,
   "id": "homeless-queens",
   "metadata": {
    "ExecuteTime": {
     "end_time": "2021-05-19T10:33:54.236547Z",
     "start_time": "2021-05-19T10:22:51.147228Z"
    },
    "scrolled": true
   },
   "outputs": [
    {
     "data": {
      "application/vnd.jupyter.widget-view+json": {
       "model_id": "4dc6bbf9c8094fc1a49bc32871a8d893",
       "version_major": 2,
       "version_minor": 0
      },
      "text/plain": [
       "  0%|          | 0/20 [00:00<?, ?it/s]"
      ]
     },
     "metadata": {},
     "output_type": "display_data"
    },
    {
     "name": "stdout",
     "output_type": "stream",
     "text": [
      "Epoch 0 Loss = 0.18814076483249664\n",
      "Epoch 1 Loss = 0.15974928438663483\n",
      "Epoch 2 Loss = 0.15075694024562836\n",
      "Epoch 3 Loss = 0.14774274826049805\n",
      "Epoch 4 Loss = 0.14597676694393158\n",
      "Epoch 5 Loss = 0.1448737531900406\n",
      "Epoch 6 Loss = 0.14377163350582123\n",
      "Epoch 7 Loss = 0.14267662167549133\n",
      "Epoch 8 Loss = 0.14215195178985596\n",
      "Epoch 9 Loss = 0.14124317467212677\n",
      "Epoch 10 Loss = 0.14108020067214966\n",
      "Epoch 11 Loss = 0.1402079164981842\n",
      "Epoch 12 Loss = 0.1396324187517166\n",
      "Epoch 13 Loss = 0.139360249042511\n",
      "Epoch 14 Loss = 0.13896039128303528\n",
      "Epoch 15 Loss = 0.13913142681121826\n",
      "Epoch 16 Loss = 0.13836294412612915\n",
      "Epoch 17 Loss = 0.13816387951374054\n",
      "Epoch 18 Loss = 0.1376878321170807\n",
      "Epoch 19 Loss = 0.13795436918735504\n"
     ]
    },
    {
     "data": {
      "image/png": "[encoded data removed]",
      "text/plain": [
       "<Figure size 864x432 with 1 Axes>"
      ]
     },
     "metadata": {},
     "output_type": "display_data"
    }
   ],
   "source": [
    "train_losses = train_ml_model(\n",
    "    encoder, NUM_EPOCHS, dataloader, NUM_OF_SUBSEQUENCES,\n",
    "    mining_func, loss_func, optimizer)"
   ]
  },
  {
   "cell_type": "code",
   "execution_count": 27,
   "id": "natural-fundamental",
   "metadata": {
    "ExecuteTime": {
     "end_time": "2021-05-19T10:34:07.444689Z",
     "start_time": "2021-05-19T10:34:07.283725Z"
    }
   },
   "outputs": [
    {
     "data": {
      "image/png": "[encoded data removed]",
      "text/plain": [
       "<Figure size 864x432 with 1 Axes>"
      ]
     },
     "metadata": {},
     "output_type": "display_data"
    }
   ],
   "source": [
    "fig, axs = plt.subplots(figsize=(12, 6))\n",
    "plt.plot(train_losses, label='train')\n",
    "plt.xlabel('iter')\n",
    "plt.ylabel('loss');"
   ]
  },
  {
   "cell_type": "code",
   "execution_count": 28,
   "id": "official-firewall",
   "metadata": {
    "ExecuteTime": {
     "end_time": "2021-05-19T10:34:37.164333Z",
     "start_time": "2021-05-19T10:34:37.150860Z"
    }
   },
   "outputs": [],
   "source": [
    "encoder.eval();"
   ]
  },
  {
   "cell_type": "code",
   "execution_count": 29,
   "id": "based-aerospace",
   "metadata": {
    "ExecuteTime": {
     "end_time": "2021-05-19T10:34:37.559212Z",
     "start_time": "2021-05-19T10:34:37.539588Z"
    }
   },
   "outputs": [],
   "source": [
    "for param in encoder.parameters():\n",
    "    param.requires_grad = False"
   ]
  },
  {
   "cell_type": "code",
   "execution_count": 103,
   "id": "answering-macedonia",
   "metadata": {
    "ExecuteTime": {
     "end_time": "2021-05-19T11:14:27.154933Z",
     "start_time": "2021-05-19T11:14:27.123648Z"
    }
   },
   "outputs": [],
   "source": [
    "clf = Classifier(\n",
    "    input_dim=EMBEDDING_DIM,\n",
    "    embedding_dim=EMBEDDING_DIM,\n",
    "    out_dim=4,\n",
    ")"
   ]
  },
  {
   "cell_type": "code",
   "execution_count": 104,
   "id": "endangered-toddler",
   "metadata": {
    "ExecuteTime": {
     "end_time": "2021-05-19T11:14:27.308363Z",
     "start_time": "2021-05-19T11:14:27.280472Z"
    }
   },
   "outputs": [],
   "source": [
    "clf.to(device);"
   ]
  },
  {
   "cell_type": "code",
   "execution_count": 105,
   "id": "featured-better",
   "metadata": {
    "ExecuteTime": {
     "end_time": "2021-05-19T11:14:27.476454Z",
     "start_time": "2021-05-19T11:14:27.451470Z"
    }
   },
   "outputs": [],
   "source": [
    "NUM_EPOCHS = 60\n",
    "LR = 0.02"
   ]
  },
  {
   "cell_type": "code",
   "execution_count": 106,
   "id": "herbal-bundle",
   "metadata": {
    "ExecuteTime": {
     "end_time": "2021-05-19T11:14:27.650147Z",
     "start_time": "2021-05-19T11:14:27.630174Z"
    }
   },
   "outputs": [],
   "source": [
    "optimizer = optim.Adam(clf.parameters(), lr=LR)\n",
    "criterion = nn.CrossEntropyLoss()\n",
    "scheduler = optim.lr_scheduler.ReduceLROnPlateau(\n",
    "    optimizer,\n",
    "    patience=SCHEDULER_EPOCHS,\n",
    ")"
   ]
  },
  {
   "cell_type": "code",
   "execution_count": 107,
   "id": "included-procurement",
   "metadata": {
    "ExecuteTime": {
     "end_time": "2021-05-19T11:14:27.856827Z",
     "start_time": "2021-05-19T11:14:27.834641Z"
    }
   },
   "outputs": [],
   "source": [
    "train_losses = []\n",
    "train_accuracy = []\n",
    "val_losses = []\n",
    "val_accuracy = []"
   ]
  },
  {
   "cell_type": "code",
   "execution_count": 108,
   "id": "necessary-glory",
   "metadata": {
    "ExecuteTime": {
     "end_time": "2021-05-19T11:27:07.315267Z",
     "start_time": "2021-05-19T11:14:28.043911Z"
    },
    "scrolled": true
   },
   "outputs": [
    {
     "data": {
      "application/vnd.jupyter.widget-view+json": {
       "model_id": "f4f34daf3d4f438fbcb641c0ac6bafc1",
       "version_major": 2,
       "version_minor": 0
      },
      "text/plain": [
       "  0%|          | 0/60 [00:00<?, ?it/s]"
      ]
     },
     "metadata": {},
     "output_type": "display_data"
    },
    {
     "name": "stdout",
     "output_type": "stream",
     "text": [
      "Epoch 0, train acc: 0.34638094902038574, val acc: 0.33399999141693115\n",
      "train loss: 1.5555222034454346; val loss: 1.326651930809021\n",
      "Epoch 1, train acc: 0.43285712599754333, val acc: 0.4072222411632538\n",
      "train loss: 1.2139785289764404; val loss: 1.2080248594284058\n",
      "Epoch 2, train acc: 0.442809522151947, val acc: 0.4740000069141388\n",
      "train loss: 1.1872402429580688; val loss: 1.1294655799865723\n",
      "Epoch 3, train acc: 0.46666666865348816, val acc: 0.48044446110725403\n",
      "train loss: 1.1497089862823486; val loss: 1.1194477081298828\n",
      "Epoch 4, train acc: 0.46971428394317627, val acc: 0.47822222113609314\n",
      "train loss: 1.1432878971099854; val loss: 1.1258232593536377\n",
      "Epoch 5, train acc: 0.47371429204940796, val acc: 0.47911110520362854\n",
      "train loss: 1.1381678581237793; val loss: 1.1238540410995483\n",
      "Epoch 6, train acc: 0.4789523780345917, val acc: 0.49044445157051086\n",
      "train loss: 1.1238553524017334; val loss: 1.1124531030654907\n",
      "Epoch 7, train acc: 0.4850476086139679, val acc: 0.47777777910232544\n",
      "train loss: 1.1191436052322388; val loss: 1.1117740869522095\n",
      "Epoch 8, train acc: 0.4862857162952423, val acc: 0.49477776885032654\n",
      "train loss: 1.116163730621338; val loss: 1.0935873985290527\n",
      "Epoch 9, train acc: 0.4928095042705536, val acc: 0.507111132144928\n",
      "train loss: 1.1008974313735962; val loss: 1.0804251432418823\n",
      "Epoch 10, train acc: 0.49895238876342773, val acc: 0.49855557084083557\n",
      "train loss: 1.0863473415374756; val loss: 1.099767804145813\n",
      "Epoch 11, train acc: 0.5047142505645752, val acc: 0.5191110968589783\n",
      "train loss: 1.081757664680481; val loss: 1.0591334104537964\n",
      "Epoch 12, train acc: 0.5130952596664429, val acc: 0.5224444270133972\n",
      "train loss: 1.0728451013565063; val loss: 1.047049880027771\n",
      "Epoch 13, train acc: 0.5158095359802246, val acc: 0.5095555782318115\n",
      "train loss: 1.070594072341919; val loss: 1.0842230319976807\n",
      "Epoch 14, train acc: 0.5097143054008484, val acc: 0.5277777910232544\n",
      "train loss: 1.0833529233932495; val loss: 1.0539031028747559\n",
      "Epoch 15, train acc: 0.5170475840568542, val acc: 0.5329999923706055\n",
      "train loss: 1.0621976852416992; val loss: 1.040499210357666\n",
      "Epoch 16, train acc: 0.5174285769462585, val acc: 0.5228888988494873\n",
      "train loss: 1.0588936805725098; val loss: 1.0379036664962769\n",
      "Epoch 17, train acc: 0.5201904773712158, val acc: 0.5342222452163696\n",
      "train loss: 1.051697850227356; val loss: 1.0264489650726318\n",
      "Epoch 18, train acc: 0.5133333206176758, val acc: 0.5178889036178589\n",
      "train loss: 1.0665029287338257; val loss: 1.0489922761917114\n",
      "Epoch 19, train acc: 0.5248095393180847, val acc: 0.5285555720329285\n",
      "train loss: 1.0546969175338745; val loss: 1.049030065536499\n",
      "Epoch 20, train acc: 0.5236190557479858, val acc: 0.5383333563804626\n",
      "train loss: 1.0549050569534302; val loss: 1.0281529426574707\n",
      "Epoch 21, train acc: 0.5329999923706055, val acc: 0.5444444417953491\n",
      "train loss: 1.0387310981750488; val loss: 1.0188486576080322\n",
      "Epoch 22, train acc: 0.5308095216751099, val acc: 0.5404444336891174\n",
      "train loss: 1.0256826877593994; val loss: 1.0144705772399902\n",
      "Epoch 23, train acc: 0.5277618765830994, val acc: 0.5418888926506042\n",
      "train loss: 1.0335055589675903; val loss: 1.0205613374710083\n",
      "Epoch 24, train acc: 0.5290952324867249, val acc: 0.5373333096504211\n",
      "train loss: 1.0318187475204468; val loss: 1.011694312095642\n",
      "Epoch 25, train acc: 0.5352380871772766, val acc: 0.5402222275733948\n",
      "train loss: 1.0269248485565186; val loss: 1.014740228652954\n",
      "Epoch 26, train acc: 0.5340952277183533, val acc: 0.5413333177566528\n",
      "train loss: 1.025241494178772; val loss: 1.0132911205291748\n",
      "Epoch 27, train acc: 0.5363809466362, val acc: 0.5411111116409302\n",
      "train loss: 1.025681495666504; val loss: 1.0082544088363647\n",
      "Epoch 28, train acc: 0.5444762110710144, val acc: 0.546999990940094\n",
      "train loss: 1.0139981508255005; val loss: 1.004520058631897\n",
      "Epoch 29, train acc: 0.5414761900901794, val acc: 0.5502222180366516\n",
      "train loss: 1.013031244277954; val loss: 1.0030993223190308\n",
      "Epoch 30, train acc: 0.5399523973464966, val acc: 0.5472222566604614\n",
      "train loss: 1.0149976015090942; val loss: 1.0026038885116577\n",
      "Epoch 31, train acc: 0.5391428470611572, val acc: 0.5476666688919067\n",
      "train loss: 1.0149810314178467; val loss: 1.0016226768493652\n",
      "Epoch 32, train acc: 0.543666660785675, val acc: 0.5551111102104187\n",
      "train loss: 1.010486125946045; val loss: 0.988187313079834\n",
      "Epoch 33, train acc: 0.5429999828338623, val acc: 0.5495555400848389\n",
      "train loss: 1.0181903839111328; val loss: 0.9982530474662781\n",
      "Epoch 34, train acc: 0.5392857193946838, val acc: 0.5531111359596252\n",
      "train loss: 1.0183112621307373; val loss: 0.9942763447761536\n",
      "Epoch 35, train acc: 0.5426666736602783, val acc: 0.5536666512489319\n",
      "train loss: 1.0093544721603394; val loss: 0.9963303208351135\n",
      "Epoch 36, train acc: 0.5413333177566528, val acc: 0.5508888959884644\n",
      "train loss: 1.0128254890441895; val loss: 0.9923244118690491\n",
      "Epoch 37, train acc: 0.5449047684669495, val acc: 0.5445555448532104\n",
      "train loss: 1.004720687866211; val loss: 0.9990425705909729\n",
      "Epoch 38, train acc: 0.5451428294181824, val acc: 0.5453333258628845\n",
      "train loss: 1.0086957216262817; val loss: 1.0056897401809692\n",
      "Epoch 39, train acc: 0.5461904406547546, val acc: 0.5518888831138611\n",
      "train loss: 1.0007781982421875; val loss: 1.0016480684280396\n",
      "Epoch 40, train acc: 0.5433333516120911, val acc: 0.5504444241523743\n",
      "train loss: 1.0043416023254395; val loss: 0.9908861517906189\n",
      "Epoch 41, train acc: 0.5449047684669495, val acc: 0.5495555400848389\n",
      "train loss: 1.005898356437683; val loss: 0.9945463538169861\n",
      "Epoch 42, train acc: 0.5433333516120911, val acc: 0.5458889007568359\n",
      "train loss: 1.0103719234466553; val loss: 0.99693763256073\n",
      "Epoch 43, train acc: 0.5474761724472046, val acc: 0.5461111068725586\n",
      "train loss: 1.0030180215835571; val loss: 0.9934285283088684\n",
      "Epoch 44, train acc: 0.5451904535293579, val acc: 0.5476666688919067\n",
      "train loss: 1.0032693147659302; val loss: 0.9955988526344299\n",
      "Epoch 45, train acc: 0.5450476408004761, val acc: 0.5505555868148804\n",
      "train loss: 1.004196286201477; val loss: 0.9905736446380615\n",
      "Epoch 46, train acc: 0.5426190495491028, val acc: 0.5542222261428833\n",
      "train loss: 1.0100561380386353; val loss: 0.9922114014625549\n",
      "Epoch 47, train acc: 0.5439047813415527, val acc: 0.5530000329017639\n",
      "train loss: 1.001807689666748; val loss: 0.9911088943481445\n",
      "Epoch 48, train acc: 0.5428571105003357, val acc: 0.5504444241523743\n",
      "train loss: 1.0052838325500488; val loss: 0.9946920871734619\n",
      "Epoch 49, train acc: 0.5460476279258728, val acc: 0.5491111278533936\n",
      "train loss: 1.0006508827209473; val loss: 0.9954046010971069\n",
      "Epoch 50, train acc: 0.5426190495491028, val acc: 0.5442222356796265\n",
      "train loss: 1.0073277950286865; val loss: 0.9951285719871521\n",
      "Epoch 51, train acc: 0.5459523797035217, val acc: 0.5543333292007446\n",
      "train loss: 1.0047085285186768; val loss: 0.9929073452949524\n",
      "Epoch 52, train acc: 0.539904773235321, val acc: 0.5497778058052063\n",
      "train loss: 1.0103939771652222; val loss: 0.9955219030380249\n",
      "Epoch 53, train acc: 0.5474761724472046, val acc: 0.5550000071525574\n",
      "train loss: 1.0006368160247803; val loss: 0.9943051338195801\n",
      "Epoch 54, train acc: 0.5470476150512695, val acc: 0.5476666688919067\n",
      "train loss: 1.002778172492981; val loss: 0.9935728311538696\n",
      "Epoch 55, train acc: 0.5460000038146973, val acc: 0.5437777638435364\n",
      "train loss: 1.0080313682556152; val loss: 0.9948187470436096\n",
      "Epoch 56, train acc: 0.5492380857467651, val acc: 0.5522222518920898\n",
      "train loss: 1.004546880722046; val loss: 0.9921901822090149\n",
      "Epoch 57, train acc: 0.5411904454231262, val acc: 0.5473333597183228\n",
      "train loss: 1.007468819618225; val loss: 0.9988840818405151\n",
      "Epoch 58, train acc: 0.5439523458480835, val acc: 0.5488889217376709\n",
      "train loss: 1.00736403465271; val loss: 0.9934520125389099\n",
      "Epoch 59, train acc: 0.5421904921531677, val acc: 0.5383333563804626\n",
      "train loss: 1.0117980241775513; val loss: 0.9979849457740784\n"
     ]
    }
   ],
   "source": [
    "for epoch in tqdm(range(NUM_EPOCHS)):\n",
    "    clf.train()\n",
    "    correct = 0\n",
    "    total = 0\n",
    "    epoch_losses = []\n",
    "    for (sequences, labels) in trainloader:\n",
    "        n, c = sequences[0], sequences[1]\n",
    "        n = n.to(device)\n",
    "        c = c.to(device)\n",
    "        labels = labels.to(device)\n",
    "        \n",
    "        outputs = encoder(n, c)\n",
    "        outputs = clf(outputs)\n",
    "        loss = criterion(outputs, labels)\n",
    "\n",
    "        optimizer.zero_grad()\n",
    "        loss.backward()\n",
    "        torch.nn.utils.clip_grad_norm_(clf.parameters(), 100)\n",
    "        optimizer.step()\n",
    "\n",
    "        pred_labels = torch.argmax(outputs, dim=1)\n",
    "        correct += sum(labels == pred_labels)\n",
    "        total += len(n)\n",
    "        epoch_losses.append(loss.item())\n",
    "\n",
    "    train_acc = correct / total\n",
    "    epoch_loss = torch.tensor(epoch_losses).mean()\n",
    "    train_losses.append(epoch_loss)\n",
    "    train_accuracy.append(train_acc.item())\n",
    "\n",
    "    clf.eval()\n",
    "    correct = 0\n",
    "    total = 0\n",
    "    epoch_val_losses = []\n",
    "    for sequences, labels in testloader:\n",
    "        n, c = sequences[0], sequences[1]\n",
    "        n = n.to(device)\n",
    "        c = c.to(device)\n",
    "        labels = labels.to(device)\n",
    "\n",
    "        with torch.no_grad():\n",
    "            outputs = encoder(n, c)\n",
    "            outputs = clf(outputs)\n",
    "            loss = criterion(outputs, labels)\n",
    "\n",
    "            pred_labels = torch.argmax(outputs, dim=1)\n",
    "            correct += sum(labels == pred_labels)\n",
    "            total += len(n)\n",
    "            epoch_val_losses.append(loss.item())\n",
    "\n",
    "    val_acc = correct / total\n",
    "    epoch_val_loss = torch.tensor(epoch_val_losses).mean()\n",
    "    val_losses.append(epoch_val_loss)\n",
    "    val_accuracy.append(val_acc.item())\n",
    "\n",
    "    scheduler.step(epoch_val_loss)\n",
    "\n",
    "    print(f'Epoch {epoch}, train acc: {train_acc}, val acc: {val_acc}')\n",
    "    print(f'train loss: {epoch_loss}; val loss: {epoch_val_loss}')"
   ]
  },
  {
   "cell_type": "code",
   "execution_count": 109,
   "id": "greenhouse-regulation",
   "metadata": {
    "ExecuteTime": {
     "end_time": "2021-05-19T11:27:07.791471Z",
     "start_time": "2021-05-19T11:27:07.317482Z"
    },
    "scrolled": false
   },
   "outputs": [
    {
     "data": {
      "image/png": "[encoded data removed]",
      "text/plain": [
       "<Figure size 864x432 with 2 Axes>"
      ]
     },
     "metadata": {},
     "output_type": "display_data"
    }
   ],
   "source": [
    "fig, axs = plt.subplots(figsize=(12, 6))\n",
    "\n",
    "plt.subplot(1, 2, 1)\n",
    "plt.plot(train_losses, label='train')\n",
    "plt.plot(val_losses, label='validation')\n",
    "plt.xlabel('iter')\n",
    "plt.ylabel('loss')\n",
    "plt.legend()\n",
    "\n",
    "plt.subplot(1, 2, 2)\n",
    "plt.xlabel('iter')\n",
    "plt.ylabel('accuracy');\n",
    "plt.plot(train_accuracy, label='train')\n",
    "plt.plot(val_accuracy, label='validation')\n",
    "plt.legend()\n",
    "\n",
    "plt.savefig(f'plots/tabnet_decoder_{EMBEDDING_DIM}_{NUM_EPOCHS}.png')"
   ]
  },
  {
   "cell_type": "code",
   "execution_count": null,
   "id": "casual-evolution",
   "metadata": {},
   "outputs": [],
   "source": []
  }
 ],
 "metadata": {
  "kernelspec": {
   "display_name": "Python 3",
   "language": "python",
   "name": "python3"
  },
  "language_info": {
   "codemirror_mode": {
    "name": "ipython",
    "version": 3
   },
   "file_extension": ".py",
   "mimetype": "text/x-python",
   "name": "python",
   "nbconvert_exporter": "python",
   "pygments_lexer": "ipython3",
   "version": "3.8.9"
  },
  "toc": {
   "base_numbering": 1,
   "nav_menu": {
    "height": "400px",
    "width": "209px"
   },
   "number_sections": true,
   "sideBar": true,
   "skip_h1_title": true,
   "title_cell": "Table of Contents",
   "title_sidebar": "Contents",
   "toc_cell": true,
   "toc_position": {},
   "toc_section_display": true,
   "toc_window_display": true
  }
 },
 "nbformat": 4,
 "nbformat_minor": 5
}
