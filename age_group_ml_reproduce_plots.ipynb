{
 "cells": [
  {
   "cell_type": "markdown",
   "id": "finnish-harris",
   "metadata": {
    "toc": true
   },
   "source": [
    "<h1>Table of Contents<span class=\"tocSkip\"></span></h1>\n",
    "<div class=\"toc\"><ul class=\"toc-item\"></ul></div>"
   ]
  },
  {
   "cell_type": "code",
   "execution_count": 1,
   "id": "inner-canada",
   "metadata": {
    "ExecuteTime": {
     "end_time": "2021-05-11T13:51:59.563119Z",
     "start_time": "2021-05-11T13:51:58.645935Z"
    },
    "id": "thKgYQF3URYw"
   },
   "outputs": [],
   "source": [
    "import pandas as pd\n",
    "import numpy as np\n",
    "import matplotlib.pyplot as plt\n",
    "import seaborn as sns\n",
    "\n",
    "sns.set()\n",
    "\n",
    "sns.set_style(\"whitegrid\", {'axes.grid' : False})\n",
    "\n",
    "from tqdm.auto import tqdm"
   ]
  },
  {
   "cell_type": "code",
   "execution_count": 2,
   "id": "sublime-strap",
   "metadata": {
    "ExecuteTime": {
     "end_time": "2021-05-11T13:51:59.587058Z",
     "start_time": "2021-05-11T13:51:59.564320Z"
    }
   },
   "outputs": [],
   "source": [
    "%load_ext autoreload\n",
    "%autoreload 2"
   ]
  },
  {
   "cell_type": "code",
   "execution_count": 3,
   "id": "polar-married",
   "metadata": {
    "ExecuteTime": {
     "end_time": "2021-05-11T13:52:01.412857Z",
     "start_time": "2021-05-11T13:51:59.589490Z"
    },
    "colab": {
     "base_uri": "https://localhost:8080/"
    },
    "id": "UBFRCZowUWGt",
    "outputId": "09cfb931-6126-4fcf-f0b6-d6abfa0d4ba5"
   },
   "outputs": [
    {
     "data": {
      "text/plain": [
       "True"
      ]
     },
     "execution_count": 3,
     "metadata": {},
     "output_type": "execute_result"
    }
   ],
   "source": [
    "import torch\n",
    "torch.cuda.is_available()"
   ]
  },
  {
   "cell_type": "code",
   "execution_count": 4,
   "id": "infectious-providence",
   "metadata": {
    "ExecuteTime": {
     "end_time": "2021-05-11T13:52:01.427800Z",
     "start_time": "2021-05-11T13:52:01.414218Z"
    },
    "colab": {
     "base_uri": "https://localhost:8080/"
    },
    "id": "Q-kXTk-bNPzx",
    "outputId": "7a991cca-3b7a-4ec3-9fa8-ee0b5fce2537"
   },
   "outputs": [
    {
     "name": "stdout",
     "output_type": "stream",
     "text": [
      "cuda:0\n"
     ]
    }
   ],
   "source": [
    "device = torch.device(\"cuda:0\" if torch.cuda.is_available() else \"cpu\")\n",
    "\n",
    "# Assuming that we are on a CUDA machine, this should print a CUDA device:\n",
    "\n",
    "print(device)"
   ]
  },
  {
   "cell_type": "code",
   "execution_count": 5,
   "id": "peaceful-chaos",
   "metadata": {
    "ExecuteTime": {
     "end_time": "2021-05-11T13:52:01.642795Z",
     "start_time": "2021-05-11T13:52:01.429063Z"
    }
   },
   "outputs": [],
   "source": [
    "from pytorch_metric_learning import losses, miners, distances, reducers, samplers\n",
    "import torch.optim as optim\n",
    "from sklearn.model_selection import train_test_split\n",
    "import torch.nn as nn\n",
    "import random\n",
    "import lightgbm as lgb"
   ]
  },
  {
   "cell_type": "code",
   "execution_count": 6,
   "id": "romantic-brook",
   "metadata": {
    "ExecuteTime": {
     "end_time": "2021-05-11T13:52:01.661650Z",
     "start_time": "2021-05-11T13:52:01.644088Z"
    }
   },
   "outputs": [],
   "source": [
    "from code.dataloader import AgeGroupMLDataset, AgeGroupClfDataset\n",
    "from code.encoder_gru import Encoder\n",
    "from code.decoder import Decoder\n",
    "from code.classifier import Classifier\n",
    "from code.utils import train_ml_model, train_classifier"
   ]
  },
  {
   "cell_type": "code",
   "execution_count": 7,
   "id": "upset-raising",
   "metadata": {
    "ExecuteTime": {
     "end_time": "2021-05-11T13:52:01.677394Z",
     "start_time": "2021-05-11T13:52:01.663167Z"
    },
    "id": "pm80PCIl79LE"
   },
   "outputs": [],
   "source": [
    "BATCH_SIZE = 64 # BATCH_SIZE unique persons\n",
    "NUM_OF_SUBSEQUENCES = 5\n",
    "SUBSEQUENCE_LENGTH = 90\n",
    "\n",
    "EMBEDDING_DIM = 256\n",
    "LR = 0.002\n",
    "NUM_EPOCHS = 50\n",
    "\n",
    "cat_vocab_sizes = [204]\n",
    "cat_embedding_dim = 102\n",
    "num_input_dim = 4\n",
    "NUM_OBS = 30000"
   ]
  },
  {
   "cell_type": "code",
   "execution_count": null,
   "id": "identified-movement",
   "metadata": {
    "ExecuteTime": {
     "end_time": "2021-05-11T11:27:41.169828Z",
     "start_time": "2021-05-11T11:27:41.146009Z"
    }
   },
   "outputs": [],
   "source": [
    "arches = (\n",
    "    ('GRU', nn.GRU(\n",
    "                num_input_dim + cat_embedding_dim,\n",
    "                EMBEDDING_DIM,\n",
    "                batch_first=False),\n",
    "    ),\n",
    "    ('LSTM', nn.LSTM(\n",
    "                num_input_dim + cat_embedding_dim,\n",
    "                EMBEDDING_DIM,\n",
    "                batch_first=False),\n",
    "    ),\n",
    ")"
   ]
  },
  {
   "cell_type": "code",
   "execution_count": null,
   "id": "material-dimension",
   "metadata": {
    "ExecuteTime": {
     "end_time": "2021-05-11T10:09:43.591840Z",
     "start_time": "2021-05-11T10:09:27.917323Z"
    },
    "id": "GYYj4IyZdrtg"
   },
   "outputs": [],
   "source": [
    "dataset = AgeGroupMLDataset(num_observations=NUM_OBS)"
   ]
  },
  {
   "cell_type": "code",
   "execution_count": null,
   "id": "seventh-think",
   "metadata": {
    "ExecuteTime": {
     "end_time": "2021-05-11T10:09:43.665998Z",
     "start_time": "2021-05-11T10:09:43.592903Z"
    },
    "id": "EY6GM_RjsCWg"
   },
   "outputs": [],
   "source": [
    "dataset.load_client_to_indices()"
   ]
  },
  {
   "cell_type": "code",
   "execution_count": null,
   "id": "registered-alpha",
   "metadata": {
    "ExecuteTime": {
     "end_time": "2021-05-11T10:10:00.709489Z",
     "start_time": "2021-05-11T10:09:43.667064Z"
    },
    "id": "ZZyL5MiF-Ufm"
   },
   "outputs": [],
   "source": [
    "clfdataset = AgeGroupClfDataset()"
   ]
  },
  {
   "cell_type": "code",
   "execution_count": null,
   "id": "bridal-livestock",
   "metadata": {
    "ExecuteTime": {
     "end_time": "2021-05-11T10:10:00.737155Z",
     "start_time": "2021-05-11T10:10:00.710545Z"
    },
    "id": "nW8khMXN-STb"
   },
   "outputs": [],
   "source": [
    "clfdataset.load_client_to_indices()"
   ]
  },
  {
   "cell_type": "code",
   "execution_count": null,
   "id": "linear-trinidad",
   "metadata": {
    "ExecuteTime": {
     "end_time": "2021-05-11T10:10:00.751992Z",
     "start_time": "2021-05-11T10:10:00.738292Z"
    },
    "id": "WxzkX-VZ3zJu"
   },
   "outputs": [],
   "source": [
    "torch.manual_seed(0)\n",
    "random.seed(0)\n",
    "np.random.seed(0)"
   ]
  },
  {
   "cell_type": "code",
   "execution_count": null,
   "id": "peaceful-diameter",
   "metadata": {
    "ExecuteTime": {
     "end_time": "2021-05-11T10:10:00.773995Z",
     "start_time": "2021-05-11T10:10:00.753014Z"
    },
    "id": "2W-DuPoHuACu"
   },
   "outputs": [],
   "source": [
    "targets = dataset.targets\n",
    "\n",
    "dataloader = torch.utils.data.DataLoader(\n",
    "    dataset, batch_size=BATCH_SIZE,\n",
    "    num_workers=0,\n",
    ")\n",
    "\n",
    "targets = clfdataset.targets\n",
    "\n",
    "train_idx, test_idx= train_test_split(\n",
    "    np.arange(len(targets)),\n",
    "    test_size=0.3,\n",
    "    shuffle=True,\n",
    "    stratify=targets,\n",
    "    random_state=228\n",
    ")\n",
    "\n",
    "train_sampler = torch.utils.data.SubsetRandomSampler(train_idx)\n",
    "test_sampler = torch.utils.data.SubsetRandomSampler(test_idx)\n",
    "\n",
    "trainloader = torch.utils.data.DataLoader(\n",
    "    clfdataset, batch_size=BATCH_SIZE,\n",
    "    sampler=train_sampler)\n",
    "testloader = torch.utils.data.DataLoader(\n",
    "    clfdataset, batch_size=BATCH_SIZE,\n",
    "    sampler=test_sampler)"
   ]
  },
  {
   "cell_type": "code",
   "execution_count": null,
   "id": "detailed-little",
   "metadata": {},
   "outputs": [],
   "source": []
  },
  {
   "cell_type": "code",
   "execution_count": null,
   "id": "authorized-audio",
   "metadata": {},
   "outputs": [],
   "source": []
  },
  {
   "cell_type": "code",
   "execution_count": null,
   "id": "victorian-legend",
   "metadata": {
    "ExecuteTime": {
     "end_time": "2021-05-06T10:15:23.464980Z",
     "start_time": "2021-05-06T09:55:54.597891Z"
    }
   },
   "outputs": [],
   "source": [
    "for (arch, cell) in tqdm(arches):\n",
    "    print(arch)\n",
    "    LR = 0.002\n",
    "    \n",
    "    # train decoder\n",
    "    \n",
    "    encoder = Encoder(\n",
    "        numerical_input_dim=num_input_dim,\n",
    "        cat_vocab_sizes=cat_vocab_sizes,\n",
    "        cat_embedding_dim=cat_embedding_dim,\n",
    "        embedding_dim=EMBEDDING_DIM,\n",
    "    )\n",
    "    encoder.sequence_encoder = cell\n",
    "    encoder.to(device);\n",
    "    optimizer = optim.Adam(encoder.parameters(), lr=LR)\n",
    "    \n",
    "    distance = distances.CosineSimilarity()\n",
    "    reducer = reducers.ThresholdReducer(low = 0) # basically, returns average\n",
    "    loss_func = losses.TripletMarginLoss(margin = 0.4, distance = distance, reducer = reducer)\n",
    "    mining_func = miners.TripletMarginMiner(margin = 0.4, distance = distance, type_of_triplets = \"semihard\")\n",
    "    \n",
    "    train_losses = train_ml_model(\n",
    "        encoder, NUM_EPOCHS, dataloader, NUM_OF_SUBSEQUENCES,\n",
    "        mining_func, loss_func, optimizer)\n",
    "    fig, axs = plt.subplots(figsize=(12, 6))\n",
    "\n",
    "    plt.plot(train_losses, label='train')\n",
    "    plt.xlabel('iter')\n",
    "    plt.ylabel('loss');\n",
    "    plt.savefig(f'plots/ML_{arch}_{EMBEDDING_DIM}_{NUM_OBS}_{NUM_EPOCHS}.png')\n",
    "    \n",
    "    SCHEDULER_EPOCHS = 2\n",
    "    LR = 0.002\n",
    "    \n",
    "    # train classifier decoder\n",
    "    \n",
    "    classifier = Classifier(\n",
    "        numerical_input_dim=num_input_dim,\n",
    "        cat_vocab_sizes=cat_vocab_sizes,\n",
    "        cat_embedding_dim=cat_embedding_dim,\n",
    "        embedding_dim=EMBEDDING_DIM\n",
    "    )\n",
    "    classifier.encoder = encoder\n",
    "    classifier.freeze_encoder()\n",
    "    classifier.to(device);\n",
    "    \n",
    "    optimizer = optim.Adam(classifier.decoder.parameters(), lr=LR)\n",
    "    criterion = nn.CrossEntropyLoss()\n",
    "    scheduler = optim.lr_scheduler.ReduceLROnPlateau(\n",
    "        optimizer,\n",
    "        patience=SCHEDULER_EPOCHS,\n",
    "    )\n",
    "    \n",
    "    train_losses, train_accuracy, val_losses, val_accuracy = train_classifier(\n",
    "        classifier, NUM_EPOCHS, trainloader, testloader,\n",
    "        optimizer, criterion, scheduler,\n",
    "        enable_train_mode = lambda: classifier.decoder.train(),\n",
    "        enable_test_mode = lambda: classifier.decoder.eval(),\n",
    "    )\n",
    "    \n",
    "    fig, axs = plt.subplots(figsize=(12, 6))\n",
    "\n",
    "    plt.subplot(1, 2, 1)\n",
    "    plt.plot(train_losses, label='train')\n",
    "    plt.plot(val_losses, label='validation')\n",
    "    plt.xlabel('iter')\n",
    "    plt.ylabel('loss')\n",
    "    plt.legend()\n",
    "\n",
    "    plt.subplot(1, 2, 2)\n",
    "    plt.xlabel('iter')\n",
    "    plt.ylabel('accuracy');\n",
    "    plt.plot(train_accuracy, label='train')\n",
    "    plt.plot(val_accuracy, label='validation')\n",
    "    plt.legend()\n",
    "\n",
    "    plt.savefig(f'plots/clfdec_{arch}_{EMBEDDING_DIM}_{NUM_OBS}_{NUM_EPOCHS}.png')"
   ]
  },
  {
   "cell_type": "code",
   "execution_count": null,
   "id": "chicken-fetish",
   "metadata": {
    "ExecuteTime": {
     "end_time": "2021-05-06T08:21:47.203289Z",
     "start_time": "2021-05-06T08:21:47.193596Z"
    },
    "id": "C7-X1GRsAK7x"
   },
   "outputs": [],
   "source": []
  },
  {
   "cell_type": "code",
   "execution_count": null,
   "id": "normal-sailing",
   "metadata": {
    "ExecuteTime": {
     "end_time": "2021-05-11T11:33:05.181787Z",
     "start_time": "2021-05-11T11:33:05.108153Z"
    }
   },
   "outputs": [],
   "source": [
    "import gc\n",
    "gc.collect()\n",
    "torch.cuda.empty_cache() "
   ]
  },
  {
   "cell_type": "code",
   "execution_count": null,
   "id": "outside-flood",
   "metadata": {},
   "outputs": [],
   "source": []
  },
  {
   "cell_type": "code",
   "execution_count": null,
   "id": "italian-subscriber",
   "metadata": {
    "ExecuteTime": {
     "end_time": "2021-05-06T14:48:48.771049Z",
     "start_time": "2021-05-06T12:04:36.952962Z"
    }
   },
   "outputs": [],
   "source": [
    "arch = 'GRU'\n",
    "\n",
    "dims = [32, 64, 128, 256, 512, 1024]\n",
    "accs = []\n",
    "\n",
    "for EMBEDDING_DIM in tqdm(dims):\n",
    "    print(EMBEDDING_DIM)\n",
    "    LR = 0.002\n",
    "    \n",
    "    # train decoder\n",
    "    \n",
    "    encoder = Encoder(\n",
    "        numerical_input_dim=num_input_dim,\n",
    "        cat_vocab_sizes=cat_vocab_sizes,\n",
    "        cat_embedding_dim=cat_embedding_dim,\n",
    "        embedding_dim=EMBEDDING_DIM,\n",
    "    )\n",
    "    encoder.to(device);\n",
    "    encoder.train()\n",
    "    optimizer = optim.Adam(encoder.parameters(), lr=LR)\n",
    "    \n",
    "    distance = distances.CosineSimilarity()\n",
    "    reducer = reducers.ThresholdReducer(low = 0) # basically, returns average\n",
    "    loss_func = losses.TripletMarginLoss(margin = 0.4, distance = distance, reducer = reducer)\n",
    "    mining_func = miners.TripletMarginMiner(margin = 0.4, distance = distance, type_of_triplets = \"semihard\")\n",
    "    \n",
    "    train_losses = train_ml_model(\n",
    "        encoder, NUM_EPOCHS, dataloader, NUM_OF_SUBSEQUENCES,\n",
    "        mining_func, loss_func, optimizer)\n",
    "    fig, axs = plt.subplots(figsize=(12, 6))\n",
    "\n",
    "    plt.plot(train_losses, label='train')\n",
    "    plt.xlabel('iter')\n",
    "    plt.ylabel('loss');\n",
    "    plt.savefig(f'plots/ML_{arch}_{EMBEDDING_DIM}_{NUM_OBS}_{NUM_EPOCHS}.png')\n",
    "    \n",
    "    SCHEDULER_EPOCHS = 2\n",
    "    LR = 0.002\n",
    "    \n",
    "    # train classifier decoder\n",
    "    \n",
    "    classifier = Classifier(\n",
    "        numerical_input_dim=num_input_dim,\n",
    "        cat_vocab_sizes=cat_vocab_sizes,\n",
    "        cat_embedding_dim=cat_embedding_dim,\n",
    "        embedding_dim=EMBEDDING_DIM\n",
    "    )\n",
    "    classifier.encoder = encoder\n",
    "    classifier.freeze_encoder()\n",
    "    classifier.to(device);\n",
    "    \n",
    "    optimizer = optim.Adam(classifier.decoder.parameters(), lr=LR)\n",
    "    criterion = nn.CrossEntropyLoss()\n",
    "    scheduler = optim.lr_scheduler.ReduceLROnPlateau(\n",
    "        optimizer,\n",
    "        patience=SCHEDULER_EPOCHS,\n",
    "    )\n",
    "    \n",
    "    train_losses, train_accuracy, val_losses, val_accuracy = train_classifier(\n",
    "        classifier, NUM_EPOCHS, trainloader, testloader,\n",
    "        optimizer, criterion, scheduler,\n",
    "        enable_train_mode = lambda: classifier.decoder.train(),\n",
    "        enable_test_mode = lambda: classifier.decoder.eval(),\n",
    "    )\n",
    "    \n",
    "    fig, axs = plt.subplots(figsize=(12, 6))\n",
    "\n",
    "    plt.subplot(1, 2, 1)\n",
    "    plt.plot(train_losses, label='train')\n",
    "    plt.plot(val_losses, label='validation')\n",
    "    plt.xlabel('iter')\n",
    "    plt.ylabel('loss')\n",
    "    plt.legend()\n",
    "\n",
    "    plt.subplot(1, 2, 2)\n",
    "    plt.xlabel('iter')\n",
    "    plt.ylabel('accuracy');\n",
    "    plt.plot(train_accuracy, label='train')\n",
    "    plt.plot(val_accuracy, label='validation')\n",
    "    plt.legend()\n",
    "\n",
    "    plt.savefig(f'plots/clfdec_{arch}_{EMBEDDING_DIM}_{NUM_OBS}_{NUM_EPOCHS}.png')\n",
    "    \n",
    "    accs.append(val_accuracy[-1])"
   ]
  },
  {
   "cell_type": "code",
   "execution_count": null,
   "id": "assigned-tsunami",
   "metadata": {},
   "outputs": [],
   "source": []
  },
  {
   "cell_type": "code",
   "execution_count": 9,
   "id": "outdoor-antarctica",
   "metadata": {
    "ExecuteTime": {
     "end_time": "2021-05-11T13:59:35.054888Z",
     "start_time": "2021-05-11T13:59:01.663156Z"
    }
   },
   "outputs": [],
   "source": [
    "dataset = AgeGroupMLDataset()\n",
    "dataset.load_client_to_indices()\n",
    "clfdataset = AgeGroupClfDataset()\n",
    "clfdataset.load_client_to_indices()"
   ]
  },
  {
   "cell_type": "code",
   "execution_count": 12,
   "id": "tamil-television",
   "metadata": {
    "ExecuteTime": {
     "end_time": "2021-05-11T15:04:07.267127Z",
     "start_time": "2021-05-11T14:03:18.558270Z"
    },
    "scrolled": true
   },
   "outputs": [
    {
     "data": {
      "application/vnd.jupyter.widget-view+json": {
       "model_id": "d70609b3404f40508a6638def6eba0af",
       "version_major": 2,
       "version_minor": 0
      },
      "text/plain": [
       "0it [00:00, ?it/s]"
      ]
     },
     "metadata": {},
     "output_type": "display_data"
    },
    {
     "name": "stdout",
     "output_type": "stream",
     "text": [
      "21600 50\n"
     ]
    },
    {
     "data": {
      "application/vnd.jupyter.widget-view+json": {
       "model_id": "f958e7418ff84080b233583e91aa5eee",
       "version_major": 2,
       "version_minor": 0
      },
      "text/plain": [
       "  0%|          | 0/50 [00:00<?, ?it/s]"
      ]
     },
     "metadata": {},
     "output_type": "display_data"
    },
    {
     "name": "stdout",
     "output_type": "stream",
     "text": [
      "Epoch 0 Loss = 0.1794039011001587\n",
      "Epoch 1 Loss = 0.15074722468852997\n",
      "Epoch 2 Loss = 0.14555928111076355\n",
      "Epoch 3 Loss = 0.14291152358055115\n",
      "Epoch 4 Loss = 0.14169228076934814\n",
      "Epoch 5 Loss = 0.14104348421096802\n",
      "Epoch 6 Loss = 0.14002077281475067\n",
      "Epoch 7 Loss = 0.13917864859104156\n",
      "Epoch 8 Loss = 0.1386980414390564\n",
      "Epoch 9 Loss = 0.13827677071094513\n",
      "Epoch 10 Loss = 0.1375150829553604\n",
      "Epoch 11 Loss = 0.13773338496685028\n",
      "Epoch 12 Loss = 0.13700979948043823\n",
      "Epoch 13 Loss = 0.13684403896331787\n",
      "Epoch 14 Loss = 0.1366080939769745\n",
      "Epoch 15 Loss = 0.136012002825737\n",
      "Epoch 16 Loss = 0.1358441561460495\n",
      "Epoch 17 Loss = 0.1354147493839264\n",
      "Epoch 18 Loss = 0.1351713091135025\n",
      "Epoch 19 Loss = 0.13523460924625397\n",
      "Epoch 20 Loss = 0.1349911242723465\n",
      "Epoch 21 Loss = 0.13470108807086945\n",
      "Epoch 22 Loss = 0.13463659584522247\n",
      "Epoch 23 Loss = 0.1342047154903412\n",
      "Epoch 24 Loss = 0.13389411568641663\n",
      "Epoch 25 Loss = 0.13366974890232086\n",
      "Epoch 26 Loss = 0.13343246281147003\n",
      "Epoch 27 Loss = 0.13354846835136414\n",
      "Epoch 28 Loss = 0.13309277594089508\n",
      "Epoch 29 Loss = 0.13309434056282043\n",
      "Epoch 30 Loss = 0.13290998339653015\n",
      "Epoch 31 Loss = 0.13294124603271484\n",
      "Epoch 32 Loss = 0.13265292346477509\n",
      "Epoch 33 Loss = 0.13252916932106018\n",
      "Epoch 34 Loss = 0.1323571801185608\n",
      "Epoch 35 Loss = 0.13233982026576996\n",
      "Epoch 36 Loss = 0.1322138011455536\n",
      "Epoch 37 Loss = 0.13213340938091278\n",
      "Epoch 38 Loss = 0.13208626210689545\n",
      "Epoch 39 Loss = 0.13176843523979187\n",
      "Epoch 40 Loss = 0.1317194700241089\n",
      "Epoch 41 Loss = 0.1317191869020462\n",
      "Epoch 42 Loss = 0.13149891793727875\n",
      "Epoch 43 Loss = 0.13150326907634735\n",
      "Epoch 44 Loss = 0.13116294145584106\n",
      "Epoch 45 Loss = 0.13122980296611786\n",
      "Epoch 46 Loss = 0.13103169202804565\n",
      "Epoch 47 Loss = 0.1309826821088791\n",
      "Epoch 48 Loss = 0.13127124309539795\n",
      "Epoch 49 Loss = 0.13069577515125275\n"
     ]
    },
    {
     "data": {
      "application/vnd.jupyter.widget-view+json": {
       "model_id": "0be1c8aa001d40f2878e8b7d851b1024",
       "version_major": 2,
       "version_minor": 0
      },
      "text/plain": [
       "  0%|          | 0/50 [00:00<?, ?it/s]"
      ]
     },
     "metadata": {},
     "output_type": "display_data"
    },
    {
     "name": "stdout",
     "output_type": "stream",
     "text": [
      "Epoch 0, train acc: 0.5141534209251404, val acc: 0.51712965965271\n",
      "train loss: 1.0715402364730835; val loss: 1.0266178846359253\n",
      "Epoch 1, train acc: 0.529629647731781, val acc: 0.5291666984558105\n",
      "train loss: 1.0279675722122192; val loss: 1.0216423273086548\n",
      "Epoch 2, train acc: 0.5292328000068665, val acc: 0.5325617790222168\n",
      "train loss: 1.0246152877807617; val loss: 1.0154000520706177\n",
      "Epoch 3, train acc: 0.533134937286377, val acc: 0.542129635810852\n",
      "train loss: 1.0160508155822754; val loss: 1.0094109773635864\n",
      "Epoch 4, train acc: 0.5361111164093018, val acc: 0.5291666984558105\n",
      "train loss: 1.0167348384857178; val loss: 1.0166096687316895\n",
      "Epoch 5, train acc: 0.5343254208564758, val acc: 0.5358024835586548\n",
      "train loss: 1.0124754905700684; val loss: 1.009969711303711\n",
      "Epoch 6, train acc: 0.537169337272644, val acc: 0.529938280582428\n",
      "train loss: 1.0080251693725586; val loss: 1.0311295986175537\n",
      "Epoch 7, train acc: 0.5410714149475098, val acc: 0.5354938507080078\n",
      "train loss: 1.0016863346099854; val loss: 1.009229302406311\n",
      "Epoch 8, train acc: 0.538095235824585, val acc: 0.5432099103927612\n",
      "train loss: 1.003166675567627; val loss: 1.0044993162155151\n",
      "Epoch 9, train acc: 0.5455687642097473, val acc: 0.5333333611488342\n",
      "train loss: 0.9966096878051758; val loss: 1.008443832397461\n",
      "Epoch 10, train acc: 0.5458333492279053, val acc: 0.539506196975708\n",
      "train loss: 0.9940227270126343; val loss: 1.0025864839553833\n",
      "Epoch 11, train acc: 0.5455687642097473, val acc: 0.5331790447235107\n",
      "train loss: 0.9930334091186523; val loss: 1.0108797550201416\n",
      "Epoch 12, train acc: 0.5486772656440735, val acc: 0.5378086566925049\n",
      "train loss: 0.9934223294258118; val loss: 1.0022674798965454\n",
      "Epoch 13, train acc: 0.5387566089630127, val acc: 0.5427469611167908\n",
      "train loss: 1.0010923147201538; val loss: 0.9976413249969482\n",
      "Epoch 14, train acc: 0.5431216955184937, val acc: 0.536882758140564\n",
      "train loss: 0.9916954040527344; val loss: 0.9953158497810364\n",
      "Epoch 15, train acc: 0.5485450029373169, val acc: 0.5327160954475403\n",
      "train loss: 0.9915715456008911; val loss: 1.00356924533844\n",
      "Epoch 16, train acc: 0.5485450029373169, val acc: 0.5341049432754517\n",
      "train loss: 0.9909281730651855; val loss: 1.0048905611038208\n",
      "Epoch 17, train acc: 0.5412037372589111, val acc: 0.5356481671333313\n",
      "train loss: 0.9997475743293762; val loss: 1.0072362422943115\n",
      "Epoch 18, train acc: 0.5454365015029907, val acc: 0.5251543521881104\n",
      "train loss: 0.991324782371521; val loss: 1.010190725326538\n",
      "Epoch 19, train acc: 0.5386905074119568, val acc: 0.5356481671333313\n",
      "train loss: 0.9950279593467712; val loss: 1.00333571434021\n",
      "Epoch 20, train acc: 0.5490079522132874, val acc: 0.5425926446914673\n",
      "train loss: 0.9890222549438477; val loss: 1.0072060823440552\n",
      "Epoch 21, train acc: 0.5418651103973389, val acc: 0.5364197492599487\n",
      "train loss: 0.9918006658554077; val loss: 0.9982777833938599\n",
      "Epoch 22, train acc: 0.5513889193534851, val acc: 0.5367284417152405\n",
      "train loss: 0.9913923740386963; val loss: 1.003994107246399\n",
      "Epoch 23, train acc: 0.5474867820739746, val acc: 0.539814829826355\n",
      "train loss: 0.9925903081893921; val loss: 0.9959989190101624\n",
      "Epoch 24, train acc: 0.5436508059501648, val acc: 0.5334876775741577\n",
      "train loss: 0.9927292466163635; val loss: 0.9925550818443298\n",
      "Epoch 25, train acc: 0.5458994507789612, val acc: 0.5404320955276489\n",
      "train loss: 0.9879148602485657; val loss: 0.9998615384101868\n",
      "Epoch 26, train acc: 0.5392195582389832, val acc: 0.5353395342826843\n",
      "train loss: 0.9929890632629395; val loss: 1.0012296438217163\n",
      "Epoch 27, train acc: 0.5503968596458435, val acc: 0.5388889312744141\n",
      "train loss: 0.9925779104232788; val loss: 0.9990665316581726\n",
      "Epoch 28, train acc: 0.550000011920929, val acc: 0.5433642268180847\n",
      "train loss: 0.989432692527771; val loss: 1.001810908317566\n",
      "Epoch 29, train acc: 0.550000011920929, val acc: 0.5324074029922485\n",
      "train loss: 0.9892165064811707; val loss: 1.0009549856185913\n",
      "Epoch 30, train acc: 0.5451058149337769, val acc: 0.5304012298583984\n",
      "train loss: 0.9963672757148743; val loss: 1.0040353536605835\n",
      "Epoch 31, train acc: 0.5471560955047607, val acc: 0.5344135761260986\n",
      "train loss: 0.9895073175430298; val loss: 1.006332278251648\n",
      "Epoch 32, train acc: 0.5501984357833862, val acc: 0.5379629731178284\n",
      "train loss: 0.9879909753799438; val loss: 1.0035722255706787\n",
      "Epoch 33, train acc: 0.544775128364563, val acc: 0.5393518805503845\n",
      "train loss: 0.9915690422058105; val loss: 0.9997987151145935\n",
      "Epoch 34, train acc: 0.5419973731040955, val acc: 0.5351852178573608\n",
      "train loss: 0.995570719242096; val loss: 0.9994398951530457\n",
      "Epoch 35, train acc: 0.5449735522270203, val acc: 0.5469136238098145\n",
      "train loss: 0.992971658706665; val loss: 1.0009297132492065\n",
      "Epoch 36, train acc: 0.5486772656440735, val acc: 0.5319444537162781\n",
      "train loss: 0.9899268746376038; val loss: 1.0055131912231445\n",
      "Epoch 37, train acc: 0.5419973731040955, val acc: 0.5405864715576172\n",
      "train loss: 0.9947212338447571; val loss: 1.0087937116622925\n",
      "Epoch 38, train acc: 0.5487433671951294, val acc: 0.5390432476997375\n",
      "train loss: 0.9923542737960815; val loss: 1.0024688243865967\n",
      "Epoch 39, train acc: 0.5470238327980042, val acc: 0.5353395342826843\n",
      "train loss: 0.9951924681663513; val loss: 1.0025678873062134\n",
      "Epoch 40, train acc: 0.5462962985038757, val acc: 0.5362654328346252\n",
      "train loss: 0.9899848103523254; val loss: 0.9996920824050903\n",
      "Epoch 41, train acc: 0.5433201193809509, val acc: 0.5271605253219604\n",
      "train loss: 0.9923456311225891; val loss: 1.006545066833496\n",
      "Epoch 42, train acc: 0.5425925850868225, val acc: 0.5361111164093018\n",
      "train loss: 0.9944086670875549; val loss: 1.0034645795822144\n",
      "Epoch 43, train acc: 0.5437830686569214, val acc: 0.5319444537162781\n",
      "train loss: 0.9915821552276611; val loss: 1.009021282196045\n",
      "Epoch 44, train acc: 0.5429232716560364, val acc: 0.5415123701095581\n",
      "train loss: 0.9934394955635071; val loss: 1.004412293434143\n",
      "Epoch 45, train acc: 0.5451058149337769, val acc: 0.5387346148490906\n",
      "train loss: 0.9957798719406128; val loss: 0.9996188282966614\n",
      "Epoch 46, train acc: 0.5451719760894775, val acc: 0.5325617790222168\n",
      "train loss: 0.9893089532852173; val loss: 1.0030022859573364\n",
      "Epoch 47, train acc: 0.5474206209182739, val acc: 0.5390432476997375\n",
      "train loss: 0.9925346970558167; val loss: 1.0023878812789917\n",
      "Epoch 48, train acc: 0.5539021492004395, val acc: 0.5399691462516785\n",
      "train loss: 0.9880528450012207; val loss: 1.000577449798584\n",
      "Epoch 49, train acc: 0.5444444417953491, val acc: 0.532253086566925\n",
      "train loss: 0.9895881414413452; val loss: 0.9991875290870667\n",
      "10800 75\n"
     ]
    },
    {
     "data": {
      "application/vnd.jupyter.widget-view+json": {
       "model_id": "71dd6a598f4a428a965231b29f49bb3d",
       "version_major": 2,
       "version_minor": 0
      },
      "text/plain": [
       "  0%|          | 0/75 [00:00<?, ?it/s]"
      ]
     },
     "metadata": {},
     "output_type": "display_data"
    },
    {
     "name": "stdout",
     "output_type": "stream",
     "text": [
      "Epoch 0 Loss = 0.19240325689315796\n",
      "Epoch 1 Loss = 0.16456978023052216\n",
      "Epoch 2 Loss = 0.15005840361118317\n",
      "Epoch 3 Loss = 0.1467064917087555\n",
      "Epoch 4 Loss = 0.14388300478458405\n",
      "Epoch 5 Loss = 0.1420990377664566\n",
      "Epoch 6 Loss = 0.14076483249664307\n",
      "Epoch 7 Loss = 0.13993990421295166\n",
      "Epoch 8 Loss = 0.1387360841035843\n",
      "Epoch 9 Loss = 0.13844554126262665\n",
      "Epoch 10 Loss = 0.13774092495441437\n",
      "Epoch 11 Loss = 0.13788104057312012\n",
      "Epoch 12 Loss = 0.13693271577358246\n",
      "Epoch 13 Loss = 0.13616254925727844\n",
      "Epoch 14 Loss = 0.13534846901893616\n",
      "Epoch 15 Loss = 0.13531386852264404\n",
      "Epoch 16 Loss = 0.13487206399440765\n",
      "Epoch 17 Loss = 0.13443410396575928\n",
      "Epoch 18 Loss = 0.13383324444293976\n",
      "Epoch 19 Loss = 0.13411910831928253\n",
      "Epoch 20 Loss = 0.1333518773317337\n",
      "Epoch 21 Loss = 0.13337302207946777\n",
      "Epoch 22 Loss = 0.13343925774097443\n",
      "Epoch 23 Loss = 0.1325405240058899\n",
      "Epoch 24 Loss = 0.13208754360675812\n",
      "Epoch 25 Loss = 0.13219983875751495\n",
      "Epoch 26 Loss = 0.1322009265422821\n",
      "Epoch 27 Loss = 0.13219067454338074\n",
      "Epoch 28 Loss = 0.13135899603366852\n",
      "Epoch 29 Loss = 0.1310996413230896\n",
      "Epoch 30 Loss = 0.13096056878566742\n",
      "Epoch 31 Loss = 0.130825936794281\n",
      "Epoch 32 Loss = 0.13053584098815918\n",
      "Epoch 33 Loss = 0.13008485734462738\n",
      "Epoch 34 Loss = 0.13054071366786957\n",
      "Epoch 35 Loss = 0.12978032231330872\n",
      "Epoch 36 Loss = 0.1295166313648224\n",
      "Epoch 37 Loss = 0.1297539472579956\n",
      "Epoch 38 Loss = 0.1287950575351715\n",
      "Epoch 39 Loss = 0.12918594479560852\n",
      "Epoch 40 Loss = 0.1289045810699463\n",
      "Epoch 41 Loss = 0.1287560760974884\n",
      "Epoch 42 Loss = 0.12796111404895782\n",
      "Epoch 43 Loss = 0.12861229479312897\n",
      "Epoch 44 Loss = 0.12851347029209137\n",
      "Epoch 45 Loss = 0.127989262342453\n",
      "Epoch 46 Loss = 0.127459317445755\n",
      "Epoch 47 Loss = 0.1277342140674591\n",
      "Epoch 48 Loss = 0.12739992141723633\n",
      "Epoch 49 Loss = 0.12715601921081543\n",
      "Epoch 50 Loss = 0.12710127234458923\n",
      "Epoch 51 Loss = 0.12705807387828827\n",
      "Epoch 52 Loss = 0.12716253101825714\n",
      "Epoch 53 Loss = 0.12664160132408142\n",
      "Epoch 54 Loss = 0.12699490785598755\n",
      "Epoch 55 Loss = 0.12617607414722443\n",
      "Epoch 56 Loss = 0.12630410492420197\n",
      "Epoch 57 Loss = 0.12583321332931519\n",
      "Epoch 58 Loss = 0.12591181695461273\n",
      "Epoch 59 Loss = 0.12594276666641235\n",
      "Epoch 60 Loss = 0.12533925473690033\n",
      "Epoch 61 Loss = 0.1251058131456375\n",
      "Epoch 62 Loss = 0.12544293701648712\n",
      "Epoch 63 Loss = 0.12493002414703369\n",
      "Epoch 64 Loss = 0.12460412830114365\n",
      "Epoch 65 Loss = 0.12456390261650085\n",
      "Epoch 66 Loss = 0.12509790062904358\n",
      "Epoch 67 Loss = 0.12424832582473755\n",
      "Epoch 68 Loss = 0.12450215965509415\n",
      "Epoch 69 Loss = 0.12463542819023132\n",
      "Epoch 70 Loss = 0.12403438240289688\n",
      "Epoch 71 Loss = 0.12401954084634781\n",
      "Epoch 72 Loss = 0.12389617413282394\n",
      "Epoch 73 Loss = 0.12368940562009811\n",
      "Epoch 74 Loss = 0.12377041578292847\n"
     ]
    },
    {
     "data": {
      "application/vnd.jupyter.widget-view+json": {
       "model_id": "c4b7c40d699b4a5f956f18dc99ee88a9",
       "version_major": 2,
       "version_minor": 0
      },
      "text/plain": [
       "  0%|          | 0/75 [00:00<?, ?it/s]"
      ]
     },
     "metadata": {},
     "output_type": "display_data"
    },
    {
     "name": "stdout",
     "output_type": "stream",
     "text": [
      "Epoch 0, train acc: 0.5026454925537109, val acc: 0.5370370745658875\n",
      "train loss: 1.154313564300537; val loss: 1.0392876863479614\n",
      "Epoch 1, train acc: 0.5416666865348816, val acc: 0.5484567880630493\n",
      "train loss: 1.0351898670196533; val loss: 0.9899078607559204\n",
      "Epoch 2, train acc: 0.5403439402580261, val acc: 0.5308642387390137\n",
      "train loss: 0.9958013296127319; val loss: 0.9860106706619263\n",
      "Epoch 3, train acc: 0.5458994507789612, val acc: 0.5558642148971558\n",
      "train loss: 0.981446385383606; val loss: 0.9597638249397278\n",
      "Epoch 4, train acc: 0.5587301850318909, val acc: 0.5422839522361755\n",
      "train loss: 0.9714844822883606; val loss: 0.9656231999397278\n",
      "Epoch 5, train acc: 0.5547618865966797, val acc: 0.5373457074165344\n",
      "train loss: 0.9655737280845642; val loss: 0.9659120440483093\n",
      "Epoch 6, train acc: 0.5468254089355469, val acc: 0.5577160716056824\n",
      "train loss: 0.9640181064605713; val loss: 0.957409679889679\n",
      "Epoch 7, train acc: 0.5525132417678833, val acc: 0.5623456835746765\n",
      "train loss: 0.9562300443649292; val loss: 0.9551488161087036\n",
      "Epoch 8, train acc: 0.5615079402923584, val acc: 0.5456790328025818\n",
      "train loss: 0.9554726481437683; val loss: 0.9567815065383911\n",
      "Epoch 9, train acc: 0.5588624477386475, val acc: 0.549382746219635\n",
      "train loss: 0.9678871631622314; val loss: 0.947507381439209\n",
      "Epoch 10, train acc: 0.5530423521995544, val acc: 0.5459876656532288\n",
      "train loss: 0.9577630162239075; val loss: 0.9589505195617676\n",
      "Epoch 11, train acc: 0.5527777671813965, val acc: 0.5484567880630493\n",
      "train loss: 0.9558067917823792; val loss: 0.9616415500640869\n",
      "Epoch 12, train acc: 0.5521163940429688, val acc: 0.5512346029281616\n",
      "train loss: 0.956771194934845; val loss: 0.9590890407562256\n",
      "Epoch 13, train acc: 0.5596560835838318, val acc: 0.5385802984237671\n",
      "train loss: 0.9490073323249817; val loss: 0.9589478969573975\n",
      "Epoch 14, train acc: 0.5564814805984497, val acc: 0.540123462677002\n",
      "train loss: 0.9516893625259399; val loss: 0.9579036235809326\n",
      "Epoch 15, train acc: 0.5645502805709839, val acc: 0.529321014881134\n",
      "train loss: 0.9422195553779602; val loss: 0.9567535519599915\n",
      "Epoch 16, train acc: 0.5661375522613525, val acc: 0.5472222566604614\n",
      "train loss: 0.938913106918335; val loss: 0.9504125714302063\n",
      "Epoch 17, train acc: 0.5690476298332214, val acc: 0.5506173372268677\n",
      "train loss: 0.9333739280700684; val loss: 0.9544757008552551\n",
      "Epoch 18, train acc: 0.5658730268478394, val acc: 0.5388889312744141\n",
      "train loss: 0.9405359625816345; val loss: 0.9526903629302979\n",
      "Epoch 19, train acc: 0.5621693134307861, val acc: 0.5370370745658875\n",
      "train loss: 0.9468350410461426; val loss: 0.9582868814468384\n",
      "Epoch 20, train acc: 0.5719577074050903, val acc: 0.5435185432434082\n",
      "train loss: 0.937038242816925; val loss: 0.9647428393363953\n",
      "Epoch 21, train acc: 0.566005289554596, val acc: 0.5475308895111084\n",
      "train loss: 0.9449847340583801; val loss: 0.9493860602378845\n",
      "Epoch 22, train acc: 0.567724883556366, val acc: 0.5444444417953491\n",
      "train loss: 0.9340794086456299; val loss: 0.9676637649536133\n",
      "Epoch 23, train acc: 0.5624338984489441, val acc: 0.5429012775421143\n",
      "train loss: 0.9522974491119385; val loss: 0.955949604511261\n",
      "Epoch 24, train acc: 0.567460298538208, val acc: 0.540123462677002\n",
      "train loss: 0.9404579997062683; val loss: 0.9490485191345215\n",
      "Epoch 25, train acc: 0.563359797000885, val acc: 0.549382746219635\n",
      "train loss: 0.9387158155441284; val loss: 0.9510230422019958\n",
      "Epoch 26, train acc: 0.5686507821083069, val acc: 0.549691379070282\n",
      "train loss: 0.9446130990982056; val loss: 0.9547527432441711\n",
      "Epoch 27, train acc: 0.5662698745727539, val acc: 0.5583333373069763\n",
      "train loss: 0.9427402019500732; val loss: 0.9462459087371826\n",
      "Epoch 28, train acc: 0.5648148059844971, val acc: 0.559259295463562\n",
      "train loss: 0.9427772760391235; val loss: 0.946496307849884\n",
      "Epoch 29, train acc: 0.5630952715873718, val acc: 0.5456790328025818\n",
      "train loss: 0.9487472176551819; val loss: 0.9450135231018066\n",
      "Epoch 30, train acc: 0.5641534328460693, val acc: 0.5564814805984497\n",
      "train loss: 0.9371733069419861; val loss: 0.9410250782966614\n",
      "Epoch 31, train acc: 0.569179892539978, val acc: 0.5527778267860413\n",
      "train loss: 0.9395524263381958; val loss: 0.9449820518493652\n",
      "Epoch 32, train acc: 0.5617724657058716, val acc: 0.5453703999519348\n",
      "train loss: 0.9335933923721313; val loss: 0.9549176096916199\n",
      "Epoch 33, train acc: 0.5658730268478394, val acc: 0.559259295463562\n",
      "train loss: 0.9500946402549744; val loss: 0.9410619735717773\n",
      "Epoch 34, train acc: 0.5609788298606873, val acc: 0.5416666865348816\n",
      "train loss: 0.9377198219299316; val loss: 0.9510247707366943\n",
      "Epoch 35, train acc: 0.5720899701118469, val acc: 0.550000011920929\n",
      "train loss: 0.9385123252868652; val loss: 0.9454790949821472\n",
      "Epoch 36, train acc: 0.5703703761100769, val acc: 0.5447531342506409\n",
      "train loss: 0.9474260807037354; val loss: 0.9532825350761414\n",
      "Epoch 37, train acc: 0.5682539939880371, val acc: 0.5472222566604614\n",
      "train loss: 0.939164936542511; val loss: 0.9510932564735413\n",
      "Epoch 38, train acc: 0.5699735283851624, val acc: 0.549074113368988\n",
      "train loss: 0.9359548687934875; val loss: 0.9508550763130188\n",
      "Epoch 39, train acc: 0.567460298538208, val acc: 0.5361111164093018\n",
      "train loss: 0.9386523962020874; val loss: 0.9607087969779968\n",
      "Epoch 40, train acc: 0.5679894089698792, val acc: 0.5379629731178284\n",
      "train loss: 0.9417413473129272; val loss: 0.9611054062843323\n",
      "Epoch 41, train acc: 0.5654761791229248, val acc: 0.5419753193855286\n",
      "train loss: 0.9428281188011169; val loss: 0.9540238380432129\n",
      "Epoch 42, train acc: 0.5669312477111816, val acc: 0.5530864596366882\n",
      "train loss: 0.9361541867256165; val loss: 0.9500662088394165\n",
      "Epoch 43, train acc: 0.5628306865692139, val acc: 0.5447531342506409\n",
      "train loss: 0.9400632977485657; val loss: 0.9532874822616577\n",
      "Epoch 44, train acc: 0.5585978627204895, val acc: 0.5570988059043884\n",
      "train loss: 0.9412791728973389; val loss: 0.9440619349479675\n",
      "Epoch 45, train acc: 0.5603174567222595, val acc: 0.5429012775421143\n",
      "train loss: 0.9479686617851257; val loss: 0.9622406959533691\n",
      "Epoch 46, train acc: 0.5611110925674438, val acc: 0.5512346029281616\n",
      "train loss: 0.9410240054130554; val loss: 0.9433309435844421\n",
      "Epoch 47, train acc: 0.569444477558136, val acc: 0.5620370507240295\n",
      "train loss: 0.9411560297012329; val loss: 0.9475789070129395\n",
      "Epoch 48, train acc: 0.566005289554596, val acc: 0.5348765850067139\n",
      "train loss: 0.9406889081001282; val loss: 0.9547233581542969\n",
      "Epoch 49, train acc: 0.5624338984489441, val acc: 0.5456790328025818\n",
      "train loss: 0.9402083158493042; val loss: 0.9490769505500793\n",
      "Epoch 50, train acc: 0.5670635104179382, val acc: 0.5435185432434082\n",
      "train loss: 0.9388434886932373; val loss: 0.949709415435791\n",
      "Epoch 51, train acc: 0.5648148059844971, val acc: 0.5512346029281616\n",
      "train loss: 0.9466584324836731; val loss: 0.9642096161842346\n",
      "Epoch 52, train acc: 0.5658730268478394, val acc: 0.5456790328025818\n",
      "train loss: 0.9364408850669861; val loss: 0.9425668716430664\n",
      "Epoch 53, train acc: 0.5673280358314514, val acc: 0.549074113368988\n",
      "train loss: 0.941017746925354; val loss: 0.945346474647522\n",
      "Epoch 54, train acc: 0.5587301850318909, val acc: 0.5466049909591675\n",
      "train loss: 0.9423053860664368; val loss: 0.9572353959083557\n",
      "Epoch 55, train acc: 0.5658730268478394, val acc: 0.5435185432434082\n",
      "train loss: 0.9395005702972412; val loss: 0.9574910402297974\n",
      "Epoch 56, train acc: 0.5657407641410828, val acc: 0.5459876656532288\n",
      "train loss: 0.9416529536247253; val loss: 0.9582982659339905\n",
      "Epoch 57, train acc: 0.5667989253997803, val acc: 0.5435185432434082\n",
      "train loss: 0.9406222701072693; val loss: 0.9551888108253479\n",
      "Epoch 58, train acc: 0.5582010746002197, val acc: 0.5530864596366882\n",
      "train loss: 0.9479379057884216; val loss: 0.9411197900772095\n",
      "Epoch 59, train acc: 0.561904788017273, val acc: 0.5453703999519348\n",
      "train loss: 0.9460998177528381; val loss: 0.9541999101638794\n",
      "Epoch 60, train acc: 0.5644180178642273, val acc: 0.5379629731178284\n",
      "train loss: 0.940994381904602; val loss: 0.9650461673736572\n",
      "Epoch 61, train acc: 0.5638889074325562, val acc: 0.5456790328025818\n",
      "train loss: 0.9417675733566284; val loss: 0.9623011946678162\n",
      "Epoch 62, train acc: 0.5641534328460693, val acc: 0.5583333373069763\n",
      "train loss: 0.9467483758926392; val loss: 0.9430316090583801\n",
      "Epoch 63, train acc: 0.558994710445404, val acc: 0.5345679521560669\n",
      "train loss: 0.9487974047660828; val loss: 0.9647096395492554\n"
     ]
    },
    {
     "name": "stdout",
     "output_type": "stream",
     "text": [
      "Epoch 64, train acc: 0.5625661611557007, val acc: 0.5385802984237671\n",
      "train loss: 0.9357146620750427; val loss: 0.9629884362220764\n",
      "Epoch 65, train acc: 0.5666666626930237, val acc: 0.539814829826355\n",
      "train loss: 0.9473341107368469; val loss: 0.9557761549949646\n",
      "Epoch 66, train acc: 0.5656085014343262, val acc: 0.5425926446914673\n",
      "train loss: 0.9441909193992615; val loss: 0.9571271538734436\n",
      "Epoch 67, train acc: 0.5595238208770752, val acc: 0.5521605014801025\n",
      "train loss: 0.9482136964797974; val loss: 0.9591271877288818\n",
      "Epoch 68, train acc: 0.5579364895820618, val acc: 0.5518518686294556\n",
      "train loss: 0.9417951107025146; val loss: 0.945615291595459\n",
      "Epoch 69, train acc: 0.5640211701393127, val acc: 0.5481481552124023\n",
      "train loss: 0.9372184872627258; val loss: 0.9469722509384155\n",
      "Epoch 70, train acc: 0.5641534328460693, val acc: 0.549691379070282\n",
      "train loss: 0.947132408618927; val loss: 0.9500336050987244\n",
      "Epoch 71, train acc: 0.5624338984489441, val acc: 0.5469136238098145\n",
      "train loss: 0.9451630115509033; val loss: 0.9545270800590515\n",
      "Epoch 72, train acc: 0.5623015761375427, val acc: 0.5546296834945679\n",
      "train loss: 0.938946008682251; val loss: 0.9519721865653992\n",
      "Epoch 73, train acc: 0.5601851940155029, val acc: 0.5475308895111084\n",
      "train loss: 0.9433649182319641; val loss: 0.9651357531547546\n",
      "Epoch 74, train acc: 0.5636243224143982, val acc: 0.5444444417953491\n",
      "train loss: 0.936972439289093; val loss: 0.959368109703064\n",
      "5400 100\n"
     ]
    },
    {
     "data": {
      "application/vnd.jupyter.widget-view+json": {
       "model_id": "7e49e29d87c54da18c1fa233da33e5bc",
       "version_major": 2,
       "version_minor": 0
      },
      "text/plain": [
       "  0%|          | 0/100 [00:00<?, ?it/s]"
      ]
     },
     "metadata": {},
     "output_type": "display_data"
    },
    {
     "name": "stdout",
     "output_type": "stream",
     "text": [
      "Epoch 0 Loss = 0.20276224613189697\n",
      "Epoch 1 Loss = 0.1835734248161316\n",
      "Epoch 2 Loss = 0.16969506442546844\n",
      "Epoch 3 Loss = 0.15791210532188416\n",
      "Epoch 4 Loss = 0.15203957259655\n",
      "Epoch 5 Loss = 0.1488729864358902\n",
      "Epoch 6 Loss = 0.14717648923397064\n",
      "Epoch 7 Loss = 0.14536601305007935\n",
      "Epoch 8 Loss = 0.14443305134773254\n",
      "Epoch 9 Loss = 0.1440926492214203\n",
      "Epoch 10 Loss = 0.14223606884479523\n",
      "Epoch 11 Loss = 0.1411462277173996\n",
      "Epoch 12 Loss = 0.140613853931427\n",
      "Epoch 13 Loss = 0.14026212692260742\n",
      "Epoch 14 Loss = 0.13927380740642548\n",
      "Epoch 15 Loss = 0.13863687217235565\n",
      "Epoch 16 Loss = 0.13827621936798096\n",
      "Epoch 17 Loss = 0.13825801014900208\n",
      "Epoch 18 Loss = 0.1376357227563858\n",
      "Epoch 19 Loss = 0.13728173077106476\n",
      "Epoch 20 Loss = 0.1359945684671402\n",
      "Epoch 21 Loss = 0.13622812926769257\n",
      "Epoch 22 Loss = 0.13584572076797485\n",
      "Epoch 23 Loss = 0.13531196117401123\n",
      "Epoch 24 Loss = 0.13496147096157074\n",
      "Epoch 25 Loss = 0.13431328535079956\n",
      "Epoch 26 Loss = 0.13419289886951447\n",
      "Epoch 27 Loss = 0.13444995880126953\n",
      "Epoch 28 Loss = 0.13353748619556427\n",
      "Epoch 29 Loss = 0.13359294831752777\n",
      "Epoch 30 Loss = 0.13226833939552307\n",
      "Epoch 31 Loss = 0.13160398602485657\n",
      "Epoch 32 Loss = 0.1324162483215332\n",
      "Epoch 33 Loss = 0.13158288598060608\n",
      "Epoch 34 Loss = 0.13176146149635315\n",
      "Epoch 35 Loss = 0.13092227280139923\n",
      "Epoch 36 Loss = 0.13075923919677734\n",
      "Epoch 37 Loss = 0.13026584684848785\n",
      "Epoch 38 Loss = 0.12969982624053955\n",
      "Epoch 39 Loss = 0.13021226227283478\n",
      "Epoch 40 Loss = 0.12831003963947296\n",
      "Epoch 41 Loss = 0.12935109436511993\n",
      "Epoch 42 Loss = 0.12876693904399872\n",
      "Epoch 43 Loss = 0.12838920950889587\n",
      "Epoch 44 Loss = 0.12815110385417938\n",
      "Epoch 45 Loss = 0.12800775468349457\n",
      "Epoch 46 Loss = 0.1276402473449707\n",
      "Epoch 47 Loss = 0.12747971713542938\n",
      "Epoch 48 Loss = 0.12691177427768707\n",
      "Epoch 49 Loss = 0.12650571763515472\n",
      "Epoch 50 Loss = 0.12706254422664642\n",
      "Epoch 51 Loss = 0.12645967304706573\n",
      "Epoch 52 Loss = 0.12665897607803345\n",
      "Epoch 53 Loss = 0.1256207376718521\n",
      "Epoch 54 Loss = 0.12551940977573395\n",
      "Epoch 55 Loss = 0.12544257938861847\n",
      "Epoch 56 Loss = 0.1256127506494522\n",
      "Epoch 57 Loss = 0.12508460879325867\n",
      "Epoch 58 Loss = 0.12491849809885025\n",
      "Epoch 59 Loss = 0.12468123435974121\n",
      "Epoch 60 Loss = 0.12438333034515381\n",
      "Epoch 61 Loss = 0.12410753220319748\n",
      "Epoch 62 Loss = 0.12365206331014633\n",
      "Epoch 63 Loss = 0.12315957993268967\n",
      "Epoch 64 Loss = 0.12297096103429794\n",
      "Epoch 65 Loss = 0.12303920090198517\n",
      "Epoch 66 Loss = 0.1224285438656807\n",
      "Epoch 67 Loss = 0.12239675223827362\n",
      "Epoch 68 Loss = 0.12295856326818466\n",
      "Epoch 69 Loss = 0.12226158380508423\n",
      "Epoch 70 Loss = 0.12226169556379318\n",
      "Epoch 71 Loss = 0.12149200588464737\n",
      "Epoch 72 Loss = 0.12191126495599747\n",
      "Epoch 73 Loss = 0.12124555557966232\n",
      "Epoch 74 Loss = 0.12063170969486237\n",
      "Epoch 75 Loss = 0.12092005461454391\n",
      "Epoch 76 Loss = 0.12028614431619644\n",
      "Epoch 77 Loss = 0.1198941096663475\n",
      "Epoch 78 Loss = 0.12000574171543121\n",
      "Epoch 79 Loss = 0.11996815353631973\n",
      "Epoch 80 Loss = 0.12027596682310104\n",
      "Epoch 81 Loss = 0.11985297501087189\n",
      "Epoch 82 Loss = 0.12012463808059692\n",
      "Epoch 83 Loss = 0.11965154856443405\n",
      "Epoch 84 Loss = 0.1192142590880394\n",
      "Epoch 85 Loss = 0.11902185529470444\n",
      "Epoch 86 Loss = 0.11867143213748932\n",
      "Epoch 87 Loss = 0.11884697526693344\n",
      "Epoch 88 Loss = 0.11924275755882263\n",
      "Epoch 89 Loss = 0.11815378814935684\n",
      "Epoch 90 Loss = 0.1187211200594902\n",
      "Epoch 91 Loss = 0.11807131767272949\n",
      "Epoch 92 Loss = 0.11815150827169418\n",
      "Epoch 93 Loss = 0.11773353070020676\n",
      "Epoch 94 Loss = 0.11786210536956787\n",
      "Epoch 95 Loss = 0.11807159334421158\n",
      "Epoch 96 Loss = 0.11753793805837631\n",
      "Epoch 97 Loss = 0.11716920882463455\n",
      "Epoch 98 Loss = 0.11769236624240875\n",
      "Epoch 99 Loss = 0.11782446503639221\n"
     ]
    },
    {
     "data": {
      "application/vnd.jupyter.widget-view+json": {
       "model_id": "6091248ab677473d88530a1bede217ca",
       "version_major": 2,
       "version_minor": 0
      },
      "text/plain": [
       "  0%|          | 0/100 [00:00<?, ?it/s]"
      ]
     },
     "metadata": {},
     "output_type": "display_data"
    },
    {
     "ename": "RuntimeError",
     "evalue": "cuDNN error: CUDNN_STATUS_EXECUTION_FAILED",
     "output_type": "error",
     "traceback": [
      "\u001b[0;31m---------------------------------------------------------------------------\u001b[0m",
      "\u001b[0;31mRuntimeError\u001b[0m                              Traceback (most recent call last)",
      "\u001b[0;32m<ipython-input-12-f772a40b38ef>\u001b[0m in \u001b[0;36m<module>\u001b[0;34m\u001b[0m\n\u001b[1;32m     95\u001b[0m     )\n\u001b[1;32m     96\u001b[0m \u001b[0;34m\u001b[0m\u001b[0m\n\u001b[0;32m---> 97\u001b[0;31m     train_losses, train_accuracy, val_losses, val_accuracy = train_classifier(\n\u001b[0m\u001b[1;32m     98\u001b[0m         \u001b[0mclassifier\u001b[0m\u001b[0;34m,\u001b[0m \u001b[0mNUM_EPOCHS\u001b[0m\u001b[0;34m,\u001b[0m \u001b[0mtrainloader\u001b[0m\u001b[0;34m,\u001b[0m \u001b[0mtestloader\u001b[0m\u001b[0;34m,\u001b[0m\u001b[0;34m\u001b[0m\u001b[0;34m\u001b[0m\u001b[0m\n\u001b[1;32m     99\u001b[0m         \u001b[0moptimizer\u001b[0m\u001b[0;34m,\u001b[0m \u001b[0mcriterion\u001b[0m\u001b[0;34m,\u001b[0m \u001b[0mscheduler\u001b[0m\u001b[0;34m,\u001b[0m\u001b[0;34m\u001b[0m\u001b[0;34m\u001b[0m\u001b[0m\n",
      "\u001b[0;32m~/Desktop/hse_embeddings/code/utils.py\u001b[0m in \u001b[0;36mtrain_classifier\u001b[0;34m(classifier, NUM_EPOCHS, trainloader, testloader, optimizer, criterion, scheduler, enable_train_mode, enable_test_mode)\u001b[0m\n\u001b[1;32m     76\u001b[0m             \u001b[0mlabels\u001b[0m \u001b[0;34m=\u001b[0m \u001b[0mlabels\u001b[0m\u001b[0;34m.\u001b[0m\u001b[0mto\u001b[0m\u001b[0;34m(\u001b[0m\u001b[0mdevice\u001b[0m\u001b[0;34m)\u001b[0m\u001b[0;34m\u001b[0m\u001b[0;34m\u001b[0m\u001b[0m\n\u001b[1;32m     77\u001b[0m \u001b[0;34m\u001b[0m\u001b[0m\n\u001b[0;32m---> 78\u001b[0;31m             \u001b[0moutputs\u001b[0m \u001b[0;34m=\u001b[0m \u001b[0mclassifier\u001b[0m\u001b[0;34m(\u001b[0m\u001b[0mn\u001b[0m\u001b[0;34m,\u001b[0m \u001b[0mc\u001b[0m\u001b[0;34m)\u001b[0m\u001b[0;34m\u001b[0m\u001b[0;34m\u001b[0m\u001b[0m\n\u001b[0m\u001b[1;32m     79\u001b[0m             \u001b[0mloss\u001b[0m \u001b[0;34m=\u001b[0m \u001b[0mcriterion\u001b[0m\u001b[0;34m(\u001b[0m\u001b[0moutputs\u001b[0m\u001b[0;34m,\u001b[0m \u001b[0mlabels\u001b[0m\u001b[0;34m)\u001b[0m\u001b[0;34m\u001b[0m\u001b[0;34m\u001b[0m\u001b[0m\n\u001b[1;32m     80\u001b[0m \u001b[0;34m\u001b[0m\u001b[0m\n",
      "\u001b[0;32m~/Desktop/hse_embeddings/env/lib/python3.8/site-packages/torch/nn/modules/module.py\u001b[0m in \u001b[0;36m_call_impl\u001b[0;34m(self, *input, **kwargs)\u001b[0m\n\u001b[1;32m    887\u001b[0m             \u001b[0mresult\u001b[0m \u001b[0;34m=\u001b[0m \u001b[0mself\u001b[0m\u001b[0;34m.\u001b[0m\u001b[0m_slow_forward\u001b[0m\u001b[0;34m(\u001b[0m\u001b[0;34m*\u001b[0m\u001b[0minput\u001b[0m\u001b[0;34m,\u001b[0m \u001b[0;34m**\u001b[0m\u001b[0mkwargs\u001b[0m\u001b[0;34m)\u001b[0m\u001b[0;34m\u001b[0m\u001b[0;34m\u001b[0m\u001b[0m\n\u001b[1;32m    888\u001b[0m         \u001b[0;32melse\u001b[0m\u001b[0;34m:\u001b[0m\u001b[0;34m\u001b[0m\u001b[0;34m\u001b[0m\u001b[0m\n\u001b[0;32m--> 889\u001b[0;31m             \u001b[0mresult\u001b[0m \u001b[0;34m=\u001b[0m \u001b[0mself\u001b[0m\u001b[0;34m.\u001b[0m\u001b[0mforward\u001b[0m\u001b[0;34m(\u001b[0m\u001b[0;34m*\u001b[0m\u001b[0minput\u001b[0m\u001b[0;34m,\u001b[0m \u001b[0;34m**\u001b[0m\u001b[0mkwargs\u001b[0m\u001b[0;34m)\u001b[0m\u001b[0;34m\u001b[0m\u001b[0;34m\u001b[0m\u001b[0m\n\u001b[0m\u001b[1;32m    890\u001b[0m         for hook in itertools.chain(\n\u001b[1;32m    891\u001b[0m                 \u001b[0m_global_forward_hooks\u001b[0m\u001b[0;34m.\u001b[0m\u001b[0mvalues\u001b[0m\u001b[0;34m(\u001b[0m\u001b[0;34m)\u001b[0m\u001b[0;34m,\u001b[0m\u001b[0;34m\u001b[0m\u001b[0;34m\u001b[0m\u001b[0m\n",
      "\u001b[0;32m~/Desktop/hse_embeddings/code/classifier.py\u001b[0m in \u001b[0;36mforward\u001b[0;34m(self, n, c)\u001b[0m\n\u001b[1;32m     25\u001b[0m \u001b[0;34m\u001b[0m\u001b[0m\n\u001b[1;32m     26\u001b[0m     \u001b[0;32mdef\u001b[0m \u001b[0mforward\u001b[0m\u001b[0;34m(\u001b[0m\u001b[0mself\u001b[0m\u001b[0;34m,\u001b[0m \u001b[0mn\u001b[0m\u001b[0;34m,\u001b[0m \u001b[0mc\u001b[0m\u001b[0;34m)\u001b[0m\u001b[0;34m:\u001b[0m\u001b[0;34m\u001b[0m\u001b[0;34m\u001b[0m\u001b[0m\n\u001b[0;32m---> 27\u001b[0;31m         \u001b[0membeddings\u001b[0m \u001b[0;34m=\u001b[0m \u001b[0mself\u001b[0m\u001b[0;34m.\u001b[0m\u001b[0mencoder\u001b[0m\u001b[0;34m(\u001b[0m\u001b[0mn\u001b[0m\u001b[0;34m,\u001b[0m \u001b[0mc\u001b[0m\u001b[0;34m)\u001b[0m\u001b[0;34m\u001b[0m\u001b[0;34m\u001b[0m\u001b[0m\n\u001b[0m\u001b[1;32m     28\u001b[0m         \u001b[0moutputs\u001b[0m \u001b[0;34m=\u001b[0m \u001b[0mself\u001b[0m\u001b[0;34m.\u001b[0m\u001b[0mdecoder\u001b[0m\u001b[0;34m(\u001b[0m\u001b[0membeddings\u001b[0m\u001b[0;34m)\u001b[0m\u001b[0;34m\u001b[0m\u001b[0;34m\u001b[0m\u001b[0m\n\u001b[1;32m     29\u001b[0m         \u001b[0;32mreturn\u001b[0m \u001b[0moutputs\u001b[0m\u001b[0;34m\u001b[0m\u001b[0;34m\u001b[0m\u001b[0m\n",
      "\u001b[0;32m~/Desktop/hse_embeddings/env/lib/python3.8/site-packages/torch/nn/modules/module.py\u001b[0m in \u001b[0;36m_call_impl\u001b[0;34m(self, *input, **kwargs)\u001b[0m\n\u001b[1;32m    887\u001b[0m             \u001b[0mresult\u001b[0m \u001b[0;34m=\u001b[0m \u001b[0mself\u001b[0m\u001b[0;34m.\u001b[0m\u001b[0m_slow_forward\u001b[0m\u001b[0;34m(\u001b[0m\u001b[0;34m*\u001b[0m\u001b[0minput\u001b[0m\u001b[0;34m,\u001b[0m \u001b[0;34m**\u001b[0m\u001b[0mkwargs\u001b[0m\u001b[0;34m)\u001b[0m\u001b[0;34m\u001b[0m\u001b[0;34m\u001b[0m\u001b[0m\n\u001b[1;32m    888\u001b[0m         \u001b[0;32melse\u001b[0m\u001b[0;34m:\u001b[0m\u001b[0;34m\u001b[0m\u001b[0;34m\u001b[0m\u001b[0m\n\u001b[0;32m--> 889\u001b[0;31m             \u001b[0mresult\u001b[0m \u001b[0;34m=\u001b[0m \u001b[0mself\u001b[0m\u001b[0;34m.\u001b[0m\u001b[0mforward\u001b[0m\u001b[0;34m(\u001b[0m\u001b[0;34m*\u001b[0m\u001b[0minput\u001b[0m\u001b[0;34m,\u001b[0m \u001b[0;34m**\u001b[0m\u001b[0mkwargs\u001b[0m\u001b[0;34m)\u001b[0m\u001b[0;34m\u001b[0m\u001b[0;34m\u001b[0m\u001b[0m\n\u001b[0m\u001b[1;32m    890\u001b[0m         for hook in itertools.chain(\n\u001b[1;32m    891\u001b[0m                 \u001b[0m_global_forward_hooks\u001b[0m\u001b[0;34m.\u001b[0m\u001b[0mvalues\u001b[0m\u001b[0;34m(\u001b[0m\u001b[0;34m)\u001b[0m\u001b[0;34m,\u001b[0m\u001b[0;34m\u001b[0m\u001b[0;34m\u001b[0m\u001b[0m\n",
      "\u001b[0;32m~/Desktop/hse_embeddings/code/encoder_gru.py\u001b[0m in \u001b[0;36mforward\u001b[0;34m(self, n, c)\u001b[0m\n\u001b[1;32m     48\u001b[0m         \u001b[0mx\u001b[0m \u001b[0;34m=\u001b[0m \u001b[0mtorch\u001b[0m\u001b[0;34m.\u001b[0m\u001b[0mtranspose\u001b[0m\u001b[0;34m(\u001b[0m\u001b[0mx\u001b[0m\u001b[0;34m,\u001b[0m \u001b[0;36m0\u001b[0m\u001b[0;34m,\u001b[0m \u001b[0;36m1\u001b[0m\u001b[0;34m)\u001b[0m\u001b[0;34m\u001b[0m\u001b[0;34m\u001b[0m\u001b[0m\n\u001b[1;32m     49\u001b[0m \u001b[0;34m\u001b[0m\u001b[0m\n\u001b[0;32m---> 50\u001b[0;31m         \u001b[0mx\u001b[0m \u001b[0;34m=\u001b[0m \u001b[0mself\u001b[0m\u001b[0;34m.\u001b[0m\u001b[0msequence_encoder\u001b[0m\u001b[0;34m(\u001b[0m\u001b[0mx\u001b[0m\u001b[0;34m)\u001b[0m\u001b[0;34m[\u001b[0m\u001b[0;36m0\u001b[0m\u001b[0;34m]\u001b[0m\u001b[0;34m[\u001b[0m\u001b[0;34m-\u001b[0m\u001b[0;36m1\u001b[0m\u001b[0;34m]\u001b[0m\u001b[0;34m\u001b[0m\u001b[0;34m\u001b[0m\u001b[0m\n\u001b[0m\u001b[1;32m     51\u001b[0m \u001b[0;34m\u001b[0m\u001b[0m\n\u001b[1;32m     52\u001b[0m         \u001b[0;31m# normalization embedding to have unit norm\u001b[0m\u001b[0;34m\u001b[0m\u001b[0;34m\u001b[0m\u001b[0;34m\u001b[0m\u001b[0m\n",
      "\u001b[0;32m~/Desktop/hse_embeddings/env/lib/python3.8/site-packages/torch/nn/modules/module.py\u001b[0m in \u001b[0;36m_call_impl\u001b[0;34m(self, *input, **kwargs)\u001b[0m\n\u001b[1;32m    887\u001b[0m             \u001b[0mresult\u001b[0m \u001b[0;34m=\u001b[0m \u001b[0mself\u001b[0m\u001b[0;34m.\u001b[0m\u001b[0m_slow_forward\u001b[0m\u001b[0;34m(\u001b[0m\u001b[0;34m*\u001b[0m\u001b[0minput\u001b[0m\u001b[0;34m,\u001b[0m \u001b[0;34m**\u001b[0m\u001b[0mkwargs\u001b[0m\u001b[0;34m)\u001b[0m\u001b[0;34m\u001b[0m\u001b[0;34m\u001b[0m\u001b[0m\n\u001b[1;32m    888\u001b[0m         \u001b[0;32melse\u001b[0m\u001b[0;34m:\u001b[0m\u001b[0;34m\u001b[0m\u001b[0;34m\u001b[0m\u001b[0m\n\u001b[0;32m--> 889\u001b[0;31m             \u001b[0mresult\u001b[0m \u001b[0;34m=\u001b[0m \u001b[0mself\u001b[0m\u001b[0;34m.\u001b[0m\u001b[0mforward\u001b[0m\u001b[0;34m(\u001b[0m\u001b[0;34m*\u001b[0m\u001b[0minput\u001b[0m\u001b[0;34m,\u001b[0m \u001b[0;34m**\u001b[0m\u001b[0mkwargs\u001b[0m\u001b[0;34m)\u001b[0m\u001b[0;34m\u001b[0m\u001b[0;34m\u001b[0m\u001b[0m\n\u001b[0m\u001b[1;32m    890\u001b[0m         for hook in itertools.chain(\n\u001b[1;32m    891\u001b[0m                 \u001b[0m_global_forward_hooks\u001b[0m\u001b[0;34m.\u001b[0m\u001b[0mvalues\u001b[0m\u001b[0;34m(\u001b[0m\u001b[0;34m)\u001b[0m\u001b[0;34m,\u001b[0m\u001b[0;34m\u001b[0m\u001b[0;34m\u001b[0m\u001b[0m\n",
      "\u001b[0;32m~/Desktop/hse_embeddings/env/lib/python3.8/site-packages/torch/nn/modules/rnn.py\u001b[0m in \u001b[0;36mforward\u001b[0;34m(self, input, hx)\u001b[0m\n\u001b[1;32m    819\u001b[0m         \u001b[0mself\u001b[0m\u001b[0;34m.\u001b[0m\u001b[0mcheck_forward_args\u001b[0m\u001b[0;34m(\u001b[0m\u001b[0minput\u001b[0m\u001b[0;34m,\u001b[0m \u001b[0mhx\u001b[0m\u001b[0;34m,\u001b[0m \u001b[0mbatch_sizes\u001b[0m\u001b[0;34m)\u001b[0m\u001b[0;34m\u001b[0m\u001b[0;34m\u001b[0m\u001b[0m\n\u001b[1;32m    820\u001b[0m         \u001b[0;32mif\u001b[0m \u001b[0mbatch_sizes\u001b[0m \u001b[0;32mis\u001b[0m \u001b[0;32mNone\u001b[0m\u001b[0;34m:\u001b[0m\u001b[0;34m\u001b[0m\u001b[0;34m\u001b[0m\u001b[0m\n\u001b[0;32m--> 821\u001b[0;31m             result = _VF.gru(input, hx, self._flat_weights, self.bias, self.num_layers,\n\u001b[0m\u001b[1;32m    822\u001b[0m                              self.dropout, self.training, self.bidirectional, self.batch_first)\n\u001b[1;32m    823\u001b[0m         \u001b[0;32melse\u001b[0m\u001b[0;34m:\u001b[0m\u001b[0;34m\u001b[0m\u001b[0;34m\u001b[0m\u001b[0m\n",
      "\u001b[0;31mRuntimeError\u001b[0m: cuDNN error: CUDNN_STATUS_EXECUTION_FAILED"
     ]
    },
    {
     "data": {
      "image/png": "[encoded data removed]",
      "text/plain": [
       "<Figure size 864x432 with 1 Axes>"
      ]
     },
     "metadata": {},
     "output_type": "display_data"
    },
    {
     "data": {
      "image/png": "[encoded data removed]",
      "text/plain": [
       "<Figure size 864x432 with 2 Axes>"
      ]
     },
     "metadata": {},
     "output_type": "display_data"
    },
    {
     "data": {
      "image/png": "[encoded data removed]",
      "text/plain": [
       "<Figure size 864x432 with 1 Axes>"
      ]
     },
     "metadata": {},
     "output_type": "display_data"
    },
    {
     "data": {
      "image/png": "[encoded data removed]",
      "text/plain": [
       "<Figure size 864x432 with 2 Axes>"
      ]
     },
     "metadata": {},
     "output_type": "display_data"
    },
    {
     "data": {
      "image/png": "[encoded data removed]",
      "text/plain": [
       "<Figure size 864x432 with 1 Axes>"
      ]
     },
     "metadata": {},
     "output_type": "display_data"
    }
   ],
   "source": [
    "arch = 'GRU'\n",
    "\n",
    "EMBEDDING_DIM = 256\n",
    "nums_epochs = [300, 200, 200, 100, 100, 75, 50]\n",
    "nums_obs = [300, 600, 1300, 2700, 5400, 10800, 21600]\n",
    "nums_epochs = nums_epochs[::-1]\n",
    "nums_obs = nums_obs[::-1]\n",
    "accs = []\n",
    "\n",
    "for NUM_OBS, NUM_EPOCHS in tqdm(zip(nums_obs, nums_epochs)):\n",
    "    import gc\n",
    "    gc.collect()\n",
    "    torch.cuda.empty_cache()\n",
    "    print(NUM_OBS, NUM_EPOCHS)\n",
    "    \n",
    "    dataset.targets = dataset.targets[:NUM_OBS]\n",
    "    clfdataset.targets = clfdataset.targets[:NUM_OBS]\n",
    "\n",
    "    torch.manual_seed(0)\n",
    "    random.seed(0)\n",
    "    np.random.seed(0)\n",
    "    \n",
    "    dataloader = torch.utils.data.DataLoader(\n",
    "        dataset, batch_size=BATCH_SIZE,\n",
    "        num_workers=0,\n",
    "    )\n",
    "\n",
    "    train_idx, test_idx= train_test_split(\n",
    "        np.arange(len(clfdataset.targets)),\n",
    "        test_size=0.3,\n",
    "        shuffle=True,\n",
    "        stratify=clfdataset.targets,\n",
    "        random_state=228\n",
    "    )\n",
    "\n",
    "    train_sampler = torch.utils.data.SubsetRandomSampler(train_idx)\n",
    "    test_sampler = torch.utils.data.SubsetRandomSampler(test_idx)\n",
    "\n",
    "    trainloader = torch.utils.data.DataLoader(\n",
    "        clfdataset, batch_size=BATCH_SIZE,\n",
    "        sampler=train_sampler)\n",
    "    testloader = torch.utils.data.DataLoader(\n",
    "        clfdataset, batch_size=BATCH_SIZE,\n",
    "        sampler=test_sampler)\n",
    "    \n",
    "    LR = 0.002\n",
    "    \n",
    "    # train decoder\n",
    "    \n",
    "    encoder = Encoder(\n",
    "        numerical_input_dim=num_input_dim,\n",
    "        cat_vocab_sizes=cat_vocab_sizes,\n",
    "        cat_embedding_dim=cat_embedding_dim,\n",
    "        embedding_dim=EMBEDDING_DIM,\n",
    "    )\n",
    "    encoder.to(device);\n",
    "    encoder.train()\n",
    "    optimizer = optim.Adam(encoder.parameters(), lr=LR)\n",
    "    \n",
    "    distance = distances.CosineSimilarity()\n",
    "    reducer = reducers.ThresholdReducer(low = 0) # basically, returns average\n",
    "    loss_func = losses.TripletMarginLoss(margin = 0.4, distance = distance, reducer = reducer)\n",
    "    mining_func = miners.TripletMarginMiner(margin = 0.4, distance = distance, type_of_triplets = \"semihard\")\n",
    "    \n",
    "    train_losses = train_ml_model(\n",
    "        encoder, NUM_EPOCHS, dataloader, NUM_OF_SUBSEQUENCES,\n",
    "        mining_func, loss_func, optimizer)\n",
    "    fig, axs = plt.subplots(figsize=(12, 6))\n",
    "\n",
    "    plt.plot(train_losses, label='train')\n",
    "    plt.xlabel('iter')\n",
    "    plt.ylabel('loss');\n",
    "    plt.savefig(f'plots/ML_{arch}_{EMBEDDING_DIM}_{NUM_OBS}_{NUM_EPOCHS}.png')\n",
    "    \n",
    "    SCHEDULER_EPOCHS = 2\n",
    "    LR = 0.002\n",
    "    \n",
    "    # train classifier decoder\n",
    "    \n",
    "    classifier = Classifier(\n",
    "        numerical_input_dim=num_input_dim,\n",
    "        cat_vocab_sizes=cat_vocab_sizes,\n",
    "        cat_embedding_dim=cat_embedding_dim,\n",
    "        embedding_dim=EMBEDDING_DIM\n",
    "    )\n",
    "    classifier.encoder = encoder\n",
    "    classifier.freeze_encoder()\n",
    "    classifier.to(device);\n",
    "    \n",
    "    optimizer = optim.Adam(classifier.decoder.parameters(), lr=LR)\n",
    "    criterion = nn.CrossEntropyLoss()\n",
    "    scheduler = optim.lr_scheduler.ReduceLROnPlateau(\n",
    "        optimizer,\n",
    "        patience=SCHEDULER_EPOCHS,\n",
    "    )\n",
    "    \n",
    "    train_losses, train_accuracy, val_losses, val_accuracy = train_classifier(\n",
    "        classifier, NUM_EPOCHS, trainloader, testloader,\n",
    "        optimizer, criterion, scheduler,\n",
    "        enable_train_mode = lambda: classifier.decoder.train(),\n",
    "        enable_test_mode = lambda: classifier.decoder.eval(),\n",
    "    )\n",
    "    \n",
    "    fig, axs = plt.subplots(figsize=(12, 6))\n",
    "\n",
    "    plt.subplot(1, 2, 1)\n",
    "    plt.plot(train_losses, label='train')\n",
    "    plt.plot(val_losses, label='validation')\n",
    "    plt.xlabel('iter')\n",
    "    plt.ylabel('loss')\n",
    "    plt.legend()\n",
    "\n",
    "    plt.subplot(1, 2, 2)\n",
    "    plt.xlabel('iter')\n",
    "    plt.ylabel('accuracy');\n",
    "    plt.plot(train_accuracy, label='train')\n",
    "    plt.plot(val_accuracy, label='validation')\n",
    "    plt.legend()\n",
    "\n",
    "    plt.savefig(f'plots/clfdec_{arch}_{EMBEDDING_DIM}_{NUM_OBS}_{NUM_EPOCHS}.png')\n",
    "    \n",
    "    accs.append(val_accuracy[-1])"
   ]
  },
  {
   "cell_type": "code",
   "execution_count": null,
   "id": "controlling-debate",
   "metadata": {},
   "outputs": [],
   "source": []
  },
  {
   "cell_type": "code",
   "execution_count": null,
   "id": "approved-blowing",
   "metadata": {},
   "outputs": [],
   "source": []
  },
  {
   "cell_type": "code",
   "execution_count": null,
   "id": "varied-wireless",
   "metadata": {},
   "outputs": [],
   "source": []
  },
  {
   "cell_type": "code",
   "execution_count": null,
   "id": "swiss-bhutan",
   "metadata": {},
   "outputs": [],
   "source": []
  },
  {
   "cell_type": "code",
   "execution_count": null,
   "id": "respective-satisfaction",
   "metadata": {},
   "outputs": [],
   "source": []
  },
  {
   "cell_type": "code",
   "execution_count": null,
   "id": "particular-taxation",
   "metadata": {},
   "outputs": [],
   "source": [
    "arch = 'GRU'"
   ]
  },
  {
   "cell_type": "code",
   "execution_count": null,
   "id": "vertical-investor",
   "metadata": {
    "ExecuteTime": {
     "end_time": "2021-05-06T14:52:24.338194Z",
     "start_time": "2021-05-06T14:52:24.114519Z"
    },
    "scrolled": true
   },
   "outputs": [],
   "source": [
    "plt.plot(dims, accs)\n",
    "plt.xlabel('iter')\n",
    "plt.xscale('log', base=2)\n",
    "plt.xticks(dims)\n",
    "plt.ylabel('accuracy');\n",
    "plt.savefig(f'plots/clfdec_{arch}_embedding_to_acc_{NUM_OBS}_{NUM_EPOCHS}.png')"
   ]
  },
  {
   "cell_type": "code",
   "execution_count": null,
   "id": "understanding-recycling",
   "metadata": {
    "ExecuteTime": {
     "end_time": "2021-05-06T14:48:48.784068Z",
     "start_time": "2021-05-06T14:48:48.772105Z"
    }
   },
   "outputs": [],
   "source": [
    "accs"
   ]
  },
  {
   "cell_type": "code",
   "execution_count": null,
   "id": "dying-accreditation",
   "metadata": {
    "ExecuteTime": {
     "end_time": "2021-05-06T14:52:36.802788Z",
     "start_time": "2021-05-06T14:52:36.791183Z"
    }
   },
   "outputs": [],
   "source": [
    "dims"
   ]
  },
  {
   "cell_type": "code",
   "execution_count": null,
   "id": "suspended-parks",
   "metadata": {},
   "outputs": [],
   "source": []
  },
  {
   "cell_type": "code",
   "execution_count": null,
   "id": "intimate-willow",
   "metadata": {},
   "outputs": [],
   "source": []
  },
  {
   "cell_type": "code",
   "execution_count": null,
   "id": "endangered-witch",
   "metadata": {
    "ExecuteTime": {
     "end_time": "2021-05-11T10:45:18.148310Z",
     "start_time": "2021-05-11T10:45:18.117065Z"
    }
   },
   "outputs": [],
   "source": [
    "dims = [32, 64, 128, 256, 512, 1024, 2048]\n",
    "\n",
    "accs = [0.5453333258628845,\n",
    " 0.558555543422699,\n",
    " 0.558222234249115,\n",
    " 0.5707777738571167,\n",
    " 0.5681111216545105,\n",
    " 0.5681111216545105,\n",
    " 0.45866668224334717]"
   ]
  },
  {
   "cell_type": "code",
   "execution_count": null,
   "id": "advance-operation",
   "metadata": {
    "ExecuteTime": {
     "end_time": "2021-05-11T10:46:09.792839Z",
     "start_time": "2021-05-11T10:46:09.769132Z"
    }
   },
   "outputs": [],
   "source": [
    "arch = 'GRU'"
   ]
  },
  {
   "cell_type": "code",
   "execution_count": null,
   "id": "formal-albert",
   "metadata": {
    "ExecuteTime": {
     "end_time": "2021-05-11T10:47:48.105387Z",
     "start_time": "2021-05-11T10:47:48.073474Z"
    }
   },
   "outputs": [],
   "source": [
    "sns.set_style(\"whitegrid\")"
   ]
  },
  {
   "cell_type": "code",
   "execution_count": null,
   "id": "active-mainland",
   "metadata": {
    "ExecuteTime": {
     "end_time": "2021-05-11T10:48:08.904000Z",
     "start_time": "2021-05-11T10:48:08.571893Z"
    }
   },
   "outputs": [],
   "source": [
    "# sns.lineplot(x=dims, y=accs)\n",
    "plt.plot(dims, accs)\n",
    "plt.scatter(dims, accs)\n",
    "plt.xlabel('Embedding size')\n",
    "plt.xscale('log', base=2)\n",
    "plt.xticks(dims)\n",
    "plt.ylabel('accuracy');\n",
    "plt.savefig(f'plots/clfdec_{arch}_embedding_to_acc_{NUM_OBS}_{NUM_EPOCHS}.png')"
   ]
  },
  {
   "cell_type": "code",
   "execution_count": null,
   "id": "typical-resort",
   "metadata": {},
   "outputs": [],
   "source": []
  },
  {
   "cell_type": "code",
   "execution_count": null,
   "id": "heard-register",
   "metadata": {},
   "outputs": [],
   "source": []
  },
  {
   "cell_type": "code",
   "execution_count": null,
   "id": "opponent-attitude",
   "metadata": {},
   "outputs": [],
   "source": []
  },
  {
   "cell_type": "code",
   "execution_count": null,
   "id": "funny-hebrew",
   "metadata": {},
   "outputs": [],
   "source": []
  },
  {
   "cell_type": "code",
   "execution_count": null,
   "id": "gorgeous-league",
   "metadata": {},
   "outputs": [],
   "source": []
  },
  {
   "cell_type": "code",
   "execution_count": null,
   "id": "painful-sigma",
   "metadata": {},
   "outputs": [],
   "source": [
    "encoder.eval();"
   ]
  },
  {
   "cell_type": "code",
   "execution_count": null,
   "id": "distinct-diversity",
   "metadata": {},
   "outputs": [],
   "source": [
    "embeddings_train = torch.zeros((1, EMBEDDING_DIM))[1:].to(device)\n",
    "\n",
    "for (sequences, labels) in trainloader:\n",
    "    with torch.no_grad():\n",
    "        n, c = sequences[0], sequences[1]\n",
    "        n = n.to(device)\n",
    "        c = c.to(device)\n",
    "        labels = labels.to(device)\n",
    "\n",
    "        embedding = encoder(n, c)\n",
    "        \n",
    "        embeddings_train = torch.cat((embeddings_train, embedding))\n",
    "        \n",
    "embeddings_test = torch.zeros((1, EMBEDDING_DIM))[1:].to(device)\n",
    "\n",
    "for (sequences, labels) in testloader:\n",
    "    with torch.no_grad():\n",
    "        n, c = sequences[0], sequences[1]\n",
    "        n = n.to(device)\n",
    "        c = c.to(device)\n",
    "        labels = labels.to(device)\n",
    "\n",
    "        embedding = encoder(n, c)\n",
    "        \n",
    "        embeddings = torch.cat((embeddings_test, embedding))"
   ]
  },
  {
   "cell_type": "code",
   "execution_count": null,
   "id": "opposite-labor",
   "metadata": {},
   "outputs": [],
   "source": [
    "embeddings_train = embeddings_train.to('cpu')\n",
    "embeddings_test = embeddings_test.to('cpu')"
   ]
  },
  {
   "cell_type": "code",
   "execution_count": null,
   "id": "advisory-terry",
   "metadata": {},
   "outputs": [],
   "source": [
    "X_train = embeddings_train\n",
    "X_test = embeddings_test\n",
    "y_train = targets[train_idx]\n",
    "y_test = targets[test_idx]"
   ]
  },
  {
   "cell_type": "code",
   "execution_count": null,
   "id": "appreciated-childhood",
   "metadata": {
    "id": "L5jmrerQ9qRg"
   },
   "outputs": [],
   "source": [
    "train_data = lgb.Dataset(X_train, label=y_train)"
   ]
  },
  {
   "cell_type": "code",
   "execution_count": null,
   "id": "celtic-montgomery",
   "metadata": {},
   "outputs": [],
   "source": []
  },
  {
   "cell_type": "code",
   "execution_count": null,
   "id": "disturbed-latter",
   "metadata": {},
   "outputs": [],
   "source": []
  },
  {
   "cell_type": "code",
   "execution_count": null,
   "id": "scheduled-orbit",
   "metadata": {
    "id": "Ca5R3rL7Kxem"
   },
   "outputs": [],
   "source": [
    "from catboost import CatBoostClassifier, Pool\n",
    "from catboost import cv\n",
    "from sklearn.model_selection import train_test_split"
   ]
  },
  {
   "cell_type": "code",
   "execution_count": null,
   "id": "assumed-regression",
   "metadata": {
    "id": "D38VYwhXKq_P"
   },
   "outputs": [],
   "source": [
    "X_train, X_test, y_train, y_test = train_test_split(\n",
    "    X, y, test_size=0.33, random_state=228, stratify=y)\n",
    "\n",
    "train_pool = Pool(X_train, y_train)\n",
    "test_pool = Pool(X_test, y_test)"
   ]
  },
  {
   "cell_type": "code",
   "execution_count": null,
   "id": "occupational-vietnamese",
   "metadata": {
    "id": "YV_oTIQKNsuq"
   },
   "outputs": [],
   "source": [
    "model = CatBoostClassifier(\n",
    "    iterations=500,\n",
    "    depth=3,\n",
    "    learning_rate=0.5,\n",
    "    verbose=True,\n",
    "    eval_metric='Accuracy',\n",
    "    auto_class_weights='Balanced',\n",
    "    random_state=228,\n",
    ")"
   ]
  },
  {
   "cell_type": "code",
   "execution_count": null,
   "id": "unusual-wings",
   "metadata": {
    "id": "Fc3FHXYyK8yh"
   },
   "outputs": [],
   "source": [
    "model.fit(train_pool, eval_set=test_pool)"
   ]
  },
  {
   "cell_type": "code",
   "execution_count": null,
   "id": "religious-binary",
   "metadata": {
    "id": "63NEh9tOkAkp"
   },
   "outputs": [],
   "source": [
    "train_acc = model.evals_result_['learn']['Accuracy']\n",
    "valid_acc = model.evals_result_['validation']['Accuracy']\n",
    "\n",
    "plt.plot(train_acc, label='train')\n",
    "plt.plot(valid_acc, label='valid')\n",
    "plt.xlabel('iter')\n",
    "plt.ylabel('accuracy')\n",
    "plt.legend();"
   ]
  },
  {
   "cell_type": "code",
   "execution_count": null,
   "id": "employed-forge",
   "metadata": {
    "id": "dLfhuxFdkAiV"
   },
   "outputs": [],
   "source": []
  },
  {
   "cell_type": "code",
   "execution_count": null,
   "id": "happy-stomach",
   "metadata": {
    "id": "Gq_9OK9INyco"
   },
   "outputs": [],
   "source": [
    "sum(np.squeeze(model.predict(X_test)) == y_test) / len(y_test)"
   ]
  }
 ],
 "metadata": {
  "kernelspec": {
   "display_name": "Python 3",
   "language": "python",
   "name": "python3"
  },
  "language_info": {
   "codemirror_mode": {
    "name": "ipython",
    "version": 3
   },
   "file_extension": ".py",
   "mimetype": "text/x-python",
   "name": "python",
   "nbconvert_exporter": "python",
   "pygments_lexer": "ipython3",
   "version": "3.8.9"
  },
  "toc": {
   "base_numbering": 1,
   "nav_menu": {
    "height": "191px",
    "width": "260px"
   },
   "number_sections": true,
   "sideBar": true,
   "skip_h1_title": true,
   "title_cell": "Table of Contents",
   "title_sidebar": "Contents",
   "toc_cell": true,
   "toc_position": {},
   "toc_section_display": true,
   "toc_window_display": true
  }
 },
 "nbformat": 4,
 "nbformat_minor": 5
}
