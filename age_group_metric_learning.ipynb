{
 "cells": [
  {
   "cell_type": "markdown",
   "id": "seeing-flood",
   "metadata": {
    "toc": true
   },
   "source": [
    "<h1>Table of Contents<span class=\"tocSkip\"></span></h1>\n",
    "<div class=\"toc\"><ul class=\"toc-item\"></ul></div>"
   ]
  },
  {
   "cell_type": "code",
   "execution_count": 1,
   "id": "inner-canada",
   "metadata": {
    "ExecuteTime": {
     "end_time": "2021-05-06T08:49:10.014087Z",
     "start_time": "2021-05-06T08:49:09.471771Z"
    },
    "id": "thKgYQF3URYw"
   },
   "outputs": [],
   "source": [
    "import pandas as pd\n",
    "import numpy as np\n",
    "import matplotlib.pyplot as plt\n",
    "import seaborn as sns\n",
    "\n",
    "sns.set()\n",
    "\n",
    "sns.set_style(\"whitegrid\", {'axes.grid' : False})\n",
    "\n",
    "from tqdm.auto import tqdm"
   ]
  },
  {
   "cell_type": "code",
   "execution_count": 2,
   "id": "sublime-strap",
   "metadata": {
    "ExecuteTime": {
     "end_time": "2021-05-06T08:49:10.025325Z",
     "start_time": "2021-05-06T08:49:10.015175Z"
    }
   },
   "outputs": [],
   "source": [
    "%load_ext autoreload\n",
    "%autoreload 2"
   ]
  },
  {
   "cell_type": "code",
   "execution_count": 3,
   "id": "polar-married",
   "metadata": {
    "ExecuteTime": {
     "end_time": "2021-05-06T08:49:10.413603Z",
     "start_time": "2021-05-06T08:49:10.026420Z"
    },
    "colab": {
     "base_uri": "https://localhost:8080/"
    },
    "id": "UBFRCZowUWGt",
    "outputId": "09cfb931-6126-4fcf-f0b6-d6abfa0d4ba5"
   },
   "outputs": [
    {
     "data": {
      "text/plain": [
       "True"
      ]
     },
     "execution_count": 3,
     "metadata": {},
     "output_type": "execute_result"
    }
   ],
   "source": [
    "import torch\n",
    "torch.cuda.is_available()"
   ]
  },
  {
   "cell_type": "code",
   "execution_count": 4,
   "id": "infectious-providence",
   "metadata": {
    "ExecuteTime": {
     "end_time": "2021-05-06T08:49:10.425008Z",
     "start_time": "2021-05-06T08:49:10.414623Z"
    },
    "colab": {
     "base_uri": "https://localhost:8080/"
    },
    "id": "Q-kXTk-bNPzx",
    "outputId": "7a991cca-3b7a-4ec3-9fa8-ee0b5fce2537"
   },
   "outputs": [
    {
     "name": "stdout",
     "output_type": "stream",
     "text": [
      "cuda:0\n"
     ]
    }
   ],
   "source": [
    "device = torch.device(\"cuda:0\" if torch.cuda.is_available() else \"cpu\")\n",
    "\n",
    "# Assuming that we are on a CUDA machine, this should print a CUDA device:\n",
    "\n",
    "print(device)"
   ]
  },
  {
   "cell_type": "code",
   "execution_count": 5,
   "id": "peaceful-chaos",
   "metadata": {
    "ExecuteTime": {
     "end_time": "2021-05-06T08:49:10.556460Z",
     "start_time": "2021-05-06T08:49:10.425953Z"
    }
   },
   "outputs": [],
   "source": [
    "from pytorch_metric_learning import losses, miners, distances, reducers, samplers\n",
    "import torch.optim as optim\n",
    "from sklearn.model_selection import train_test_split\n",
    "import torch.nn as nn"
   ]
  },
  {
   "cell_type": "code",
   "execution_count": 32,
   "id": "romantic-brook",
   "metadata": {
    "ExecuteTime": {
     "end_time": "2021-05-06T08:57:50.763965Z",
     "start_time": "2021-05-06T08:57:50.684526Z"
    }
   },
   "outputs": [],
   "source": [
    "from code.dataloader import AgeGroupMLDataset, AgeGroupClfDataset\n",
    "from code.encoder_gru import Encoder\n",
    "from code.decoder import Decoder\n",
    "from code.classifier import Classifier\n",
    "from code.utils import train_ml_model, train_classifier"
   ]
  },
  {
   "cell_type": "code",
   "execution_count": 53,
   "id": "upset-raising",
   "metadata": {
    "ExecuteTime": {
     "end_time": "2021-05-06T09:01:42.291876Z",
     "start_time": "2021-05-06T09:01:42.263228Z"
    },
    "id": "pm80PCIl79LE"
   },
   "outputs": [],
   "source": [
    "BATCH_SIZE = 64 # BATCH_SIZE unique persons\n",
    "NUM_OF_SUBSEQUENCES = 5\n",
    "SUBSEQUENCE_LENGTH = 90\n",
    "\n",
    "EMBEDDING_DIM = 256\n",
    "LR = 0.002\n",
    "NUM_EPOCHS = 150\n",
    "\n",
    "cat_vocab_sizes = [204]\n",
    "num_input_dim = 4\n",
    "ARCH = 'GRU'\n",
    "NUM_OBS = 30000"
   ]
  },
  {
   "cell_type": "code",
   "execution_count": 54,
   "id": "material-dimension",
   "metadata": {
    "ExecuteTime": {
     "end_time": "2021-05-06T09:01:56.041928Z",
     "start_time": "2021-05-06T09:01:42.996461Z"
    },
    "id": "GYYj4IyZdrtg"
   },
   "outputs": [],
   "source": [
    "dataset = AgeGroupMLDataset(num_observations=NUM_OBS)"
   ]
  },
  {
   "cell_type": "code",
   "execution_count": null,
   "id": "medical-oxygen",
   "metadata": {},
   "outputs": [],
   "source": []
  },
  {
   "cell_type": "code",
   "execution_count": 36,
   "id": "seventh-think",
   "metadata": {
    "ExecuteTime": {
     "end_time": "2021-05-06T08:58:22.652131Z",
     "start_time": "2021-05-06T08:58:22.630473Z"
    },
    "id": "EY6GM_RjsCWg"
   },
   "outputs": [],
   "source": [
    "dataset.load_client_to_indices()"
   ]
  },
  {
   "cell_type": "code",
   "execution_count": 37,
   "id": "superior-savannah",
   "metadata": {
    "ExecuteTime": {
     "end_time": "2021-05-06T08:58:22.971591Z",
     "start_time": "2021-05-06T08:58:22.952979Z"
    },
    "id": "vNdVHSPr3de2"
   },
   "outputs": [],
   "source": [
    "import random"
   ]
  },
  {
   "cell_type": "code",
   "execution_count": 38,
   "id": "linear-trinidad",
   "metadata": {
    "ExecuteTime": {
     "end_time": "2021-05-06T08:58:23.297645Z",
     "start_time": "2021-05-06T08:58:23.274052Z"
    },
    "id": "WxzkX-VZ3zJu"
   },
   "outputs": [],
   "source": [
    "torch.manual_seed(0)\n",
    "random.seed(0)\n",
    "np.random.seed(0)"
   ]
  },
  {
   "cell_type": "code",
   "execution_count": 39,
   "id": "legitimate-radius",
   "metadata": {
    "ExecuteTime": {
     "end_time": "2021-05-06T08:58:23.525390Z",
     "start_time": "2021-05-06T08:58:23.505431Z"
    },
    "id": "XB6H3g74Nflk"
   },
   "outputs": [],
   "source": [
    "targets = dataset.targets"
   ]
  },
  {
   "cell_type": "code",
   "execution_count": 42,
   "id": "peaceful-diameter",
   "metadata": {
    "ExecuteTime": {
     "end_time": "2021-05-06T08:58:33.315828Z",
     "start_time": "2021-05-06T08:58:33.286481Z"
    },
    "id": "2W-DuPoHuACu"
   },
   "outputs": [],
   "source": [
    "dataloader = torch.utils.data.DataLoader(\n",
    "    dataset, batch_size=BATCH_SIZE,\n",
    "    num_workers=0,\n",
    ")"
   ]
  },
  {
   "cell_type": "code",
   "execution_count": 43,
   "id": "polar-briefs",
   "metadata": {
    "ExecuteTime": {
     "end_time": "2021-05-06T08:58:34.272005Z",
     "start_time": "2021-05-06T08:58:34.240590Z"
    },
    "id": "AZBeoMARzDpJ"
   },
   "outputs": [],
   "source": [
    "encoder = Encoder(\n",
    "    numerical_input_dim=num_input_dim,\n",
    "    cat_vocab_sizes=cat_vocab_sizes,\n",
    "    embedding_dim=EMBEDDING_DIM,\n",
    ")\n",
    "encoder.to(device);"
   ]
  },
  {
   "cell_type": "code",
   "execution_count": 44,
   "id": "suited-truck",
   "metadata": {
    "ExecuteTime": {
     "end_time": "2021-05-06T08:58:35.145577Z",
     "start_time": "2021-05-06T08:58:35.131498Z"
    },
    "id": "8YuKXKv_zEX3"
   },
   "outputs": [],
   "source": [
    "optimizer = optim.Adam(encoder.parameters(), lr=LR)"
   ]
  },
  {
   "cell_type": "code",
   "execution_count": 45,
   "id": "dental-elizabeth",
   "metadata": {
    "ExecuteTime": {
     "end_time": "2021-05-06T08:58:35.552805Z",
     "start_time": "2021-05-06T08:58:35.532410Z"
    },
    "id": "KzpMLdIMyUWp"
   },
   "outputs": [],
   "source": [
    "distance = distances.CosineSimilarity()\n",
    "reducer = reducers.ThresholdReducer(low = 0) # basically, returns average\n",
    "loss_func = losses.TripletMarginLoss(margin = 0.4, distance = distance, reducer = reducer)\n",
    "mining_func = miners.TripletMarginMiner(margin = 0.4, distance = distance, type_of_triplets = \"semihard\")\n",
    "\n",
    "# sota\n",
    "# loss_func = losses.ArcFaceLoss(\n",
    "#     num_classes=len(targets), embedding_size=EMBEDDING_DIM,\n",
    "#     distance=distance).to(torch.device('cuda')) # not sure why we need to move it to cuda"
   ]
  },
  {
   "cell_type": "code",
   "execution_count": 46,
   "id": "empirical-finder",
   "metadata": {
    "ExecuteTime": {
     "end_time": "2021-05-06T08:58:36.017147Z",
     "start_time": "2021-05-06T08:58:35.999097Z"
    },
    "id": "7hGQhrXf1g8G"
   },
   "outputs": [],
   "source": [
    "NUM_EPOCHS = 20"
   ]
  },
  {
   "cell_type": "code",
   "execution_count": 47,
   "id": "fifth-thunder",
   "metadata": {
    "ExecuteTime": {
     "end_time": "2021-05-06T08:59:17.926107Z",
     "start_time": "2021-05-06T08:58:36.512534Z"
    }
   },
   "outputs": [
    {
     "data": {
      "application/vnd.jupyter.widget-view+json": {
       "model_id": "2abf09cfd33448138bae3201aeec0cfd",
       "version_major": 2,
       "version_minor": 0
      },
      "text/plain": [
       "  0%|          | 0/20 [00:00<?, ?it/s]"
      ]
     },
     "metadata": {},
     "output_type": "display_data"
    },
    {
     "name": "stdout",
     "output_type": "stream",
     "text": [
      "Epoch 0 Loss = 0.19200477004051208\n",
      "Epoch 1 Loss = 0.1579761952161789\n",
      "Epoch 2 Loss = 0.14315466582775116\n",
      "Epoch 3 Loss = 0.13521263003349304\n",
      "Epoch 4 Loss = 0.12200845777988434\n",
      "Epoch 5 Loss = 0.09750757366418839\n",
      "Epoch 6 Loss = 0.08745983988046646\n",
      "Epoch 7 Loss = 0.08339504897594452\n",
      "Epoch 8 Loss = 0.07456379383802414\n",
      "Epoch 9 Loss = 0.0743306577205658\n",
      "Epoch 10 Loss = 0.07288981974124908\n",
      "Epoch 11 Loss = 0.05934583768248558\n",
      "Epoch 12 Loss = 0.05867350473999977\n",
      "Epoch 13 Loss = 0.05798571929335594\n",
      "Epoch 14 Loss = 0.05440289527177811\n",
      "Epoch 15 Loss = 0.06087564304471016\n",
      "Epoch 16 Loss = 0.05188200622797012\n",
      "Epoch 17 Loss = 0.05108228698372841\n",
      "Epoch 18 Loss = 0.05135320499539375\n",
      "Epoch 19 Loss = 0.04759916663169861\n"
     ]
    }
   ],
   "source": [
    "train_losses = train_ml_model(\n",
    "    encoder, NUM_EPOCHS, dataloader, NUM_OF_SUBSEQUENCES,\n",
    "    mining_func, loss_func, optimizer)"
   ]
  },
  {
   "cell_type": "code",
   "execution_count": 48,
   "id": "aboriginal-messenger",
   "metadata": {
    "ExecuteTime": {
     "end_time": "2021-05-06T08:59:18.843813Z",
     "start_time": "2021-05-06T08:59:18.721284Z"
    },
    "colab": {
     "base_uri": "https://localhost:8080/",
     "height": 394
    },
    "id": "YMCPUQLE8Uf1",
    "outputId": "5eb9fa5b-a0c4-4642-c27b-cc2de0847891"
   },
   "outputs": [
    {
     "data": {
      "image/png": "[encoded data removed]",
      "text/plain": [
       "<Figure size 864x432 with 1 Axes>"
      ]
     },
     "metadata": {},
     "output_type": "display_data"
    }
   ],
   "source": [
    "fig, axs = plt.subplots(figsize=(12, 6))\n",
    "\n",
    "plt.plot(train_losses, label='train')\n",
    "plt.xlabel('iter')\n",
    "plt.ylabel('loss');"
   ]
  },
  {
   "cell_type": "code",
   "execution_count": null,
   "id": "confidential-tiffany",
   "metadata": {},
   "outputs": [],
   "source": [
    "plt.savefig(f'plots/{ARC}_{EMBEDDING_DIM}_{NUM_OBS}.png')"
   ]
  },
  {
   "cell_type": "markdown",
   "id": "labeled-division",
   "metadata": {},
   "source": [
    "comparison of encoders\n",
    "* LSTM\n",
    "* GRU\n",
    "* Transformer\n",
    "\n",
    "comparison for embedding size"
   ]
  },
  {
   "cell_type": "code",
   "execution_count": null,
   "id": "offensive-consumption",
   "metadata": {
    "id": "7ZCHvgDf6LWx"
   },
   "outputs": [],
   "source": []
  },
  {
   "cell_type": "markdown",
   "id": "domestic-engagement",
   "metadata": {
    "id": "4z65ccdO6_x-"
   },
   "source": [
    "# Train classifier"
   ]
  },
  {
   "cell_type": "code",
   "execution_count": null,
   "id": "arbitrary-soccer",
   "metadata": {
    "ExecuteTime": {
     "end_time": "2021-05-06T08:21:34.560190Z",
     "start_time": "2021-05-06T08:21:34.547123Z"
    }
   },
   "outputs": [],
   "source": [
    "classifier = Classifier(\n",
    "    numerical_input_dim=num_input_dim,\n",
    "    cat_vocab_sizes=cat_vocab_sizes,\n",
    "    embedding_dim=EMBEDDING_DIM\n",
    ")"
   ]
  },
  {
   "cell_type": "code",
   "execution_count": null,
   "id": "invalid-category",
   "metadata": {
    "ExecuteTime": {
     "end_time": "2021-05-06T08:21:34.572250Z",
     "start_time": "2021-05-06T08:21:34.561323Z"
    }
   },
   "outputs": [],
   "source": [
    "classifier.encoder = encoder"
   ]
  },
  {
   "cell_type": "code",
   "execution_count": null,
   "id": "quarterly-brave",
   "metadata": {
    "ExecuteTime": {
     "end_time": "2021-05-06T08:21:34.585172Z",
     "start_time": "2021-05-06T08:21:34.573247Z"
    }
   },
   "outputs": [],
   "source": [
    "classifier.freeze_encoder()"
   ]
  },
  {
   "cell_type": "code",
   "execution_count": null,
   "id": "ongoing-count",
   "metadata": {
    "ExecuteTime": {
     "end_time": "2021-05-06T08:21:34.599813Z",
     "start_time": "2021-05-06T08:21:34.586416Z"
    }
   },
   "outputs": [],
   "source": [
    "classifier.to(device);"
   ]
  },
  {
   "cell_type": "code",
   "execution_count": null,
   "id": "referenced-story",
   "metadata": {},
   "outputs": [],
   "source": []
  },
  {
   "cell_type": "code",
   "execution_count": null,
   "id": "paperback-study",
   "metadata": {
    "ExecuteTime": {
     "end_time": "2021-05-06T08:21:47.132741Z",
     "start_time": "2021-05-06T08:21:34.600818Z"
    },
    "id": "ZZyL5MiF-Ufm"
   },
   "outputs": [],
   "source": [
    "clfdataset = AgeGroupClfDataset()"
   ]
  },
  {
   "cell_type": "code",
   "execution_count": null,
   "id": "shaped-problem",
   "metadata": {
    "ExecuteTime": {
     "end_time": "2021-05-06T08:21:47.154860Z",
     "start_time": "2021-05-06T08:21:47.133608Z"
    },
    "id": "nW8khMXN-STb"
   },
   "outputs": [],
   "source": [
    "clfdataset.load_client_to_indices()"
   ]
  },
  {
   "cell_type": "code",
   "execution_count": null,
   "id": "adult-liabilities",
   "metadata": {
    "ExecuteTime": {
     "end_time": "2021-05-06T08:21:47.165692Z",
     "start_time": "2021-05-06T08:21:47.155869Z"
    }
   },
   "outputs": [],
   "source": [
    "torch.manual_seed(0)\n",
    "random.seed(0)\n",
    "np.random.seed(0)"
   ]
  },
  {
   "cell_type": "code",
   "execution_count": null,
   "id": "coated-rescue",
   "metadata": {
    "ExecuteTime": {
     "end_time": "2021-05-06T08:21:47.181841Z",
     "start_time": "2021-05-06T08:21:47.166354Z"
    },
    "id": "emb8HyWh5JX_"
   },
   "outputs": [],
   "source": [
    "targets = clfdataset.targets\n",
    "\n",
    "train_idx, test_idx= train_test_split(\n",
    "    np.arange(len(targets)),\n",
    "    test_size=0.3,\n",
    "    shuffle=True,\n",
    "    stratify=targets,\n",
    "    random_state=228\n",
    ")\n",
    "\n",
    "train_sampler = torch.utils.data.SubsetRandomSampler(train_idx)\n",
    "test_sampler = torch.utils.data.SubsetRandomSampler(test_idx)\n",
    "\n",
    "trainloader = torch.utils.data.DataLoader(\n",
    "    clfdataset, batch_size=BATCH_SIZE,\n",
    "    sampler=train_sampler)\n",
    "testloader = torch.utils.data.DataLoader(\n",
    "    clfdataset, batch_size=BATCH_SIZE,\n",
    "    sampler=test_sampler)"
   ]
  },
  {
   "cell_type": "code",
   "execution_count": null,
   "id": "consecutive-bahrain",
   "metadata": {
    "ExecuteTime": {
     "end_time": "2021-05-06T08:21:47.192848Z",
     "start_time": "2021-05-06T08:21:47.182745Z"
    },
    "id": "zpIAXVW8-lW5"
   },
   "outputs": [],
   "source": [
    "clfdataloader = torch.utils.data.DataLoader(\n",
    "    clfdataset, batch_size=BATCH_SIZE,\n",
    "    num_workers=0,\n",
    ")"
   ]
  },
  {
   "cell_type": "code",
   "execution_count": null,
   "id": "american-bristol",
   "metadata": {
    "ExecuteTime": {
     "end_time": "2021-05-06T08:21:47.203289Z",
     "start_time": "2021-05-06T08:21:47.193596Z"
    },
    "id": "C7-X1GRsAK7x"
   },
   "outputs": [],
   "source": [
    "SCHEDULER_EPOCHS = 2"
   ]
  },
  {
   "cell_type": "code",
   "execution_count": null,
   "id": "noble-equipment",
   "metadata": {
    "ExecuteTime": {
     "end_time": "2021-05-06T08:21:47.214008Z",
     "start_time": "2021-05-06T08:21:47.204039Z"
    }
   },
   "outputs": [],
   "source": [
    "LR = 0.0005"
   ]
  },
  {
   "cell_type": "code",
   "execution_count": null,
   "id": "combined-trademark",
   "metadata": {
    "ExecuteTime": {
     "end_time": "2021-05-06T08:21:47.225015Z",
     "start_time": "2021-05-06T08:21:47.214901Z"
    },
    "id": "6seFuT18-lW6"
   },
   "outputs": [],
   "source": [
    "optimizer = optim.Adam(classifier.decoder.parameters(), lr=LR)\n",
    "criterion = nn.CrossEntropyLoss()\n",
    "scheduler = optim.lr_scheduler.ReduceLROnPlateau(\n",
    "    optimizer,\n",
    "    patience=SCHEDULER_EPOCHS,\n",
    ")"
   ]
  },
  {
   "cell_type": "code",
   "execution_count": null,
   "id": "basic-money",
   "metadata": {
    "ExecuteTime": {
     "end_time": "2021-05-06T08:21:47.236047Z",
     "start_time": "2021-05-06T08:21:47.225901Z"
    },
    "id": "XnbOSild-lW7"
   },
   "outputs": [],
   "source": [
    "NUM_EPOCHS = 20"
   ]
  },
  {
   "cell_type": "code",
   "execution_count": null,
   "id": "unlimited-reflection",
   "metadata": {
    "ExecuteTime": {
     "end_time": "2021-05-06T08:22:26.279415Z",
     "start_time": "2021-05-06T08:21:47.239469Z"
    }
   },
   "outputs": [],
   "source": [
    "train_losses, train_accuracy, val_losses, val_accuracy = train_classifier(\n",
    "    classifier, NUM_EPOCHS, trainloader, testloader,\n",
    "    optimizer, criterion, scheduler,\n",
    "    enable_train_mode = lambda: classifier.decoder.train(),\n",
    "    enable_test_mode = lambda: classifier.decoder.eval(),\n",
    ")"
   ]
  },
  {
   "cell_type": "code",
   "execution_count": null,
   "id": "obvious-checklist",
   "metadata": {
    "ExecuteTime": {
     "end_time": "2021-05-06T08:22:54.553390Z",
     "start_time": "2021-05-06T08:22:54.302497Z"
    },
    "colab": {
     "base_uri": "https://localhost:8080/",
     "height": 394
    },
    "id": "VBZFVNs4Vb1D",
    "outputId": "85515c64-a2bf-4977-d8e7-c7d485c2ce34"
   },
   "outputs": [],
   "source": [
    "fig, axs = plt.subplots(figsize=(12, 6))\n",
    "\n",
    "plt.subplot(1, 2, 1)\n",
    "plt.plot(train_losses, label='train')\n",
    "plt.plot(val_losses, label='validation')\n",
    "plt.xlabel('iter')\n",
    "plt.ylabel('loss')\n",
    "plt.legend()\n",
    "\n",
    "plt.subplot(1, 2, 2)\n",
    "plt.xlabel('iter')\n",
    "plt.plot(train_accuracy, label='train')\n",
    "plt.plot(val_accuracy, label='validation')\n",
    "plt.legend()\n",
    "plt.ylabel('accuracy');"
   ]
  },
  {
   "cell_type": "code",
   "execution_count": null,
   "id": "noticed-arrow",
   "metadata": {},
   "outputs": [],
   "source": []
  },
  {
   "cell_type": "code",
   "execution_count": null,
   "id": "honest-castle",
   "metadata": {
    "id": "61vIaBWf7KQr"
   },
   "outputs": [],
   "source": []
  },
  {
   "cell_type": "code",
   "execution_count": null,
   "id": "excessive-roots",
   "metadata": {
    "id": "_0nYia4y6_lF"
   },
   "outputs": [],
   "source": []
  },
  {
   "cell_type": "markdown",
   "id": "indian-qualification",
   "metadata": {
    "id": "3F5gbEeMo68i"
   },
   "source": [
    "# Predict (old)"
   ]
  },
  {
   "cell_type": "code",
   "execution_count": null,
   "id": "valued-state",
   "metadata": {
    "id": "QejRaOGlWJA1"
   },
   "outputs": [],
   "source": [
    "m = encoder.to('cpu').eval()"
   ]
  },
  {
   "cell_type": "code",
   "execution_count": null,
   "id": "patent-table",
   "metadata": {
    "id": "Mtzi14NIFynK"
   },
   "outputs": [],
   "source": [
    "# check\n",
    "dataiter = iter(dataloader)\n",
    "sequences, labels = dataiter.next()\n",
    "\n",
    "# should be BATCH_SIZExNUM_OF_SEQUNCESxSUBSEQUENCE_LENGTHx(num_features)\n",
    "sequences.shape"
   ]
  },
  {
   "cell_type": "code",
   "execution_count": null,
   "id": "documentary-dance",
   "metadata": {
    "id": "_59ULTscHfAH"
   },
   "outputs": [],
   "source": [
    "embeddings = torch.zeros((1, EMBEDDING_DIM))[1:]\n",
    "\n",
    "# probably can make it faster if use a batch of clients\n",
    "for client_id in tqdm(sorted(dataset.targets)):\n",
    "    n, c = dataset.get_sequence(client_id)\n",
    "\n",
    "    with torch.no_grad():\n",
    "        embedding = m(n, c)\n",
    "        # encoded_events = m.event_encoder(n, c)\n",
    "        # encoded_events = encoded_events.view(1, -1, EMBEDDING_DIM)\n",
    "        # encoded_events = torch.transpose(encoded_events, 0, 1) # so that its (seq_len, batch, input_size)\n",
    "        # embedding = m.sequence_encoder(encoded_events)[0][0]\n",
    "        embeddings = torch.cat((embeddings, embedding))\n",
    "\n",
    "embeddings.shape"
   ]
  },
  {
   "cell_type": "code",
   "execution_count": null,
   "id": "wrong-charity",
   "metadata": {
    "id": "13ohWlD-JzFH"
   },
   "outputs": [],
   "source": [
    "X = embeddings.numpy()\n",
    "\n",
    "# y = dataset.target_df[dataset.target_df['client_id'].isin(dataset.clients)].sort_values('client_id')['bins'].to_numpy()\n",
    "\n",
    "y = dataset.target_df.sort_values('client_id')['bins'].to_numpy()"
   ]
  },
  {
   "cell_type": "code",
   "execution_count": null,
   "id": "continent-british",
   "metadata": {
    "id": "-a99xITc9qXb"
   },
   "outputs": [],
   "source": [
    "decoder = Decoder(input_dim=EMBEDDING_DIM)\n",
    "decoder.to(device);"
   ]
  },
  {
   "cell_type": "code",
   "execution_count": null,
   "id": "bridal-debut",
   "metadata": {
    "id": "s6n6QRL79qUL"
   },
   "outputs": [],
   "source": []
  },
  {
   "cell_type": "code",
   "execution_count": null,
   "id": "inside-tiger",
   "metadata": {
    "id": "L5jmrerQ9qRg"
   },
   "outputs": [],
   "source": []
  },
  {
   "cell_type": "code",
   "execution_count": null,
   "id": "unavailable-farmer",
   "metadata": {
    "id": "Ca5R3rL7Kxem"
   },
   "outputs": [],
   "source": [
    "from catboost import CatBoostClassifier, Pool\n",
    "from catboost import cv\n",
    "from sklearn.model_selection import train_test_split"
   ]
  },
  {
   "cell_type": "code",
   "execution_count": null,
   "id": "computational-drove",
   "metadata": {
    "id": "D38VYwhXKq_P"
   },
   "outputs": [],
   "source": [
    "X_train, X_test, y_train, y_test = train_test_split(\n",
    "    X, y, test_size=0.33, random_state=228, stratify=y)\n",
    "\n",
    "train_pool = Pool(X_train, y_train)\n",
    "test_pool = Pool(X_test, y_test)"
   ]
  },
  {
   "cell_type": "code",
   "execution_count": null,
   "id": "favorite-alabama",
   "metadata": {
    "id": "YV_oTIQKNsuq"
   },
   "outputs": [],
   "source": [
    "model = CatBoostClassifier(\n",
    "    iterations=500,\n",
    "    depth=3,\n",
    "    learning_rate=0.5,\n",
    "    verbose=True,\n",
    "    eval_metric='Accuracy',\n",
    "    auto_class_weights='Balanced',\n",
    "    random_state=228,\n",
    ")"
   ]
  },
  {
   "cell_type": "code",
   "execution_count": null,
   "id": "incident-moment",
   "metadata": {
    "id": "Fc3FHXYyK8yh"
   },
   "outputs": [],
   "source": [
    "model.fit(train_pool, eval_set=test_pool)"
   ]
  },
  {
   "cell_type": "code",
   "execution_count": null,
   "id": "therapeutic-console",
   "metadata": {
    "id": "63NEh9tOkAkp"
   },
   "outputs": [],
   "source": [
    "train_acc = model.evals_result_['learn']['Accuracy']\n",
    "valid_acc = model.evals_result_['validation']['Accuracy']\n",
    "\n",
    "plt.plot(train_acc, label='train')\n",
    "plt.plot(valid_acc, label='valid')\n",
    "plt.xlabel('iter')\n",
    "plt.ylabel('accuracy')\n",
    "plt.legend();"
   ]
  },
  {
   "cell_type": "code",
   "execution_count": null,
   "id": "included-trace",
   "metadata": {
    "id": "dLfhuxFdkAiV"
   },
   "outputs": [],
   "source": []
  },
  {
   "cell_type": "code",
   "execution_count": null,
   "id": "satellite-satin",
   "metadata": {
    "id": "Gq_9OK9INyco"
   },
   "outputs": [],
   "source": [
    "sum(np.squeeze(model.predict(X_test)) == y_test) / len(y_test)"
   ]
  },
  {
   "cell_type": "code",
   "execution_count": null,
   "id": "funny-blond",
   "metadata": {
    "id": "DDaYs-_dOCBh"
   },
   "outputs": [],
   "source": []
  },
  {
   "cell_type": "code",
   "execution_count": null,
   "id": "federal-center",
   "metadata": {
    "id": "G-LDs35tq5Ff"
   },
   "outputs": [],
   "source": []
  },
  {
   "cell_type": "code",
   "execution_count": null,
   "id": "seven-worst",
   "metadata": {},
   "outputs": [],
   "source": []
  }
 ],
 "metadata": {
  "kernelspec": {
   "display_name": "Python 3",
   "language": "python",
   "name": "python3"
  },
  "language_info": {
   "codemirror_mode": {
    "name": "ipython",
    "version": 3
   },
   "file_extension": ".py",
   "mimetype": "text/x-python",
   "name": "python",
   "nbconvert_exporter": "python",
   "pygments_lexer": "ipython3",
   "version": "3.8.9"
  },
  "toc": {
   "base_numbering": 1,
   "nav_menu": {},
   "number_sections": true,
   "sideBar": true,
   "skip_h1_title": true,
   "title_cell": "Table of Contents",
   "title_sidebar": "Contents",
   "toc_cell": true,
   "toc_position": {},
   "toc_section_display": true,
   "toc_window_display": false
  }
 },
 "nbformat": 4,
 "nbformat_minor": 5
}
