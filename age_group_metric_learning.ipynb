{
 "cells": [
  {
   "cell_type": "markdown",
   "id": "seeing-flood",
   "metadata": {
    "toc": true
   },
   "source": [
    "<h1>Table of Contents<span class=\"tocSkip\"></span></h1>\n",
    "<div class=\"toc\"><ul class=\"toc-item\"></ul></div>"
   ]
  },
  {
   "cell_type": "code",
   "execution_count": 1,
   "id": "inner-canada",
   "metadata": {
    "ExecuteTime": {
     "end_time": "2021-05-06T07:41:19.377673Z",
     "start_time": "2021-05-06T07:41:18.835071Z"
    },
    "id": "thKgYQF3URYw"
   },
   "outputs": [],
   "source": [
    "import pandas as pd\n",
    "import numpy as np\n",
    "import matplotlib.pyplot as plt\n",
    "import seaborn as sns\n",
    "\n",
    "sns.set()\n",
    "\n",
    "sns.set_style(\"whitegrid\", {'axes.grid' : False})\n",
    "\n",
    "from tqdm.auto import tqdm"
   ]
  },
  {
   "cell_type": "code",
   "execution_count": 2,
   "id": "sublime-strap",
   "metadata": {
    "ExecuteTime": {
     "end_time": "2021-05-06T07:41:19.390421Z",
     "start_time": "2021-05-06T07:41:19.379014Z"
    }
   },
   "outputs": [],
   "source": [
    "%load_ext autoreload\n",
    "%autoreload 2"
   ]
  },
  {
   "cell_type": "code",
   "execution_count": 3,
   "id": "polar-married",
   "metadata": {
    "ExecuteTime": {
     "end_time": "2021-05-06T07:41:19.764659Z",
     "start_time": "2021-05-06T07:41:19.391600Z"
    },
    "colab": {
     "base_uri": "https://localhost:8080/"
    },
    "id": "UBFRCZowUWGt",
    "outputId": "09cfb931-6126-4fcf-f0b6-d6abfa0d4ba5"
   },
   "outputs": [
    {
     "data": {
      "text/plain": [
       "True"
      ]
     },
     "execution_count": 3,
     "metadata": {},
     "output_type": "execute_result"
    }
   ],
   "source": [
    "import torch\n",
    "torch.cuda.is_available()"
   ]
  },
  {
   "cell_type": "code",
   "execution_count": 4,
   "id": "infectious-providence",
   "metadata": {
    "ExecuteTime": {
     "end_time": "2021-05-06T07:41:19.776103Z",
     "start_time": "2021-05-06T07:41:19.765578Z"
    },
    "colab": {
     "base_uri": "https://localhost:8080/"
    },
    "id": "Q-kXTk-bNPzx",
    "outputId": "7a991cca-3b7a-4ec3-9fa8-ee0b5fce2537"
   },
   "outputs": [
    {
     "name": "stdout",
     "output_type": "stream",
     "text": [
      "cuda:0\n"
     ]
    }
   ],
   "source": [
    "device = torch.device(\"cuda:0\" if torch.cuda.is_available() else \"cpu\")\n",
    "\n",
    "# Assuming that we are on a CUDA machine, this should print a CUDA device:\n",
    "\n",
    "print(device)"
   ]
  },
  {
   "cell_type": "code",
   "execution_count": 5,
   "id": "peaceful-chaos",
   "metadata": {
    "ExecuteTime": {
     "end_time": "2021-05-06T07:41:20.040704Z",
     "start_time": "2021-05-06T07:41:19.905951Z"
    }
   },
   "outputs": [],
   "source": [
    "from pytorch_metric_learning import losses, miners, distances, reducers, samplers\n",
    "import torch.optim as optim\n",
    "from sklearn.model_selection import train_test_split\n",
    "import torch.nn as nn"
   ]
  },
  {
   "cell_type": "code",
   "execution_count": 28,
   "id": "romantic-brook",
   "metadata": {
    "ExecuteTime": {
     "end_time": "2021-05-06T07:46:26.362219Z",
     "start_time": "2021-05-06T07:46:26.332854Z"
    }
   },
   "outputs": [],
   "source": [
    "from code.dataloader import AgeGroupMLDataset\n",
    "from code.dataloader import AgeGroupClfDataset\n",
    "from code.encoder_gru import Encoder\n",
    "from code.decoder import Decoder\n",
    "from code.classifier import Classifier\n",
    "from code.utils import train_ml_model"
   ]
  },
  {
   "cell_type": "code",
   "execution_count": 8,
   "id": "upset-raising",
   "metadata": {
    "ExecuteTime": {
     "end_time": "2021-05-06T07:42:36.266714Z",
     "start_time": "2021-05-06T07:42:36.235867Z"
    },
    "id": "pm80PCIl79LE"
   },
   "outputs": [],
   "source": [
    "BATCH_SIZE = 64 # BATCH_SIZE unique persons\n",
    "SAMPLES_PER_CLASS = 1 # drawing 64x1 classes per batch\n",
    "NUM_OF_SUBSEQUENCES = 5\n",
    "SUBSEQUENCE_LENGTH = 90\n",
    "\n",
    "EMBEDDING_DIM = 256\n",
    "LR = 0.002\n",
    "NUM_EPOCHS = 150\n",
    "\n",
    "cat_vocab_sizes = [204]\n",
    "num_input_dim = 4"
   ]
  },
  {
   "cell_type": "code",
   "execution_count": 12,
   "id": "material-dimension",
   "metadata": {
    "ExecuteTime": {
     "end_time": "2021-05-06T07:43:47.576694Z",
     "start_time": "2021-05-06T07:43:34.629421Z"
    },
    "id": "GYYj4IyZdrtg"
   },
   "outputs": [],
   "source": [
    "dataset = AgeGroupMLDataset()"
   ]
  },
  {
   "cell_type": "code",
   "execution_count": 13,
   "id": "seventh-think",
   "metadata": {
    "ExecuteTime": {
     "end_time": "2021-05-06T07:45:00.805410Z",
     "start_time": "2021-05-06T07:45:00.742819Z"
    },
    "id": "EY6GM_RjsCWg"
   },
   "outputs": [],
   "source": [
    "dataset.load_client_to_indices()"
   ]
  },
  {
   "cell_type": "code",
   "execution_count": 14,
   "id": "superior-savannah",
   "metadata": {
    "ExecuteTime": {
     "end_time": "2021-05-06T07:45:00.955622Z",
     "start_time": "2021-05-06T07:45:00.915447Z"
    },
    "id": "vNdVHSPr3de2"
   },
   "outputs": [],
   "source": [
    "import random"
   ]
  },
  {
   "cell_type": "code",
   "execution_count": 15,
   "id": "linear-trinidad",
   "metadata": {
    "ExecuteTime": {
     "end_time": "2021-05-06T07:45:01.107285Z",
     "start_time": "2021-05-06T07:45:01.073131Z"
    },
    "id": "WxzkX-VZ3zJu"
   },
   "outputs": [],
   "source": [
    "torch.manual_seed(0)\n",
    "random.seed(0)\n",
    "np.random.seed(0)"
   ]
  },
  {
   "cell_type": "code",
   "execution_count": 16,
   "id": "legitimate-radius",
   "metadata": {
    "ExecuteTime": {
     "end_time": "2021-05-06T07:45:01.268638Z",
     "start_time": "2021-05-06T07:45:01.238509Z"
    },
    "id": "XB6H3g74Nflk"
   },
   "outputs": [],
   "source": [
    "targets = dataset.targets"
   ]
  },
  {
   "cell_type": "code",
   "execution_count": 17,
   "id": "selective-fundamentals",
   "metadata": {
    "ExecuteTime": {
     "end_time": "2021-05-06T07:45:01.543325Z",
     "start_time": "2021-05-06T07:45:01.394636Z"
    },
    "id": "DQfIOu14uO9m"
   },
   "outputs": [],
   "source": [
    "sampler = samplers.MPerClassSampler(\n",
    "    targets, SAMPLES_PER_CLASS, batch_size=BATCH_SIZE,\n",
    "    length_before_new_iter=BATCH_SIZE * 100) # 100 batches per epoch"
   ]
  },
  {
   "cell_type": "code",
   "execution_count": 18,
   "id": "peaceful-diameter",
   "metadata": {
    "ExecuteTime": {
     "end_time": "2021-05-06T07:45:01.566044Z",
     "start_time": "2021-05-06T07:45:01.555847Z"
    },
    "id": "2W-DuPoHuACu"
   },
   "outputs": [],
   "source": [
    "dataloader = torch.utils.data.DataLoader(\n",
    "    dataset, batch_size=BATCH_SIZE,\n",
    "    num_workers=0,\n",
    "    sampler=sampler,\n",
    ")"
   ]
  },
  {
   "cell_type": "code",
   "execution_count": 19,
   "id": "polar-briefs",
   "metadata": {
    "ExecuteTime": {
     "end_time": "2021-05-06T07:45:03.808213Z",
     "start_time": "2021-05-06T07:45:01.731570Z"
    },
    "id": "AZBeoMARzDpJ"
   },
   "outputs": [],
   "source": [
    "encoder = Encoder(\n",
    "    numerical_input_dim=num_input_dim,\n",
    "    cat_vocab_sizes=cat_vocab_sizes,\n",
    "    embedding_dim=EMBEDDING_DIM,\n",
    ")\n",
    "encoder.to(device);"
   ]
  },
  {
   "cell_type": "code",
   "execution_count": 20,
   "id": "suited-truck",
   "metadata": {
    "ExecuteTime": {
     "end_time": "2021-05-06T07:45:03.819878Z",
     "start_time": "2021-05-06T07:45:03.809220Z"
    },
    "id": "8YuKXKv_zEX3"
   },
   "outputs": [],
   "source": [
    "optimizer = optim.Adam(encoder.parameters(), lr=LR)"
   ]
  },
  {
   "cell_type": "code",
   "execution_count": 21,
   "id": "dental-elizabeth",
   "metadata": {
    "ExecuteTime": {
     "end_time": "2021-05-06T07:45:03.846730Z",
     "start_time": "2021-05-06T07:45:03.821016Z"
    },
    "id": "KzpMLdIMyUWp"
   },
   "outputs": [],
   "source": [
    "distance = distances.CosineSimilarity()\n",
    "reducer = reducers.ThresholdReducer(low = 0) # basically, returns average\n",
    "loss_func = losses.TripletMarginLoss(margin = 0.4, distance = distance, reducer = reducer)\n",
    "mining_func = miners.TripletMarginMiner(margin = 0.4, distance = distance, type_of_triplets = \"semihard\")\n",
    "\n",
    "# sota\n",
    "# loss_func = losses.ArcFaceLoss(\n",
    "#     num_classes=len(targets), embedding_size=EMBEDDING_DIM,\n",
    "#     distance=distance).to(torch.device('cuda')) # not sure why we need to move it to cuda"
   ]
  },
  {
   "cell_type": "code",
   "execution_count": 22,
   "id": "empirical-finder",
   "metadata": {
    "ExecuteTime": {
     "end_time": "2021-05-06T07:45:03.858178Z",
     "start_time": "2021-05-06T07:45:03.847695Z"
    },
    "id": "7hGQhrXf1g8G"
   },
   "outputs": [],
   "source": [
    "NUM_EPOCHS = 20"
   ]
  },
  {
   "cell_type": "code",
   "execution_count": 25,
   "id": "fifth-thunder",
   "metadata": {
    "ExecuteTime": {
     "end_time": "2021-05-06T07:46:02.566900Z",
     "start_time": "2021-05-06T07:45:19.329208Z"
    }
   },
   "outputs": [
    {
     "data": {
      "application/vnd.jupyter.widget-view+json": {
       "model_id": "e857159e7e204c13a9b528816e715414",
       "version_major": 2,
       "version_minor": 0
      },
      "text/plain": [
       "  0%|          | 0/20 [00:00<?, ?it/s]"
      ]
     },
     "metadata": {},
     "output_type": "display_data"
    },
    {
     "name": "stdout",
     "output_type": "stream",
     "text": [
      "Epoch 0 Loss = 0.2160608321428299\n",
      "Epoch 1 Loss = 0.18478398025035858\n",
      "Epoch 2 Loss = 0.17138446867465973\n",
      "Epoch 3 Loss = 0.15935702621936798\n",
      "Epoch 4 Loss = 0.1540469527244568\n",
      "Epoch 5 Loss = 0.15160919725894928\n",
      "Epoch 6 Loss = 0.14864015579223633\n",
      "Epoch 7 Loss = 0.14732249081134796\n",
      "Epoch 8 Loss = 0.14597009122371674\n",
      "Epoch 9 Loss = 0.1454819142818451\n",
      "Epoch 10 Loss = 0.144046351313591\n",
      "Epoch 11 Loss = 0.14413465559482574\n",
      "Epoch 12 Loss = 0.1439066082239151\n",
      "Epoch 13 Loss = 0.14303511381149292\n",
      "Epoch 14 Loss = 0.14286723732948303\n",
      "Epoch 15 Loss = 0.14290452003479004\n",
      "Epoch 16 Loss = 0.14230357110500336\n",
      "Epoch 17 Loss = 0.14217700064182281\n",
      "Epoch 18 Loss = 0.14188829064369202\n",
      "Epoch 19 Loss = 0.1420808732509613\n"
     ]
    }
   ],
   "source": [
    "train_losses = train_ml_model(\n",
    "    encoder, NUM_EPOCHS, dataloader, NUM_OF_SUBSEQUENCES,\n",
    "    mining_func, loss_func, optimizer)"
   ]
  },
  {
   "cell_type": "code",
   "execution_count": 26,
   "id": "aboriginal-messenger",
   "metadata": {
    "ExecuteTime": {
     "end_time": "2021-05-06T07:46:02.702827Z",
     "start_time": "2021-05-06T07:46:02.567920Z"
    },
    "colab": {
     "base_uri": "https://localhost:8080/",
     "height": 394
    },
    "id": "YMCPUQLE8Uf1",
    "outputId": "5eb9fa5b-a0c4-4642-c27b-cc2de0847891"
   },
   "outputs": [
    {
     "data": {
      "image/png": "[encoded data removed]",
      "text/plain": [
       "<Figure size 864x432 with 1 Axes>"
      ]
     },
     "metadata": {},
     "output_type": "display_data"
    }
   ],
   "source": [
    "fig, axs = plt.subplots(figsize=(12, 6))\n",
    "\n",
    "plt.plot(train_losses, label='train')\n",
    "plt.xlabel('iter')\n",
    "plt.ylabel('loss');"
   ]
  },
  {
   "cell_type": "markdown",
   "id": "electric-constant",
   "metadata": {},
   "source": [
    "comparison of encoders\n",
    "* LSTM\n",
    "* GRU\n",
    "* Transformer\n",
    "\n",
    "comparison for embedding size"
   ]
  },
  {
   "cell_type": "code",
   "execution_count": null,
   "id": "offensive-consumption",
   "metadata": {
    "id": "7ZCHvgDf6LWx"
   },
   "outputs": [],
   "source": []
  },
  {
   "cell_type": "markdown",
   "id": "domestic-engagement",
   "metadata": {
    "id": "4z65ccdO6_x-"
   },
   "source": [
    "# Train classifier"
   ]
  },
  {
   "cell_type": "code",
   "execution_count": 29,
   "id": "arbitrary-soccer",
   "metadata": {
    "ExecuteTime": {
     "end_time": "2021-05-06T07:47:12.068509Z",
     "start_time": "2021-05-06T07:47:12.040177Z"
    }
   },
   "outputs": [],
   "source": [
    "classifier = Classifier(\n",
    "    numerical_input_dim=num_input_dim,\n",
    "    cat_vocab_sizes=cat_vocab_sizes,\n",
    "    embedding_dim=EMBEDDING_DIM\n",
    ")"
   ]
  },
  {
   "cell_type": "code",
   "execution_count": 31,
   "id": "annual-manhattan",
   "metadata": {
    "ExecuteTime": {
     "end_time": "2021-05-06T07:47:33.341477Z",
     "start_time": "2021-05-06T07:47:33.330922Z"
    }
   },
   "outputs": [],
   "source": [
    "classifier.encoder = encoder"
   ]
  },
  {
   "cell_type": "code",
   "execution_count": 32,
   "id": "intelligent-estate",
   "metadata": {
    "ExecuteTime": {
     "end_time": "2021-05-06T07:47:43.106516Z",
     "start_time": "2021-05-06T07:47:43.075173Z"
    }
   },
   "outputs": [],
   "source": [
    "classifier.freeze_encoder()"
   ]
  },
  {
   "cell_type": "code",
   "execution_count": 34,
   "id": "authentic-yeast",
   "metadata": {
    "ExecuteTime": {
     "end_time": "2021-05-06T07:48:07.698938Z",
     "start_time": "2021-05-06T07:48:07.670516Z"
    }
   },
   "outputs": [],
   "source": [
    "classifier.to(device);"
   ]
  },
  {
   "cell_type": "code",
   "execution_count": null,
   "id": "numerous-senegal",
   "metadata": {},
   "outputs": [],
   "source": []
  },
  {
   "cell_type": "code",
   "execution_count": 35,
   "id": "paperback-study",
   "metadata": {
    "ExecuteTime": {
     "end_time": "2021-05-06T07:48:27.110949Z",
     "start_time": "2021-05-06T07:48:14.219916Z"
    },
    "id": "ZZyL5MiF-Ufm"
   },
   "outputs": [],
   "source": [
    "clfdataset = AgeGroupClfDataset()"
   ]
  },
  {
   "cell_type": "code",
   "execution_count": 36,
   "id": "shaped-problem",
   "metadata": {
    "ExecuteTime": {
     "end_time": "2021-05-06T07:48:27.135034Z",
     "start_time": "2021-05-06T07:48:27.112125Z"
    },
    "id": "nW8khMXN-STb"
   },
   "outputs": [],
   "source": [
    "clfdataset.load_client_to_indices()"
   ]
  },
  {
   "cell_type": "code",
   "execution_count": 37,
   "id": "adult-liabilities",
   "metadata": {
    "ExecuteTime": {
     "end_time": "2021-05-06T07:48:27.146489Z",
     "start_time": "2021-05-06T07:48:27.136316Z"
    }
   },
   "outputs": [],
   "source": [
    "torch.manual_seed(0)\n",
    "random.seed(0)\n",
    "np.random.seed(0)"
   ]
  },
  {
   "cell_type": "code",
   "execution_count": 38,
   "id": "coated-rescue",
   "metadata": {
    "ExecuteTime": {
     "end_time": "2021-05-06T07:48:27.173655Z",
     "start_time": "2021-05-06T07:48:27.147981Z"
    },
    "id": "emb8HyWh5JX_"
   },
   "outputs": [],
   "source": [
    "targets = clfdataset.targets\n",
    "\n",
    "train_idx, test_idx= train_test_split(\n",
    "    np.arange(len(targets)),\n",
    "    test_size=0.3,\n",
    "    shuffle=True,\n",
    "    stratify=targets,\n",
    "    random_state=228\n",
    ")\n",
    "\n",
    "train_sampler = torch.utils.data.SubsetRandomSampler(train_idx)\n",
    "test_sampler = torch.utils.data.SubsetRandomSampler(test_idx)\n",
    "\n",
    "trainloader = torch.utils.data.DataLoader(\n",
    "    clfdataset, batch_size=BATCH_SIZE,\n",
    "    sampler=train_sampler)\n",
    "testloader = torch.utils.data.DataLoader(\n",
    "    clfdataset, batch_size=BATCH_SIZE,\n",
    "    sampler=test_sampler)"
   ]
  },
  {
   "cell_type": "code",
   "execution_count": 39,
   "id": "consecutive-bahrain",
   "metadata": {
    "ExecuteTime": {
     "end_time": "2021-05-06T07:48:27.194684Z",
     "start_time": "2021-05-06T07:48:27.174581Z"
    },
    "id": "zpIAXVW8-lW5"
   },
   "outputs": [],
   "source": [
    "clfdataloader = torch.utils.data.DataLoader(\n",
    "    clfdataset, batch_size=BATCH_SIZE,\n",
    "    num_workers=0,\n",
    ")"
   ]
  },
  {
   "cell_type": "code",
   "execution_count": 40,
   "id": "american-bristol",
   "metadata": {
    "ExecuteTime": {
     "end_time": "2021-05-06T07:48:27.213714Z",
     "start_time": "2021-05-06T07:48:27.195578Z"
    },
    "id": "C7-X1GRsAK7x"
   },
   "outputs": [],
   "source": [
    "SCHEDULER_EPOCHS = 2"
   ]
  },
  {
   "cell_type": "code",
   "execution_count": 41,
   "id": "noble-equipment",
   "metadata": {
    "ExecuteTime": {
     "end_time": "2021-05-06T07:48:27.225097Z",
     "start_time": "2021-05-06T07:48:27.214959Z"
    }
   },
   "outputs": [],
   "source": [
    "LR = 0.0005"
   ]
  },
  {
   "cell_type": "code",
   "execution_count": null,
   "id": "combined-trademark",
   "metadata": {
    "ExecuteTime": {
     "end_time": "2021-05-06T06:38:32.546573Z",
     "start_time": "2021-05-06T06:38:32.525144Z"
    },
    "id": "6seFuT18-lW6"
   },
   "outputs": [],
   "source": [
    "optimizer = optim.Adam(classifier.decoder.parameters(), lr=LR)\n",
    "criterion = nn.CrossEntropyLoss()\n",
    "scheduler = optim.lr_scheduler.ReduceLROnPlateau(\n",
    "    optimizer,\n",
    "    patience=SCHEDULER_EPOCHS,\n",
    ")"
   ]
  },
  {
   "cell_type": "code",
   "execution_count": null,
   "id": "basic-money",
   "metadata": {
    "ExecuteTime": {
     "end_time": "2021-05-06T06:38:33.355906Z",
     "start_time": "2021-05-06T06:38:33.324815Z"
    },
    "id": "XnbOSild-lW7"
   },
   "outputs": [],
   "source": [
    "NUM_EPOCHS = 20"
   ]
  },
  {
   "cell_type": "code",
   "execution_count": null,
   "id": "impressive-government",
   "metadata": {},
   "outputs": [],
   "source": []
  },
  {
   "cell_type": "code",
   "execution_count": null,
   "id": "brown-claim",
   "metadata": {},
   "outputs": [],
   "source": []
  },
  {
   "cell_type": "code",
   "execution_count": null,
   "id": "editorial-corps",
   "metadata": {
    "ExecuteTime": {
     "end_time": "2021-05-06T06:39:13.600871Z",
     "start_time": "2021-05-06T06:38:33.472816Z"
    },
    "colab": {
     "base_uri": "https://localhost:8080/",
     "height": 1000,
     "referenced_widgets": [
      "ea0ca8fe84ef467682d81a0bd8c93714",
      "057117c006eb4006b785093e744cb4fc",
      "03b27f4042a74589a00fed6a0225044a",
      "e79f4098d4604f929f832a8691d6f3f2",
      "17a7e38c942b4305849a85c227483544",
      "294027f423094c2d8cc6878bdd7c0f08",
      "0560cd99580a4ac3a984cf6ada4dd62d",
      "4172bb0dff224eb79831e4e76030eee7"
     ]
    },
    "id": "-aIWfYlL-lW7",
    "outputId": "94e77488-cfb7-40b5-8e73-1536cb02961f"
   },
   "outputs": [],
   "source": [
    "train_losses = []\n",
    "train_accuracy = []\n",
    "val_losses = []\n",
    "val_accuracy = []\n",
    "\n",
    "for epoch in tqdm(range(NUM_EPOCHS)):\n",
    "    decoder.train()\n",
    "    correct = 0\n",
    "    epoch_losses = []\n",
    "    for batch_idx, (sequences, labels) in enumerate(trainloader):\n",
    "        n, c = sequences[0], sequences[1]\n",
    "        n = n.to(device)\n",
    "        c = c.to(device)\n",
    "        labels = labels.to(device)\n",
    "\n",
    "        embeddings = encoder(n, c)\n",
    "        outputs = decoder(embeddings)\n",
    "        loss = criterion(outputs, labels)\n",
    "\n",
    "        optimizer.zero_grad()\n",
    "        loss.backward()\n",
    "        optimizer.step()\n",
    "\n",
    "        pred_labels = torch.argmax(outputs, dim=1)\n",
    "        correct += sum(labels == pred_labels)\n",
    "        epoch_losses.append(loss.item())\n",
    "\n",
    "    train_acc = correct / (BATCH_SIZE * len(trainloader))\n",
    "    epoch_loss = torch.tensor(epoch_losses).mean()\n",
    "    train_losses.append(epoch_loss)\n",
    "    train_accuracy.append(train_acc.item())\n",
    "\n",
    "    decoder.eval()\n",
    "    correct = 0\n",
    "    epoch_val_losses = []\n",
    "    for batch_idx, (sequences, labels) in enumerate(testloader):\n",
    "        n, c = sequences[0], sequences[1]\n",
    "        n = n.to(device)\n",
    "        c = c.to(device)\n",
    "        labels = labels.to(device)\n",
    "\n",
    "        with torch.no_grad():\n",
    "            embeddings = encoder(n, c)\n",
    "            outputs = decoder(embeddings)\n",
    "            loss = criterion(outputs, labels)\n",
    "            epoch_val_losses.append(loss.item())\n",
    "\n",
    "            pred_labels = torch.argmax(outputs, dim=1)\n",
    "            correct += sum(labels == pred_labels)\n",
    "\n",
    "    epoch_val_loss = torch.tensor(epoch_val_losses).mean()\n",
    "\n",
    "    scheduler.step(epoch_val_loss)\n",
    "\n",
    "    val_losses.append(epoch_val_loss)\n",
    "\n",
    "    val_acc = correct / (BATCH_SIZE * len(testloader))\n",
    "    val_accuracy.append(val_acc.item())\n",
    "    \n",
    "    print(f'Epoch {epoch}, train acc: {train_acc}, val acc: {val_acc}')\n",
    "    print(f'train loss: {epoch_loss}; val loss: {epoch_val_loss}')"
   ]
  },
  {
   "cell_type": "code",
   "execution_count": null,
   "id": "obvious-checklist",
   "metadata": {
    "ExecuteTime": {
     "end_time": "2021-05-06T06:39:16.208053Z",
     "start_time": "2021-05-06T06:39:15.980013Z"
    },
    "colab": {
     "base_uri": "https://localhost:8080/",
     "height": 394
    },
    "id": "VBZFVNs4Vb1D",
    "outputId": "85515c64-a2bf-4977-d8e7-c7d485c2ce34"
   },
   "outputs": [],
   "source": [
    "fig, axs = plt.subplots(figsize=(12, 6))\n",
    "\n",
    "plt.subplot(1, 2, 1)\n",
    "plt.plot(train_losses, label='train')\n",
    "plt.plot(val_losses, label='validation')\n",
    "plt.xlabel('iter')\n",
    "plt.ylabel('loss')\n",
    "\n",
    "plt.subplot(1, 2, 2)\n",
    "plt.xlabel('iter')\n",
    "plt.plot(train_accuracy, label='train')\n",
    "plt.plot(val_accuracy, label='validation')\n",
    "plt.ylabel('accuracy');"
   ]
  },
  {
   "cell_type": "code",
   "execution_count": null,
   "id": "noticed-arrow",
   "metadata": {},
   "outputs": [],
   "source": []
  },
  {
   "cell_type": "code",
   "execution_count": null,
   "id": "honest-castle",
   "metadata": {
    "id": "61vIaBWf7KQr"
   },
   "outputs": [],
   "source": []
  },
  {
   "cell_type": "code",
   "execution_count": null,
   "id": "excessive-roots",
   "metadata": {
    "id": "_0nYia4y6_lF"
   },
   "outputs": [],
   "source": []
  },
  {
   "cell_type": "markdown",
   "id": "indian-qualification",
   "metadata": {
    "id": "3F5gbEeMo68i"
   },
   "source": [
    "# Predict (old)"
   ]
  },
  {
   "cell_type": "code",
   "execution_count": null,
   "id": "valued-state",
   "metadata": {
    "id": "QejRaOGlWJA1"
   },
   "outputs": [],
   "source": [
    "m = encoder.to('cpu').eval()"
   ]
  },
  {
   "cell_type": "code",
   "execution_count": null,
   "id": "patent-table",
   "metadata": {
    "id": "Mtzi14NIFynK"
   },
   "outputs": [],
   "source": [
    "# check\n",
    "dataiter = iter(dataloader)\n",
    "sequences, labels = dataiter.next()\n",
    "\n",
    "# should be BATCH_SIZExNUM_OF_SEQUNCESxSUBSEQUENCE_LENGTHx(num_features)\n",
    "sequences.shape"
   ]
  },
  {
   "cell_type": "code",
   "execution_count": null,
   "id": "documentary-dance",
   "metadata": {
    "id": "_59ULTscHfAH"
   },
   "outputs": [],
   "source": [
    "embeddings = torch.zeros((1, EMBEDDING_DIM))[1:]\n",
    "\n",
    "# probably can make it faster if use a batch of clients\n",
    "for client_id in tqdm(sorted(dataset.targets)):\n",
    "    n, c = dataset.get_sequence(client_id)\n",
    "\n",
    "    with torch.no_grad():\n",
    "        embedding = m(n, c)\n",
    "        # encoded_events = m.event_encoder(n, c)\n",
    "        # encoded_events = encoded_events.view(1, -1, EMBEDDING_DIM)\n",
    "        # encoded_events = torch.transpose(encoded_events, 0, 1) # so that its (seq_len, batch, input_size)\n",
    "        # embedding = m.sequence_encoder(encoded_events)[0][0]\n",
    "        embeddings = torch.cat((embeddings, embedding))\n",
    "\n",
    "embeddings.shape"
   ]
  },
  {
   "cell_type": "code",
   "execution_count": null,
   "id": "wrong-charity",
   "metadata": {
    "id": "13ohWlD-JzFH"
   },
   "outputs": [],
   "source": [
    "X = embeddings.numpy()\n",
    "\n",
    "# y = dataset.target_df[dataset.target_df['client_id'].isin(dataset.clients)].sort_values('client_id')['bins'].to_numpy()\n",
    "\n",
    "y = dataset.target_df.sort_values('client_id')['bins'].to_numpy()"
   ]
  },
  {
   "cell_type": "code",
   "execution_count": null,
   "id": "continent-british",
   "metadata": {
    "id": "-a99xITc9qXb"
   },
   "outputs": [],
   "source": [
    "decoder = Decoder(input_dim=EMBEDDING_DIM)\n",
    "decoder.to(device);"
   ]
  },
  {
   "cell_type": "code",
   "execution_count": null,
   "id": "bridal-debut",
   "metadata": {
    "id": "s6n6QRL79qUL"
   },
   "outputs": [],
   "source": []
  },
  {
   "cell_type": "code",
   "execution_count": null,
   "id": "inside-tiger",
   "metadata": {
    "id": "L5jmrerQ9qRg"
   },
   "outputs": [],
   "source": []
  },
  {
   "cell_type": "code",
   "execution_count": null,
   "id": "unavailable-farmer",
   "metadata": {
    "id": "Ca5R3rL7Kxem"
   },
   "outputs": [],
   "source": [
    "from catboost import CatBoostClassifier, Pool\n",
    "from catboost import cv\n",
    "from sklearn.model_selection import train_test_split"
   ]
  },
  {
   "cell_type": "code",
   "execution_count": null,
   "id": "computational-drove",
   "metadata": {
    "id": "D38VYwhXKq_P"
   },
   "outputs": [],
   "source": [
    "X_train, X_test, y_train, y_test = train_test_split(\n",
    "    X, y, test_size=0.33, random_state=228, stratify=y)\n",
    "\n",
    "train_pool = Pool(X_train, y_train)\n",
    "test_pool = Pool(X_test, y_test)"
   ]
  },
  {
   "cell_type": "code",
   "execution_count": null,
   "id": "favorite-alabama",
   "metadata": {
    "id": "YV_oTIQKNsuq"
   },
   "outputs": [],
   "source": [
    "model = CatBoostClassifier(\n",
    "    iterations=500,\n",
    "    depth=3,\n",
    "    learning_rate=0.5,\n",
    "    verbose=True,\n",
    "    eval_metric='Accuracy',\n",
    "    auto_class_weights='Balanced',\n",
    "    random_state=228,\n",
    ")"
   ]
  },
  {
   "cell_type": "code",
   "execution_count": null,
   "id": "incident-moment",
   "metadata": {
    "id": "Fc3FHXYyK8yh"
   },
   "outputs": [],
   "source": [
    "model.fit(train_pool, eval_set=test_pool)"
   ]
  },
  {
   "cell_type": "code",
   "execution_count": null,
   "id": "therapeutic-console",
   "metadata": {
    "id": "63NEh9tOkAkp"
   },
   "outputs": [],
   "source": [
    "train_acc = model.evals_result_['learn']['Accuracy']\n",
    "valid_acc = model.evals_result_['validation']['Accuracy']\n",
    "\n",
    "plt.plot(train_acc, label='train')\n",
    "plt.plot(valid_acc, label='valid')\n",
    "plt.xlabel('iter')\n",
    "plt.ylabel('accuracy')\n",
    "plt.legend();"
   ]
  },
  {
   "cell_type": "code",
   "execution_count": null,
   "id": "included-trace",
   "metadata": {
    "id": "dLfhuxFdkAiV"
   },
   "outputs": [],
   "source": []
  },
  {
   "cell_type": "code",
   "execution_count": null,
   "id": "satellite-satin",
   "metadata": {
    "id": "Gq_9OK9INyco"
   },
   "outputs": [],
   "source": [
    "sum(np.squeeze(model.predict(X_test)) == y_test) / len(y_test)"
   ]
  },
  {
   "cell_type": "code",
   "execution_count": null,
   "id": "funny-blond",
   "metadata": {
    "id": "DDaYs-_dOCBh"
   },
   "outputs": [],
   "source": []
  },
  {
   "cell_type": "code",
   "execution_count": null,
   "id": "federal-center",
   "metadata": {
    "id": "G-LDs35tq5Ff"
   },
   "outputs": [],
   "source": []
  },
  {
   "cell_type": "code",
   "execution_count": null,
   "id": "seven-worst",
   "metadata": {},
   "outputs": [],
   "source": []
  }
 ],
 "metadata": {
  "kernelspec": {
   "display_name": "Python 3",
   "language": "python",
   "name": "python3"
  },
  "language_info": {
   "codemirror_mode": {
    "name": "ipython",
    "version": 3
   },
   "file_extension": ".py",
   "mimetype": "text/x-python",
   "name": "python",
   "nbconvert_exporter": "python",
   "pygments_lexer": "ipython3",
   "version": "3.8.6"
  },
  "toc": {
   "base_numbering": 1,
   "nav_menu": {},
   "number_sections": true,
   "sideBar": true,
   "skip_h1_title": true,
   "title_cell": "Table of Contents",
   "title_sidebar": "Contents",
   "toc_cell": true,
   "toc_position": {},
   "toc_section_display": true,
   "toc_window_display": false
  }
 },
 "nbformat": 4,
 "nbformat_minor": 5
}
