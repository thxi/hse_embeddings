{
 "cells": [
  {
   "cell_type": "code",
   "execution_count": 1,
   "metadata": {
    "ExecuteTime": {
     "end_time": "2021-05-04T14:15:24.024353Z",
     "start_time": "2021-05-04T14:15:23.451427Z"
    },
    "id": "thKgYQF3URYw"
   },
   "outputs": [],
   "source": [
    "import pandas as pd\n",
    "import numpy as np\n",
    "import matplotlib.pyplot as plt\n",
    "import seaborn as sns\n",
    "\n",
    "sns.set()\n",
    "\n",
    "sns.set_style(\"whitegrid\", {'axes.grid' : False})\n",
    "\n",
    "# from tqdm.notebook import tqdm\n",
    "from tqdm.auto import tqdm"
   ]
  },
  {
   "cell_type": "markdown",
   "metadata": {
    "id": "6TE8tM1jVt5a"
   },
   "source": [
    "# cuda"
   ]
  },
  {
   "cell_type": "code",
   "execution_count": 2,
   "metadata": {
    "ExecuteTime": {
     "end_time": "2021-05-04T14:15:24.035576Z",
     "start_time": "2021-05-04T14:15:24.025368Z"
    }
   },
   "outputs": [],
   "source": [
    "%load_ext autoreload\n",
    "%autoreload 2"
   ]
  },
  {
   "cell_type": "code",
   "execution_count": 3,
   "metadata": {
    "ExecuteTime": {
     "end_time": "2021-05-04T14:15:24.738276Z",
     "start_time": "2021-05-04T14:15:24.485717Z"
    },
    "colab": {
     "base_uri": "https://localhost:8080/"
    },
    "id": "UBFRCZowUWGt",
    "outputId": "09cfb931-6126-4fcf-f0b6-d6abfa0d4ba5"
   },
   "outputs": [
    {
     "data": {
      "text/plain": [
       "True"
      ]
     },
     "execution_count": 3,
     "metadata": {},
     "output_type": "execute_result"
    }
   ],
   "source": [
    "import torch\n",
    "torch.cuda.is_available()"
   ]
  },
  {
   "cell_type": "code",
   "execution_count": 4,
   "metadata": {
    "ExecuteTime": {
     "end_time": "2021-05-04T14:15:24.786073Z",
     "start_time": "2021-05-04T14:15:24.775199Z"
    },
    "colab": {
     "base_uri": "https://localhost:8080/"
    },
    "id": "Q-kXTk-bNPzx",
    "outputId": "7a991cca-3b7a-4ec3-9fa8-ee0b5fce2537"
   },
   "outputs": [
    {
     "name": "stdout",
     "output_type": "stream",
     "text": [
      "cuda:0\n"
     ]
    }
   ],
   "source": [
    "device = torch.device(\"cuda:0\" if torch.cuda.is_available() else \"cpu\")\n",
    "\n",
    "# Assuming that we are on a CUDA machine, this should print a CUDA device:\n",
    "\n",
    "print(device)"
   ]
  },
  {
   "cell_type": "markdown",
   "metadata": {
    "id": "-_RBRZ19P7qm"
   },
   "source": [
    "# Data"
   ]
  },
  {
   "cell_type": "code",
   "execution_count": 5,
   "metadata": {
    "ExecuteTime": {
     "end_time": "2021-05-04T14:15:25.189835Z",
     "start_time": "2021-05-04T14:15:25.174923Z"
    },
    "id": "IRcnhYxEQuBx"
   },
   "outputs": [],
   "source": [
    "from pathlib import Path"
   ]
  },
  {
   "cell_type": "markdown",
   "metadata": {
    "id": "XxC2OnRGNjfh"
   },
   "source": [
    "## Dataloader"
   ]
  },
  {
   "cell_type": "markdown",
   "metadata": {},
   "source": [
    "move to a different file"
   ]
  },
  {
   "cell_type": "code",
   "execution_count": 6,
   "metadata": {
    "ExecuteTime": {
     "end_time": "2021-05-04T14:15:25.723258Z",
     "start_time": "2021-05-04T14:15:25.696369Z"
    },
    "id": "Bo2W99FK8NGQ"
   },
   "outputs": [],
   "source": [
    "import torch"
   ]
  },
  {
   "cell_type": "code",
   "execution_count": 14,
   "metadata": {
    "ExecuteTime": {
     "end_time": "2021-05-04T14:16:25.023022Z",
     "start_time": "2021-05-04T14:16:24.987380Z"
    }
   },
   "outputs": [],
   "source": [
    "from Dataloader import AgeGroupMLDataset"
   ]
  },
  {
   "cell_type": "code",
   "execution_count": null,
   "metadata": {},
   "outputs": [],
   "source": []
  },
  {
   "cell_type": "code",
   "execution_count": null,
   "metadata": {
    "ExecuteTime": {
     "end_time": "2021-05-04T14:11:48.540658Z",
     "start_time": "2021-05-04T14:11:48.535462Z"
    },
    "id": "GmjoA97S5JX9"
   },
   "outputs": [],
   "source": [
    "import os\n",
    "from pathlib import Path"
   ]
  },
  {
   "cell_type": "code",
   "execution_count": null,
   "metadata": {
    "ExecuteTime": {
     "end_time": "2021-05-04T14:11:48.795082Z",
     "start_time": "2021-05-04T14:11:48.791569Z"
    },
    "id": "cladcboQMnou"
   },
   "outputs": [],
   "source": [
    "def normalize(col):\n",
    "    return (col - col.mean())/col.std()\n",
    "\n",
    "def process_transactions(df):\n",
    "    shifted = (\n",
    "        df\n",
    "        .sort_values(['client_id', 'trans_date'])\n",
    "        .groupby('client_id')['trans_date'].shift(1)\n",
    "    ).reset_index()\n",
    "    df['prev_date'] = shifted['trans_date']\n",
    "    # drop first transaction for each client since it does not have the prev date\n",
    "    df = df[~shifted['trans_date'].isna()].copy()\n",
    "    df['prev_diff'] = df['trans_date'] - df['prev_date']\n",
    "    df.drop('prev_date', axis=1, inplace=True)\n",
    "    df['weekday'] = df['trans_date'] % 7\n",
    "    for c in ['amount_rur', 'weekday', 'trans_date', 'prev_diff']:\n",
    "        df[c] = normalize(df[c])\n",
    "    return df"
   ]
  },
  {
   "cell_type": "code",
   "execution_count": null,
   "metadata": {
    "id": "lx7_KZ1m5JX-"
   },
   "outputs": [],
   "source": [
    "import pickle\n",
    "\n",
    "NUM_OF_SUBSEQUENCES = 5 # number of sequences per person\n",
    "SUBSEQUENCE_LENGTH = 90 # should be random??? mean number of transactions per sample is 881\n",
    "\n",
    "class AgeDataset(torch.utils.data.Dataset):\n",
    "    def __init__(\n",
    "        self,\n",
    "        seq_length=SUBSEQUENCE_LENGTH,\n",
    "        root=Path('./data/')\n",
    "    ):\n",
    "        super().__init__()\n",
    "        raw_df = pd.read_csv(root/'transactions_train.csv')\n",
    "\n",
    "        # NOTE: remapping client_ids to indices\n",
    "        self.idx2client = raw_df['client_id'].unique()\n",
    "\n",
    "        raw_df['client_id'] = raw_df['client_id'].map({v: k for k, v in enumerate(self.idx2client)})\n",
    "        \n",
    "        self.df = process_transactions(raw_df)\n",
    "        self.df = self.df.sort_values(['client_id', 'trans_date'])\n",
    "\n",
    "        self.numerical = torch.from_numpy(self.df.drop('client_id', axis=1).to_numpy()).type(torch.float32)\n",
    "        self.categorical = torch.from_numpy(self.df[['small_group']].to_numpy()).type(torch.int)\n",
    "\n",
    "        self.targets = list(range(len(self.idx2client)))\n",
    "\n",
    "    def __getitem__(self, idx: int):\n",
    "        # outputs ((n, c), idx)\n",
    "        # dim(n,c) are  NUM_OF_SUBSEQUENCES x SUBSEQUENCE_LENGTH x feature_dim\n",
    "\n",
    "        n, c = self.get_sequence(idx)\n",
    "        \n",
    "        subsequences = torch.zeros((NUM_OF_SUBSEQUENCES, SUBSEQUENCE_LENGTH, n.size(1)+c.size(1)))\n",
    "        sn = torch.zeros((NUM_OF_SUBSEQUENCES, SUBSEQUENCE_LENGTH, n.size(1))).type(torch.float32)\n",
    "        sc = torch.zeros((NUM_OF_SUBSEQUENCES, SUBSEQUENCE_LENGTH, c.size(1))).type(torch.int)\n",
    "\n",
    "        seq_len = n.size(0)\n",
    "        for i in range(NUM_OF_SUBSEQUENCES):\n",
    "            start_index = np.random.randint(0, seq_len-SUBSEQUENCE_LENGTH+1)\n",
    "            end_index = start_index + SUBSEQUENCE_LENGTH\n",
    "            nsubseq = n[start_index:end_index]\n",
    "            csubseq = c[start_index:end_index]\n",
    "\n",
    "            sn[i] = nsubseq\n",
    "            sc[i] = csubseq\n",
    "\n",
    "        return (sn, sc), idx\n",
    "\n",
    "    def __len__(self):\n",
    "        return len(self.client_to_indices)\n",
    "    \n",
    "    def get_sequence(self, idx):\n",
    "        s, e = self.client_to_indices[idx]\n",
    "        n = self.numerical[s:e]\n",
    "        c = self.categorical[s:e]\n",
    "        return n, c\n",
    "\n",
    "    def build_client_to_indices(self):\n",
    "        self.client_to_indices = {} # tuple of (index start, index after end)\n",
    "        # so that numpy_array[1:end] yields the sequence\n",
    "        current = dataset.df.iloc[0, 0]\n",
    "        start_idx = 0\n",
    "        print('getting indices', len(self.df))\n",
    "        for i, (_, r) in tqdm(enumerate(self.df.iterrows())):\n",
    "            if current != r['client_id']:\n",
    "                self.client_to_indices[current] = (start_idx, i)\n",
    "                start_idx = i\n",
    "                current = r['client_id']\n",
    "        \n",
    "        self.client_to_indices[current] = (start_idx, i+1)\n",
    "    \n",
    "    def load_client_to_indices(self):\n",
    "        self.client_to_indices = pickle.load(open(\"client_to_indices.p\", \"rb\"))\n",
    "    def save_client_to_indices(self):\n",
    "        pickle.dump(self.client_to_indices, open(\"client_to_indices.p\", \"wb\"))"
   ]
  },
  {
   "cell_type": "markdown",
   "metadata": {
    "id": "MhXjo4Rjl-JV"
   },
   "source": [
    "# Net"
   ]
  },
  {
   "cell_type": "markdown",
   "metadata": {
    "id": "Oj1aJazjlb_o"
   },
   "source": [
    "https://arxiv.org/pdf/1911.02496.pdf"
   ]
  },
  {
   "cell_type": "code",
   "execution_count": 8,
   "metadata": {
    "ExecuteTime": {
     "end_time": "2021-05-04T14:15:33.280940Z",
     "start_time": "2021-05-04T14:15:33.264573Z"
    },
    "id": "CsXGNkxe7V7N"
   },
   "outputs": [],
   "source": [
    "import torch.nn as nn\n",
    "import torch.nn.functional as F\n",
    "import torch.optim as optim"
   ]
  },
  {
   "cell_type": "code",
   "execution_count": 9,
   "metadata": {
    "ExecuteTime": {
     "end_time": "2021-05-04T14:15:33.480950Z",
     "start_time": "2021-05-04T14:15:33.467339Z"
    },
    "id": "HqAw1J9Mjk0J"
   },
   "outputs": [],
   "source": [
    "class Encoder(nn.Module):\n",
    "    def __init__(self, numerical_input_dim, embedding_dim, cat_vocab_sizes):\n",
    "        # only 1 categorical feature for now\n",
    "        super(Encoder, self).__init__()\n",
    "        self.numerical_input_dim = numerical_input_dim\n",
    "        self.embedding_dim = embedding_dim\n",
    "        self.cat_vocab_sizes = cat_vocab_sizes\n",
    "\n",
    "        cat_dim = len(cat_vocab_sizes)\n",
    "\n",
    "        # self.num_event_encoder = nn.Sequential(\n",
    "        #     self.block(numerical_input_dim, 8),\n",
    "        #     self.block(8, 16),\n",
    "        #     self.block(16, 32),\n",
    "        #     nn.Linear(32, int(embedding_dim/2)),\n",
    "        #     nn.Sigmoid(),\n",
    "        # )\n",
    "        self.num_event_encoder = nn.BatchNorm1d(numerical_input_dim)\n",
    "\n",
    "        self.cat_encoder = nn.Embedding(cat_vocab_sizes[0], int(embedding_dim/2))\n",
    "\n",
    "        # self.sequence_encoder = nn.Sequential(\n",
    "        #     nn.GRU(embedding_dim, embedding_dim, batch_first=False)\n",
    "        # )\n",
    "        self.sequence_encoder = nn.Sequential(\n",
    "            nn.GRU(numerical_input_dim+int(embedding_dim/2), embedding_dim, batch_first=False)\n",
    "        )\n",
    "\n",
    "    def forward(self, n, c):\n",
    "        # receives BATCH_SIZE*NUM_OF_SEQUENCES*SUBSEQUENCE_LENGTH*input_dim\n",
    "\n",
    "        n = n.view(-1, self.numerical_input_dim)\n",
    "        n = self.num_event_encoder(n)\n",
    "        # n = n.view(-1, SUBSEQUENCE_LENGTH, int(self.embedding_dim/2))\n",
    "        n = n.view(-1, SUBSEQUENCE_LENGTH, self.numerical_input_dim)\n",
    "        \n",
    "        c = c.view(-1, 1)\n",
    "        c = self.cat_encoder(c)\n",
    "        c = c.view(-1, SUBSEQUENCE_LENGTH, int(self.embedding_dim/2))\n",
    "\n",
    "        x = torch.cat((n, c), 2)\n",
    "\n",
    "        # receives BATCH_SIZE*SUBSEQUENCE_LENGTH*embedding_dim\n",
    "        x = torch.transpose(x, 0, 1) # so that its (seq_len, batch, input_size)\n",
    "\n",
    "        x = self.sequence_encoder(x)[0][-1]\n",
    "\n",
    "        # normalization embedding to have unit norm\n",
    "        x = x/torch.linalg.norm(x, dim=1).unsqueeze(1).repeat(1, self.embedding_dim)\n",
    "\n",
    "        return x\n",
    "    \n",
    "    def block(self, in_dim, out_dim, bn=True):\n",
    "        return nn.Sequential(\n",
    "            nn.Linear(in_dim, out_dim),\n",
    "            nn.Sigmoid(),\n",
    "            nn.BatchNorm1d(out_dim))"
   ]
  },
  {
   "cell_type": "code",
   "execution_count": null,
   "metadata": {
    "ExecuteTime": {
     "end_time": "2021-05-04T14:13:44.649945Z",
     "start_time": "2021-05-04T14:13:44.646682Z"
    },
    "id": "2Hm2QE1h3OCO"
   },
   "outputs": [],
   "source": [
    "# todo: decoder NN\n",
    "class Decoder(nn.Module):\n",
    "    def __init__(self, input_dim):\n",
    "        super(Decoder, self).__init__()\n",
    "        self.input_dim = input_dim\n",
    "\n",
    "        self.decoder = nn.Sequential(\n",
    "            self.block(input_dim, 64),\n",
    "            self.block(64, 16),\n",
    "            self.block(16, 4),\n",
    "            nn.Linear(4, 4),\n",
    "        )\n",
    "\n",
    "    def forward(self, x):\n",
    "        x = self.decoder(x)\n",
    "        return x\n",
    "    \n",
    "    def block(self, in_dim, out_dim):\n",
    "        return nn.Sequential(\n",
    "            nn.Linear(in_dim, out_dim),\n",
    "            nn.Sigmoid(),\n",
    "            nn.BatchNorm1d(out_dim))"
   ]
  },
  {
   "cell_type": "markdown",
   "metadata": {
    "id": "fkHW7YKHnpCR"
   },
   "source": [
    "# Train embedding"
   ]
  },
  {
   "cell_type": "code",
   "execution_count": 10,
   "metadata": {
    "ExecuteTime": {
     "end_time": "2021-05-04T14:15:36.355781Z",
     "start_time": "2021-05-04T14:15:36.225592Z"
    },
    "id": "P_mLsoBGt4QY"
   },
   "outputs": [],
   "source": [
    "from pytorch_metric_learning import losses, miners, distances, reducers, samplers"
   ]
  },
  {
   "cell_type": "code",
   "execution_count": 11,
   "metadata": {
    "ExecuteTime": {
     "end_time": "2021-05-04T14:15:36.454350Z",
     "start_time": "2021-05-04T14:15:36.437670Z"
    },
    "id": "pm80PCIl79LE"
   },
   "outputs": [],
   "source": [
    "BATCH_SIZE = 64 # BATCH_SIZE unique persons\n",
    "SAMPLES_PER_CLASS = 1 # drawing 64 classes per batch\n",
    "\n",
    "EMBEDDING_DIM = 256\n",
    "LR = 0.001\n",
    "NUM_EPOCHS = 150"
   ]
  },
  {
   "cell_type": "code",
   "execution_count": 15,
   "metadata": {
    "ExecuteTime": {
     "end_time": "2021-05-04T14:16:44.666256Z",
     "start_time": "2021-05-04T14:16:29.846825Z"
    },
    "id": "GYYj4IyZdrtg"
   },
   "outputs": [],
   "source": [
    "dataset = AgeGroupMLDataset()"
   ]
  },
  {
   "cell_type": "code",
   "execution_count": null,
   "metadata": {},
   "outputs": [],
   "source": []
  },
  {
   "cell_type": "code",
   "execution_count": null,
   "metadata": {
    "id": "OjphiJYEr3l2"
   },
   "outputs": [],
   "source": [
    "dataset.build_client_to_indices()"
   ]
  },
  {
   "cell_type": "code",
   "execution_count": 16,
   "metadata": {
    "ExecuteTime": {
     "end_time": "2021-05-04T14:16:44.736239Z",
     "start_time": "2021-05-04T14:16:44.667361Z"
    },
    "id": "EY6GM_RjsCWg"
   },
   "outputs": [],
   "source": [
    "dataset.load_client_to_indices()"
   ]
  },
  {
   "cell_type": "code",
   "execution_count": null,
   "metadata": {},
   "outputs": [],
   "source": []
  },
  {
   "cell_type": "code",
   "execution_count": 18,
   "metadata": {
    "ExecuteTime": {
     "end_time": "2021-05-04T14:24:38.422775Z",
     "start_time": "2021-05-04T14:24:38.394048Z"
    },
    "id": "vNdVHSPr3de2"
   },
   "outputs": [],
   "source": [
    "import random"
   ]
  },
  {
   "cell_type": "code",
   "execution_count": 19,
   "metadata": {
    "ExecuteTime": {
     "end_time": "2021-05-04T14:24:38.613374Z",
     "start_time": "2021-05-04T14:24:38.590184Z"
    },
    "id": "WxzkX-VZ3zJu"
   },
   "outputs": [],
   "source": [
    "torch.manual_seed(0)\n",
    "random.seed(0)\n",
    "np.random.seed(0)"
   ]
  },
  {
   "cell_type": "code",
   "execution_count": 20,
   "metadata": {
    "ExecuteTime": {
     "end_time": "2021-05-04T14:24:39.273734Z",
     "start_time": "2021-05-04T14:24:39.249524Z"
    },
    "id": "XB6H3g74Nflk"
   },
   "outputs": [],
   "source": [
    "targets = dataset.targets"
   ]
  },
  {
   "cell_type": "code",
   "execution_count": 21,
   "metadata": {
    "ExecuteTime": {
     "end_time": "2021-05-04T14:24:39.761364Z",
     "start_time": "2021-05-04T14:24:39.654220Z"
    },
    "id": "DQfIOu14uO9m"
   },
   "outputs": [],
   "source": [
    "sampler = samplers.MPerClassSampler(\n",
    "    targets, SAMPLES_PER_CLASS, batch_size=BATCH_SIZE,\n",
    "    length_before_new_iter=BATCH_SIZE * 100) # 100 batches per epoch"
   ]
  },
  {
   "cell_type": "code",
   "execution_count": 22,
   "metadata": {
    "ExecuteTime": {
     "end_time": "2021-05-04T14:24:40.179423Z",
     "start_time": "2021-05-04T14:24:40.164034Z"
    },
    "id": "2W-DuPoHuACu"
   },
   "outputs": [],
   "source": [
    "dataloader = torch.utils.data.DataLoader(\n",
    "    dataset, batch_size=BATCH_SIZE,\n",
    "    num_workers=0,\n",
    "    sampler=sampler,\n",
    ")"
   ]
  },
  {
   "cell_type": "code",
   "execution_count": 23,
   "metadata": {
    "ExecuteTime": {
     "end_time": "2021-05-04T14:24:40.768755Z",
     "start_time": "2021-05-04T14:24:40.590957Z"
    },
    "colab": {
     "base_uri": "https://localhost:8080/"
    },
    "id": "KOnRcmgI4fdy",
    "outputId": "ff619c2f-83e8-4a00-f9ab-c3d3c4b80405"
   },
   "outputs": [
    {
     "data": {
      "text/plain": [
       "(torch.Size([64, 5, 90, 5]), torch.Size([64, 5, 90, 1]))"
      ]
     },
     "execution_count": 23,
     "metadata": {},
     "output_type": "execute_result"
    }
   ],
   "source": [
    "# check\n",
    "dataiter = iter(dataloader)\n",
    "sequences, labels = dataiter.next()\n",
    "\n",
    "# should be BATCH_SIZExNUM_OF_SUBSEQUENCESxSUBSEQUENCE_LENGTHx(num_features)\n",
    "sequences[0].shape, sequences[1].shape"
   ]
  },
  {
   "cell_type": "code",
   "execution_count": 26,
   "metadata": {
    "ExecuteTime": {
     "end_time": "2021-05-04T14:24:52.989237Z",
     "start_time": "2021-05-04T14:24:51.106290Z"
    },
    "id": "AZBeoMARzDpJ"
   },
   "outputs": [
    {
     "ename": "RuntimeError",
     "evalue": "cuDNN error: CUDNN_STATUS_NOT_INITIALIZED",
     "output_type": "error",
     "traceback": [
      "\u001b[0;31m---------------------------------------------------------------------------\u001b[0m",
      "\u001b[0;31mRuntimeError\u001b[0m                              Traceback (most recent call last)",
      "\u001b[0;32m<ipython-input-26-170e0a5fd6a6>\u001b[0m in \u001b[0;36m<module>\u001b[0;34m\u001b[0m\n\u001b[1;32m      7\u001b[0m     \u001b[0mcat_vocab_sizes\u001b[0m\u001b[0;34m=\u001b[0m\u001b[0mcat_vocab_sizes\u001b[0m\u001b[0;34m\u001b[0m\u001b[0;34m\u001b[0m\u001b[0m\n\u001b[1;32m      8\u001b[0m )\n\u001b[0;32m----> 9\u001b[0;31m \u001b[0mencoder\u001b[0m\u001b[0;34m.\u001b[0m\u001b[0mto\u001b[0m\u001b[0;34m(\u001b[0m\u001b[0mdevice\u001b[0m\u001b[0;34m)\u001b[0m\u001b[0;34m;\u001b[0m\u001b[0;34m\u001b[0m\u001b[0;34m\u001b[0m\u001b[0m\n\u001b[0m",
      "\u001b[0;32m~/Desktop/hse_embeddings/env/lib/python3.8/site-packages/torch/nn/modules/module.py\u001b[0m in \u001b[0;36mto\u001b[0;34m(self, *args, **kwargs)\u001b[0m\n\u001b[1;32m    671\u001b[0m             \u001b[0;32mreturn\u001b[0m \u001b[0mt\u001b[0m\u001b[0;34m.\u001b[0m\u001b[0mto\u001b[0m\u001b[0;34m(\u001b[0m\u001b[0mdevice\u001b[0m\u001b[0;34m,\u001b[0m \u001b[0mdtype\u001b[0m \u001b[0;32mif\u001b[0m \u001b[0mt\u001b[0m\u001b[0;34m.\u001b[0m\u001b[0mis_floating_point\u001b[0m\u001b[0;34m(\u001b[0m\u001b[0;34m)\u001b[0m \u001b[0;32mor\u001b[0m \u001b[0mt\u001b[0m\u001b[0;34m.\u001b[0m\u001b[0mis_complex\u001b[0m\u001b[0;34m(\u001b[0m\u001b[0;34m)\u001b[0m \u001b[0;32melse\u001b[0m \u001b[0;32mNone\u001b[0m\u001b[0;34m,\u001b[0m \u001b[0mnon_blocking\u001b[0m\u001b[0;34m)\u001b[0m\u001b[0;34m\u001b[0m\u001b[0;34m\u001b[0m\u001b[0m\n\u001b[1;32m    672\u001b[0m \u001b[0;34m\u001b[0m\u001b[0m\n\u001b[0;32m--> 673\u001b[0;31m         \u001b[0;32mreturn\u001b[0m \u001b[0mself\u001b[0m\u001b[0;34m.\u001b[0m\u001b[0m_apply\u001b[0m\u001b[0;34m(\u001b[0m\u001b[0mconvert\u001b[0m\u001b[0;34m)\u001b[0m\u001b[0;34m\u001b[0m\u001b[0;34m\u001b[0m\u001b[0m\n\u001b[0m\u001b[1;32m    674\u001b[0m \u001b[0;34m\u001b[0m\u001b[0m\n\u001b[1;32m    675\u001b[0m     def register_backward_hook(\n",
      "\u001b[0;32m~/Desktop/hse_embeddings/env/lib/python3.8/site-packages/torch/nn/modules/module.py\u001b[0m in \u001b[0;36m_apply\u001b[0;34m(self, fn)\u001b[0m\n\u001b[1;32m    385\u001b[0m     \u001b[0;32mdef\u001b[0m \u001b[0m_apply\u001b[0m\u001b[0;34m(\u001b[0m\u001b[0mself\u001b[0m\u001b[0;34m,\u001b[0m \u001b[0mfn\u001b[0m\u001b[0;34m)\u001b[0m\u001b[0;34m:\u001b[0m\u001b[0;34m\u001b[0m\u001b[0;34m\u001b[0m\u001b[0m\n\u001b[1;32m    386\u001b[0m         \u001b[0;32mfor\u001b[0m \u001b[0mmodule\u001b[0m \u001b[0;32min\u001b[0m \u001b[0mself\u001b[0m\u001b[0;34m.\u001b[0m\u001b[0mchildren\u001b[0m\u001b[0;34m(\u001b[0m\u001b[0;34m)\u001b[0m\u001b[0;34m:\u001b[0m\u001b[0;34m\u001b[0m\u001b[0;34m\u001b[0m\u001b[0m\n\u001b[0;32m--> 387\u001b[0;31m             \u001b[0mmodule\u001b[0m\u001b[0;34m.\u001b[0m\u001b[0m_apply\u001b[0m\u001b[0;34m(\u001b[0m\u001b[0mfn\u001b[0m\u001b[0;34m)\u001b[0m\u001b[0;34m\u001b[0m\u001b[0;34m\u001b[0m\u001b[0m\n\u001b[0m\u001b[1;32m    388\u001b[0m \u001b[0;34m\u001b[0m\u001b[0m\n\u001b[1;32m    389\u001b[0m         \u001b[0;32mdef\u001b[0m \u001b[0mcompute_should_use_set_data\u001b[0m\u001b[0;34m(\u001b[0m\u001b[0mtensor\u001b[0m\u001b[0;34m,\u001b[0m \u001b[0mtensor_applied\u001b[0m\u001b[0;34m)\u001b[0m\u001b[0;34m:\u001b[0m\u001b[0;34m\u001b[0m\u001b[0;34m\u001b[0m\u001b[0m\n",
      "\u001b[0;32m~/Desktop/hse_embeddings/env/lib/python3.8/site-packages/torch/nn/modules/module.py\u001b[0m in \u001b[0;36m_apply\u001b[0;34m(self, fn)\u001b[0m\n\u001b[1;32m    385\u001b[0m     \u001b[0;32mdef\u001b[0m \u001b[0m_apply\u001b[0m\u001b[0;34m(\u001b[0m\u001b[0mself\u001b[0m\u001b[0;34m,\u001b[0m \u001b[0mfn\u001b[0m\u001b[0;34m)\u001b[0m\u001b[0;34m:\u001b[0m\u001b[0;34m\u001b[0m\u001b[0;34m\u001b[0m\u001b[0m\n\u001b[1;32m    386\u001b[0m         \u001b[0;32mfor\u001b[0m \u001b[0mmodule\u001b[0m \u001b[0;32min\u001b[0m \u001b[0mself\u001b[0m\u001b[0;34m.\u001b[0m\u001b[0mchildren\u001b[0m\u001b[0;34m(\u001b[0m\u001b[0;34m)\u001b[0m\u001b[0;34m:\u001b[0m\u001b[0;34m\u001b[0m\u001b[0;34m\u001b[0m\u001b[0m\n\u001b[0;32m--> 387\u001b[0;31m             \u001b[0mmodule\u001b[0m\u001b[0;34m.\u001b[0m\u001b[0m_apply\u001b[0m\u001b[0;34m(\u001b[0m\u001b[0mfn\u001b[0m\u001b[0;34m)\u001b[0m\u001b[0;34m\u001b[0m\u001b[0;34m\u001b[0m\u001b[0m\n\u001b[0m\u001b[1;32m    388\u001b[0m \u001b[0;34m\u001b[0m\u001b[0m\n\u001b[1;32m    389\u001b[0m         \u001b[0;32mdef\u001b[0m \u001b[0mcompute_should_use_set_data\u001b[0m\u001b[0;34m(\u001b[0m\u001b[0mtensor\u001b[0m\u001b[0;34m,\u001b[0m \u001b[0mtensor_applied\u001b[0m\u001b[0;34m)\u001b[0m\u001b[0;34m:\u001b[0m\u001b[0;34m\u001b[0m\u001b[0;34m\u001b[0m\u001b[0m\n",
      "\u001b[0;32m~/Desktop/hse_embeddings/env/lib/python3.8/site-packages/torch/nn/modules/rnn.py\u001b[0m in \u001b[0;36m_apply\u001b[0;34m(self, fn)\u001b[0m\n\u001b[1;32m    184\u001b[0m         \u001b[0mself\u001b[0m\u001b[0;34m.\u001b[0m\u001b[0m_flat_weights\u001b[0m \u001b[0;34m=\u001b[0m \u001b[0;34m[\u001b[0m\u001b[0;34m(\u001b[0m\u001b[0;32mlambda\u001b[0m \u001b[0mwn\u001b[0m\u001b[0;34m:\u001b[0m \u001b[0mgetattr\u001b[0m\u001b[0;34m(\u001b[0m\u001b[0mself\u001b[0m\u001b[0;34m,\u001b[0m \u001b[0mwn\u001b[0m\u001b[0;34m)\u001b[0m \u001b[0;32mif\u001b[0m \u001b[0mhasattr\u001b[0m\u001b[0;34m(\u001b[0m\u001b[0mself\u001b[0m\u001b[0;34m,\u001b[0m \u001b[0mwn\u001b[0m\u001b[0;34m)\u001b[0m \u001b[0;32melse\u001b[0m \u001b[0;32mNone\u001b[0m\u001b[0;34m)\u001b[0m\u001b[0;34m(\u001b[0m\u001b[0mwn\u001b[0m\u001b[0;34m)\u001b[0m \u001b[0;32mfor\u001b[0m \u001b[0mwn\u001b[0m \u001b[0;32min\u001b[0m \u001b[0mself\u001b[0m\u001b[0;34m.\u001b[0m\u001b[0m_flat_weights_names\u001b[0m\u001b[0;34m]\u001b[0m\u001b[0;34m\u001b[0m\u001b[0;34m\u001b[0m\u001b[0m\n\u001b[1;32m    185\u001b[0m         \u001b[0;31m# Flattens params (on CUDA)\u001b[0m\u001b[0;34m\u001b[0m\u001b[0;34m\u001b[0m\u001b[0;34m\u001b[0m\u001b[0m\n\u001b[0;32m--> 186\u001b[0;31m         \u001b[0mself\u001b[0m\u001b[0;34m.\u001b[0m\u001b[0mflatten_parameters\u001b[0m\u001b[0;34m(\u001b[0m\u001b[0;34m)\u001b[0m\u001b[0;34m\u001b[0m\u001b[0;34m\u001b[0m\u001b[0m\n\u001b[0m\u001b[1;32m    187\u001b[0m \u001b[0;34m\u001b[0m\u001b[0m\n\u001b[1;32m    188\u001b[0m         \u001b[0;32mreturn\u001b[0m \u001b[0mret\u001b[0m\u001b[0;34m\u001b[0m\u001b[0;34m\u001b[0m\u001b[0m\n",
      "\u001b[0;32m~/Desktop/hse_embeddings/env/lib/python3.8/site-packages/torch/nn/modules/rnn.py\u001b[0m in \u001b[0;36mflatten_parameters\u001b[0;34m(self)\u001b[0m\n\u001b[1;32m    170\u001b[0m                     \u001b[0;32mif\u001b[0m \u001b[0mself\u001b[0m\u001b[0;34m.\u001b[0m\u001b[0mproj_size\u001b[0m \u001b[0;34m>\u001b[0m \u001b[0;36m0\u001b[0m\u001b[0;34m:\u001b[0m\u001b[0;34m\u001b[0m\u001b[0;34m\u001b[0m\u001b[0m\n\u001b[1;32m    171\u001b[0m                         \u001b[0mnum_weights\u001b[0m \u001b[0;34m+=\u001b[0m \u001b[0;36m1\u001b[0m\u001b[0;34m\u001b[0m\u001b[0;34m\u001b[0m\u001b[0m\n\u001b[0;32m--> 172\u001b[0;31m                     torch._cudnn_rnn_flatten_weight(\n\u001b[0m\u001b[1;32m    173\u001b[0m                         \u001b[0mself\u001b[0m\u001b[0;34m.\u001b[0m\u001b[0m_flat_weights\u001b[0m\u001b[0;34m,\u001b[0m \u001b[0mnum_weights\u001b[0m\u001b[0;34m,\u001b[0m\u001b[0;34m\u001b[0m\u001b[0;34m\u001b[0m\u001b[0m\n\u001b[1;32m    174\u001b[0m                         \u001b[0mself\u001b[0m\u001b[0;34m.\u001b[0m\u001b[0minput_size\u001b[0m\u001b[0;34m,\u001b[0m \u001b[0mrnn\u001b[0m\u001b[0;34m.\u001b[0m\u001b[0mget_cudnn_mode\u001b[0m\u001b[0;34m(\u001b[0m\u001b[0mself\u001b[0m\u001b[0;34m.\u001b[0m\u001b[0mmode\u001b[0m\u001b[0;34m)\u001b[0m\u001b[0;34m,\u001b[0m\u001b[0;34m\u001b[0m\u001b[0;34m\u001b[0m\u001b[0m\n",
      "\u001b[0;31mRuntimeError\u001b[0m: cuDNN error: CUDNN_STATUS_NOT_INITIALIZED"
     ]
    }
   ],
   "source": [
    "num_input_dim = sequences[0].size(-1)\n",
    "cat_vocab_sizes = [204]\n",
    "\n",
    "encoder = Encoder(\n",
    "    numerical_input_dim=num_input_dim,\n",
    "    embedding_dim=EMBEDDING_DIM,\n",
    "    cat_vocab_sizes=cat_vocab_sizes \n",
    ")\n",
    "encoder.to(device);"
   ]
  },
  {
   "cell_type": "code",
   "execution_count": null,
   "metadata": {
    "id": "zAtga1V14KOS"
   },
   "outputs": [],
   "source": [
    "LR = 0.003"
   ]
  },
  {
   "cell_type": "code",
   "execution_count": null,
   "metadata": {
    "id": "8YuKXKv_zEX3"
   },
   "outputs": [],
   "source": [
    "optimizer = optim.Adam(encoder.parameters(), lr=LR)"
   ]
  },
  {
   "cell_type": "code",
   "execution_count": null,
   "metadata": {
    "id": "KzpMLdIMyUWp"
   },
   "outputs": [],
   "source": [
    "distance = distances.CosineSimilarity()\n",
    "reducer = reducers.ThresholdReducer(low = 0) # basically, returns average\n",
    "loss_func = losses.TripletMarginLoss(margin = 0.4, distance = distance, reducer = reducer)\n",
    "mining_func = miners.TripletMarginMiner(margin = 0.4, distance = distance, type_of_triplets = \"semihard\")\n",
    "\n",
    "# sota\n",
    "# loss_func = losses.ArcFaceLoss(\n",
    "#     num_classes=len(targets), embedding_size=EMBEDDING_DIM,\n",
    "#     distance=distance).to(torch.device('cuda')) # not sure why we need to move it to cuda"
   ]
  },
  {
   "cell_type": "code",
   "execution_count": null,
   "metadata": {
    "id": "7hGQhrXf1g8G"
   },
   "outputs": [],
   "source": [
    "NUM_EPOCHS = 60"
   ]
  },
  {
   "cell_type": "code",
   "execution_count": null,
   "metadata": {
    "colab": {
     "base_uri": "https://localhost:8080/",
     "height": 1000,
     "referenced_widgets": [
      "cebd7b4956184d8bb242034b15599c2f",
      "4d6571758aef44a290487437569d1aba",
      "0e9b762c7eeb4feb95b40049b49e6b0d",
      "29469754152243c587e3494987210d6c",
      "3353f6fdcc744fff9c5faeb05ef31441",
      "7712edb5bb27459cb00d8eb61c18f2f5",
      "7a70dcbc2c544ab3aa73626c8a79eb9b",
      "9e8869da2e444665a771085af1f6d7f0"
     ]
    },
    "id": "-UX0iDalo6_G",
    "outputId": "43123ca2-f54d-4cb4-b8f0-ceb0ed586f60"
   },
   "outputs": [],
   "source": [
    "train_losses = []\n",
    "train_accuracy = []\n",
    "val_losses = []\n",
    "val_accuracy = []\n",
    "\n",
    "for epoch in tqdm(range(NUM_EPOCHS)):\n",
    "    encoder.train()\n",
    "    epoch_losses = []\n",
    "    for batch_idx, (sequences, labels) in enumerate(dataloader):\n",
    "        n, c = sequences[0], sequences[1]\n",
    "        n = n.to(device)\n",
    "        c = c.to(device)\n",
    "\n",
    "        labels = torch.repeat_interleave(labels, NUM_OF_SUBSEQUENCES)\n",
    "        labels = labels.to(device)\n",
    "\n",
    "        embeddings = encoder(n, c)\n",
    "        indices_tuple = mining_func(embeddings, labels)\n",
    "        loss = loss_func(embeddings, labels, indices_tuple)\n",
    "\n",
    "        optimizer.zero_grad()\n",
    "        loss.backward()\n",
    "        optimizer.step()\n",
    "\n",
    "        epoch_losses.append(loss.item())\n",
    "\n",
    "    epoch_loss = torch.tensor(epoch_losses).mean()\n",
    "    train_losses.append(epoch_loss)\n",
    "\n",
    "    print(\"Epoch {} Loss = {}\".format(epoch, epoch_loss))"
   ]
  },
  {
   "cell_type": "code",
   "execution_count": null,
   "metadata": {
    "colab": {
     "base_uri": "https://localhost:8080/",
     "height": 394
    },
    "id": "YMCPUQLE8Uf1",
    "outputId": "5eb9fa5b-a0c4-4642-c27b-cc2de0847891"
   },
   "outputs": [],
   "source": [
    "fig, axs = plt.subplots(figsize=(12, 6))\n",
    "\n",
    "plt.plot(train_losses, label='train')\n",
    "plt.xlabel('iter')\n",
    "plt.ylabel('loss');"
   ]
  },
  {
   "cell_type": "code",
   "execution_count": null,
   "metadata": {
    "id": "7ZCHvgDf6LWx"
   },
   "outputs": [],
   "source": []
  },
  {
   "cell_type": "code",
   "execution_count": null,
   "metadata": {
    "id": "rKyKZ37ErhV5"
   },
   "outputs": [],
   "source": [
    "dataset.save_client_to_indices()"
   ]
  },
  {
   "cell_type": "code",
   "execution_count": null,
   "metadata": {
    "id": "SB-REolC7ptQ"
   },
   "outputs": [],
   "source": [
    "!zip client_to_indices.zip client_to_indices.p"
   ]
  },
  {
   "cell_type": "code",
   "execution_count": null,
   "metadata": {
    "id": "gB5Dr4Kv7ptR"
   },
   "outputs": [],
   "source": [
    "!cp client_to_indices.zip '/content/gdrive/MyDrive/courses/hse/3/project/data age group/client_to_indices.zip'"
   ]
  },
  {
   "cell_type": "markdown",
   "metadata": {
    "id": "4z65ccdO6_x-"
   },
   "source": [
    "# Train classifier"
   ]
  },
  {
   "cell_type": "code",
   "execution_count": null,
   "metadata": {
    "id": "13xk4tVX7mHk"
   },
   "outputs": [],
   "source": [
    "# dataset for classifier\n",
    "# probably can make better\n",
    "import pickle\n",
    "SUBSEQUENCE_LENGTH = 90\n",
    "\n",
    "class ClfAgeDataset(torch.utils.data.Dataset):\n",
    "    def __init__(\n",
    "        self,\n",
    "        seq_length=SUBSEQUENCE_LENGTH,\n",
    "        root=Path('./data/')\n",
    "    ):\n",
    "        super().__init__()\n",
    "        raw_df = pd.read_csv(root/'transactions_train.csv')\n",
    "\n",
    "        # NOTE: remapping client_ids to indices\n",
    "        self.idx2client = raw_df['client_id'].unique()\n",
    "\n",
    "        raw_df['client_id'] = raw_df['client_id'].map({v: k for k, v in enumerate(self.idx2client)})\n",
    "        \n",
    "        self.df = process_transactions(raw_df)\n",
    "        self.df = self.df.sort_values(['client_id', 'trans_date'])\n",
    "\n",
    "        self.numerical = torch.from_numpy(self.df.drop('client_id', axis=1).to_numpy()).type(torch.float32)\n",
    "        self.categorical = torch.from_numpy(self.df[['small_group']].to_numpy()).type(torch.int)\n",
    "\n",
    "        target_df = pd.read_csv(root/'train_target.csv')\n",
    "        target_df['client_id'] = target_df['client_id'].map({v: k for k, v in enumerate(self.idx2client)})\n",
    "        self.target_df = target_df\n",
    "\n",
    "        self.targets = self.target_df.sort_values('client_id')['bins'].to_numpy()\n",
    "\n",
    "    def __getitem__(self, idx: int):\n",
    "        # returns ((numerical, categorical), target_bin)\n",
    "        n, c = self.get_sequence(idx)\n",
    "        \n",
    "        seq_len = len(n)\n",
    "        start_index = np.random.randint(0, seq_len-SUBSEQUENCE_LENGTH+1)\n",
    "        end_index = start_index + SUBSEQUENCE_LENGTH\n",
    "        n = n[start_index:end_index]\n",
    "        c = c[start_index:end_index]\n",
    "\n",
    "        return (n, c), self.targets[idx]\n",
    "\n",
    "    def __len__(self):\n",
    "        return len(self.client_to_indices)\n",
    "    \n",
    "    def get_sequence(self, idx):\n",
    "        s, e = self.client_to_indices[idx]\n",
    "        n = self.numerical[s:e]\n",
    "        c = self.categorical[s:e]\n",
    "        return n, c\n",
    "    \n",
    "    def build_client_to_indices(self):\n",
    "        self.client_to_indices = {} # tuple of (index start, index after end)\n",
    "        # so that numpy_array[start:end] yields the sequence\n",
    "        current = dataset.df.iloc[0, 0]\n",
    "        start_idx = 0\n",
    "        print('getting indices', len(self.df))\n",
    "        for i, (_, r) in tqdm(enumerate(self.df.iterrows())):\n",
    "            if current != r['client_id']:\n",
    "                self.client_to_indices[current] = (start_idx, i)\n",
    "                start_idx = i\n",
    "                current = r['client_id']\n",
    "        \n",
    "        self.client_to_indices[current] = (start_idx, i+1)\n",
    "    \n",
    "    def load_client_to_indices(self):\n",
    "        self.client_to_indices = pickle.load(open(\"client_to_indices.p\", \"rb\"))\n",
    "    def save_client_to_indices(self):\n",
    "        pickle.dump(self.client_to_indices, open(\"client_to_indices.p\", \"wb\"))"
   ]
  },
  {
   "cell_type": "code",
   "execution_count": null,
   "metadata": {
    "id": "VxtdFi3i7KT0"
   },
   "outputs": [],
   "source": [
    "# freeze encoder\n",
    "for param in encoder.parameters():\n",
    "    param.requires_grad = False\n",
    "\n",
    "encoder.eval();"
   ]
  },
  {
   "cell_type": "code",
   "execution_count": null,
   "metadata": {
    "id": "ZZyL5MiF-Ufm"
   },
   "outputs": [],
   "source": [
    "clfdataset = ClfAgeDataset()"
   ]
  },
  {
   "cell_type": "code",
   "execution_count": null,
   "metadata": {
    "id": "nW8khMXN-STb"
   },
   "outputs": [],
   "source": [
    "clfdataset.load_client_to_indices()"
   ]
  },
  {
   "cell_type": "code",
   "execution_count": null,
   "metadata": {
    "id": "YTC-z_VJJvsi"
   },
   "outputs": [],
   "source": [
    "from sklearn.model_selection import train_test_split"
   ]
  },
  {
   "cell_type": "code",
   "execution_count": null,
   "metadata": {
    "id": "emb8HyWh5JX_"
   },
   "outputs": [],
   "source": [
    "torch.manual_seed(0)\n",
    "random.seed(0)\n",
    "np.random.seed(0)\n",
    "\n",
    "targets = clfdataset.targets\n",
    "\n",
    "train_idx, test_idx= train_test_split(\n",
    "    np.arange(len(targets)),\n",
    "    test_size=0.3,\n",
    "    shuffle=True,\n",
    "    stratify=targets,\n",
    "    random_state=228\n",
    ")\n",
    "\n",
    "train_sampler = torch.utils.data.SubsetRandomSampler(train_idx)\n",
    "test_sampler = torch.utils.data.SubsetRandomSampler(test_idx)\n",
    "\n",
    "trainloader = torch.utils.data.DataLoader(\n",
    "    clfdataset, batch_size=BATCH_SIZE,\n",
    "    sampler=train_sampler)\n",
    "testloader = torch.utils.data.DataLoader(\n",
    "    clfdataset, batch_size=BATCH_SIZE,\n",
    "    sampler=test_sampler)"
   ]
  },
  {
   "cell_type": "code",
   "execution_count": null,
   "metadata": {
    "id": "zpIAXVW8-lW5"
   },
   "outputs": [],
   "source": [
    "clfdataloader = torch.utils.data.DataLoader(\n",
    "    clfdataset, batch_size=BATCH_SIZE,\n",
    "    num_workers=0,\n",
    ")"
   ]
  },
  {
   "cell_type": "code",
   "execution_count": null,
   "metadata": {
    "colab": {
     "base_uri": "https://localhost:8080/"
    },
    "id": "2d3Qdc-J3DSY",
    "outputId": "e12177ed-96f2-4e87-f516-96b272081039"
   },
   "outputs": [],
   "source": [
    "# check\n",
    "dataiter = iter(clfdataloader)\n",
    "sequences, labels = dataiter.next()\n",
    "\n",
    "# should be BATCH_SIZExSUBSEQUENCE_LENGTHx(num_features)\n",
    "sequences[0].shape, sequences[1].shape"
   ]
  },
  {
   "cell_type": "code",
   "execution_count": null,
   "metadata": {
    "id": "e1ScCyO8-lW6"
   },
   "outputs": [],
   "source": [
    "decoder = Decoder(input_dim=EMBEDDING_DIM)\n",
    "decoder.to(device);"
   ]
  },
  {
   "cell_type": "code",
   "execution_count": null,
   "metadata": {
    "id": "C7-X1GRsAK7x"
   },
   "outputs": [],
   "source": [
    "SCHEDULER_EPOCHS = 2"
   ]
  },
  {
   "cell_type": "code",
   "execution_count": null,
   "metadata": {
    "id": "6seFuT18-lW6"
   },
   "outputs": [],
   "source": [
    "optimizer = optim.Adam(decoder.parameters(), lr=LR)\n",
    "criterion = nn.CrossEntropyLoss()\n",
    "scheduler = optim.lr_scheduler.ReduceLROnPlateau(\n",
    "    optimizer,\n",
    "    patience=SCHEDULER_EPOCHS,\n",
    ")"
   ]
  },
  {
   "cell_type": "code",
   "execution_count": null,
   "metadata": {
    "id": "XnbOSild-lW7"
   },
   "outputs": [],
   "source": [
    "NUM_EPOCHS = 40"
   ]
  },
  {
   "cell_type": "code",
   "execution_count": null,
   "metadata": {
    "colab": {
     "base_uri": "https://localhost:8080/",
     "height": 1000,
     "referenced_widgets": [
      "ea0ca8fe84ef467682d81a0bd8c93714",
      "057117c006eb4006b785093e744cb4fc",
      "03b27f4042a74589a00fed6a0225044a",
      "e79f4098d4604f929f832a8691d6f3f2",
      "17a7e38c942b4305849a85c227483544",
      "294027f423094c2d8cc6878bdd7c0f08",
      "0560cd99580a4ac3a984cf6ada4dd62d",
      "4172bb0dff224eb79831e4e76030eee7"
     ]
    },
    "id": "-aIWfYlL-lW7",
    "outputId": "94e77488-cfb7-40b5-8e73-1536cb02961f"
   },
   "outputs": [],
   "source": [
    "train_losses = []\n",
    "train_accuracy = []\n",
    "val_losses = []\n",
    "val_accuracy = []\n",
    "\n",
    "for epoch in tqdm(range(NUM_EPOCHS)):\n",
    "    decoder.train()\n",
    "    correct = 0\n",
    "    epoch_losses = []\n",
    "    for batch_idx, (sequences, labels) in enumerate(trainloader):\n",
    "        n, c = sequences[0], sequences[1]\n",
    "        n = n.to(device)\n",
    "        c = c.to(device)\n",
    "        labels = labels.to(device)\n",
    "\n",
    "        embeddings = encoder(n, c)\n",
    "        outputs = decoder(embeddings)\n",
    "        loss = criterion(outputs, labels)\n",
    "\n",
    "        optimizer.zero_grad()\n",
    "        loss.backward()\n",
    "        optimizer.step()\n",
    "\n",
    "        pred_labels = torch.argmax(outputs, dim=1)\n",
    "        correct += sum(labels == pred_labels)\n",
    "        epoch_losses.append(loss.item())\n",
    "\n",
    "    train_acc = correct / (BATCH_SIZE * len(trainloader))\n",
    "    epoch_loss = torch.tensor(epoch_losses).mean()\n",
    "    train_losses.append(epoch_loss)\n",
    "    train_accuracy.append(train_acc)\n",
    "\n",
    "    decoder.eval()\n",
    "    correct = 0\n",
    "    epoch_val_losses = []\n",
    "    for batch_idx, (sequences, labels) in enumerate(testloader):\n",
    "        n, c = sequences[0], sequences[1]\n",
    "        n = n.to(device)\n",
    "        c = c.to(device)\n",
    "        labels = labels.to(device)\n",
    "\n",
    "        with torch.no_grad():\n",
    "            embeddings = encoder(n, c)\n",
    "            outputs = decoder(embeddings)\n",
    "            loss = criterion(outputs, labels)\n",
    "            epoch_val_losses.append(loss.item())\n",
    "\n",
    "            pred_labels = torch.argmax(outputs, dim=1)\n",
    "            correct += sum(labels == pred_labels)\n",
    "\n",
    "    epoch_val_loss = torch.tensor(epoch_val_losses).mean()\n",
    "\n",
    "    scheduler.step(epoch_val_loss)\n",
    "\n",
    "    val_losses.append(epoch_val_loss)\n",
    "\n",
    "    val_acc = correct / (BATCH_SIZE * len(testloader))\n",
    "    val_accuracy.append(val_acc)\n",
    "    print(f'Epoch {epoch}, train acc: {train_acc}, val acc: {val_acc}')\n",
    "    print(f'train loss: {epoch_loss}; val loss: {epoch_val_loss}')"
   ]
  },
  {
   "cell_type": "code",
   "execution_count": null,
   "metadata": {
    "colab": {
     "base_uri": "https://localhost:8080/",
     "height": 394
    },
    "id": "VBZFVNs4Vb1D",
    "outputId": "85515c64-a2bf-4977-d8e7-c7d485c2ce34"
   },
   "outputs": [],
   "source": [
    "fig, axs = plt.subplots(figsize=(12, 6))\n",
    "\n",
    "plt.subplot(1, 2, 1)\n",
    "plt.plot(train_losses, label='train')\n",
    "plt.plot(val_losses, label='validation')\n",
    "plt.xlabel('iter')\n",
    "plt.ylabel('loss')\n",
    "\n",
    "plt.subplot(1, 2, 2)\n",
    "plt.xlabel('iter')\n",
    "plt.plot(train_accuracy, label='train')\n",
    "plt.plot(val_accuracy, label='validation')\n",
    "plt.ylabel('accuracy');"
   ]
  },
  {
   "cell_type": "code",
   "execution_count": null,
   "metadata": {
    "id": "61vIaBWf7KQr"
   },
   "outputs": [],
   "source": []
  },
  {
   "cell_type": "code",
   "execution_count": null,
   "metadata": {
    "id": "_0nYia4y6_lF"
   },
   "outputs": [],
   "source": []
  },
  {
   "cell_type": "markdown",
   "metadata": {
    "id": "3F5gbEeMo68i"
   },
   "source": [
    "# Predict (old)"
   ]
  },
  {
   "cell_type": "code",
   "execution_count": null,
   "metadata": {
    "id": "QejRaOGlWJA1"
   },
   "outputs": [],
   "source": [
    "m = encoder.to('cpu').eval()"
   ]
  },
  {
   "cell_type": "code",
   "execution_count": null,
   "metadata": {
    "id": "Mtzi14NIFynK"
   },
   "outputs": [],
   "source": [
    "# check\n",
    "dataiter = iter(dataloader)\n",
    "sequences, labels = dataiter.next()\n",
    "\n",
    "# should be BATCH_SIZExNUM_OF_SEQUNCESxSUBSEQUENCE_LENGTHx(num_features)\n",
    "sequences.shape"
   ]
  },
  {
   "cell_type": "code",
   "execution_count": null,
   "metadata": {
    "id": "_59ULTscHfAH"
   },
   "outputs": [],
   "source": [
    "embeddings = torch.zeros((1, EMBEDDING_DIM))[1:]\n",
    "\n",
    "# probably can make it faster if use a batch of clients\n",
    "for client_id in tqdm(sorted(dataset.targets)):\n",
    "    n, c = dataset.get_sequence(client_id)\n",
    "\n",
    "    with torch.no_grad():\n",
    "        embedding = m(n, c)\n",
    "        # encoded_events = m.event_encoder(n, c)\n",
    "        # encoded_events = encoded_events.view(1, -1, EMBEDDING_DIM)\n",
    "        # encoded_events = torch.transpose(encoded_events, 0, 1) # so that its (seq_len, batch, input_size)\n",
    "        # embedding = m.sequence_encoder(encoded_events)[0][0]\n",
    "        embeddings = torch.cat((embeddings, embedding))\n",
    "\n",
    "embeddings.shape"
   ]
  },
  {
   "cell_type": "code",
   "execution_count": null,
   "metadata": {
    "id": "13ohWlD-JzFH"
   },
   "outputs": [],
   "source": [
    "X = embeddings.numpy()\n",
    "\n",
    "# y = dataset.target_df[dataset.target_df['client_id'].isin(dataset.clients)].sort_values('client_id')['bins'].to_numpy()\n",
    "\n",
    "y = dataset.target_df.sort_values('client_id')['bins'].to_numpy()"
   ]
  },
  {
   "cell_type": "code",
   "execution_count": null,
   "metadata": {
    "id": "-a99xITc9qXb"
   },
   "outputs": [],
   "source": [
    "decoder = Decoder(input_dim=EMBEDDING_DIM)\n",
    "decoder.to(device);"
   ]
  },
  {
   "cell_type": "code",
   "execution_count": null,
   "metadata": {
    "id": "s6n6QRL79qUL"
   },
   "outputs": [],
   "source": []
  },
  {
   "cell_type": "code",
   "execution_count": null,
   "metadata": {
    "id": "L5jmrerQ9qRg"
   },
   "outputs": [],
   "source": []
  },
  {
   "cell_type": "code",
   "execution_count": null,
   "metadata": {
    "id": "Ca5R3rL7Kxem"
   },
   "outputs": [],
   "source": [
    "from catboost import CatBoostClassifier, Pool\n",
    "from catboost import cv\n",
    "from sklearn.model_selection import train_test_split"
   ]
  },
  {
   "cell_type": "code",
   "execution_count": null,
   "metadata": {
    "id": "D38VYwhXKq_P"
   },
   "outputs": [],
   "source": [
    "X_train, X_test, y_train, y_test = train_test_split(\n",
    "    X, y, test_size=0.33, random_state=228, stratify=y)\n",
    "\n",
    "train_pool = Pool(X_train, y_train)\n",
    "test_pool = Pool(X_test, y_test)"
   ]
  },
  {
   "cell_type": "code",
   "execution_count": null,
   "metadata": {
    "id": "YV_oTIQKNsuq"
   },
   "outputs": [],
   "source": [
    "model = CatBoostClassifier(\n",
    "    iterations=500,\n",
    "    depth=3,\n",
    "    learning_rate=0.5,\n",
    "    verbose=True,\n",
    "    eval_metric='Accuracy',\n",
    "    auto_class_weights='Balanced',\n",
    "    random_state=228,\n",
    ")"
   ]
  },
  {
   "cell_type": "code",
   "execution_count": null,
   "metadata": {
    "id": "Fc3FHXYyK8yh"
   },
   "outputs": [],
   "source": [
    "model.fit(train_pool, eval_set=test_pool)"
   ]
  },
  {
   "cell_type": "code",
   "execution_count": null,
   "metadata": {
    "id": "63NEh9tOkAkp"
   },
   "outputs": [],
   "source": [
    "train_acc = model.evals_result_['learn']['Accuracy']\n",
    "valid_acc = model.evals_result_['validation']['Accuracy']\n",
    "\n",
    "plt.plot(train_acc, label='train')\n",
    "plt.plot(valid_acc, label='valid')\n",
    "plt.xlabel('iter')\n",
    "plt.ylabel('accuracy')\n",
    "plt.legend();"
   ]
  },
  {
   "cell_type": "code",
   "execution_count": null,
   "metadata": {
    "id": "dLfhuxFdkAiV"
   },
   "outputs": [],
   "source": []
  },
  {
   "cell_type": "code",
   "execution_count": null,
   "metadata": {
    "id": "Gq_9OK9INyco"
   },
   "outputs": [],
   "source": [
    "sum(np.squeeze(model.predict(X_test)) == y_test) / len(y_test)"
   ]
  },
  {
   "cell_type": "code",
   "execution_count": null,
   "metadata": {
    "id": "DDaYs-_dOCBh"
   },
   "outputs": [],
   "source": []
  },
  {
   "cell_type": "code",
   "execution_count": null,
   "metadata": {
    "id": "G-LDs35tq5Ff"
   },
   "outputs": [],
   "source": []
  }
 ],
 "metadata": {
  "accelerator": "GPU",
  "colab": {
   "collapsed_sections": [],
   "name": "age group reworked.ipynb",
   "provenance": [],
   "toc_visible": true
  },
  "kernelspec": {
   "display_name": "Python 3",
   "language": "python",
   "name": "python3"
  },
  "language_info": {
   "codemirror_mode": {
    "name": "ipython",
    "version": 3
   },
   "file_extension": ".py",
   "mimetype": "text/x-python",
   "name": "python",
   "nbconvert_exporter": "python",
   "pygments_lexer": "ipython3",
   "version": "3.8.3"
  },
  "toc": {
   "base_numbering": 1,
   "nav_menu": {},
   "number_sections": true,
   "sideBar": true,
   "skip_h1_title": false,
   "title_cell": "Table of Contents",
   "title_sidebar": "Contents",
   "toc_cell": false,
   "toc_position": {},
   "toc_section_display": true,
   "toc_window_display": false
  },
  "widgets": {
   "application/vnd.jupyter.widget-state+json": {
    "03b27f4042a74589a00fed6a0225044a": {
     "model_module": "@jupyter-widgets/controls",
     "model_name": "FloatProgressModel",
     "state": {
      "_dom_classes": [],
      "_model_module": "@jupyter-widgets/controls",
      "_model_module_version": "1.5.0",
      "_model_name": "FloatProgressModel",
      "_view_count": null,
      "_view_module": "@jupyter-widgets/controls",
      "_view_module_version": "1.5.0",
      "_view_name": "ProgressView",
      "bar_style": "success",
      "description": "100%",
      "description_tooltip": null,
      "layout": "IPY_MODEL_294027f423094c2d8cc6878bdd7c0f08",
      "max": 40,
      "min": 0,
      "orientation": "horizontal",
      "style": "IPY_MODEL_17a7e38c942b4305849a85c227483544",
      "value": 40
     }
    },
    "0560cd99580a4ac3a984cf6ada4dd62d": {
     "model_module": "@jupyter-widgets/controls",
     "model_name": "DescriptionStyleModel",
     "state": {
      "_model_module": "@jupyter-widgets/controls",
      "_model_module_version": "1.5.0",
      "_model_name": "DescriptionStyleModel",
      "_view_count": null,
      "_view_module": "@jupyter-widgets/base",
      "_view_module_version": "1.2.0",
      "_view_name": "StyleView",
      "description_width": ""
     }
    },
    "057117c006eb4006b785093e744cb4fc": {
     "model_module": "@jupyter-widgets/base",
     "model_name": "LayoutModel",
     "state": {
      "_model_module": "@jupyter-widgets/base",
      "_model_module_version": "1.2.0",
      "_model_name": "LayoutModel",
      "_view_count": null,
      "_view_module": "@jupyter-widgets/base",
      "_view_module_version": "1.2.0",
      "_view_name": "LayoutView",
      "align_content": null,
      "align_items": null,
      "align_self": null,
      "border": null,
      "bottom": null,
      "display": null,
      "flex": null,
      "flex_flow": null,
      "grid_area": null,
      "grid_auto_columns": null,
      "grid_auto_flow": null,
      "grid_auto_rows": null,
      "grid_column": null,
      "grid_gap": null,
      "grid_row": null,
      "grid_template_areas": null,
      "grid_template_columns": null,
      "grid_template_rows": null,
      "height": null,
      "justify_content": null,
      "justify_items": null,
      "left": null,
      "margin": null,
      "max_height": null,
      "max_width": null,
      "min_height": null,
      "min_width": null,
      "object_fit": null,
      "object_position": null,
      "order": null,
      "overflow": null,
      "overflow_x": null,
      "overflow_y": null,
      "padding": null,
      "right": null,
      "top": null,
      "visibility": null,
      "width": null
     }
    },
    "0e9b762c7eeb4feb95b40049b49e6b0d": {
     "model_module": "@jupyter-widgets/controls",
     "model_name": "FloatProgressModel",
     "state": {
      "_dom_classes": [],
      "_model_module": "@jupyter-widgets/controls",
      "_model_module_version": "1.5.0",
      "_model_name": "FloatProgressModel",
      "_view_count": null,
      "_view_module": "@jupyter-widgets/controls",
      "_view_module_version": "1.5.0",
      "_view_name": "ProgressView",
      "bar_style": "success",
      "description": "100%",
      "description_tooltip": null,
      "layout": "IPY_MODEL_7712edb5bb27459cb00d8eb61c18f2f5",
      "max": 150,
      "min": 0,
      "orientation": "horizontal",
      "style": "IPY_MODEL_3353f6fdcc744fff9c5faeb05ef31441",
      "value": 150
     }
    },
    "17a7e38c942b4305849a85c227483544": {
     "model_module": "@jupyter-widgets/controls",
     "model_name": "ProgressStyleModel",
     "state": {
      "_model_module": "@jupyter-widgets/controls",
      "_model_module_version": "1.5.0",
      "_model_name": "ProgressStyleModel",
      "_view_count": null,
      "_view_module": "@jupyter-widgets/base",
      "_view_module_version": "1.2.0",
      "_view_name": "StyleView",
      "bar_color": null,
      "description_width": "initial"
     }
    },
    "294027f423094c2d8cc6878bdd7c0f08": {
     "model_module": "@jupyter-widgets/base",
     "model_name": "LayoutModel",
     "state": {
      "_model_module": "@jupyter-widgets/base",
      "_model_module_version": "1.2.0",
      "_model_name": "LayoutModel",
      "_view_count": null,
      "_view_module": "@jupyter-widgets/base",
      "_view_module_version": "1.2.0",
      "_view_name": "LayoutView",
      "align_content": null,
      "align_items": null,
      "align_self": null,
      "border": null,
      "bottom": null,
      "display": null,
      "flex": null,
      "flex_flow": null,
      "grid_area": null,
      "grid_auto_columns": null,
      "grid_auto_flow": null,
      "grid_auto_rows": null,
      "grid_column": null,
      "grid_gap": null,
      "grid_row": null,
      "grid_template_areas": null,
      "grid_template_columns": null,
      "grid_template_rows": null,
      "height": null,
      "justify_content": null,
      "justify_items": null,
      "left": null,
      "margin": null,
      "max_height": null,
      "max_width": null,
      "min_height": null,
      "min_width": null,
      "object_fit": null,
      "object_position": null,
      "order": null,
      "overflow": null,
      "overflow_x": null,
      "overflow_y": null,
      "padding": null,
      "right": null,
      "top": null,
      "visibility": null,
      "width": null
     }
    },
    "29469754152243c587e3494987210d6c": {
     "model_module": "@jupyter-widgets/controls",
     "model_name": "HTMLModel",
     "state": {
      "_dom_classes": [],
      "_model_module": "@jupyter-widgets/controls",
      "_model_module_version": "1.5.0",
      "_model_name": "HTMLModel",
      "_view_count": null,
      "_view_module": "@jupyter-widgets/controls",
      "_view_module_version": "1.5.0",
      "_view_name": "HTMLView",
      "description": "",
      "description_tooltip": null,
      "layout": "IPY_MODEL_9e8869da2e444665a771085af1f6d7f0",
      "placeholder": "​",
      "style": "IPY_MODEL_7a70dcbc2c544ab3aa73626c8a79eb9b",
      "value": " 150/150 [17:42&lt;00:00,  7.09s/it]"
     }
    },
    "3353f6fdcc744fff9c5faeb05ef31441": {
     "model_module": "@jupyter-widgets/controls",
     "model_name": "ProgressStyleModel",
     "state": {
      "_model_module": "@jupyter-widgets/controls",
      "_model_module_version": "1.5.0",
      "_model_name": "ProgressStyleModel",
      "_view_count": null,
      "_view_module": "@jupyter-widgets/base",
      "_view_module_version": "1.2.0",
      "_view_name": "StyleView",
      "bar_color": null,
      "description_width": "initial"
     }
    },
    "4172bb0dff224eb79831e4e76030eee7": {
     "model_module": "@jupyter-widgets/base",
     "model_name": "LayoutModel",
     "state": {
      "_model_module": "@jupyter-widgets/base",
      "_model_module_version": "1.2.0",
      "_model_name": "LayoutModel",
      "_view_count": null,
      "_view_module": "@jupyter-widgets/base",
      "_view_module_version": "1.2.0",
      "_view_name": "LayoutView",
      "align_content": null,
      "align_items": null,
      "align_self": null,
      "border": null,
      "bottom": null,
      "display": null,
      "flex": null,
      "flex_flow": null,
      "grid_area": null,
      "grid_auto_columns": null,
      "grid_auto_flow": null,
      "grid_auto_rows": null,
      "grid_column": null,
      "grid_gap": null,
      "grid_row": null,
      "grid_template_areas": null,
      "grid_template_columns": null,
      "grid_template_rows": null,
      "height": null,
      "justify_content": null,
      "justify_items": null,
      "left": null,
      "margin": null,
      "max_height": null,
      "max_width": null,
      "min_height": null,
      "min_width": null,
      "object_fit": null,
      "object_position": null,
      "order": null,
      "overflow": null,
      "overflow_x": null,
      "overflow_y": null,
      "padding": null,
      "right": null,
      "top": null,
      "visibility": null,
      "width": null
     }
    },
    "4d6571758aef44a290487437569d1aba": {
     "model_module": "@jupyter-widgets/base",
     "model_name": "LayoutModel",
     "state": {
      "_model_module": "@jupyter-widgets/base",
      "_model_module_version": "1.2.0",
      "_model_name": "LayoutModel",
      "_view_count": null,
      "_view_module": "@jupyter-widgets/base",
      "_view_module_version": "1.2.0",
      "_view_name": "LayoutView",
      "align_content": null,
      "align_items": null,
      "align_self": null,
      "border": null,
      "bottom": null,
      "display": null,
      "flex": null,
      "flex_flow": null,
      "grid_area": null,
      "grid_auto_columns": null,
      "grid_auto_flow": null,
      "grid_auto_rows": null,
      "grid_column": null,
      "grid_gap": null,
      "grid_row": null,
      "grid_template_areas": null,
      "grid_template_columns": null,
      "grid_template_rows": null,
      "height": null,
      "justify_content": null,
      "justify_items": null,
      "left": null,
      "margin": null,
      "max_height": null,
      "max_width": null,
      "min_height": null,
      "min_width": null,
      "object_fit": null,
      "object_position": null,
      "order": null,
      "overflow": null,
      "overflow_x": null,
      "overflow_y": null,
      "padding": null,
      "right": null,
      "top": null,
      "visibility": null,
      "width": null
     }
    },
    "7712edb5bb27459cb00d8eb61c18f2f5": {
     "model_module": "@jupyter-widgets/base",
     "model_name": "LayoutModel",
     "state": {
      "_model_module": "@jupyter-widgets/base",
      "_model_module_version": "1.2.0",
      "_model_name": "LayoutModel",
      "_view_count": null,
      "_view_module": "@jupyter-widgets/base",
      "_view_module_version": "1.2.0",
      "_view_name": "LayoutView",
      "align_content": null,
      "align_items": null,
      "align_self": null,
      "border": null,
      "bottom": null,
      "display": null,
      "flex": null,
      "flex_flow": null,
      "grid_area": null,
      "grid_auto_columns": null,
      "grid_auto_flow": null,
      "grid_auto_rows": null,
      "grid_column": null,
      "grid_gap": null,
      "grid_row": null,
      "grid_template_areas": null,
      "grid_template_columns": null,
      "grid_template_rows": null,
      "height": null,
      "justify_content": null,
      "justify_items": null,
      "left": null,
      "margin": null,
      "max_height": null,
      "max_width": null,
      "min_height": null,
      "min_width": null,
      "object_fit": null,
      "object_position": null,
      "order": null,
      "overflow": null,
      "overflow_x": null,
      "overflow_y": null,
      "padding": null,
      "right": null,
      "top": null,
      "visibility": null,
      "width": null
     }
    },
    "7a70dcbc2c544ab3aa73626c8a79eb9b": {
     "model_module": "@jupyter-widgets/controls",
     "model_name": "DescriptionStyleModel",
     "state": {
      "_model_module": "@jupyter-widgets/controls",
      "_model_module_version": "1.5.0",
      "_model_name": "DescriptionStyleModel",
      "_view_count": null,
      "_view_module": "@jupyter-widgets/base",
      "_view_module_version": "1.2.0",
      "_view_name": "StyleView",
      "description_width": ""
     }
    },
    "9e8869da2e444665a771085af1f6d7f0": {
     "model_module": "@jupyter-widgets/base",
     "model_name": "LayoutModel",
     "state": {
      "_model_module": "@jupyter-widgets/base",
      "_model_module_version": "1.2.0",
      "_model_name": "LayoutModel",
      "_view_count": null,
      "_view_module": "@jupyter-widgets/base",
      "_view_module_version": "1.2.0",
      "_view_name": "LayoutView",
      "align_content": null,
      "align_items": null,
      "align_self": null,
      "border": null,
      "bottom": null,
      "display": null,
      "flex": null,
      "flex_flow": null,
      "grid_area": null,
      "grid_auto_columns": null,
      "grid_auto_flow": null,
      "grid_auto_rows": null,
      "grid_column": null,
      "grid_gap": null,
      "grid_row": null,
      "grid_template_areas": null,
      "grid_template_columns": null,
      "grid_template_rows": null,
      "height": null,
      "justify_content": null,
      "justify_items": null,
      "left": null,
      "margin": null,
      "max_height": null,
      "max_width": null,
      "min_height": null,
      "min_width": null,
      "object_fit": null,
      "object_position": null,
      "order": null,
      "overflow": null,
      "overflow_x": null,
      "overflow_y": null,
      "padding": null,
      "right": null,
      "top": null,
      "visibility": null,
      "width": null
     }
    },
    "cebd7b4956184d8bb242034b15599c2f": {
     "model_module": "@jupyter-widgets/controls",
     "model_name": "HBoxModel",
     "state": {
      "_dom_classes": [],
      "_model_module": "@jupyter-widgets/controls",
      "_model_module_version": "1.5.0",
      "_model_name": "HBoxModel",
      "_view_count": null,
      "_view_module": "@jupyter-widgets/controls",
      "_view_module_version": "1.5.0",
      "_view_name": "HBoxView",
      "box_style": "",
      "children": [
       "IPY_MODEL_0e9b762c7eeb4feb95b40049b49e6b0d",
       "IPY_MODEL_29469754152243c587e3494987210d6c"
      ],
      "layout": "IPY_MODEL_4d6571758aef44a290487437569d1aba"
     }
    },
    "e79f4098d4604f929f832a8691d6f3f2": {
     "model_module": "@jupyter-widgets/controls",
     "model_name": "HTMLModel",
     "state": {
      "_dom_classes": [],
      "_model_module": "@jupyter-widgets/controls",
      "_model_module_version": "1.5.0",
      "_model_name": "HTMLModel",
      "_view_count": null,
      "_view_module": "@jupyter-widgets/controls",
      "_view_module_version": "1.5.0",
      "_view_name": "HTMLView",
      "description": "",
      "description_tooltip": null,
      "layout": "IPY_MODEL_4172bb0dff224eb79831e4e76030eee7",
      "placeholder": "​",
      "style": "IPY_MODEL_0560cd99580a4ac3a984cf6ada4dd62d",
      "value": " 40/40 [01:45&lt;00:00,  2.64s/it]"
     }
    },
    "ea0ca8fe84ef467682d81a0bd8c93714": {
     "model_module": "@jupyter-widgets/controls",
     "model_name": "HBoxModel",
     "state": {
      "_dom_classes": [],
      "_model_module": "@jupyter-widgets/controls",
      "_model_module_version": "1.5.0",
      "_model_name": "HBoxModel",
      "_view_count": null,
      "_view_module": "@jupyter-widgets/controls",
      "_view_module_version": "1.5.0",
      "_view_name": "HBoxView",
      "box_style": "",
      "children": [
       "IPY_MODEL_03b27f4042a74589a00fed6a0225044a",
       "IPY_MODEL_e79f4098d4604f929f832a8691d6f3f2"
      ],
      "layout": "IPY_MODEL_057117c006eb4006b785093e744cb4fc"
     }
    }
   }
  }
 },
 "nbformat": 4,
 "nbformat_minor": 1
}
