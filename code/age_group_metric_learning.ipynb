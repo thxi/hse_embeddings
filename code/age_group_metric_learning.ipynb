{
 "cells": [
  {
   "cell_type": "code",
   "execution_count": 1,
   "metadata": {
    "ExecuteTime": {
     "end_time": "2021-05-04T20:32:16.401161Z",
     "start_time": "2021-05-04T20:32:15.362266Z"
    },
    "id": "thKgYQF3URYw"
   },
   "outputs": [],
   "source": [
    "import pandas as pd\n",
    "import numpy as np\n",
    "import matplotlib.pyplot as plt\n",
    "import seaborn as sns\n",
    "\n",
    "sns.set()\n",
    "\n",
    "sns.set_style(\"whitegrid\", {'axes.grid' : False})\n",
    "\n",
    "# from tqdm.notebook import tqdm\n",
    "from tqdm.auto import tqdm"
   ]
  },
  {
   "cell_type": "code",
   "execution_count": 2,
   "metadata": {
    "ExecuteTime": {
     "end_time": "2021-05-04T20:32:16.970338Z",
     "start_time": "2021-05-04T20:32:16.959370Z"
    }
   },
   "outputs": [],
   "source": [
    "%load_ext autoreload\n",
    "%autoreload 2"
   ]
  },
  {
   "cell_type": "code",
   "execution_count": 3,
   "metadata": {
    "ExecuteTime": {
     "end_time": "2021-05-04T20:32:17.824516Z",
     "start_time": "2021-05-04T20:32:17.433893Z"
    },
    "colab": {
     "base_uri": "https://localhost:8080/"
    },
    "id": "UBFRCZowUWGt",
    "outputId": "09cfb931-6126-4fcf-f0b6-d6abfa0d4ba5"
   },
   "outputs": [
    {
     "data": {
      "text/plain": [
       "True"
      ]
     },
     "execution_count": 3,
     "metadata": {},
     "output_type": "execute_result"
    }
   ],
   "source": [
    "import torch\n",
    "torch.cuda.is_available()"
   ]
  },
  {
   "cell_type": "code",
   "execution_count": 4,
   "metadata": {
    "ExecuteTime": {
     "end_time": "2021-05-04T20:32:18.884880Z",
     "start_time": "2021-05-04T20:32:18.874417Z"
    },
    "colab": {
     "base_uri": "https://localhost:8080/"
    },
    "id": "Q-kXTk-bNPzx",
    "outputId": "7a991cca-3b7a-4ec3-9fa8-ee0b5fce2537"
   },
   "outputs": [
    {
     "name": "stdout",
     "output_type": "stream",
     "text": [
      "cuda:0\n"
     ]
    }
   ],
   "source": [
    "device = torch.device(\"cuda:0\" if torch.cuda.is_available() else \"cpu\")\n",
    "\n",
    "# Assuming that we are on a CUDA machine, this should print a CUDA device:\n",
    "\n",
    "print(device)"
   ]
  },
  {
   "cell_type": "code",
   "execution_count": 33,
   "metadata": {
    "ExecuteTime": {
     "end_time": "2021-05-04T20:47:30.104830Z",
     "start_time": "2021-05-04T20:47:30.092328Z"
    }
   },
   "outputs": [],
   "source": [
    "from dataloader import AgeGroupMLDataset"
   ]
  },
  {
   "cell_type": "code",
   "execution_count": 34,
   "metadata": {
    "ExecuteTime": {
     "end_time": "2021-05-04T20:47:40.808630Z",
     "start_time": "2021-05-04T20:47:40.797497Z"
    }
   },
   "outputs": [],
   "source": [
    "from encoder_simple import Encoder"
   ]
  },
  {
   "cell_type": "code",
   "execution_count": 47,
   "metadata": {
    "ExecuteTime": {
     "end_time": "2021-05-04T20:49:54.630703Z",
     "start_time": "2021-05-04T20:49:54.609631Z"
    }
   },
   "outputs": [],
   "source": [
    "from decoder import Decoder"
   ]
  },
  {
   "cell_type": "markdown",
   "metadata": {
    "id": "fkHW7YKHnpCR"
   },
   "source": [
    "## Train embedding"
   ]
  },
  {
   "cell_type": "code",
   "execution_count": 35,
   "metadata": {
    "ExecuteTime": {
     "end_time": "2021-05-04T20:47:47.012057Z",
     "start_time": "2021-05-04T20:47:46.997718Z"
    },
    "id": "P_mLsoBGt4QY"
   },
   "outputs": [],
   "source": [
    "from pytorch_metric_learning import losses, miners, distances, reducers, samplers"
   ]
  },
  {
   "cell_type": "code",
   "execution_count": 45,
   "metadata": {
    "ExecuteTime": {
     "end_time": "2021-05-04T20:48:37.059497Z",
     "start_time": "2021-05-04T20:48:37.047904Z"
    },
    "id": "pm80PCIl79LE"
   },
   "outputs": [],
   "source": [
    "BATCH_SIZE = 64 # BATCH_SIZE unique persons\n",
    "SAMPLES_PER_CLASS = 1 # drawing 64 classes per batch\n",
    "NUM_OF_SUBSEQUENCES = 5\n",
    "SUBSEQUENCE_LENGTH = 90\n",
    "\n",
    "EMBEDDING_DIM = 256\n",
    "LR = 0.001\n",
    "NUM_EPOCHS = 150"
   ]
  },
  {
   "cell_type": "code",
   "execution_count": 13,
   "metadata": {
    "ExecuteTime": {
     "end_time": "2021-05-04T20:34:50.321535Z",
     "start_time": "2021-05-04T20:34:37.040372Z"
    },
    "id": "GYYj4IyZdrtg"
   },
   "outputs": [],
   "source": [
    "dataset = AgeGroupMLDataset()"
   ]
  },
  {
   "cell_type": "code",
   "execution_count": 14,
   "metadata": {
    "ExecuteTime": {
     "end_time": "2021-05-04T20:34:50.386093Z",
     "start_time": "2021-05-04T20:34:50.322636Z"
    },
    "id": "EY6GM_RjsCWg"
   },
   "outputs": [],
   "source": [
    "dataset.load_client_to_indices()"
   ]
  },
  {
   "cell_type": "code",
   "execution_count": 37,
   "metadata": {
    "ExecuteTime": {
     "end_time": "2021-05-04T20:47:50.406065Z",
     "start_time": "2021-05-04T20:47:50.395372Z"
    },
    "id": "vNdVHSPr3de2"
   },
   "outputs": [],
   "source": [
    "import random"
   ]
  },
  {
   "cell_type": "code",
   "execution_count": 38,
   "metadata": {
    "ExecuteTime": {
     "end_time": "2021-05-04T20:47:50.596081Z",
     "start_time": "2021-05-04T20:47:50.583925Z"
    },
    "id": "WxzkX-VZ3zJu"
   },
   "outputs": [],
   "source": [
    "torch.manual_seed(0)\n",
    "random.seed(0)\n",
    "np.random.seed(0)"
   ]
  },
  {
   "cell_type": "code",
   "execution_count": 39,
   "metadata": {
    "ExecuteTime": {
     "end_time": "2021-05-04T20:47:50.797906Z",
     "start_time": "2021-05-04T20:47:50.786741Z"
    },
    "id": "XB6H3g74Nflk"
   },
   "outputs": [],
   "source": [
    "targets = dataset.targets"
   ]
  },
  {
   "cell_type": "code",
   "execution_count": 40,
   "metadata": {
    "ExecuteTime": {
     "end_time": "2021-05-04T20:47:51.531767Z",
     "start_time": "2021-05-04T20:47:51.374699Z"
    },
    "id": "DQfIOu14uO9m"
   },
   "outputs": [],
   "source": [
    "sampler = samplers.MPerClassSampler(\n",
    "    targets, SAMPLES_PER_CLASS, batch_size=BATCH_SIZE,\n",
    "    length_before_new_iter=BATCH_SIZE * 100) # 100 batches per epoch"
   ]
  },
  {
   "cell_type": "code",
   "execution_count": 41,
   "metadata": {
    "ExecuteTime": {
     "end_time": "2021-05-04T20:47:51.614175Z",
     "start_time": "2021-05-04T20:47:51.601282Z"
    },
    "id": "2W-DuPoHuACu"
   },
   "outputs": [],
   "source": [
    "dataloader = torch.utils.data.DataLoader(\n",
    "    dataset, batch_size=BATCH_SIZE,\n",
    "    num_workers=0,\n",
    "    sampler=sampler,\n",
    ")"
   ]
  },
  {
   "cell_type": "code",
   "execution_count": 42,
   "metadata": {
    "ExecuteTime": {
     "end_time": "2021-05-04T20:47:52.028149Z",
     "start_time": "2021-05-04T20:47:51.858551Z"
    },
    "colab": {
     "base_uri": "https://localhost:8080/"
    },
    "id": "KOnRcmgI4fdy",
    "outputId": "ff619c2f-83e8-4a00-f9ab-c3d3c4b80405"
   },
   "outputs": [
    {
     "data": {
      "text/plain": [
       "(torch.Size([64, 5, 90, 5]), torch.Size([64, 5, 90, 1]))"
      ]
     },
     "execution_count": 42,
     "metadata": {},
     "output_type": "execute_result"
    }
   ],
   "source": [
    "# check\n",
    "dataiter = iter(dataloader)\n",
    "sequences, labels = dataiter.next()\n",
    "\n",
    "# should be BATCH_SIZExNUM_OF_SUBSEQUENCESxSUBSEQUENCE_LENGTHx(num_features)\n",
    "sequences[0].shape, sequences[1].shape"
   ]
  },
  {
   "cell_type": "code",
   "execution_count": 44,
   "metadata": {
    "ExecuteTime": {
     "end_time": "2021-05-04T20:48:22.420046Z",
     "start_time": "2021-05-04T20:48:22.395713Z"
    },
    "id": "AZBeoMARzDpJ"
   },
   "outputs": [],
   "source": [
    "num_input_dim = sequences[0].size(-1)\n",
    "cat_vocab_sizes = [204]\n",
    "\n",
    "encoder = Encoder(\n",
    "    numerical_input_dim=num_input_dim,\n",
    "    embedding_dim=EMBEDDING_DIM,\n",
    "    cat_vocab_sizes=cat_vocab_sizes,\n",
    "    subseq_length=SUBSEQUENCE_LENGTH,\n",
    ")\n",
    "encoder.to(device);"
   ]
  },
  {
   "cell_type": "code",
   "execution_count": 48,
   "metadata": {
    "ExecuteTime": {
     "end_time": "2021-05-04T20:50:06.585747Z",
     "start_time": "2021-05-04T20:50:06.574748Z"
    },
    "id": "zAtga1V14KOS"
   },
   "outputs": [],
   "source": [
    "LR = 0.003"
   ]
  },
  {
   "cell_type": "code",
   "execution_count": 49,
   "metadata": {
    "ExecuteTime": {
     "end_time": "2021-05-04T20:50:07.140280Z",
     "start_time": "2021-05-04T20:50:07.128853Z"
    },
    "id": "8YuKXKv_zEX3"
   },
   "outputs": [],
   "source": [
    "optimizer = optim.Adam(encoder.parameters(), lr=LR)"
   ]
  },
  {
   "cell_type": "code",
   "execution_count": 50,
   "metadata": {
    "ExecuteTime": {
     "end_time": "2021-05-04T20:50:07.919751Z",
     "start_time": "2021-05-04T20:50:07.908321Z"
    },
    "id": "KzpMLdIMyUWp"
   },
   "outputs": [],
   "source": [
    "distance = distances.CosineSimilarity()\n",
    "reducer = reducers.ThresholdReducer(low = 0) # basically, returns average\n",
    "loss_func = losses.TripletMarginLoss(margin = 0.4, distance = distance, reducer = reducer)\n",
    "mining_func = miners.TripletMarginMiner(margin = 0.4, distance = distance, type_of_triplets = \"semihard\")\n",
    "\n",
    "# sota\n",
    "# loss_func = losses.ArcFaceLoss(\n",
    "#     num_classes=len(targets), embedding_size=EMBEDDING_DIM,\n",
    "#     distance=distance).to(torch.device('cuda')) # not sure why we need to move it to cuda"
   ]
  },
  {
   "cell_type": "code",
   "execution_count": 53,
   "metadata": {
    "ExecuteTime": {
     "end_time": "2021-05-04T20:50:16.773422Z",
     "start_time": "2021-05-04T20:50:16.761977Z"
    },
    "id": "7hGQhrXf1g8G"
   },
   "outputs": [],
   "source": [
    "NUM_EPOCHS = 20"
   ]
  },
  {
   "cell_type": "code",
   "execution_count": 54,
   "metadata": {
    "ExecuteTime": {
     "end_time": "2021-05-04T20:51:10.254724Z",
     "start_time": "2021-05-04T20:50:16.907028Z"
    },
    "colab": {
     "base_uri": "https://localhost:8080/",
     "height": 1000,
     "referenced_widgets": [
      "cebd7b4956184d8bb242034b15599c2f",
      "4d6571758aef44a290487437569d1aba",
      "0e9b762c7eeb4feb95b40049b49e6b0d",
      "29469754152243c587e3494987210d6c",
      "3353f6fdcc744fff9c5faeb05ef31441",
      "7712edb5bb27459cb00d8eb61c18f2f5",
      "7a70dcbc2c544ab3aa73626c8a79eb9b",
      "9e8869da2e444665a771085af1f6d7f0"
     ]
    },
    "id": "-UX0iDalo6_G",
    "outputId": "43123ca2-f54d-4cb4-b8f0-ceb0ed586f60"
   },
   "outputs": [
    {
     "data": {
      "application/vnd.jupyter.widget-view+json": {
       "model_id": "4caa0c891ce34d60b9ad4fd0c11da7c1",
       "version_major": 2,
       "version_minor": 0
      },
      "text/plain": [
       "  0%|          | 0/20 [00:00<?, ?it/s]"
      ]
     },
     "metadata": {},
     "output_type": "display_data"
    },
    {
     "name": "stdout",
     "output_type": "stream",
     "text": [
      "Epoch 0 Loss = 0.1703004091978073\n",
      "Epoch 1 Loss = 0.15360534191131592\n",
      "Epoch 2 Loss = 0.1497141718864441\n",
      "Epoch 3 Loss = 0.14790457487106323\n",
      "Epoch 4 Loss = 0.14541131258010864\n",
      "Epoch 5 Loss = 0.14427340030670166\n",
      "Epoch 6 Loss = 0.14426112174987793\n",
      "Epoch 7 Loss = 0.14354082942008972\n",
      "Epoch 8 Loss = 0.14334672689437866\n",
      "Epoch 9 Loss = 0.1429678499698639\n",
      "Epoch 10 Loss = 0.1426268219947815\n",
      "Epoch 11 Loss = 0.14244885742664337\n",
      "Epoch 12 Loss = 0.1424523890018463\n",
      "Epoch 13 Loss = 0.14184804260730743\n",
      "Epoch 14 Loss = 0.14115217328071594\n",
      "Epoch 15 Loss = 0.1408321112394333\n",
      "Epoch 16 Loss = 0.14143751561641693\n",
      "Epoch 17 Loss = 0.14056383073329926\n",
      "Epoch 18 Loss = 0.14054273068904877\n",
      "Epoch 19 Loss = 0.13957564532756805\n"
     ]
    }
   ],
   "source": [
    "train_losses = []\n",
    "train_accuracy = []\n",
    "val_losses = []\n",
    "val_accuracy = []\n",
    "\n",
    "for epoch in tqdm(range(NUM_EPOCHS)):\n",
    "    encoder.train()\n",
    "    epoch_losses = []\n",
    "    for batch_idx, (sequences, labels) in enumerate(dataloader):\n",
    "        n, c = sequences[0], sequences[1]\n",
    "        n = n.to(device)\n",
    "        c = c.to(device)\n",
    "\n",
    "        labels = torch.repeat_interleave(labels, NUM_OF_SUBSEQUENCES)\n",
    "        labels = labels.to(device)\n",
    "\n",
    "        embeddings = encoder(n, c)\n",
    "        indices_tuple = mining_func(embeddings, labels)\n",
    "        loss = loss_func(embeddings, labels, indices_tuple)\n",
    "\n",
    "        optimizer.zero_grad()\n",
    "        loss.backward()\n",
    "        optimizer.step()\n",
    "\n",
    "        epoch_losses.append(loss.item())\n",
    "\n",
    "    epoch_loss = torch.tensor(epoch_losses).mean()\n",
    "    train_losses.append(epoch_loss)\n",
    "\n",
    "    print(\"Epoch {} Loss = {}\".format(epoch, epoch_loss))"
   ]
  },
  {
   "cell_type": "code",
   "execution_count": 55,
   "metadata": {
    "ExecuteTime": {
     "end_time": "2021-05-04T20:51:24.639930Z",
     "start_time": "2021-05-04T20:51:24.501950Z"
    },
    "colab": {
     "base_uri": "https://localhost:8080/",
     "height": 394
    },
    "id": "YMCPUQLE8Uf1",
    "outputId": "5eb9fa5b-a0c4-4642-c27b-cc2de0847891"
   },
   "outputs": [
    {
     "data": {
      "image/png": "[encoded data removed]",
      "text/plain": [
       "<Figure size 864x432 with 1 Axes>"
      ]
     },
     "metadata": {},
     "output_type": "display_data"
    }
   ],
   "source": [
    "fig, axs = plt.subplots(figsize=(12, 6))\n",
    "\n",
    "plt.plot(train_losses, label='train')\n",
    "plt.xlabel('iter')\n",
    "plt.ylabel('loss');"
   ]
  },
  {
   "cell_type": "code",
   "execution_count": null,
   "metadata": {
    "id": "7ZCHvgDf6LWx"
   },
   "outputs": [],
   "source": []
  },
  {
   "cell_type": "markdown",
   "metadata": {
    "id": "4z65ccdO6_x-"
   },
   "source": [
    "# Train classifier"
   ]
  },
  {
   "cell_type": "code",
   "execution_count": 57,
   "metadata": {
    "ExecuteTime": {
     "end_time": "2021-05-04T20:55:08.032610Z",
     "start_time": "2021-05-04T20:55:07.955327Z"
    }
   },
   "outputs": [],
   "source": [
    "from dataloader import AgeGroupClfDataset"
   ]
  },
  {
   "cell_type": "code",
   "execution_count": 58,
   "metadata": {
    "ExecuteTime": {
     "end_time": "2021-05-04T20:55:09.606938Z",
     "start_time": "2021-05-04T20:55:09.576281Z"
    },
    "id": "VxtdFi3i7KT0"
   },
   "outputs": [],
   "source": [
    "# freeze encoder\n",
    "for param in encoder.parameters():\n",
    "    param.requires_grad = False\n",
    "\n",
    "encoder.eval();"
   ]
  },
  {
   "cell_type": "code",
   "execution_count": 59,
   "metadata": {
    "ExecuteTime": {
     "end_time": "2021-05-04T20:55:33.219119Z",
     "start_time": "2021-05-04T20:55:17.611122Z"
    },
    "id": "ZZyL5MiF-Ufm"
   },
   "outputs": [],
   "source": [
    "clfdataset = AgeGroupClfDataset()"
   ]
  },
  {
   "cell_type": "code",
   "execution_count": 60,
   "metadata": {
    "ExecuteTime": {
     "end_time": "2021-05-04T20:55:33.245492Z",
     "start_time": "2021-05-04T20:55:33.220133Z"
    },
    "id": "nW8khMXN-STb"
   },
   "outputs": [],
   "source": [
    "clfdataset.load_client_to_indices()"
   ]
  },
  {
   "cell_type": "code",
   "execution_count": 61,
   "metadata": {
    "ExecuteTime": {
     "end_time": "2021-05-04T20:55:43.967012Z",
     "start_time": "2021-05-04T20:55:43.952792Z"
    },
    "id": "YTC-z_VJJvsi"
   },
   "outputs": [],
   "source": [
    "from sklearn.model_selection import train_test_split"
   ]
  },
  {
   "cell_type": "code",
   "execution_count": 79,
   "metadata": {
    "ExecuteTime": {
     "end_time": "2021-05-04T21:02:09.787050Z",
     "start_time": "2021-05-04T21:02:09.770288Z"
    }
   },
   "outputs": [],
   "source": [
    "torch.manual_seed(0)\n",
    "random.seed(0)\n",
    "np.random.seed(0)"
   ]
  },
  {
   "cell_type": "code",
   "execution_count": 78,
   "metadata": {
    "ExecuteTime": {
     "end_time": "2021-05-04T21:02:08.430566Z",
     "start_time": "2021-05-04T21:02:08.413871Z"
    },
    "id": "emb8HyWh5JX_"
   },
   "outputs": [],
   "source": [
    "targets = clfdataset.targets\n",
    "\n",
    "train_idx, test_idx= train_test_split(\n",
    "    np.arange(len(targets)),\n",
    "    test_size=0.3,\n",
    "    shuffle=True,\n",
    "    stratify=targets,\n",
    "    random_state=228\n",
    ")\n",
    "\n",
    "train_sampler = torch.utils.data.SubsetRandomSampler(train_idx)\n",
    "test_sampler = torch.utils.data.SubsetRandomSampler(test_idx)\n",
    "\n",
    "trainloader = torch.utils.data.DataLoader(\n",
    "    clfdataset, batch_size=BATCH_SIZE,\n",
    "    sampler=train_sampler)\n",
    "testloader = torch.utils.data.DataLoader(\n",
    "    clfdataset, batch_size=BATCH_SIZE,\n",
    "    sampler=test_sampler)"
   ]
  },
  {
   "cell_type": "code",
   "execution_count": 63,
   "metadata": {
    "ExecuteTime": {
     "end_time": "2021-05-04T20:56:37.254974Z",
     "start_time": "2021-05-04T20:56:37.232021Z"
    },
    "id": "zpIAXVW8-lW5"
   },
   "outputs": [],
   "source": [
    "clfdataloader = torch.utils.data.DataLoader(\n",
    "    clfdataset, batch_size=BATCH_SIZE,\n",
    "    num_workers=0,\n",
    ")"
   ]
  },
  {
   "cell_type": "code",
   "execution_count": 64,
   "metadata": {
    "ExecuteTime": {
     "end_time": "2021-05-04T20:56:38.514333Z",
     "start_time": "2021-05-04T20:56:38.501202Z"
    },
    "colab": {
     "base_uri": "https://localhost:8080/"
    },
    "id": "2d3Qdc-J3DSY",
    "outputId": "e12177ed-96f2-4e87-f516-96b272081039"
   },
   "outputs": [
    {
     "data": {
      "text/plain": [
       "(torch.Size([64, 90, 5]), torch.Size([64, 90, 1]))"
      ]
     },
     "execution_count": 64,
     "metadata": {},
     "output_type": "execute_result"
    }
   ],
   "source": [
    "# check\n",
    "dataiter = iter(clfdataloader)\n",
    "sequences, labels = dataiter.next()\n",
    "\n",
    "# should be BATCH_SIZExSUBSEQUENCE_LENGTHx(num_features)\n",
    "sequences[0].shape, sequences[1].shape"
   ]
  },
  {
   "cell_type": "code",
   "execution_count": 65,
   "metadata": {
    "ExecuteTime": {
     "end_time": "2021-05-04T20:56:43.795145Z",
     "start_time": "2021-05-04T20:56:43.748151Z"
    },
    "id": "e1ScCyO8-lW6"
   },
   "outputs": [],
   "source": [
    "decoder = Decoder(input_dim=EMBEDDING_DIM)\n",
    "decoder.to(device);"
   ]
  },
  {
   "cell_type": "code",
   "execution_count": 66,
   "metadata": {
    "ExecuteTime": {
     "end_time": "2021-05-04T20:56:49.970455Z",
     "start_time": "2021-05-04T20:56:49.939961Z"
    },
    "id": "C7-X1GRsAK7x"
   },
   "outputs": [],
   "source": [
    "SCHEDULER_EPOCHS = 2"
   ]
  },
  {
   "cell_type": "code",
   "execution_count": 67,
   "metadata": {
    "ExecuteTime": {
     "end_time": "2021-05-04T20:56:50.275685Z",
     "start_time": "2021-05-04T20:56:50.256533Z"
    },
    "id": "6seFuT18-lW6"
   },
   "outputs": [],
   "source": [
    "optimizer = optim.Adam(decoder.parameters(), lr=LR)\n",
    "criterion = nn.CrossEntropyLoss()\n",
    "scheduler = optim.lr_scheduler.ReduceLROnPlateau(\n",
    "    optimizer,\n",
    "    patience=SCHEDULER_EPOCHS,\n",
    ")"
   ]
  },
  {
   "cell_type": "code",
   "execution_count": 69,
   "metadata": {
    "ExecuteTime": {
     "end_time": "2021-05-04T20:56:53.463111Z",
     "start_time": "2021-05-04T20:56:53.433479Z"
    },
    "id": "XnbOSild-lW7"
   },
   "outputs": [],
   "source": [
    "NUM_EPOCHS = 20"
   ]
  },
  {
   "cell_type": "code",
   "execution_count": 74,
   "metadata": {
    "ExecuteTime": {
     "end_time": "2021-05-04T20:59:36.785520Z",
     "start_time": "2021-05-04T20:58:55.687105Z"
    },
    "colab": {
     "base_uri": "https://localhost:8080/",
     "height": 1000,
     "referenced_widgets": [
      "ea0ca8fe84ef467682d81a0bd8c93714",
      "057117c006eb4006b785093e744cb4fc",
      "03b27f4042a74589a00fed6a0225044a",
      "e79f4098d4604f929f832a8691d6f3f2",
      "17a7e38c942b4305849a85c227483544",
      "294027f423094c2d8cc6878bdd7c0f08",
      "0560cd99580a4ac3a984cf6ada4dd62d",
      "4172bb0dff224eb79831e4e76030eee7"
     ]
    },
    "id": "-aIWfYlL-lW7",
    "outputId": "94e77488-cfb7-40b5-8e73-1536cb02961f"
   },
   "outputs": [
    {
     "data": {
      "application/vnd.jupyter.widget-view+json": {
       "model_id": "30f453c389224ad7b47513e9ab7bf06b",
       "version_major": 2,
       "version_minor": 0
      },
      "text/plain": [
       "  0%|          | 0/20 [00:00<?, ?it/s]"
      ]
     },
     "metadata": {},
     "output_type": "display_data"
    },
    {
     "name": "stdout",
     "output_type": "stream",
     "text": [
      "Epoch 0, train acc: 0.5533814430236816, val acc: 0.5523049235343933\n",
      "train loss: 0.9873296618461609; val loss: 0.9874230623245239\n",
      "Epoch 1, train acc: 0.5513867735862732, val acc: 0.5564051270484924\n",
      "train loss: 0.989396870136261; val loss: 0.979583203792572\n",
      "Epoch 2, train acc: 0.5517192482948303, val acc: 0.5503102540969849\n",
      "train loss: 0.9867462515830994; val loss: 0.9818251729011536\n",
      "Epoch 3, train acc: 0.5509593486785889, val acc: 0.553634762763977\n",
      "train loss: 0.9869312644004822; val loss: 0.9868937730789185\n",
      "Epoch 4, train acc: 0.5507218837738037, val acc: 0.5607269406318665\n",
      "train loss: 0.9900466203689575; val loss: 0.9789926409721375\n",
      "Epoch 5, train acc: 0.5491071343421936, val acc: 0.5565159320831299\n",
      "train loss: 0.9913326501846313; val loss: 0.9763230085372925\n",
      "Epoch 6, train acc: 0.5545212626457214, val acc: 0.551972508430481\n",
      "train loss: 0.9908255934715271; val loss: 0.9865193367004395\n",
      "Epoch 7, train acc: 0.5532864928245544, val acc: 0.5607269406318665\n",
      "train loss: 0.993007481098175; val loss: 0.9839715361595154\n",
      "Epoch 8, train acc: 0.5528115630149841, val acc: 0.5540779829025269\n",
      "train loss: 0.9912495017051697; val loss: 0.9818494915962219\n",
      "Epoch 9, train acc: 0.5544263124465942, val acc: 0.5554077625274658\n",
      "train loss: 0.9903826117515564; val loss: 0.9790775775909424\n",
      "Epoch 10, train acc: 0.5540938377380371, val acc: 0.5564051270484924\n",
      "train loss: 0.9880746603012085; val loss: 0.97864830493927\n",
      "Epoch 11, train acc: 0.5488696694374084, val acc: 0.5608377456665039\n",
      "train loss: 0.9926913380622864; val loss: 0.9833000898361206\n",
      "Epoch 12, train acc: 0.5513392686843872, val acc: 0.5596187710762024\n",
      "train loss: 0.9853399395942688; val loss: 0.9779404401779175\n",
      "Epoch 13, train acc: 0.5572283267974854, val acc: 0.5513076186180115\n",
      "train loss: 0.9877963066101074; val loss: 0.9840102195739746\n",
      "Epoch 14, train acc: 0.5524316430091858, val acc: 0.5551861524581909\n",
      "train loss: 0.9897165298461914; val loss: 0.9853808879852295\n",
      "Epoch 15, train acc: 0.5513392686843872, val acc: 0.5533022880554199\n",
      "train loss: 0.990917444229126; val loss: 0.9859253168106079\n",
      "Epoch 16, train acc: 0.5536189079284668, val acc: 0.5599512457847595\n",
      "train loss: 0.9896636605262756; val loss: 0.9740867018699646\n",
      "Epoch 17, train acc: 0.5521941781044006, val acc: 0.5571808218955994\n",
      "train loss: 0.9921777844429016; val loss: 0.9784265756607056\n",
      "Epoch 18, train acc: 0.5510543584823608, val acc: 0.5529698133468628\n",
      "train loss: 0.9929770827293396; val loss: 0.9885028004646301\n",
      "Epoch 19, train acc: 0.556800901889801, val acc: 0.5583997964859009\n",
      "train loss: 0.9880911707878113; val loss: 0.9811415672302246\n"
     ]
    }
   ],
   "source": [
    "train_losses = []\n",
    "train_accuracy = []\n",
    "val_losses = []\n",
    "val_accuracy = []\n",
    "\n",
    "for epoch in tqdm(range(NUM_EPOCHS)):\n",
    "    decoder.train()\n",
    "    correct = 0\n",
    "    epoch_losses = []\n",
    "    for batch_idx, (sequences, labels) in enumerate(trainloader):\n",
    "        n, c = sequences[0], sequences[1]\n",
    "        n = n.to(device)\n",
    "        c = c.to(device)\n",
    "        labels = labels.to(device)\n",
    "\n",
    "        embeddings = encoder(n, c)\n",
    "        outputs = decoder(embeddings)\n",
    "        loss = criterion(outputs, labels)\n",
    "\n",
    "        optimizer.zero_grad()\n",
    "        loss.backward()\n",
    "        optimizer.step()\n",
    "\n",
    "        pred_labels = torch.argmax(outputs, dim=1)\n",
    "        correct += sum(labels == pred_labels)\n",
    "        epoch_losses.append(loss.item())\n",
    "\n",
    "    train_acc = correct / (BATCH_SIZE * len(trainloader))\n",
    "    epoch_loss = torch.tensor(epoch_losses).mean()\n",
    "    train_losses.append(epoch_loss)\n",
    "    train_accuracy.append(train_acc.item())\n",
    "\n",
    "    decoder.eval()\n",
    "    correct = 0\n",
    "    epoch_val_losses = []\n",
    "    for batch_idx, (sequences, labels) in enumerate(testloader):\n",
    "        n, c = sequences[0], sequences[1]\n",
    "        n = n.to(device)\n",
    "        c = c.to(device)\n",
    "        labels = labels.to(device)\n",
    "\n",
    "        with torch.no_grad():\n",
    "            embeddings = encoder(n, c)\n",
    "            outputs = decoder(embeddings)\n",
    "            loss = criterion(outputs, labels)\n",
    "            epoch_val_losses.append(loss.item())\n",
    "\n",
    "            pred_labels = torch.argmax(outputs, dim=1)\n",
    "            correct += sum(labels == pred_labels)\n",
    "\n",
    "    epoch_val_loss = torch.tensor(epoch_val_losses).mean()\n",
    "\n",
    "    scheduler.step(epoch_val_loss)\n",
    "\n",
    "    val_losses.append(epoch_val_loss)\n",
    "\n",
    "    val_acc = correct / (BATCH_SIZE * len(testloader))\n",
    "    val_accuracy.append(val_acc.item())\n",
    "    \n",
    "    print(f'Epoch {epoch}, train acc: {train_acc}, val acc: {val_acc}')\n",
    "    print(f'train loss: {epoch_loss}; val loss: {epoch_val_loss}')"
   ]
  },
  {
   "cell_type": "code",
   "execution_count": 77,
   "metadata": {
    "ExecuteTime": {
     "end_time": "2021-05-04T21:00:01.675220Z",
     "start_time": "2021-05-04T21:00:01.426370Z"
    },
    "colab": {
     "base_uri": "https://localhost:8080/",
     "height": 394
    },
    "id": "VBZFVNs4Vb1D",
    "outputId": "85515c64-a2bf-4977-d8e7-c7d485c2ce34"
   },
   "outputs": [
    {
     "data": {
      "image/png": "[encoded data removed]",
      "text/plain": [
       "<Figure size 864x432 with 2 Axes>"
      ]
     },
     "metadata": {},
     "output_type": "display_data"
    }
   ],
   "source": [
    "fig, axs = plt.subplots(figsize=(12, 6))\n",
    "\n",
    "plt.subplot(1, 2, 1)\n",
    "plt.plot(train_losses, label='train')\n",
    "plt.plot(val_losses, label='validation')\n",
    "plt.xlabel('iter')\n",
    "plt.ylabel('loss')\n",
    "\n",
    "plt.subplot(1, 2, 2)\n",
    "plt.xlabel('iter')\n",
    "plt.plot(train_accuracy, label='train')\n",
    "plt.plot(val_accuracy, label='validation')\n",
    "plt.ylabel('accuracy');"
   ]
  },
  {
   "cell_type": "code",
   "execution_count": null,
   "metadata": {},
   "outputs": [],
   "source": []
  },
  {
   "cell_type": "code",
   "execution_count": null,
   "metadata": {
    "id": "61vIaBWf7KQr"
   },
   "outputs": [],
   "source": []
  },
  {
   "cell_type": "code",
   "execution_count": null,
   "metadata": {
    "id": "_0nYia4y6_lF"
   },
   "outputs": [],
   "source": []
  },
  {
   "cell_type": "markdown",
   "metadata": {
    "id": "3F5gbEeMo68i"
   },
   "source": [
    "# Predict (old)"
   ]
  },
  {
   "cell_type": "code",
   "execution_count": null,
   "metadata": {
    "id": "QejRaOGlWJA1"
   },
   "outputs": [],
   "source": [
    "m = encoder.to('cpu').eval()"
   ]
  },
  {
   "cell_type": "code",
   "execution_count": null,
   "metadata": {
    "id": "Mtzi14NIFynK"
   },
   "outputs": [],
   "source": [
    "# check\n",
    "dataiter = iter(dataloader)\n",
    "sequences, labels = dataiter.next()\n",
    "\n",
    "# should be BATCH_SIZExNUM_OF_SEQUNCESxSUBSEQUENCE_LENGTHx(num_features)\n",
    "sequences.shape"
   ]
  },
  {
   "cell_type": "code",
   "execution_count": null,
   "metadata": {
    "id": "_59ULTscHfAH"
   },
   "outputs": [],
   "source": [
    "embeddings = torch.zeros((1, EMBEDDING_DIM))[1:]\n",
    "\n",
    "# probably can make it faster if use a batch of clients\n",
    "for client_id in tqdm(sorted(dataset.targets)):\n",
    "    n, c = dataset.get_sequence(client_id)\n",
    "\n",
    "    with torch.no_grad():\n",
    "        embedding = m(n, c)\n",
    "        # encoded_events = m.event_encoder(n, c)\n",
    "        # encoded_events = encoded_events.view(1, -1, EMBEDDING_DIM)\n",
    "        # encoded_events = torch.transpose(encoded_events, 0, 1) # so that its (seq_len, batch, input_size)\n",
    "        # embedding = m.sequence_encoder(encoded_events)[0][0]\n",
    "        embeddings = torch.cat((embeddings, embedding))\n",
    "\n",
    "embeddings.shape"
   ]
  },
  {
   "cell_type": "code",
   "execution_count": null,
   "metadata": {
    "id": "13ohWlD-JzFH"
   },
   "outputs": [],
   "source": [
    "X = embeddings.numpy()\n",
    "\n",
    "# y = dataset.target_df[dataset.target_df['client_id'].isin(dataset.clients)].sort_values('client_id')['bins'].to_numpy()\n",
    "\n",
    "y = dataset.target_df.sort_values('client_id')['bins'].to_numpy()"
   ]
  },
  {
   "cell_type": "code",
   "execution_count": null,
   "metadata": {
    "id": "-a99xITc9qXb"
   },
   "outputs": [],
   "source": [
    "decoder = Decoder(input_dim=EMBEDDING_DIM)\n",
    "decoder.to(device);"
   ]
  },
  {
   "cell_type": "code",
   "execution_count": null,
   "metadata": {
    "id": "s6n6QRL79qUL"
   },
   "outputs": [],
   "source": []
  },
  {
   "cell_type": "code",
   "execution_count": null,
   "metadata": {
    "id": "L5jmrerQ9qRg"
   },
   "outputs": [],
   "source": []
  },
  {
   "cell_type": "code",
   "execution_count": null,
   "metadata": {
    "id": "Ca5R3rL7Kxem"
   },
   "outputs": [],
   "source": [
    "from catboost import CatBoostClassifier, Pool\n",
    "from catboost import cv\n",
    "from sklearn.model_selection import train_test_split"
   ]
  },
  {
   "cell_type": "code",
   "execution_count": null,
   "metadata": {
    "id": "D38VYwhXKq_P"
   },
   "outputs": [],
   "source": [
    "X_train, X_test, y_train, y_test = train_test_split(\n",
    "    X, y, test_size=0.33, random_state=228, stratify=y)\n",
    "\n",
    "train_pool = Pool(X_train, y_train)\n",
    "test_pool = Pool(X_test, y_test)"
   ]
  },
  {
   "cell_type": "code",
   "execution_count": null,
   "metadata": {
    "id": "YV_oTIQKNsuq"
   },
   "outputs": [],
   "source": [
    "model = CatBoostClassifier(\n",
    "    iterations=500,\n",
    "    depth=3,\n",
    "    learning_rate=0.5,\n",
    "    verbose=True,\n",
    "    eval_metric='Accuracy',\n",
    "    auto_class_weights='Balanced',\n",
    "    random_state=228,\n",
    ")"
   ]
  },
  {
   "cell_type": "code",
   "execution_count": null,
   "metadata": {
    "id": "Fc3FHXYyK8yh"
   },
   "outputs": [],
   "source": [
    "model.fit(train_pool, eval_set=test_pool)"
   ]
  },
  {
   "cell_type": "code",
   "execution_count": null,
   "metadata": {
    "id": "63NEh9tOkAkp"
   },
   "outputs": [],
   "source": [
    "train_acc = model.evals_result_['learn']['Accuracy']\n",
    "valid_acc = model.evals_result_['validation']['Accuracy']\n",
    "\n",
    "plt.plot(train_acc, label='train')\n",
    "plt.plot(valid_acc, label='valid')\n",
    "plt.xlabel('iter')\n",
    "plt.ylabel('accuracy')\n",
    "plt.legend();"
   ]
  },
  {
   "cell_type": "code",
   "execution_count": null,
   "metadata": {
    "id": "dLfhuxFdkAiV"
   },
   "outputs": [],
   "source": []
  },
  {
   "cell_type": "code",
   "execution_count": null,
   "metadata": {
    "id": "Gq_9OK9INyco"
   },
   "outputs": [],
   "source": [
    "sum(np.squeeze(model.predict(X_test)) == y_test) / len(y_test)"
   ]
  },
  {
   "cell_type": "code",
   "execution_count": null,
   "metadata": {
    "id": "DDaYs-_dOCBh"
   },
   "outputs": [],
   "source": []
  },
  {
   "cell_type": "code",
   "execution_count": null,
   "metadata": {
    "id": "G-LDs35tq5Ff"
   },
   "outputs": [],
   "source": []
  }
 ],
 "metadata": {
  "accelerator": "GPU",
  "colab": {
   "collapsed_sections": [],
   "name": "age group reworked.ipynb",
   "provenance": [],
   "toc_visible": true
  },
  "kernelspec": {
   "display_name": "Python 3",
   "language": "python",
   "name": "python3"
  },
  "language_info": {
   "codemirror_mode": {
    "name": "ipython",
    "version": 3
   },
   "file_extension": ".py",
   "mimetype": "text/x-python",
   "name": "python",
   "nbconvert_exporter": "python",
   "pygments_lexer": "ipython3",
   "version": "3.8.6"
  },
  "toc": {
   "base_numbering": 1,
   "nav_menu": {},
   "number_sections": true,
   "sideBar": true,
   "skip_h1_title": false,
   "title_cell": "Table of Contents",
   "title_sidebar": "Contents",
   "toc_cell": false,
   "toc_position": {},
   "toc_section_display": true,
   "toc_window_display": false
  },
  "widgets": {
   "application/vnd.jupyter.widget-state+json": {
    "03b27f4042a74589a00fed6a0225044a": {
     "model_module": "@jupyter-widgets/controls",
     "model_name": "FloatProgressModel",
     "state": {
      "_dom_classes": [],
      "_model_module": "@jupyter-widgets/controls",
      "_model_module_version": "1.5.0",
      "_model_name": "FloatProgressModel",
      "_view_count": null,
      "_view_module": "@jupyter-widgets/controls",
      "_view_module_version": "1.5.0",
      "_view_name": "ProgressView",
      "bar_style": "success",
      "description": "100%",
      "description_tooltip": null,
      "layout": "IPY_MODEL_294027f423094c2d8cc6878bdd7c0f08",
      "max": 40,
      "min": 0,
      "orientation": "horizontal",
      "style": "IPY_MODEL_17a7e38c942b4305849a85c227483544",
      "value": 40
     }
    },
    "0560cd99580a4ac3a984cf6ada4dd62d": {
     "model_module": "@jupyter-widgets/controls",
     "model_name": "DescriptionStyleModel",
     "state": {
      "_model_module": "@jupyter-widgets/controls",
      "_model_module_version": "1.5.0",
      "_model_name": "DescriptionStyleModel",
      "_view_count": null,
      "_view_module": "@jupyter-widgets/base",
      "_view_module_version": "1.2.0",
      "_view_name": "StyleView",
      "description_width": ""
     }
    },
    "057117c006eb4006b785093e744cb4fc": {
     "model_module": "@jupyter-widgets/base",
     "model_name": "LayoutModel",
     "state": {
      "_model_module": "@jupyter-widgets/base",
      "_model_module_version": "1.2.0",
      "_model_name": "LayoutModel",
      "_view_count": null,
      "_view_module": "@jupyter-widgets/base",
      "_view_module_version": "1.2.0",
      "_view_name": "LayoutView",
      "align_content": null,
      "align_items": null,
      "align_self": null,
      "border": null,
      "bottom": null,
      "display": null,
      "flex": null,
      "flex_flow": null,
      "grid_area": null,
      "grid_auto_columns": null,
      "grid_auto_flow": null,
      "grid_auto_rows": null,
      "grid_column": null,
      "grid_gap": null,
      "grid_row": null,
      "grid_template_areas": null,
      "grid_template_columns": null,
      "grid_template_rows": null,
      "height": null,
      "justify_content": null,
      "justify_items": null,
      "left": null,
      "margin": null,
      "max_height": null,
      "max_width": null,
      "min_height": null,
      "min_width": null,
      "object_fit": null,
      "object_position": null,
      "order": null,
      "overflow": null,
      "overflow_x": null,
      "overflow_y": null,
      "padding": null,
      "right": null,
      "top": null,
      "visibility": null,
      "width": null
     }
    },
    "0e9b762c7eeb4feb95b40049b49e6b0d": {
     "model_module": "@jupyter-widgets/controls",
     "model_name": "FloatProgressModel",
     "state": {
      "_dom_classes": [],
      "_model_module": "@jupyter-widgets/controls",
      "_model_module_version": "1.5.0",
      "_model_name": "FloatProgressModel",
      "_view_count": null,
      "_view_module": "@jupyter-widgets/controls",
      "_view_module_version": "1.5.0",
      "_view_name": "ProgressView",
      "bar_style": "success",
      "description": "100%",
      "description_tooltip": null,
      "layout": "IPY_MODEL_7712edb5bb27459cb00d8eb61c18f2f5",
      "max": 150,
      "min": 0,
      "orientation": "horizontal",
      "style": "IPY_MODEL_3353f6fdcc744fff9c5faeb05ef31441",
      "value": 150
     }
    },
    "17a7e38c942b4305849a85c227483544": {
     "model_module": "@jupyter-widgets/controls",
     "model_name": "ProgressStyleModel",
     "state": {
      "_model_module": "@jupyter-widgets/controls",
      "_model_module_version": "1.5.0",
      "_model_name": "ProgressStyleModel",
      "_view_count": null,
      "_view_module": "@jupyter-widgets/base",
      "_view_module_version": "1.2.0",
      "_view_name": "StyleView",
      "bar_color": null,
      "description_width": "initial"
     }
    },
    "294027f423094c2d8cc6878bdd7c0f08": {
     "model_module": "@jupyter-widgets/base",
     "model_name": "LayoutModel",
     "state": {
      "_model_module": "@jupyter-widgets/base",
      "_model_module_version": "1.2.0",
      "_model_name": "LayoutModel",
      "_view_count": null,
      "_view_module": "@jupyter-widgets/base",
      "_view_module_version": "1.2.0",
      "_view_name": "LayoutView",
      "align_content": null,
      "align_items": null,
      "align_self": null,
      "border": null,
      "bottom": null,
      "display": null,
      "flex": null,
      "flex_flow": null,
      "grid_area": null,
      "grid_auto_columns": null,
      "grid_auto_flow": null,
      "grid_auto_rows": null,
      "grid_column": null,
      "grid_gap": null,
      "grid_row": null,
      "grid_template_areas": null,
      "grid_template_columns": null,
      "grid_template_rows": null,
      "height": null,
      "justify_content": null,
      "justify_items": null,
      "left": null,
      "margin": null,
      "max_height": null,
      "max_width": null,
      "min_height": null,
      "min_width": null,
      "object_fit": null,
      "object_position": null,
      "order": null,
      "overflow": null,
      "overflow_x": null,
      "overflow_y": null,
      "padding": null,
      "right": null,
      "top": null,
      "visibility": null,
      "width": null
     }
    },
    "29469754152243c587e3494987210d6c": {
     "model_module": "@jupyter-widgets/controls",
     "model_name": "HTMLModel",
     "state": {
      "_dom_classes": [],
      "_model_module": "@jupyter-widgets/controls",
      "_model_module_version": "1.5.0",
      "_model_name": "HTMLModel",
      "_view_count": null,
      "_view_module": "@jupyter-widgets/controls",
      "_view_module_version": "1.5.0",
      "_view_name": "HTMLView",
      "description": "",
      "description_tooltip": null,
      "layout": "IPY_MODEL_9e8869da2e444665a771085af1f6d7f0",
      "placeholder": "​",
      "style": "IPY_MODEL_7a70dcbc2c544ab3aa73626c8a79eb9b",
      "value": " 150/150 [17:42&lt;00:00,  7.09s/it]"
     }
    },
    "3353f6fdcc744fff9c5faeb05ef31441": {
     "model_module": "@jupyter-widgets/controls",
     "model_name": "ProgressStyleModel",
     "state": {
      "_model_module": "@jupyter-widgets/controls",
      "_model_module_version": "1.5.0",
      "_model_name": "ProgressStyleModel",
      "_view_count": null,
      "_view_module": "@jupyter-widgets/base",
      "_view_module_version": "1.2.0",
      "_view_name": "StyleView",
      "bar_color": null,
      "description_width": "initial"
     }
    },
    "4172bb0dff224eb79831e4e76030eee7": {
     "model_module": "@jupyter-widgets/base",
     "model_name": "LayoutModel",
     "state": {
      "_model_module": "@jupyter-widgets/base",
      "_model_module_version": "1.2.0",
      "_model_name": "LayoutModel",
      "_view_count": null,
      "_view_module": "@jupyter-widgets/base",
      "_view_module_version": "1.2.0",
      "_view_name": "LayoutView",
      "align_content": null,
      "align_items": null,
      "align_self": null,
      "border": null,
      "bottom": null,
      "display": null,
      "flex": null,
      "flex_flow": null,
      "grid_area": null,
      "grid_auto_columns": null,
      "grid_auto_flow": null,
      "grid_auto_rows": null,
      "grid_column": null,
      "grid_gap": null,
      "grid_row": null,
      "grid_template_areas": null,
      "grid_template_columns": null,
      "grid_template_rows": null,
      "height": null,
      "justify_content": null,
      "justify_items": null,
      "left": null,
      "margin": null,
      "max_height": null,
      "max_width": null,
      "min_height": null,
      "min_width": null,
      "object_fit": null,
      "object_position": null,
      "order": null,
      "overflow": null,
      "overflow_x": null,
      "overflow_y": null,
      "padding": null,
      "right": null,
      "top": null,
      "visibility": null,
      "width": null
     }
    },
    "4d6571758aef44a290487437569d1aba": {
     "model_module": "@jupyter-widgets/base",
     "model_name": "LayoutModel",
     "state": {
      "_model_module": "@jupyter-widgets/base",
      "_model_module_version": "1.2.0",
      "_model_name": "LayoutModel",
      "_view_count": null,
      "_view_module": "@jupyter-widgets/base",
      "_view_module_version": "1.2.0",
      "_view_name": "LayoutView",
      "align_content": null,
      "align_items": null,
      "align_self": null,
      "border": null,
      "bottom": null,
      "display": null,
      "flex": null,
      "flex_flow": null,
      "grid_area": null,
      "grid_auto_columns": null,
      "grid_auto_flow": null,
      "grid_auto_rows": null,
      "grid_column": null,
      "grid_gap": null,
      "grid_row": null,
      "grid_template_areas": null,
      "grid_template_columns": null,
      "grid_template_rows": null,
      "height": null,
      "justify_content": null,
      "justify_items": null,
      "left": null,
      "margin": null,
      "max_height": null,
      "max_width": null,
      "min_height": null,
      "min_width": null,
      "object_fit": null,
      "object_position": null,
      "order": null,
      "overflow": null,
      "overflow_x": null,
      "overflow_y": null,
      "padding": null,
      "right": null,
      "top": null,
      "visibility": null,
      "width": null
     }
    },
    "7712edb5bb27459cb00d8eb61c18f2f5": {
     "model_module": "@jupyter-widgets/base",
     "model_name": "LayoutModel",
     "state": {
      "_model_module": "@jupyter-widgets/base",
      "_model_module_version": "1.2.0",
      "_model_name": "LayoutModel",
      "_view_count": null,
      "_view_module": "@jupyter-widgets/base",
      "_view_module_version": "1.2.0",
      "_view_name": "LayoutView",
      "align_content": null,
      "align_items": null,
      "align_self": null,
      "border": null,
      "bottom": null,
      "display": null,
      "flex": null,
      "flex_flow": null,
      "grid_area": null,
      "grid_auto_columns": null,
      "grid_auto_flow": null,
      "grid_auto_rows": null,
      "grid_column": null,
      "grid_gap": null,
      "grid_row": null,
      "grid_template_areas": null,
      "grid_template_columns": null,
      "grid_template_rows": null,
      "height": null,
      "justify_content": null,
      "justify_items": null,
      "left": null,
      "margin": null,
      "max_height": null,
      "max_width": null,
      "min_height": null,
      "min_width": null,
      "object_fit": null,
      "object_position": null,
      "order": null,
      "overflow": null,
      "overflow_x": null,
      "overflow_y": null,
      "padding": null,
      "right": null,
      "top": null,
      "visibility": null,
      "width": null
     }
    },
    "7a70dcbc2c544ab3aa73626c8a79eb9b": {
     "model_module": "@jupyter-widgets/controls",
     "model_name": "DescriptionStyleModel",
     "state": {
      "_model_module": "@jupyter-widgets/controls",
      "_model_module_version": "1.5.0",
      "_model_name": "DescriptionStyleModel",
      "_view_count": null,
      "_view_module": "@jupyter-widgets/base",
      "_view_module_version": "1.2.0",
      "_view_name": "StyleView",
      "description_width": ""
     }
    },
    "9e8869da2e444665a771085af1f6d7f0": {
     "model_module": "@jupyter-widgets/base",
     "model_name": "LayoutModel",
     "state": {
      "_model_module": "@jupyter-widgets/base",
      "_model_module_version": "1.2.0",
      "_model_name": "LayoutModel",
      "_view_count": null,
      "_view_module": "@jupyter-widgets/base",
      "_view_module_version": "1.2.0",
      "_view_name": "LayoutView",
      "align_content": null,
      "align_items": null,
      "align_self": null,
      "border": null,
      "bottom": null,
      "display": null,
      "flex": null,
      "flex_flow": null,
      "grid_area": null,
      "grid_auto_columns": null,
      "grid_auto_flow": null,
      "grid_auto_rows": null,
      "grid_column": null,
      "grid_gap": null,
      "grid_row": null,
      "grid_template_areas": null,
      "grid_template_columns": null,
      "grid_template_rows": null,
      "height": null,
      "justify_content": null,
      "justify_items": null,
      "left": null,
      "margin": null,
      "max_height": null,
      "max_width": null,
      "min_height": null,
      "min_width": null,
      "object_fit": null,
      "object_position": null,
      "order": null,
      "overflow": null,
      "overflow_x": null,
      "overflow_y": null,
      "padding": null,
      "right": null,
      "top": null,
      "visibility": null,
      "width": null
     }
    },
    "cebd7b4956184d8bb242034b15599c2f": {
     "model_module": "@jupyter-widgets/controls",
     "model_name": "HBoxModel",
     "state": {
      "_dom_classes": [],
      "_model_module": "@jupyter-widgets/controls",
      "_model_module_version": "1.5.0",
      "_model_name": "HBoxModel",
      "_view_count": null,
      "_view_module": "@jupyter-widgets/controls",
      "_view_module_version": "1.5.0",
      "_view_name": "HBoxView",
      "box_style": "",
      "children": [
       "IPY_MODEL_0e9b762c7eeb4feb95b40049b49e6b0d",
       "IPY_MODEL_29469754152243c587e3494987210d6c"
      ],
      "layout": "IPY_MODEL_4d6571758aef44a290487437569d1aba"
     }
    },
    "e79f4098d4604f929f832a8691d6f3f2": {
     "model_module": "@jupyter-widgets/controls",
     "model_name": "HTMLModel",
     "state": {
      "_dom_classes": [],
      "_model_module": "@jupyter-widgets/controls",
      "_model_module_version": "1.5.0",
      "_model_name": "HTMLModel",
      "_view_count": null,
      "_view_module": "@jupyter-widgets/controls",
      "_view_module_version": "1.5.0",
      "_view_name": "HTMLView",
      "description": "",
      "description_tooltip": null,
      "layout": "IPY_MODEL_4172bb0dff224eb79831e4e76030eee7",
      "placeholder": "​",
      "style": "IPY_MODEL_0560cd99580a4ac3a984cf6ada4dd62d",
      "value": " 40/40 [01:45&lt;00:00,  2.64s/it]"
     }
    },
    "ea0ca8fe84ef467682d81a0bd8c93714": {
     "model_module": "@jupyter-widgets/controls",
     "model_name": "HBoxModel",
     "state": {
      "_dom_classes": [],
      "_model_module": "@jupyter-widgets/controls",
      "_model_module_version": "1.5.0",
      "_model_name": "HBoxModel",
      "_view_count": null,
      "_view_module": "@jupyter-widgets/controls",
      "_view_module_version": "1.5.0",
      "_view_name": "HBoxView",
      "box_style": "",
      "children": [
       "IPY_MODEL_03b27f4042a74589a00fed6a0225044a",
       "IPY_MODEL_e79f4098d4604f929f832a8691d6f3f2"
      ],
      "layout": "IPY_MODEL_057117c006eb4006b785093e744cb4fc"
     }
    }
   }
  }
 },
 "nbformat": 4,
 "nbformat_minor": 1
}
