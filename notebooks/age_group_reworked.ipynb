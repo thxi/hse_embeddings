{
  "nbformat": 4,
  "nbformat_minor": 0,
  "metadata": {
    "colab": {
      "name": "age group reworked.ipynb",
      "provenance": [],
      "collapsed_sections": [],
      "toc_visible": true
    },
    "kernelspec": {
      "name": "python3",
      "display_name": "Python 3"
    },
    "widgets": {
      "application/vnd.jupyter.widget-state+json": {
        "cebd7b4956184d8bb242034b15599c2f": {
          "model_module": "@jupyter-widgets/controls",
          "model_name": "HBoxModel",
          "state": {
            "_view_name": "HBoxView",
            "_dom_classes": [],
            "_model_name": "HBoxModel",
            "_view_module": "@jupyter-widgets/controls",
            "_model_module_version": "1.5.0",
            "_view_count": null,
            "_view_module_version": "1.5.0",
            "box_style": "",
            "layout": "IPY_MODEL_4d6571758aef44a290487437569d1aba",
            "_model_module": "@jupyter-widgets/controls",
            "children": [
              "IPY_MODEL_0e9b762c7eeb4feb95b40049b49e6b0d",
              "IPY_MODEL_29469754152243c587e3494987210d6c"
            ]
          }
        },
        "4d6571758aef44a290487437569d1aba": {
          "model_module": "@jupyter-widgets/base",
          "model_name": "LayoutModel",
          "state": {
            "_view_name": "LayoutView",
            "grid_template_rows": null,
            "right": null,
            "justify_content": null,
            "_view_module": "@jupyter-widgets/base",
            "overflow": null,
            "_model_module_version": "1.2.0",
            "_view_count": null,
            "flex_flow": null,
            "width": null,
            "min_width": null,
            "border": null,
            "align_items": null,
            "bottom": null,
            "_model_module": "@jupyter-widgets/base",
            "top": null,
            "grid_column": null,
            "overflow_y": null,
            "overflow_x": null,
            "grid_auto_flow": null,
            "grid_area": null,
            "grid_template_columns": null,
            "flex": null,
            "_model_name": "LayoutModel",
            "justify_items": null,
            "grid_row": null,
            "max_height": null,
            "align_content": null,
            "visibility": null,
            "align_self": null,
            "height": null,
            "min_height": null,
            "padding": null,
            "grid_auto_rows": null,
            "grid_gap": null,
            "max_width": null,
            "order": null,
            "_view_module_version": "1.2.0",
            "grid_template_areas": null,
            "object_position": null,
            "object_fit": null,
            "grid_auto_columns": null,
            "margin": null,
            "display": null,
            "left": null
          }
        },
        "0e9b762c7eeb4feb95b40049b49e6b0d": {
          "model_module": "@jupyter-widgets/controls",
          "model_name": "FloatProgressModel",
          "state": {
            "_view_name": "ProgressView",
            "style": "IPY_MODEL_3353f6fdcc744fff9c5faeb05ef31441",
            "_dom_classes": [],
            "description": "100%",
            "_model_name": "FloatProgressModel",
            "bar_style": "success",
            "max": 150,
            "_view_module": "@jupyter-widgets/controls",
            "_model_module_version": "1.5.0",
            "value": 150,
            "_view_count": null,
            "_view_module_version": "1.5.0",
            "orientation": "horizontal",
            "min": 0,
            "description_tooltip": null,
            "_model_module": "@jupyter-widgets/controls",
            "layout": "IPY_MODEL_7712edb5bb27459cb00d8eb61c18f2f5"
          }
        },
        "29469754152243c587e3494987210d6c": {
          "model_module": "@jupyter-widgets/controls",
          "model_name": "HTMLModel",
          "state": {
            "_view_name": "HTMLView",
            "style": "IPY_MODEL_7a70dcbc2c544ab3aa73626c8a79eb9b",
            "_dom_classes": [],
            "description": "",
            "_model_name": "HTMLModel",
            "placeholder": "​",
            "_view_module": "@jupyter-widgets/controls",
            "_model_module_version": "1.5.0",
            "value": " 150/150 [17:42&lt;00:00,  7.09s/it]",
            "_view_count": null,
            "_view_module_version": "1.5.0",
            "description_tooltip": null,
            "_model_module": "@jupyter-widgets/controls",
            "layout": "IPY_MODEL_9e8869da2e444665a771085af1f6d7f0"
          }
        },
        "3353f6fdcc744fff9c5faeb05ef31441": {
          "model_module": "@jupyter-widgets/controls",
          "model_name": "ProgressStyleModel",
          "state": {
            "_view_name": "StyleView",
            "_model_name": "ProgressStyleModel",
            "description_width": "initial",
            "_view_module": "@jupyter-widgets/base",
            "_model_module_version": "1.5.0",
            "_view_count": null,
            "_view_module_version": "1.2.0",
            "bar_color": null,
            "_model_module": "@jupyter-widgets/controls"
          }
        },
        "7712edb5bb27459cb00d8eb61c18f2f5": {
          "model_module": "@jupyter-widgets/base",
          "model_name": "LayoutModel",
          "state": {
            "_view_name": "LayoutView",
            "grid_template_rows": null,
            "right": null,
            "justify_content": null,
            "_view_module": "@jupyter-widgets/base",
            "overflow": null,
            "_model_module_version": "1.2.0",
            "_view_count": null,
            "flex_flow": null,
            "width": null,
            "min_width": null,
            "border": null,
            "align_items": null,
            "bottom": null,
            "_model_module": "@jupyter-widgets/base",
            "top": null,
            "grid_column": null,
            "overflow_y": null,
            "overflow_x": null,
            "grid_auto_flow": null,
            "grid_area": null,
            "grid_template_columns": null,
            "flex": null,
            "_model_name": "LayoutModel",
            "justify_items": null,
            "grid_row": null,
            "max_height": null,
            "align_content": null,
            "visibility": null,
            "align_self": null,
            "height": null,
            "min_height": null,
            "padding": null,
            "grid_auto_rows": null,
            "grid_gap": null,
            "max_width": null,
            "order": null,
            "_view_module_version": "1.2.0",
            "grid_template_areas": null,
            "object_position": null,
            "object_fit": null,
            "grid_auto_columns": null,
            "margin": null,
            "display": null,
            "left": null
          }
        },
        "7a70dcbc2c544ab3aa73626c8a79eb9b": {
          "model_module": "@jupyter-widgets/controls",
          "model_name": "DescriptionStyleModel",
          "state": {
            "_view_name": "StyleView",
            "_model_name": "DescriptionStyleModel",
            "description_width": "",
            "_view_module": "@jupyter-widgets/base",
            "_model_module_version": "1.5.0",
            "_view_count": null,
            "_view_module_version": "1.2.0",
            "_model_module": "@jupyter-widgets/controls"
          }
        },
        "9e8869da2e444665a771085af1f6d7f0": {
          "model_module": "@jupyter-widgets/base",
          "model_name": "LayoutModel",
          "state": {
            "_view_name": "LayoutView",
            "grid_template_rows": null,
            "right": null,
            "justify_content": null,
            "_view_module": "@jupyter-widgets/base",
            "overflow": null,
            "_model_module_version": "1.2.0",
            "_view_count": null,
            "flex_flow": null,
            "width": null,
            "min_width": null,
            "border": null,
            "align_items": null,
            "bottom": null,
            "_model_module": "@jupyter-widgets/base",
            "top": null,
            "grid_column": null,
            "overflow_y": null,
            "overflow_x": null,
            "grid_auto_flow": null,
            "grid_area": null,
            "grid_template_columns": null,
            "flex": null,
            "_model_name": "LayoutModel",
            "justify_items": null,
            "grid_row": null,
            "max_height": null,
            "align_content": null,
            "visibility": null,
            "align_self": null,
            "height": null,
            "min_height": null,
            "padding": null,
            "grid_auto_rows": null,
            "grid_gap": null,
            "max_width": null,
            "order": null,
            "_view_module_version": "1.2.0",
            "grid_template_areas": null,
            "object_position": null,
            "object_fit": null,
            "grid_auto_columns": null,
            "margin": null,
            "display": null,
            "left": null
          }
        },
        "ea0ca8fe84ef467682d81a0bd8c93714": {
          "model_module": "@jupyter-widgets/controls",
          "model_name": "HBoxModel",
          "state": {
            "_view_name": "HBoxView",
            "_dom_classes": [],
            "_model_name": "HBoxModel",
            "_view_module": "@jupyter-widgets/controls",
            "_model_module_version": "1.5.0",
            "_view_count": null,
            "_view_module_version": "1.5.0",
            "box_style": "",
            "layout": "IPY_MODEL_057117c006eb4006b785093e744cb4fc",
            "_model_module": "@jupyter-widgets/controls",
            "children": [
              "IPY_MODEL_03b27f4042a74589a00fed6a0225044a",
              "IPY_MODEL_e79f4098d4604f929f832a8691d6f3f2"
            ]
          }
        },
        "057117c006eb4006b785093e744cb4fc": {
          "model_module": "@jupyter-widgets/base",
          "model_name": "LayoutModel",
          "state": {
            "_view_name": "LayoutView",
            "grid_template_rows": null,
            "right": null,
            "justify_content": null,
            "_view_module": "@jupyter-widgets/base",
            "overflow": null,
            "_model_module_version": "1.2.0",
            "_view_count": null,
            "flex_flow": null,
            "width": null,
            "min_width": null,
            "border": null,
            "align_items": null,
            "bottom": null,
            "_model_module": "@jupyter-widgets/base",
            "top": null,
            "grid_column": null,
            "overflow_y": null,
            "overflow_x": null,
            "grid_auto_flow": null,
            "grid_area": null,
            "grid_template_columns": null,
            "flex": null,
            "_model_name": "LayoutModel",
            "justify_items": null,
            "grid_row": null,
            "max_height": null,
            "align_content": null,
            "visibility": null,
            "align_self": null,
            "height": null,
            "min_height": null,
            "padding": null,
            "grid_auto_rows": null,
            "grid_gap": null,
            "max_width": null,
            "order": null,
            "_view_module_version": "1.2.0",
            "grid_template_areas": null,
            "object_position": null,
            "object_fit": null,
            "grid_auto_columns": null,
            "margin": null,
            "display": null,
            "left": null
          }
        },
        "03b27f4042a74589a00fed6a0225044a": {
          "model_module": "@jupyter-widgets/controls",
          "model_name": "FloatProgressModel",
          "state": {
            "_view_name": "ProgressView",
            "style": "IPY_MODEL_17a7e38c942b4305849a85c227483544",
            "_dom_classes": [],
            "description": "100%",
            "_model_name": "FloatProgressModel",
            "bar_style": "success",
            "max": 40,
            "_view_module": "@jupyter-widgets/controls",
            "_model_module_version": "1.5.0",
            "value": 40,
            "_view_count": null,
            "_view_module_version": "1.5.0",
            "orientation": "horizontal",
            "min": 0,
            "description_tooltip": null,
            "_model_module": "@jupyter-widgets/controls",
            "layout": "IPY_MODEL_294027f423094c2d8cc6878bdd7c0f08"
          }
        },
        "e79f4098d4604f929f832a8691d6f3f2": {
          "model_module": "@jupyter-widgets/controls",
          "model_name": "HTMLModel",
          "state": {
            "_view_name": "HTMLView",
            "style": "IPY_MODEL_0560cd99580a4ac3a984cf6ada4dd62d",
            "_dom_classes": [],
            "description": "",
            "_model_name": "HTMLModel",
            "placeholder": "​",
            "_view_module": "@jupyter-widgets/controls",
            "_model_module_version": "1.5.0",
            "value": " 40/40 [01:45&lt;00:00,  2.64s/it]",
            "_view_count": null,
            "_view_module_version": "1.5.0",
            "description_tooltip": null,
            "_model_module": "@jupyter-widgets/controls",
            "layout": "IPY_MODEL_4172bb0dff224eb79831e4e76030eee7"
          }
        },
        "17a7e38c942b4305849a85c227483544": {
          "model_module": "@jupyter-widgets/controls",
          "model_name": "ProgressStyleModel",
          "state": {
            "_view_name": "StyleView",
            "_model_name": "ProgressStyleModel",
            "description_width": "initial",
            "_view_module": "@jupyter-widgets/base",
            "_model_module_version": "1.5.0",
            "_view_count": null,
            "_view_module_version": "1.2.0",
            "bar_color": null,
            "_model_module": "@jupyter-widgets/controls"
          }
        },
        "294027f423094c2d8cc6878bdd7c0f08": {
          "model_module": "@jupyter-widgets/base",
          "model_name": "LayoutModel",
          "state": {
            "_view_name": "LayoutView",
            "grid_template_rows": null,
            "right": null,
            "justify_content": null,
            "_view_module": "@jupyter-widgets/base",
            "overflow": null,
            "_model_module_version": "1.2.0",
            "_view_count": null,
            "flex_flow": null,
            "width": null,
            "min_width": null,
            "border": null,
            "align_items": null,
            "bottom": null,
            "_model_module": "@jupyter-widgets/base",
            "top": null,
            "grid_column": null,
            "overflow_y": null,
            "overflow_x": null,
            "grid_auto_flow": null,
            "grid_area": null,
            "grid_template_columns": null,
            "flex": null,
            "_model_name": "LayoutModel",
            "justify_items": null,
            "grid_row": null,
            "max_height": null,
            "align_content": null,
            "visibility": null,
            "align_self": null,
            "height": null,
            "min_height": null,
            "padding": null,
            "grid_auto_rows": null,
            "grid_gap": null,
            "max_width": null,
            "order": null,
            "_view_module_version": "1.2.0",
            "grid_template_areas": null,
            "object_position": null,
            "object_fit": null,
            "grid_auto_columns": null,
            "margin": null,
            "display": null,
            "left": null
          }
        },
        "0560cd99580a4ac3a984cf6ada4dd62d": {
          "model_module": "@jupyter-widgets/controls",
          "model_name": "DescriptionStyleModel",
          "state": {
            "_view_name": "StyleView",
            "_model_name": "DescriptionStyleModel",
            "description_width": "",
            "_view_module": "@jupyter-widgets/base",
            "_model_module_version": "1.5.0",
            "_view_count": null,
            "_view_module_version": "1.2.0",
            "_model_module": "@jupyter-widgets/controls"
          }
        },
        "4172bb0dff224eb79831e4e76030eee7": {
          "model_module": "@jupyter-widgets/base",
          "model_name": "LayoutModel",
          "state": {
            "_view_name": "LayoutView",
            "grid_template_rows": null,
            "right": null,
            "justify_content": null,
            "_view_module": "@jupyter-widgets/base",
            "overflow": null,
            "_model_module_version": "1.2.0",
            "_view_count": null,
            "flex_flow": null,
            "width": null,
            "min_width": null,
            "border": null,
            "align_items": null,
            "bottom": null,
            "_model_module": "@jupyter-widgets/base",
            "top": null,
            "grid_column": null,
            "overflow_y": null,
            "overflow_x": null,
            "grid_auto_flow": null,
            "grid_area": null,
            "grid_template_columns": null,
            "flex": null,
            "_model_name": "LayoutModel",
            "justify_items": null,
            "grid_row": null,
            "max_height": null,
            "align_content": null,
            "visibility": null,
            "align_self": null,
            "height": null,
            "min_height": null,
            "padding": null,
            "grid_auto_rows": null,
            "grid_gap": null,
            "max_width": null,
            "order": null,
            "_view_module_version": "1.2.0",
            "grid_template_areas": null,
            "object_position": null,
            "object_fit": null,
            "grid_auto_columns": null,
            "margin": null,
            "display": null,
            "left": null
          }
        }
      }
    },
    "accelerator": "GPU"
  },
  "cells": [
    {
      "cell_type": "markdown",
      "metadata": {
        "id": "RksiFIVKKhpJ"
      },
      "source": [
        "based on https://arxiv.org/pdf/2002.08232.pdf"
      ]
    },
    {
      "cell_type": "code",
      "metadata": {
        "id": "lMde13VLDjiH"
      },
      "source": [
        "!pip install pytorch-metric-learning > /dev/null\n",
        "\n",
        "# probably not needed\n",
        "# although can try knn\n",
        "!pip install faiss-gpu > /dev/null"
      ],
      "execution_count": null,
      "outputs": []
    },
    {
      "cell_type": "code",
      "metadata": {
        "id": "thKgYQF3URYw"
      },
      "source": [
        "import pandas as pd\n",
        "import numpy as np\n",
        "import matplotlib.pyplot as plt\n",
        "import seaborn as sns\n",
        "\n",
        "sns.set()\n",
        "\n",
        "sns.set_style(\"whitegrid\", {'axes.grid' : False})\n",
        "\n",
        "# from tqdm.notebook import tqdm\n",
        "from tqdm.auto import tqdm"
      ],
      "execution_count": null,
      "outputs": []
    },
    {
      "cell_type": "markdown",
      "metadata": {
        "id": "6TE8tM1jVt5a"
      },
      "source": [
        "# cuda"
      ]
    },
    {
      "cell_type": "code",
      "metadata": {
        "id": "UBFRCZowUWGt",
        "colab": {
          "base_uri": "https://localhost:8080/"
        },
        "outputId": "09cfb931-6126-4fcf-f0b6-d6abfa0d4ba5"
      },
      "source": [
        "import torch\n",
        "torch.cuda.is_available()"
      ],
      "execution_count": null,
      "outputs": [
        {
          "output_type": "execute_result",
          "data": {
            "text/plain": [
              "True"
            ]
          },
          "metadata": {
            "tags": []
          },
          "execution_count": 9
        }
      ]
    },
    {
      "cell_type": "code",
      "metadata": {
        "id": "Q-kXTk-bNPzx",
        "colab": {
          "base_uri": "https://localhost:8080/"
        },
        "outputId": "7a991cca-3b7a-4ec3-9fa8-ee0b5fce2537"
      },
      "source": [
        "device = torch.device(\"cuda:0\" if torch.cuda.is_available() else \"cpu\")\n",
        "\n",
        "# Assuming that we are on a CUDA machine, this should print a CUDA device:\n",
        "\n",
        "print(device)"
      ],
      "execution_count": null,
      "outputs": [
        {
          "output_type": "stream",
          "text": [
            "cuda:0\n"
          ],
          "name": "stdout"
        }
      ]
    },
    {
      "cell_type": "markdown",
      "metadata": {
        "id": "-_RBRZ19P7qm"
      },
      "source": [
        "# Data"
      ]
    },
    {
      "cell_type": "code",
      "metadata": {
        "id": "IRcnhYxEQuBx"
      },
      "source": [
        "from pathlib import Path"
      ],
      "execution_count": null,
      "outputs": []
    },
    {
      "cell_type": "code",
      "metadata": {
        "colab": {
          "base_uri": "https://localhost:8080/"
        },
        "id": "ETgz1ywNBx-v",
        "outputId": "7960aac2-8ecc-4025-8161-b63cac8aaf4f"
      },
      "source": [
        "from google.colab import drive\n",
        "\n",
        "drive.mount('/content/gdrive')"
      ],
      "execution_count": null,
      "outputs": [
        {
          "output_type": "stream",
          "text": [
            "Mounted at /content/gdrive\n"
          ],
          "name": "stdout"
        }
      ]
    },
    {
      "cell_type": "markdown",
      "metadata": {
        "id": "o6QBVJKXtGE0"
      },
      "source": [
        "using gdrive, change accordingly"
      ]
    },
    {
      "cell_type": "code",
      "metadata": {
        "id": "hMUa0BOyCfI8"
      },
      "source": [
        "data_path = Path('/content/gdrive/MyDrive/courses/hse/3/project/data age group/data.zip')"
      ],
      "execution_count": null,
      "outputs": []
    },
    {
      "cell_type": "code",
      "metadata": {
        "id": "QSxCnraxCi9X"
      },
      "source": [
        "! cp '{data_path}' ."
      ],
      "execution_count": null,
      "outputs": []
    },
    {
      "cell_type": "code",
      "metadata": {
        "id": "Of_cJy18CuLo",
        "colab": {
          "base_uri": "https://localhost:8080/"
        },
        "outputId": "13b63d1f-f077-4acf-940d-cf8d7ae551f5"
      },
      "source": [
        "!unzip -o data.zip"
      ],
      "execution_count": null,
      "outputs": [
        {
          "output_type": "stream",
          "text": [
            "Archive:  data.zip\n",
            "   creating: data/\n",
            "  inflating: data/test.csv           \n",
            "   creating: __MACOSX/\n",
            "   creating: __MACOSX/data/\n",
            "  inflating: __MACOSX/data/._test.csv  \n",
            "  inflating: data/small_group_description.csv  \n",
            "  inflating: __MACOSX/data/._small_group_description.csv  \n",
            "  inflating: data/train_target.csv   \n",
            "  inflating: __MACOSX/data/._train_target.csv  \n",
            "  inflating: data/transactions_train.csv  \n",
            "  inflating: __MACOSX/data/._transactions_train.csv  \n",
            "  inflating: data/transactions_test.csv  \n",
            "  inflating: __MACOSX/data/._transactions_test.csv  \n"
          ],
          "name": "stdout"
        }
      ]
    },
    {
      "cell_type": "markdown",
      "metadata": {
        "id": "XxC2OnRGNjfh"
      },
      "source": [
        "## Dataloader"
      ]
    },
    {
      "cell_type": "code",
      "metadata": {
        "id": "Bo2W99FK8NGQ"
      },
      "source": [
        "import torch"
      ],
      "execution_count": null,
      "outputs": []
    },
    {
      "cell_type": "code",
      "metadata": {
        "id": "GmjoA97S5JX9"
      },
      "source": [
        "import os\n",
        "from pathlib import Path"
      ],
      "execution_count": null,
      "outputs": []
    },
    {
      "cell_type": "code",
      "metadata": {
        "id": "cladcboQMnou"
      },
      "source": [
        "def normalize(col):\n",
        "    return (col - col.mean())/col.std()\n",
        "\n",
        "def process_transactions(df):\n",
        "    shifted = (\n",
        "        df\n",
        "        .sort_values(['client_id', 'trans_date'])\n",
        "        .groupby('client_id')['trans_date'].shift(1)\n",
        "    ).reset_index()\n",
        "    df['prev_date'] = shifted['trans_date']\n",
        "    # drop first transaction for each client since it does not have the prev date\n",
        "    df = df[~shifted['trans_date'].isna()].copy()\n",
        "    df['prev_diff'] = df['trans_date'] - df['prev_date']\n",
        "    df.drop('prev_date', axis=1, inplace=True)\n",
        "    df['weekday'] = df['trans_date'] % 7\n",
        "    for c in ['amount_rur', 'weekday', 'trans_date', 'prev_diff']:\n",
        "        df[c] = normalize(df[c])\n",
        "    return df"
      ],
      "execution_count": null,
      "outputs": []
    },
    {
      "cell_type": "code",
      "metadata": {
        "id": "lx7_KZ1m5JX-"
      },
      "source": [
        "import pickle\n",
        "\n",
        "NUM_OF_SUBSEQUENCES = 5 # number of sequences per person\n",
        "SUBSEQUENCE_LENGTH = 90 # should be random??? mean number of transactions per sample is 881\n",
        "\n",
        "class AgeDataset(torch.utils.data.Dataset):\n",
        "    def __init__(\n",
        "        self,\n",
        "        seq_length=SUBSEQUENCE_LENGTH,\n",
        "        root=Path('./data/')\n",
        "    ):\n",
        "        super().__init__()\n",
        "        raw_df = pd.read_csv(root/'transactions_train.csv')\n",
        "\n",
        "        # NOTE: remapping client_ids to indices\n",
        "        self.idx2client = raw_df['client_id'].unique()\n",
        "\n",
        "        raw_df['client_id'] = raw_df['client_id'].map({v: k for k, v in enumerate(self.idx2client)})\n",
        "        \n",
        "        self.df = process_transactions(raw_df)\n",
        "        self.df = self.df.sort_values(['client_id', 'trans_date'])\n",
        "\n",
        "        self.numerical = torch.from_numpy(self.df.drop('client_id', axis=1).to_numpy()).type(torch.float32)\n",
        "        self.categorical = torch.from_numpy(self.df[['small_group']].to_numpy()).type(torch.int)\n",
        "\n",
        "        self.targets = list(range(len(self.idx2client)))\n",
        "\n",
        "    def __getitem__(self, idx: int):\n",
        "        # outputs ((n, c), idx)\n",
        "        # dim(n,c) are  NUM_OF_SUBSEQUENCES x SUBSEQUENCE_LENGTH x feature_dim\n",
        "\n",
        "        n, c = self.get_sequence(idx)\n",
        "        \n",
        "        subsequences = torch.zeros((NUM_OF_SUBSEQUENCES, SUBSEQUENCE_LENGTH, n.size(1)+c.size(1)))\n",
        "        sn = torch.zeros((NUM_OF_SUBSEQUENCES, SUBSEQUENCE_LENGTH, n.size(1))).type(torch.float32)\n",
        "        sc = torch.zeros((NUM_OF_SUBSEQUENCES, SUBSEQUENCE_LENGTH, c.size(1))).type(torch.int)\n",
        "\n",
        "        seq_len = n.size(0)\n",
        "        for i in range(NUM_OF_SUBSEQUENCES):\n",
        "            start_index = np.random.randint(0, seq_len-SUBSEQUENCE_LENGTH+1)\n",
        "            end_index = start_index + SUBSEQUENCE_LENGTH\n",
        "            nsubseq = n[start_index:end_index]\n",
        "            csubseq = c[start_index:end_index]\n",
        "\n",
        "            sn[i] = nsubseq\n",
        "            sc[i] = csubseq\n",
        "\n",
        "        return (sn, sc), idx\n",
        "\n",
        "    def __len__(self):\n",
        "        return len(self.client_to_indices)\n",
        "    \n",
        "    def get_sequence(self, idx):\n",
        "        s, e = self.client_to_indices[idx]\n",
        "        n = self.numerical[s:e]\n",
        "        c = self.categorical[s:e]\n",
        "        return n, c\n",
        "\n",
        "    def build_client_to_indices(self):\n",
        "        self.client_to_indices = {} # tuple of (index start, index after end)\n",
        "        # so that numpy_array[1:end] yields the sequence\n",
        "        current = dataset.df.iloc[0, 0]\n",
        "        start_idx = 0\n",
        "        print('getting indices', len(self.df))\n",
        "        for i, (_, r) in tqdm(enumerate(self.df.iterrows())):\n",
        "            if current != r['client_id']:\n",
        "                self.client_to_indices[current] = (start_idx, i)\n",
        "                start_idx = i\n",
        "                current = r['client_id']\n",
        "        \n",
        "        self.client_to_indices[current] = (start_idx, i+1)\n",
        "    \n",
        "    def load_client_to_indices(self):\n",
        "        self.client_to_indices = pickle.load(open(\"client_to_indices.p\", \"rb\"))\n",
        "    def save_client_to_indices(self):\n",
        "        pickle.dump(self.client_to_indices, open(\"client_to_indices.p\", \"wb\"))"
      ],
      "execution_count": null,
      "outputs": []
    },
    {
      "cell_type": "markdown",
      "metadata": {
        "id": "MhXjo4Rjl-JV"
      },
      "source": [
        "# Net"
      ]
    },
    {
      "cell_type": "markdown",
      "metadata": {
        "id": "Oj1aJazjlb_o"
      },
      "source": [
        "https://arxiv.org/pdf/1911.02496.pdf"
      ]
    },
    {
      "cell_type": "code",
      "metadata": {
        "id": "CsXGNkxe7V7N"
      },
      "source": [
        "import torch.nn as nn\n",
        "import torch.nn.functional as F\n",
        "import torch.optim as optim"
      ],
      "execution_count": null,
      "outputs": []
    },
    {
      "cell_type": "code",
      "metadata": {
        "id": "HqAw1J9Mjk0J"
      },
      "source": [
        "class Encoder(nn.Module):\n",
        "    def __init__(self, numerical_input_dim, embedding_dim, cat_vocab_sizes):\n",
        "        # only 1 categorical feature for now\n",
        "        super(Encoder, self).__init__()\n",
        "        self.numerical_input_dim = numerical_input_dim\n",
        "        self.embedding_dim = embedding_dim\n",
        "        self.cat_vocab_sizes = cat_vocab_sizes\n",
        "\n",
        "        cat_dim = len(cat_vocab_sizes)\n",
        "\n",
        "        # self.num_event_encoder = nn.Sequential(\n",
        "        #     self.block(numerical_input_dim, 8),\n",
        "        #     self.block(8, 16),\n",
        "        #     self.block(16, 32),\n",
        "        #     nn.Linear(32, int(embedding_dim/2)),\n",
        "        #     nn.Sigmoid(),\n",
        "        # )\n",
        "        self.num_event_encoder = nn.BatchNorm1d(numerical_input_dim)\n",
        "\n",
        "        self.cat_encoder = nn.Embedding(cat_vocab_sizes[0], int(embedding_dim/2))\n",
        "\n",
        "        # self.sequence_encoder = nn.Sequential(\n",
        "        #     nn.GRU(embedding_dim, embedding_dim, batch_first=False)\n",
        "        # )\n",
        "        self.sequence_encoder = nn.Sequential(\n",
        "            nn.GRU(numerical_input_dim+int(embedding_dim/2), embedding_dim, batch_first=False)\n",
        "        )\n",
        "\n",
        "    def forward(self, n, c):\n",
        "        # receives BATCH_SIZE*NUM_OF_SEQUENCES*SUBSEQUENCE_LENGTH*input_dim\n",
        "\n",
        "        n = n.view(-1, self.numerical_input_dim)\n",
        "        n = self.num_event_encoder(n)\n",
        "        # n = n.view(-1, SUBSEQUENCE_LENGTH, int(self.embedding_dim/2))\n",
        "        n = n.view(-1, SUBSEQUENCE_LENGTH, self.numerical_input_dim)\n",
        "        \n",
        "        c = c.view(-1, 1)\n",
        "        c = self.cat_encoder(c)\n",
        "        c = c.view(-1, SUBSEQUENCE_LENGTH, int(self.embedding_dim/2))\n",
        "\n",
        "        x = torch.cat((n, c), 2)\n",
        "\n",
        "        # receives BATCH_SIZE*SUBSEQUENCE_LENGTH*embedding_dim\n",
        "        x = torch.transpose(x, 0, 1) # so that its (seq_len, batch, input_size)\n",
        "\n",
        "        x = self.sequence_encoder(x)[0][-1]\n",
        "\n",
        "        # normalization embedding to have unit norm\n",
        "        x = x/torch.linalg.norm(x, dim=1).unsqueeze(1).repeat(1, self.embedding_dim)\n",
        "\n",
        "        return x\n",
        "    \n",
        "    def block(self, in_dim, out_dim, bn=True):\n",
        "        return nn.Sequential(\n",
        "            nn.Linear(in_dim, out_dim),\n",
        "            nn.Sigmoid(),\n",
        "            nn.BatchNorm1d(out_dim))"
      ],
      "execution_count": null,
      "outputs": []
    },
    {
      "cell_type": "code",
      "metadata": {
        "id": "2Hm2QE1h3OCO"
      },
      "source": [
        "# todo: decoder NN\n",
        "class Decoder(nn.Module):\n",
        "    def __init__(self, input_dim):\n",
        "        super(Decoder, self).__init__()\n",
        "        self.input_dim = input_dim\n",
        "\n",
        "        self.decoder = nn.Sequential(\n",
        "            self.block(input_dim, 64),\n",
        "            self.block(64, 16),\n",
        "            self.block(16, 4),\n",
        "            nn.Linear(4, 4),\n",
        "        )\n",
        "\n",
        "    def forward(self, x):\n",
        "        x = self.decoder(x)\n",
        "        return x\n",
        "    \n",
        "    def block(self, in_dim, out_dim):\n",
        "        return nn.Sequential(\n",
        "            nn.Linear(in_dim, out_dim),\n",
        "            nn.Sigmoid(),\n",
        "            nn.BatchNorm1d(out_dim))"
      ],
      "execution_count": null,
      "outputs": []
    },
    {
      "cell_type": "markdown",
      "metadata": {
        "id": "fkHW7YKHnpCR"
      },
      "source": [
        "# Train embedding"
      ]
    },
    {
      "cell_type": "code",
      "metadata": {
        "id": "P_mLsoBGt4QY"
      },
      "source": [
        "from pytorch_metric_learning import losses, miners, distances, reducers, samplers"
      ],
      "execution_count": null,
      "outputs": []
    },
    {
      "cell_type": "code",
      "metadata": {
        "id": "pm80PCIl79LE"
      },
      "source": [
        "BATCH_SIZE = 64 # BATCH_SIZE unique persons\n",
        "SAMPLES_PER_CLASS = 1 # drawing 64 classes per batch\n",
        "\n",
        "EMBEDDING_DIM = 256\n",
        "LR = 0.001\n",
        "NUM_EPOCHS = 150"
      ],
      "execution_count": null,
      "outputs": []
    },
    {
      "cell_type": "code",
      "metadata": {
        "id": "GYYj4IyZdrtg"
      },
      "source": [
        "dataset = AgeDataset()"
      ],
      "execution_count": null,
      "outputs": []
    },
    {
      "cell_type": "code",
      "metadata": {
        "id": "OjphiJYEr3l2"
      },
      "source": [
        "dataset.build_client_to_indices()"
      ],
      "execution_count": null,
      "outputs": []
    },
    {
      "cell_type": "code",
      "metadata": {
        "id": "Lcs1bwFw3h8-"
      },
      "source": [
        ""
      ],
      "execution_count": null,
      "outputs": []
    },
    {
      "cell_type": "code",
      "metadata": {
        "id": "EOR_ZsJ7CzgL"
      },
      "source": [
        "# optionally load dataset from pickle file\n",
        "!cp '/content/gdrive/MyDrive/courses/hse/3/project/data age group/client_to_indices.zip' client_to_indices.zip\n",
        "!unzip -o client_to_indices.zip"
      ],
      "execution_count": null,
      "outputs": []
    },
    {
      "cell_type": "code",
      "metadata": {
        "id": "EY6GM_RjsCWg"
      },
      "source": [
        "dataset.load_client_to_indices()"
      ],
      "execution_count": null,
      "outputs": []
    },
    {
      "cell_type": "code",
      "metadata": {
        "id": "vNdVHSPr3de2"
      },
      "source": [
        "import random"
      ],
      "execution_count": null,
      "outputs": []
    },
    {
      "cell_type": "code",
      "metadata": {
        "id": "WxzkX-VZ3zJu"
      },
      "source": [
        "torch.manual_seed(0)\n",
        "random.seed(0)\n",
        "np.random.seed(0)"
      ],
      "execution_count": null,
      "outputs": []
    },
    {
      "cell_type": "code",
      "metadata": {
        "id": "XB6H3g74Nflk"
      },
      "source": [
        "targets = dataset.targets"
      ],
      "execution_count": null,
      "outputs": []
    },
    {
      "cell_type": "code",
      "metadata": {
        "id": "DQfIOu14uO9m"
      },
      "source": [
        "sampler = samplers.MPerClassSampler(\n",
        "    targets, SAMPLES_PER_CLASS, batch_size=BATCH_SIZE,\n",
        "    length_before_new_iter=BATCH_SIZE * 100) # 100 batches per epoch"
      ],
      "execution_count": null,
      "outputs": []
    },
    {
      "cell_type": "code",
      "metadata": {
        "id": "2W-DuPoHuACu"
      },
      "source": [
        "dataloader = torch.utils.data.DataLoader(\n",
        "    dataset, batch_size=BATCH_SIZE,\n",
        "    num_workers=0,\n",
        "    sampler=sampler,\n",
        ")"
      ],
      "execution_count": null,
      "outputs": []
    },
    {
      "cell_type": "code",
      "metadata": {
        "colab": {
          "base_uri": "https://localhost:8080/"
        },
        "id": "KOnRcmgI4fdy",
        "outputId": "ff619c2f-83e8-4a00-f9ab-c3d3c4b80405"
      },
      "source": [
        "# check\n",
        "dataiter = iter(dataloader)\n",
        "sequences, labels = dataiter.next()\n",
        "\n",
        "# should be BATCH_SIZExNUM_OF_SUBSEQUENCESxSUBSEQUENCE_LENGTHx(num_features)\n",
        "sequences[0].shape, sequences[1].shape"
      ],
      "execution_count": null,
      "outputs": [
        {
          "output_type": "execute_result",
          "data": {
            "text/plain": [
              "(torch.Size([64, 5, 90, 5]), torch.Size([64, 5, 90, 1]))"
            ]
          },
          "metadata": {
            "tags": []
          },
          "execution_count": 55
        }
      ]
    },
    {
      "cell_type": "code",
      "metadata": {
        "id": "AZBeoMARzDpJ"
      },
      "source": [
        "num_input_dim = sequences[0].size(-1)\n",
        "cat_vocab_sizes = [204]\n",
        "\n",
        "encoder = Encoder(\n",
        "    numerical_input_dim=num_input_dim,\n",
        "    embedding_dim=EMBEDDING_DIM,\n",
        "    cat_vocab_sizes=cat_vocab_sizes \n",
        ")\n",
        "encoder.to(device);"
      ],
      "execution_count": null,
      "outputs": []
    },
    {
      "cell_type": "code",
      "metadata": {
        "id": "zAtga1V14KOS"
      },
      "source": [
        "LR = 0.003"
      ],
      "execution_count": null,
      "outputs": []
    },
    {
      "cell_type": "code",
      "metadata": {
        "id": "8YuKXKv_zEX3"
      },
      "source": [
        "optimizer = optim.Adam(encoder.parameters(), lr=LR)"
      ],
      "execution_count": null,
      "outputs": []
    },
    {
      "cell_type": "code",
      "metadata": {
        "id": "KzpMLdIMyUWp"
      },
      "source": [
        "distance = distances.CosineSimilarity()\n",
        "reducer = reducers.ThresholdReducer(low = 0) # basically, returns average\n",
        "loss_func = losses.TripletMarginLoss(margin = 0.4, distance = distance, reducer = reducer)\n",
        "mining_func = miners.TripletMarginMiner(margin = 0.4, distance = distance, type_of_triplets = \"semihard\")\n",
        "\n",
        "# sota\n",
        "# loss_func = losses.ArcFaceLoss(\n",
        "#     num_classes=len(targets), embedding_size=EMBEDDING_DIM,\n",
        "#     distance=distance).to(torch.device('cuda')) # not sure why we need to move it to cuda"
      ],
      "execution_count": null,
      "outputs": []
    },
    {
      "cell_type": "code",
      "metadata": {
        "id": "7hGQhrXf1g8G"
      },
      "source": [
        "NUM_EPOCHS = 60"
      ],
      "execution_count": null,
      "outputs": []
    },
    {
      "cell_type": "code",
      "metadata": {
        "id": "-UX0iDalo6_G",
        "colab": {
          "base_uri": "https://localhost:8080/",
          "height": 1000,
          "referenced_widgets": [
            "cebd7b4956184d8bb242034b15599c2f",
            "4d6571758aef44a290487437569d1aba",
            "0e9b762c7eeb4feb95b40049b49e6b0d",
            "29469754152243c587e3494987210d6c",
            "3353f6fdcc744fff9c5faeb05ef31441",
            "7712edb5bb27459cb00d8eb61c18f2f5",
            "7a70dcbc2c544ab3aa73626c8a79eb9b",
            "9e8869da2e444665a771085af1f6d7f0"
          ]
        },
        "outputId": "43123ca2-f54d-4cb4-b8f0-ceb0ed586f60"
      },
      "source": [
        "train_losses = []\n",
        "train_accuracy = []\n",
        "val_losses = []\n",
        "val_accuracy = []\n",
        "\n",
        "for epoch in tqdm(range(NUM_EPOCHS)):\n",
        "    encoder.train()\n",
        "    epoch_losses = []\n",
        "    for batch_idx, (sequences, labels) in enumerate(dataloader):\n",
        "        n, c = sequences[0], sequences[1]\n",
        "        n = n.to(device)\n",
        "        c = c.to(device)\n",
        "\n",
        "        labels = torch.repeat_interleave(labels, NUM_OF_SUBSEQUENCES)\n",
        "        labels = labels.to(device)\n",
        "\n",
        "        embeddings = encoder(n, c)\n",
        "        indices_tuple = mining_func(embeddings, labels)\n",
        "        loss = loss_func(embeddings, labels, indices_tuple)\n",
        "\n",
        "        optimizer.zero_grad()\n",
        "        loss.backward()\n",
        "        optimizer.step()\n",
        "\n",
        "        epoch_losses.append(loss.item())\n",
        "\n",
        "    epoch_loss = torch.tensor(epoch_losses).mean()\n",
        "    train_losses.append(epoch_loss)\n",
        "\n",
        "    print(\"Epoch {} Loss = {}\".format(epoch, epoch_loss))"
      ],
      "execution_count": null,
      "outputs": [
        {
          "output_type": "display_data",
          "data": {
            "application/vnd.jupyter.widget-view+json": {
              "model_id": "cebd7b4956184d8bb242034b15599c2f",
              "version_minor": 0,
              "version_major": 2
            },
            "text/plain": [
              "HBox(children=(FloatProgress(value=0.0, max=150.0), HTML(value='')))"
            ]
          },
          "metadata": {
            "tags": []
          }
        },
        {
          "output_type": "stream",
          "text": [
            "Epoch 0 Loss = 0.20320259034633636\n",
            "Epoch 1 Loss = 0.1754402369260788\n",
            "Epoch 2 Loss = 0.1540159434080124\n",
            "Epoch 3 Loss = 0.14956270158290863\n",
            "Epoch 4 Loss = 0.14798250794410706\n",
            "Epoch 5 Loss = 0.14711222052574158\n",
            "Epoch 6 Loss = 0.14577516913414001\n",
            "Epoch 7 Loss = 0.14360639452934265\n",
            "Epoch 8 Loss = 0.14384675025939941\n",
            "Epoch 9 Loss = 0.14247561991214752\n",
            "Epoch 10 Loss = 0.14261625707149506\n",
            "Epoch 11 Loss = 0.14223261177539825\n",
            "Epoch 12 Loss = 0.14246271550655365\n",
            "Epoch 13 Loss = 0.1409086436033249\n",
            "Epoch 14 Loss = 0.14103779196739197\n",
            "Epoch 15 Loss = 0.14053229987621307\n",
            "Epoch 16 Loss = 0.14094696938991547\n",
            "Epoch 17 Loss = 0.14037686586380005\n",
            "Epoch 18 Loss = 0.13946136832237244\n",
            "Epoch 19 Loss = 0.1399168074131012\n",
            "Epoch 20 Loss = 0.14005233347415924\n",
            "Epoch 21 Loss = 0.13925598561763763\n",
            "Epoch 22 Loss = 0.13953708112239838\n",
            "Epoch 23 Loss = 0.13944478332996368\n",
            "Epoch 24 Loss = 0.13953131437301636\n",
            "Epoch 25 Loss = 0.13916906714439392\n",
            "Epoch 26 Loss = 0.1393621861934662\n",
            "Epoch 27 Loss = 0.13956376910209656\n",
            "Epoch 28 Loss = 0.13861122727394104\n",
            "Epoch 29 Loss = 0.13854224979877472\n",
            "Epoch 30 Loss = 0.13906919956207275\n",
            "Epoch 31 Loss = 0.13856391608715057\n",
            "Epoch 32 Loss = 0.1390577256679535\n",
            "Epoch 33 Loss = 0.13884463906288147\n",
            "Epoch 34 Loss = 0.1381172239780426\n",
            "Epoch 35 Loss = 0.13883298635482788\n",
            "Epoch 36 Loss = 0.13872522115707397\n",
            "Epoch 37 Loss = 0.13782009482383728\n",
            "Epoch 38 Loss = 0.13822242617607117\n",
            "Epoch 39 Loss = 0.13823208212852478\n",
            "Epoch 40 Loss = 0.13830839097499847\n",
            "Epoch 41 Loss = 0.13820421695709229\n",
            "Epoch 42 Loss = 0.13814926147460938\n",
            "Epoch 43 Loss = 0.13759028911590576\n",
            "Epoch 44 Loss = 0.13794122636318207\n",
            "Epoch 45 Loss = 0.13768963515758514\n",
            "Epoch 46 Loss = 0.1379697620868683\n",
            "Epoch 47 Loss = 0.13740067183971405\n",
            "Epoch 48 Loss = 0.13750280439853668\n",
            "Epoch 49 Loss = 0.13829833269119263\n",
            "Epoch 50 Loss = 0.13768912851810455\n",
            "Epoch 51 Loss = 0.13762883841991425\n",
            "Epoch 52 Loss = 0.13767069578170776\n",
            "Epoch 53 Loss = 0.13704738020896912\n",
            "Epoch 54 Loss = 0.13711999356746674\n",
            "Epoch 55 Loss = 0.13783222436904907\n",
            "Epoch 56 Loss = 0.13691702485084534\n",
            "Epoch 57 Loss = 0.13727223873138428\n",
            "Epoch 58 Loss = 0.13731540739536285\n",
            "Epoch 59 Loss = 0.13708671927452087\n",
            "Epoch 60 Loss = 0.13698120415210724\n",
            "Epoch 61 Loss = 0.13716985285282135\n",
            "Epoch 62 Loss = 0.13693657517433167\n",
            "Epoch 63 Loss = 0.13685786724090576\n",
            "Epoch 64 Loss = 0.13702359795570374\n",
            "Epoch 65 Loss = 0.13727252185344696\n",
            "Epoch 66 Loss = 0.1357681155204773\n",
            "Epoch 67 Loss = 0.13676580786705017\n",
            "Epoch 68 Loss = 0.1371992528438568\n",
            "Epoch 69 Loss = 0.13727425038814545\n",
            "Epoch 70 Loss = 0.1363839954137802\n",
            "Epoch 71 Loss = 0.1360083520412445\n",
            "Epoch 72 Loss = 0.13611304759979248\n",
            "Epoch 73 Loss = 0.13686738908290863\n",
            "Epoch 74 Loss = 0.13646171987056732\n",
            "Epoch 75 Loss = 0.13603828847408295\n",
            "Epoch 76 Loss = 0.1363469362258911\n",
            "Epoch 77 Loss = 0.13609352707862854\n",
            "Epoch 78 Loss = 0.13701900839805603\n",
            "Epoch 79 Loss = 0.1362328827381134\n",
            "Epoch 80 Loss = 0.13614767789840698\n",
            "Epoch 81 Loss = 0.13586540520191193\n",
            "Epoch 82 Loss = 0.13587285578250885\n",
            "Epoch 83 Loss = 0.13632816076278687\n",
            "Epoch 84 Loss = 0.13653825223445892\n",
            "Epoch 85 Loss = 0.13544699549674988\n",
            "Epoch 86 Loss = 0.13643191754817963\n",
            "Epoch 87 Loss = 0.13633456826210022\n",
            "Epoch 88 Loss = 0.13559629023075104\n",
            "Epoch 89 Loss = 0.13485239446163177\n",
            "Epoch 90 Loss = 0.13590878248214722\n",
            "Epoch 91 Loss = 0.13498200476169586\n",
            "Epoch 92 Loss = 0.13624368607997894\n",
            "Epoch 93 Loss = 0.13581258058547974\n",
            "Epoch 94 Loss = 0.1357712745666504\n",
            "Epoch 95 Loss = 0.1356768012046814\n",
            "Epoch 96 Loss = 0.13602805137634277\n",
            "Epoch 97 Loss = 0.13489872217178345\n",
            "Epoch 98 Loss = 0.13660095632076263\n",
            "Epoch 99 Loss = 0.135725200176239\n",
            "Epoch 100 Loss = 0.13562098145484924\n",
            "Epoch 101 Loss = 0.13552559912204742\n",
            "Epoch 102 Loss = 0.1349164843559265\n",
            "Epoch 103 Loss = 0.13486838340759277\n",
            "Epoch 104 Loss = 0.13465628027915955\n",
            "Epoch 105 Loss = 0.13478052616119385\n",
            "Epoch 106 Loss = 0.1350727677345276\n",
            "Epoch 107 Loss = 0.13493527472019196\n",
            "Epoch 108 Loss = 0.13530386984348297\n",
            "Epoch 109 Loss = 0.13591669499874115\n",
            "Epoch 110 Loss = 0.13482718169689178\n",
            "Epoch 111 Loss = 0.1348344385623932\n",
            "Epoch 112 Loss = 0.13458245992660522\n",
            "Epoch 113 Loss = 0.13503941893577576\n",
            "Epoch 114 Loss = 0.13425061106681824\n",
            "Epoch 115 Loss = 0.1343057006597519\n",
            "Epoch 116 Loss = 0.13529424369335175\n",
            "Epoch 117 Loss = 0.13557429611682892\n",
            "Epoch 118 Loss = 0.13529956340789795\n",
            "Epoch 119 Loss = 0.13479867577552795\n",
            "Epoch 120 Loss = 0.13530784845352173\n",
            "Epoch 121 Loss = 0.13403072953224182\n",
            "Epoch 122 Loss = 0.1349586546421051\n",
            "Epoch 123 Loss = 0.13482174277305603\n",
            "Epoch 124 Loss = 0.13418401777744293\n",
            "Epoch 125 Loss = 0.13470160961151123\n",
            "Epoch 126 Loss = 0.13471001386642456\n",
            "Epoch 127 Loss = 0.13479115068912506\n",
            "Epoch 128 Loss = 0.134247824549675\n",
            "Epoch 129 Loss = 0.1344657987356186\n",
            "Epoch 130 Loss = 0.1342201828956604\n",
            "Epoch 131 Loss = 0.13514675199985504\n",
            "Epoch 132 Loss = 0.13451234996318817\n",
            "Epoch 133 Loss = 0.13478781282901764\n",
            "Epoch 134 Loss = 0.13386055827140808\n",
            "Epoch 135 Loss = 0.13383923470973969\n",
            "Epoch 136 Loss = 0.13434045016765594\n",
            "Epoch 137 Loss = 0.13487716019153595\n",
            "Epoch 138 Loss = 0.13366056978702545\n",
            "Epoch 139 Loss = 0.13432347774505615\n",
            "Epoch 140 Loss = 0.1343984603881836\n",
            "Epoch 141 Loss = 0.13457994163036346\n",
            "Epoch 142 Loss = 0.13413971662521362\n",
            "Epoch 143 Loss = 0.13411541283130646\n",
            "Epoch 144 Loss = 0.13378658890724182\n",
            "Epoch 145 Loss = 0.13389234244823456\n",
            "Epoch 146 Loss = 0.13351547718048096\n",
            "Epoch 147 Loss = 0.13366255164146423\n",
            "Epoch 148 Loss = 0.13482430577278137\n",
            "Epoch 149 Loss = 0.1339799016714096\n",
            "\n"
          ],
          "name": "stdout"
        }
      ]
    },
    {
      "cell_type": "code",
      "metadata": {
        "colab": {
          "base_uri": "https://localhost:8080/",
          "height": 394
        },
        "id": "YMCPUQLE8Uf1",
        "outputId": "5eb9fa5b-a0c4-4642-c27b-cc2de0847891"
      },
      "source": [
        "fig, axs = plt.subplots(figsize=(12, 6))\n",
        "\n",
        "plt.plot(train_losses, label='train')\n",
        "plt.xlabel('iter')\n",
        "plt.ylabel('loss');"
      ],
      "execution_count": null,
      "outputs": [
        {
          "output_type": "display_data",
          "data": {
            "image/png": "[encoded data removed]",
            "text/plain": [
              "<Figure size 864x432 with 1 Axes>"
            ]
          },
          "metadata": {
            "tags": []
          }
        }
      ]
    },
    {
      "cell_type": "code",
      "metadata": {
        "id": "7ZCHvgDf6LWx"
      },
      "source": [
        ""
      ],
      "execution_count": null,
      "outputs": []
    },
    {
      "cell_type": "code",
      "metadata": {
        "id": "rKyKZ37ErhV5"
      },
      "source": [
        "dataset.save_client_to_indices()"
      ],
      "execution_count": null,
      "outputs": []
    },
    {
      "cell_type": "code",
      "metadata": {
        "id": "SB-REolC7ptQ"
      },
      "source": [
        "!zip client_to_indices.zip client_to_indices.p"
      ],
      "execution_count": null,
      "outputs": []
    },
    {
      "cell_type": "code",
      "metadata": {
        "id": "gB5Dr4Kv7ptR"
      },
      "source": [
        "!cp client_to_indices.zip '/content/gdrive/MyDrive/courses/hse/3/project/data age group/client_to_indices.zip'"
      ],
      "execution_count": null,
      "outputs": []
    },
    {
      "cell_type": "markdown",
      "metadata": {
        "id": "4z65ccdO6_x-"
      },
      "source": [
        "# Train classifier"
      ]
    },
    {
      "cell_type": "code",
      "metadata": {
        "id": "13xk4tVX7mHk"
      },
      "source": [
        "# dataset for classifier\n",
        "# probably can make better\n",
        "import pickle\n",
        "SUBSEQUENCE_LENGTH = 90\n",
        "\n",
        "class ClfAgeDataset(torch.utils.data.Dataset):\n",
        "    def __init__(\n",
        "        self,\n",
        "        seq_length=SUBSEQUENCE_LENGTH,\n",
        "        root=Path('./data/')\n",
        "    ):\n",
        "        super().__init__()\n",
        "        raw_df = pd.read_csv(root/'transactions_train.csv')\n",
        "\n",
        "        # NOTE: remapping client_ids to indices\n",
        "        self.idx2client = raw_df['client_id'].unique()\n",
        "\n",
        "        raw_df['client_id'] = raw_df['client_id'].map({v: k for k, v in enumerate(self.idx2client)})\n",
        "        \n",
        "        self.df = process_transactions(raw_df)\n",
        "        self.df = self.df.sort_values(['client_id', 'trans_date'])\n",
        "\n",
        "        self.numerical = torch.from_numpy(self.df.drop('client_id', axis=1).to_numpy()).type(torch.float32)\n",
        "        self.categorical = torch.from_numpy(self.df[['small_group']].to_numpy()).type(torch.int)\n",
        "\n",
        "        target_df = pd.read_csv(root/'train_target.csv')\n",
        "        target_df['client_id'] = target_df['client_id'].map({v: k for k, v in enumerate(self.idx2client)})\n",
        "        self.target_df = target_df\n",
        "\n",
        "        self.targets = self.target_df.sort_values('client_id')['bins'].to_numpy()\n",
        "\n",
        "    def __getitem__(self, idx: int):\n",
        "        # returns ((numerical, categorical), target_bin)\n",
        "        n, c = self.get_sequence(idx)\n",
        "        \n",
        "        seq_len = len(n)\n",
        "        start_index = np.random.randint(0, seq_len-SUBSEQUENCE_LENGTH+1)\n",
        "        end_index = start_index + SUBSEQUENCE_LENGTH\n",
        "        n = n[start_index:end_index]\n",
        "        c = c[start_index:end_index]\n",
        "\n",
        "        return (n, c), self.targets[idx]\n",
        "\n",
        "    def __len__(self):\n",
        "        return len(self.client_to_indices)\n",
        "    \n",
        "    def get_sequence(self, idx):\n",
        "        s, e = self.client_to_indices[idx]\n",
        "        n = self.numerical[s:e]\n",
        "        c = self.categorical[s:e]\n",
        "        return n, c\n",
        "    \n",
        "    def build_client_to_indices(self):\n",
        "        self.client_to_indices = {} # tuple of (index start, index after end)\n",
        "        # so that numpy_array[start:end] yields the sequence\n",
        "        current = dataset.df.iloc[0, 0]\n",
        "        start_idx = 0\n",
        "        print('getting indices', len(self.df))\n",
        "        for i, (_, r) in tqdm(enumerate(self.df.iterrows())):\n",
        "            if current != r['client_id']:\n",
        "                self.client_to_indices[current] = (start_idx, i)\n",
        "                start_idx = i\n",
        "                current = r['client_id']\n",
        "        \n",
        "        self.client_to_indices[current] = (start_idx, i+1)\n",
        "    \n",
        "    def load_client_to_indices(self):\n",
        "        self.client_to_indices = pickle.load(open(\"client_to_indices.p\", \"rb\"))\n",
        "    def save_client_to_indices(self):\n",
        "        pickle.dump(self.client_to_indices, open(\"client_to_indices.p\", \"wb\"))"
      ],
      "execution_count": null,
      "outputs": []
    },
    {
      "cell_type": "code",
      "metadata": {
        "id": "VxtdFi3i7KT0"
      },
      "source": [
        "# freeze encoder\n",
        "for param in encoder.parameters():\n",
        "    param.requires_grad = False\n",
        "\n",
        "encoder.eval();"
      ],
      "execution_count": null,
      "outputs": []
    },
    {
      "cell_type": "code",
      "metadata": {
        "id": "ZZyL5MiF-Ufm"
      },
      "source": [
        "clfdataset = ClfAgeDataset()"
      ],
      "execution_count": null,
      "outputs": []
    },
    {
      "cell_type": "code",
      "metadata": {
        "id": "nW8khMXN-STb"
      },
      "source": [
        "clfdataset.load_client_to_indices()"
      ],
      "execution_count": null,
      "outputs": []
    },
    {
      "cell_type": "code",
      "metadata": {
        "id": "YTC-z_VJJvsi"
      },
      "source": [
        "from sklearn.model_selection import train_test_split"
      ],
      "execution_count": null,
      "outputs": []
    },
    {
      "cell_type": "code",
      "metadata": {
        "id": "emb8HyWh5JX_"
      },
      "source": [
        "torch.manual_seed(0)\n",
        "random.seed(0)\n",
        "np.random.seed(0)\n",
        "\n",
        "targets = clfdataset.targets\n",
        "\n",
        "train_idx, test_idx= train_test_split(\n",
        "    np.arange(len(targets)),\n",
        "    test_size=0.3,\n",
        "    shuffle=True,\n",
        "    stratify=targets,\n",
        "    random_state=228\n",
        ")\n",
        "\n",
        "train_sampler = torch.utils.data.SubsetRandomSampler(train_idx)\n",
        "test_sampler = torch.utils.data.SubsetRandomSampler(test_idx)\n",
        "\n",
        "trainloader = torch.utils.data.DataLoader(\n",
        "    clfdataset, batch_size=BATCH_SIZE,\n",
        "    sampler=train_sampler)\n",
        "testloader = torch.utils.data.DataLoader(\n",
        "    clfdataset, batch_size=BATCH_SIZE,\n",
        "    sampler=test_sampler)"
      ],
      "execution_count": null,
      "outputs": []
    },
    {
      "cell_type": "code",
      "metadata": {
        "id": "zpIAXVW8-lW5"
      },
      "source": [
        "clfdataloader = torch.utils.data.DataLoader(\n",
        "    clfdataset, batch_size=BATCH_SIZE,\n",
        "    num_workers=0,\n",
        ")"
      ],
      "execution_count": null,
      "outputs": []
    },
    {
      "cell_type": "code",
      "metadata": {
        "id": "2d3Qdc-J3DSY",
        "colab": {
          "base_uri": "https://localhost:8080/"
        },
        "outputId": "e12177ed-96f2-4e87-f516-96b272081039"
      },
      "source": [
        "# check\n",
        "dataiter = iter(clfdataloader)\n",
        "sequences, labels = dataiter.next()\n",
        "\n",
        "# should be BATCH_SIZExSUBSEQUENCE_LENGTHx(num_features)\n",
        "sequences[0].shape, sequences[1].shape"
      ],
      "execution_count": null,
      "outputs": [
        {
          "output_type": "execute_result",
          "data": {
            "text/plain": [
              "(torch.Size([64, 90, 5]), torch.Size([64, 90, 1]))"
            ]
          },
          "metadata": {
            "tags": []
          },
          "execution_count": 85
        }
      ]
    },
    {
      "cell_type": "code",
      "metadata": {
        "id": "e1ScCyO8-lW6"
      },
      "source": [
        "decoder = Decoder(input_dim=EMBEDDING_DIM)\n",
        "decoder.to(device);"
      ],
      "execution_count": null,
      "outputs": []
    },
    {
      "cell_type": "code",
      "metadata": {
        "id": "C7-X1GRsAK7x"
      },
      "source": [
        "SCHEDULER_EPOCHS = 2"
      ],
      "execution_count": null,
      "outputs": []
    },
    {
      "cell_type": "code",
      "metadata": {
        "id": "6seFuT18-lW6"
      },
      "source": [
        "optimizer = optim.Adam(decoder.parameters(), lr=LR)\n",
        "criterion = nn.CrossEntropyLoss()\n",
        "scheduler = optim.lr_scheduler.ReduceLROnPlateau(\n",
        "    optimizer,\n",
        "    patience=SCHEDULER_EPOCHS,\n",
        ")"
      ],
      "execution_count": null,
      "outputs": []
    },
    {
      "cell_type": "code",
      "metadata": {
        "id": "XnbOSild-lW7"
      },
      "source": [
        "NUM_EPOCHS = 40"
      ],
      "execution_count": null,
      "outputs": []
    },
    {
      "cell_type": "code",
      "metadata": {
        "colab": {
          "base_uri": "https://localhost:8080/",
          "height": 1000,
          "referenced_widgets": [
            "ea0ca8fe84ef467682d81a0bd8c93714",
            "057117c006eb4006b785093e744cb4fc",
            "03b27f4042a74589a00fed6a0225044a",
            "e79f4098d4604f929f832a8691d6f3f2",
            "17a7e38c942b4305849a85c227483544",
            "294027f423094c2d8cc6878bdd7c0f08",
            "0560cd99580a4ac3a984cf6ada4dd62d",
            "4172bb0dff224eb79831e4e76030eee7"
          ]
        },
        "id": "-aIWfYlL-lW7",
        "outputId": "94e77488-cfb7-40b5-8e73-1536cb02961f"
      },
      "source": [
        "train_losses = []\n",
        "train_accuracy = []\n",
        "val_losses = []\n",
        "val_accuracy = []\n",
        "\n",
        "for epoch in tqdm(range(NUM_EPOCHS)):\n",
        "    decoder.train()\n",
        "    correct = 0\n",
        "    epoch_losses = []\n",
        "    for batch_idx, (sequences, labels) in enumerate(trainloader):\n",
        "        n, c = sequences[0], sequences[1]\n",
        "        n = n.to(device)\n",
        "        c = c.to(device)\n",
        "        labels = labels.to(device)\n",
        "\n",
        "        embeddings = encoder(n, c)\n",
        "        outputs = decoder(embeddings)\n",
        "        loss = criterion(outputs, labels)\n",
        "\n",
        "        optimizer.zero_grad()\n",
        "        loss.backward()\n",
        "        optimizer.step()\n",
        "\n",
        "        pred_labels = torch.argmax(outputs, dim=1)\n",
        "        correct += sum(labels == pred_labels)\n",
        "        epoch_losses.append(loss.item())\n",
        "\n",
        "    train_acc = correct / (BATCH_SIZE * len(trainloader))\n",
        "    epoch_loss = torch.tensor(epoch_losses).mean()\n",
        "    train_losses.append(epoch_loss)\n",
        "    train_accuracy.append(train_acc)\n",
        "\n",
        "    decoder.eval()\n",
        "    correct = 0\n",
        "    epoch_val_losses = []\n",
        "    for batch_idx, (sequences, labels) in enumerate(testloader):\n",
        "        n, c = sequences[0], sequences[1]\n",
        "        n = n.to(device)\n",
        "        c = c.to(device)\n",
        "        labels = labels.to(device)\n",
        "\n",
        "        with torch.no_grad():\n",
        "            embeddings = encoder(n, c)\n",
        "            outputs = decoder(embeddings)\n",
        "            loss = criterion(outputs, labels)\n",
        "            epoch_val_losses.append(loss.item())\n",
        "\n",
        "            pred_labels = torch.argmax(outputs, dim=1)\n",
        "            correct += sum(labels == pred_labels)\n",
        "\n",
        "    epoch_val_loss = torch.tensor(epoch_val_losses).mean()\n",
        "\n",
        "    scheduler.step(epoch_val_loss)\n",
        "\n",
        "    val_losses.append(epoch_val_loss)\n",
        "\n",
        "    val_acc = correct / (BATCH_SIZE * len(testloader))\n",
        "    val_accuracy.append(val_acc)\n",
        "    print(f'Epoch {epoch}, train acc: {train_acc}, val acc: {val_acc}')\n",
        "    print(f'train loss: {epoch_loss}; val loss: {epoch_val_loss}')"
      ],
      "execution_count": null,
      "outputs": [
        {
          "output_type": "display_data",
          "data": {
            "application/vnd.jupyter.widget-view+json": {
              "model_id": "ea0ca8fe84ef467682d81a0bd8c93714",
              "version_minor": 0,
              "version_major": 2
            },
            "text/plain": [
              "HBox(children=(FloatProgress(value=0.0, max=40.0), HTML(value='')))"
            ]
          },
          "metadata": {
            "tags": []
          }
        },
        {
          "output_type": "stream",
          "text": [
            "Epoch 0, train acc: 0.5316774249076843, val acc: 0.5540779829025269\n",
            "train loss: 1.044214129447937; val loss: 0.9950194954872131\n",
            "Epoch 1, train acc: 0.5520991683006287, val acc: 0.5534130930900574\n",
            "train loss: 1.001049518585205; val loss: 0.983126699924469\n",
            "Epoch 2, train acc: 0.5484897494316101, val acc: 0.5634973049163818\n",
            "train loss: 0.9950850009918213; val loss: 0.9647255539894104\n",
            "Epoch 3, train acc: 0.5566109418869019, val acc: 0.563054084777832\n",
            "train loss: 0.9811896681785583; val loss: 0.9686663746833801\n",
            "Epoch 4, train acc: 0.5534764528274536, val acc: 0.5550753474235535\n",
            "train loss: 0.9882602691650391; val loss: 0.9713677763938904\n",
            "Epoch 5, train acc: 0.5529540181159973, val acc: 0.5647162795066833\n",
            "train loss: 0.9862557649612427; val loss: 0.9695382714271545\n",
            "Epoch 6, train acc: 0.5643047094345093, val acc: 0.5565159320831299\n",
            "train loss: 0.971278965473175; val loss: 0.9704612493515015\n",
            "Epoch 7, train acc: 0.5625, val acc: 0.5575132966041565\n",
            "train loss: 0.9720007181167603; val loss: 0.966106653213501\n",
            "Epoch 8, train acc: 0.5618351101875305, val acc: 0.5582889914512634\n",
            "train loss: 0.970608115196228; val loss: 0.9670964479446411\n",
            "Epoch 9, train acc: 0.5633548498153687, val acc: 0.5634973049163818\n",
            "train loss: 0.9666262269020081; val loss: 0.9638614654541016\n",
            "Epoch 10, train acc: 0.5630224347114563, val acc: 0.5733599066734314\n",
            "train loss: 0.9708957076072693; val loss: 0.9525397419929504\n",
            "Epoch 11, train acc: 0.5625, val acc: 0.5633864998817444\n",
            "train loss: 0.971010684967041; val loss: 0.9609848856925964\n",
            "Epoch 12, train acc: 0.5608852505683899, val acc: 0.5598403811454773\n",
            "train loss: 0.9667960405349731; val loss: 0.9600502252578735\n",
            "Epoch 13, train acc: 0.5617401003837585, val acc: 0.5654919743537903\n",
            "train loss: 0.9643328189849854; val loss: 0.957654595375061\n",
            "Epoch 14, train acc: 0.5647321343421936, val acc: 0.5560726523399353\n",
            "train loss: 0.9635967016220093; val loss: 0.965501606464386\n",
            "Epoch 15, train acc: 0.5639247894287109, val acc: 0.5654919743537903\n",
            "train loss: 0.9707471132278442; val loss: 0.9607022404670715\n",
            "Epoch 16, train acc: 0.5633074045181274, val acc: 0.5688164830207825\n",
            "train loss: 0.9709397554397583; val loss: 0.9606626033782959\n",
            "Epoch 17, train acc: 0.5633548498153687, val acc: 0.5590646862983704\n",
            "train loss: 0.9681932926177979; val loss: 0.9584553241729736\n",
            "Epoch 18, train acc: 0.5657770037651062, val acc: 0.5622783303260803\n",
            "train loss: 0.964892566204071; val loss: 0.9691758155822754\n",
            "Epoch 19, train acc: 0.5626899600028992, val acc: 0.5633864998817444\n",
            "train loss: 0.9702295064926147; val loss: 0.9624173045158386\n",
            "Epoch 20, train acc: 0.5676291584968567, val acc: 0.556294322013855\n",
            "train loss: 0.964239239692688; val loss: 0.9649654030799866\n",
            "Epoch 21, train acc: 0.56686931848526, val acc: 0.564383864402771\n",
            "train loss: 0.9647650122642517; val loss: 0.9596542716026306\n",
            "Epoch 22, train acc: 0.5678191781044006, val acc: 0.558732271194458\n",
            "train loss: 0.9629836678504944; val loss: 0.9629594683647156\n",
            "Epoch 23, train acc: 0.563782274723053, val acc: 0.561945915222168\n",
            "train loss: 0.9643542766571045; val loss: 0.9657670855522156\n",
            "Epoch 24, train acc: 0.5616926550865173, val acc: 0.5677083134651184\n",
            "train loss: 0.9676083326339722; val loss: 0.9569380879402161\n",
            "Epoch 25, train acc: 0.5615976452827454, val acc: 0.5647162795066833\n",
            "train loss: 0.9666062593460083; val loss: 0.9596326947212219\n",
            "Epoch 26, train acc: 0.5629274249076843, val acc: 0.5626108050346375\n",
            "train loss: 0.9682002067565918; val loss: 0.9634590148925781\n",
            "Epoch 27, train acc: 0.5662044286727905, val acc: 0.569259762763977\n",
            "train loss: 0.9715331196784973; val loss: 0.9572345018386841\n",
            "Epoch 28, train acc: 0.5655869841575623, val acc: 0.564383864402771\n",
            "train loss: 0.9688723683357239; val loss: 0.959362804889679\n",
            "Epoch 29, train acc: 0.568199098110199, val acc: 0.567375898361206\n",
            "train loss: 0.965273380279541; val loss: 0.9599258899688721\n",
            "Epoch 30, train acc: 0.5609327554702759, val acc: 0.5667109489440918\n",
            "train loss: 0.9670747518539429; val loss: 0.9571229219436646\n",
            "Epoch 31, train acc: 0.562452495098114, val acc: 0.5618351101875305\n",
            "train loss: 0.9689993262290955; val loss: 0.9630407094955444\n",
            "Epoch 32, train acc: 0.5652545690536499, val acc: 0.5678191184997559\n",
            "train loss: 0.9648257493972778; val loss: 0.9603269100189209\n",
            "Epoch 33, train acc: 0.5635923147201538, val acc: 0.5621675252914429\n",
            "train loss: 0.9659284949302673; val loss: 0.9633479714393616\n",
            "Epoch 34, train acc: 0.5586056113243103, val acc: 0.5639405846595764\n",
            "train loss: 0.9698613286018372; val loss: 0.9658850431442261\n",
            "Epoch 35, train acc: 0.5634023547172546, val acc: 0.5634973049163818\n",
            "train loss: 0.9700466990470886; val loss: 0.961479663848877\n",
            "Epoch 36, train acc: 0.5670117735862732, val acc: 0.568151593208313\n",
            "train loss: 0.9683623909950256; val loss: 0.9552876353263855\n",
            "Epoch 37, train acc: 0.5606003403663635, val acc: 0.5666001439094543\n",
            "train loss: 0.9723794460296631; val loss: 0.958336591720581\n",
            "Epoch 38, train acc: 0.5649695992469788, val acc: 0.5626108050346375\n",
            "train loss: 0.9712194204330444; val loss: 0.9680145382881165\n",
            "Epoch 39, train acc: 0.5663468837738037, val acc: 0.5641621947288513\n",
            "train loss: 0.965786337852478; val loss: 0.9645002484321594\n",
            "\n"
          ],
          "name": "stdout"
        }
      ]
    },
    {
      "cell_type": "code",
      "metadata": {
        "colab": {
          "base_uri": "https://localhost:8080/",
          "height": 394
        },
        "id": "VBZFVNs4Vb1D",
        "outputId": "85515c64-a2bf-4977-d8e7-c7d485c2ce34"
      },
      "source": [
        "fig, axs = plt.subplots(figsize=(12, 6))\n",
        "\n",
        "plt.subplot(1, 2, 1)\n",
        "plt.plot(train_losses, label='train')\n",
        "plt.plot(val_losses, label='validation')\n",
        "plt.xlabel('iter')\n",
        "plt.ylabel('loss')\n",
        "\n",
        "plt.subplot(1, 2, 2)\n",
        "plt.xlabel('iter')\n",
        "plt.plot(train_accuracy, label='train')\n",
        "plt.plot(val_accuracy, label='validation')\n",
        "plt.ylabel('accuracy');"
      ],
      "execution_count": null,
      "outputs": [
        {
          "output_type": "display_data",
          "data": {
            "image/png": "[encoded data removed]",
            "text/plain": [
              "<Figure size 864x432 with 2 Axes>"
            ]
          },
          "metadata": {
            "tags": []
          }
        }
      ]
    },
    {
      "cell_type": "code",
      "metadata": {
        "id": "61vIaBWf7KQr"
      },
      "source": [
        ""
      ],
      "execution_count": null,
      "outputs": []
    },
    {
      "cell_type": "code",
      "metadata": {
        "id": "_0nYia4y6_lF"
      },
      "source": [
        ""
      ],
      "execution_count": null,
      "outputs": []
    },
    {
      "cell_type": "markdown",
      "metadata": {
        "id": "3F5gbEeMo68i"
      },
      "source": [
        "# Predict (old)"
      ]
    },
    {
      "cell_type": "code",
      "metadata": {
        "id": "QejRaOGlWJA1"
      },
      "source": [
        "m = encoder.to('cpu').eval()"
      ],
      "execution_count": null,
      "outputs": []
    },
    {
      "cell_type": "code",
      "metadata": {
        "id": "Mtzi14NIFynK"
      },
      "source": [
        "# check\n",
        "dataiter = iter(dataloader)\n",
        "sequences, labels = dataiter.next()\n",
        "\n",
        "# should be BATCH_SIZExNUM_OF_SEQUNCESxSUBSEQUENCE_LENGTHx(num_features)\n",
        "sequences.shape"
      ],
      "execution_count": null,
      "outputs": []
    },
    {
      "cell_type": "code",
      "metadata": {
        "id": "_59ULTscHfAH"
      },
      "source": [
        "embeddings = torch.zeros((1, EMBEDDING_DIM))[1:]\n",
        "\n",
        "# probably can make it faster if use a batch of clients\n",
        "for client_id in tqdm(sorted(dataset.targets)):\n",
        "    n, c = dataset.get_sequence(client_id)\n",
        "\n",
        "    with torch.no_grad():\n",
        "        embedding = m(n, c)\n",
        "        # encoded_events = m.event_encoder(n, c)\n",
        "        # encoded_events = encoded_events.view(1, -1, EMBEDDING_DIM)\n",
        "        # encoded_events = torch.transpose(encoded_events, 0, 1) # so that its (seq_len, batch, input_size)\n",
        "        # embedding = m.sequence_encoder(encoded_events)[0][0]\n",
        "        embeddings = torch.cat((embeddings, embedding))\n",
        "\n",
        "embeddings.shape"
      ],
      "execution_count": null,
      "outputs": []
    },
    {
      "cell_type": "code",
      "metadata": {
        "id": "13ohWlD-JzFH"
      },
      "source": [
        "X = embeddings.numpy()\n",
        "\n",
        "# y = dataset.target_df[dataset.target_df['client_id'].isin(dataset.clients)].sort_values('client_id')['bins'].to_numpy()\n",
        "\n",
        "y = dataset.target_df.sort_values('client_id')['bins'].to_numpy()"
      ],
      "execution_count": null,
      "outputs": []
    },
    {
      "cell_type": "code",
      "metadata": {
        "id": "-a99xITc9qXb"
      },
      "source": [
        "decoder = Decoder(input_dim=EMBEDDING_DIM)\n",
        "decoder.to(device);"
      ],
      "execution_count": null,
      "outputs": []
    },
    {
      "cell_type": "code",
      "metadata": {
        "id": "s6n6QRL79qUL"
      },
      "source": [
        ""
      ],
      "execution_count": null,
      "outputs": []
    },
    {
      "cell_type": "code",
      "metadata": {
        "id": "L5jmrerQ9qRg"
      },
      "source": [
        ""
      ],
      "execution_count": null,
      "outputs": []
    },
    {
      "cell_type": "code",
      "metadata": {
        "id": "Ca5R3rL7Kxem"
      },
      "source": [
        "from catboost import CatBoostClassifier, Pool\n",
        "from catboost import cv\n",
        "from sklearn.model_selection import train_test_split"
      ],
      "execution_count": null,
      "outputs": []
    },
    {
      "cell_type": "code",
      "metadata": {
        "id": "D38VYwhXKq_P"
      },
      "source": [
        "X_train, X_test, y_train, y_test = train_test_split(\n",
        "    X, y, test_size=0.33, random_state=228, stratify=y)\n",
        "\n",
        "train_pool = Pool(X_train, y_train)\n",
        "test_pool = Pool(X_test, y_test)"
      ],
      "execution_count": null,
      "outputs": []
    },
    {
      "cell_type": "code",
      "metadata": {
        "id": "YV_oTIQKNsuq"
      },
      "source": [
        "model = CatBoostClassifier(\n",
        "    iterations=500,\n",
        "    depth=3,\n",
        "    learning_rate=0.5,\n",
        "    verbose=True,\n",
        "    eval_metric='Accuracy',\n",
        "    auto_class_weights='Balanced',\n",
        "    random_state=228,\n",
        ")"
      ],
      "execution_count": null,
      "outputs": []
    },
    {
      "cell_type": "code",
      "metadata": {
        "id": "Fc3FHXYyK8yh"
      },
      "source": [
        "model.fit(train_pool, eval_set=test_pool)"
      ],
      "execution_count": null,
      "outputs": []
    },
    {
      "cell_type": "code",
      "metadata": {
        "id": "63NEh9tOkAkp"
      },
      "source": [
        "train_acc = model.evals_result_['learn']['Accuracy']\n",
        "valid_acc = model.evals_result_['validation']['Accuracy']\n",
        "\n",
        "plt.plot(train_acc, label='train')\n",
        "plt.plot(valid_acc, label='valid')\n",
        "plt.xlabel('iter')\n",
        "plt.ylabel('accuracy')\n",
        "plt.legend();"
      ],
      "execution_count": null,
      "outputs": []
    },
    {
      "cell_type": "code",
      "metadata": {
        "id": "dLfhuxFdkAiV"
      },
      "source": [
        ""
      ],
      "execution_count": null,
      "outputs": []
    },
    {
      "cell_type": "code",
      "metadata": {
        "id": "Gq_9OK9INyco"
      },
      "source": [
        "sum(np.squeeze(model.predict(X_test)) == y_test) / len(y_test)"
      ],
      "execution_count": null,
      "outputs": []
    },
    {
      "cell_type": "code",
      "metadata": {
        "id": "DDaYs-_dOCBh"
      },
      "source": [
        ""
      ],
      "execution_count": null,
      "outputs": []
    },
    {
      "cell_type": "code",
      "metadata": {
        "id": "G-LDs35tq5Ff"
      },
      "source": [
        ""
      ],
      "execution_count": null,
      "outputs": []
    }
  ]
}