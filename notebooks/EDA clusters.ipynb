{
 "cells": [
  {
   "cell_type": "markdown",
   "id": "extra-sacrifice",
   "metadata": {
    "toc": true
   },
   "source": [
    "<h1>Table of Contents<span class=\"tocSkip\"></span></h1>\n",
    "<div class=\"toc\"><ul class=\"toc-item\"><li><span><a href=\"#Data\" data-toc-modified-id=\"Data-1\"><span class=\"toc-item-num\">1&nbsp;&nbsp;</span>Data</a></span></li><li><span><a href=\"#EDA\" data-toc-modified-id=\"EDA-2\"><span class=\"toc-item-num\">2&nbsp;&nbsp;</span>EDA</a></span></li></ul></div>"
   ]
  },
  {
   "cell_type": "code",
   "execution_count": 1,
   "id": "material-isaac",
   "metadata": {
    "ExecuteTime": {
     "end_time": "2021-04-17T15:40:38.691777Z",
     "start_time": "2021-04-17T15:40:37.438341Z"
    },
    "executionInfo": {
     "elapsed": 11998,
     "status": "ok",
     "timestamp": 1610889833656,
     "user": {
      "displayName": "Ilya",
      "photoUrl": "https://lh3.googleusercontent.com/a-/AOh14GgqMMWh-yu_Neff4SfMdF5-F8RTIn4IimUv7_Wu=s64",
      "userId": "18401577808228678959"
     },
     "user_tz": -180
    },
    "id": "thKgYQF3URYw"
   },
   "outputs": [],
   "source": [
    "import pandas as pd\n",
    "import numpy as np\n",
    "import matplotlib.pyplot as plt\n",
    "import seaborn as sns\n",
    "\n",
    "sns.set()\n",
    "\n",
    "sns.set_style(\"whitegrid\", {'axes.grid' : False})\n",
    "\n",
    "# from tqdm.notebook import tqdm\n",
    "from tqdm.auto import tqdm"
   ]
  },
  {
   "cell_type": "markdown",
   "id": "enabling-builder",
   "metadata": {
    "id": "-_RBRZ19P7qm"
   },
   "source": [
    "## Data"
   ]
  },
  {
   "cell_type": "code",
   "execution_count": 2,
   "id": "latin-colorado",
   "metadata": {
    "ExecuteTime": {
     "end_time": "2021-04-17T15:40:46.855595Z",
     "start_time": "2021-04-17T15:40:41.375781Z"
    }
   },
   "outputs": [],
   "source": [
    "df = pd.read_csv('../data/transactions_train.csv')"
   ]
  },
  {
   "cell_type": "code",
   "execution_count": 3,
   "id": "bearing-thirty",
   "metadata": {
    "ExecuteTime": {
     "end_time": "2021-04-17T15:40:52.854473Z",
     "start_time": "2021-04-17T15:40:46.857635Z"
    }
   },
   "outputs": [],
   "source": [
    "df = df.sort_values(['client_id', 'trans_date'])"
   ]
  },
  {
   "cell_type": "code",
   "execution_count": 4,
   "id": "insured-monitor",
   "metadata": {
    "ExecuteTime": {
     "end_time": "2021-04-17T15:40:52.867913Z",
     "start_time": "2021-04-17T15:40:52.856974Z"
    }
   },
   "outputs": [],
   "source": [
    "y = pd.read_csv('../data/train_target.csv')"
   ]
  },
  {
   "cell_type": "code",
   "execution_count": 5,
   "id": "confirmed-mention",
   "metadata": {
    "ExecuteTime": {
     "end_time": "2021-04-17T15:40:54.587042Z",
     "start_time": "2021-04-17T15:40:52.869890Z"
    }
   },
   "outputs": [],
   "source": [
    "df = pd.merge(df, y, on='client_id')"
   ]
  },
  {
   "cell_type": "code",
   "execution_count": 10,
   "id": "silent-restaurant",
   "metadata": {
    "ExecuteTime": {
     "end_time": "2021-04-17T15:44:05.596708Z",
     "start_time": "2021-04-17T15:44:03.451092Z"
    }
   },
   "outputs": [
    {
     "name": "stdout",
     "output_type": "stream",
     "text": [
      "before downsampling:\n",
      " client_id        int64\n",
      "trans_date       int64\n",
      "small_group      int64\n",
      "amount_rur     float64\n",
      "bins             int64\n",
      "dtype: object\n",
      "after downsampling:\n",
      " client_id       uint16\n",
      "trans_date      uint16\n",
      "small_group      int16\n",
      "amount_rur     float32\n",
      "bins             int64\n",
      "dtype: object\n"
     ]
    }
   ],
   "source": [
    "print('before downsampling:\\n', df.dtypes)\n",
    "df['client_id'] = pd.to_numeric(df['client_id'], downcast='unsigned')\n",
    "df['trans_date'] = pd.to_numeric(df['trans_date'], downcast='unsigned')\n",
    "df['small_group'] = pd.to_numeric(df['small_group'], downcast='signed')\n",
    "df['amount_rur'] = pd.to_numeric(df['amount_rur'], downcast='float')\n",
    "\n",
    "print('after downsampling:\\n',df.dtypes)"
   ]
  },
  {
   "cell_type": "code",
   "execution_count": 26,
   "id": "complete-distributor",
   "metadata": {
    "ExecuteTime": {
     "end_time": "2021-04-17T15:53:58.161074Z",
     "start_time": "2021-04-17T15:53:58.152626Z"
    }
   },
   "outputs": [],
   "source": [
    "groups = pd.read_csv('../data/small_group_description.csv')"
   ]
  },
  {
   "cell_type": "code",
   "execution_count": 58,
   "id": "increasing-rescue",
   "metadata": {
    "ExecuteTime": {
     "end_time": "2021-04-17T16:05:30.059394Z",
     "start_time": "2021-04-17T16:05:29.971308Z"
    }
   },
   "outputs": [],
   "source": [
    "df['weekday'] = df['trans_date'] % 7"
   ]
  },
  {
   "cell_type": "markdown",
   "id": "continental-sodium",
   "metadata": {},
   "source": [
    "## EDA"
   ]
  },
  {
   "cell_type": "markdown",
   "id": "exterior-wilderness",
   "metadata": {
    "ExecuteTime": {
     "end_time": "2021-04-17T15:50:02.779549Z",
     "start_time": "2021-04-17T15:50:02.775225Z"
    }
   },
   "source": [
    "Для сегментирования отдельных групп пользователей, провести кластеризацию пользователей и использовать метки получившихся классов в качестве предсказываемой переменной. Обученные эмбединги использовать для предсказания реальных данных(в нашей задаче это возрастные группы)."
   ]
  },
  {
   "cell_type": "markdown",
   "id": "enhanced-honolulu",
   "metadata": {},
   "source": [
    "Кластеризация пользователей на основе handmade признаков обоснование выбора признаков с использованием EDA. Кластеризация пользователей любым способом, который кажется пригодным(с учетом особенностей данных). Визуализация категорий пользователей с использованием алгоритмов понижения размерности данных."
   ]
  },
  {
   "cell_type": "code",
   "execution_count": 21,
   "id": "enabling-profit",
   "metadata": {
    "ExecuteTime": {
     "end_time": "2021-04-17T15:52:14.585616Z",
     "start_time": "2021-04-17T15:52:14.582681Z"
    }
   },
   "outputs": [],
   "source": [
    "np.random.seed(228)"
   ]
  },
  {
   "cell_type": "code",
   "execution_count": 25,
   "id": "cubic-reflection",
   "metadata": {
    "ExecuteTime": {
     "end_time": "2021-04-17T15:52:59.600002Z",
     "start_time": "2021-04-17T15:52:57.717168Z"
    }
   },
   "outputs": [
    {
     "data": {
      "image/png": "[encoded data removed]",
      "text/plain": [
       "<Figure size 432x288 with 1 Axes>"
      ]
     },
     "metadata": {},
     "output_type": "display_data"
    }
   ],
   "source": [
    "sns.boxplot(x=df['amount_rur'].sample(1000000))\n",
    "plt.xscale('log')"
   ]
  },
  {
   "cell_type": "code",
   "execution_count": 52,
   "id": "weekly-runner",
   "metadata": {
    "ExecuteTime": {
     "end_time": "2021-04-17T16:01:23.090754Z",
     "start_time": "2021-04-17T16:01:22.220404Z"
    }
   },
   "outputs": [
    {
     "data": {
      "text/html": [
       "<div>\n",
       "<style scoped>\n",
       "    .dataframe tbody tr th:only-of-type {\n",
       "        vertical-align: middle;\n",
       "    }\n",
       "\n",
       "    .dataframe tbody tr th {\n",
       "        vertical-align: top;\n",
       "    }\n",
       "\n",
       "    .dataframe thead th {\n",
       "        text-align: right;\n",
       "    }\n",
       "</style>\n",
       "<table border=\"1\" class=\"dataframe\">\n",
       "  <thead>\n",
       "    <tr style=\"text-align: right;\">\n",
       "      <th></th>\n",
       "      <th>mean</th>\n",
       "      <th>count</th>\n",
       "      <th>max</th>\n",
       "      <th>min</th>\n",
       "      <th>small_group</th>\n",
       "      <th>small_group_code</th>\n",
       "    </tr>\n",
       "  </thead>\n",
       "  <tbody>\n",
       "    <tr>\n",
       "      <th>1</th>\n",
       "      <td>41.666897</td>\n",
       "      <td>8131374.0</td>\n",
       "      <td>22447.980469</td>\n",
       "      <td>0.002000</td>\n",
       "      <td>Сетевые супермаркеты и продуктовые магазины</td>\n",
       "      <td>1</td>\n",
       "    </tr>\n",
       "    <tr>\n",
       "      <th>11</th>\n",
       "      <td>21.339022</td>\n",
       "      <td>3202881.0</td>\n",
       "      <td>11515.068359</td>\n",
       "      <td>0.001000</td>\n",
       "      <td>Фастфуд и кафе</td>\n",
       "      <td>11</td>\n",
       "    </tr>\n",
       "    <tr>\n",
       "      <th>3</th>\n",
       "      <td>19.819042</td>\n",
       "      <td>2428984.0</td>\n",
       "      <td>24261.560547</td>\n",
       "      <td>0.001000</td>\n",
       "      <td>Оплата телефона и связи</td>\n",
       "      <td>3</td>\n",
       "    </tr>\n",
       "    <tr>\n",
       "      <th>15</th>\n",
       "      <td>21.617123</td>\n",
       "      <td>1427077.0</td>\n",
       "      <td>13318.199219</td>\n",
       "      <td>0.005000</td>\n",
       "      <td>Несетевые супермаркеты и продуктовые магазины</td>\n",
       "      <td>15</td>\n",
       "    </tr>\n",
       "    <tr>\n",
       "      <th>4</th>\n",
       "      <td>34.616478</td>\n",
       "      <td>1207604.0</td>\n",
       "      <td>38081.308594</td>\n",
       "      <td>0.001000</td>\n",
       "      <td>Аптеки</td>\n",
       "      <td>4</td>\n",
       "    </tr>\n",
       "    <tr>\n",
       "      <th>...</th>\n",
       "      <td>...</td>\n",
       "      <td>...</td>\n",
       "      <td>...</td>\n",
       "      <td>...</td>\n",
       "      <td>...</td>\n",
       "      <td>...</td>\n",
       "    </tr>\n",
       "    <tr>\n",
       "      <th>198</th>\n",
       "      <td>45.794998</td>\n",
       "      <td>1.0</td>\n",
       "      <td>45.794998</td>\n",
       "      <td>45.794998</td>\n",
       "      <td>Услуги починки (металлические изделия)</td>\n",
       "      <td>199</td>\n",
       "    </tr>\n",
       "    <tr>\n",
       "      <th>199</th>\n",
       "      <td>126.484001</td>\n",
       "      <td>1.0</td>\n",
       "      <td>126.484001</td>\n",
       "      <td>126.484001</td>\n",
       "      <td>Телеграф</td>\n",
       "      <td>200</td>\n",
       "    </tr>\n",
       "    <tr>\n",
       "      <th>201</th>\n",
       "      <td>68.968002</td>\n",
       "      <td>1.0</td>\n",
       "      <td>68.968002</td>\n",
       "      <td>68.968002</td>\n",
       "      <td>Бетонные работы</td>\n",
       "      <td>203</td>\n",
       "    </tr>\n",
       "    <tr>\n",
       "      <th>202</th>\n",
       "      <td>NaN</td>\n",
       "      <td>NaN</td>\n",
       "      <td>NaN</td>\n",
       "      <td>NaN</td>\n",
       "      <td>Снегоходы</td>\n",
       "      <td>194</td>\n",
       "    </tr>\n",
       "    <tr>\n",
       "      <th>203</th>\n",
       "      <td>NaN</td>\n",
       "      <td>NaN</td>\n",
       "      <td>NaN</td>\n",
       "      <td>NaN</td>\n",
       "      <td>Мануальные терапевты</td>\n",
       "      <td>201</td>\n",
       "    </tr>\n",
       "  </tbody>\n",
       "</table>\n",
       "<p>204 rows × 6 columns</p>\n",
       "</div>"
      ],
      "text/plain": [
       "           mean      count           max         min  \\\n",
       "1     41.666897  8131374.0  22447.980469    0.002000   \n",
       "11    21.339022  3202881.0  11515.068359    0.001000   \n",
       "3     19.819042  2428984.0  24261.560547    0.001000   \n",
       "15    21.617123  1427077.0  13318.199219    0.005000   \n",
       "4     34.616478  1207604.0  38081.308594    0.001000   \n",
       "..          ...        ...           ...         ...   \n",
       "198   45.794998        1.0     45.794998   45.794998   \n",
       "199  126.484001        1.0    126.484001  126.484001   \n",
       "201   68.968002        1.0     68.968002   68.968002   \n",
       "202         NaN        NaN           NaN         NaN   \n",
       "203         NaN        NaN           NaN         NaN   \n",
       "\n",
       "                                       small_group  small_group_code  \n",
       "1      Сетевые супермаркеты и продуктовые магазины                 1  \n",
       "11                                  Фастфуд и кафе                11  \n",
       "3                          Оплата телефона и связи                 3  \n",
       "15   Несетевые супермаркеты и продуктовые магазины                15  \n",
       "4                                           Аптеки                 4  \n",
       "..                                             ...               ...  \n",
       "198         Услуги починки (металлические изделия)               199  \n",
       "199                                       Телеграф               200  \n",
       "201                                Бетонные работы               203  \n",
       "202                                      Снегоходы               194  \n",
       "203                           Мануальные терапевты               201  \n",
       "\n",
       "[204 rows x 6 columns]"
      ]
     },
     "execution_count": 52,
     "metadata": {},
     "output_type": "execute_result"
    }
   ],
   "source": [
    "tmp = df.groupby('small_group')[['amount_rur']].agg(['mean', 'count', 'max', 'min']).reset_index()\n",
    "tmp.columns =['small_group_code', 'mean', 'count', 'max', 'min']\n",
    "tmp = tmp.set_index('small_group_code')\n",
    "tmp = tmp.join(groups, on='small_group_code', how='outer').reset_index(drop=True)\n",
    "tmp = tmp.sort_values('count', ascending=False)\n",
    "tmp"
   ]
  },
  {
   "cell_type": "code",
   "execution_count": 49,
   "id": "false-reducing",
   "metadata": {
    "ExecuteTime": {
     "end_time": "2021-04-17T16:01:34.298130Z",
     "start_time": "2021-04-17T16:01:34.280601Z"
    }
   },
   "outputs": [
    {
     "data": {
      "image/png": "[encoded data removed]",
      "text/plain": [
       "<Figure size 432x288 with 1 Axes>"
      ]
     },
     "metadata": {},
     "output_type": "display_data"
    }
   ],
   "source": [
    "mask = df['small_group'] == 1\n",
    "sns.boxplot(x=df[mask]['amount_rur'].sample(1000000))\n",
    "plt.xscale('log')"
   ]
  },
  {
   "cell_type": "code",
   "execution_count": 47,
   "id": "moved-hybrid",
   "metadata": {
    "ExecuteTime": {
     "end_time": "2021-04-17T16:01:09.153966Z",
     "start_time": "2021-04-17T16:01:04.512454Z"
    }
   },
   "outputs": [
    {
     "data": {
      "image/png": "[encoded data removed]",
      "text/plain": [
       "<Figure size 1440x288 with 1 Axes>"
      ]
     },
     "metadata": {},
     "output_type": "display_data"
    }
   ],
   "source": [
    "fig, axs = plt.subplots(figsize=(20, 4))\n",
    "\n",
    "sns.barplot(x=list(range(len(tmp))), y=tmp['count'].sort_values(ascending=False));"
   ]
  },
  {
   "cell_type": "code",
   "execution_count": 48,
   "id": "amino-undergraduate",
   "metadata": {
    "ExecuteTime": {
     "end_time": "2021-04-17T16:01:09.170533Z",
     "start_time": "2021-04-17T16:01:09.157343Z"
    }
   },
   "outputs": [
    {
     "data": {
      "text/html": [
       "<div>\n",
       "<style scoped>\n",
       "    .dataframe tbody tr th:only-of-type {\n",
       "        vertical-align: middle;\n",
       "    }\n",
       "\n",
       "    .dataframe tbody tr th {\n",
       "        vertical-align: top;\n",
       "    }\n",
       "\n",
       "    .dataframe thead th {\n",
       "        text-align: right;\n",
       "    }\n",
       "</style>\n",
       "<table border=\"1\" class=\"dataframe\">\n",
       "  <thead>\n",
       "    <tr style=\"text-align: right;\">\n",
       "      <th></th>\n",
       "      <th>quantile</th>\n",
       "      <th>count</th>\n",
       "    </tr>\n",
       "  </thead>\n",
       "  <tbody>\n",
       "    <tr>\n",
       "      <th>0</th>\n",
       "      <td>0.1</td>\n",
       "      <td>34</td>\n",
       "    </tr>\n",
       "    <tr>\n",
       "      <th>1</th>\n",
       "      <td>0.2</td>\n",
       "      <td>183</td>\n",
       "    </tr>\n",
       "    <tr>\n",
       "      <th>2</th>\n",
       "      <td>0.3</td>\n",
       "      <td>516</td>\n",
       "    </tr>\n",
       "    <tr>\n",
       "      <th>3</th>\n",
       "      <td>0.4</td>\n",
       "      <td>1174</td>\n",
       "    </tr>\n",
       "    <tr>\n",
       "      <th>4</th>\n",
       "      <td>0.5</td>\n",
       "      <td>3287</td>\n",
       "    </tr>\n",
       "    <tr>\n",
       "      <th>5</th>\n",
       "      <td>0.6</td>\n",
       "      <td>11474</td>\n",
       "    </tr>\n",
       "    <tr>\n",
       "      <th>6</th>\n",
       "      <td>0.7</td>\n",
       "      <td>23829</td>\n",
       "    </tr>\n",
       "    <tr>\n",
       "      <th>7</th>\n",
       "      <td>0.8</td>\n",
       "      <td>61634</td>\n",
       "    </tr>\n",
       "    <tr>\n",
       "      <th>8</th>\n",
       "      <td>0.9</td>\n",
       "      <td>121845</td>\n",
       "    </tr>\n",
       "    <tr>\n",
       "      <th>9</th>\n",
       "      <td>1.0</td>\n",
       "      <td>8131374</td>\n",
       "    </tr>\n",
       "  </tbody>\n",
       "</table>\n",
       "</div>"
      ],
      "text/plain": [
       "   quantile    count\n",
       "0       0.1       34\n",
       "1       0.2      183\n",
       "2       0.3      516\n",
       "3       0.4     1174\n",
       "4       0.5     3287\n",
       "5       0.6    11474\n",
       "6       0.7    23829\n",
       "7       0.8    61634\n",
       "8       0.9   121845\n",
       "9       1.0  8131374"
      ]
     },
     "execution_count": 48,
     "metadata": {},
     "output_type": "execute_result"
    }
   ],
   "source": [
    "quantiles = np.arange(0.1, 1.1, 0.1)\n",
    "counts = [int(tmp['count'].quantile(i)) for i in quantiles]\n",
    "quantiles = pd.DataFrame({'quantile': quantiles, 'count': counts})\n",
    "quantiles"
   ]
  },
  {
   "cell_type": "code",
   "execution_count": 53,
   "id": "variable-briefing",
   "metadata": {
    "ExecuteTime": {
     "end_time": "2021-04-17T16:01:34.298130Z",
     "start_time": "2021-04-17T16:01:34.280601Z"
    }
   },
   "outputs": [
    {
     "data": {
      "text/html": [
       "<div>\n",
       "<style scoped>\n",
       "    .dataframe tbody tr th:only-of-type {\n",
       "        vertical-align: middle;\n",
       "    }\n",
       "\n",
       "    .dataframe tbody tr th {\n",
       "        vertical-align: top;\n",
       "    }\n",
       "\n",
       "    .dataframe thead th {\n",
       "        text-align: right;\n",
       "    }\n",
       "</style>\n",
       "<table border=\"1\" class=\"dataframe\">\n",
       "  <thead>\n",
       "    <tr style=\"text-align: right;\">\n",
       "      <th></th>\n",
       "      <th>mean</th>\n",
       "      <th>count</th>\n",
       "      <th>max</th>\n",
       "      <th>min</th>\n",
       "      <th>small_group</th>\n",
       "      <th>small_group_code</th>\n",
       "    </tr>\n",
       "  </thead>\n",
       "  <tbody>\n",
       "    <tr>\n",
       "      <th>173</th>\n",
       "      <td>1352.014282</td>\n",
       "      <td>100.0</td>\n",
       "      <td>9793.549805</td>\n",
       "      <td>0.824</td>\n",
       "      <td>Металлопрокат</td>\n",
       "      <td>173</td>\n",
       "    </tr>\n",
       "    <tr>\n",
       "      <th>170</th>\n",
       "      <td>1344.033936</td>\n",
       "      <td>209.0</td>\n",
       "      <td>7440.359863</td>\n",
       "      <td>1.294</td>\n",
       "      <td>Окна и двери</td>\n",
       "      <td>170</td>\n",
       "    </tr>\n",
       "    <tr>\n",
       "      <th>181</th>\n",
       "      <td>1275.825684</td>\n",
       "      <td>73.0</td>\n",
       "      <td>16371.612305</td>\n",
       "      <td>0.190</td>\n",
       "      <td>Прочие отели (аппартаменты)</td>\n",
       "      <td>181</td>\n",
       "    </tr>\n",
       "    <tr>\n",
       "      <th>178</th>\n",
       "      <td>1187.892944</td>\n",
       "      <td>38.0</td>\n",
       "      <td>13553.929688</td>\n",
       "      <td>3.450</td>\n",
       "      <td>Камины и печи</td>\n",
       "      <td>178</td>\n",
       "    </tr>\n",
       "    <tr>\n",
       "      <th>190</th>\n",
       "      <td>1180.543213</td>\n",
       "      <td>28.0</td>\n",
       "      <td>9159.056641</td>\n",
       "      <td>4.579</td>\n",
       "      <td>Услуги починки (кондиционеры и холодильники)</td>\n",
       "      <td>190</td>\n",
       "    </tr>\n",
       "    <tr>\n",
       "      <th>...</th>\n",
       "      <td>...</td>\n",
       "      <td>...</td>\n",
       "      <td>...</td>\n",
       "      <td>...</td>\n",
       "      <td>...</td>\n",
       "      <td>...</td>\n",
       "    </tr>\n",
       "    <tr>\n",
       "      <th>115</th>\n",
       "      <td>17.517340</td>\n",
       "      <td>19657.0</td>\n",
       "      <td>2426.331055</td>\n",
       "      <td>0.043</td>\n",
       "      <td>Видео (онлайн-кинотеатры, онлайн-каналы, видео...</td>\n",
       "      <td>115</td>\n",
       "    </tr>\n",
       "    <tr>\n",
       "      <th>47</th>\n",
       "      <td>14.888980</td>\n",
       "      <td>37602.0</td>\n",
       "      <td>1831.812012</td>\n",
       "      <td>0.043</td>\n",
       "      <td>Пекарня</td>\n",
       "      <td>47</td>\n",
       "    </tr>\n",
       "    <tr>\n",
       "      <th>196</th>\n",
       "      <td>12.542286</td>\n",
       "      <td>7.0</td>\n",
       "      <td>29.863001</td>\n",
       "      <td>4.313</td>\n",
       "      <td>Ортопедия</td>\n",
       "      <td>197</td>\n",
       "    </tr>\n",
       "    <tr>\n",
       "      <th>202</th>\n",
       "      <td>NaN</td>\n",
       "      <td>NaN</td>\n",
       "      <td>NaN</td>\n",
       "      <td>NaN</td>\n",
       "      <td>Снегоходы</td>\n",
       "      <td>194</td>\n",
       "    </tr>\n",
       "    <tr>\n",
       "      <th>203</th>\n",
       "      <td>NaN</td>\n",
       "      <td>NaN</td>\n",
       "      <td>NaN</td>\n",
       "      <td>NaN</td>\n",
       "      <td>Мануальные терапевты</td>\n",
       "      <td>201</td>\n",
       "    </tr>\n",
       "  </tbody>\n",
       "</table>\n",
       "<p>204 rows × 6 columns</p>\n",
       "</div>"
      ],
      "text/plain": [
       "            mean    count           max    min  \\\n",
       "173  1352.014282    100.0   9793.549805  0.824   \n",
       "170  1344.033936    209.0   7440.359863  1.294   \n",
       "181  1275.825684     73.0  16371.612305  0.190   \n",
       "178  1187.892944     38.0  13553.929688  3.450   \n",
       "190  1180.543213     28.0   9159.056641  4.579   \n",
       "..           ...      ...           ...    ...   \n",
       "115    17.517340  19657.0   2426.331055  0.043   \n",
       "47     14.888980  37602.0   1831.812012  0.043   \n",
       "196    12.542286      7.0     29.863001  4.313   \n",
       "202          NaN      NaN           NaN    NaN   \n",
       "203          NaN      NaN           NaN    NaN   \n",
       "\n",
       "                                           small_group  small_group_code  \n",
       "173                                      Металлопрокат               173  \n",
       "170                                       Окна и двери               170  \n",
       "181                        Прочие отели (аппартаменты)               181  \n",
       "178                                      Камины и печи               178  \n",
       "190       Услуги починки (кондиционеры и холодильники)               190  \n",
       "..                                                 ...               ...  \n",
       "115  Видео (онлайн-кинотеатры, онлайн-каналы, видео...               115  \n",
       "47                                             Пекарня                47  \n",
       "196                                          Ортопедия               197  \n",
       "202                                          Снегоходы               194  \n",
       "203                               Мануальные терапевты               201  \n",
       "\n",
       "[204 rows x 6 columns]"
      ]
     },
     "execution_count": 53,
     "metadata": {},
     "output_type": "execute_result"
    }
   ],
   "source": [
    "tmp = tmp.sort_values('mean', ascending=False)\n",
    "tmp"
   ]
  },
  {
   "cell_type": "code",
   "execution_count": 50,
   "id": "normal-murray",
   "metadata": {
    "ExecuteTime": {
     "end_time": "2021-04-17T16:01:10.891783Z",
     "start_time": "2021-04-17T16:01:10.876965Z"
    }
   },
   "outputs": [
    {
     "data": {
      "text/html": [
       "<div>\n",
       "<style scoped>\n",
       "    .dataframe tbody tr th:only-of-type {\n",
       "        vertical-align: middle;\n",
       "    }\n",
       "\n",
       "    .dataframe tbody tr th {\n",
       "        vertical-align: top;\n",
       "    }\n",
       "\n",
       "    .dataframe thead th {\n",
       "        text-align: right;\n",
       "    }\n",
       "</style>\n",
       "<table border=\"1\" class=\"dataframe\">\n",
       "  <thead>\n",
       "    <tr style=\"text-align: right;\">\n",
       "      <th></th>\n",
       "      <th>mean</th>\n",
       "      <th>count</th>\n",
       "      <th>max</th>\n",
       "      <th>min</th>\n",
       "      <th>small_group</th>\n",
       "      <th>small_group_code</th>\n",
       "    </tr>\n",
       "  </thead>\n",
       "  <tbody>\n",
       "    <tr>\n",
       "      <th>36</th>\n",
       "      <td>77.394745</td>\n",
       "      <td>372445.0</td>\n",
       "      <td>400086.781250</td>\n",
       "      <td>0.004000</td>\n",
       "      <td>Косметика</td>\n",
       "      <td>36</td>\n",
       "    </tr>\n",
       "    <tr>\n",
       "      <th>80</th>\n",
       "      <td>391.396545</td>\n",
       "      <td>45405.0</td>\n",
       "      <td>319685.687500</td>\n",
       "      <td>0.043000</td>\n",
       "      <td>Аксессуары (драгоценности и часы)</td>\n",
       "      <td>80</td>\n",
       "    </tr>\n",
       "    <tr>\n",
       "      <th>24</th>\n",
       "      <td>197.395203</td>\n",
       "      <td>462932.0</td>\n",
       "      <td>291837.218750</td>\n",
       "      <td>0.002000</td>\n",
       "      <td>Одежда</td>\n",
       "      <td>24</td>\n",
       "    </tr>\n",
       "    <tr>\n",
       "      <th>14</th>\n",
       "      <td>800.021484</td>\n",
       "      <td>28905.0</td>\n",
       "      <td>284318.687500</td>\n",
       "      <td>0.014000</td>\n",
       "      <td>Автодилеры и автосервис</td>\n",
       "      <td>14</td>\n",
       "    </tr>\n",
       "    <tr>\n",
       "      <th>21</th>\n",
       "      <td>221.938492</td>\n",
       "      <td>121548.0</td>\n",
       "      <td>219405.437500</td>\n",
       "      <td>0.009000</td>\n",
       "      <td>Больницы и поликлинники</td>\n",
       "      <td>21</td>\n",
       "    </tr>\n",
       "    <tr>\n",
       "      <th>...</th>\n",
       "      <td>...</td>\n",
       "      <td>...</td>\n",
       "      <td>...</td>\n",
       "      <td>...</td>\n",
       "      <td>...</td>\n",
       "      <td>...</td>\n",
       "    </tr>\n",
       "    <tr>\n",
       "      <th>201</th>\n",
       "      <td>68.968002</td>\n",
       "      <td>1.0</td>\n",
       "      <td>68.968002</td>\n",
       "      <td>68.968002</td>\n",
       "      <td>Бетонные работы</td>\n",
       "      <td>203</td>\n",
       "    </tr>\n",
       "    <tr>\n",
       "      <th>198</th>\n",
       "      <td>45.794998</td>\n",
       "      <td>1.0</td>\n",
       "      <td>45.794998</td>\n",
       "      <td>45.794998</td>\n",
       "      <td>Услуги починки (металлические изделия)</td>\n",
       "      <td>199</td>\n",
       "    </tr>\n",
       "    <tr>\n",
       "      <th>196</th>\n",
       "      <td>12.542286</td>\n",
       "      <td>7.0</td>\n",
       "      <td>29.863001</td>\n",
       "      <td>4.313000</td>\n",
       "      <td>Ортопедия</td>\n",
       "      <td>197</td>\n",
       "    </tr>\n",
       "    <tr>\n",
       "      <th>202</th>\n",
       "      <td>NaN</td>\n",
       "      <td>NaN</td>\n",
       "      <td>NaN</td>\n",
       "      <td>NaN</td>\n",
       "      <td>Снегоходы</td>\n",
       "      <td>194</td>\n",
       "    </tr>\n",
       "    <tr>\n",
       "      <th>203</th>\n",
       "      <td>NaN</td>\n",
       "      <td>NaN</td>\n",
       "      <td>NaN</td>\n",
       "      <td>NaN</td>\n",
       "      <td>Мануальные терапевты</td>\n",
       "      <td>201</td>\n",
       "    </tr>\n",
       "  </tbody>\n",
       "</table>\n",
       "<p>204 rows × 6 columns</p>\n",
       "</div>"
      ],
      "text/plain": [
       "           mean     count            max        min  \\\n",
       "36    77.394745  372445.0  400086.781250   0.004000   \n",
       "80   391.396545   45405.0  319685.687500   0.043000   \n",
       "24   197.395203  462932.0  291837.218750   0.002000   \n",
       "14   800.021484   28905.0  284318.687500   0.014000   \n",
       "21   221.938492  121548.0  219405.437500   0.009000   \n",
       "..          ...       ...            ...        ...   \n",
       "201   68.968002       1.0      68.968002  68.968002   \n",
       "198   45.794998       1.0      45.794998  45.794998   \n",
       "196   12.542286       7.0      29.863001   4.313000   \n",
       "202         NaN       NaN            NaN        NaN   \n",
       "203         NaN       NaN            NaN        NaN   \n",
       "\n",
       "                                small_group  small_group_code  \n",
       "36                                Косметика                36  \n",
       "80        Аксессуары (драгоценности и часы)                80  \n",
       "24                                   Одежда                24  \n",
       "14                  Автодилеры и автосервис                14  \n",
       "21                  Больницы и поликлинники                21  \n",
       "..                                      ...               ...  \n",
       "201                         Бетонные работы               203  \n",
       "198  Услуги починки (металлические изделия)               199  \n",
       "196                               Ортопедия               197  \n",
       "202                               Снегоходы               194  \n",
       "203                    Мануальные терапевты               201  \n",
       "\n",
       "[204 rows x 6 columns]"
      ]
     },
     "execution_count": 50,
     "metadata": {},
     "output_type": "execute_result"
    }
   ],
   "source": [
    "tmp = tmp.sort_values('max', ascending=False)\n",
    "tmp"
   ]
  },
  {
   "cell_type": "code",
   "execution_count": 51,
   "id": "straight-pendant",
   "metadata": {
    "ExecuteTime": {
     "end_time": "2021-04-17T16:01:10.910959Z",
     "start_time": "2021-04-17T16:01:10.893600Z"
    }
   },
   "outputs": [
    {
     "data": {
      "text/html": [
       "<div>\n",
       "<style scoped>\n",
       "    .dataframe tbody tr th:only-of-type {\n",
       "        vertical-align: middle;\n",
       "    }\n",
       "\n",
       "    .dataframe tbody tr th {\n",
       "        vertical-align: top;\n",
       "    }\n",
       "\n",
       "    .dataframe thead th {\n",
       "        text-align: right;\n",
       "    }\n",
       "</style>\n",
       "<table border=\"1\" class=\"dataframe\">\n",
       "  <thead>\n",
       "    <tr style=\"text-align: right;\">\n",
       "      <th></th>\n",
       "      <th>mean</th>\n",
       "      <th>count</th>\n",
       "      <th>max</th>\n",
       "      <th>min</th>\n",
       "      <th>small_group</th>\n",
       "      <th>small_group_code</th>\n",
       "    </tr>\n",
       "  </thead>\n",
       "  <tbody>\n",
       "    <tr>\n",
       "      <th>188</th>\n",
       "      <td>167.153000</td>\n",
       "      <td>1.0</td>\n",
       "      <td>167.153000</td>\n",
       "      <td>167.153000</td>\n",
       "      <td>Остеопаты</td>\n",
       "      <td>188</td>\n",
       "    </tr>\n",
       "    <tr>\n",
       "      <th>192</th>\n",
       "      <td>394.421753</td>\n",
       "      <td>4.0</td>\n",
       "      <td>800.364990</td>\n",
       "      <td>151.929993</td>\n",
       "      <td>Аренда оборудования для грузовиков и трейлеров</td>\n",
       "      <td>192</td>\n",
       "    </tr>\n",
       "    <tr>\n",
       "      <th>199</th>\n",
       "      <td>126.484001</td>\n",
       "      <td>1.0</td>\n",
       "      <td>126.484001</td>\n",
       "      <td>126.484001</td>\n",
       "      <td>Телеграф</td>\n",
       "      <td>200</td>\n",
       "    </tr>\n",
       "    <tr>\n",
       "      <th>201</th>\n",
       "      <td>68.968002</td>\n",
       "      <td>1.0</td>\n",
       "      <td>68.968002</td>\n",
       "      <td>68.968002</td>\n",
       "      <td>Бетонные работы</td>\n",
       "      <td>203</td>\n",
       "    </tr>\n",
       "    <tr>\n",
       "      <th>200</th>\n",
       "      <td>72.919502</td>\n",
       "      <td>2.0</td>\n",
       "      <td>93.788002</td>\n",
       "      <td>52.050999</td>\n",
       "      <td>Скорая помощь</td>\n",
       "      <td>202</td>\n",
       "    </tr>\n",
       "    <tr>\n",
       "      <th>...</th>\n",
       "      <td>...</td>\n",
       "      <td>...</td>\n",
       "      <td>...</td>\n",
       "      <td>...</td>\n",
       "      <td>...</td>\n",
       "      <td>...</td>\n",
       "    </tr>\n",
       "    <tr>\n",
       "      <th>74</th>\n",
       "      <td>39.743542</td>\n",
       "      <td>17072.0</td>\n",
       "      <td>25286.824219</td>\n",
       "      <td>0.001000</td>\n",
       "      <td>Благотворительность и краудфандинг</td>\n",
       "      <td>74</td>\n",
       "    </tr>\n",
       "    <tr>\n",
       "      <th>66</th>\n",
       "      <td>308.694061</td>\n",
       "      <td>10944.0</td>\n",
       "      <td>9001.336914</td>\n",
       "      <td>0.001000</td>\n",
       "      <td>Мужская одежда</td>\n",
       "      <td>66</td>\n",
       "    </tr>\n",
       "    <tr>\n",
       "      <th>53</th>\n",
       "      <td>143.307175</td>\n",
       "      <td>30098.0</td>\n",
       "      <td>35205.031250</td>\n",
       "      <td>0.001000</td>\n",
       "      <td>Оплата налогов</td>\n",
       "      <td>53</td>\n",
       "    </tr>\n",
       "    <tr>\n",
       "      <th>202</th>\n",
       "      <td>NaN</td>\n",
       "      <td>NaN</td>\n",
       "      <td>NaN</td>\n",
       "      <td>NaN</td>\n",
       "      <td>Снегоходы</td>\n",
       "      <td>194</td>\n",
       "    </tr>\n",
       "    <tr>\n",
       "      <th>203</th>\n",
       "      <td>NaN</td>\n",
       "      <td>NaN</td>\n",
       "      <td>NaN</td>\n",
       "      <td>NaN</td>\n",
       "      <td>Мануальные терапевты</td>\n",
       "      <td>201</td>\n",
       "    </tr>\n",
       "  </tbody>\n",
       "</table>\n",
       "<p>204 rows × 6 columns</p>\n",
       "</div>"
      ],
      "text/plain": [
       "           mean    count           max         min  \\\n",
       "188  167.153000      1.0    167.153000  167.153000   \n",
       "192  394.421753      4.0    800.364990  151.929993   \n",
       "199  126.484001      1.0    126.484001  126.484001   \n",
       "201   68.968002      1.0     68.968002   68.968002   \n",
       "200   72.919502      2.0     93.788002   52.050999   \n",
       "..          ...      ...           ...         ...   \n",
       "74    39.743542  17072.0  25286.824219    0.001000   \n",
       "66   308.694061  10944.0   9001.336914    0.001000   \n",
       "53   143.307175  30098.0  35205.031250    0.001000   \n",
       "202         NaN      NaN           NaN         NaN   \n",
       "203         NaN      NaN           NaN         NaN   \n",
       "\n",
       "                                        small_group  small_group_code  \n",
       "188                                       Остеопаты               188  \n",
       "192  Аренда оборудования для грузовиков и трейлеров               192  \n",
       "199                                        Телеграф               200  \n",
       "201                                 Бетонные работы               203  \n",
       "200                                   Скорая помощь               202  \n",
       "..                                              ...               ...  \n",
       "74               Благотворительность и краудфандинг                74  \n",
       "66                                   Мужская одежда                66  \n",
       "53                                   Оплата налогов                53  \n",
       "202                                       Снегоходы               194  \n",
       "203                            Мануальные терапевты               201  \n",
       "\n",
       "[204 rows x 6 columns]"
      ]
     },
     "execution_count": 51,
     "metadata": {},
     "output_type": "execute_result"
    }
   ],
   "source": [
    "tmp = tmp.sort_values('min', ascending=False)\n",
    "tmp"
   ]
  },
  {
   "cell_type": "markdown",
   "id": "twenty-astrology",
   "metadata": {},
   "source": [
    "**maybe drop transactions from categories with low count**"
   ]
  },
  {
   "cell_type": "code",
   "execution_count": null,
   "id": "virgin-insider",
   "metadata": {},
   "outputs": [],
   "source": []
  },
  {
   "cell_type": "code",
   "execution_count": null,
   "id": "lonely-demand",
   "metadata": {},
   "outputs": [],
   "source": []
  },
  {
   "cell_type": "code",
   "execution_count": null,
   "id": "directed-transparency",
   "metadata": {},
   "outputs": [],
   "source": []
  },
  {
   "cell_type": "markdown",
   "id": "automated-gallery",
   "metadata": {},
   "source": [
    "to try\n",
    "\n",
    "count num transactions in each category (count vectorizer)\n",
    "\n",
    "count avg by customer in each category\n",
    "\n",
    "max in each category\n",
    "\n",
    "min in each category\n",
    "\n",
    "averages by weekday"
   ]
  },
  {
   "cell_type": "code",
   "execution_count": null,
   "id": "searching-division",
   "metadata": {},
   "outputs": [],
   "source": []
  }
 ],
 "metadata": {
  "kernelspec": {
   "display_name": "Python 3",
   "language": "python",
   "name": "python3"
  },
  "language_info": {
   "codemirror_mode": {
    "name": "ipython",
    "version": 3
   },
   "file_extension": ".py",
   "mimetype": "text/x-python",
   "name": "python",
   "nbconvert_exporter": "python",
   "pygments_lexer": "ipython3",
   "version": "3.8.6"
  },
  "toc": {
   "base_numbering": 1,
   "nav_menu": {},
   "number_sections": true,
   "sideBar": true,
   "skip_h1_title": true,
   "title_cell": "Table of Contents",
   "title_sidebar": "Contents",
   "toc_cell": true,
   "toc_position": {},
   "toc_section_display": true,
   "toc_window_display": true
  }
 },
 "nbformat": 4,
 "nbformat_minor": 5
}
