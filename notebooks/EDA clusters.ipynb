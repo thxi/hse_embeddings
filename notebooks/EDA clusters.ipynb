{
 "cells": [
  {
   "cell_type": "markdown",
   "id": "extra-sacrifice",
   "metadata": {
    "toc": true
   },
   "source": [
    "<h1>Table of Contents<span class=\"tocSkip\"></span></h1>\n",
    "<div class=\"toc\"><ul class=\"toc-item\"></ul></div>"
   ]
  },
  {
   "cell_type": "code",
   "execution_count": 2,
   "id": "material-isaac",
   "metadata": {
    "ExecuteTime": {
     "end_time": "2021-04-14T15:15:22.742919Z",
     "start_time": "2021-04-14T15:15:02.468021Z"
    },
    "executionInfo": {
     "elapsed": 11998,
     "status": "ok",
     "timestamp": 1610889833656,
     "user": {
      "displayName": "Ilya",
      "photoUrl": "https://lh3.googleusercontent.com/a-/AOh14GgqMMWh-yu_Neff4SfMdF5-F8RTIn4IimUv7_Wu=s64",
      "userId": "18401577808228678959"
     },
     "user_tz": -180
    },
    "id": "thKgYQF3URYw"
   },
   "outputs": [],
   "source": [
    "import pandas as pd\n",
    "import numpy as np\n",
    "import matplotlib.pyplot as plt\n",
    "import seaborn as sns\n",
    "\n",
    "sns.set()\n",
    "\n",
    "sns.set_style(\"whitegrid\", {'axes.grid' : False})\n",
    "\n",
    "# from tqdm.notebook import tqdm\n",
    "from tqdm.auto import tqdm"
   ]
  },
  {
   "cell_type": "markdown",
   "id": "enabling-builder",
   "metadata": {
    "id": "-_RBRZ19P7qm"
   },
   "source": [
    "# Data"
   ]
  },
  {
   "cell_type": "code",
   "execution_count": 16,
   "id": "latin-colorado",
   "metadata": {
    "ExecuteTime": {
     "end_time": "2021-04-14T15:29:02.041849Z",
     "start_time": "2021-04-14T15:28:57.028742Z"
    }
   },
   "outputs": [],
   "source": [
    "df = pd.read_csv('../data/transactions_train.csv')"
   ]
  },
  {
   "cell_type": "code",
   "execution_count": 17,
   "id": "bearing-thirty",
   "metadata": {
    "ExecuteTime": {
     "end_time": "2021-04-14T15:29:07.531447Z",
     "start_time": "2021-04-14T15:29:02.043753Z"
    }
   },
   "outputs": [],
   "source": [
    "df = df.sort_values(['client_id', 'trans_date'])"
   ]
  },
  {
   "cell_type": "code",
   "execution_count": 18,
   "id": "insured-monitor",
   "metadata": {
    "ExecuteTime": {
     "end_time": "2021-04-14T15:29:07.541491Z",
     "start_time": "2021-04-14T15:29:07.533913Z"
    }
   },
   "outputs": [],
   "source": [
    "y = pd.read_csv('../data/train_target.csv')"
   ]
  },
  {
   "cell_type": "code",
   "execution_count": 19,
   "id": "confirmed-mention",
   "metadata": {
    "ExecuteTime": {
     "end_time": "2021-04-14T15:29:09.303317Z",
     "start_time": "2021-04-14T15:29:07.543370Z"
    }
   },
   "outputs": [],
   "source": [
    "df = pd.merge(df, y, on='client_id')"
   ]
  },
  {
   "cell_type": "code",
   "execution_count": 20,
   "id": "south-arizona",
   "metadata": {
    "ExecuteTime": {
     "end_time": "2021-04-14T15:29:09.312070Z",
     "start_time": "2021-04-14T15:29:09.305057Z"
    }
   },
   "outputs": [
    {
     "data": {
      "text/html": [
       "<div>\n",
       "<style scoped>\n",
       "    .dataframe tbody tr th:only-of-type {\n",
       "        vertical-align: middle;\n",
       "    }\n",
       "\n",
       "    .dataframe tbody tr th {\n",
       "        vertical-align: top;\n",
       "    }\n",
       "\n",
       "    .dataframe thead th {\n",
       "        text-align: right;\n",
       "    }\n",
       "</style>\n",
       "<table border=\"1\" class=\"dataframe\">\n",
       "  <thead>\n",
       "    <tr style=\"text-align: right;\">\n",
       "      <th></th>\n",
       "      <th>client_id</th>\n",
       "      <th>trans_date</th>\n",
       "      <th>small_group</th>\n",
       "      <th>amount_rur</th>\n",
       "      <th>bins</th>\n",
       "    </tr>\n",
       "  </thead>\n",
       "  <tbody>\n",
       "    <tr>\n",
       "      <th>0</th>\n",
       "      <td>4</td>\n",
       "      <td>0</td>\n",
       "      <td>1</td>\n",
       "      <td>10.209</td>\n",
       "      <td>1</td>\n",
       "    </tr>\n",
       "    <tr>\n",
       "      <th>1</th>\n",
       "      <td>4</td>\n",
       "      <td>2</td>\n",
       "      <td>3</td>\n",
       "      <td>27.706</td>\n",
       "      <td>1</td>\n",
       "    </tr>\n",
       "    <tr>\n",
       "      <th>2</th>\n",
       "      <td>4</td>\n",
       "      <td>3</td>\n",
       "      <td>1</td>\n",
       "      <td>13.024</td>\n",
       "      <td>1</td>\n",
       "    </tr>\n",
       "    <tr>\n",
       "      <th>3</th>\n",
       "      <td>4</td>\n",
       "      <td>4</td>\n",
       "      <td>1</td>\n",
       "      <td>17.632</td>\n",
       "      <td>1</td>\n",
       "    </tr>\n",
       "    <tr>\n",
       "      <th>4</th>\n",
       "      <td>4</td>\n",
       "      <td>6</td>\n",
       "      <td>4</td>\n",
       "      <td>18.089</td>\n",
       "      <td>1</td>\n",
       "    </tr>\n",
       "  </tbody>\n",
       "</table>\n",
       "</div>"
      ],
      "text/plain": [
       "   client_id  trans_date  small_group  amount_rur  bins\n",
       "0          4           0            1      10.209     1\n",
       "1          4           2            3      27.706     1\n",
       "2          4           3            1      13.024     1\n",
       "3          4           4            1      17.632     1\n",
       "4          4           6            4      18.089     1"
      ]
     },
     "execution_count": 20,
     "metadata": {},
     "output_type": "execute_result"
    }
   ],
   "source": [
    "df.head()"
   ]
  },
  {
   "cell_type": "code",
   "execution_count": null,
   "id": "silent-restaurant",
   "metadata": {},
   "outputs": [],
   "source": []
  }
 ],
 "metadata": {
  "kernelspec": {
   "display_name": "Python 3",
   "language": "python",
   "name": "python3"
  },
  "language_info": {
   "codemirror_mode": {
    "name": "ipython",
    "version": 3
   },
   "file_extension": ".py",
   "mimetype": "text/x-python",
   "name": "python",
   "nbconvert_exporter": "python",
   "pygments_lexer": "ipython3",
   "version": "3.8.6"
  },
  "toc": {
   "base_numbering": 1,
   "nav_menu": {},
   "number_sections": true,
   "sideBar": true,
   "skip_h1_title": true,
   "title_cell": "Table of Contents",
   "title_sidebar": "Contents",
   "toc_cell": true,
   "toc_position": {},
   "toc_section_display": true,
   "toc_window_display": true
  }
 },
 "nbformat": 4,
 "nbformat_minor": 5
}
