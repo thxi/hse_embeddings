{
 "cells": [
  {
   "cell_type": "markdown",
   "id": "extra-sacrifice",
   "metadata": {
    "toc": true
   },
   "source": [
    "<h1>Table of Contents<span class=\"tocSkip\"></span></h1>\n",
    "<div class=\"toc\"><ul class=\"toc-item\"><li><span><a href=\"#Data\" data-toc-modified-id=\"Data-1\"><span class=\"toc-item-num\">1&nbsp;&nbsp;</span>Data</a></span></li><li><span><a href=\"#EDA\" data-toc-modified-id=\"EDA-2\"><span class=\"toc-item-num\">2&nbsp;&nbsp;</span>EDA</a></span></li><li><span><a href=\"#Feature-engineering\" data-toc-modified-id=\"Feature-engineering-3\"><span class=\"toc-item-num\">3&nbsp;&nbsp;</span>Feature engineering</a></span></li><li><span><a href=\"#Catboost\" data-toc-modified-id=\"Catboost-4\"><span class=\"toc-item-num\">4&nbsp;&nbsp;</span>Catboost</a></span></li></ul></div>"
   ]
  },
  {
   "cell_type": "code",
   "execution_count": 1,
   "id": "material-isaac",
   "metadata": {
    "ExecuteTime": {
     "end_time": "2021-04-18T11:21:02.786532Z",
     "start_time": "2021-04-18T11:21:01.726023Z"
    },
    "executionInfo": {
     "elapsed": 11998,
     "status": "ok",
     "timestamp": 1610889833656,
     "user": {
      "displayName": "Ilya",
      "photoUrl": "https://lh3.googleusercontent.com/a-/AOh14GgqMMWh-yu_Neff4SfMdF5-F8RTIn4IimUv7_Wu=s64",
      "userId": "18401577808228678959"
     },
     "user_tz": -180
    },
    "id": "thKgYQF3URYw"
   },
   "outputs": [],
   "source": [
    "import pandas as pd\n",
    "import numpy as np\n",
    "import matplotlib.pyplot as plt\n",
    "import seaborn as sns\n",
    "\n",
    "sns.set()\n",
    "\n",
    "sns.set_style(\"whitegrid\", {'axes.grid' : False})\n",
    "\n",
    "# from tqdm.notebook import tqdm\n",
    "from tqdm.auto import tqdm"
   ]
  },
  {
   "cell_type": "markdown",
   "id": "enabling-builder",
   "metadata": {
    "id": "-_RBRZ19P7qm"
   },
   "source": [
    "## Data"
   ]
  },
  {
   "cell_type": "code",
   "execution_count": 2,
   "id": "latin-colorado",
   "metadata": {
    "ExecuteTime": {
     "end_time": "2021-04-18T11:21:08.322050Z",
     "start_time": "2021-04-18T11:21:02.788276Z"
    }
   },
   "outputs": [],
   "source": [
    "df = pd.read_csv('../data/transactions_train.csv')"
   ]
  },
  {
   "cell_type": "code",
   "execution_count": 3,
   "id": "bearing-thirty",
   "metadata": {
    "ExecuteTime": {
     "end_time": "2021-04-18T11:21:14.162531Z",
     "start_time": "2021-04-18T11:21:08.324050Z"
    }
   },
   "outputs": [],
   "source": [
    "df = df.sort_values(['client_id', 'trans_date'])"
   ]
  },
  {
   "cell_type": "code",
   "execution_count": 4,
   "id": "insured-monitor",
   "metadata": {
    "ExecuteTime": {
     "end_time": "2021-04-18T11:21:14.175077Z",
     "start_time": "2021-04-18T11:21:14.164755Z"
    }
   },
   "outputs": [],
   "source": [
    "y = pd.read_csv('../data/train_target.csv')"
   ]
  },
  {
   "cell_type": "code",
   "execution_count": 5,
   "id": "confirmed-mention",
   "metadata": {
    "ExecuteTime": {
     "end_time": "2021-04-18T11:21:15.936252Z",
     "start_time": "2021-04-18T11:21:14.176939Z"
    }
   },
   "outputs": [],
   "source": [
    "df = pd.merge(df, y, on='client_id')"
   ]
  },
  {
   "cell_type": "code",
   "execution_count": 6,
   "id": "silent-restaurant",
   "metadata": {
    "ExecuteTime": {
     "end_time": "2021-04-18T11:21:18.143800Z",
     "start_time": "2021-04-18T11:21:15.938189Z"
    }
   },
   "outputs": [
    {
     "name": "stdout",
     "output_type": "stream",
     "text": [
      "before downsampling:\n",
      " client_id        int64\n",
      "trans_date       int64\n",
      "small_group      int64\n",
      "amount_rur     float64\n",
      "bins             int64\n",
      "dtype: object\n",
      "after downsampling:\n",
      " client_id       uint16\n",
      "trans_date      uint16\n",
      "small_group      int16\n",
      "amount_rur     float32\n",
      "bins             int64\n",
      "dtype: object\n"
     ]
    }
   ],
   "source": [
    "print('before downsampling:\\n', df.dtypes)\n",
    "df['client_id'] = pd.to_numeric(df['client_id'], downcast='unsigned')\n",
    "df['trans_date'] = pd.to_numeric(df['trans_date'], downcast='unsigned')\n",
    "df['small_group'] = pd.to_numeric(df['small_group'], downcast='signed')\n",
    "df['amount_rur'] = pd.to_numeric(df['amount_rur'], downcast='float')\n",
    "\n",
    "print('after downsampling:\\n',df.dtypes)"
   ]
  },
  {
   "cell_type": "code",
   "execution_count": 7,
   "id": "complete-distributor",
   "metadata": {
    "ExecuteTime": {
     "end_time": "2021-04-18T11:21:18.150270Z",
     "start_time": "2021-04-18T11:21:18.145612Z"
    }
   },
   "outputs": [],
   "source": [
    "groups = pd.read_csv('../data/small_group_description.csv')"
   ]
  },
  {
   "cell_type": "code",
   "execution_count": 8,
   "id": "increasing-rescue",
   "metadata": {
    "ExecuteTime": {
     "end_time": "2021-04-18T11:21:18.252955Z",
     "start_time": "2021-04-18T11:21:18.153880Z"
    }
   },
   "outputs": [],
   "source": [
    "df['weekday'] = df['trans_date'] % 7"
   ]
  },
  {
   "cell_type": "markdown",
   "id": "continental-sodium",
   "metadata": {},
   "source": [
    "## EDA"
   ]
  },
  {
   "cell_type": "markdown",
   "id": "exterior-wilderness",
   "metadata": {
    "ExecuteTime": {
     "end_time": "2021-04-17T15:50:02.779549Z",
     "start_time": "2021-04-17T15:50:02.775225Z"
    }
   },
   "source": [
    "Для сегментирования отдельных групп пользователей, провести кластеризацию пользователей и использовать метки получившихся классов в качестве предсказываемой переменной. Обученные эмбединги использовать для предсказания реальных данных(в нашей задаче это возрастные группы)."
   ]
  },
  {
   "cell_type": "markdown",
   "id": "enhanced-honolulu",
   "metadata": {},
   "source": [
    "Кластеризация пользователей на основе handmade признаков обоснование выбора признаков с использованием EDA. Кластеризация пользователей любым способом, который кажется пригодным(с учетом особенностей данных). Визуализация категорий пользователей с использованием алгоритмов понижения размерности данных."
   ]
  },
  {
   "cell_type": "code",
   "execution_count": 9,
   "id": "enabling-profit",
   "metadata": {
    "ExecuteTime": {
     "end_time": "2021-04-18T11:21:18.257622Z",
     "start_time": "2021-04-18T11:21:18.255776Z"
    }
   },
   "outputs": [],
   "source": [
    "np.random.seed(228)"
   ]
  },
  {
   "cell_type": "code",
   "execution_count": 10,
   "id": "cubic-reflection",
   "metadata": {
    "ExecuteTime": {
     "end_time": "2021-04-18T11:21:20.429971Z",
     "start_time": "2021-04-18T11:21:18.259056Z"
    }
   },
   "outputs": [
    {
     "data": {
      "image/png": "[encoded data removed]",
      "text/plain": [
       "<Figure size 432x288 with 1 Axes>"
      ]
     },
     "metadata": {},
     "output_type": "display_data"
    }
   ],
   "source": [
    "sns.boxplot(x=df['amount_rur'].sample(1000000))\n",
    "plt.xscale('log')"
   ]
  },
  {
   "cell_type": "code",
   "execution_count": 11,
   "id": "weekly-runner",
   "metadata": {
    "ExecuteTime": {
     "end_time": "2021-04-18T11:21:23.769041Z",
     "start_time": "2021-04-18T11:21:20.431544Z"
    }
   },
   "outputs": [
    {
     "data": {
      "text/html": [
       "<div>\n",
       "<style scoped>\n",
       "    .dataframe tbody tr th:only-of-type {\n",
       "        vertical-align: middle;\n",
       "    }\n",
       "\n",
       "    .dataframe tbody tr th {\n",
       "        vertical-align: top;\n",
       "    }\n",
       "\n",
       "    .dataframe thead th {\n",
       "        text-align: right;\n",
       "    }\n",
       "</style>\n",
       "<table border=\"1\" class=\"dataframe\">\n",
       "  <thead>\n",
       "    <tr style=\"text-align: right;\">\n",
       "      <th></th>\n",
       "      <th>mean</th>\n",
       "      <th>count</th>\n",
       "      <th>max</th>\n",
       "      <th>min</th>\n",
       "      <th>small_group</th>\n",
       "      <th>small_group_code</th>\n",
       "    </tr>\n",
       "  </thead>\n",
       "  <tbody>\n",
       "    <tr>\n",
       "      <th>1</th>\n",
       "      <td>41.666897</td>\n",
       "      <td>8131374.0</td>\n",
       "      <td>22447.980469</td>\n",
       "      <td>0.002000</td>\n",
       "      <td>Сетевые супермаркеты и продуктовые магазины</td>\n",
       "      <td>1</td>\n",
       "    </tr>\n",
       "    <tr>\n",
       "      <th>11</th>\n",
       "      <td>21.339022</td>\n",
       "      <td>3202881.0</td>\n",
       "      <td>11515.068359</td>\n",
       "      <td>0.001000</td>\n",
       "      <td>Фастфуд и кафе</td>\n",
       "      <td>11</td>\n",
       "    </tr>\n",
       "    <tr>\n",
       "      <th>3</th>\n",
       "      <td>19.819042</td>\n",
       "      <td>2428984.0</td>\n",
       "      <td>24261.560547</td>\n",
       "      <td>0.001000</td>\n",
       "      <td>Оплата телефона и связи</td>\n",
       "      <td>3</td>\n",
       "    </tr>\n",
       "    <tr>\n",
       "      <th>15</th>\n",
       "      <td>21.617123</td>\n",
       "      <td>1427077.0</td>\n",
       "      <td>13318.199219</td>\n",
       "      <td>0.005000</td>\n",
       "      <td>Несетевые супермаркеты и продуктовые магазины</td>\n",
       "      <td>15</td>\n",
       "    </tr>\n",
       "    <tr>\n",
       "      <th>4</th>\n",
       "      <td>34.616478</td>\n",
       "      <td>1207604.0</td>\n",
       "      <td>38081.308594</td>\n",
       "      <td>0.001000</td>\n",
       "      <td>Аптеки</td>\n",
       "      <td>4</td>\n",
       "    </tr>\n",
       "    <tr>\n",
       "      <th>...</th>\n",
       "      <td>...</td>\n",
       "      <td>...</td>\n",
       "      <td>...</td>\n",
       "      <td>...</td>\n",
       "      <td>...</td>\n",
       "      <td>...</td>\n",
       "    </tr>\n",
       "    <tr>\n",
       "      <th>198</th>\n",
       "      <td>45.794998</td>\n",
       "      <td>1.0</td>\n",
       "      <td>45.794998</td>\n",
       "      <td>45.794998</td>\n",
       "      <td>Услуги починки (металлические изделия)</td>\n",
       "      <td>199</td>\n",
       "    </tr>\n",
       "    <tr>\n",
       "      <th>199</th>\n",
       "      <td>126.484001</td>\n",
       "      <td>1.0</td>\n",
       "      <td>126.484001</td>\n",
       "      <td>126.484001</td>\n",
       "      <td>Телеграф</td>\n",
       "      <td>200</td>\n",
       "    </tr>\n",
       "    <tr>\n",
       "      <th>201</th>\n",
       "      <td>68.968002</td>\n",
       "      <td>1.0</td>\n",
       "      <td>68.968002</td>\n",
       "      <td>68.968002</td>\n",
       "      <td>Бетонные работы</td>\n",
       "      <td>203</td>\n",
       "    </tr>\n",
       "    <tr>\n",
       "      <th>202</th>\n",
       "      <td>NaN</td>\n",
       "      <td>NaN</td>\n",
       "      <td>NaN</td>\n",
       "      <td>NaN</td>\n",
       "      <td>Снегоходы</td>\n",
       "      <td>194</td>\n",
       "    </tr>\n",
       "    <tr>\n",
       "      <th>203</th>\n",
       "      <td>NaN</td>\n",
       "      <td>NaN</td>\n",
       "      <td>NaN</td>\n",
       "      <td>NaN</td>\n",
       "      <td>Мануальные терапевты</td>\n",
       "      <td>201</td>\n",
       "    </tr>\n",
       "  </tbody>\n",
       "</table>\n",
       "<p>204 rows × 6 columns</p>\n",
       "</div>"
      ],
      "text/plain": [
       "           mean      count           max         min  \\\n",
       "1     41.666897  8131374.0  22447.980469    0.002000   \n",
       "11    21.339022  3202881.0  11515.068359    0.001000   \n",
       "3     19.819042  2428984.0  24261.560547    0.001000   \n",
       "15    21.617123  1427077.0  13318.199219    0.005000   \n",
       "4     34.616478  1207604.0  38081.308594    0.001000   \n",
       "..          ...        ...           ...         ...   \n",
       "198   45.794998        1.0     45.794998   45.794998   \n",
       "199  126.484001        1.0    126.484001  126.484001   \n",
       "201   68.968002        1.0     68.968002   68.968002   \n",
       "202         NaN        NaN           NaN         NaN   \n",
       "203         NaN        NaN           NaN         NaN   \n",
       "\n",
       "                                       small_group  small_group_code  \n",
       "1      Сетевые супермаркеты и продуктовые магазины                 1  \n",
       "11                                  Фастфуд и кафе                11  \n",
       "3                          Оплата телефона и связи                 3  \n",
       "15   Несетевые супермаркеты и продуктовые магазины                15  \n",
       "4                                           Аптеки                 4  \n",
       "..                                             ...               ...  \n",
       "198         Услуги починки (металлические изделия)               199  \n",
       "199                                       Телеграф               200  \n",
       "201                                Бетонные работы               203  \n",
       "202                                      Снегоходы               194  \n",
       "203                           Мануальные терапевты               201  \n",
       "\n",
       "[204 rows x 6 columns]"
      ]
     },
     "execution_count": 11,
     "metadata": {},
     "output_type": "execute_result"
    }
   ],
   "source": [
    "tmp = df.groupby('small_group')[['amount_rur']].agg(['mean', 'count', 'max', 'min']).reset_index()\n",
    "tmp.columns =['small_group_code', 'mean', 'count', 'max', 'min']\n",
    "tmp = tmp.set_index('small_group_code')\n",
    "tmp = tmp.join(groups, on='small_group_code', how='outer').reset_index(drop=True)\n",
    "tmp = tmp.sort_values('count', ascending=False)\n",
    "tmp"
   ]
  },
  {
   "cell_type": "code",
   "execution_count": 12,
   "id": "false-reducing",
   "metadata": {
    "ExecuteTime": {
     "end_time": "2021-04-18T11:21:25.658849Z",
     "start_time": "2021-04-18T11:21:23.770753Z"
    }
   },
   "outputs": [
    {
     "data": {
      "image/png": "[encoded data removed]",
      "text/plain": [
       "<Figure size 432x288 with 1 Axes>"
      ]
     },
     "metadata": {},
     "output_type": "display_data"
    }
   ],
   "source": [
    "mask = df['small_group'] == 1\n",
    "sns.boxplot(x=df[mask]['amount_rur'].sample(1000000))\n",
    "plt.xscale('log')"
   ]
  },
  {
   "cell_type": "code",
   "execution_count": 13,
   "id": "moved-hybrid",
   "metadata": {
    "ExecuteTime": {
     "end_time": "2021-04-18T11:21:30.757476Z",
     "start_time": "2021-04-18T11:21:25.661607Z"
    }
   },
   "outputs": [
    {
     "data": {
      "image/png": "[encoded data removed]",
      "text/plain": [
       "<Figure size 1440x288 with 1 Axes>"
      ]
     },
     "metadata": {},
     "output_type": "display_data"
    }
   ],
   "source": [
    "fig, axs = plt.subplots(figsize=(20, 4))\n",
    "\n",
    "sns.barplot(x=list(range(len(tmp))), y=tmp['count'].sort_values(ascending=False));"
   ]
  },
  {
   "cell_type": "code",
   "execution_count": 14,
   "id": "amino-undergraduate",
   "metadata": {
    "ExecuteTime": {
     "end_time": "2021-04-18T11:21:30.774183Z",
     "start_time": "2021-04-18T11:21:30.759122Z"
    }
   },
   "outputs": [
    {
     "data": {
      "text/html": [
       "<div>\n",
       "<style scoped>\n",
       "    .dataframe tbody tr th:only-of-type {\n",
       "        vertical-align: middle;\n",
       "    }\n",
       "\n",
       "    .dataframe tbody tr th {\n",
       "        vertical-align: top;\n",
       "    }\n",
       "\n",
       "    .dataframe thead th {\n",
       "        text-align: right;\n",
       "    }\n",
       "</style>\n",
       "<table border=\"1\" class=\"dataframe\">\n",
       "  <thead>\n",
       "    <tr style=\"text-align: right;\">\n",
       "      <th></th>\n",
       "      <th>quantile</th>\n",
       "      <th>count</th>\n",
       "    </tr>\n",
       "  </thead>\n",
       "  <tbody>\n",
       "    <tr>\n",
       "      <th>0</th>\n",
       "      <td>0.1</td>\n",
       "      <td>34</td>\n",
       "    </tr>\n",
       "    <tr>\n",
       "      <th>1</th>\n",
       "      <td>0.2</td>\n",
       "      <td>183</td>\n",
       "    </tr>\n",
       "    <tr>\n",
       "      <th>2</th>\n",
       "      <td>0.3</td>\n",
       "      <td>516</td>\n",
       "    </tr>\n",
       "    <tr>\n",
       "      <th>3</th>\n",
       "      <td>0.4</td>\n",
       "      <td>1174</td>\n",
       "    </tr>\n",
       "    <tr>\n",
       "      <th>4</th>\n",
       "      <td>0.5</td>\n",
       "      <td>3287</td>\n",
       "    </tr>\n",
       "    <tr>\n",
       "      <th>5</th>\n",
       "      <td>0.6</td>\n",
       "      <td>11474</td>\n",
       "    </tr>\n",
       "    <tr>\n",
       "      <th>6</th>\n",
       "      <td>0.7</td>\n",
       "      <td>23829</td>\n",
       "    </tr>\n",
       "    <tr>\n",
       "      <th>7</th>\n",
       "      <td>0.8</td>\n",
       "      <td>61634</td>\n",
       "    </tr>\n",
       "    <tr>\n",
       "      <th>8</th>\n",
       "      <td>0.9</td>\n",
       "      <td>121845</td>\n",
       "    </tr>\n",
       "    <tr>\n",
       "      <th>9</th>\n",
       "      <td>1.0</td>\n",
       "      <td>8131374</td>\n",
       "    </tr>\n",
       "  </tbody>\n",
       "</table>\n",
       "</div>"
      ],
      "text/plain": [
       "   quantile    count\n",
       "0       0.1       34\n",
       "1       0.2      183\n",
       "2       0.3      516\n",
       "3       0.4     1174\n",
       "4       0.5     3287\n",
       "5       0.6    11474\n",
       "6       0.7    23829\n",
       "7       0.8    61634\n",
       "8       0.9   121845\n",
       "9       1.0  8131374"
      ]
     },
     "execution_count": 14,
     "metadata": {},
     "output_type": "execute_result"
    }
   ],
   "source": [
    "quantiles = np.arange(0.1, 1.1, 0.1)\n",
    "counts = [int(tmp['count'].quantile(i)) for i in quantiles]\n",
    "quantiles = pd.DataFrame({'quantile': quantiles, 'count': counts})\n",
    "quantiles"
   ]
  },
  {
   "cell_type": "code",
   "execution_count": 15,
   "id": "variable-briefing",
   "metadata": {
    "ExecuteTime": {
     "end_time": "2021-04-18T11:21:30.790560Z",
     "start_time": "2021-04-18T11:21:30.775700Z"
    }
   },
   "outputs": [
    {
     "data": {
      "text/html": [
       "<div>\n",
       "<style scoped>\n",
       "    .dataframe tbody tr th:only-of-type {\n",
       "        vertical-align: middle;\n",
       "    }\n",
       "\n",
       "    .dataframe tbody tr th {\n",
       "        vertical-align: top;\n",
       "    }\n",
       "\n",
       "    .dataframe thead th {\n",
       "        text-align: right;\n",
       "    }\n",
       "</style>\n",
       "<table border=\"1\" class=\"dataframe\">\n",
       "  <thead>\n",
       "    <tr style=\"text-align: right;\">\n",
       "      <th></th>\n",
       "      <th>mean</th>\n",
       "      <th>count</th>\n",
       "      <th>max</th>\n",
       "      <th>min</th>\n",
       "      <th>small_group</th>\n",
       "      <th>small_group_code</th>\n",
       "    </tr>\n",
       "  </thead>\n",
       "  <tbody>\n",
       "    <tr>\n",
       "      <th>173</th>\n",
       "      <td>1352.014282</td>\n",
       "      <td>100.0</td>\n",
       "      <td>9793.549805</td>\n",
       "      <td>0.824</td>\n",
       "      <td>Металлопрокат</td>\n",
       "      <td>173</td>\n",
       "    </tr>\n",
       "    <tr>\n",
       "      <th>170</th>\n",
       "      <td>1344.033936</td>\n",
       "      <td>209.0</td>\n",
       "      <td>7440.359863</td>\n",
       "      <td>1.294</td>\n",
       "      <td>Окна и двери</td>\n",
       "      <td>170</td>\n",
       "    </tr>\n",
       "    <tr>\n",
       "      <th>181</th>\n",
       "      <td>1275.825684</td>\n",
       "      <td>73.0</td>\n",
       "      <td>16371.612305</td>\n",
       "      <td>0.190</td>\n",
       "      <td>Прочие отели (аппартаменты)</td>\n",
       "      <td>181</td>\n",
       "    </tr>\n",
       "    <tr>\n",
       "      <th>178</th>\n",
       "      <td>1187.892944</td>\n",
       "      <td>38.0</td>\n",
       "      <td>13553.929688</td>\n",
       "      <td>3.450</td>\n",
       "      <td>Камины и печи</td>\n",
       "      <td>178</td>\n",
       "    </tr>\n",
       "    <tr>\n",
       "      <th>190</th>\n",
       "      <td>1180.543213</td>\n",
       "      <td>28.0</td>\n",
       "      <td>9159.056641</td>\n",
       "      <td>4.579</td>\n",
       "      <td>Услуги починки (кондиционеры и холодильники)</td>\n",
       "      <td>190</td>\n",
       "    </tr>\n",
       "    <tr>\n",
       "      <th>...</th>\n",
       "      <td>...</td>\n",
       "      <td>...</td>\n",
       "      <td>...</td>\n",
       "      <td>...</td>\n",
       "      <td>...</td>\n",
       "      <td>...</td>\n",
       "    </tr>\n",
       "    <tr>\n",
       "      <th>115</th>\n",
       "      <td>17.517340</td>\n",
       "      <td>19657.0</td>\n",
       "      <td>2426.331055</td>\n",
       "      <td>0.043</td>\n",
       "      <td>Видео (онлайн-кинотеатры, онлайн-каналы, видео...</td>\n",
       "      <td>115</td>\n",
       "    </tr>\n",
       "    <tr>\n",
       "      <th>47</th>\n",
       "      <td>14.888980</td>\n",
       "      <td>37602.0</td>\n",
       "      <td>1831.812012</td>\n",
       "      <td>0.043</td>\n",
       "      <td>Пекарня</td>\n",
       "      <td>47</td>\n",
       "    </tr>\n",
       "    <tr>\n",
       "      <th>196</th>\n",
       "      <td>12.542286</td>\n",
       "      <td>7.0</td>\n",
       "      <td>29.863001</td>\n",
       "      <td>4.313</td>\n",
       "      <td>Ортопедия</td>\n",
       "      <td>197</td>\n",
       "    </tr>\n",
       "    <tr>\n",
       "      <th>202</th>\n",
       "      <td>NaN</td>\n",
       "      <td>NaN</td>\n",
       "      <td>NaN</td>\n",
       "      <td>NaN</td>\n",
       "      <td>Снегоходы</td>\n",
       "      <td>194</td>\n",
       "    </tr>\n",
       "    <tr>\n",
       "      <th>203</th>\n",
       "      <td>NaN</td>\n",
       "      <td>NaN</td>\n",
       "      <td>NaN</td>\n",
       "      <td>NaN</td>\n",
       "      <td>Мануальные терапевты</td>\n",
       "      <td>201</td>\n",
       "    </tr>\n",
       "  </tbody>\n",
       "</table>\n",
       "<p>204 rows × 6 columns</p>\n",
       "</div>"
      ],
      "text/plain": [
       "            mean    count           max    min  \\\n",
       "173  1352.014282    100.0   9793.549805  0.824   \n",
       "170  1344.033936    209.0   7440.359863  1.294   \n",
       "181  1275.825684     73.0  16371.612305  0.190   \n",
       "178  1187.892944     38.0  13553.929688  3.450   \n",
       "190  1180.543213     28.0   9159.056641  4.579   \n",
       "..           ...      ...           ...    ...   \n",
       "115    17.517340  19657.0   2426.331055  0.043   \n",
       "47     14.888980  37602.0   1831.812012  0.043   \n",
       "196    12.542286      7.0     29.863001  4.313   \n",
       "202          NaN      NaN           NaN    NaN   \n",
       "203          NaN      NaN           NaN    NaN   \n",
       "\n",
       "                                           small_group  small_group_code  \n",
       "173                                      Металлопрокат               173  \n",
       "170                                       Окна и двери               170  \n",
       "181                        Прочие отели (аппартаменты)               181  \n",
       "178                                      Камины и печи               178  \n",
       "190       Услуги починки (кондиционеры и холодильники)               190  \n",
       "..                                                 ...               ...  \n",
       "115  Видео (онлайн-кинотеатры, онлайн-каналы, видео...               115  \n",
       "47                                             Пекарня                47  \n",
       "196                                          Ортопедия               197  \n",
       "202                                          Снегоходы               194  \n",
       "203                               Мануальные терапевты               201  \n",
       "\n",
       "[204 rows x 6 columns]"
      ]
     },
     "execution_count": 15,
     "metadata": {},
     "output_type": "execute_result"
    }
   ],
   "source": [
    "tmp = tmp.sort_values('mean', ascending=False)\n",
    "tmp"
   ]
  },
  {
   "cell_type": "code",
   "execution_count": 16,
   "id": "normal-murray",
   "metadata": {
    "ExecuteTime": {
     "end_time": "2021-04-18T11:21:30.806238Z",
     "start_time": "2021-04-18T11:21:30.792093Z"
    }
   },
   "outputs": [
    {
     "data": {
      "text/html": [
       "<div>\n",
       "<style scoped>\n",
       "    .dataframe tbody tr th:only-of-type {\n",
       "        vertical-align: middle;\n",
       "    }\n",
       "\n",
       "    .dataframe tbody tr th {\n",
       "        vertical-align: top;\n",
       "    }\n",
       "\n",
       "    .dataframe thead th {\n",
       "        text-align: right;\n",
       "    }\n",
       "</style>\n",
       "<table border=\"1\" class=\"dataframe\">\n",
       "  <thead>\n",
       "    <tr style=\"text-align: right;\">\n",
       "      <th></th>\n",
       "      <th>mean</th>\n",
       "      <th>count</th>\n",
       "      <th>max</th>\n",
       "      <th>min</th>\n",
       "      <th>small_group</th>\n",
       "      <th>small_group_code</th>\n",
       "    </tr>\n",
       "  </thead>\n",
       "  <tbody>\n",
       "    <tr>\n",
       "      <th>36</th>\n",
       "      <td>77.394745</td>\n",
       "      <td>372445.0</td>\n",
       "      <td>400086.781250</td>\n",
       "      <td>0.004000</td>\n",
       "      <td>Косметика</td>\n",
       "      <td>36</td>\n",
       "    </tr>\n",
       "    <tr>\n",
       "      <th>80</th>\n",
       "      <td>391.396545</td>\n",
       "      <td>45405.0</td>\n",
       "      <td>319685.687500</td>\n",
       "      <td>0.043000</td>\n",
       "      <td>Аксессуары (драгоценности и часы)</td>\n",
       "      <td>80</td>\n",
       "    </tr>\n",
       "    <tr>\n",
       "      <th>24</th>\n",
       "      <td>197.395203</td>\n",
       "      <td>462932.0</td>\n",
       "      <td>291837.218750</td>\n",
       "      <td>0.002000</td>\n",
       "      <td>Одежда</td>\n",
       "      <td>24</td>\n",
       "    </tr>\n",
       "    <tr>\n",
       "      <th>14</th>\n",
       "      <td>800.021484</td>\n",
       "      <td>28905.0</td>\n",
       "      <td>284318.687500</td>\n",
       "      <td>0.014000</td>\n",
       "      <td>Автодилеры и автосервис</td>\n",
       "      <td>14</td>\n",
       "    </tr>\n",
       "    <tr>\n",
       "      <th>21</th>\n",
       "      <td>221.938492</td>\n",
       "      <td>121548.0</td>\n",
       "      <td>219405.437500</td>\n",
       "      <td>0.009000</td>\n",
       "      <td>Больницы и поликлинники</td>\n",
       "      <td>21</td>\n",
       "    </tr>\n",
       "    <tr>\n",
       "      <th>...</th>\n",
       "      <td>...</td>\n",
       "      <td>...</td>\n",
       "      <td>...</td>\n",
       "      <td>...</td>\n",
       "      <td>...</td>\n",
       "      <td>...</td>\n",
       "    </tr>\n",
       "    <tr>\n",
       "      <th>201</th>\n",
       "      <td>68.968002</td>\n",
       "      <td>1.0</td>\n",
       "      <td>68.968002</td>\n",
       "      <td>68.968002</td>\n",
       "      <td>Бетонные работы</td>\n",
       "      <td>203</td>\n",
       "    </tr>\n",
       "    <tr>\n",
       "      <th>198</th>\n",
       "      <td>45.794998</td>\n",
       "      <td>1.0</td>\n",
       "      <td>45.794998</td>\n",
       "      <td>45.794998</td>\n",
       "      <td>Услуги починки (металлические изделия)</td>\n",
       "      <td>199</td>\n",
       "    </tr>\n",
       "    <tr>\n",
       "      <th>196</th>\n",
       "      <td>12.542286</td>\n",
       "      <td>7.0</td>\n",
       "      <td>29.863001</td>\n",
       "      <td>4.313000</td>\n",
       "      <td>Ортопедия</td>\n",
       "      <td>197</td>\n",
       "    </tr>\n",
       "    <tr>\n",
       "      <th>202</th>\n",
       "      <td>NaN</td>\n",
       "      <td>NaN</td>\n",
       "      <td>NaN</td>\n",
       "      <td>NaN</td>\n",
       "      <td>Снегоходы</td>\n",
       "      <td>194</td>\n",
       "    </tr>\n",
       "    <tr>\n",
       "      <th>203</th>\n",
       "      <td>NaN</td>\n",
       "      <td>NaN</td>\n",
       "      <td>NaN</td>\n",
       "      <td>NaN</td>\n",
       "      <td>Мануальные терапевты</td>\n",
       "      <td>201</td>\n",
       "    </tr>\n",
       "  </tbody>\n",
       "</table>\n",
       "<p>204 rows × 6 columns</p>\n",
       "</div>"
      ],
      "text/plain": [
       "           mean     count            max        min  \\\n",
       "36    77.394745  372445.0  400086.781250   0.004000   \n",
       "80   391.396545   45405.0  319685.687500   0.043000   \n",
       "24   197.395203  462932.0  291837.218750   0.002000   \n",
       "14   800.021484   28905.0  284318.687500   0.014000   \n",
       "21   221.938492  121548.0  219405.437500   0.009000   \n",
       "..          ...       ...            ...        ...   \n",
       "201   68.968002       1.0      68.968002  68.968002   \n",
       "198   45.794998       1.0      45.794998  45.794998   \n",
       "196   12.542286       7.0      29.863001   4.313000   \n",
       "202         NaN       NaN            NaN        NaN   \n",
       "203         NaN       NaN            NaN        NaN   \n",
       "\n",
       "                                small_group  small_group_code  \n",
       "36                                Косметика                36  \n",
       "80        Аксессуары (драгоценности и часы)                80  \n",
       "24                                   Одежда                24  \n",
       "14                  Автодилеры и автосервис                14  \n",
       "21                  Больницы и поликлинники                21  \n",
       "..                                      ...               ...  \n",
       "201                         Бетонные работы               203  \n",
       "198  Услуги починки (металлические изделия)               199  \n",
       "196                               Ортопедия               197  \n",
       "202                               Снегоходы               194  \n",
       "203                    Мануальные терапевты               201  \n",
       "\n",
       "[204 rows x 6 columns]"
      ]
     },
     "execution_count": 16,
     "metadata": {},
     "output_type": "execute_result"
    }
   ],
   "source": [
    "tmp = tmp.sort_values('max', ascending=False)\n",
    "tmp"
   ]
  },
  {
   "cell_type": "code",
   "execution_count": 17,
   "id": "straight-pendant",
   "metadata": {
    "ExecuteTime": {
     "end_time": "2021-04-18T11:21:30.823263Z",
     "start_time": "2021-04-18T11:21:30.807978Z"
    }
   },
   "outputs": [
    {
     "data": {
      "text/html": [
       "<div>\n",
       "<style scoped>\n",
       "    .dataframe tbody tr th:only-of-type {\n",
       "        vertical-align: middle;\n",
       "    }\n",
       "\n",
       "    .dataframe tbody tr th {\n",
       "        vertical-align: top;\n",
       "    }\n",
       "\n",
       "    .dataframe thead th {\n",
       "        text-align: right;\n",
       "    }\n",
       "</style>\n",
       "<table border=\"1\" class=\"dataframe\">\n",
       "  <thead>\n",
       "    <tr style=\"text-align: right;\">\n",
       "      <th></th>\n",
       "      <th>mean</th>\n",
       "      <th>count</th>\n",
       "      <th>max</th>\n",
       "      <th>min</th>\n",
       "      <th>small_group</th>\n",
       "      <th>small_group_code</th>\n",
       "    </tr>\n",
       "  </thead>\n",
       "  <tbody>\n",
       "    <tr>\n",
       "      <th>188</th>\n",
       "      <td>167.153000</td>\n",
       "      <td>1.0</td>\n",
       "      <td>167.153000</td>\n",
       "      <td>167.153000</td>\n",
       "      <td>Остеопаты</td>\n",
       "      <td>188</td>\n",
       "    </tr>\n",
       "    <tr>\n",
       "      <th>192</th>\n",
       "      <td>394.421753</td>\n",
       "      <td>4.0</td>\n",
       "      <td>800.364990</td>\n",
       "      <td>151.929993</td>\n",
       "      <td>Аренда оборудования для грузовиков и трейлеров</td>\n",
       "      <td>192</td>\n",
       "    </tr>\n",
       "    <tr>\n",
       "      <th>199</th>\n",
       "      <td>126.484001</td>\n",
       "      <td>1.0</td>\n",
       "      <td>126.484001</td>\n",
       "      <td>126.484001</td>\n",
       "      <td>Телеграф</td>\n",
       "      <td>200</td>\n",
       "    </tr>\n",
       "    <tr>\n",
       "      <th>201</th>\n",
       "      <td>68.968002</td>\n",
       "      <td>1.0</td>\n",
       "      <td>68.968002</td>\n",
       "      <td>68.968002</td>\n",
       "      <td>Бетонные работы</td>\n",
       "      <td>203</td>\n",
       "    </tr>\n",
       "    <tr>\n",
       "      <th>200</th>\n",
       "      <td>72.919502</td>\n",
       "      <td>2.0</td>\n",
       "      <td>93.788002</td>\n",
       "      <td>52.050999</td>\n",
       "      <td>Скорая помощь</td>\n",
       "      <td>202</td>\n",
       "    </tr>\n",
       "    <tr>\n",
       "      <th>...</th>\n",
       "      <td>...</td>\n",
       "      <td>...</td>\n",
       "      <td>...</td>\n",
       "      <td>...</td>\n",
       "      <td>...</td>\n",
       "      <td>...</td>\n",
       "    </tr>\n",
       "    <tr>\n",
       "      <th>74</th>\n",
       "      <td>39.743542</td>\n",
       "      <td>17072.0</td>\n",
       "      <td>25286.824219</td>\n",
       "      <td>0.001000</td>\n",
       "      <td>Благотворительность и краудфандинг</td>\n",
       "      <td>74</td>\n",
       "    </tr>\n",
       "    <tr>\n",
       "      <th>66</th>\n",
       "      <td>308.694061</td>\n",
       "      <td>10944.0</td>\n",
       "      <td>9001.336914</td>\n",
       "      <td>0.001000</td>\n",
       "      <td>Мужская одежда</td>\n",
       "      <td>66</td>\n",
       "    </tr>\n",
       "    <tr>\n",
       "      <th>53</th>\n",
       "      <td>143.307175</td>\n",
       "      <td>30098.0</td>\n",
       "      <td>35205.031250</td>\n",
       "      <td>0.001000</td>\n",
       "      <td>Оплата налогов</td>\n",
       "      <td>53</td>\n",
       "    </tr>\n",
       "    <tr>\n",
       "      <th>202</th>\n",
       "      <td>NaN</td>\n",
       "      <td>NaN</td>\n",
       "      <td>NaN</td>\n",
       "      <td>NaN</td>\n",
       "      <td>Снегоходы</td>\n",
       "      <td>194</td>\n",
       "    </tr>\n",
       "    <tr>\n",
       "      <th>203</th>\n",
       "      <td>NaN</td>\n",
       "      <td>NaN</td>\n",
       "      <td>NaN</td>\n",
       "      <td>NaN</td>\n",
       "      <td>Мануальные терапевты</td>\n",
       "      <td>201</td>\n",
       "    </tr>\n",
       "  </tbody>\n",
       "</table>\n",
       "<p>204 rows × 6 columns</p>\n",
       "</div>"
      ],
      "text/plain": [
       "           mean    count           max         min  \\\n",
       "188  167.153000      1.0    167.153000  167.153000   \n",
       "192  394.421753      4.0    800.364990  151.929993   \n",
       "199  126.484001      1.0    126.484001  126.484001   \n",
       "201   68.968002      1.0     68.968002   68.968002   \n",
       "200   72.919502      2.0     93.788002   52.050999   \n",
       "..          ...      ...           ...         ...   \n",
       "74    39.743542  17072.0  25286.824219    0.001000   \n",
       "66   308.694061  10944.0   9001.336914    0.001000   \n",
       "53   143.307175  30098.0  35205.031250    0.001000   \n",
       "202         NaN      NaN           NaN         NaN   \n",
       "203         NaN      NaN           NaN         NaN   \n",
       "\n",
       "                                        small_group  small_group_code  \n",
       "188                                       Остеопаты               188  \n",
       "192  Аренда оборудования для грузовиков и трейлеров               192  \n",
       "199                                        Телеграф               200  \n",
       "201                                 Бетонные работы               203  \n",
       "200                                   Скорая помощь               202  \n",
       "..                                              ...               ...  \n",
       "74               Благотворительность и краудфандинг                74  \n",
       "66                                   Мужская одежда                66  \n",
       "53                                   Оплата налогов                53  \n",
       "202                                       Снегоходы               194  \n",
       "203                            Мануальные терапевты               201  \n",
       "\n",
       "[204 rows x 6 columns]"
      ]
     },
     "execution_count": 17,
     "metadata": {},
     "output_type": "execute_result"
    }
   ],
   "source": [
    "tmp = tmp.sort_values('min', ascending=False)\n",
    "tmp"
   ]
  },
  {
   "cell_type": "markdown",
   "id": "twenty-astrology",
   "metadata": {},
   "source": [
    "**drop transactions from categories with low number of samples**"
   ]
  },
  {
   "cell_type": "markdown",
   "id": "fifteen-pressure",
   "metadata": {},
   "source": [
    "keep transactions from categories > 0.7 quantile"
   ]
  },
  {
   "cell_type": "code",
   "execution_count": 18,
   "id": "tropical-essence",
   "metadata": {
    "ExecuteTime": {
     "end_time": "2021-04-18T11:21:32.300771Z",
     "start_time": "2021-04-18T11:21:30.824835Z"
    }
   },
   "outputs": [],
   "source": [
    "df = df[df['small_group'].isin(set(tmp[tmp['count'] > 23829]['small_group_code']))]"
   ]
  },
  {
   "cell_type": "markdown",
   "id": "understood-cuisine",
   "metadata": {},
   "source": [
    "## Feature engineering"
   ]
  },
  {
   "cell_type": "code",
   "execution_count": 19,
   "id": "raised-anger",
   "metadata": {
    "ExecuteTime": {
     "end_time": "2021-04-18T11:21:32.473641Z",
     "start_time": "2021-04-18T11:21:32.303251Z"
    }
   },
   "outputs": [],
   "source": [
    "from sklearn.feature_extraction.text import CountVectorizer\n",
    "from sklearn.preprocessing import OneHotEncoder\n",
    "import gc"
   ]
  },
  {
   "cell_type": "markdown",
   "id": "foreign-albuquerque",
   "metadata": {},
   "source": [
    "**maybe not needed**"
   ]
  },
  {
   "cell_type": "code",
   "execution_count": 20,
   "id": "frozen-graphic",
   "metadata": {
    "ExecuteTime": {
     "end_time": "2021-04-18T11:21:32.482637Z",
     "start_time": "2021-04-18T11:21:32.475530Z"
    }
   },
   "outputs": [
    {
     "data": {
      "text/plain": [
       "OneHotEncoder(handle_unknown='ignore')"
      ]
     },
     "execution_count": 20,
     "metadata": {},
     "output_type": "execute_result"
    }
   ],
   "source": [
    "oh_enc = OneHotEncoder(handle_unknown='ignore')\n",
    "oh_enc.fit(tmp[tmp['count'] > 23829]['small_group_code'].to_numpy().reshape(-1, 1))"
   ]
  },
  {
   "cell_type": "code",
   "execution_count": 21,
   "id": "plain-denmark",
   "metadata": {
    "ExecuteTime": {
     "end_time": "2021-04-18T11:21:39.257581Z",
     "start_time": "2021-04-18T11:21:32.484805Z"
    }
   },
   "outputs": [],
   "source": [
    "oh_groups = oh_enc.transform(df['small_group'].to_numpy().reshape(-1, 1)).toarray()"
   ]
  },
  {
   "cell_type": "code",
   "execution_count": 22,
   "id": "wired-sister",
   "metadata": {
    "ExecuteTime": {
     "end_time": "2021-04-18T11:21:41.675913Z",
     "start_time": "2021-04-18T11:21:39.259726Z"
    }
   },
   "outputs": [],
   "source": [
    "oh_groups = oh_groups.astype(np.uint8)"
   ]
  },
  {
   "cell_type": "code",
   "execution_count": 23,
   "id": "weighted-ridge",
   "metadata": {
    "ExecuteTime": {
     "end_time": "2021-04-18T11:21:48.438018Z",
     "start_time": "2021-04-18T11:21:41.681922Z"
    }
   },
   "outputs": [],
   "source": [
    "cols = list(df.columns) + list(range(oh_groups.shape[1]))\n",
    "df = pd.DataFrame(np.column_stack([df, oh_groups]), columns=cols)"
   ]
  },
  {
   "cell_type": "code",
   "execution_count": 24,
   "id": "essential-guest",
   "metadata": {
    "ExecuteTime": {
     "end_time": "2021-04-18T11:21:48.649327Z",
     "start_time": "2021-04-18T11:21:48.440138Z"
    }
   },
   "outputs": [
    {
     "data": {
      "text/plain": [
       "90"
      ]
     },
     "execution_count": 24,
     "metadata": {},
     "output_type": "execute_result"
    }
   ],
   "source": [
    "del oh_groups\n",
    "gc.collect()"
   ]
  },
  {
   "cell_type": "code",
   "execution_count": 25,
   "id": "compatible-computer",
   "metadata": {
    "ExecuteTime": {
     "end_time": "2021-04-18T11:22:16.447143Z",
     "start_time": "2021-04-18T11:22:16.422553Z"
    }
   },
   "outputs": [
    {
     "data": {
      "text/html": [
       "<div>\n",
       "<style scoped>\n",
       "    .dataframe tbody tr th:only-of-type {\n",
       "        vertical-align: middle;\n",
       "    }\n",
       "\n",
       "    .dataframe tbody tr th {\n",
       "        vertical-align: top;\n",
       "    }\n",
       "\n",
       "    .dataframe thead th {\n",
       "        text-align: right;\n",
       "    }\n",
       "</style>\n",
       "<table border=\"1\" class=\"dataframe\">\n",
       "  <thead>\n",
       "    <tr style=\"text-align: right;\">\n",
       "      <th></th>\n",
       "      <th>client_id</th>\n",
       "      <th>trans_date</th>\n",
       "      <th>small_group</th>\n",
       "      <th>amount_rur</th>\n",
       "      <th>bins</th>\n",
       "      <th>weekday</th>\n",
       "      <th>0</th>\n",
       "      <th>1</th>\n",
       "      <th>2</th>\n",
       "      <th>3</th>\n",
       "      <th>...</th>\n",
       "      <th>51</th>\n",
       "      <th>52</th>\n",
       "      <th>53</th>\n",
       "      <th>54</th>\n",
       "      <th>55</th>\n",
       "      <th>56</th>\n",
       "      <th>57</th>\n",
       "      <th>58</th>\n",
       "      <th>59</th>\n",
       "      <th>60</th>\n",
       "    </tr>\n",
       "  </thead>\n",
       "  <tbody>\n",
       "    <tr>\n",
       "      <th>0</th>\n",
       "      <td>4.0</td>\n",
       "      <td>0.0</td>\n",
       "      <td>1.0</td>\n",
       "      <td>10.209000</td>\n",
       "      <td>1.0</td>\n",
       "      <td>0.0</td>\n",
       "      <td>0.0</td>\n",
       "      <td>1.0</td>\n",
       "      <td>0.0</td>\n",
       "      <td>0.0</td>\n",
       "      <td>...</td>\n",
       "      <td>0.0</td>\n",
       "      <td>0.0</td>\n",
       "      <td>0.0</td>\n",
       "      <td>0.0</td>\n",
       "      <td>0.0</td>\n",
       "      <td>0.0</td>\n",
       "      <td>0.0</td>\n",
       "      <td>0.0</td>\n",
       "      <td>0.0</td>\n",
       "      <td>0.0</td>\n",
       "    </tr>\n",
       "    <tr>\n",
       "      <th>1</th>\n",
       "      <td>4.0</td>\n",
       "      <td>2.0</td>\n",
       "      <td>3.0</td>\n",
       "      <td>27.705999</td>\n",
       "      <td>1.0</td>\n",
       "      <td>2.0</td>\n",
       "      <td>0.0</td>\n",
       "      <td>0.0</td>\n",
       "      <td>0.0</td>\n",
       "      <td>1.0</td>\n",
       "      <td>...</td>\n",
       "      <td>0.0</td>\n",
       "      <td>0.0</td>\n",
       "      <td>0.0</td>\n",
       "      <td>0.0</td>\n",
       "      <td>0.0</td>\n",
       "      <td>0.0</td>\n",
       "      <td>0.0</td>\n",
       "      <td>0.0</td>\n",
       "      <td>0.0</td>\n",
       "      <td>0.0</td>\n",
       "    </tr>\n",
       "    <tr>\n",
       "      <th>2</th>\n",
       "      <td>4.0</td>\n",
       "      <td>3.0</td>\n",
       "      <td>1.0</td>\n",
       "      <td>13.024000</td>\n",
       "      <td>1.0</td>\n",
       "      <td>3.0</td>\n",
       "      <td>0.0</td>\n",
       "      <td>1.0</td>\n",
       "      <td>0.0</td>\n",
       "      <td>0.0</td>\n",
       "      <td>...</td>\n",
       "      <td>0.0</td>\n",
       "      <td>0.0</td>\n",
       "      <td>0.0</td>\n",
       "      <td>0.0</td>\n",
       "      <td>0.0</td>\n",
       "      <td>0.0</td>\n",
       "      <td>0.0</td>\n",
       "      <td>0.0</td>\n",
       "      <td>0.0</td>\n",
       "      <td>0.0</td>\n",
       "    </tr>\n",
       "    <tr>\n",
       "      <th>3</th>\n",
       "      <td>4.0</td>\n",
       "      <td>4.0</td>\n",
       "      <td>1.0</td>\n",
       "      <td>17.632000</td>\n",
       "      <td>1.0</td>\n",
       "      <td>4.0</td>\n",
       "      <td>0.0</td>\n",
       "      <td>1.0</td>\n",
       "      <td>0.0</td>\n",
       "      <td>0.0</td>\n",
       "      <td>...</td>\n",
       "      <td>0.0</td>\n",
       "      <td>0.0</td>\n",
       "      <td>0.0</td>\n",
       "      <td>0.0</td>\n",
       "      <td>0.0</td>\n",
       "      <td>0.0</td>\n",
       "      <td>0.0</td>\n",
       "      <td>0.0</td>\n",
       "      <td>0.0</td>\n",
       "      <td>0.0</td>\n",
       "    </tr>\n",
       "    <tr>\n",
       "      <th>4</th>\n",
       "      <td>4.0</td>\n",
       "      <td>6.0</td>\n",
       "      <td>4.0</td>\n",
       "      <td>18.089001</td>\n",
       "      <td>1.0</td>\n",
       "      <td>6.0</td>\n",
       "      <td>0.0</td>\n",
       "      <td>0.0</td>\n",
       "      <td>0.0</td>\n",
       "      <td>0.0</td>\n",
       "      <td>...</td>\n",
       "      <td>0.0</td>\n",
       "      <td>0.0</td>\n",
       "      <td>0.0</td>\n",
       "      <td>0.0</td>\n",
       "      <td>0.0</td>\n",
       "      <td>0.0</td>\n",
       "      <td>0.0</td>\n",
       "      <td>0.0</td>\n",
       "      <td>0.0</td>\n",
       "      <td>0.0</td>\n",
       "    </tr>\n",
       "  </tbody>\n",
       "</table>\n",
       "<p>5 rows × 67 columns</p>\n",
       "</div>"
      ],
      "text/plain": [
       "   client_id  trans_date  small_group  amount_rur  bins  weekday    0    1  \\\n",
       "0        4.0         0.0          1.0   10.209000   1.0      0.0  0.0  1.0   \n",
       "1        4.0         2.0          3.0   27.705999   1.0      2.0  0.0  0.0   \n",
       "2        4.0         3.0          1.0   13.024000   1.0      3.0  0.0  1.0   \n",
       "3        4.0         4.0          1.0   17.632000   1.0      4.0  0.0  1.0   \n",
       "4        4.0         6.0          4.0   18.089001   1.0      6.0  0.0  0.0   \n",
       "\n",
       "     2    3  ...   51   52   53   54   55   56   57   58   59   60  \n",
       "0  0.0  0.0  ...  0.0  0.0  0.0  0.0  0.0  0.0  0.0  0.0  0.0  0.0  \n",
       "1  0.0  1.0  ...  0.0  0.0  0.0  0.0  0.0  0.0  0.0  0.0  0.0  0.0  \n",
       "2  0.0  0.0  ...  0.0  0.0  0.0  0.0  0.0  0.0  0.0  0.0  0.0  0.0  \n",
       "3  0.0  0.0  ...  0.0  0.0  0.0  0.0  0.0  0.0  0.0  0.0  0.0  0.0  \n",
       "4  0.0  0.0  ...  0.0  0.0  0.0  0.0  0.0  0.0  0.0  0.0  0.0  0.0  \n",
       "\n",
       "[5 rows x 67 columns]"
      ]
     },
     "execution_count": 25,
     "metadata": {},
     "output_type": "execute_result"
    }
   ],
   "source": [
    "df.head()"
   ]
  },
  {
   "cell_type": "code",
   "execution_count": 26,
   "id": "varying-contemporary",
   "metadata": {
    "ExecuteTime": {
     "end_time": "2021-04-18T11:24:54.424606Z",
     "start_time": "2021-04-18T11:24:54.421899Z"
    }
   },
   "outputs": [],
   "source": [
    "group_codes = list(range(61))"
   ]
  },
  {
   "cell_type": "code",
   "execution_count": 56,
   "id": "innovative-sigma",
   "metadata": {
    "ExecuteTime": {
     "end_time": "2021-04-18T11:40:47.496968Z",
     "start_time": "2021-04-18T11:40:35.758824Z"
    },
    "scrolled": false
   },
   "outputs": [],
   "source": [
    "client_df = df.groupby('client_id')[group_codes].sum()"
   ]
  },
  {
   "cell_type": "code",
   "execution_count": 57,
   "id": "suspended-football",
   "metadata": {
    "ExecuteTime": {
     "end_time": "2021-04-18T11:40:47.502491Z",
     "start_time": "2021-04-18T11:40:47.499494Z"
    }
   },
   "outputs": [],
   "source": [
    "client_df.columns = [f'group_cnt_{i}' for i in group_codes]"
   ]
  },
  {
   "cell_type": "markdown",
   "id": "floating-individual",
   "metadata": {},
   "source": [
    "https://stackoverflow.com/questions/14507794/pandas-how-to-flatten-a-hierarchical-index-in-columns"
   ]
  },
  {
   "cell_type": "code",
   "execution_count": 58,
   "id": "legislative-poultry",
   "metadata": {
    "ExecuteTime": {
     "end_time": "2021-04-18T11:41:01.558360Z",
     "start_time": "2021-04-18T11:40:47.506169Z"
    }
   },
   "outputs": [],
   "source": [
    "tmp = df.groupby(['client_id', 'weekday'])[group_codes].sum().reset_index()"
   ]
  },
  {
   "cell_type": "code",
   "execution_count": 59,
   "id": "intellectual-metadata",
   "metadata": {
    "ExecuteTime": {
     "end_time": "2021-04-18T11:41:01.806623Z",
     "start_time": "2021-04-18T11:41:01.561295Z"
    }
   },
   "outputs": [],
   "source": [
    "tmp = tmp.pivot(index='client_id', columns='weekday', values=group_codes)"
   ]
  },
  {
   "cell_type": "code",
   "execution_count": 62,
   "id": "reliable-specification",
   "metadata": {
    "ExecuteTime": {
     "end_time": "2021-04-18T11:41:52.936883Z",
     "start_time": "2021-04-18T11:41:52.933426Z"
    }
   },
   "outputs": [],
   "source": [
    "tmp.columns = [f'group_cnt_{c1}_weekday_{c2:.0f}' for c1, c2 in tmp.columns.values]"
   ]
  },
  {
   "cell_type": "code",
   "execution_count": 66,
   "id": "parental-thumbnail",
   "metadata": {
    "ExecuteTime": {
     "end_time": "2021-04-18T11:44:16.281509Z",
     "start_time": "2021-04-18T11:44:16.172301Z"
    }
   },
   "outputs": [],
   "source": [
    "client_df = client_df.join(tmp)"
   ]
  },
  {
   "cell_type": "code",
   "execution_count": 76,
   "id": "operational-salmon",
   "metadata": {
    "ExecuteTime": {
     "end_time": "2021-04-18T11:49:45.650019Z",
     "start_time": "2021-04-18T11:49:41.209934Z"
    }
   },
   "outputs": [],
   "source": [
    "tmp = df.groupby(['client_id', 'small_group'])[['amount_rur']].mean().reset_index()\n",
    "tmp = tmp.pivot(index='client_id', columns='small_group', values='amount_rur')\n",
    "tmp = tmp.fillna(0)"
   ]
  },
  {
   "cell_type": "code",
   "execution_count": 77,
   "id": "inclusive-conspiracy",
   "metadata": {
    "ExecuteTime": {
     "end_time": "2021-04-18T11:49:45.656262Z",
     "start_time": "2021-04-18T11:49:45.652206Z"
    }
   },
   "outputs": [],
   "source": [
    "tmp.columns = [f'group_mean_{i}' for i in range(61)]"
   ]
  },
  {
   "cell_type": "code",
   "execution_count": 78,
   "id": "protecting-medicare",
   "metadata": {
    "ExecuteTime": {
     "end_time": "2021-04-18T11:49:52.468853Z",
     "start_time": "2021-04-18T11:49:52.414685Z"
    }
   },
   "outputs": [],
   "source": [
    "client_df = client_df.join(tmp)"
   ]
  },
  {
   "cell_type": "code",
   "execution_count": 94,
   "id": "recognized-roberts",
   "metadata": {
    "ExecuteTime": {
     "end_time": "2021-04-18T11:57:45.484363Z",
     "start_time": "2021-04-18T11:57:45.443330Z"
    }
   },
   "outputs": [],
   "source": [
    "client_df = client_df.join(y.set_index('client_id'))"
   ]
  },
  {
   "cell_type": "code",
   "execution_count": null,
   "id": "frozen-pierre",
   "metadata": {},
   "outputs": [],
   "source": []
  },
  {
   "cell_type": "code",
   "execution_count": null,
   "id": "religious-extraction",
   "metadata": {},
   "outputs": [],
   "source": []
  },
  {
   "cell_type": "markdown",
   "id": "innocent-bunny",
   "metadata": {},
   "source": [
    "## Catboost"
   ]
  },
  {
   "cell_type": "code",
   "execution_count": 111,
   "id": "rough-alfred",
   "metadata": {
    "ExecuteTime": {
     "end_time": "2021-04-18T12:07:58.539347Z",
     "start_time": "2021-04-18T12:07:58.536314Z"
    }
   },
   "outputs": [],
   "source": [
    "from catboost import CatBoostRegressor, CatBoostClassifier, Pool, cv\n",
    "from sklearn.model_selection import train_test_split\n",
    "from sklearn.metrics import roc_auc_score\n",
    "from sklearn.linear_model import LogisticRegression\n",
    "from sklearn import metrics"
   ]
  },
  {
   "cell_type": "code",
   "execution_count": 95,
   "id": "weird-feedback",
   "metadata": {
    "ExecuteTime": {
     "end_time": "2021-04-18T12:00:32.289324Z",
     "start_time": "2021-04-18T12:00:32.260937Z"
    }
   },
   "outputs": [],
   "source": [
    "X = client_df.drop('bins', axis=1)\n",
    "y = client_df['bins']"
   ]
  },
  {
   "cell_type": "code",
   "execution_count": 99,
   "id": "chinese-arcade",
   "metadata": {
    "ExecuteTime": {
     "end_time": "2021-04-18T12:01:07.280874Z",
     "start_time": "2021-04-18T12:01:07.225951Z"
    }
   },
   "outputs": [],
   "source": [
    "X_train, X_valid, y_train, y_valid = train_test_split(\n",
    "    X, y, test_size=0.3, shuffle=False)"
   ]
  },
  {
   "cell_type": "code",
   "execution_count": 104,
   "id": "specific-harmony",
   "metadata": {
    "ExecuteTime": {
     "end_time": "2021-04-18T12:05:59.447107Z",
     "start_time": "2021-04-18T12:04:45.658397Z"
    }
   },
   "outputs": [
    {
     "name": "stderr",
     "output_type": "stream",
     "text": [
      "/Users/th/Documents/hse_embeddings/env/lib/python3.8/site-packages/sklearn/svm/_base.py:985: ConvergenceWarning: Liblinear failed to converge, increase the number of iterations.\n",
      "  warnings.warn(\"Liblinear failed to converge, increase \"\n"
     ]
    }
   ],
   "source": [
    "logit = LogisticRegression(multi_class='ovr', random_state=228, solver='liblinear')\n",
    "logit.fit(X_train, y_train)"
   ]
  },
  {
   "cell_type": "code",
   "execution_count": 117,
   "id": "functioning-enforcement",
   "metadata": {
    "ExecuteTime": {
     "end_time": "2021-04-18T12:09:47.184274Z",
     "start_time": "2021-04-18T12:09:47.092817Z"
    }
   },
   "outputs": [],
   "source": [
    "logit_train_pred = logit.predict_proba(X_train)\n",
    "logit_valid_pred = logit.predict_proba(X_valid)\n",
    "\n",
    "logit_train_pred = logit.predict(X_train)\n",
    "logit_valid_pred = logit.predict(X_valid)"
   ]
  },
  {
   "cell_type": "code",
   "execution_count": 119,
   "id": "editorial-updating",
   "metadata": {
    "ExecuteTime": {
     "end_time": "2021-04-18T12:09:50.314351Z",
     "start_time": "2021-04-18T12:09:50.310724Z"
    }
   },
   "outputs": [
    {
     "data": {
      "text/plain": [
       "3"
      ]
     },
     "execution_count": 119,
     "metadata": {},
     "output_type": "execute_result"
    }
   ],
   "source": [
    "logit_valid_pred.max()"
   ]
  },
  {
   "cell_type": "code",
   "execution_count": 122,
   "id": "prompt-concentrate",
   "metadata": {
    "ExecuteTime": {
     "end_time": "2021-04-18T12:10:52.111813Z",
     "start_time": "2021-04-18T12:10:52.075178Z"
    },
    "scrolled": false
   },
   "outputs": [
    {
     "name": "stdout",
     "output_type": "stream",
     "text": [
      "              precision    recall  f1-score   support\n",
      "\n",
      "           0       0.49      0.37      0.42      2255\n",
      "           1       0.60      0.73      0.66      2229\n",
      "           2       0.66      0.79      0.72      2293\n",
      "           3       0.48      0.39      0.43      2223\n",
      "\n",
      "    accuracy                           0.57      9000\n",
      "   macro avg       0.56      0.57      0.56      9000\n",
      "weighted avg       0.56      0.57      0.56      9000\n",
      "\n"
     ]
    }
   ],
   "source": [
    "print(metrics.classification_report(y_valid, logit.predict(X_valid)))"
   ]
  },
  {
   "cell_type": "code",
   "execution_count": null,
   "id": "authentic-crack",
   "metadata": {},
   "outputs": [],
   "source": [
    "fig, ax = plt.subplots(figsize=(10, 6))\n",
    "\n",
    "metrics.plot_confusion_matrix(\n",
    "    logit, X_valid, y_valid,\n",
    "    display_labels=df.bins, ax = ax)"
   ]
  },
  {
   "cell_type": "code",
   "execution_count": null,
   "id": "otherwise-continuity",
   "metadata": {},
   "outputs": [],
   "source": []
  },
  {
   "cell_type": "code",
   "execution_count": null,
   "id": "particular-forth",
   "metadata": {},
   "outputs": [],
   "source": []
  },
  {
   "cell_type": "code",
   "execution_count": null,
   "id": "looking-violin",
   "metadata": {},
   "outputs": [],
   "source": []
  },
  {
   "cell_type": "code",
   "execution_count": null,
   "id": "german-bible",
   "metadata": {},
   "outputs": [],
   "source": []
  },
  {
   "cell_type": "code",
   "execution_count": null,
   "id": "directed-transparency",
   "metadata": {},
   "outputs": [],
   "source": []
  },
  {
   "cell_type": "markdown",
   "id": "automated-gallery",
   "metadata": {},
   "source": [
    "to try\n",
    "\n",
    "count num transactions in each category (count vectorizer)\n",
    "\n",
    "count avg by customer in each category\n",
    "\n",
    "max in each category\n",
    "\n",
    "min in each category\n",
    "\n",
    "averages by weekday"
   ]
  },
  {
   "cell_type": "code",
   "execution_count": null,
   "id": "searching-division",
   "metadata": {},
   "outputs": [],
   "source": []
  }
 ],
 "metadata": {
  "kernelspec": {
   "display_name": "Python 3",
   "language": "python",
   "name": "python3"
  },
  "language_info": {
   "codemirror_mode": {
    "name": "ipython",
    "version": 3
   },
   "file_extension": ".py",
   "mimetype": "text/x-python",
   "name": "python",
   "nbconvert_exporter": "python",
   "pygments_lexer": "ipython3",
   "version": "3.8.6"
  },
  "toc": {
   "base_numbering": 1,
   "nav_menu": {},
   "number_sections": true,
   "sideBar": true,
   "skip_h1_title": true,
   "title_cell": "Table of Contents",
   "title_sidebar": "Contents",
   "toc_cell": true,
   "toc_position": {},
   "toc_section_display": true,
   "toc_window_display": true
  }
 },
 "nbformat": 4,
 "nbformat_minor": 5
}
