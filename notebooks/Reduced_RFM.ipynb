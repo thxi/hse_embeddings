{
 "cells": [
  {
   "cell_type": "markdown",
   "id": "conceptual-explosion",
   "metadata": {
    "toc": true
   },
   "source": [
    "<h1>Table of Contents<span class=\"tocSkip\"></span></h1>\n",
    "<div class=\"toc\"><ul class=\"toc-item\"><li><span><a href=\"#Data\" data-toc-modified-id=\"Data-1\"><span class=\"toc-item-num\">1&nbsp;&nbsp;</span>Data</a></span></li><li><span><a href=\"#Reduced-RFM\" data-toc-modified-id=\"Reduced-RFM-2\"><span class=\"toc-item-num\">2&nbsp;&nbsp;</span>Reduced RFM</a></span></li><li><span><a href=\"#EDA\" data-toc-modified-id=\"EDA-3\"><span class=\"toc-item-num\">3&nbsp;&nbsp;</span>EDA</a></span><ul class=\"toc-item\"><li><span><a href=\"#Outliers\" data-toc-modified-id=\"Outliers-3.1\"><span class=\"toc-item-num\">3.1&nbsp;&nbsp;</span>Outliers</a></span></li><li><span><a href=\"#Groups\" data-toc-modified-id=\"Groups-3.2\"><span class=\"toc-item-num\">3.2&nbsp;&nbsp;</span>Groups</a></span></li><li><span><a href=\"#FM\" data-toc-modified-id=\"FM-3.3\"><span class=\"toc-item-num\">3.3&nbsp;&nbsp;</span>FM</a></span></li></ul></li></ul></div>"
   ]
  },
  {
   "cell_type": "code",
   "execution_count": 1,
   "id": "material-isaac",
   "metadata": {
    "ExecuteTime": {
     "end_time": "2021-04-26T13:09:22.574005Z",
     "start_time": "2021-04-26T13:09:21.432581Z"
    },
    "executionInfo": {
     "elapsed": 11998,
     "status": "ok",
     "timestamp": 1610889833656,
     "user": {
      "displayName": "Ilya",
      "photoUrl": "https://lh3.googleusercontent.com/a-/AOh14GgqMMWh-yu_Neff4SfMdF5-F8RTIn4IimUv7_Wu=s64",
      "userId": "18401577808228678959"
     },
     "user_tz": -180
    },
    "id": "thKgYQF3URYw"
   },
   "outputs": [],
   "source": [
    "import pandas as pd\n",
    "import numpy as np\n",
    "import matplotlib.pyplot as plt\n",
    "import seaborn as sns\n",
    "\n",
    "sns.set()\n",
    "\n",
    "sns.set_style(\"whitegrid\", {'axes.grid' : False})\n",
    "\n",
    "# from tqdm.notebook import tqdm\n",
    "from tqdm.auto import tqdm"
   ]
  },
  {
   "cell_type": "markdown",
   "id": "enabling-builder",
   "metadata": {
    "id": "-_RBRZ19P7qm"
   },
   "source": [
    "## Data"
   ]
  },
  {
   "cell_type": "code",
   "execution_count": 2,
   "id": "latin-colorado",
   "metadata": {
    "ExecuteTime": {
     "end_time": "2021-04-26T13:09:29.094187Z",
     "start_time": "2021-04-26T13:09:23.410854Z"
    }
   },
   "outputs": [],
   "source": [
    "df = pd.read_csv('../data/transactions_train.csv')"
   ]
  },
  {
   "cell_type": "code",
   "execution_count": 3,
   "id": "bearing-thirty",
   "metadata": {
    "ExecuteTime": {
     "end_time": "2021-04-26T13:09:35.569095Z",
     "start_time": "2021-04-26T13:09:29.096072Z"
    }
   },
   "outputs": [],
   "source": [
    "df = df.sort_values(['client_id', 'trans_date'])"
   ]
  },
  {
   "cell_type": "code",
   "execution_count": 4,
   "id": "insured-monitor",
   "metadata": {
    "ExecuteTime": {
     "end_time": "2021-04-26T13:09:35.585358Z",
     "start_time": "2021-04-26T13:09:35.571875Z"
    }
   },
   "outputs": [],
   "source": [
    "bins = pd.read_csv('../data/train_target.csv')"
   ]
  },
  {
   "cell_type": "code",
   "execution_count": 5,
   "id": "confirmed-mention",
   "metadata": {
    "ExecuteTime": {
     "end_time": "2021-04-26T13:09:37.417565Z",
     "start_time": "2021-04-26T13:09:35.587643Z"
    }
   },
   "outputs": [],
   "source": [
    "df = pd.merge(df, bins, on='client_id')"
   ]
  },
  {
   "cell_type": "code",
   "execution_count": 6,
   "id": "silent-restaurant",
   "metadata": {
    "ExecuteTime": {
     "end_time": "2021-04-26T13:09:39.817865Z",
     "start_time": "2021-04-26T13:09:37.419283Z"
    }
   },
   "outputs": [
    {
     "name": "stdout",
     "output_type": "stream",
     "text": [
      "before downsampling:\n",
      " client_id        int64\n",
      "trans_date       int64\n",
      "small_group      int64\n",
      "amount_rur     float64\n",
      "bins             int64\n",
      "dtype: object\n",
      "after downsampling:\n",
      " client_id       uint16\n",
      "trans_date      uint16\n",
      "small_group      int16\n",
      "amount_rur     float32\n",
      "bins             int64\n",
      "dtype: object\n"
     ]
    }
   ],
   "source": [
    "print('before downsampling:\\n', df.dtypes)\n",
    "df['client_id'] = pd.to_numeric(df['client_id'], downcast='unsigned')\n",
    "df['trans_date'] = pd.to_numeric(df['trans_date'], downcast='unsigned')\n",
    "df['small_group'] = pd.to_numeric(df['small_group'], downcast='signed')\n",
    "df['amount_rur'] = pd.to_numeric(df['amount_rur'], downcast='float')\n",
    "\n",
    "print('after downsampling:\\n',df.dtypes)"
   ]
  },
  {
   "cell_type": "code",
   "execution_count": 151,
   "id": "complete-distributor",
   "metadata": {
    "ExecuteTime": {
     "end_time": "2021-04-26T13:49:56.070403Z",
     "start_time": "2021-04-26T13:49:56.065519Z"
    }
   },
   "outputs": [],
   "source": [
    "groups = pd.read_csv('../data/small_group_description.csv')"
   ]
  },
  {
   "cell_type": "code",
   "execution_count": 153,
   "id": "animal-candidate",
   "metadata": {
    "ExecuteTime": {
     "end_time": "2021-04-26T13:50:28.871496Z",
     "start_time": "2021-04-26T13:50:28.848948Z"
    }
   },
   "outputs": [],
   "source": [
    "code2group = {}\n",
    "for _, r in groups.iterrows():\n",
    "    code2group[r['small_group_code']] = r['small_group']"
   ]
  },
  {
   "cell_type": "code",
   "execution_count": 8,
   "id": "increasing-rescue",
   "metadata": {
    "ExecuteTime": {
     "end_time": "2021-04-26T13:09:39.924366Z",
     "start_time": "2021-04-26T13:09:39.825883Z"
    }
   },
   "outputs": [],
   "source": [
    "df['weekday'] = df['trans_date'] % 7"
   ]
  },
  {
   "cell_type": "markdown",
   "id": "further-period",
   "metadata": {},
   "source": [
    "## Reduced RFM"
   ]
  },
  {
   "cell_type": "markdown",
   "id": "employed-sharing",
   "metadata": {},
   "source": [
    "https://www.mdpi.com/1911-8074/14/2/50"
   ]
  },
  {
   "cell_type": "markdown",
   "id": "hearing-respondent",
   "metadata": {},
   "source": [
    "recency (**maybe**) - maybe not\n",
    "\n",
    "frequency - avg number of days between transactions, % of transactions in group, **maybe** number of transactions weekday\n",
    "\n",
    "monetary - avg amount min max in group, avg amount"
   ]
  },
  {
   "cell_type": "markdown",
   "id": "renewable-polymer",
   "metadata": {},
   "source": [
    "frequency"
   ]
  },
  {
   "cell_type": "code",
   "execution_count": 78,
   "id": "broke-router",
   "metadata": {
    "ExecuteTime": {
     "end_time": "2021-04-26T13:23:40.390489Z",
     "start_time": "2021-04-26T13:23:40.192754Z"
    }
   },
   "outputs": [],
   "source": [
    "df['trans_date_diff'] = df['trans_date'].shift(-1) - df['trans_date']"
   ]
  },
  {
   "cell_type": "code",
   "execution_count": 79,
   "id": "literary-motion",
   "metadata": {
    "ExecuteTime": {
     "end_time": "2021-04-26T13:23:41.351583Z",
     "start_time": "2021-04-26T13:23:40.396167Z"
    }
   },
   "outputs": [],
   "source": [
    "df[df['trans_date_diff'] < 0] = np.nan"
   ]
  },
  {
   "cell_type": "code",
   "execution_count": 80,
   "id": "controlling-fellowship",
   "metadata": {
    "ExecuteTime": {
     "end_time": "2021-04-26T13:23:41.845198Z",
     "start_time": "2021-04-26T13:23:41.354403Z"
    }
   },
   "outputs": [],
   "source": [
    "tmp = df.groupby(['client_id'])['trans_date_diff'].agg(['mean'])"
   ]
  },
  {
   "cell_type": "code",
   "execution_count": 81,
   "id": "electronic-bacon",
   "metadata": {
    "ExecuteTime": {
     "end_time": "2021-04-26T13:23:41.849717Z",
     "start_time": "2021-04-26T13:23:41.847555Z"
    }
   },
   "outputs": [],
   "source": [
    "tmp.columns = ['mean_days']"
   ]
  },
  {
   "cell_type": "code",
   "execution_count": 82,
   "id": "communist-monaco",
   "metadata": {
    "ExecuteTime": {
     "end_time": "2021-04-26T13:23:41.854422Z",
     "start_time": "2021-04-26T13:23:41.852037Z"
    }
   },
   "outputs": [],
   "source": [
    "client_df = tmp.copy()"
   ]
  },
  {
   "cell_type": "code",
   "execution_count": 83,
   "id": "international-locking",
   "metadata": {
    "ExecuteTime": {
     "end_time": "2021-04-26T13:23:43.831491Z",
     "start_time": "2021-04-26T13:23:41.856049Z"
    }
   },
   "outputs": [],
   "source": [
    "tmp = df.groupby(['client_id', 'small_group'])['amount_rur'].count().reset_index()\n",
    "tmp = tmp.pivot(index='client_id', columns='small_group', values='amount_rur')\n",
    "tmp = tmp.fillna(0)"
   ]
  },
  {
   "cell_type": "code",
   "execution_count": 84,
   "id": "promising-sharp",
   "metadata": {
    "ExecuteTime": {
     "end_time": "2021-04-26T13:23:44.504143Z",
     "start_time": "2021-04-26T13:23:43.833200Z"
    }
   },
   "outputs": [],
   "source": [
    "tmp = tmp.div(tmp.apply(sum, axis=1), axis='index')"
   ]
  },
  {
   "cell_type": "code",
   "execution_count": 85,
   "id": "owned-teach",
   "metadata": {
    "ExecuteTime": {
     "end_time": "2021-04-26T13:23:44.508281Z",
     "start_time": "2021-04-26T13:23:44.505535Z"
    }
   },
   "outputs": [],
   "source": [
    "tmp.columns = [f'group{int(c)}_cnt' for c in tmp.columns]"
   ]
  },
  {
   "cell_type": "code",
   "execution_count": 86,
   "id": "considered-combining",
   "metadata": {
    "ExecuteTime": {
     "end_time": "2021-04-26T13:23:44.525820Z",
     "start_time": "2021-04-26T13:23:44.511559Z"
    }
   },
   "outputs": [],
   "source": [
    "client_df = client_df.join(tmp)"
   ]
  },
  {
   "cell_type": "markdown",
   "id": "graphic-violence",
   "metadata": {},
   "source": [
    "monetary"
   ]
  },
  {
   "cell_type": "code",
   "execution_count": 87,
   "id": "coordinate-plaintiff",
   "metadata": {
    "ExecuteTime": {
     "end_time": "2021-04-26T13:23:46.963267Z",
     "start_time": "2021-04-26T13:23:44.528017Z"
    }
   },
   "outputs": [],
   "source": [
    "tmp = df.groupby(['client_id', 'small_group'])['amount_rur'].agg(['mean', 'max', 'min']).reset_index()\n",
    "tmp = tmp.pivot(index='client_id', columns='small_group', values=['mean', 'max', 'min'])\n",
    "#tmp = tmp.fillna(0)"
   ]
  },
  {
   "cell_type": "code",
   "execution_count": 88,
   "id": "mature-settle",
   "metadata": {
    "ExecuteTime": {
     "end_time": "2021-04-26T13:23:47.036553Z",
     "start_time": "2021-04-26T13:23:46.964726Z"
    }
   },
   "outputs": [],
   "source": [
    "tmp.columns = [f'group{int(c2)}_{c1}' for c1, c2 in tmp.columns]"
   ]
  },
  {
   "cell_type": "code",
   "execution_count": 89,
   "id": "ready-aquatic",
   "metadata": {
    "ExecuteTime": {
     "end_time": "2021-04-26T13:23:47.145032Z",
     "start_time": "2021-04-26T13:23:47.039103Z"
    }
   },
   "outputs": [],
   "source": [
    "client_df = client_df.join(tmp)"
   ]
  },
  {
   "cell_type": "code",
   "execution_count": 90,
   "id": "engaged-mambo",
   "metadata": {
    "ExecuteTime": {
     "end_time": "2021-04-26T13:23:47.713394Z",
     "start_time": "2021-04-26T13:23:47.146923Z"
    }
   },
   "outputs": [],
   "source": [
    "tmp = df.groupby(['client_id'])['amount_rur'].mean()\n",
    "#tmp = tmp.pivot(index='client_id', columns='small_group', values=['mean', 'max', 'min'])\n",
    "#tmp = tmp.fillna(0)"
   ]
  },
  {
   "cell_type": "code",
   "execution_count": 91,
   "id": "loving-estimate",
   "metadata": {
    "ExecuteTime": {
     "end_time": "2021-04-26T13:23:47.717880Z",
     "start_time": "2021-04-26T13:23:47.715234Z"
    }
   },
   "outputs": [],
   "source": [
    "tmp.columns = 'amount_rur_mean'"
   ]
  },
  {
   "cell_type": "code",
   "execution_count": 92,
   "id": "million-recorder",
   "metadata": {
    "ExecuteTime": {
     "end_time": "2021-04-26T13:23:47.752615Z",
     "start_time": "2021-04-26T13:23:47.719273Z"
    }
   },
   "outputs": [],
   "source": [
    "client_df = client_df.join(tmp)"
   ]
  },
  {
   "cell_type": "code",
   "execution_count": 93,
   "id": "outstanding-photography",
   "metadata": {
    "ExecuteTime": {
     "end_time": "2021-04-26T13:23:48.005329Z",
     "start_time": "2021-04-26T13:23:47.754888Z"
    }
   },
   "outputs": [],
   "source": [
    "client_df = client_df.fillna(0)"
   ]
  },
  {
   "cell_type": "markdown",
   "id": "traditional-former",
   "metadata": {},
   "source": [
    "target"
   ]
  },
  {
   "cell_type": "code",
   "execution_count": 94,
   "id": "destroyed-meditation",
   "metadata": {
    "ExecuteTime": {
     "end_time": "2021-04-26T13:23:48.054489Z",
     "start_time": "2021-04-26T13:23:48.007465Z"
    }
   },
   "outputs": [],
   "source": [
    "client_df = client_df.join(bins.set_index('client_id'))"
   ]
  },
  {
   "cell_type": "code",
   "execution_count": 95,
   "id": "naval-complaint",
   "metadata": {
    "ExecuteTime": {
     "end_time": "2021-04-26T13:23:48.102023Z",
     "start_time": "2021-04-26T13:23:48.056607Z"
    }
   },
   "outputs": [
    {
     "data": {
      "text/html": [
       "<div>\n",
       "<style scoped>\n",
       "    .dataframe tbody tr th:only-of-type {\n",
       "        vertical-align: middle;\n",
       "    }\n",
       "\n",
       "    .dataframe tbody tr th {\n",
       "        vertical-align: top;\n",
       "    }\n",
       "\n",
       "    .dataframe thead th {\n",
       "        text-align: right;\n",
       "    }\n",
       "</style>\n",
       "<table border=\"1\" class=\"dataframe\">\n",
       "  <thead>\n",
       "    <tr style=\"text-align: right;\">\n",
       "      <th></th>\n",
       "      <th>mean_days</th>\n",
       "      <th>group0_cnt</th>\n",
       "      <th>group1_cnt</th>\n",
       "      <th>group2_cnt</th>\n",
       "      <th>group3_cnt</th>\n",
       "      <th>group4_cnt</th>\n",
       "      <th>group5_cnt</th>\n",
       "      <th>group6_cnt</th>\n",
       "      <th>group7_cnt</th>\n",
       "      <th>group8_cnt</th>\n",
       "      <th>...</th>\n",
       "      <th>group195_min</th>\n",
       "      <th>group196_min</th>\n",
       "      <th>group197_min</th>\n",
       "      <th>group198_min</th>\n",
       "      <th>group199_min</th>\n",
       "      <th>group200_min</th>\n",
       "      <th>group202_min</th>\n",
       "      <th>group203_min</th>\n",
       "      <th>amount_rur</th>\n",
       "      <th>bins</th>\n",
       "    </tr>\n",
       "    <tr>\n",
       "      <th>client_id</th>\n",
       "      <th></th>\n",
       "      <th></th>\n",
       "      <th></th>\n",
       "      <th></th>\n",
       "      <th></th>\n",
       "      <th></th>\n",
       "      <th></th>\n",
       "      <th></th>\n",
       "      <th></th>\n",
       "      <th></th>\n",
       "      <th></th>\n",
       "      <th></th>\n",
       "      <th></th>\n",
       "      <th></th>\n",
       "      <th></th>\n",
       "      <th></th>\n",
       "      <th></th>\n",
       "      <th></th>\n",
       "      <th></th>\n",
       "      <th></th>\n",
       "      <th></th>\n",
       "    </tr>\n",
       "  </thead>\n",
       "  <tbody>\n",
       "    <tr>\n",
       "      <th>4.0</th>\n",
       "      <td>1.013928</td>\n",
       "      <td>0.000000</td>\n",
       "      <td>0.621697</td>\n",
       "      <td>0.001391</td>\n",
       "      <td>0.061196</td>\n",
       "      <td>0.129346</td>\n",
       "      <td>0.000000</td>\n",
       "      <td>0.0</td>\n",
       "      <td>0.000000</td>\n",
       "      <td>0.001391</td>\n",
       "      <td>...</td>\n",
       "      <td>0.0</td>\n",
       "      <td>0.0</td>\n",
       "      <td>0.0</td>\n",
       "      <td>0.0</td>\n",
       "      <td>0.0</td>\n",
       "      <td>0.0</td>\n",
       "      <td>0.0</td>\n",
       "      <td>0.0</td>\n",
       "      <td>39.486332</td>\n",
       "      <td>1</td>\n",
       "    </tr>\n",
       "    <tr>\n",
       "      <th>6.0</th>\n",
       "      <td>0.998626</td>\n",
       "      <td>0.002743</td>\n",
       "      <td>0.543210</td>\n",
       "      <td>0.000000</td>\n",
       "      <td>0.235940</td>\n",
       "      <td>0.013717</td>\n",
       "      <td>0.000000</td>\n",
       "      <td>0.0</td>\n",
       "      <td>0.000000</td>\n",
       "      <td>0.000000</td>\n",
       "      <td>...</td>\n",
       "      <td>0.0</td>\n",
       "      <td>0.0</td>\n",
       "      <td>0.0</td>\n",
       "      <td>0.0</td>\n",
       "      <td>0.0</td>\n",
       "      <td>0.0</td>\n",
       "      <td>0.0</td>\n",
       "      <td>0.0</td>\n",
       "      <td>21.559368</td>\n",
       "      <td>1</td>\n",
       "    </tr>\n",
       "    <tr>\n",
       "      <th>7.0</th>\n",
       "      <td>0.940337</td>\n",
       "      <td>0.002591</td>\n",
       "      <td>0.102332</td>\n",
       "      <td>0.006477</td>\n",
       "      <td>0.034974</td>\n",
       "      <td>0.024611</td>\n",
       "      <td>0.001295</td>\n",
       "      <td>0.0</td>\n",
       "      <td>0.002591</td>\n",
       "      <td>0.001295</td>\n",
       "      <td>...</td>\n",
       "      <td>0.0</td>\n",
       "      <td>0.0</td>\n",
       "      <td>0.0</td>\n",
       "      <td>0.0</td>\n",
       "      <td>0.0</td>\n",
       "      <td>0.0</td>\n",
       "      <td>0.0</td>\n",
       "      <td>0.0</td>\n",
       "      <td>69.435265</td>\n",
       "      <td>0</td>\n",
       "    </tr>\n",
       "    <tr>\n",
       "      <th>10.0</th>\n",
       "      <td>1.029830</td>\n",
       "      <td>0.017021</td>\n",
       "      <td>0.436879</td>\n",
       "      <td>0.001418</td>\n",
       "      <td>0.100709</td>\n",
       "      <td>0.092199</td>\n",
       "      <td>0.000000</td>\n",
       "      <td>0.0</td>\n",
       "      <td>0.000000</td>\n",
       "      <td>0.004255</td>\n",
       "      <td>...</td>\n",
       "      <td>0.0</td>\n",
       "      <td>0.0</td>\n",
       "      <td>0.0</td>\n",
       "      <td>0.0</td>\n",
       "      <td>0.0</td>\n",
       "      <td>0.0</td>\n",
       "      <td>0.0</td>\n",
       "      <td>0.0</td>\n",
       "      <td>48.383686</td>\n",
       "      <td>3</td>\n",
       "    </tr>\n",
       "    <tr>\n",
       "      <th>11.0</th>\n",
       "      <td>0.898765</td>\n",
       "      <td>0.002466</td>\n",
       "      <td>0.520345</td>\n",
       "      <td>0.000000</td>\n",
       "      <td>0.072750</td>\n",
       "      <td>0.028360</td>\n",
       "      <td>0.003699</td>\n",
       "      <td>0.0</td>\n",
       "      <td>0.000000</td>\n",
       "      <td>0.000000</td>\n",
       "      <td>...</td>\n",
       "      <td>0.0</td>\n",
       "      <td>0.0</td>\n",
       "      <td>0.0</td>\n",
       "      <td>0.0</td>\n",
       "      <td>0.0</td>\n",
       "      <td>0.0</td>\n",
       "      <td>0.0</td>\n",
       "      <td>0.0</td>\n",
       "      <td>32.998581</td>\n",
       "      <td>3</td>\n",
       "    </tr>\n",
       "    <tr>\n",
       "      <th>...</th>\n",
       "      <td>...</td>\n",
       "      <td>...</td>\n",
       "      <td>...</td>\n",
       "      <td>...</td>\n",
       "      <td>...</td>\n",
       "      <td>...</td>\n",
       "      <td>...</td>\n",
       "      <td>...</td>\n",
       "      <td>...</td>\n",
       "      <td>...</td>\n",
       "      <td>...</td>\n",
       "      <td>...</td>\n",
       "      <td>...</td>\n",
       "      <td>...</td>\n",
       "      <td>...</td>\n",
       "      <td>...</td>\n",
       "      <td>...</td>\n",
       "      <td>...</td>\n",
       "      <td>...</td>\n",
       "      <td>...</td>\n",
       "      <td>...</td>\n",
       "    </tr>\n",
       "    <tr>\n",
       "      <th>49993.0</th>\n",
       "      <td>0.808676</td>\n",
       "      <td>0.000000</td>\n",
       "      <td>0.228889</td>\n",
       "      <td>0.001111</td>\n",
       "      <td>0.092222</td>\n",
       "      <td>0.044444</td>\n",
       "      <td>0.004444</td>\n",
       "      <td>0.0</td>\n",
       "      <td>0.001111</td>\n",
       "      <td>0.001111</td>\n",
       "      <td>...</td>\n",
       "      <td>0.0</td>\n",
       "      <td>0.0</td>\n",
       "      <td>0.0</td>\n",
       "      <td>0.0</td>\n",
       "      <td>0.0</td>\n",
       "      <td>0.0</td>\n",
       "      <td>0.0</td>\n",
       "      <td>0.0</td>\n",
       "      <td>26.881927</td>\n",
       "      <td>2</td>\n",
       "    </tr>\n",
       "    <tr>\n",
       "      <th>49995.0</th>\n",
       "      <td>0.752844</td>\n",
       "      <td>0.014463</td>\n",
       "      <td>0.163223</td>\n",
       "      <td>0.005165</td>\n",
       "      <td>0.068182</td>\n",
       "      <td>0.030992</td>\n",
       "      <td>0.002066</td>\n",
       "      <td>0.0</td>\n",
       "      <td>0.001033</td>\n",
       "      <td>0.002066</td>\n",
       "      <td>...</td>\n",
       "      <td>0.0</td>\n",
       "      <td>0.0</td>\n",
       "      <td>0.0</td>\n",
       "      <td>0.0</td>\n",
       "      <td>0.0</td>\n",
       "      <td>0.0</td>\n",
       "      <td>0.0</td>\n",
       "      <td>0.0</td>\n",
       "      <td>28.822128</td>\n",
       "      <td>2</td>\n",
       "    </tr>\n",
       "    <tr>\n",
       "      <th>49996.0</th>\n",
       "      <td>0.640845</td>\n",
       "      <td>0.000880</td>\n",
       "      <td>0.259455</td>\n",
       "      <td>0.000000</td>\n",
       "      <td>0.009675</td>\n",
       "      <td>0.036939</td>\n",
       "      <td>0.001759</td>\n",
       "      <td>0.0</td>\n",
       "      <td>0.000000</td>\n",
       "      <td>0.001759</td>\n",
       "      <td>...</td>\n",
       "      <td>0.0</td>\n",
       "      <td>0.0</td>\n",
       "      <td>0.0</td>\n",
       "      <td>0.0</td>\n",
       "      <td>0.0</td>\n",
       "      <td>0.0</td>\n",
       "      <td>0.0</td>\n",
       "      <td>0.0</td>\n",
       "      <td>71.126854</td>\n",
       "      <td>3</td>\n",
       "    </tr>\n",
       "    <tr>\n",
       "      <th>49997.0</th>\n",
       "      <td>1.018233</td>\n",
       "      <td>0.000000</td>\n",
       "      <td>0.519608</td>\n",
       "      <td>0.000000</td>\n",
       "      <td>0.016807</td>\n",
       "      <td>0.014006</td>\n",
       "      <td>0.000000</td>\n",
       "      <td>0.0</td>\n",
       "      <td>0.000000</td>\n",
       "      <td>0.000000</td>\n",
       "      <td>...</td>\n",
       "      <td>0.0</td>\n",
       "      <td>0.0</td>\n",
       "      <td>0.0</td>\n",
       "      <td>0.0</td>\n",
       "      <td>0.0</td>\n",
       "      <td>0.0</td>\n",
       "      <td>0.0</td>\n",
       "      <td>0.0</td>\n",
       "      <td>18.448799</td>\n",
       "      <td>2</td>\n",
       "    </tr>\n",
       "    <tr>\n",
       "      <th>49998.0</th>\n",
       "      <td>0.912932</td>\n",
       "      <td>0.000000</td>\n",
       "      <td>0.400256</td>\n",
       "      <td>0.157289</td>\n",
       "      <td>0.204604</td>\n",
       "      <td>0.003836</td>\n",
       "      <td>0.000000</td>\n",
       "      <td>0.0</td>\n",
       "      <td>0.000000</td>\n",
       "      <td>0.000000</td>\n",
       "      <td>...</td>\n",
       "      <td>0.0</td>\n",
       "      <td>0.0</td>\n",
       "      <td>0.0</td>\n",
       "      <td>0.0</td>\n",
       "      <td>0.0</td>\n",
       "      <td>0.0</td>\n",
       "      <td>0.0</td>\n",
       "      <td>0.0</td>\n",
       "      <td>15.168741</td>\n",
       "      <td>1</td>\n",
       "    </tr>\n",
       "  </tbody>\n",
       "</table>\n",
       "<p>30000 rows × 811 columns</p>\n",
       "</div>"
      ],
      "text/plain": [
       "           mean_days  group0_cnt  group1_cnt  group2_cnt  group3_cnt  \\\n",
       "client_id                                                              \n",
       "4.0         1.013928    0.000000    0.621697    0.001391    0.061196   \n",
       "6.0         0.998626    0.002743    0.543210    0.000000    0.235940   \n",
       "7.0         0.940337    0.002591    0.102332    0.006477    0.034974   \n",
       "10.0        1.029830    0.017021    0.436879    0.001418    0.100709   \n",
       "11.0        0.898765    0.002466    0.520345    0.000000    0.072750   \n",
       "...              ...         ...         ...         ...         ...   \n",
       "49993.0     0.808676    0.000000    0.228889    0.001111    0.092222   \n",
       "49995.0     0.752844    0.014463    0.163223    0.005165    0.068182   \n",
       "49996.0     0.640845    0.000880    0.259455    0.000000    0.009675   \n",
       "49997.0     1.018233    0.000000    0.519608    0.000000    0.016807   \n",
       "49998.0     0.912932    0.000000    0.400256    0.157289    0.204604   \n",
       "\n",
       "           group4_cnt  group5_cnt  group6_cnt  group7_cnt  group8_cnt  ...  \\\n",
       "client_id                                                              ...   \n",
       "4.0          0.129346    0.000000         0.0    0.000000    0.001391  ...   \n",
       "6.0          0.013717    0.000000         0.0    0.000000    0.000000  ...   \n",
       "7.0          0.024611    0.001295         0.0    0.002591    0.001295  ...   \n",
       "10.0         0.092199    0.000000         0.0    0.000000    0.004255  ...   \n",
       "11.0         0.028360    0.003699         0.0    0.000000    0.000000  ...   \n",
       "...               ...         ...         ...         ...         ...  ...   \n",
       "49993.0      0.044444    0.004444         0.0    0.001111    0.001111  ...   \n",
       "49995.0      0.030992    0.002066         0.0    0.001033    0.002066  ...   \n",
       "49996.0      0.036939    0.001759         0.0    0.000000    0.001759  ...   \n",
       "49997.0      0.014006    0.000000         0.0    0.000000    0.000000  ...   \n",
       "49998.0      0.003836    0.000000         0.0    0.000000    0.000000  ...   \n",
       "\n",
       "           group195_min  group196_min  group197_min  group198_min  \\\n",
       "client_id                                                           \n",
       "4.0                 0.0           0.0           0.0           0.0   \n",
       "6.0                 0.0           0.0           0.0           0.0   \n",
       "7.0                 0.0           0.0           0.0           0.0   \n",
       "10.0                0.0           0.0           0.0           0.0   \n",
       "11.0                0.0           0.0           0.0           0.0   \n",
       "...                 ...           ...           ...           ...   \n",
       "49993.0             0.0           0.0           0.0           0.0   \n",
       "49995.0             0.0           0.0           0.0           0.0   \n",
       "49996.0             0.0           0.0           0.0           0.0   \n",
       "49997.0             0.0           0.0           0.0           0.0   \n",
       "49998.0             0.0           0.0           0.0           0.0   \n",
       "\n",
       "           group199_min  group200_min  group202_min  group203_min  amount_rur  \\\n",
       "client_id                                                                       \n",
       "4.0                 0.0           0.0           0.0           0.0   39.486332   \n",
       "6.0                 0.0           0.0           0.0           0.0   21.559368   \n",
       "7.0                 0.0           0.0           0.0           0.0   69.435265   \n",
       "10.0                0.0           0.0           0.0           0.0   48.383686   \n",
       "11.0                0.0           0.0           0.0           0.0   32.998581   \n",
       "...                 ...           ...           ...           ...         ...   \n",
       "49993.0             0.0           0.0           0.0           0.0   26.881927   \n",
       "49995.0             0.0           0.0           0.0           0.0   28.822128   \n",
       "49996.0             0.0           0.0           0.0           0.0   71.126854   \n",
       "49997.0             0.0           0.0           0.0           0.0   18.448799   \n",
       "49998.0             0.0           0.0           0.0           0.0   15.168741   \n",
       "\n",
       "           bins  \n",
       "client_id        \n",
       "4.0           1  \n",
       "6.0           1  \n",
       "7.0           0  \n",
       "10.0          3  \n",
       "11.0          3  \n",
       "...         ...  \n",
       "49993.0       2  \n",
       "49995.0       2  \n",
       "49996.0       3  \n",
       "49997.0       2  \n",
       "49998.0       1  \n",
       "\n",
       "[30000 rows x 811 columns]"
      ]
     },
     "execution_count": 95,
     "metadata": {},
     "output_type": "execute_result"
    }
   ],
   "source": [
    "client_df"
   ]
  },
  {
   "cell_type": "markdown",
   "id": "several-first",
   "metadata": {},
   "source": [
    "## EDA"
   ]
  },
  {
   "cell_type": "markdown",
   "id": "straight-phase",
   "metadata": {},
   "source": [
    "### Outliers"
   ]
  },
  {
   "cell_type": "code",
   "execution_count": null,
   "id": "public-captain",
   "metadata": {},
   "outputs": [],
   "source": []
  },
  {
   "cell_type": "markdown",
   "id": "superb-maple",
   "metadata": {},
   "source": [
    "### Groups"
   ]
  },
  {
   "cell_type": "code",
   "execution_count": 130,
   "id": "color-cemetery",
   "metadata": {
    "ExecuteTime": {
     "end_time": "2021-04-26T13:35:24.806263Z",
     "start_time": "2021-04-26T13:35:23.668319Z"
    }
   },
   "outputs": [],
   "source": [
    "tmp = df.groupby('small_group')[['amount_rur']].agg(['mean', 'count', 'max', 'min', 'sum']).reset_index()\n",
    "tmp.columns =['small_group_code', 'mean', 'count', 'max', 'min', 'sum']\n",
    "tmp = tmp.set_index('small_group_code')\n",
    "tmp = tmp.join(groups, on='small_group_code', how='outer').reset_index(drop=True)\n",
    "tmp = tmp.dropna()"
   ]
  },
  {
   "cell_type": "code",
   "execution_count": 131,
   "id": "interracial-warren",
   "metadata": {
    "ExecuteTime": {
     "end_time": "2021-04-26T13:35:24.822892Z",
     "start_time": "2021-04-26T13:35:24.808344Z"
    }
   },
   "outputs": [
    {
     "data": {
      "text/html": [
       "<div>\n",
       "<style scoped>\n",
       "    .dataframe tbody tr th:only-of-type {\n",
       "        vertical-align: middle;\n",
       "    }\n",
       "\n",
       "    .dataframe tbody tr th {\n",
       "        vertical-align: top;\n",
       "    }\n",
       "\n",
       "    .dataframe thead th {\n",
       "        text-align: right;\n",
       "    }\n",
       "</style>\n",
       "<table border=\"1\" class=\"dataframe\">\n",
       "  <thead>\n",
       "    <tr style=\"text-align: right;\">\n",
       "      <th></th>\n",
       "      <th>quantile</th>\n",
       "      <th>count</th>\n",
       "    </tr>\n",
       "  </thead>\n",
       "  <tbody>\n",
       "    <tr>\n",
       "      <th>0</th>\n",
       "      <td>0.1</td>\n",
       "      <td>34</td>\n",
       "    </tr>\n",
       "    <tr>\n",
       "      <th>1</th>\n",
       "      <td>0.2</td>\n",
       "      <td>183</td>\n",
       "    </tr>\n",
       "    <tr>\n",
       "      <th>2</th>\n",
       "      <td>0.3</td>\n",
       "      <td>513</td>\n",
       "    </tr>\n",
       "    <tr>\n",
       "      <th>3</th>\n",
       "      <td>0.4</td>\n",
       "      <td>1174</td>\n",
       "    </tr>\n",
       "    <tr>\n",
       "      <th>4</th>\n",
       "      <td>0.5</td>\n",
       "      <td>3286</td>\n",
       "    </tr>\n",
       "    <tr>\n",
       "      <th>5</th>\n",
       "      <td>0.6</td>\n",
       "      <td>11463</td>\n",
       "    </tr>\n",
       "    <tr>\n",
       "      <th>6</th>\n",
       "      <td>0.7</td>\n",
       "      <td>23816</td>\n",
       "    </tr>\n",
       "    <tr>\n",
       "      <th>7</th>\n",
       "      <td>0.8</td>\n",
       "      <td>61594</td>\n",
       "    </tr>\n",
       "    <tr>\n",
       "      <th>8</th>\n",
       "      <td>0.9</td>\n",
       "      <td>121778</td>\n",
       "    </tr>\n",
       "    <tr>\n",
       "      <th>9</th>\n",
       "      <td>1.0</td>\n",
       "      <td>8118439</td>\n",
       "    </tr>\n",
       "  </tbody>\n",
       "</table>\n",
       "</div>"
      ],
      "text/plain": [
       "   quantile    count\n",
       "0       0.1       34\n",
       "1       0.2      183\n",
       "2       0.3      513\n",
       "3       0.4     1174\n",
       "4       0.5     3286\n",
       "5       0.6    11463\n",
       "6       0.7    23816\n",
       "7       0.8    61594\n",
       "8       0.9   121778\n",
       "9       1.0  8118439"
      ]
     },
     "execution_count": 131,
     "metadata": {},
     "output_type": "execute_result"
    }
   ],
   "source": [
    "quantiles = np.arange(0.1, 1.1, 0.1)\n",
    "counts = [int(tmp['count'].quantile(i)) for i in quantiles]\n",
    "quantiles = pd.DataFrame({'quantile': quantiles, 'count': counts})\n",
    "quantiles"
   ]
  },
  {
   "cell_type": "code",
   "execution_count": 132,
   "id": "stupid-microphone",
   "metadata": {
    "ExecuteTime": {
     "end_time": "2021-04-26T13:35:24.828281Z",
     "start_time": "2021-04-26T13:35:24.825353Z"
    }
   },
   "outputs": [],
   "source": [
    "tmp = tmp[tmp['count'] > 23816] # 0.7 quantile"
   ]
  },
  {
   "cell_type": "code",
   "execution_count": 133,
   "id": "altered-secret",
   "metadata": {
    "ExecuteTime": {
     "end_time": "2021-04-26T13:35:24.845201Z",
     "start_time": "2021-04-26T13:35:24.830074Z"
    }
   },
   "outputs": [
    {
     "data": {
      "text/html": [
       "<div>\n",
       "<style scoped>\n",
       "    .dataframe tbody tr th:only-of-type {\n",
       "        vertical-align: middle;\n",
       "    }\n",
       "\n",
       "    .dataframe tbody tr th {\n",
       "        vertical-align: top;\n",
       "    }\n",
       "\n",
       "    .dataframe thead th {\n",
       "        text-align: right;\n",
       "    }\n",
       "</style>\n",
       "<table border=\"1\" class=\"dataframe\">\n",
       "  <thead>\n",
       "    <tr style=\"text-align: right;\">\n",
       "      <th></th>\n",
       "      <th>mean</th>\n",
       "      <th>count</th>\n",
       "      <th>max</th>\n",
       "      <th>min</th>\n",
       "      <th>sum</th>\n",
       "      <th>small_group</th>\n",
       "      <th>small_group_code</th>\n",
       "    </tr>\n",
       "  </thead>\n",
       "  <tbody>\n",
       "    <tr>\n",
       "      <th>1</th>\n",
       "      <td>41.603924</td>\n",
       "      <td>8118439.0</td>\n",
       "      <td>22447.980469</td>\n",
       "      <td>0.002</td>\n",
       "      <td>337758912.0</td>\n",
       "      <td>Сетевые супермаркеты и продуктовые магазины</td>\n",
       "      <td>1</td>\n",
       "    </tr>\n",
       "    <tr>\n",
       "      <th>11</th>\n",
       "      <td>21.330620</td>\n",
       "      <td>3198759.0</td>\n",
       "      <td>11515.068359</td>\n",
       "      <td>0.001</td>\n",
       "      <td>68231512.0</td>\n",
       "      <td>Фастфуд и кафе</td>\n",
       "      <td>11</td>\n",
       "    </tr>\n",
       "    <tr>\n",
       "      <th>3</th>\n",
       "      <td>19.814951</td>\n",
       "      <td>2426480.0</td>\n",
       "      <td>24261.560547</td>\n",
       "      <td>0.001</td>\n",
       "      <td>48080584.0</td>\n",
       "      <td>Оплата телефона и связи</td>\n",
       "      <td>3</td>\n",
       "    </tr>\n",
       "    <tr>\n",
       "      <th>15</th>\n",
       "      <td>21.609619</td>\n",
       "      <td>1426381.0</td>\n",
       "      <td>13318.199219</td>\n",
       "      <td>0.005</td>\n",
       "      <td>30823550.0</td>\n",
       "      <td>Несетевые супермаркеты и продуктовые магазины</td>\n",
       "      <td>15</td>\n",
       "    </tr>\n",
       "    <tr>\n",
       "      <th>4</th>\n",
       "      <td>34.616207</td>\n",
       "      <td>1207235.0</td>\n",
       "      <td>38081.308594</td>\n",
       "      <td>0.001</td>\n",
       "      <td>41789896.0</td>\n",
       "      <td>Аптеки</td>\n",
       "      <td>4</td>\n",
       "    </tr>\n",
       "    <tr>\n",
       "      <th>...</th>\n",
       "      <td>...</td>\n",
       "      <td>...</td>\n",
       "      <td>...</td>\n",
       "      <td>...</td>\n",
       "      <td>...</td>\n",
       "      <td>...</td>\n",
       "      <td>...</td>\n",
       "    </tr>\n",
       "    <tr>\n",
       "      <th>95</th>\n",
       "      <td>18.591925</td>\n",
       "      <td>33032.0</td>\n",
       "      <td>3328.034912</td>\n",
       "      <td>0.045</td>\n",
       "      <td>614128.5</td>\n",
       "      <td>Автобусы</td>\n",
       "      <td>95</td>\n",
       "    </tr>\n",
       "    <tr>\n",
       "      <th>53</th>\n",
       "      <td>143.350052</td>\n",
       "      <td>30074.0</td>\n",
       "      <td>35205.031250</td>\n",
       "      <td>0.001</td>\n",
       "      <td>4311109.5</td>\n",
       "      <td>Оплата налогов</td>\n",
       "      <td>53</td>\n",
       "    </tr>\n",
       "    <tr>\n",
       "      <th>14</th>\n",
       "      <td>800.391663</td>\n",
       "      <td>28890.0</td>\n",
       "      <td>284318.687500</td>\n",
       "      <td>0.014</td>\n",
       "      <td>23123314.0</td>\n",
       "      <td>Автодилеры и автосервис</td>\n",
       "      <td>14</td>\n",
       "    </tr>\n",
       "    <tr>\n",
       "      <th>106</th>\n",
       "      <td>56.324192</td>\n",
       "      <td>27138.0</td>\n",
       "      <td>3999.072998</td>\n",
       "      <td>0.043</td>\n",
       "      <td>1528526.0</td>\n",
       "      <td>Доставка еды на дом</td>\n",
       "      <td>106</td>\n",
       "    </tr>\n",
       "    <tr>\n",
       "      <th>77</th>\n",
       "      <td>59.083538</td>\n",
       "      <td>24037.0</td>\n",
       "      <td>11643.712891</td>\n",
       "      <td>0.031</td>\n",
       "      <td>1420191.0</td>\n",
       "      <td>Оплата штрафов</td>\n",
       "      <td>77</td>\n",
       "    </tr>\n",
       "  </tbody>\n",
       "</table>\n",
       "<p>61 rows × 7 columns</p>\n",
       "</div>"
      ],
      "text/plain": [
       "           mean      count            max    min          sum  \\\n",
       "1     41.603924  8118439.0   22447.980469  0.002  337758912.0   \n",
       "11    21.330620  3198759.0   11515.068359  0.001   68231512.0   \n",
       "3     19.814951  2426480.0   24261.560547  0.001   48080584.0   \n",
       "15    21.609619  1426381.0   13318.199219  0.005   30823550.0   \n",
       "4     34.616207  1207235.0   38081.308594  0.001   41789896.0   \n",
       "..          ...        ...            ...    ...          ...   \n",
       "95    18.591925    33032.0    3328.034912  0.045     614128.5   \n",
       "53   143.350052    30074.0   35205.031250  0.001    4311109.5   \n",
       "14   800.391663    28890.0  284318.687500  0.014   23123314.0   \n",
       "106   56.324192    27138.0    3999.072998  0.043    1528526.0   \n",
       "77    59.083538    24037.0   11643.712891  0.031    1420191.0   \n",
       "\n",
       "                                       small_group  small_group_code  \n",
       "1      Сетевые супермаркеты и продуктовые магазины                 1  \n",
       "11                                  Фастфуд и кафе                11  \n",
       "3                          Оплата телефона и связи                 3  \n",
       "15   Несетевые супермаркеты и продуктовые магазины                15  \n",
       "4                                           Аптеки                 4  \n",
       "..                                             ...               ...  \n",
       "95                                        Автобусы                95  \n",
       "53                                  Оплата налогов                53  \n",
       "14                         Автодилеры и автосервис                14  \n",
       "106                            Доставка еды на дом               106  \n",
       "77                                  Оплата штрафов                77  \n",
       "\n",
       "[61 rows x 7 columns]"
      ]
     },
     "execution_count": 133,
     "metadata": {},
     "output_type": "execute_result"
    }
   ],
   "source": [
    "tmp.sort_values('count', ascending=False)"
   ]
  },
  {
   "cell_type": "code",
   "execution_count": 134,
   "id": "numeric-prize",
   "metadata": {
    "ExecuteTime": {
     "end_time": "2021-04-26T13:35:25.033663Z",
     "start_time": "2021-04-26T13:35:25.017684Z"
    }
   },
   "outputs": [
    {
     "data": {
      "text/html": [
       "<div>\n",
       "<style scoped>\n",
       "    .dataframe tbody tr th:only-of-type {\n",
       "        vertical-align: middle;\n",
       "    }\n",
       "\n",
       "    .dataframe tbody tr th {\n",
       "        vertical-align: top;\n",
       "    }\n",
       "\n",
       "    .dataframe thead th {\n",
       "        text-align: right;\n",
       "    }\n",
       "</style>\n",
       "<table border=\"1\" class=\"dataframe\">\n",
       "  <thead>\n",
       "    <tr style=\"text-align: right;\">\n",
       "      <th></th>\n",
       "      <th>mean</th>\n",
       "      <th>count</th>\n",
       "      <th>max</th>\n",
       "      <th>min</th>\n",
       "      <th>sum</th>\n",
       "      <th>small_group</th>\n",
       "      <th>small_group_code</th>\n",
       "    </tr>\n",
       "  </thead>\n",
       "  <tbody>\n",
       "    <tr>\n",
       "      <th>5</th>\n",
       "      <td>803.839966</td>\n",
       "      <td>81168.0</td>\n",
       "      <td>128202.882812</td>\n",
       "      <td>0.043</td>\n",
       "      <td>6.524608e+07</td>\n",
       "      <td>Авиабилеты</td>\n",
       "      <td>5</td>\n",
       "    </tr>\n",
       "    <tr>\n",
       "      <th>14</th>\n",
       "      <td>800.391663</td>\n",
       "      <td>28890.0</td>\n",
       "      <td>284318.687500</td>\n",
       "      <td>0.014</td>\n",
       "      <td>2.312331e+07</td>\n",
       "      <td>Автодилеры и автосервис</td>\n",
       "      <td>14</td>\n",
       "    </tr>\n",
       "    <tr>\n",
       "      <th>13</th>\n",
       "      <td>555.277039</td>\n",
       "      <td>58435.0</td>\n",
       "      <td>129145.585938</td>\n",
       "      <td>0.002</td>\n",
       "      <td>3.244761e+07</td>\n",
       "      <td>Прочие отели (а также airbnb, booking)</td>\n",
       "      <td>13</td>\n",
       "    </tr>\n",
       "    <tr>\n",
       "      <th>80</th>\n",
       "      <td>390.925049</td>\n",
       "      <td>45380.0</td>\n",
       "      <td>319685.687500</td>\n",
       "      <td>0.043</td>\n",
       "      <td>1.774018e+07</td>\n",
       "      <td>Аксессуары (драгоценности и часы)</td>\n",
       "      <td>80</td>\n",
       "    </tr>\n",
       "    <tr>\n",
       "      <th>46</th>\n",
       "      <td>317.889862</td>\n",
       "      <td>89585.0</td>\n",
       "      <td>64203.664062</td>\n",
       "      <td>0.009</td>\n",
       "      <td>2.847816e+07</td>\n",
       "      <td>Мебель и товары для дома</td>\n",
       "      <td>46</td>\n",
       "    </tr>\n",
       "    <tr>\n",
       "      <th>...</th>\n",
       "      <td>...</td>\n",
       "      <td>...</td>\n",
       "      <td>...</td>\n",
       "      <td>...</td>\n",
       "      <td>...</td>\n",
       "      <td>...</td>\n",
       "      <td>...</td>\n",
       "    </tr>\n",
       "    <tr>\n",
       "      <th>3</th>\n",
       "      <td>19.814951</td>\n",
       "      <td>2426480.0</td>\n",
       "      <td>24261.560547</td>\n",
       "      <td>0.001</td>\n",
       "      <td>4.808058e+07</td>\n",
       "      <td>Оплата телефона и связи</td>\n",
       "      <td>3</td>\n",
       "    </tr>\n",
       "    <tr>\n",
       "      <th>58</th>\n",
       "      <td>18.802723</td>\n",
       "      <td>57678.0</td>\n",
       "      <td>1427.128052</td>\n",
       "      <td>0.045</td>\n",
       "      <td>1.084504e+06</td>\n",
       "      <td>Обслуживание существующего автомобиля (оплата ...</td>\n",
       "      <td>58</td>\n",
       "    </tr>\n",
       "    <tr>\n",
       "      <th>95</th>\n",
       "      <td>18.591925</td>\n",
       "      <td>33032.0</td>\n",
       "      <td>3328.034912</td>\n",
       "      <td>0.045</td>\n",
       "      <td>6.141285e+05</td>\n",
       "      <td>Автобусы</td>\n",
       "      <td>95</td>\n",
       "    </tr>\n",
       "    <tr>\n",
       "      <th>30</th>\n",
       "      <td>18.056816</td>\n",
       "      <td>72970.0</td>\n",
       "      <td>11725.927734</td>\n",
       "      <td>0.043</td>\n",
       "      <td>1.317606e+06</td>\n",
       "      <td>Табачные магазины</td>\n",
       "      <td>30</td>\n",
       "    </tr>\n",
       "    <tr>\n",
       "      <th>47</th>\n",
       "      <td>14.884287</td>\n",
       "      <td>37579.0</td>\n",
       "      <td>1831.812012</td>\n",
       "      <td>0.043</td>\n",
       "      <td>5.593366e+05</td>\n",
       "      <td>Пекарня</td>\n",
       "      <td>47</td>\n",
       "    </tr>\n",
       "  </tbody>\n",
       "</table>\n",
       "<p>61 rows × 7 columns</p>\n",
       "</div>"
      ],
      "text/plain": [
       "          mean      count            max    min           sum  \\\n",
       "5   803.839966    81168.0  128202.882812  0.043  6.524608e+07   \n",
       "14  800.391663    28890.0  284318.687500  0.014  2.312331e+07   \n",
       "13  555.277039    58435.0  129145.585938  0.002  3.244761e+07   \n",
       "80  390.925049    45380.0  319685.687500  0.043  1.774018e+07   \n",
       "46  317.889862    89585.0   64203.664062  0.009  2.847816e+07   \n",
       "..         ...        ...            ...    ...           ...   \n",
       "3    19.814951  2426480.0   24261.560547  0.001  4.808058e+07   \n",
       "58   18.802723    57678.0    1427.128052  0.045  1.084504e+06   \n",
       "95   18.591925    33032.0    3328.034912  0.045  6.141285e+05   \n",
       "30   18.056816    72970.0   11725.927734  0.043  1.317606e+06   \n",
       "47   14.884287    37579.0    1831.812012  0.043  5.593366e+05   \n",
       "\n",
       "                                          small_group  small_group_code  \n",
       "5                                          Авиабилеты                 5  \n",
       "14                            Автодилеры и автосервис                14  \n",
       "13             Прочие отели (а также airbnb, booking)                13  \n",
       "80                  Аксессуары (драгоценности и часы)                80  \n",
       "46                           Мебель и товары для дома                46  \n",
       "..                                                ...               ...  \n",
       "3                             Оплата телефона и связи                 3  \n",
       "58  Обслуживание существующего автомобиля (оплата ...                58  \n",
       "95                                           Автобусы                95  \n",
       "30                                  Табачные магазины                30  \n",
       "47                                            Пекарня                47  \n",
       "\n",
       "[61 rows x 7 columns]"
      ]
     },
     "execution_count": 134,
     "metadata": {},
     "output_type": "execute_result"
    }
   ],
   "source": [
    "tmp.sort_values('mean', ascending=False)"
   ]
  },
  {
   "cell_type": "code",
   "execution_count": 135,
   "id": "bigger-strip",
   "metadata": {
    "ExecuteTime": {
     "end_time": "2021-04-26T13:35:25.215096Z",
     "start_time": "2021-04-26T13:35:25.199542Z"
    }
   },
   "outputs": [
    {
     "data": {
      "text/html": [
       "<div>\n",
       "<style scoped>\n",
       "    .dataframe tbody tr th:only-of-type {\n",
       "        vertical-align: middle;\n",
       "    }\n",
       "\n",
       "    .dataframe tbody tr th {\n",
       "        vertical-align: top;\n",
       "    }\n",
       "\n",
       "    .dataframe thead th {\n",
       "        text-align: right;\n",
       "    }\n",
       "</style>\n",
       "<table border=\"1\" class=\"dataframe\">\n",
       "  <thead>\n",
       "    <tr style=\"text-align: right;\">\n",
       "      <th></th>\n",
       "      <th>mean</th>\n",
       "      <th>count</th>\n",
       "      <th>max</th>\n",
       "      <th>min</th>\n",
       "      <th>sum</th>\n",
       "      <th>small_group</th>\n",
       "      <th>small_group_code</th>\n",
       "    </tr>\n",
       "  </thead>\n",
       "  <tbody>\n",
       "    <tr>\n",
       "      <th>36</th>\n",
       "      <td>77.381767</td>\n",
       "      <td>372264.0</td>\n",
       "      <td>400086.781250</td>\n",
       "      <td>0.004</td>\n",
       "      <td>2.880645e+07</td>\n",
       "      <td>Косметика</td>\n",
       "      <td>36</td>\n",
       "    </tr>\n",
       "    <tr>\n",
       "      <th>80</th>\n",
       "      <td>390.925049</td>\n",
       "      <td>45380.0</td>\n",
       "      <td>319685.687500</td>\n",
       "      <td>0.043</td>\n",
       "      <td>1.774018e+07</td>\n",
       "      <td>Аксессуары (драгоценности и часы)</td>\n",
       "      <td>80</td>\n",
       "    </tr>\n",
       "    <tr>\n",
       "      <th>24</th>\n",
       "      <td>197.390015</td>\n",
       "      <td>462684.0</td>\n",
       "      <td>291837.218750</td>\n",
       "      <td>0.002</td>\n",
       "      <td>9.132920e+07</td>\n",
       "      <td>Одежда</td>\n",
       "      <td>24</td>\n",
       "    </tr>\n",
       "    <tr>\n",
       "      <th>14</th>\n",
       "      <td>800.391663</td>\n",
       "      <td>28890.0</td>\n",
       "      <td>284318.687500</td>\n",
       "      <td>0.014</td>\n",
       "      <td>2.312331e+07</td>\n",
       "      <td>Автодилеры и автосервис</td>\n",
       "      <td>14</td>\n",
       "    </tr>\n",
       "    <tr>\n",
       "      <th>21</th>\n",
       "      <td>221.953049</td>\n",
       "      <td>121527.0</td>\n",
       "      <td>219405.437500</td>\n",
       "      <td>0.009</td>\n",
       "      <td>2.697329e+07</td>\n",
       "      <td>Больницы и поликлинники</td>\n",
       "      <td>21</td>\n",
       "    </tr>\n",
       "    <tr>\n",
       "      <th>...</th>\n",
       "      <td>...</td>\n",
       "      <td>...</td>\n",
       "      <td>...</td>\n",
       "      <td>...</td>\n",
       "      <td>...</td>\n",
       "      <td>...</td>\n",
       "      <td>...</td>\n",
       "    </tr>\n",
       "    <tr>\n",
       "      <th>25</th>\n",
       "      <td>22.696535</td>\n",
       "      <td>702637.0</td>\n",
       "      <td>3676.979980</td>\n",
       "      <td>0.032</td>\n",
       "      <td>1.594743e+07</td>\n",
       "      <td>Метро (паромы и Ж\\Д аналоги)</td>\n",
       "      <td>25</td>\n",
       "    </tr>\n",
       "    <tr>\n",
       "      <th>95</th>\n",
       "      <td>18.591925</td>\n",
       "      <td>33032.0</td>\n",
       "      <td>3328.034912</td>\n",
       "      <td>0.045</td>\n",
       "      <td>6.141285e+05</td>\n",
       "      <td>Автобусы</td>\n",
       "      <td>95</td>\n",
       "    </tr>\n",
       "    <tr>\n",
       "      <th>78</th>\n",
       "      <td>31.824900</td>\n",
       "      <td>40676.0</td>\n",
       "      <td>2376.803955</td>\n",
       "      <td>0.647</td>\n",
       "      <td>1.294510e+06</td>\n",
       "      <td>Оплата проезда</td>\n",
       "      <td>78</td>\n",
       "    </tr>\n",
       "    <tr>\n",
       "      <th>47</th>\n",
       "      <td>14.884287</td>\n",
       "      <td>37579.0</td>\n",
       "      <td>1831.812012</td>\n",
       "      <td>0.043</td>\n",
       "      <td>5.593366e+05</td>\n",
       "      <td>Пекарня</td>\n",
       "      <td>47</td>\n",
       "    </tr>\n",
       "    <tr>\n",
       "      <th>58</th>\n",
       "      <td>18.802723</td>\n",
       "      <td>57678.0</td>\n",
       "      <td>1427.128052</td>\n",
       "      <td>0.045</td>\n",
       "      <td>1.084504e+06</td>\n",
       "      <td>Обслуживание существующего автомобиля (оплата ...</td>\n",
       "      <td>58</td>\n",
       "    </tr>\n",
       "  </tbody>\n",
       "</table>\n",
       "<p>61 rows × 7 columns</p>\n",
       "</div>"
      ],
      "text/plain": [
       "          mean     count            max    min           sum  \\\n",
       "36   77.381767  372264.0  400086.781250  0.004  2.880645e+07   \n",
       "80  390.925049   45380.0  319685.687500  0.043  1.774018e+07   \n",
       "24  197.390015  462684.0  291837.218750  0.002  9.132920e+07   \n",
       "14  800.391663   28890.0  284318.687500  0.014  2.312331e+07   \n",
       "21  221.953049  121527.0  219405.437500  0.009  2.697329e+07   \n",
       "..         ...       ...            ...    ...           ...   \n",
       "25   22.696535  702637.0    3676.979980  0.032  1.594743e+07   \n",
       "95   18.591925   33032.0    3328.034912  0.045  6.141285e+05   \n",
       "78   31.824900   40676.0    2376.803955  0.647  1.294510e+06   \n",
       "47   14.884287   37579.0    1831.812012  0.043  5.593366e+05   \n",
       "58   18.802723   57678.0    1427.128052  0.045  1.084504e+06   \n",
       "\n",
       "                                          small_group  small_group_code  \n",
       "36                                          Косметика                36  \n",
       "80                  Аксессуары (драгоценности и часы)                80  \n",
       "24                                             Одежда                24  \n",
       "14                            Автодилеры и автосервис                14  \n",
       "21                            Больницы и поликлинники                21  \n",
       "..                                                ...               ...  \n",
       "25                       Метро (паромы и Ж\\Д аналоги)                25  \n",
       "95                                           Автобусы                95  \n",
       "78                                     Оплата проезда                78  \n",
       "47                                            Пекарня                47  \n",
       "58  Обслуживание существующего автомобиля (оплата ...                58  \n",
       "\n",
       "[61 rows x 7 columns]"
      ]
     },
     "execution_count": 135,
     "metadata": {},
     "output_type": "execute_result"
    }
   ],
   "source": [
    "tmp.sort_values('max', ascending=False)"
   ]
  },
  {
   "cell_type": "code",
   "execution_count": 136,
   "id": "exterior-tanzania",
   "metadata": {
    "ExecuteTime": {
     "end_time": "2021-04-26T13:35:25.395492Z",
     "start_time": "2021-04-26T13:35:25.379522Z"
    }
   },
   "outputs": [
    {
     "data": {
      "text/html": [
       "<div>\n",
       "<style scoped>\n",
       "    .dataframe tbody tr th:only-of-type {\n",
       "        vertical-align: middle;\n",
       "    }\n",
       "\n",
       "    .dataframe tbody tr th {\n",
       "        vertical-align: top;\n",
       "    }\n",
       "\n",
       "    .dataframe thead th {\n",
       "        text-align: right;\n",
       "    }\n",
       "</style>\n",
       "<table border=\"1\" class=\"dataframe\">\n",
       "  <thead>\n",
       "    <tr style=\"text-align: right;\">\n",
       "      <th></th>\n",
       "      <th>mean</th>\n",
       "      <th>count</th>\n",
       "      <th>max</th>\n",
       "      <th>min</th>\n",
       "      <th>sum</th>\n",
       "      <th>small_group</th>\n",
       "      <th>small_group_code</th>\n",
       "    </tr>\n",
       "  </thead>\n",
       "  <tbody>\n",
       "    <tr>\n",
       "      <th>78</th>\n",
       "      <td>31.824900</td>\n",
       "      <td>40676.0</td>\n",
       "      <td>2376.803955</td>\n",
       "      <td>0.647</td>\n",
       "      <td>1.294510e+06</td>\n",
       "      <td>Оплата проезда</td>\n",
       "      <td>78</td>\n",
       "    </tr>\n",
       "    <tr>\n",
       "      <th>95</th>\n",
       "      <td>18.591925</td>\n",
       "      <td>33032.0</td>\n",
       "      <td>3328.034912</td>\n",
       "      <td>0.045</td>\n",
       "      <td>6.141285e+05</td>\n",
       "      <td>Автобусы</td>\n",
       "      <td>95</td>\n",
       "    </tr>\n",
       "    <tr>\n",
       "      <th>58</th>\n",
       "      <td>18.802723</td>\n",
       "      <td>57678.0</td>\n",
       "      <td>1427.128052</td>\n",
       "      <td>0.045</td>\n",
       "      <td>1.084504e+06</td>\n",
       "      <td>Обслуживание существующего автомобиля (оплата ...</td>\n",
       "      <td>58</td>\n",
       "    </tr>\n",
       "    <tr>\n",
       "      <th>20</th>\n",
       "      <td>151.190338</td>\n",
       "      <td>96637.0</td>\n",
       "      <td>12183.599609</td>\n",
       "      <td>0.045</td>\n",
       "      <td>1.461058e+07</td>\n",
       "      <td>Ж\\Д</td>\n",
       "      <td>20</td>\n",
       "    </tr>\n",
       "    <tr>\n",
       "      <th>23</th>\n",
       "      <td>211.653366</td>\n",
       "      <td>123104.0</td>\n",
       "      <td>19356.750000</td>\n",
       "      <td>0.043</td>\n",
       "      <td>2.605538e+07</td>\n",
       "      <td>Обувь</td>\n",
       "      <td>23</td>\n",
       "    </tr>\n",
       "    <tr>\n",
       "      <th>...</th>\n",
       "      <td>...</td>\n",
       "      <td>...</td>\n",
       "      <td>...</td>\n",
       "      <td>...</td>\n",
       "      <td>...</td>\n",
       "      <td>...</td>\n",
       "      <td>...</td>\n",
       "    </tr>\n",
       "    <tr>\n",
       "      <th>11</th>\n",
       "      <td>21.330620</td>\n",
       "      <td>3198759.0</td>\n",
       "      <td>11515.068359</td>\n",
       "      <td>0.001</td>\n",
       "      <td>6.823151e+07</td>\n",
       "      <td>Фастфуд и кафе</td>\n",
       "      <td>11</td>\n",
       "    </tr>\n",
       "    <tr>\n",
       "      <th>18</th>\n",
       "      <td>43.807911</td>\n",
       "      <td>1158099.0</td>\n",
       "      <td>191717.953125</td>\n",
       "      <td>0.001</td>\n",
       "      <td>5.073390e+07</td>\n",
       "      <td>Рестораны и кафе</td>\n",
       "      <td>18</td>\n",
       "    </tr>\n",
       "    <tr>\n",
       "      <th>64</th>\n",
       "      <td>194.129547</td>\n",
       "      <td>93583.0</td>\n",
       "      <td>19434.976562</td>\n",
       "      <td>0.001</td>\n",
       "      <td>1.816722e+07</td>\n",
       "      <td>Оплата ЖКХ</td>\n",
       "      <td>64</td>\n",
       "    </tr>\n",
       "    <tr>\n",
       "      <th>26</th>\n",
       "      <td>125.662430</td>\n",
       "      <td>106120.0</td>\n",
       "      <td>108141.539062</td>\n",
       "      <td>0.001</td>\n",
       "      <td>1.333530e+07</td>\n",
       "      <td>Разное</td>\n",
       "      <td>26</td>\n",
       "    </tr>\n",
       "    <tr>\n",
       "      <th>0</th>\n",
       "      <td>43.634892</td>\n",
       "      <td>165729.0</td>\n",
       "      <td>4510.615234</td>\n",
       "      <td>0.001</td>\n",
       "      <td>7.231567e+06</td>\n",
       "      <td>Зоотовары</td>\n",
       "      <td>0</td>\n",
       "    </tr>\n",
       "  </tbody>\n",
       "</table>\n",
       "<p>61 rows × 7 columns</p>\n",
       "</div>"
      ],
      "text/plain": [
       "          mean      count            max    min           sum  \\\n",
       "78   31.824900    40676.0    2376.803955  0.647  1.294510e+06   \n",
       "95   18.591925    33032.0    3328.034912  0.045  6.141285e+05   \n",
       "58   18.802723    57678.0    1427.128052  0.045  1.084504e+06   \n",
       "20  151.190338    96637.0   12183.599609  0.045  1.461058e+07   \n",
       "23  211.653366   123104.0   19356.750000  0.043  2.605538e+07   \n",
       "..         ...        ...            ...    ...           ...   \n",
       "11   21.330620  3198759.0   11515.068359  0.001  6.823151e+07   \n",
       "18   43.807911  1158099.0  191717.953125  0.001  5.073390e+07   \n",
       "64  194.129547    93583.0   19434.976562  0.001  1.816722e+07   \n",
       "26  125.662430   106120.0  108141.539062  0.001  1.333530e+07   \n",
       "0    43.634892   165729.0    4510.615234  0.001  7.231567e+06   \n",
       "\n",
       "                                          small_group  small_group_code  \n",
       "78                                     Оплата проезда                78  \n",
       "95                                           Автобусы                95  \n",
       "58  Обслуживание существующего автомобиля (оплата ...                58  \n",
       "20                                                Ж\\Д                20  \n",
       "23                                              Обувь                23  \n",
       "..                                                ...               ...  \n",
       "11                                     Фастфуд и кафе                11  \n",
       "18                                   Рестораны и кафе                18  \n",
       "64                                         Оплата ЖКХ                64  \n",
       "26                                             Разное                26  \n",
       "0                                           Зоотовары                 0  \n",
       "\n",
       "[61 rows x 7 columns]"
      ]
     },
     "execution_count": 136,
     "metadata": {},
     "output_type": "execute_result"
    }
   ],
   "source": [
    "tmp.sort_values('min', ascending=False)"
   ]
  },
  {
   "cell_type": "code",
   "execution_count": 137,
   "id": "cellular-level",
   "metadata": {
    "ExecuteTime": {
     "end_time": "2021-04-26T13:35:25.555044Z",
     "start_time": "2021-04-26T13:35:25.535770Z"
    }
   },
   "outputs": [
    {
     "data": {
      "text/html": [
       "<div>\n",
       "<style scoped>\n",
       "    .dataframe tbody tr th:only-of-type {\n",
       "        vertical-align: middle;\n",
       "    }\n",
       "\n",
       "    .dataframe tbody tr th {\n",
       "        vertical-align: top;\n",
       "    }\n",
       "\n",
       "    .dataframe thead th {\n",
       "        text-align: right;\n",
       "    }\n",
       "</style>\n",
       "<table border=\"1\" class=\"dataframe\">\n",
       "  <thead>\n",
       "    <tr style=\"text-align: right;\">\n",
       "      <th></th>\n",
       "      <th>mean</th>\n",
       "      <th>count</th>\n",
       "      <th>max</th>\n",
       "      <th>min</th>\n",
       "      <th>sum</th>\n",
       "      <th>small_group</th>\n",
       "      <th>small_group_code</th>\n",
       "    </tr>\n",
       "  </thead>\n",
       "  <tbody>\n",
       "    <tr>\n",
       "      <th>1</th>\n",
       "      <td>41.603924</td>\n",
       "      <td>8118439.0</td>\n",
       "      <td>22447.980469</td>\n",
       "      <td>0.002</td>\n",
       "      <td>3.377589e+08</td>\n",
       "      <td>Сетевые супермаркеты и продуктовые магазины</td>\n",
       "      <td>1</td>\n",
       "    </tr>\n",
       "    <tr>\n",
       "      <th>24</th>\n",
       "      <td>197.390015</td>\n",
       "      <td>462684.0</td>\n",
       "      <td>291837.218750</td>\n",
       "      <td>0.002</td>\n",
       "      <td>9.132920e+07</td>\n",
       "      <td>Одежда</td>\n",
       "      <td>24</td>\n",
       "    </tr>\n",
       "    <tr>\n",
       "      <th>11</th>\n",
       "      <td>21.330620</td>\n",
       "      <td>3198759.0</td>\n",
       "      <td>11515.068359</td>\n",
       "      <td>0.001</td>\n",
       "      <td>6.823151e+07</td>\n",
       "      <td>Фастфуд и кафе</td>\n",
       "      <td>11</td>\n",
       "    </tr>\n",
       "    <tr>\n",
       "      <th>5</th>\n",
       "      <td>803.839966</td>\n",
       "      <td>81168.0</td>\n",
       "      <td>128202.882812</td>\n",
       "      <td>0.043</td>\n",
       "      <td>6.524608e+07</td>\n",
       "      <td>Авиабилеты</td>\n",
       "      <td>5</td>\n",
       "    </tr>\n",
       "    <tr>\n",
       "      <th>2</th>\n",
       "      <td>57.529385</td>\n",
       "      <td>907924.0</td>\n",
       "      <td>45795.281250</td>\n",
       "      <td>0.001</td>\n",
       "      <td>5.223231e+07</td>\n",
       "      <td>Обслуживание существующего автомобиля (АЗС)</td>\n",
       "      <td>2</td>\n",
       "    </tr>\n",
       "    <tr>\n",
       "      <th>...</th>\n",
       "      <td>...</td>\n",
       "      <td>...</td>\n",
       "      <td>...</td>\n",
       "      <td>...</td>\n",
       "      <td>...</td>\n",
       "      <td>...</td>\n",
       "      <td>...</td>\n",
       "    </tr>\n",
       "    <tr>\n",
       "      <th>30</th>\n",
       "      <td>18.056816</td>\n",
       "      <td>72970.0</td>\n",
       "      <td>11725.927734</td>\n",
       "      <td>0.043</td>\n",
       "      <td>1.317606e+06</td>\n",
       "      <td>Табачные магазины</td>\n",
       "      <td>30</td>\n",
       "    </tr>\n",
       "    <tr>\n",
       "      <th>78</th>\n",
       "      <td>31.824900</td>\n",
       "      <td>40676.0</td>\n",
       "      <td>2376.803955</td>\n",
       "      <td>0.647</td>\n",
       "      <td>1.294510e+06</td>\n",
       "      <td>Оплата проезда</td>\n",
       "      <td>78</td>\n",
       "    </tr>\n",
       "    <tr>\n",
       "      <th>58</th>\n",
       "      <td>18.802723</td>\n",
       "      <td>57678.0</td>\n",
       "      <td>1427.128052</td>\n",
       "      <td>0.045</td>\n",
       "      <td>1.084504e+06</td>\n",
       "      <td>Обслуживание существующего автомобиля (оплата ...</td>\n",
       "      <td>58</td>\n",
       "    </tr>\n",
       "    <tr>\n",
       "      <th>95</th>\n",
       "      <td>18.591925</td>\n",
       "      <td>33032.0</td>\n",
       "      <td>3328.034912</td>\n",
       "      <td>0.045</td>\n",
       "      <td>6.141285e+05</td>\n",
       "      <td>Автобусы</td>\n",
       "      <td>95</td>\n",
       "    </tr>\n",
       "    <tr>\n",
       "      <th>47</th>\n",
       "      <td>14.884287</td>\n",
       "      <td>37579.0</td>\n",
       "      <td>1831.812012</td>\n",
       "      <td>0.043</td>\n",
       "      <td>5.593366e+05</td>\n",
       "      <td>Пекарня</td>\n",
       "      <td>47</td>\n",
       "    </tr>\n",
       "  </tbody>\n",
       "</table>\n",
       "<p>61 rows × 7 columns</p>\n",
       "</div>"
      ],
      "text/plain": [
       "          mean      count            max    min           sum  \\\n",
       "1    41.603924  8118439.0   22447.980469  0.002  3.377589e+08   \n",
       "24  197.390015   462684.0  291837.218750  0.002  9.132920e+07   \n",
       "11   21.330620  3198759.0   11515.068359  0.001  6.823151e+07   \n",
       "5   803.839966    81168.0  128202.882812  0.043  6.524608e+07   \n",
       "2    57.529385   907924.0   45795.281250  0.001  5.223231e+07   \n",
       "..         ...        ...            ...    ...           ...   \n",
       "30   18.056816    72970.0   11725.927734  0.043  1.317606e+06   \n",
       "78   31.824900    40676.0    2376.803955  0.647  1.294510e+06   \n",
       "58   18.802723    57678.0    1427.128052  0.045  1.084504e+06   \n",
       "95   18.591925    33032.0    3328.034912  0.045  6.141285e+05   \n",
       "47   14.884287    37579.0    1831.812012  0.043  5.593366e+05   \n",
       "\n",
       "                                          small_group  small_group_code  \n",
       "1         Сетевые супермаркеты и продуктовые магазины                 1  \n",
       "24                                             Одежда                24  \n",
       "11                                     Фастфуд и кафе                11  \n",
       "5                                          Авиабилеты                 5  \n",
       "2         Обслуживание существующего автомобиля (АЗС)                 2  \n",
       "..                                                ...               ...  \n",
       "30                                  Табачные магазины                30  \n",
       "78                                     Оплата проезда                78  \n",
       "58  Обслуживание существующего автомобиля (оплата ...                58  \n",
       "95                                           Автобусы                95  \n",
       "47                                            Пекарня                47  \n",
       "\n",
       "[61 rows x 7 columns]"
      ]
     },
     "execution_count": 137,
     "metadata": {},
     "output_type": "execute_result"
    }
   ],
   "source": [
    "tmp.sort_values('sum', ascending=False)"
   ]
  },
  {
   "cell_type": "markdown",
   "id": "thermal-baghdad",
   "metadata": {},
   "source": [
    "### FM"
   ]
  },
  {
   "cell_type": "code",
   "execution_count": 96,
   "id": "premier-patrol",
   "metadata": {
    "ExecuteTime": {
     "end_time": "2021-04-26T13:23:48.368854Z",
     "start_time": "2021-04-26T13:23:48.105133Z"
    },
    "scrolled": true
   },
   "outputs": [
    {
     "data": {
      "image/png": "[encoded data removed]",
      "text/plain": [
       "<Figure size 864x216 with 2 Axes>"
      ]
     },
     "metadata": {},
     "output_type": "display_data"
    }
   ],
   "source": [
    "fig, axs = plt.subplots(figsize=(12, 3))\n",
    "\n",
    "plt.subplot(1, 2, 1)\n",
    "sns.boxplot(x='mean_days', data=client_df)\n",
    "\n",
    "plt.subplot(1, 2, 2)\n",
    "sns.histplot(x='mean_days', data=client_df, bins=10);"
   ]
  },
  {
   "cell_type": "code",
   "execution_count": 149,
   "id": "automotive-treaty",
   "metadata": {
    "ExecuteTime": {
     "end_time": "2021-04-26T13:49:32.766235Z",
     "start_time": "2021-04-26T13:49:32.755286Z"
    }
   },
   "outputs": [
    {
     "data": {
      "text/html": [
       "<div>\n",
       "<style scoped>\n",
       "    .dataframe tbody tr th:only-of-type {\n",
       "        vertical-align: middle;\n",
       "    }\n",
       "\n",
       "    .dataframe tbody tr th {\n",
       "        vertical-align: top;\n",
       "    }\n",
       "\n",
       "    .dataframe thead th {\n",
       "        text-align: right;\n",
       "    }\n",
       "</style>\n",
       "<table border=\"1\" class=\"dataframe\">\n",
       "  <thead>\n",
       "    <tr style=\"text-align: right;\">\n",
       "      <th></th>\n",
       "      <th>mean</th>\n",
       "      <th>count</th>\n",
       "      <th>max</th>\n",
       "      <th>min</th>\n",
       "      <th>sum</th>\n",
       "      <th>small_group</th>\n",
       "      <th>small_group_code</th>\n",
       "    </tr>\n",
       "  </thead>\n",
       "  <tbody>\n",
       "    <tr>\n",
       "      <th>1</th>\n",
       "      <td>41.603924</td>\n",
       "      <td>8118439.0</td>\n",
       "      <td>22447.980469</td>\n",
       "      <td>0.002</td>\n",
       "      <td>337758912.0</td>\n",
       "      <td>Сетевые супермаркеты и продуктовые магазины</td>\n",
       "      <td>1</td>\n",
       "    </tr>\n",
       "    <tr>\n",
       "      <th>5</th>\n",
       "      <td>803.839966</td>\n",
       "      <td>81168.0</td>\n",
       "      <td>128202.882812</td>\n",
       "      <td>0.043</td>\n",
       "      <td>65246080.0</td>\n",
       "      <td>Авиабилеты</td>\n",
       "      <td>5</td>\n",
       "    </tr>\n",
       "    <tr>\n",
       "      <th>11</th>\n",
       "      <td>21.330620</td>\n",
       "      <td>3198759.0</td>\n",
       "      <td>11515.068359</td>\n",
       "      <td>0.001</td>\n",
       "      <td>68231512.0</td>\n",
       "      <td>Фастфуд и кафе</td>\n",
       "      <td>11</td>\n",
       "    </tr>\n",
       "    <tr>\n",
       "      <th>14</th>\n",
       "      <td>800.391663</td>\n",
       "      <td>28890.0</td>\n",
       "      <td>284318.687500</td>\n",
       "      <td>0.014</td>\n",
       "      <td>23123314.0</td>\n",
       "      <td>Автодилеры и автосервис</td>\n",
       "      <td>14</td>\n",
       "    </tr>\n",
       "    <tr>\n",
       "      <th>24</th>\n",
       "      <td>197.390015</td>\n",
       "      <td>462684.0</td>\n",
       "      <td>291837.218750</td>\n",
       "      <td>0.002</td>\n",
       "      <td>91329200.0</td>\n",
       "      <td>Одежда</td>\n",
       "      <td>24</td>\n",
       "    </tr>\n",
       "    <tr>\n",
       "      <th>80</th>\n",
       "      <td>390.925049</td>\n",
       "      <td>45380.0</td>\n",
       "      <td>319685.687500</td>\n",
       "      <td>0.043</td>\n",
       "      <td>17740178.0</td>\n",
       "      <td>Аксессуары (драгоценности и часы)</td>\n",
       "      <td>80</td>\n",
       "    </tr>\n",
       "  </tbody>\n",
       "</table>\n",
       "</div>"
      ],
      "text/plain": [
       "          mean      count            max    min          sum  \\\n",
       "1    41.603924  8118439.0   22447.980469  0.002  337758912.0   \n",
       "5   803.839966    81168.0  128202.882812  0.043   65246080.0   \n",
       "11   21.330620  3198759.0   11515.068359  0.001   68231512.0   \n",
       "14  800.391663    28890.0  284318.687500  0.014   23123314.0   \n",
       "24  197.390015   462684.0  291837.218750  0.002   91329200.0   \n",
       "80  390.925049    45380.0  319685.687500  0.043   17740178.0   \n",
       "\n",
       "                                    small_group  small_group_code  \n",
       "1   Сетевые супермаркеты и продуктовые магазины                 1  \n",
       "5                                    Авиабилеты                 5  \n",
       "11                               Фастфуд и кафе                11  \n",
       "14                      Автодилеры и автосервис                14  \n",
       "24                                       Одежда                24  \n",
       "80            Аксессуары (драгоценности и часы)                80  "
      ]
     },
     "execution_count": 149,
     "metadata": {},
     "output_type": "execute_result"
    }
   ],
   "source": [
    "group_codes = [1, 11, 5, 14, 80, 24]\n",
    "tmp[tmp['small_group_code'].isin(group_codes)]"
   ]
  },
  {
   "cell_type": "markdown",
   "id": "satisfactory-teens",
   "metadata": {},
   "source": [
    "one transaction a day..."
   ]
  },
  {
   "cell_type": "code",
   "execution_count": 156,
   "id": "beneficial-victor",
   "metadata": {
    "ExecuteTime": {
     "end_time": "2021-04-26T13:51:50.420555Z",
     "start_time": "2021-04-26T13:51:48.611935Z"
    }
   },
   "outputs": [
    {
     "data": {
      "image/png": "[encoded data removed]",
      "text/plain": [
       "<Figure size 864x864 with 12 Axes>"
      ]
     },
     "metadata": {},
     "output_type": "display_data"
    }
   ],
   "source": [
    "fig, axs = plt.subplots(figsize=(12, 12))\n",
    "\n",
    "for i, g in enumerate(group_codes):\n",
    "    plt.subplot(len(group_codes), 2, 2*i+1)\n",
    "    gt = code2group[g]\n",
    "    plt.title(gt)\n",
    "    sns.boxplot(x=f'group{g}_cnt', data=client_df)\n",
    "    plt.subplot(len(group_codes), 2, 2*i+2)\n",
    "    sns.histplot(x=f'group{g}_cnt', data=client_df, bins=10);\n",
    "    plt.yscale('log')\n",
    "fig.tight_layout()"
   ]
  },
  {
   "cell_type": "code",
   "execution_count": 155,
   "id": "systematic-north",
   "metadata": {
    "ExecuteTime": {
     "end_time": "2021-04-26T13:50:55.547889Z",
     "start_time": "2021-04-26T13:50:53.553040Z"
    }
   },
   "outputs": [
    {
     "data": {
      "image/png": "[encoded data removed]",
      "text/plain": [
       "<Figure size 864x864 with 12 Axes>"
      ]
     },
     "metadata": {},
     "output_type": "display_data"
    }
   ],
   "source": [
    "fig, axs = plt.subplots(figsize=(12, 12))\n",
    "\n",
    "for i, g in enumerate(group_codes):\n",
    "    plt.subplot(len(group_codes), 2, 2*i+1)\n",
    "    gt = code2group[g]\n",
    "    plt.title(gt)\n",
    "    sns.boxplot(x=f'group{g}_mean', data=client_df)\n",
    "    plt.subplot(len(group_codes), 2, 2*i+2)\n",
    "    sns.histplot(x=f'group{g}_mean', data=client_df, bins=10);\n",
    "    plt.yscale('log')\n",
    "fig.tight_layout()"
   ]
  },
  {
   "cell_type": "code",
   "execution_count": 175,
   "id": "indoor-trunk",
   "metadata": {
    "ExecuteTime": {
     "end_time": "2021-04-26T14:04:53.857557Z",
     "start_time": "2021-04-26T14:04:52.322487Z"
    }
   },
   "outputs": [
    {
     "data": {
      "image/png": "[encoded data removed]",
      "text/plain": [
       "<Figure size 864x432 with 4 Axes>"
      ]
     },
     "metadata": {},
     "output_type": "display_data"
    }
   ],
   "source": [
    "fig, axs = plt.subplots(figsize=(12, 6))\n",
    "\n",
    "plt.subplot(2, 2, 1)\n",
    "sns.boxplot(x='amount_rur', data=client_df)\n",
    "plt.subplot(2, 2, 2)\n",
    "sns.boxplot(x='amount_rur', data=client_df)\n",
    "plt.xscale('log')\n",
    "\n",
    "plt.subplot(2, 2, 3)\n",
    "sns.histplot(x='amount_rur', data=client_df, bins=20);\n",
    "plt.yscale('log')\n",
    "plt.subplot(2, 2, 4)\n",
    "sns.histplot(x='amount_rur', data=client_df, bins=20);\n",
    "plt.yscale('log')\n",
    "\n",
    "fig.tight_layout()"
   ]
  },
  {
   "cell_type": "code",
   "execution_count": 177,
   "id": "ruled-pittsburgh",
   "metadata": {
    "ExecuteTime": {
     "end_time": "2021-04-26T14:05:20.366270Z",
     "start_time": "2021-04-26T14:05:20.359964Z"
    }
   },
   "outputs": [
    {
     "data": {
      "text/plain": [
       "2"
      ]
     },
     "execution_count": 177,
     "metadata": {},
     "output_type": "execute_result"
    }
   ],
   "source": [
    "sum(client_df['amount_rur'] > 3000)"
   ]
  },
  {
   "cell_type": "code",
   "execution_count": 178,
   "id": "wicked-patent",
   "metadata": {
    "ExecuteTime": {
     "end_time": "2021-04-26T14:05:32.527601Z",
     "start_time": "2021-04-26T14:05:32.506999Z"
    }
   },
   "outputs": [
    {
     "data": {
      "text/html": [
       "<div>\n",
       "<style scoped>\n",
       "    .dataframe tbody tr th:only-of-type {\n",
       "        vertical-align: middle;\n",
       "    }\n",
       "\n",
       "    .dataframe tbody tr th {\n",
       "        vertical-align: top;\n",
       "    }\n",
       "\n",
       "    .dataframe thead th {\n",
       "        text-align: right;\n",
       "    }\n",
       "</style>\n",
       "<table border=\"1\" class=\"dataframe\">\n",
       "  <thead>\n",
       "    <tr style=\"text-align: right;\">\n",
       "      <th></th>\n",
       "      <th>mean_days</th>\n",
       "      <th>group0_cnt</th>\n",
       "      <th>group1_cnt</th>\n",
       "      <th>group2_cnt</th>\n",
       "      <th>group3_cnt</th>\n",
       "      <th>group4_cnt</th>\n",
       "      <th>group5_cnt</th>\n",
       "      <th>group6_cnt</th>\n",
       "      <th>group7_cnt</th>\n",
       "      <th>group8_cnt</th>\n",
       "      <th>...</th>\n",
       "      <th>group195_min</th>\n",
       "      <th>group196_min</th>\n",
       "      <th>group197_min</th>\n",
       "      <th>group198_min</th>\n",
       "      <th>group199_min</th>\n",
       "      <th>group200_min</th>\n",
       "      <th>group202_min</th>\n",
       "      <th>group203_min</th>\n",
       "      <th>amount_rur</th>\n",
       "      <th>bins</th>\n",
       "    </tr>\n",
       "    <tr>\n",
       "      <th>client_id</th>\n",
       "      <th></th>\n",
       "      <th></th>\n",
       "      <th></th>\n",
       "      <th></th>\n",
       "      <th></th>\n",
       "      <th></th>\n",
       "      <th></th>\n",
       "      <th></th>\n",
       "      <th></th>\n",
       "      <th></th>\n",
       "      <th></th>\n",
       "      <th></th>\n",
       "      <th></th>\n",
       "      <th></th>\n",
       "      <th></th>\n",
       "      <th></th>\n",
       "      <th></th>\n",
       "      <th></th>\n",
       "      <th></th>\n",
       "      <th></th>\n",
       "      <th></th>\n",
       "    </tr>\n",
       "  </thead>\n",
       "  <tbody>\n",
       "    <tr>\n",
       "      <th>24166.0</th>\n",
       "      <td>0.965563</td>\n",
       "      <td>0.0</td>\n",
       "      <td>0.018519</td>\n",
       "      <td>0.0</td>\n",
       "      <td>0.018519</td>\n",
       "      <td>0.048942</td>\n",
       "      <td>0.017196</td>\n",
       "      <td>0.01455</td>\n",
       "      <td>0.0</td>\n",
       "      <td>0.003968</td>\n",
       "      <td>...</td>\n",
       "      <td>0.0</td>\n",
       "      <td>0.0</td>\n",
       "      <td>0.0</td>\n",
       "      <td>0.0</td>\n",
       "      <td>0.0</td>\n",
       "      <td>0.0</td>\n",
       "      <td>0.0</td>\n",
       "      <td>0.0</td>\n",
       "      <td>6585.559082</td>\n",
       "      <td>1</td>\n",
       "    </tr>\n",
       "    <tr>\n",
       "      <th>45079.0</th>\n",
       "      <td>0.818976</td>\n",
       "      <td>0.0</td>\n",
       "      <td>0.000000</td>\n",
       "      <td>0.0</td>\n",
       "      <td>0.000000</td>\n",
       "      <td>0.000000</td>\n",
       "      <td>0.000000</td>\n",
       "      <td>0.00000</td>\n",
       "      <td>0.0</td>\n",
       "      <td>0.000000</td>\n",
       "      <td>...</td>\n",
       "      <td>0.0</td>\n",
       "      <td>0.0</td>\n",
       "      <td>0.0</td>\n",
       "      <td>0.0</td>\n",
       "      <td>0.0</td>\n",
       "      <td>0.0</td>\n",
       "      <td>0.0</td>\n",
       "      <td>0.0</td>\n",
       "      <td>6657.977051</td>\n",
       "      <td>0</td>\n",
       "    </tr>\n",
       "  </tbody>\n",
       "</table>\n",
       "<p>2 rows × 811 columns</p>\n",
       "</div>"
      ],
      "text/plain": [
       "           mean_days  group0_cnt  group1_cnt  group2_cnt  group3_cnt  \\\n",
       "client_id                                                              \n",
       "24166.0     0.965563         0.0    0.018519         0.0    0.018519   \n",
       "45079.0     0.818976         0.0    0.000000         0.0    0.000000   \n",
       "\n",
       "           group4_cnt  group5_cnt  group6_cnt  group7_cnt  group8_cnt  ...  \\\n",
       "client_id                                                              ...   \n",
       "24166.0      0.048942    0.017196     0.01455         0.0    0.003968  ...   \n",
       "45079.0      0.000000    0.000000     0.00000         0.0    0.000000  ...   \n",
       "\n",
       "           group195_min  group196_min  group197_min  group198_min  \\\n",
       "client_id                                                           \n",
       "24166.0             0.0           0.0           0.0           0.0   \n",
       "45079.0             0.0           0.0           0.0           0.0   \n",
       "\n",
       "           group199_min  group200_min  group202_min  group203_min  \\\n",
       "client_id                                                           \n",
       "24166.0             0.0           0.0           0.0           0.0   \n",
       "45079.0             0.0           0.0           0.0           0.0   \n",
       "\n",
       "            amount_rur  bins  \n",
       "client_id                     \n",
       "24166.0    6585.559082     1  \n",
       "45079.0    6657.977051     0  \n",
       "\n",
       "[2 rows x 811 columns]"
      ]
     },
     "execution_count": 178,
     "metadata": {},
     "output_type": "execute_result"
    }
   ],
   "source": [
    "client_df[client_df['amount_rur'] > 3000]"
   ]
  },
  {
   "cell_type": "code",
   "execution_count": 179,
   "id": "square-surgery",
   "metadata": {
    "ExecuteTime": {
     "end_time": "2021-04-26T14:08:35.918515Z",
     "start_time": "2021-04-26T14:08:35.912330Z"
    }
   },
   "outputs": [
    {
     "data": {
      "text/plain": [
       "client_id\n",
       "4.0        False\n",
       "6.0        False\n",
       "7.0        False\n",
       "10.0       False\n",
       "11.0       False\n",
       "           ...  \n",
       "49993.0    False\n",
       "49995.0    False\n",
       "49996.0    False\n",
       "49997.0    False\n",
       "49998.0    False\n",
       "Name: amount_rur, Length: 30000, dtype: bool"
      ]
     },
     "execution_count": 179,
     "metadata": {},
     "output_type": "execute_result"
    }
   ],
   "source": [
    "client_df['amount_rur'] > 3000"
   ]
  },
  {
   "cell_type": "markdown",
   "id": "intellectual-effectiveness",
   "metadata": {},
   "source": [
    "cluster clients based on their groups\n",
    "\n",
    "relative total spending in each group"
   ]
  },
  {
   "cell_type": "code",
   "execution_count": null,
   "id": "fabulous-sentence",
   "metadata": {},
   "outputs": [],
   "source": []
  }
 ],
 "metadata": {
  "kernelspec": {
   "display_name": "Python 3",
   "language": "python",
   "name": "python3"
  },
  "language_info": {
   "codemirror_mode": {
    "name": "ipython",
    "version": 3
   },
   "file_extension": ".py",
   "mimetype": "text/x-python",
   "name": "python",
   "nbconvert_exporter": "python",
   "pygments_lexer": "ipython3",
   "version": "3.8.6"
  },
  "toc": {
   "base_numbering": 1,
   "nav_menu": {},
   "number_sections": true,
   "sideBar": true,
   "skip_h1_title": true,
   "title_cell": "Table of Contents",
   "title_sidebar": "Contents",
   "toc_cell": true,
   "toc_position": {
    "height": "calc(100% - 180px)",
    "left": "10px",
    "top": "150px",
    "width": "384px"
   },
   "toc_section_display": true,
   "toc_window_display": true
  }
 },
 "nbformat": 4,
 "nbformat_minor": 5
}
