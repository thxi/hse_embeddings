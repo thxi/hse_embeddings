{
 "cells": [
  {
   "cell_type": "markdown",
   "metadata": {
    "toc": true
   },
   "source": [
    "<h1>Table of Contents<span class=\"tocSkip\"></span></h1>\n",
    "<div class=\"toc\"><ul class=\"toc-item\"><li><span><a href=\"#Dataloader\" data-toc-modified-id=\"Dataloader-1\"><span class=\"toc-item-num\">1&nbsp;&nbsp;</span>Dataloader</a></span></li></ul></div>"
   ]
  },
  {
   "cell_type": "markdown",
   "metadata": {
    "id": "RksiFIVKKhpJ"
   },
   "source": [
    "based on https://arxiv.org/pdf/2002.08232.pdf"
   ]
  },
  {
   "cell_type": "code",
   "execution_count": 1,
   "metadata": {
    "executionInfo": {
     "elapsed": 11172,
     "status": "ok",
     "timestamp": 1610889832828,
     "user": {
      "displayName": "Ilya",
      "photoUrl": "https://lh3.googleusercontent.com/a-/AOh14GgqMMWh-yu_Neff4SfMdF5-F8RTIn4IimUv7_Wu=s64",
      "userId": "18401577808228678959"
     },
     "user_tz": -180
    },
    "id": "lMde13VLDjiH"
   },
   "outputs": [],
   "source": [
    "!pip install pytorch-metric-learning > /dev/null\n",
    "\n",
    "# probably not needed\n",
    "# although can try knn\n",
    "!pip install faiss-gpu > /dev/null"
   ]
  },
  {
   "cell_type": "code",
   "execution_count": 2,
   "metadata": {
    "executionInfo": {
     "elapsed": 11998,
     "status": "ok",
     "timestamp": 1610889833656,
     "user": {
      "displayName": "Ilya",
      "photoUrl": "https://lh3.googleusercontent.com/a-/AOh14GgqMMWh-yu_Neff4SfMdF5-F8RTIn4IimUv7_Wu=s64",
      "userId": "18401577808228678959"
     },
     "user_tz": -180
    },
    "id": "thKgYQF3URYw"
   },
   "outputs": [],
   "source": [
    "import pandas as pd\n",
    "import numpy as np\n",
    "import matplotlib.pyplot as plt\n",
    "import seaborn as sns\n",
    "\n",
    "sns.set()\n",
    "\n",
    "sns.set_style(\"whitegrid\", {'axes.grid' : False})\n",
    "\n",
    "# from tqdm.notebook import tqdm\n",
    "from tqdm.auto import tqdm"
   ]
  },
  {
   "cell_type": "markdown",
   "metadata": {
    "id": "6TE8tM1jVt5a"
   },
   "source": [
    "# cuda"
   ]
  },
  {
   "cell_type": "code",
   "execution_count": 3,
   "metadata": {
    "colab": {
     "base_uri": "https://localhost:8080/"
    },
    "executionInfo": {
     "elapsed": 15425,
     "status": "ok",
     "timestamp": 1610889837085,
     "user": {
      "displayName": "Ilya",
      "photoUrl": "https://lh3.googleusercontent.com/a-/AOh14GgqMMWh-yu_Neff4SfMdF5-F8RTIn4IimUv7_Wu=s64",
      "userId": "18401577808228678959"
     },
     "user_tz": -180
    },
    "id": "UBFRCZowUWGt",
    "outputId": "2771f22c-678e-433c-8475-432153ec62fa"
   },
   "outputs": [
    {
     "data": {
      "text/plain": [
       "True"
      ]
     },
     "execution_count": 3,
     "metadata": {
      "tags": []
     },
     "output_type": "execute_result"
    }
   ],
   "source": [
    "import torch\n",
    "torch.cuda.is_available()"
   ]
  },
  {
   "cell_type": "code",
   "execution_count": 4,
   "metadata": {
    "colab": {
     "base_uri": "https://localhost:8080/"
    },
    "executionInfo": {
     "elapsed": 15425,
     "status": "ok",
     "timestamp": 1610889837086,
     "user": {
      "displayName": "Ilya",
      "photoUrl": "https://lh3.googleusercontent.com/a-/AOh14GgqMMWh-yu_Neff4SfMdF5-F8RTIn4IimUv7_Wu=s64",
      "userId": "18401577808228678959"
     },
     "user_tz": -180
    },
    "id": "Q-kXTk-bNPzx",
    "outputId": "7d0dd8e6-c486-48c6-f74e-9bbe690824d7"
   },
   "outputs": [
    {
     "name": "stdout",
     "output_type": "stream",
     "text": [
      "cuda:0\n"
     ]
    }
   ],
   "source": [
    "device = torch.device(\"cuda:0\" if torch.cuda.is_available() else \"cpu\")\n",
    "\n",
    "# Assuming that we are on a CUDA machine, this should print a CUDA device:\n",
    "\n",
    "print(device)"
   ]
  },
  {
   "cell_type": "markdown",
   "metadata": {
    "id": "-_RBRZ19P7qm"
   },
   "source": [
    "# Data"
   ]
  },
  {
   "cell_type": "code",
   "execution_count": 5,
   "metadata": {
    "executionInfo": {
     "elapsed": 15424,
     "status": "ok",
     "timestamp": 1610889837086,
     "user": {
      "displayName": "Ilya",
      "photoUrl": "https://lh3.googleusercontent.com/a-/AOh14GgqMMWh-yu_Neff4SfMdF5-F8RTIn4IimUv7_Wu=s64",
      "userId": "18401577808228678959"
     },
     "user_tz": -180
    },
    "id": "IRcnhYxEQuBx"
   },
   "outputs": [],
   "source": [
    "from pathlib import Path"
   ]
  },
  {
   "cell_type": "code",
   "execution_count": 6,
   "metadata": {
    "colab": {
     "base_uri": "https://localhost:8080/"
    },
    "executionInfo": {
     "elapsed": 36636,
     "status": "ok",
     "timestamp": 1610889858300,
     "user": {
      "displayName": "Ilya",
      "photoUrl": "https://lh3.googleusercontent.com/a-/AOh14GgqMMWh-yu_Neff4SfMdF5-F8RTIn4IimUv7_Wu=s64",
      "userId": "18401577808228678959"
     },
     "user_tz": -180
    },
    "id": "ETgz1ywNBx-v",
    "outputId": "8424db77-6533-4e42-a2ec-327c972462e9"
   },
   "outputs": [
    {
     "name": "stdout",
     "output_type": "stream",
     "text": [
      "Mounted at /content/gdrive\n"
     ]
    }
   ],
   "source": [
    "from google.colab import drive\n",
    "\n",
    "drive.mount('/content/gdrive')"
   ]
  },
  {
   "cell_type": "code",
   "execution_count": 7,
   "metadata": {
    "executionInfo": {
     "elapsed": 36636,
     "status": "ok",
     "timestamp": 1610889858301,
     "user": {
      "displayName": "Ilya",
      "photoUrl": "https://lh3.googleusercontent.com/a-/AOh14GgqMMWh-yu_Neff4SfMdF5-F8RTIn4IimUv7_Wu=s64",
      "userId": "18401577808228678959"
     },
     "user_tz": -180
    },
    "id": "hMUa0BOyCfI8"
   },
   "outputs": [],
   "source": [
    "data_path = Path('/content/gdrive/MyDrive/courses/hse/third year/project/data age group/data.zip')"
   ]
  },
  {
   "cell_type": "code",
   "execution_count": 8,
   "metadata": {
    "executionInfo": {
     "elapsed": 39866,
     "status": "ok",
     "timestamp": 1610889861532,
     "user": {
      "displayName": "Ilya",
      "photoUrl": "https://lh3.googleusercontent.com/a-/AOh14GgqMMWh-yu_Neff4SfMdF5-F8RTIn4IimUv7_Wu=s64",
      "userId": "18401577808228678959"
     },
     "user_tz": -180
    },
    "id": "QSxCnraxCi9X"
   },
   "outputs": [],
   "source": [
    "! cp '{data_path}' ."
   ]
  },
  {
   "cell_type": "code",
   "execution_count": 9,
   "metadata": {
    "colab": {
     "base_uri": "https://localhost:8080/"
    },
    "executionInfo": {
     "elapsed": 39865,
     "status": "ok",
     "timestamp": 1610889861532,
     "user": {
      "displayName": "Ilya",
      "photoUrl": "https://lh3.googleusercontent.com/a-/AOh14GgqMMWh-yu_Neff4SfMdF5-F8RTIn4IimUv7_Wu=s64",
      "userId": "18401577808228678959"
     },
     "user_tz": -180
    },
    "id": "D-TlYkdLQxsz",
    "outputId": "3dfb6d69-0356-4683-c7a7-0471b66ff161"
   },
   "outputs": [
    {
     "name": "stdout",
     "output_type": "stream",
     "text": [
      "data.zip  gdrive  sample_data\n"
     ]
    }
   ],
   "source": [
    "!ls"
   ]
  },
  {
   "cell_type": "code",
   "execution_count": 10,
   "metadata": {
    "colab": {
     "base_uri": "https://localhost:8080/"
    },
    "executionInfo": {
     "elapsed": 48004,
     "status": "ok",
     "timestamp": 1610889869673,
     "user": {
      "displayName": "Ilya",
      "photoUrl": "https://lh3.googleusercontent.com/a-/AOh14GgqMMWh-yu_Neff4SfMdF5-F8RTIn4IimUv7_Wu=s64",
      "userId": "18401577808228678959"
     },
     "user_tz": -180
    },
    "id": "Of_cJy18CuLo",
    "outputId": "0b009f3a-583a-4e57-90ca-d6376797585d"
   },
   "outputs": [
    {
     "name": "stdout",
     "output_type": "stream",
     "text": [
      "Archive:  data.zip\n",
      "   creating: data/\n",
      "  inflating: data/test.csv           \n",
      "   creating: __MACOSX/\n",
      "   creating: __MACOSX/data/\n",
      "  inflating: __MACOSX/data/._test.csv  \n",
      "  inflating: data/small_group_description.csv  \n",
      "  inflating: __MACOSX/data/._small_group_description.csv  \n",
      "  inflating: data/train_target.csv   \n",
      "  inflating: __MACOSX/data/._train_target.csv  \n",
      "  inflating: data/transactions_train.csv  \n",
      "  inflating: __MACOSX/data/._transactions_train.csv  \n",
      "  inflating: data/transactions_test.csv  \n",
      "  inflating: __MACOSX/data/._transactions_test.csv  \n"
     ]
    }
   ],
   "source": [
    "!unzip data.zip"
   ]
  },
  {
   "cell_type": "markdown",
   "metadata": {
    "id": "XxC2OnRGNjfh"
   },
   "source": [
    "## Dataloader"
   ]
  },
  {
   "cell_type": "code",
   "execution_count": 11,
   "metadata": {
    "executionInfo": {
     "elapsed": 48004,
     "status": "ok",
     "timestamp": 1610889869674,
     "user": {
      "displayName": "Ilya",
      "photoUrl": "https://lh3.googleusercontent.com/a-/AOh14GgqMMWh-yu_Neff4SfMdF5-F8RTIn4IimUv7_Wu=s64",
      "userId": "18401577808228678959"
     },
     "user_tz": -180
    },
    "id": "Bo2W99FK8NGQ"
   },
   "outputs": [],
   "source": [
    "import torch"
   ]
  },
  {
   "cell_type": "code",
   "execution_count": 12,
   "metadata": {
    "executionInfo": {
     "elapsed": 48003,
     "status": "ok",
     "timestamp": 1610889869674,
     "user": {
      "displayName": "Ilya",
      "photoUrl": "https://lh3.googleusercontent.com/a-/AOh14GgqMMWh-yu_Neff4SfMdF5-F8RTIn4IimUv7_Wu=s64",
      "userId": "18401577808228678959"
     },
     "user_tz": -180
    },
    "id": "cladcboQMnou"
   },
   "outputs": [],
   "source": [
    "def normalize(col):\n",
    "    return (col - col.mean())/col.std()\n",
    "\n",
    "def process_transactions(df):\n",
    "    df = df.copy()\n",
    "    df['weekday'] = df['trans_date'] % 7\n",
    "    df.drop(['trans_date'], axis=1, inplace=True)\n",
    "    for c in ['amount_rur', 'small_group', 'weekday']:\n",
    "        df[c] = normalize(df[c])\n",
    "    return df"
   ]
  },
  {
   "cell_type": "code",
   "execution_count": 13,
   "metadata": {
    "executionInfo": {
     "elapsed": 48589,
     "status": "ok",
     "timestamp": 1610889870262,
     "user": {
      "displayName": "Ilya",
      "photoUrl": "https://lh3.googleusercontent.com/a-/AOh14GgqMMWh-yu_Neff4SfMdF5-F8RTIn4IimUv7_Wu=s64",
      "userId": "18401577808228678959"
     },
     "user_tz": -180
    },
    "id": "GmjoA97S5JX9"
   },
   "outputs": [],
   "source": [
    "import cv2\n",
    "import os\n",
    "from pathlib import Path"
   ]
  },
  {
   "cell_type": "code",
   "execution_count": 14,
   "metadata": {
    "executionInfo": {
     "elapsed": 48589,
     "status": "ok",
     "timestamp": 1610889870263,
     "user": {
      "displayName": "Ilya",
      "photoUrl": "https://lh3.googleusercontent.com/a-/AOh14GgqMMWh-yu_Neff4SfMdF5-F8RTIn4IimUv7_Wu=s64",
      "userId": "18401577808228678959"
     },
     "user_tz": -180
    },
    "id": "lx7_KZ1m5JX-"
   },
   "outputs": [],
   "source": [
    "NUM_OF_SUBSEQUENCES = 5 # number of sequences per person\n",
    "SUBSEQUENCE_LENGTH = 90 # should be random??? mean number of transactions per sample is 90\n",
    "\n",
    "class AgeDataset(torch.utils.data.Dataset):\n",
    "    def __init__(self, root=Path('./data/')):\n",
    "        super().__init__()\n",
    "        raw_df = pd.read_csv(root/'transactions_train.csv')\n",
    "        raw_df = raw_df.head(2000000) # testing\n",
    "        self.df = process_transactions(raw_df)\n",
    "\n",
    "        target_df = pd.read_csv(root/'train_target.csv')\n",
    "        self.target_df = target_df\n",
    "\n",
    "        self.clients = self.df['client_id'].unique()\n",
    "\n",
    "        client_to_seq = {}\n",
    "        # build client_to_sequence\n",
    "        print(\"building client to sequence\")\n",
    "        for c in tqdm(self.clients):\n",
    "            sequence = self.get_sequence(c)\n",
    "            client_to_seq[c] = sequence\n",
    "        self.client_to_seq = client_to_seq\n",
    "\n",
    "    def __getitem__(self, idx: int):\n",
    "        # output shape: (NUM_OF_SUBSEQUENCES x SUBSEQUENCE_LENGTH x 3, client_id)\n",
    "        # idx = client_id\n",
    "        # should select N sequences during batch\n",
    "        # for each N produce K subsequences\n",
    "\n",
    "        client_id = self.clients[idx]\n",
    "        sequence = self.client_to_seq[client_id]\n",
    "\n",
    "        subsequences = torch.zeros((NUM_OF_SUBSEQUENCES, SUBSEQUENCE_LENGTH, 3))\n",
    "        seq_len = len(sequence)\n",
    "        for i in range(NUM_OF_SUBSEQUENCES):\n",
    "            start_index = np.random.randint(0, seq_len-SUBSEQUENCE_LENGTH+1)\n",
    "            end_index = start_index + SUBSEQUENCE_LENGTH\n",
    "            subseq = torch.from_numpy(sequence[start_index:end_index])\n",
    "            subsequences[i] = subseq\n",
    "\n",
    "        return subsequences, client_id\n",
    "\n",
    "    def __len__(self):\n",
    "        return len(self.clients)\n",
    "    \n",
    "\n",
    "    def get_sequence(self, client_id):\n",
    "        sequence = self.df[self.df['client_id'] == client_id]\n",
    "        sequence = sequence.drop(['client_id'], axis=1)\n",
    "        sequence = sequence.to_numpy()\n",
    "        return sequence"
   ]
  },
  {
   "cell_type": "markdown",
   "metadata": {
    "id": "MhXjo4Rjl-JV"
   },
   "source": [
    "# Net"
   ]
  },
  {
   "cell_type": "markdown",
   "metadata": {
    "id": "Oj1aJazjlb_o"
   },
   "source": [
    "https://arxiv.org/pdf/1911.02496.pdf"
   ]
  },
  {
   "cell_type": "code",
   "execution_count": 15,
   "metadata": {
    "executionInfo": {
     "elapsed": 48588,
     "status": "ok",
     "timestamp": 1610889870263,
     "user": {
      "displayName": "Ilya",
      "photoUrl": "https://lh3.googleusercontent.com/a-/AOh14GgqMMWh-yu_Neff4SfMdF5-F8RTIn4IimUv7_Wu=s64",
      "userId": "18401577808228678959"
     },
     "user_tz": -180
    },
    "id": "CsXGNkxe7V7N"
   },
   "outputs": [],
   "source": [
    "import torch.nn as nn\n",
    "import torch.nn.functional as F\n",
    "import torch.optim as optim"
   ]
  },
  {
   "cell_type": "code",
   "execution_count": 16,
   "metadata": {
    "executionInfo": {
     "elapsed": 48587,
     "status": "ok",
     "timestamp": 1610889870263,
     "user": {
      "displayName": "Ilya",
      "photoUrl": "https://lh3.googleusercontent.com/a-/AOh14GgqMMWh-yu_Neff4SfMdF5-F8RTIn4IimUv7_Wu=s64",
      "userId": "18401577808228678959"
     },
     "user_tz": -180
    },
    "id": "HqAw1J9Mjk0J"
   },
   "outputs": [],
   "source": [
    "class Encoder(nn.Module):\n",
    "    def __init__(self, input_dim, embedding_dim):\n",
    "        super(Encoder, self).__init__()\n",
    "        self.input_dim = input_dim\n",
    "        self.embedding_dim = embedding_dim\n",
    "\n",
    "        self.event_encoder = nn.Sequential(\n",
    "            nn.Linear(input_dim, 24),\n",
    "            nn.Sigmoid(),\n",
    "            nn.BatchNorm1d(24),\n",
    "            nn.Linear(24, 24),\n",
    "            nn.Sigmoid(),\n",
    "            nn.BatchNorm1d(24),\n",
    "            nn.Linear(24, embedding_dim),\n",
    "            nn.Sigmoid(),\n",
    "        )\n",
    "\n",
    "        # receives \n",
    "        self.sequence_encoder = nn.Sequential(\n",
    "            nn.LSTM(embedding_dim, embedding_dim, batch_first=False)\n",
    "        )\n",
    "\n",
    "\n",
    "    def forward(self, x):\n",
    "        # receives BATCH_SIZE*NUM_OF_SEQUENCES*SUBSEQUENCE_LENGTH*input_dim\n",
    "        x = x.view(-1, self.input_dim)\n",
    "        x = self.event_encoder(x)\n",
    "        x = x.view(-1, SUBSEQUENCE_LENGTH, self.embedding_dim)\n",
    "\n",
    "        # receives BATCH_SIZE*SUBSEQUENCE_LENGTH*embedding_dim\n",
    "        x = torch.transpose(x, 0, 1) # so that its (seq_len, batch, input_size)\n",
    "        x = self.sequence_encoder(x)[0][0]\n",
    "\n",
    "        return x"
   ]
  },
  {
   "cell_type": "markdown",
   "metadata": {
    "id": "fkHW7YKHnpCR"
   },
   "source": [
    "# Train embedding"
   ]
  },
  {
   "cell_type": "code",
   "execution_count": 17,
   "metadata": {
    "executionInfo": {
     "elapsed": 48882,
     "status": "ok",
     "timestamp": 1610889870559,
     "user": {
      "displayName": "Ilya",
      "photoUrl": "https://lh3.googleusercontent.com/a-/AOh14GgqMMWh-yu_Neff4SfMdF5-F8RTIn4IimUv7_Wu=s64",
      "userId": "18401577808228678959"
     },
     "user_tz": -180
    },
    "id": "P_mLsoBGt4QY"
   },
   "outputs": [],
   "source": [
    "from pytorch_metric_learning import losses, miners, distances, reducers, samplers"
   ]
  },
  {
   "cell_type": "code",
   "execution_count": 18,
   "metadata": {
    "executionInfo": {
     "elapsed": 48880,
     "status": "ok",
     "timestamp": 1610889870559,
     "user": {
      "displayName": "Ilya",
      "photoUrl": "https://lh3.googleusercontent.com/a-/AOh14GgqMMWh-yu_Neff4SfMdF5-F8RTIn4IimUv7_Wu=s64",
      "userId": "18401577808228678959"
     },
     "user_tz": -180
    },
    "id": "pm80PCIl79LE"
   },
   "outputs": [],
   "source": [
    "BATCH_SIZE = 64 # 64 unique persons\n",
    "SAMPLES_PER_CLASS = 1 # drawing 64 classes per batch\n",
    "\n",
    "EMBEDDING_DIM = 32\n",
    "LR = 0.002\n",
    "NUM_EPOCHS = 150"
   ]
  },
  {
   "cell_type": "code",
   "execution_count": 19,
   "metadata": {
    "colab": {
     "base_uri": "https://localhost:8080/",
     "height": 85,
     "referenced_widgets": [
      "d3d5ff14d00e40a9b658fbe843e78084",
      "35447ab14e9443318ef3fb8c6c9bde40",
      "ba45ce3c96df46959e87b4efcea7bf3a",
      "506bba59cf5c473abbf0eb972cad6a8c",
      "4f7d09032c92453da6433a07f97d6a64",
      "1e61f70cd5a74c3fae11f543c6161377",
      "e5d48c4808514295b38929b26bc86bf6",
      "5d00935480a748469969c039e2d48be3"
     ]
    },
    "executionInfo": {
     "elapsed": 62969,
     "status": "ok",
     "timestamp": 1610889884649,
     "user": {
      "displayName": "Ilya",
      "photoUrl": "https://lh3.googleusercontent.com/a-/AOh14GgqMMWh-yu_Neff4SfMdF5-F8RTIn4IimUv7_Wu=s64",
      "userId": "18401577808228678959"
     },
     "user_tz": -180
    },
    "id": "GYYj4IyZdrtg",
    "outputId": "2caf69d0-721b-4b7a-d6f3-d3f92e94302e"
   },
   "outputs": [
    {
     "name": "stdout",
     "output_type": "stream",
     "text": [
      "building client to sequence\n"
     ]
    },
    {
     "data": {
      "application/vnd.jupyter.widget-view+json": {
       "model_id": "d3d5ff14d00e40a9b658fbe843e78084",
       "version_major": 2,
       "version_minor": 0
      },
      "text/plain": [
       "HBox(children=(FloatProgress(value=0.0, max=2292.0), HTML(value='')))"
      ]
     },
     "metadata": {
      "tags": []
     },
     "output_type": "display_data"
    },
    {
     "name": "stdout",
     "output_type": "stream",
     "text": [
      "\n"
     ]
    }
   ],
   "source": [
    "dataset = AgeDataset()"
   ]
  },
  {
   "cell_type": "code",
   "execution_count": 20,
   "metadata": {
    "executionInfo": {
     "elapsed": 62968,
     "status": "ok",
     "timestamp": 1610889884649,
     "user": {
      "displayName": "Ilya",
      "photoUrl": "https://lh3.googleusercontent.com/a-/AOh14GgqMMWh-yu_Neff4SfMdF5-F8RTIn4IimUv7_Wu=s64",
      "userId": "18401577808228678959"
     },
     "user_tz": -180
    },
    "id": "XB6H3g74Nflk"
   },
   "outputs": [],
   "source": [
    "targets = dataset.clients"
   ]
  },
  {
   "cell_type": "code",
   "execution_count": 21,
   "metadata": {
    "executionInfo": {
     "elapsed": 62967,
     "status": "ok",
     "timestamp": 1610889884649,
     "user": {
      "displayName": "Ilya",
      "photoUrl": "https://lh3.googleusercontent.com/a-/AOh14GgqMMWh-yu_Neff4SfMdF5-F8RTIn4IimUv7_Wu=s64",
      "userId": "18401577808228678959"
     },
     "user_tz": -180
    },
    "id": "DQfIOu14uO9m"
   },
   "outputs": [],
   "source": [
    "sampler = samplers.MPerClassSampler(targets, SAMPLES_PER_CLASS, batch_size=BATCH_SIZE, length_before_new_iter=BATCH_SIZE * 100) # 100 batches per epoch"
   ]
  },
  {
   "cell_type": "code",
   "execution_count": 22,
   "metadata": {
    "executionInfo": {
     "elapsed": 62966,
     "status": "ok",
     "timestamp": 1610889884650,
     "user": {
      "displayName": "Ilya",
      "photoUrl": "https://lh3.googleusercontent.com/a-/AOh14GgqMMWh-yu_Neff4SfMdF5-F8RTIn4IimUv7_Wu=s64",
      "userId": "18401577808228678959"
     },
     "user_tz": -180
    },
    "id": "2W-DuPoHuACu"
   },
   "outputs": [],
   "source": [
    "dataloader = torch.utils.data.DataLoader(\n",
    "    dataset, batch_size=BATCH_SIZE,\n",
    "    num_workers=0,\n",
    "    sampler=sampler,\n",
    ")"
   ]
  },
  {
   "cell_type": "code",
   "execution_count": 23,
   "metadata": {
    "colab": {
     "base_uri": "https://localhost:8080/"
    },
    "executionInfo": {
     "elapsed": 63269,
     "status": "ok",
     "timestamp": 1610889884955,
     "user": {
      "displayName": "Ilya",
      "photoUrl": "https://lh3.googleusercontent.com/a-/AOh14GgqMMWh-yu_Neff4SfMdF5-F8RTIn4IimUv7_Wu=s64",
      "userId": "18401577808228678959"
     },
     "user_tz": -180
    },
    "id": "2d3Qdc-J3DSY",
    "outputId": "35fd87e8-0d67-4f57-8d19-2d2f4f545b98"
   },
   "outputs": [
    {
     "data": {
      "text/plain": [
       "torch.Size([64, 5, 90, 3])"
      ]
     },
     "execution_count": 23,
     "metadata": {
      "tags": []
     },
     "output_type": "execute_result"
    }
   ],
   "source": [
    "# check\n",
    "dataiter = iter(dataloader)\n",
    "sequences, labels = dataiter.next()\n",
    "\n",
    "# should be BATCH_SIZExNUM_OF_SEQUNCESxSUBSEQUENCE_LENGTHx(num_features)\n",
    "sequences.shape"
   ]
  },
  {
   "cell_type": "code",
   "execution_count": 24,
   "metadata": {
    "executionInfo": {
     "elapsed": 73539,
     "status": "ok",
     "timestamp": 1610889895226,
     "user": {
      "displayName": "Ilya",
      "photoUrl": "https://lh3.googleusercontent.com/a-/AOh14GgqMMWh-yu_Neff4SfMdF5-F8RTIn4IimUv7_Wu=s64",
      "userId": "18401577808228678959"
     },
     "user_tz": -180
    },
    "id": "AZBeoMARzDpJ"
   },
   "outputs": [],
   "source": [
    "encoder = Encoder(3, embedding_dim=EMBEDDING_DIM)\n",
    "encoder.to(device);"
   ]
  },
  {
   "cell_type": "code",
   "execution_count": 25,
   "metadata": {
    "executionInfo": {
     "elapsed": 73538,
     "status": "ok",
     "timestamp": 1610889895226,
     "user": {
      "displayName": "Ilya",
      "photoUrl": "https://lh3.googleusercontent.com/a-/AOh14GgqMMWh-yu_Neff4SfMdF5-F8RTIn4IimUv7_Wu=s64",
      "userId": "18401577808228678959"
     },
     "user_tz": -180
    },
    "id": "8YuKXKv_zEX3"
   },
   "outputs": [],
   "source": [
    "optimizer = optim.Adam(encoder.parameters(), lr=LR)"
   ]
  },
  {
   "cell_type": "code",
   "execution_count": 26,
   "metadata": {
    "executionInfo": {
     "elapsed": 73538,
     "status": "ok",
     "timestamp": 1610889895227,
     "user": {
      "displayName": "Ilya",
      "photoUrl": "https://lh3.googleusercontent.com/a-/AOh14GgqMMWh-yu_Neff4SfMdF5-F8RTIn4IimUv7_Wu=s64",
      "userId": "18401577808228678959"
     },
     "user_tz": -180
    },
    "id": "KzpMLdIMyUWp"
   },
   "outputs": [],
   "source": [
    "distance = distances.CosineSimilarity()\n",
    "reducer = reducers.ThresholdReducer(low = 0)\n",
    "loss_func = losses.TripletMarginLoss(margin = 0.4, distance = distance, reducer = reducer)\n",
    "mining_func = miners.TripletMarginMiner(margin = 0.4, distance = distance, type_of_triplets = \"semihard\")"
   ]
  },
  {
   "cell_type": "code",
   "execution_count": 27,
   "metadata": {
    "colab": {
     "base_uri": "https://localhost:8080/",
     "height": 1000,
     "referenced_widgets": [
      "f81aff1cf9664037ae99b68efac8f38e",
      "167fa7cd4a364a2088134de06d317a59",
      "0fdffcdfe405467bbf01906e8e3a82f0",
      "07e9687060054a0dbd60ae72c70ef7af",
      "6459f340198c4f87805f7289895b91e5",
      "2f5fcf77a1b446478201634ea541bd60",
      "0a567937113a466ca9b46f0e239d827f",
      "eeed92c33ff14f0f9b99ac1b10d4cb62"
     ]
    },
    "executionInfo": {
     "elapsed": 419163,
     "status": "ok",
     "timestamp": 1610890240854,
     "user": {
      "displayName": "Ilya",
      "photoUrl": "https://lh3.googleusercontent.com/a-/AOh14GgqMMWh-yu_Neff4SfMdF5-F8RTIn4IimUv7_Wu=s64",
      "userId": "18401577808228678959"
     },
     "user_tz": -180
    },
    "id": "-UX0iDalo6_G",
    "outputId": "d266ba7e-7d7e-4b5d-c70f-33c0f6237885"
   },
   "outputs": [
    {
     "data": {
      "application/vnd.jupyter.widget-view+json": {
       "model_id": "f81aff1cf9664037ae99b68efac8f38e",
       "version_major": 2,
       "version_minor": 0
      },
      "text/plain": [
       "HBox(children=(FloatProgress(value=0.0, max=150.0), HTML(value='')))"
      ]
     },
     "metadata": {
      "tags": []
     },
     "output_type": "display_data"
    },
    {
     "name": "stdout",
     "output_type": "stream",
     "text": [
      "Epoch 0 Loss = 0.22396230697631836\n",
      "Epoch 1 Loss = 0.2269313484430313\n",
      "Epoch 2 Loss = 0.22890253365039825\n",
      "Epoch 3 Loss = 0.22736293077468872\n",
      "Epoch 4 Loss = 0.22982054948806763\n",
      "Epoch 5 Loss = 0.22959378361701965\n",
      "Epoch 6 Loss = 0.2292843759059906\n",
      "Epoch 7 Loss = 0.22917674481868744\n",
      "Epoch 8 Loss = 0.22767266631126404\n",
      "Epoch 9 Loss = 0.22618207335472107\n",
      "Epoch 10 Loss = 0.22538763284683228\n",
      "Epoch 11 Loss = 0.22381441295146942\n",
      "Epoch 12 Loss = 0.2183837890625\n",
      "Epoch 13 Loss = 0.22646164894104004\n",
      "Epoch 14 Loss = 0.21862339973449707\n",
      "Epoch 15 Loss = 0.219980850815773\n",
      "Epoch 16 Loss = 0.21996517479419708\n",
      "Epoch 17 Loss = 0.21875426173210144\n",
      "Epoch 18 Loss = 0.22144804894924164\n",
      "Epoch 19 Loss = 0.22289039194583893\n",
      "Epoch 20 Loss = 0.2187654823064804\n",
      "Epoch 21 Loss = 0.22296865284442902\n",
      "Epoch 22 Loss = 0.22091491520404816\n",
      "Epoch 23 Loss = 0.21482014656066895\n",
      "Epoch 24 Loss = 0.2198544293642044\n",
      "Epoch 25 Loss = 0.21616433560848236\n",
      "Epoch 26 Loss = 0.2170671820640564\n",
      "Epoch 27 Loss = 0.21939699351787567\n",
      "Epoch 28 Loss = 0.21912921965122223\n",
      "Epoch 29 Loss = 0.21742478013038635\n",
      "Epoch 30 Loss = 0.2188824713230133\n",
      "Epoch 31 Loss = 0.21799717843532562\n",
      "Epoch 32 Loss = 0.21782982349395752\n",
      "Epoch 33 Loss = 0.21513818204402924\n",
      "Epoch 34 Loss = 0.219624325633049\n",
      "Epoch 35 Loss = 0.21444101631641388\n",
      "Epoch 36 Loss = 0.21579620242118835\n",
      "Epoch 37 Loss = 0.21443113684654236\n",
      "Epoch 38 Loss = 0.213592991232872\n",
      "Epoch 39 Loss = 0.2149595469236374\n",
      "Epoch 40 Loss = 0.21498271822929382\n",
      "Epoch 41 Loss = 0.2182559221982956\n",
      "Epoch 42 Loss = 0.21447427570819855\n",
      "Epoch 43 Loss = 0.21395322680473328\n",
      "Epoch 44 Loss = 0.21443991363048553\n",
      "Epoch 45 Loss = 0.21482491493225098\n",
      "Epoch 46 Loss = 0.2124098390340805\n",
      "Epoch 47 Loss = 0.21519044041633606\n",
      "Epoch 48 Loss = 0.21475178003311157\n",
      "Epoch 49 Loss = 0.21423117816448212\n",
      "Epoch 50 Loss = 0.21593771874904633\n",
      "Epoch 51 Loss = 0.21420155465602875\n",
      "Epoch 52 Loss = 0.2149640917778015\n",
      "Epoch 53 Loss = 0.21625392138957977\n",
      "Epoch 54 Loss = 0.21775111556053162\n",
      "Epoch 55 Loss = 0.2141679972410202\n",
      "Epoch 56 Loss = 0.2142665833234787\n",
      "Epoch 57 Loss = 0.21414543688297272\n",
      "Epoch 58 Loss = 0.21254266798496246\n",
      "Epoch 59 Loss = 0.21654720604419708\n",
      "Epoch 60 Loss = 0.2168418914079666\n",
      "Epoch 61 Loss = 0.2215382605791092\n",
      "Epoch 62 Loss = 0.2169497162103653\n",
      "Epoch 63 Loss = 0.2130737453699112\n",
      "Epoch 64 Loss = 0.2122010886669159\n",
      "Epoch 65 Loss = 0.21374979615211487\n",
      "Epoch 66 Loss = 0.21645839512348175\n",
      "Epoch 67 Loss = 0.21407312154769897\n",
      "Epoch 68 Loss = 0.21638984978199005\n",
      "Epoch 69 Loss = 0.21384640038013458\n",
      "Epoch 70 Loss = 0.21576353907585144\n",
      "Epoch 71 Loss = 0.21301423013210297\n",
      "Epoch 72 Loss = 0.21370671689510345\n",
      "Epoch 73 Loss = 0.21474415063858032\n",
      "Epoch 74 Loss = 0.2147361934185028\n",
      "Epoch 75 Loss = 0.2160830944776535\n",
      "Epoch 76 Loss = 0.21567177772521973\n",
      "Epoch 77 Loss = 0.21370550990104675\n",
      "Epoch 78 Loss = 0.21684010326862335\n",
      "Epoch 79 Loss = 0.2138904333114624\n",
      "Epoch 80 Loss = 0.21352803707122803\n",
      "Epoch 81 Loss = 0.21523836255073547\n",
      "Epoch 82 Loss = 0.21504202485084534\n",
      "Epoch 83 Loss = 0.21551315486431122\n",
      "Epoch 84 Loss = 0.21442431211471558\n",
      "Epoch 85 Loss = 0.2154901921749115\n",
      "Epoch 86 Loss = 0.21491341292858124\n",
      "Epoch 87 Loss = 0.21198329329490662\n",
      "Epoch 88 Loss = 0.21342621743679047\n",
      "Epoch 89 Loss = 0.21342580020427704\n",
      "Epoch 90 Loss = 0.2157239317893982\n",
      "Epoch 91 Loss = 0.21489058434963226\n",
      "Epoch 92 Loss = 0.21612237393856049\n",
      "Epoch 93 Loss = 0.21606475114822388\n",
      "Epoch 94 Loss = 0.210966095328331\n",
      "Epoch 95 Loss = 0.2106887698173523\n",
      "Epoch 96 Loss = 0.2131280153989792\n",
      "Epoch 97 Loss = 0.2120932787656784\n",
      "Epoch 98 Loss = 0.21035295724868774\n",
      "Epoch 99 Loss = 0.21383024752140045\n",
      "Epoch 100 Loss = 0.21269243955612183\n",
      "Epoch 101 Loss = 0.211227685213089\n",
      "Epoch 102 Loss = 0.21342119574546814\n",
      "Epoch 103 Loss = 0.21353432536125183\n",
      "Epoch 104 Loss = 0.21381421387195587\n",
      "Epoch 105 Loss = 0.21272055804729462\n",
      "Epoch 106 Loss = 0.2155655473470688\n",
      "Epoch 107 Loss = 0.21253971755504608\n",
      "Epoch 108 Loss = 0.2118440717458725\n",
      "Epoch 109 Loss = 0.2113213688135147\n",
      "Epoch 110 Loss = 0.21586871147155762\n",
      "Epoch 111 Loss = 0.21212592720985413\n",
      "Epoch 112 Loss = 0.21468614041805267\n",
      "Epoch 113 Loss = 0.2123636156320572\n",
      "Epoch 114 Loss = 0.2128032147884369\n",
      "Epoch 115 Loss = 0.21284030377864838\n",
      "Epoch 116 Loss = 0.21395841240882874\n",
      "Epoch 117 Loss = 0.21146823465824127\n",
      "Epoch 118 Loss = 0.21264038980007172\n",
      "Epoch 119 Loss = 0.21371228992938995\n",
      "Epoch 120 Loss = 0.210992693901062\n",
      "Epoch 121 Loss = 0.21358588337898254\n",
      "Epoch 122 Loss = 0.2113994061946869\n",
      "Epoch 123 Loss = 0.21216899156570435\n",
      "Epoch 124 Loss = 0.21214497089385986\n",
      "Epoch 125 Loss = 0.21065130829811096\n",
      "Epoch 126 Loss = 0.21497656404972076\n",
      "Epoch 127 Loss = 0.21453966200351715\n",
      "Epoch 128 Loss = 0.2120244801044464\n",
      "Epoch 129 Loss = 0.21630354225635529\n",
      "Epoch 130 Loss = 0.21300561726093292\n",
      "Epoch 131 Loss = 0.2127704620361328\n",
      "Epoch 132 Loss = 0.20886079967021942\n",
      "Epoch 133 Loss = 0.2129802256822586\n",
      "Epoch 134 Loss = 0.21448694169521332\n",
      "Epoch 135 Loss = 0.21313384175300598\n",
      "Epoch 136 Loss = 0.21091249585151672\n",
      "Epoch 137 Loss = 0.21361324191093445\n",
      "Epoch 138 Loss = 0.2166062593460083\n",
      "Epoch 139 Loss = 0.21233448386192322\n",
      "Epoch 140 Loss = 0.21329885721206665\n",
      "Epoch 141 Loss = 0.21556125581264496\n",
      "Epoch 142 Loss = 0.21184681355953217\n",
      "Epoch 143 Loss = 0.21190589666366577\n",
      "Epoch 144 Loss = 0.21067413687705994\n",
      "Epoch 145 Loss = 0.21472303569316864\n",
      "Epoch 146 Loss = 0.2121792882680893\n",
      "Epoch 147 Loss = 0.21599027514457703\n",
      "Epoch 148 Loss = 0.21303360164165497\n",
      "Epoch 149 Loss = 0.21302221715450287\n",
      "\n"
     ]
    }
   ],
   "source": [
    "encoder.train()\n",
    "\n",
    "for epoch in tqdm(range(NUM_EPOCHS)):\n",
    "    for batch_idx, (sequences, labels) in enumerate(dataloader):\n",
    "        data, labels = sequences.to(device), labels.to(device)\n",
    "\n",
    "        labels = torch.repeat_interleave(labels, NUM_OF_SUBSEQUENCES)\n",
    "\n",
    "        embeddings = encoder(data)\n",
    "        indices_tuple = mining_func(embeddings, labels)\n",
    "        loss = loss_func(embeddings, labels, indices_tuple)\n",
    "\n",
    "        optimizer.zero_grad()\n",
    "        loss.backward()\n",
    "        optimizer.step()\n",
    "\n",
    "        # if batch_idx % 50 == 0:\n",
    "        #     print(\"Epoch {} Iteration {}: Loss = {}, Number of mined triplets = {}\".format(epoch, batch_idx, loss, mining_func.num_triplets))\n",
    "    print(\"Epoch {} Loss = {}\".format(epoch, loss.item()))"
   ]
  },
  {
   "cell_type": "markdown",
   "metadata": {
    "id": "3F5gbEeMo68i"
   },
   "source": [
    "# Predict"
   ]
  },
  {
   "cell_type": "code",
   "execution_count": 28,
   "metadata": {
    "executionInfo": {
     "elapsed": 541,
     "status": "ok",
     "timestamp": 1610890345338,
     "user": {
      "displayName": "Ilya",
      "photoUrl": "https://lh3.googleusercontent.com/a-/AOh14GgqMMWh-yu_Neff4SfMdF5-F8RTIn4IimUv7_Wu=s64",
      "userId": "18401577808228678959"
     },
     "user_tz": -180
    },
    "id": "QejRaOGlWJA1"
   },
   "outputs": [],
   "source": [
    "m = encoder.to('cpu').eval()"
   ]
  },
  {
   "cell_type": "code",
   "execution_count": 29,
   "metadata": {
    "colab": {
     "base_uri": "https://localhost:8080/"
    },
    "executionInfo": {
     "elapsed": 702,
     "status": "ok",
     "timestamp": 1610890345718,
     "user": {
      "displayName": "Ilya",
      "photoUrl": "https://lh3.googleusercontent.com/a-/AOh14GgqMMWh-yu_Neff4SfMdF5-F8RTIn4IimUv7_Wu=s64",
      "userId": "18401577808228678959"
     },
     "user_tz": -180
    },
    "id": "Mtzi14NIFynK",
    "outputId": "4e71d92a-bf16-4367-cfed-0f3be7c0957e"
   },
   "outputs": [
    {
     "data": {
      "text/plain": [
       "torch.Size([64, 5, 90, 3])"
      ]
     },
     "execution_count": 29,
     "metadata": {
      "tags": []
     },
     "output_type": "execute_result"
    }
   ],
   "source": [
    "# check\n",
    "dataiter = iter(dataloader)\n",
    "sequences, labels = dataiter.next()\n",
    "\n",
    "# should be BATCH_SIZExNUM_OF_SEQUNCESxSUBSEQUENCE_LENGTHx(num_features)\n",
    "sequences.shape"
   ]
  },
  {
   "cell_type": "code",
   "execution_count": 30,
   "metadata": {
    "colab": {
     "base_uri": "https://localhost:8080/",
     "height": 85,
     "referenced_widgets": [
      "77659e90a1e8477dbbea1df45cba0304",
      "e263d2a14f554ff8b803b67ca3185472",
      "98a964fac8e540d3a40e52089d7f0bef",
      "ca518cf45c604ecba73e7ee65050c9d3",
      "bd6274e797374aed9a5afd93b00058ba",
      "1c60db6d91ce497b9cce486b0bef58b7",
      "b8d80aa7d4c94dc9a1a36605f7bf5df0",
      "a204d4074c2a406fb0d6ecd400407aa3"
     ]
    },
    "executionInfo": {
     "elapsed": 61914,
     "status": "ok",
     "timestamp": 1610890407462,
     "user": {
      "displayName": "Ilya",
      "photoUrl": "https://lh3.googleusercontent.com/a-/AOh14GgqMMWh-yu_Neff4SfMdF5-F8RTIn4IimUv7_Wu=s64",
      "userId": "18401577808228678959"
     },
     "user_tz": -180
    },
    "id": "_59ULTscHfAH",
    "outputId": "cc81c4a8-f3c1-48c1-8b87-5ade99d2ea76"
   },
   "outputs": [
    {
     "data": {
      "application/vnd.jupyter.widget-view+json": {
       "model_id": "77659e90a1e8477dbbea1df45cba0304",
       "version_major": 2,
       "version_minor": 0
      },
      "text/plain": [
       "HBox(children=(FloatProgress(value=0.0, max=2292.0), HTML(value='')))"
      ]
     },
     "metadata": {
      "tags": []
     },
     "output_type": "display_data"
    },
    {
     "name": "stdout",
     "output_type": "stream",
     "text": [
      "\n"
     ]
    },
    {
     "data": {
      "text/plain": [
       "torch.Size([2292, 32])"
      ]
     },
     "execution_count": 30,
     "metadata": {
      "tags": []
     },
     "output_type": "execute_result"
    }
   ],
   "source": [
    "embeddings = torch.zeros((1, EMBEDDING_DIM))[1:]\n",
    "\n",
    "for client_id in tqdm(sorted(dataset.clients)):\n",
    "    s = dataset.client_to_seq[client_id]\n",
    "    s = torch.from_numpy(s).type(torch.FloatTensor)\n",
    "\n",
    "    with torch.no_grad():\n",
    "        encoded_events = m.event_encoder(s)\n",
    "        encoded_events = encoded_events.view(1, -1, EMBEDDING_DIM)\n",
    "        encoded_events = torch.transpose(encoded_events, 0, 1) # so that its (seq_len, batch, input_size)\n",
    "        embedding = m.sequence_encoder(encoded_events)[0][0]\n",
    "        embeddings = torch.cat((embeddings, embedding))\n",
    "\n",
    "\n",
    "embeddings.shape"
   ]
  },
  {
   "cell_type": "code",
   "execution_count": 31,
   "metadata": {
    "executionInfo": {
     "elapsed": 561,
     "status": "ok",
     "timestamp": 1610890414323,
     "user": {
      "displayName": "Ilya",
      "photoUrl": "https://lh3.googleusercontent.com/a-/AOh14GgqMMWh-yu_Neff4SfMdF5-F8RTIn4IimUv7_Wu=s64",
      "userId": "18401577808228678959"
     },
     "user_tz": -180
    },
    "id": "13ohWlD-JzFH"
   },
   "outputs": [],
   "source": [
    "X = embeddings.numpy()\n",
    "y = dataset.target_df[dataset.target_df['client_id'].isin(dataset.clients)].sort_values('client_id')['bins'].to_numpy()"
   ]
  },
  {
   "cell_type": "code",
   "execution_count": 32,
   "metadata": {
    "executionInfo": {
     "elapsed": 8198,
     "status": "ok",
     "timestamp": 1610890422181,
     "user": {
      "displayName": "Ilya",
      "photoUrl": "https://lh3.googleusercontent.com/a-/AOh14GgqMMWh-yu_Neff4SfMdF5-F8RTIn4IimUv7_Wu=s64",
      "userId": "18401577808228678959"
     },
     "user_tz": -180
    },
    "id": "6b_SrmHEK2nn"
   },
   "outputs": [],
   "source": [
    "!pip install catboost > /dev/null"
   ]
  },
  {
   "cell_type": "code",
   "execution_count": 33,
   "metadata": {
    "executionInfo": {
     "elapsed": 7875,
     "status": "ok",
     "timestamp": 1610890422181,
     "user": {
      "displayName": "Ilya",
      "photoUrl": "https://lh3.googleusercontent.com/a-/AOh14GgqMMWh-yu_Neff4SfMdF5-F8RTIn4IimUv7_Wu=s64",
      "userId": "18401577808228678959"
     },
     "user_tz": -180
    },
    "id": "Ca5R3rL7Kxem"
   },
   "outputs": [],
   "source": [
    "from catboost import CatBoostClassifier, Pool\n",
    "from catboost import cv\n",
    "from sklearn.model_selection import train_test_split"
   ]
  },
  {
   "cell_type": "code",
   "execution_count": 34,
   "metadata": {
    "executionInfo": {
     "elapsed": 7653,
     "status": "ok",
     "timestamp": 1610890422182,
     "user": {
      "displayName": "Ilya",
      "photoUrl": "https://lh3.googleusercontent.com/a-/AOh14GgqMMWh-yu_Neff4SfMdF5-F8RTIn4IimUv7_Wu=s64",
      "userId": "18401577808228678959"
     },
     "user_tz": -180
    },
    "id": "D38VYwhXKq_P"
   },
   "outputs": [],
   "source": [
    "X_train, X_test, y_train, y_test = train_test_split(\n",
    "    X, y, test_size=0.33, random_state=228, stratify=y)\n",
    "\n",
    "train_pool = Pool(X_train, y_train)\n",
    "test_pool = Pool(X_test, y_test)"
   ]
  },
  {
   "cell_type": "code",
   "execution_count": 35,
   "metadata": {
    "executionInfo": {
     "elapsed": 7285,
     "status": "ok",
     "timestamp": 1610890422182,
     "user": {
      "displayName": "Ilya",
      "photoUrl": "https://lh3.googleusercontent.com/a-/AOh14GgqMMWh-yu_Neff4SfMdF5-F8RTIn4IimUv7_Wu=s64",
      "userId": "18401577808228678959"
     },
     "user_tz": -180
    },
    "id": "YV_oTIQKNsuq"
   },
   "outputs": [],
   "source": [
    "model = CatBoostClassifier(\n",
    "    iterations=100,\n",
    "    verbose=True,\n",
    "    eval_metric='Accuracy',\n",
    ")"
   ]
  },
  {
   "cell_type": "code",
   "execution_count": 36,
   "metadata": {
    "colab": {
     "base_uri": "https://localhost:8080/"
    },
    "executionInfo": {
     "elapsed": 3121,
     "status": "ok",
     "timestamp": 1610890458267,
     "user": {
      "displayName": "Ilya",
      "photoUrl": "https://lh3.googleusercontent.com/a-/AOh14GgqMMWh-yu_Neff4SfMdF5-F8RTIn4IimUv7_Wu=s64",
      "userId": "18401577808228678959"
     },
     "user_tz": -180
    },
    "id": "Fc3FHXYyK8yh",
    "outputId": "d96e71dc-b083-49f3-a281-6ac7fc9f49a3"
   },
   "outputs": [
    {
     "name": "stdout",
     "output_type": "stream",
     "text": [
      "Learning rate set to 0.262452\n",
      "0:\tlearn: 0.4723127\ttest: 0.4398943\tbest: 0.4398943 (0)\ttotal: 80.4ms\tremaining: 7.96s\n",
      "1:\tlearn: 0.4833876\ttest: 0.4438573\tbest: 0.4438573 (1)\ttotal: 105ms\tremaining: 5.16s\n",
      "2:\tlearn: 0.4859935\ttest: 0.4412153\tbest: 0.4438573 (1)\ttotal: 130ms\tremaining: 4.2s\n",
      "3:\tlearn: 0.4905537\ttest: 0.4451783\tbest: 0.4451783 (3)\ttotal: 155ms\tremaining: 3.72s\n",
      "4:\tlearn: 0.4970684\ttest: 0.4372523\tbest: 0.4451783 (3)\ttotal: 183ms\tremaining: 3.47s\n",
      "5:\tlearn: 0.5009772\ttest: 0.4359313\tbest: 0.4451783 (3)\ttotal: 214ms\tremaining: 3.36s\n",
      "6:\tlearn: 0.5146580\ttest: 0.4464993\tbest: 0.4464993 (6)\ttotal: 240ms\tremaining: 3.19s\n",
      "7:\tlearn: 0.5218241\ttest: 0.4425363\tbest: 0.4464993 (6)\ttotal: 265ms\tremaining: 3.05s\n",
      "8:\tlearn: 0.5211726\ttest: 0.4398943\tbest: 0.4464993 (6)\ttotal: 292ms\tremaining: 2.95s\n",
      "9:\tlearn: 0.5211726\ttest: 0.4425363\tbest: 0.4464993 (6)\ttotal: 316ms\tremaining: 2.85s\n",
      "10:\tlearn: 0.5250814\ttest: 0.4385733\tbest: 0.4464993 (6)\ttotal: 341ms\tremaining: 2.76s\n",
      "11:\tlearn: 0.5296417\ttest: 0.4385733\tbest: 0.4464993 (6)\ttotal: 366ms\tremaining: 2.68s\n",
      "12:\tlearn: 0.5283388\ttest: 0.4425363\tbest: 0.4464993 (6)\ttotal: 390ms\tremaining: 2.61s\n",
      "13:\tlearn: 0.5315961\ttest: 0.4425363\tbest: 0.4464993 (6)\ttotal: 422ms\tremaining: 2.59s\n",
      "14:\tlearn: 0.5335505\ttest: 0.4412153\tbest: 0.4464993 (6)\ttotal: 449ms\tremaining: 2.54s\n",
      "15:\tlearn: 0.5374593\ttest: 0.4412153\tbest: 0.4464993 (6)\ttotal: 474ms\tremaining: 2.49s\n",
      "16:\tlearn: 0.5342020\ttest: 0.4451783\tbest: 0.4464993 (6)\ttotal: 500ms\tremaining: 2.44s\n",
      "17:\tlearn: 0.5348534\ttest: 0.4464993\tbest: 0.4464993 (6)\ttotal: 525ms\tremaining: 2.39s\n",
      "18:\tlearn: 0.5368078\ttest: 0.4438573\tbest: 0.4464993 (6)\ttotal: 551ms\tremaining: 2.35s\n",
      "19:\tlearn: 0.5381107\ttest: 0.4425363\tbest: 0.4464993 (6)\ttotal: 575ms\tremaining: 2.3s\n",
      "20:\tlearn: 0.5394137\ttest: 0.4438573\tbest: 0.4464993 (6)\ttotal: 600ms\tremaining: 2.25s\n",
      "21:\tlearn: 0.5446254\ttest: 0.4372523\tbest: 0.4464993 (6)\ttotal: 627ms\tremaining: 2.22s\n",
      "22:\tlearn: 0.5446254\ttest: 0.4306473\tbest: 0.4464993 (6)\ttotal: 652ms\tremaining: 2.18s\n",
      "23:\tlearn: 0.5472313\ttest: 0.4398943\tbest: 0.4464993 (6)\ttotal: 679ms\tremaining: 2.15s\n",
      "24:\tlearn: 0.5517915\ttest: 0.4398943\tbest: 0.4464993 (6)\ttotal: 704ms\tremaining: 2.11s\n",
      "25:\tlearn: 0.5504886\ttest: 0.4464993\tbest: 0.4464993 (6)\ttotal: 729ms\tremaining: 2.08s\n",
      "26:\tlearn: 0.5543974\ttest: 0.4425363\tbest: 0.4464993 (6)\ttotal: 754ms\tremaining: 2.04s\n",
      "27:\tlearn: 0.5557003\ttest: 0.4398943\tbest: 0.4464993 (6)\ttotal: 779ms\tremaining: 2s\n",
      "28:\tlearn: 0.5589577\ttest: 0.4451783\tbest: 0.4464993 (6)\ttotal: 804ms\tremaining: 1.97s\n",
      "29:\tlearn: 0.5609121\ttest: 0.4425363\tbest: 0.4464993 (6)\ttotal: 832ms\tremaining: 1.94s\n",
      "30:\tlearn: 0.5622150\ttest: 0.4464993\tbest: 0.4464993 (6)\ttotal: 857ms\tremaining: 1.91s\n",
      "31:\tlearn: 0.5635179\ttest: 0.4438573\tbest: 0.4464993 (6)\ttotal: 881ms\tremaining: 1.87s\n",
      "32:\tlearn: 0.5648208\ttest: 0.4398943\tbest: 0.4464993 (6)\ttotal: 906ms\tremaining: 1.84s\n",
      "33:\tlearn: 0.5654723\ttest: 0.4398943\tbest: 0.4464993 (6)\ttotal: 933ms\tremaining: 1.81s\n",
      "34:\tlearn: 0.5654723\ttest: 0.4359313\tbest: 0.4464993 (6)\ttotal: 959ms\tremaining: 1.78s\n",
      "35:\tlearn: 0.5648208\ttest: 0.4372523\tbest: 0.4464993 (6)\ttotal: 986ms\tremaining: 1.75s\n",
      "36:\tlearn: 0.5641694\ttest: 0.4398943\tbest: 0.4464993 (6)\ttotal: 1.01s\tremaining: 1.72s\n",
      "37:\tlearn: 0.5667752\ttest: 0.4425363\tbest: 0.4464993 (6)\ttotal: 1.04s\tremaining: 1.7s\n",
      "38:\tlearn: 0.5693811\ttest: 0.4438573\tbest: 0.4464993 (6)\ttotal: 1.06s\tremaining: 1.66s\n",
      "39:\tlearn: 0.5680782\ttest: 0.4398943\tbest: 0.4464993 (6)\ttotal: 1.09s\tremaining: 1.63s\n",
      "40:\tlearn: 0.5732899\ttest: 0.4372523\tbest: 0.4464993 (6)\ttotal: 1.11s\tremaining: 1.6s\n",
      "41:\tlearn: 0.5785016\ttest: 0.4332893\tbest: 0.4464993 (6)\ttotal: 1.14s\tremaining: 1.57s\n",
      "42:\tlearn: 0.5824104\ttest: 0.4332893\tbest: 0.4464993 (6)\ttotal: 1.16s\tremaining: 1.54s\n",
      "43:\tlearn: 0.5811075\ttest: 0.4293263\tbest: 0.4464993 (6)\ttotal: 1.19s\tremaining: 1.51s\n",
      "44:\tlearn: 0.5817590\ttest: 0.4319683\tbest: 0.4464993 (6)\ttotal: 1.22s\tremaining: 1.49s\n",
      "45:\tlearn: 0.5843648\ttest: 0.4332893\tbest: 0.4464993 (6)\ttotal: 1.25s\tremaining: 1.46s\n",
      "46:\tlearn: 0.5882736\ttest: 0.4359313\tbest: 0.4464993 (6)\ttotal: 1.27s\tremaining: 1.43s\n",
      "47:\tlearn: 0.5902280\ttest: 0.4332893\tbest: 0.4464993 (6)\ttotal: 1.29s\tremaining: 1.4s\n",
      "48:\tlearn: 0.5967427\ttest: 0.4306473\tbest: 0.4464993 (6)\ttotal: 1.32s\tremaining: 1.37s\n",
      "49:\tlearn: 0.5934853\ttest: 0.4319683\tbest: 0.4464993 (6)\ttotal: 1.34s\tremaining: 1.34s\n",
      "50:\tlearn: 0.5934853\ttest: 0.4319683\tbest: 0.4464993 (6)\ttotal: 1.37s\tremaining: 1.31s\n",
      "51:\tlearn: 0.6013029\ttest: 0.4372523\tbest: 0.4464993 (6)\ttotal: 1.39s\tremaining: 1.29s\n",
      "52:\tlearn: 0.6013029\ttest: 0.4372523\tbest: 0.4464993 (6)\ttotal: 1.42s\tremaining: 1.26s\n",
      "53:\tlearn: 0.6013029\ttest: 0.4425363\tbest: 0.4464993 (6)\ttotal: 1.44s\tremaining: 1.23s\n",
      "54:\tlearn: 0.6026059\ttest: 0.4425363\tbest: 0.4464993 (6)\ttotal: 1.47s\tremaining: 1.21s\n",
      "55:\tlearn: 0.6026059\ttest: 0.4385733\tbest: 0.4464993 (6)\ttotal: 1.5s\tremaining: 1.18s\n",
      "56:\tlearn: 0.6039088\ttest: 0.4412153\tbest: 0.4464993 (6)\ttotal: 1.53s\tremaining: 1.15s\n",
      "57:\tlearn: 0.6045603\ttest: 0.4412153\tbest: 0.4464993 (6)\ttotal: 1.55s\tremaining: 1.12s\n",
      "58:\tlearn: 0.6071661\ttest: 0.4412153\tbest: 0.4464993 (6)\ttotal: 1.58s\tremaining: 1.1s\n",
      "59:\tlearn: 0.6084691\ttest: 0.4425363\tbest: 0.4464993 (6)\ttotal: 1.6s\tremaining: 1.07s\n",
      "60:\tlearn: 0.6091205\ttest: 0.4398943\tbest: 0.4464993 (6)\ttotal: 1.63s\tremaining: 1.04s\n",
      "61:\tlearn: 0.6130293\ttest: 0.4438573\tbest: 0.4464993 (6)\ttotal: 1.65s\tremaining: 1.01s\n",
      "62:\tlearn: 0.6156352\ttest: 0.4438573\tbest: 0.4464993 (6)\ttotal: 1.68s\tremaining: 986ms\n",
      "63:\tlearn: 0.6175896\ttest: 0.4398943\tbest: 0.4464993 (6)\ttotal: 1.7s\tremaining: 958ms\n",
      "64:\tlearn: 0.6201954\ttest: 0.4412153\tbest: 0.4464993 (6)\ttotal: 1.73s\tremaining: 931ms\n",
      "65:\tlearn: 0.6214984\ttest: 0.4451783\tbest: 0.4464993 (6)\ttotal: 1.76s\tremaining: 905ms\n",
      "66:\tlearn: 0.6221498\ttest: 0.4451783\tbest: 0.4464993 (6)\ttotal: 1.78s\tremaining: 878ms\n",
      "67:\tlearn: 0.6228013\ttest: 0.4412153\tbest: 0.4464993 (6)\ttotal: 1.81s\tremaining: 850ms\n",
      "68:\tlearn: 0.6228013\ttest: 0.4464993\tbest: 0.4464993 (6)\ttotal: 1.83s\tremaining: 823ms\n",
      "69:\tlearn: 0.6247557\ttest: 0.4464993\tbest: 0.4464993 (6)\ttotal: 1.86s\tremaining: 795ms\n",
      "70:\tlearn: 0.6254072\ttest: 0.4438573\tbest: 0.4464993 (6)\ttotal: 1.88s\tremaining: 769ms\n",
      "71:\tlearn: 0.6260586\ttest: 0.4425363\tbest: 0.4464993 (6)\ttotal: 1.91s\tremaining: 742ms\n",
      "72:\tlearn: 0.6254072\ttest: 0.4412153\tbest: 0.4464993 (6)\ttotal: 1.93s\tremaining: 715ms\n",
      "73:\tlearn: 0.6254072\ttest: 0.4438573\tbest: 0.4464993 (6)\ttotal: 1.96s\tremaining: 688ms\n",
      "74:\tlearn: 0.6293160\ttest: 0.4464993\tbest: 0.4464993 (6)\ttotal: 1.98s\tremaining: 661ms\n",
      "75:\tlearn: 0.6306189\ttest: 0.4412153\tbest: 0.4464993 (6)\ttotal: 2.01s\tremaining: 635ms\n",
      "76:\tlearn: 0.6338762\ttest: 0.4346103\tbest: 0.4464993 (6)\ttotal: 2.04s\tremaining: 609ms\n",
      "77:\tlearn: 0.6351792\ttest: 0.4332893\tbest: 0.4464993 (6)\ttotal: 2.06s\tremaining: 582ms\n",
      "78:\tlearn: 0.6351792\ttest: 0.4293263\tbest: 0.4464993 (6)\ttotal: 2.09s\tremaining: 556ms\n",
      "79:\tlearn: 0.6364821\ttest: 0.4306473\tbest: 0.4464993 (6)\ttotal: 2.12s\tremaining: 529ms\n",
      "80:\tlearn: 0.6371336\ttest: 0.4306473\tbest: 0.4464993 (6)\ttotal: 2.14s\tremaining: 502ms\n",
      "81:\tlearn: 0.6377850\ttest: 0.4293263\tbest: 0.4464993 (6)\ttotal: 2.16s\tremaining: 475ms\n",
      "82:\tlearn: 0.6423453\ttest: 0.4293263\tbest: 0.4464993 (6)\ttotal: 2.19s\tremaining: 449ms\n",
      "83:\tlearn: 0.6397394\ttest: 0.4253633\tbest: 0.4464993 (6)\ttotal: 2.22s\tremaining: 423ms\n",
      "84:\tlearn: 0.6397394\ttest: 0.4240423\tbest: 0.4464993 (6)\ttotal: 2.25s\tremaining: 397ms\n",
      "85:\tlearn: 0.6416938\ttest: 0.4240423\tbest: 0.4464993 (6)\ttotal: 2.27s\tremaining: 370ms\n",
      "86:\tlearn: 0.6449511\ttest: 0.4240423\tbest: 0.4464993 (6)\ttotal: 2.3s\tremaining: 344ms\n",
      "87:\tlearn: 0.6469055\ttest: 0.4240423\tbest: 0.4464993 (6)\ttotal: 2.33s\tremaining: 317ms\n",
      "88:\tlearn: 0.6475570\ttest: 0.4280053\tbest: 0.4464993 (6)\ttotal: 2.35s\tremaining: 291ms\n",
      "89:\tlearn: 0.6469055\ttest: 0.4280053\tbest: 0.4464993 (6)\ttotal: 2.38s\tremaining: 264ms\n",
      "90:\tlearn: 0.6475570\ttest: 0.4293263\tbest: 0.4464993 (6)\ttotal: 2.4s\tremaining: 237ms\n",
      "91:\tlearn: 0.6488599\ttest: 0.4280053\tbest: 0.4464993 (6)\ttotal: 2.43s\tremaining: 211ms\n",
      "92:\tlearn: 0.6495114\ttest: 0.4266843\tbest: 0.4464993 (6)\ttotal: 2.45s\tremaining: 185ms\n",
      "93:\tlearn: 0.6527687\ttest: 0.4266843\tbest: 0.4464993 (6)\ttotal: 2.48s\tremaining: 158ms\n",
      "94:\tlearn: 0.6508143\ttest: 0.4280053\tbest: 0.4464993 (6)\ttotal: 2.5s\tremaining: 132ms\n",
      "95:\tlearn: 0.6514658\ttest: 0.4266843\tbest: 0.4464993 (6)\ttotal: 2.53s\tremaining: 105ms\n",
      "96:\tlearn: 0.6521173\ttest: 0.4280053\tbest: 0.4464993 (6)\ttotal: 2.56s\tremaining: 79.1ms\n",
      "97:\tlearn: 0.6508143\ttest: 0.4280053\tbest: 0.4464993 (6)\ttotal: 2.58s\tremaining: 52.7ms\n",
      "98:\tlearn: 0.6521173\ttest: 0.4306473\tbest: 0.4464993 (6)\ttotal: 2.61s\tremaining: 26.3ms\n",
      "99:\tlearn: 0.6527687\ttest: 0.4306473\tbest: 0.4464993 (6)\ttotal: 2.63s\tremaining: 0us\n",
      "\n",
      "bestTest = 0.4464993395\n",
      "bestIteration = 6\n",
      "\n",
      "Shrink model to first 7 iterations.\n"
     ]
    },
    {
     "data": {
      "text/plain": [
       "<catboost.core.CatBoostClassifier at 0x7fa0105eee80>"
      ]
     },
     "execution_count": 36,
     "metadata": {
      "tags": []
     },
     "output_type": "execute_result"
    }
   ],
   "source": [
    "model.fit(train_pool, eval_set=test_pool)"
   ]
  },
  {
   "cell_type": "code",
   "execution_count": 37,
   "metadata": {
    "colab": {
     "base_uri": "https://localhost:8080/"
    },
    "executionInfo": {
     "elapsed": 2716,
     "status": "ok",
     "timestamp": 1610890458267,
     "user": {
      "displayName": "Ilya",
      "photoUrl": "https://lh3.googleusercontent.com/a-/AOh14GgqMMWh-yu_Neff4SfMdF5-F8RTIn4IimUv7_Wu=s64",
      "userId": "18401577808228678959"
     },
     "user_tz": -180
    },
    "id": "Gq_9OK9INyco",
    "outputId": "a3ff8c85-58f2-47a8-8822-9f278b008933"
   },
   "outputs": [
    {
     "data": {
      "text/plain": [
       "0.4464993394980185"
      ]
     },
     "execution_count": 37,
     "metadata": {
      "tags": []
     },
     "output_type": "execute_result"
    }
   ],
   "source": [
    "sum(np.squeeze(model.predict(X_test)) == y_test) / len(y_test)"
   ]
  },
  {
   "cell_type": "code",
   "execution_count": null,
   "metadata": {
    "id": "DDaYs-_dOCBh"
   },
   "outputs": [],
   "source": []
  }
 ],
 "metadata": {
  "accelerator": "GPU",
  "colab": {
   "authorship_tag": "ABX9TyNwx3uTcGehIMdLnYuYDaOJ",
   "collapsed_sections": [],
   "name": "age group.ipynb",
   "provenance": [],
   "toc_visible": true
  },
  "kernelspec": {
   "display_name": "Python 3",
   "language": "python",
   "name": "python3"
  },
  "language_info": {
   "codemirror_mode": {
    "name": "ipython",
    "version": 3
   },
   "file_extension": ".py",
   "mimetype": "text/x-python",
   "name": "python",
   "nbconvert_exporter": "python",
   "pygments_lexer": "ipython3",
   "version": "3.8.6"
  },
  "toc": {
   "base_numbering": 1,
   "nav_menu": {},
   "number_sections": true,
   "sideBar": true,
   "skip_h1_title": true,
   "title_cell": "Table of Contents",
   "title_sidebar": "Contents",
   "toc_cell": true,
   "toc_position": {},
   "toc_section_display": true,
   "toc_window_display": true
  },
  "widgets": {
   "application/vnd.jupyter.widget-state+json": {
    "07e9687060054a0dbd60ae72c70ef7af": {
     "model_module": "@jupyter-widgets/controls",
     "model_name": "HTMLModel",
     "state": {
      "_dom_classes": [],
      "_model_module": "@jupyter-widgets/controls",
      "_model_module_version": "1.5.0",
      "_model_name": "HTMLModel",
      "_view_count": null,
      "_view_module": "@jupyter-widgets/controls",
      "_view_module_version": "1.5.0",
      "_view_name": "HTMLView",
      "description": "",
      "description_tooltip": null,
      "layout": "IPY_MODEL_eeed92c33ff14f0f9b99ac1b10d4cb62",
      "placeholder": "​",
      "style": "IPY_MODEL_0a567937113a466ca9b46f0e239d827f",
      "value": " 150/150 [09:51&lt;00:00,  3.95s/it]"
     }
    },
    "0a567937113a466ca9b46f0e239d827f": {
     "model_module": "@jupyter-widgets/controls",
     "model_name": "DescriptionStyleModel",
     "state": {
      "_model_module": "@jupyter-widgets/controls",
      "_model_module_version": "1.5.0",
      "_model_name": "DescriptionStyleModel",
      "_view_count": null,
      "_view_module": "@jupyter-widgets/base",
      "_view_module_version": "1.2.0",
      "_view_name": "StyleView",
      "description_width": ""
     }
    },
    "0fdffcdfe405467bbf01906e8e3a82f0": {
     "model_module": "@jupyter-widgets/controls",
     "model_name": "FloatProgressModel",
     "state": {
      "_dom_classes": [],
      "_model_module": "@jupyter-widgets/controls",
      "_model_module_version": "1.5.0",
      "_model_name": "FloatProgressModel",
      "_view_count": null,
      "_view_module": "@jupyter-widgets/controls",
      "_view_module_version": "1.5.0",
      "_view_name": "ProgressView",
      "bar_style": "success",
      "description": "100%",
      "description_tooltip": null,
      "layout": "IPY_MODEL_2f5fcf77a1b446478201634ea541bd60",
      "max": 150,
      "min": 0,
      "orientation": "horizontal",
      "style": "IPY_MODEL_6459f340198c4f87805f7289895b91e5",
      "value": 150
     }
    },
    "167fa7cd4a364a2088134de06d317a59": {
     "model_module": "@jupyter-widgets/base",
     "model_name": "LayoutModel",
     "state": {
      "_model_module": "@jupyter-widgets/base",
      "_model_module_version": "1.2.0",
      "_model_name": "LayoutModel",
      "_view_count": null,
      "_view_module": "@jupyter-widgets/base",
      "_view_module_version": "1.2.0",
      "_view_name": "LayoutView",
      "align_content": null,
      "align_items": null,
      "align_self": null,
      "border": null,
      "bottom": null,
      "display": null,
      "flex": null,
      "flex_flow": null,
      "grid_area": null,
      "grid_auto_columns": null,
      "grid_auto_flow": null,
      "grid_auto_rows": null,
      "grid_column": null,
      "grid_gap": null,
      "grid_row": null,
      "grid_template_areas": null,
      "grid_template_columns": null,
      "grid_template_rows": null,
      "height": null,
      "justify_content": null,
      "justify_items": null,
      "left": null,
      "margin": null,
      "max_height": null,
      "max_width": null,
      "min_height": null,
      "min_width": null,
      "object_fit": null,
      "object_position": null,
      "order": null,
      "overflow": null,
      "overflow_x": null,
      "overflow_y": null,
      "padding": null,
      "right": null,
      "top": null,
      "visibility": null,
      "width": null
     }
    },
    "1c60db6d91ce497b9cce486b0bef58b7": {
     "model_module": "@jupyter-widgets/base",
     "model_name": "LayoutModel",
     "state": {
      "_model_module": "@jupyter-widgets/base",
      "_model_module_version": "1.2.0",
      "_model_name": "LayoutModel",
      "_view_count": null,
      "_view_module": "@jupyter-widgets/base",
      "_view_module_version": "1.2.0",
      "_view_name": "LayoutView",
      "align_content": null,
      "align_items": null,
      "align_self": null,
      "border": null,
      "bottom": null,
      "display": null,
      "flex": null,
      "flex_flow": null,
      "grid_area": null,
      "grid_auto_columns": null,
      "grid_auto_flow": null,
      "grid_auto_rows": null,
      "grid_column": null,
      "grid_gap": null,
      "grid_row": null,
      "grid_template_areas": null,
      "grid_template_columns": null,
      "grid_template_rows": null,
      "height": null,
      "justify_content": null,
      "justify_items": null,
      "left": null,
      "margin": null,
      "max_height": null,
      "max_width": null,
      "min_height": null,
      "min_width": null,
      "object_fit": null,
      "object_position": null,
      "order": null,
      "overflow": null,
      "overflow_x": null,
      "overflow_y": null,
      "padding": null,
      "right": null,
      "top": null,
      "visibility": null,
      "width": null
     }
    },
    "1e61f70cd5a74c3fae11f543c6161377": {
     "model_module": "@jupyter-widgets/base",
     "model_name": "LayoutModel",
     "state": {
      "_model_module": "@jupyter-widgets/base",
      "_model_module_version": "1.2.0",
      "_model_name": "LayoutModel",
      "_view_count": null,
      "_view_module": "@jupyter-widgets/base",
      "_view_module_version": "1.2.0",
      "_view_name": "LayoutView",
      "align_content": null,
      "align_items": null,
      "align_self": null,
      "border": null,
      "bottom": null,
      "display": null,
      "flex": null,
      "flex_flow": null,
      "grid_area": null,
      "grid_auto_columns": null,
      "grid_auto_flow": null,
      "grid_auto_rows": null,
      "grid_column": null,
      "grid_gap": null,
      "grid_row": null,
      "grid_template_areas": null,
      "grid_template_columns": null,
      "grid_template_rows": null,
      "height": null,
      "justify_content": null,
      "justify_items": null,
      "left": null,
      "margin": null,
      "max_height": null,
      "max_width": null,
      "min_height": null,
      "min_width": null,
      "object_fit": null,
      "object_position": null,
      "order": null,
      "overflow": null,
      "overflow_x": null,
      "overflow_y": null,
      "padding": null,
      "right": null,
      "top": null,
      "visibility": null,
      "width": null
     }
    },
    "2f5fcf77a1b446478201634ea541bd60": {
     "model_module": "@jupyter-widgets/base",
     "model_name": "LayoutModel",
     "state": {
      "_model_module": "@jupyter-widgets/base",
      "_model_module_version": "1.2.0",
      "_model_name": "LayoutModel",
      "_view_count": null,
      "_view_module": "@jupyter-widgets/base",
      "_view_module_version": "1.2.0",
      "_view_name": "LayoutView",
      "align_content": null,
      "align_items": null,
      "align_self": null,
      "border": null,
      "bottom": null,
      "display": null,
      "flex": null,
      "flex_flow": null,
      "grid_area": null,
      "grid_auto_columns": null,
      "grid_auto_flow": null,
      "grid_auto_rows": null,
      "grid_column": null,
      "grid_gap": null,
      "grid_row": null,
      "grid_template_areas": null,
      "grid_template_columns": null,
      "grid_template_rows": null,
      "height": null,
      "justify_content": null,
      "justify_items": null,
      "left": null,
      "margin": null,
      "max_height": null,
      "max_width": null,
      "min_height": null,
      "min_width": null,
      "object_fit": null,
      "object_position": null,
      "order": null,
      "overflow": null,
      "overflow_x": null,
      "overflow_y": null,
      "padding": null,
      "right": null,
      "top": null,
      "visibility": null,
      "width": null
     }
    },
    "35447ab14e9443318ef3fb8c6c9bde40": {
     "model_module": "@jupyter-widgets/base",
     "model_name": "LayoutModel",
     "state": {
      "_model_module": "@jupyter-widgets/base",
      "_model_module_version": "1.2.0",
      "_model_name": "LayoutModel",
      "_view_count": null,
      "_view_module": "@jupyter-widgets/base",
      "_view_module_version": "1.2.0",
      "_view_name": "LayoutView",
      "align_content": null,
      "align_items": null,
      "align_self": null,
      "border": null,
      "bottom": null,
      "display": null,
      "flex": null,
      "flex_flow": null,
      "grid_area": null,
      "grid_auto_columns": null,
      "grid_auto_flow": null,
      "grid_auto_rows": null,
      "grid_column": null,
      "grid_gap": null,
      "grid_row": null,
      "grid_template_areas": null,
      "grid_template_columns": null,
      "grid_template_rows": null,
      "height": null,
      "justify_content": null,
      "justify_items": null,
      "left": null,
      "margin": null,
      "max_height": null,
      "max_width": null,
      "min_height": null,
      "min_width": null,
      "object_fit": null,
      "object_position": null,
      "order": null,
      "overflow": null,
      "overflow_x": null,
      "overflow_y": null,
      "padding": null,
      "right": null,
      "top": null,
      "visibility": null,
      "width": null
     }
    },
    "4f7d09032c92453da6433a07f97d6a64": {
     "model_module": "@jupyter-widgets/controls",
     "model_name": "ProgressStyleModel",
     "state": {
      "_model_module": "@jupyter-widgets/controls",
      "_model_module_version": "1.5.0",
      "_model_name": "ProgressStyleModel",
      "_view_count": null,
      "_view_module": "@jupyter-widgets/base",
      "_view_module_version": "1.2.0",
      "_view_name": "StyleView",
      "bar_color": null,
      "description_width": "initial"
     }
    },
    "506bba59cf5c473abbf0eb972cad6a8c": {
     "model_module": "@jupyter-widgets/controls",
     "model_name": "HTMLModel",
     "state": {
      "_dom_classes": [],
      "_model_module": "@jupyter-widgets/controls",
      "_model_module_version": "1.5.0",
      "_model_name": "HTMLModel",
      "_view_count": null,
      "_view_module": "@jupyter-widgets/controls",
      "_view_module_version": "1.5.0",
      "_view_name": "HTMLView",
      "description": "",
      "description_tooltip": null,
      "layout": "IPY_MODEL_5d00935480a748469969c039e2d48be3",
      "placeholder": "​",
      "style": "IPY_MODEL_e5d48c4808514295b38929b26bc86bf6",
      "value": " 2292/2292 [00:07&lt;00:00, 302.38it/s]"
     }
    },
    "5d00935480a748469969c039e2d48be3": {
     "model_module": "@jupyter-widgets/base",
     "model_name": "LayoutModel",
     "state": {
      "_model_module": "@jupyter-widgets/base",
      "_model_module_version": "1.2.0",
      "_model_name": "LayoutModel",
      "_view_count": null,
      "_view_module": "@jupyter-widgets/base",
      "_view_module_version": "1.2.0",
      "_view_name": "LayoutView",
      "align_content": null,
      "align_items": null,
      "align_self": null,
      "border": null,
      "bottom": null,
      "display": null,
      "flex": null,
      "flex_flow": null,
      "grid_area": null,
      "grid_auto_columns": null,
      "grid_auto_flow": null,
      "grid_auto_rows": null,
      "grid_column": null,
      "grid_gap": null,
      "grid_row": null,
      "grid_template_areas": null,
      "grid_template_columns": null,
      "grid_template_rows": null,
      "height": null,
      "justify_content": null,
      "justify_items": null,
      "left": null,
      "margin": null,
      "max_height": null,
      "max_width": null,
      "min_height": null,
      "min_width": null,
      "object_fit": null,
      "object_position": null,
      "order": null,
      "overflow": null,
      "overflow_x": null,
      "overflow_y": null,
      "padding": null,
      "right": null,
      "top": null,
      "visibility": null,
      "width": null
     }
    },
    "6459f340198c4f87805f7289895b91e5": {
     "model_module": "@jupyter-widgets/controls",
     "model_name": "ProgressStyleModel",
     "state": {
      "_model_module": "@jupyter-widgets/controls",
      "_model_module_version": "1.5.0",
      "_model_name": "ProgressStyleModel",
      "_view_count": null,
      "_view_module": "@jupyter-widgets/base",
      "_view_module_version": "1.2.0",
      "_view_name": "StyleView",
      "bar_color": null,
      "description_width": "initial"
     }
    },
    "77659e90a1e8477dbbea1df45cba0304": {
     "model_module": "@jupyter-widgets/controls",
     "model_name": "HBoxModel",
     "state": {
      "_dom_classes": [],
      "_model_module": "@jupyter-widgets/controls",
      "_model_module_version": "1.5.0",
      "_model_name": "HBoxModel",
      "_view_count": null,
      "_view_module": "@jupyter-widgets/controls",
      "_view_module_version": "1.5.0",
      "_view_name": "HBoxView",
      "box_style": "",
      "children": [
       "IPY_MODEL_98a964fac8e540d3a40e52089d7f0bef",
       "IPY_MODEL_ca518cf45c604ecba73e7ee65050c9d3"
      ],
      "layout": "IPY_MODEL_e263d2a14f554ff8b803b67ca3185472"
     }
    },
    "98a964fac8e540d3a40e52089d7f0bef": {
     "model_module": "@jupyter-widgets/controls",
     "model_name": "FloatProgressModel",
     "state": {
      "_dom_classes": [],
      "_model_module": "@jupyter-widgets/controls",
      "_model_module_version": "1.5.0",
      "_model_name": "FloatProgressModel",
      "_view_count": null,
      "_view_module": "@jupyter-widgets/controls",
      "_view_module_version": "1.5.0",
      "_view_name": "ProgressView",
      "bar_style": "success",
      "description": "100%",
      "description_tooltip": null,
      "layout": "IPY_MODEL_1c60db6d91ce497b9cce486b0bef58b7",
      "max": 2292,
      "min": 0,
      "orientation": "horizontal",
      "style": "IPY_MODEL_bd6274e797374aed9a5afd93b00058ba",
      "value": 2292
     }
    },
    "a204d4074c2a406fb0d6ecd400407aa3": {
     "model_module": "@jupyter-widgets/base",
     "model_name": "LayoutModel",
     "state": {
      "_model_module": "@jupyter-widgets/base",
      "_model_module_version": "1.2.0",
      "_model_name": "LayoutModel",
      "_view_count": null,
      "_view_module": "@jupyter-widgets/base",
      "_view_module_version": "1.2.0",
      "_view_name": "LayoutView",
      "align_content": null,
      "align_items": null,
      "align_self": null,
      "border": null,
      "bottom": null,
      "display": null,
      "flex": null,
      "flex_flow": null,
      "grid_area": null,
      "grid_auto_columns": null,
      "grid_auto_flow": null,
      "grid_auto_rows": null,
      "grid_column": null,
      "grid_gap": null,
      "grid_row": null,
      "grid_template_areas": null,
      "grid_template_columns": null,
      "grid_template_rows": null,
      "height": null,
      "justify_content": null,
      "justify_items": null,
      "left": null,
      "margin": null,
      "max_height": null,
      "max_width": null,
      "min_height": null,
      "min_width": null,
      "object_fit": null,
      "object_position": null,
      "order": null,
      "overflow": null,
      "overflow_x": null,
      "overflow_y": null,
      "padding": null,
      "right": null,
      "top": null,
      "visibility": null,
      "width": null
     }
    },
    "b8d80aa7d4c94dc9a1a36605f7bf5df0": {
     "model_module": "@jupyter-widgets/controls",
     "model_name": "DescriptionStyleModel",
     "state": {
      "_model_module": "@jupyter-widgets/controls",
      "_model_module_version": "1.5.0",
      "_model_name": "DescriptionStyleModel",
      "_view_count": null,
      "_view_module": "@jupyter-widgets/base",
      "_view_module_version": "1.2.0",
      "_view_name": "StyleView",
      "description_width": ""
     }
    },
    "ba45ce3c96df46959e87b4efcea7bf3a": {
     "model_module": "@jupyter-widgets/controls",
     "model_name": "FloatProgressModel",
     "state": {
      "_dom_classes": [],
      "_model_module": "@jupyter-widgets/controls",
      "_model_module_version": "1.5.0",
      "_model_name": "FloatProgressModel",
      "_view_count": null,
      "_view_module": "@jupyter-widgets/controls",
      "_view_module_version": "1.5.0",
      "_view_name": "ProgressView",
      "bar_style": "success",
      "description": "100%",
      "description_tooltip": null,
      "layout": "IPY_MODEL_1e61f70cd5a74c3fae11f543c6161377",
      "max": 2292,
      "min": 0,
      "orientation": "horizontal",
      "style": "IPY_MODEL_4f7d09032c92453da6433a07f97d6a64",
      "value": 2292
     }
    },
    "bd6274e797374aed9a5afd93b00058ba": {
     "model_module": "@jupyter-widgets/controls",
     "model_name": "ProgressStyleModel",
     "state": {
      "_model_module": "@jupyter-widgets/controls",
      "_model_module_version": "1.5.0",
      "_model_name": "ProgressStyleModel",
      "_view_count": null,
      "_view_module": "@jupyter-widgets/base",
      "_view_module_version": "1.2.0",
      "_view_name": "StyleView",
      "bar_color": null,
      "description_width": "initial"
     }
    },
    "ca518cf45c604ecba73e7ee65050c9d3": {
     "model_module": "@jupyter-widgets/controls",
     "model_name": "HTMLModel",
     "state": {
      "_dom_classes": [],
      "_model_module": "@jupyter-widgets/controls",
      "_model_module_version": "1.5.0",
      "_model_name": "HTMLModel",
      "_view_count": null,
      "_view_module": "@jupyter-widgets/controls",
      "_view_module_version": "1.5.0",
      "_view_name": "HTMLView",
      "description": "",
      "description_tooltip": null,
      "layout": "IPY_MODEL_a204d4074c2a406fb0d6ecd400407aa3",
      "placeholder": "​",
      "style": "IPY_MODEL_b8d80aa7d4c94dc9a1a36605f7bf5df0",
      "value": " 2292/2292 [01:15&lt;00:00, 30.24it/s]"
     }
    },
    "d3d5ff14d00e40a9b658fbe843e78084": {
     "model_module": "@jupyter-widgets/controls",
     "model_name": "HBoxModel",
     "state": {
      "_dom_classes": [],
      "_model_module": "@jupyter-widgets/controls",
      "_model_module_version": "1.5.0",
      "_model_name": "HBoxModel",
      "_view_count": null,
      "_view_module": "@jupyter-widgets/controls",
      "_view_module_version": "1.5.0",
      "_view_name": "HBoxView",
      "box_style": "",
      "children": [
       "IPY_MODEL_ba45ce3c96df46959e87b4efcea7bf3a",
       "IPY_MODEL_506bba59cf5c473abbf0eb972cad6a8c"
      ],
      "layout": "IPY_MODEL_35447ab14e9443318ef3fb8c6c9bde40"
     }
    },
    "e263d2a14f554ff8b803b67ca3185472": {
     "model_module": "@jupyter-widgets/base",
     "model_name": "LayoutModel",
     "state": {
      "_model_module": "@jupyter-widgets/base",
      "_model_module_version": "1.2.0",
      "_model_name": "LayoutModel",
      "_view_count": null,
      "_view_module": "@jupyter-widgets/base",
      "_view_module_version": "1.2.0",
      "_view_name": "LayoutView",
      "align_content": null,
      "align_items": null,
      "align_self": null,
      "border": null,
      "bottom": null,
      "display": null,
      "flex": null,
      "flex_flow": null,
      "grid_area": null,
      "grid_auto_columns": null,
      "grid_auto_flow": null,
      "grid_auto_rows": null,
      "grid_column": null,
      "grid_gap": null,
      "grid_row": null,
      "grid_template_areas": null,
      "grid_template_columns": null,
      "grid_template_rows": null,
      "height": null,
      "justify_content": null,
      "justify_items": null,
      "left": null,
      "margin": null,
      "max_height": null,
      "max_width": null,
      "min_height": null,
      "min_width": null,
      "object_fit": null,
      "object_position": null,
      "order": null,
      "overflow": null,
      "overflow_x": null,
      "overflow_y": null,
      "padding": null,
      "right": null,
      "top": null,
      "visibility": null,
      "width": null
     }
    },
    "e5d48c4808514295b38929b26bc86bf6": {
     "model_module": "@jupyter-widgets/controls",
     "model_name": "DescriptionStyleModel",
     "state": {
      "_model_module": "@jupyter-widgets/controls",
      "_model_module_version": "1.5.0",
      "_model_name": "DescriptionStyleModel",
      "_view_count": null,
      "_view_module": "@jupyter-widgets/base",
      "_view_module_version": "1.2.0",
      "_view_name": "StyleView",
      "description_width": ""
     }
    },
    "eeed92c33ff14f0f9b99ac1b10d4cb62": {
     "model_module": "@jupyter-widgets/base",
     "model_name": "LayoutModel",
     "state": {
      "_model_module": "@jupyter-widgets/base",
      "_model_module_version": "1.2.0",
      "_model_name": "LayoutModel",
      "_view_count": null,
      "_view_module": "@jupyter-widgets/base",
      "_view_module_version": "1.2.0",
      "_view_name": "LayoutView",
      "align_content": null,
      "align_items": null,
      "align_self": null,
      "border": null,
      "bottom": null,
      "display": null,
      "flex": null,
      "flex_flow": null,
      "grid_area": null,
      "grid_auto_columns": null,
      "grid_auto_flow": null,
      "grid_auto_rows": null,
      "grid_column": null,
      "grid_gap": null,
      "grid_row": null,
      "grid_template_areas": null,
      "grid_template_columns": null,
      "grid_template_rows": null,
      "height": null,
      "justify_content": null,
      "justify_items": null,
      "left": null,
      "margin": null,
      "max_height": null,
      "max_width": null,
      "min_height": null,
      "min_width": null,
      "object_fit": null,
      "object_position": null,
      "order": null,
      "overflow": null,
      "overflow_x": null,
      "overflow_y": null,
      "padding": null,
      "right": null,
      "top": null,
      "visibility": null,
      "width": null
     }
    },
    "f81aff1cf9664037ae99b68efac8f38e": {
     "model_module": "@jupyter-widgets/controls",
     "model_name": "HBoxModel",
     "state": {
      "_dom_classes": [],
      "_model_module": "@jupyter-widgets/controls",
      "_model_module_version": "1.5.0",
      "_model_name": "HBoxModel",
      "_view_count": null,
      "_view_module": "@jupyter-widgets/controls",
      "_view_module_version": "1.5.0",
      "_view_name": "HBoxView",
      "box_style": "",
      "children": [
       "IPY_MODEL_0fdffcdfe405467bbf01906e8e3a82f0",
       "IPY_MODEL_07e9687060054a0dbd60ae72c70ef7af"
      ],
      "layout": "IPY_MODEL_167fa7cd4a364a2088134de06d317a59"
     }
    }
   }
  }
 },
 "nbformat": 4,
 "nbformat_minor": 1
}
