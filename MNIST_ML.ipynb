{
 "cells": [
  {
   "cell_type": "markdown",
   "id": "compound-split",
   "metadata": {
    "toc": true
   },
   "source": [
    "<h1>Table of Contents<span class=\"tocSkip\"></span></h1>\n",
    "<div class=\"toc\"><ul class=\"toc-item\"><li><span><a href=\"#cuda\" data-toc-modified-id=\"cuda-1\"><span class=\"toc-item-num\">1&nbsp;&nbsp;</span>cuda</a></span></li><li><span><a href=\"#Utility\" data-toc-modified-id=\"Utility-2\"><span class=\"toc-item-num\">2&nbsp;&nbsp;</span>Utility</a></span></li><li><span><a href=\"#Params\" data-toc-modified-id=\"Params-3\"><span class=\"toc-item-num\">3&nbsp;&nbsp;</span>Params</a></span></li><li><span><a href=\"#Data\" data-toc-modified-id=\"Data-4\"><span class=\"toc-item-num\">4&nbsp;&nbsp;</span>Data</a></span></li><li><span><a href=\"#Model\" data-toc-modified-id=\"Model-5\"><span class=\"toc-item-num\">5&nbsp;&nbsp;</span>Model</a></span></li></ul></div>"
   ]
  },
  {
   "cell_type": "code",
   "execution_count": 1,
   "id": "automated-breast",
   "metadata": {
    "ExecuteTime": {
     "end_time": "2021-02-04T09:53:07.913879Z",
     "start_time": "2021-02-04T09:53:06.789232Z"
    }
   },
   "outputs": [],
   "source": [
    "import pandas as pd\n",
    "import numpy as np\n",
    "import matplotlib.pyplot as plt\n",
    "import seaborn as sns\n",
    "\n",
    "sns.set()\n",
    "\n",
    "sns.set_style(\"whitegrid\", {'axes.grid' : False})\n",
    "\n",
    "# from tqdm.notebook import tqdm\n",
    "from tqdm.auto import tqdm"
   ]
  },
  {
   "cell_type": "markdown",
   "id": "painful-plaza",
   "metadata": {
    "id": "6TE8tM1jVt5a"
   },
   "source": [
    "## cuda"
   ]
  },
  {
   "cell_type": "code",
   "execution_count": 2,
   "id": "suspended-stupid",
   "metadata": {
    "ExecuteTime": {
     "end_time": "2021-02-04T09:53:08.339464Z",
     "start_time": "2021-02-04T09:53:07.916498Z"
    },
    "colab": {
     "base_uri": "https://localhost:8080/"
    },
    "id": "UBFRCZowUWGt",
    "outputId": "d6df3551-6f26-4731-fad3-1caeeccba5fe"
   },
   "outputs": [
    {
     "data": {
      "text/plain": [
       "True"
      ]
     },
     "execution_count": 2,
     "metadata": {},
     "output_type": "execute_result"
    }
   ],
   "source": [
    "import torch\n",
    "torch.cuda.is_available()"
   ]
  },
  {
   "cell_type": "code",
   "execution_count": 3,
   "id": "plastic-compensation",
   "metadata": {
    "ExecuteTime": {
     "end_time": "2021-02-04T09:53:08.379826Z",
     "start_time": "2021-02-04T09:53:08.341958Z"
    }
   },
   "outputs": [
    {
     "name": "stdout",
     "output_type": "stream",
     "text": [
      "cuda:0\n"
     ]
    }
   ],
   "source": [
    "device = torch.device(\"cuda:0\" if torch.cuda.is_available() else \"cpu\")\n",
    "\n",
    "# Assuming that we are on a CUDA machine, this should print a CUDA device:\n",
    "\n",
    "print(device)"
   ]
  },
  {
   "cell_type": "markdown",
   "id": "political-extraction",
   "metadata": {},
   "source": [
    "# Train"
   ]
  },
  {
   "cell_type": "markdown",
   "id": "mental-cornwall",
   "metadata": {},
   "source": [
    "## Utility"
   ]
  },
  {
   "cell_type": "code",
   "execution_count": 4,
   "id": "molecular-mission",
   "metadata": {
    "ExecuteTime": {
     "end_time": "2021-02-04T09:53:08.392377Z",
     "start_time": "2021-02-04T09:53:08.383246Z"
    }
   },
   "outputs": [],
   "source": [
    "def get_embeddings(model, loader):\n",
    "    embeddings = torch.zeros((1, EMBEDDING_DIM))[1:].to(device)\n",
    "    targets = torch.zeros((1))[1:].to(device)\n",
    "    for images, labels in tqdm(loader):\n",
    "        images, labels = images.to(device), labels.to(device)\n",
    "        with torch.no_grad():\n",
    "            new_emb = model(images)\n",
    "            targets = torch.cat((targets, labels))\n",
    "            embeddings = torch.cat((embeddings, new_emb))\n",
    "    embeddings = embeddings.cpu()\n",
    "    targets = targets.cpu()\n",
    "    return embeddings, targets"
   ]
  },
  {
   "cell_type": "code",
   "execution_count": 5,
   "id": "spare-orbit",
   "metadata": {
    "ExecuteTime": {
     "end_time": "2021-02-04T09:53:08.403415Z",
     "start_time": "2021-02-04T09:53:08.395940Z"
    }
   },
   "outputs": [],
   "source": [
    "def visualize_embeddings(model, loader):\n",
    "    embeddings, targets = get_embeddings(model, loader)\n",
    "    X = embeddings.cpu().numpy()\n",
    "    y = targets.cpu().numpy()\n",
    "    df = pd.DataFrame(X, columns=['x', 'y'])\n",
    "    df['digit'] = y\n",
    "    df['digit'] = df['digit'].astype(int).astype(str)\n",
    "    \n",
    "    fig, axs = plt.subplots(figsize=(8, 8))\n",
    "\n",
    "    sns.scatterplot(\n",
    "        x='x', y='y', hue='digit',\n",
    "        alpha=0.5,\n",
    "        data=df\n",
    "    );\n",
    "    \n",
    "    \n",
    "    return fig"
   ]
  },
  {
   "cell_type": "code",
   "execution_count": 6,
   "id": "introductory-commons",
   "metadata": {
    "ExecuteTime": {
     "end_time": "2021-02-04T09:53:08.411658Z",
     "start_time": "2021-02-04T09:53:08.406541Z"
    }
   },
   "outputs": [],
   "source": [
    "def save_embedding_img(epoch, model, loader, accuracy=0, SAMPLE_IMAGES_DIR=\"mnist_embeddings/cosine_similarity\"):\n",
    "    fig = visualize_embeddings(model, loader)\n",
    "    plt.title(f'epoch: {epoch:04}; accuracy: {accuracy:.3f}')\n",
    "    plt.legend(loc=\"upper right\")\n",
    "    fig.tight_layout();\n",
    "    \n",
    "    fig.savefig(f'{SAMPLE_IMAGES_DIR}/img-{epoch:04}.png')\n",
    "    plt.close(fig)"
   ]
  },
  {
   "cell_type": "code",
   "execution_count": 7,
   "id": "geographic-eleven",
   "metadata": {
    "ExecuteTime": {
     "end_time": "2021-02-04T09:53:08.418087Z",
     "start_time": "2021-02-04T09:53:08.413814Z"
    }
   },
   "outputs": [],
   "source": [
    "def test(model, trainloader, testloader):\n",
    "    train_embeddings, train_labels = get_embeddings(model, trainloader)\n",
    "    test_embeddings, test_labels = get_embeddings(model, testloader)\n",
    "    accuracies = accuracy_calculator.get_accuracy(test_embeddings.numpy(), \n",
    "                                                train_embeddings.numpy(),\n",
    "                                                test_labels.numpy(),\n",
    "                                                train_labels.numpy(),\n",
    "                                                False)\n",
    "    return accuracies"
   ]
  },
  {
   "cell_type": "code",
   "execution_count": 8,
   "id": "exceptional-liquid",
   "metadata": {
    "ExecuteTime": {
     "end_time": "2021-02-04T09:53:08.429977Z",
     "start_time": "2021-02-04T09:53:08.421397Z"
    }
   },
   "outputs": [],
   "source": [
    "def train(model, loss_func, optimizer, scheduler, trainloader, testloader, NUM_EPOCHS=5):\n",
    "    losses = []\n",
    "    test_accuracies = []\n",
    "    \n",
    "    for epoch in tqdm(range(NUM_EPOCHS)):\n",
    "        model.train()\n",
    "        epoch_losses = []\n",
    "        for batch_idx, (images, labels) in tqdm(enumerate(trainloader)):\n",
    "            images, labels = images.to(device), labels.to(device)\n",
    "            outputs = model(images)\n",
    "            \n",
    "            indices_tuple = mining_func(outputs, labels)\n",
    "            loss = loss_func(outputs, labels, indices_tuple)\n",
    "\n",
    "            optimizer.zero_grad()\n",
    "            loss.backward()\n",
    "            optimizer.step()\n",
    "            \n",
    "            epoch_losses.append(float(loss.item()))\n",
    "        \n",
    "        loss = torch.tensor(epoch_losses).mean()\n",
    "        losses.append(loss)\n",
    "        \n",
    "        accuracies = test(model, trainloader, testloader)\n",
    "        test_acc = accuracies[\"precision_at_1\"]\n",
    "        test_accuracies.append(test_acc)\n",
    "        \n",
    "        scheduler.step(test_acc)\n",
    "        \n",
    "        save_embedding_img(epoch, model, testloader, accuracy=test_acc)\n",
    "        \n",
    "        print(f'epoch: {epoch}; loss: {loss}',\n",
    "              f'test acc: {test_acc}')\n",
    "    return losses, test_accuracies"
   ]
  },
  {
   "cell_type": "markdown",
   "id": "sunset-credit",
   "metadata": {
    "ExecuteTime": {
     "end_time": "2021-01-29T15:52:33.900679Z",
     "start_time": "2021-01-29T15:52:33.897307Z"
    }
   },
   "source": [
    "## Params"
   ]
  },
  {
   "cell_type": "code",
   "execution_count": 9,
   "id": "musical-effort",
   "metadata": {
    "ExecuteTime": {
     "end_time": "2021-02-04T09:53:08.491273Z",
     "start_time": "2021-02-04T09:53:08.432475Z"
    },
    "id": "Bo2W99FK8NGQ"
   },
   "outputs": [],
   "source": [
    "import torch\n",
    "import torchvision\n",
    "from torchvision import datasets, models, transforms\n",
    "from pathlib import Path"
   ]
  },
  {
   "cell_type": "code",
   "execution_count": 10,
   "id": "chinese-willow",
   "metadata": {
    "ExecuteTime": {
     "end_time": "2021-02-04T09:53:08.781464Z",
     "start_time": "2021-02-04T09:53:08.493275Z"
    }
   },
   "outputs": [],
   "source": [
    "from pytorch_metric_learning import losses, miners, distances, reducers, testers, samplers\n",
    "from pytorch_metric_learning.utils.accuracy_calculator import AccuracyCalculator"
   ]
  },
  {
   "cell_type": "code",
   "execution_count": 11,
   "id": "nutritional-scanner",
   "metadata": {
    "ExecuteTime": {
     "end_time": "2021-02-04T09:53:08.787831Z",
     "start_time": "2021-02-04T09:53:08.783965Z"
    },
    "id": "F4KwyL_t5JX-"
   },
   "outputs": [],
   "source": [
    "BATCH_SIZE = 100\n",
    "LR = 1e-3\n",
    "SCHEDULER_EPOCHS = 2\n",
    "EMBEDDING_DIM = 2\n",
    "\n",
    "SAMPLES_PER_CLASS = 10 # drawing 16 classes per batch"
   ]
  },
  {
   "cell_type": "code",
   "execution_count": 12,
   "id": "adverse-spell",
   "metadata": {
    "ExecuteTime": {
     "end_time": "2021-02-04T09:53:08.797237Z",
     "start_time": "2021-02-04T09:53:08.790516Z"
    }
   },
   "outputs": [],
   "source": [
    "torch.manual_seed(0);"
   ]
  },
  {
   "cell_type": "markdown",
   "id": "white-depth",
   "metadata": {},
   "source": [
    "## Data"
   ]
  },
  {
   "cell_type": "code",
   "execution_count": 13,
   "id": "appointed-continent",
   "metadata": {
    "ExecuteTime": {
     "end_time": "2021-02-04T09:53:08.833536Z",
     "start_time": "2021-02-04T09:53:08.800026Z"
    }
   },
   "outputs": [],
   "source": [
    "transform = transforms.Compose([\n",
    "    transforms.ToTensor(),\n",
    "    transforms.Lambda(lambda x: x.repeat(3, 1, 1)),\n",
    "])\n",
    "\n",
    "dataset = torchvision.datasets.MNIST(\n",
    "    root='../data/mnist_data',\n",
    "    train=True,\n",
    "    download=True,\n",
    "    transform=transform,\n",
    ")\n",
    "\n",
    "dataloader = torch.utils.data.DataLoader(\n",
    "    dataset, batch_size=96,\n",
    "    shuffle=False, num_workers=4,\n",
    "    pin_memory=True,\n",
    ")"
   ]
  },
  {
   "cell_type": "markdown",
   "id": "ultimate-holiday",
   "metadata": {},
   "source": [
    "Compute mean, std\n",
    "\n",
    "don't run if same dataset"
   ]
  },
  {
   "cell_type": "code",
   "execution_count": 14,
   "id": "valued-hepatitis",
   "metadata": {
    "ExecuteTime": {
     "end_time": "2021-02-04T09:53:08.842907Z",
     "start_time": "2021-02-04T09:53:08.835826Z"
    }
   },
   "outputs": [],
   "source": [
    "def compute_mean_std(loader):\n",
    "    mean = 0.0\n",
    "    for images, _ in tqdm(loader):\n",
    "        batch_samples = images.size(0) \n",
    "        images = images.view(batch_samples, images.size(1), -1)\n",
    "        mean += images.mean(2).sum(0)\n",
    "\n",
    "    mean = mean / len(loader.dataset)\n",
    "\n",
    "    var = 0.0\n",
    "    for images, _ in tqdm(loader):\n",
    "        batch_samples = images.size(0)\n",
    "        images = images.view(batch_samples, images.size(1), -1)\n",
    "        var += ((images - mean.unsqueeze(1))**2).sum([0,2])\n",
    "\n",
    "        \n",
    "    image_shape = torch.tensor(next(iter(loader))[0][0][0].shape).prod()\n",
    "    \n",
    "    std = torch.sqrt(var / (len(loader.dataset)*image_shape))\n",
    "    return mean, std"
   ]
  },
  {
   "cell_type": "code",
   "execution_count": 15,
   "id": "banner-detroit",
   "metadata": {
    "ExecuteTime": {
     "end_time": "2021-02-04T09:53:08.849534Z",
     "start_time": "2021-02-04T09:53:08.845963Z"
    }
   },
   "outputs": [],
   "source": [
    "# mean, std = compute_mean_std(dataloader)"
   ]
  },
  {
   "cell_type": "code",
   "execution_count": 16,
   "id": "convinced-advertising",
   "metadata": {
    "ExecuteTime": {
     "end_time": "2021-02-04T09:53:08.856634Z",
     "start_time": "2021-02-04T09:53:08.852287Z"
    }
   },
   "outputs": [],
   "source": [
    "mean = [0.1307, 0.1307, 0.1307]\n",
    "std = [0.3081, 0.3081, 0.3081]"
   ]
  },
  {
   "cell_type": "code",
   "execution_count": 17,
   "id": "postal-charles",
   "metadata": {
    "ExecuteTime": {
     "end_time": "2021-02-04T09:53:08.866339Z",
     "start_time": "2021-02-04T09:53:08.859690Z"
    }
   },
   "outputs": [
    {
     "data": {
      "text/plain": [
       "([0.1307, 0.1307, 0.1307], [0.3081, 0.3081, 0.3081])"
      ]
     },
     "execution_count": 17,
     "metadata": {},
     "output_type": "execute_result"
    }
   ],
   "source": [
    "mean, std"
   ]
  },
  {
   "cell_type": "markdown",
   "id": "diverse-dispute",
   "metadata": {},
   "source": [
    "https://discuss.pytorch.org/t/grayscale-to-rgb-transform/18315/8"
   ]
  },
  {
   "cell_type": "code",
   "execution_count": 18,
   "id": "unsigned-salem",
   "metadata": {
    "ExecuteTime": {
     "end_time": "2021-02-04T09:53:08.908563Z",
     "start_time": "2021-02-04T09:53:08.869150Z"
    }
   },
   "outputs": [],
   "source": [
    "train_transform = transforms.Compose([\n",
    "    transforms.ToTensor(),\n",
    "    transforms.Lambda(lambda x: x.repeat(3, 1, 1)),\n",
    "    transforms.Normalize(mean, std),\n",
    "])\n",
    "\n",
    "test_transform = transforms.Compose([\n",
    "    transforms.ToTensor(),\n",
    "    transforms.Lambda(lambda x: x.repeat(3, 1, 1)),\n",
    "    transforms.Normalize(mean, std),\n",
    "])\n",
    "\n",
    "trainset = torchvision.datasets.MNIST(\n",
    "    root='../data/mnist_data',\n",
    "    train=True,\n",
    "    download=True,\n",
    "    transform=transform,\n",
    ")\n",
    "\n",
    "testset = torchvision.datasets.MNIST(\n",
    "    root='../data/mnist_data',\n",
    "    train=False, # test\n",
    "    download=True,\n",
    "    transform=transform,\n",
    ")"
   ]
  },
  {
   "cell_type": "code",
   "execution_count": 19,
   "id": "civic-labor",
   "metadata": {
    "ExecuteTime": {
     "end_time": "2021-02-04T09:53:08.941668Z",
     "start_time": "2021-02-04T09:53:08.910702Z"
    }
   },
   "outputs": [],
   "source": [
    "train_targets = trainset.targets\n",
    "test_targets = testset.targets\n",
    "\n",
    "train_sampler = samplers.MPerClassSampler(\n",
    "    train_targets,\n",
    "    SAMPLES_PER_CLASS,\n",
    "    batch_size=BATCH_SIZE,\n",
    "    length_before_new_iter=BATCH_SIZE * 200  # 200 batches per epoch\n",
    ")"
   ]
  },
  {
   "cell_type": "code",
   "execution_count": 20,
   "id": "aware-translator",
   "metadata": {
    "ExecuteTime": {
     "end_time": "2021-02-04T09:53:08.951975Z",
     "start_time": "2021-02-04T09:53:08.945360Z"
    }
   },
   "outputs": [],
   "source": [
    "trainloader = torch.utils.data.DataLoader(\n",
    "    trainset, batch_size=BATCH_SIZE,\n",
    "    num_workers=4,\n",
    "    pin_memory=True,\n",
    "    sampler=train_sampler,\n",
    ")\n",
    "\n",
    "testloader = torch.utils.data.DataLoader(\n",
    "    testset, batch_size=BATCH_SIZE,\n",
    "    shuffle=False, num_workers=4,\n",
    "    pin_memory=True,\n",
    ")"
   ]
  },
  {
   "cell_type": "markdown",
   "id": "hearing-chaos",
   "metadata": {},
   "source": [
    "## Model"
   ]
  },
  {
   "cell_type": "code",
   "execution_count": 21,
   "id": "latest-collector",
   "metadata": {
    "ExecuteTime": {
     "end_time": "2021-02-04T09:53:08.959453Z",
     "start_time": "2021-02-04T09:53:08.955085Z"
    }
   },
   "outputs": [],
   "source": [
    "import torch.nn as nn\n",
    "import torch.nn.functional as F\n",
    "import torch.optim as optim"
   ]
  },
  {
   "cell_type": "code",
   "execution_count": 22,
   "id": "invalid-accused",
   "metadata": {
    "ExecuteTime": {
     "end_time": "2021-02-04T09:53:08.967575Z",
     "start_time": "2021-02-04T09:53:08.962775Z"
    }
   },
   "outputs": [],
   "source": [
    "def update_model(model):\n",
    "    num_ftrs = model.fc.in_features\n",
    "    model.fc = nn.Linear(num_ftrs, EMBEDDING_DIM)\n",
    "    return model"
   ]
  },
  {
   "cell_type": "code",
   "execution_count": 23,
   "id": "mathematical-obligation",
   "metadata": {
    "ExecuteTime": {
     "end_time": "2021-02-04T09:53:08.978492Z",
     "start_time": "2021-02-04T09:53:08.973722Z"
    }
   },
   "outputs": [],
   "source": [
    "torch.manual_seed(0);"
   ]
  },
  {
   "cell_type": "code",
   "execution_count": 24,
   "id": "satisfactory-establishment",
   "metadata": {
    "ExecuteTime": {
     "end_time": "2021-02-04T09:53:08.985481Z",
     "start_time": "2021-02-04T09:53:08.981974Z"
    }
   },
   "outputs": [],
   "source": [
    "torch.cuda.empty_cache()"
   ]
  },
  {
   "cell_type": "code",
   "execution_count": 25,
   "id": "registered-warehouse",
   "metadata": {
    "ExecuteTime": {
     "end_time": "2021-02-04T09:53:09.592155Z",
     "start_time": "2021-02-04T09:53:08.988327Z"
    }
   },
   "outputs": [
    {
     "name": "stderr",
     "output_type": "stream",
     "text": [
      "Using cache found in /home/th/.cache/torch/hub/pytorch_vision_v0.6.0\n"
     ]
    }
   ],
   "source": [
    "model = torch.hub.load('pytorch/vision:v0.6.0',\n",
    "                       'resnext50_32x4d',\n",
    "                       pretrained=False)"
   ]
  },
  {
   "cell_type": "code",
   "execution_count": 26,
   "id": "homeless-subject",
   "metadata": {
    "ExecuteTime": {
     "end_time": "2021-02-04T09:53:09.597058Z",
     "start_time": "2021-02-04T09:53:09.594220Z"
    },
    "scrolled": true
   },
   "outputs": [],
   "source": [
    "# for (name, layer) in model._modules.items():\n",
    "#     print((name, layer))"
   ]
  },
  {
   "cell_type": "code",
   "execution_count": 27,
   "id": "minor-turner",
   "metadata": {
    "ExecuteTime": {
     "end_time": "2021-02-04T09:53:09.603110Z",
     "start_time": "2021-02-04T09:53:09.599201Z"
    }
   },
   "outputs": [],
   "source": [
    "model = update_model(model)"
   ]
  },
  {
   "cell_type": "code",
   "execution_count": 28,
   "id": "third-insertion",
   "metadata": {
    "ExecuteTime": {
     "end_time": "2021-02-04T09:53:12.115181Z",
     "start_time": "2021-02-04T09:53:09.604800Z"
    }
   },
   "outputs": [],
   "source": [
    "model.to(device);"
   ]
  },
  {
   "cell_type": "code",
   "execution_count": 29,
   "id": "prepared-graduate",
   "metadata": {
    "ExecuteTime": {
     "end_time": "2021-02-04T09:53:12.187506Z",
     "start_time": "2021-02-04T09:53:12.116947Z"
    }
   },
   "outputs": [
    {
     "data": {
      "text/plain": [
       "80"
      ]
     },
     "execution_count": 29,
     "metadata": {},
     "output_type": "execute_result"
    }
   ],
   "source": [
    "import gc\n",
    "gc.collect()"
   ]
  },
  {
   "cell_type": "code",
   "execution_count": 30,
   "id": "accepted-tiffany",
   "metadata": {
    "ExecuteTime": {
     "end_time": "2021-02-04T09:53:12.395971Z",
     "start_time": "2021-02-04T09:53:12.189412Z"
    }
   },
   "outputs": [
    {
     "name": "stdout",
     "output_type": "stream",
     "text": [
      "torch.Size([96, 2])\n"
     ]
    }
   ],
   "source": [
    "dataiter = iter(dataloader)\n",
    "images, labels = dataiter.next()\n",
    "img_gpu = images.to(device)\n",
    "with torch.no_grad():\n",
    "    print(model(img_gpu).shape)\n",
    "del img_gpu"
   ]
  },
  {
   "cell_type": "code",
   "execution_count": 31,
   "id": "acquired-stanley",
   "metadata": {
    "ExecuteTime": {
     "end_time": "2021-02-04T09:53:12.403717Z",
     "start_time": "2021-02-04T09:53:12.398274Z"
    }
   },
   "outputs": [],
   "source": [
    "params = [p for p in model.parameters() if p.requires_grad]"
   ]
  },
  {
   "cell_type": "code",
   "execution_count": 32,
   "id": "declared-question",
   "metadata": {
    "ExecuteTime": {
     "end_time": "2021-02-04T09:53:12.415145Z",
     "start_time": "2021-02-04T09:53:12.405796Z"
    }
   },
   "outputs": [],
   "source": [
    "optimizer = optim.Adam(params, lr=LR)\n",
    "\n",
    "scheduler = optim.lr_scheduler.ReduceLROnPlateau(\n",
    "    optimizer,\n",
    "    patience=SCHEDULER_EPOCHS,\n",
    ")"
   ]
  },
  {
   "cell_type": "code",
   "execution_count": 33,
   "id": "through-conservation",
   "metadata": {
    "ExecuteTime": {
     "end_time": "2021-02-04T09:53:12.423564Z",
     "start_time": "2021-02-04T09:53:12.417486Z"
    }
   },
   "outputs": [],
   "source": [
    "# distance = distances.CosineSimilarity()\n",
    "distance = distances.DotProductSimilarity()\n",
    "reducer = reducers.ThresholdReducer(low = 0)\n",
    "loss_func = losses.TripletMarginLoss(margin = 0.2, distance = distance, reducer = reducer)\n",
    "mining_func = miners.TripletMarginMiner(margin = 0.2, distance = distance, type_of_triplets = \"semihard\")\n",
    "accuracy_calculator = AccuracyCalculator(include = (\"precision_at_1\",), k = 1)"
   ]
  },
  {
   "cell_type": "code",
   "execution_count": 34,
   "id": "introductory-roller",
   "metadata": {
    "ExecuteTime": {
     "end_time": "2021-02-04T09:54:09.588829Z",
     "start_time": "2021-02-04T09:53:12.425444Z"
    },
    "scrolled": true
   },
   "outputs": [
    {
     "data": {
      "application/vnd.jupyter.widget-view+json": {
       "model_id": "98cc63ca82514e05b2ed33eb4990e0c9",
       "version_major": 2,
       "version_minor": 0
      },
      "text/plain": [
       "  0%|          | 0/20 [00:00<?, ?it/s]"
      ]
     },
     "metadata": {},
     "output_type": "display_data"
    },
    {
     "data": {
      "application/vnd.jupyter.widget-view+json": {
       "model_id": "abbd0e6e20144ea18de8aa7883a610be",
       "version_major": 2,
       "version_minor": 0
      },
      "text/plain": [
       "0it [00:00, ?it/s]"
      ]
     },
     "metadata": {},
     "output_type": "display_data"
    },
    {
     "data": {
      "application/vnd.jupyter.widget-view+json": {
       "model_id": "c54f9dd4901c4f2db98c3358c1dfa5e0",
       "version_major": 2,
       "version_minor": 0
      },
      "text/plain": [
       "  0%|          | 0/200 [00:00<?, ?it/s]"
      ]
     },
     "metadata": {},
     "output_type": "display_data"
    },
    {
     "data": {
      "application/vnd.jupyter.widget-view+json": {
       "model_id": "8bc684f045ce4aa294b2069c26786346",
       "version_major": 2,
       "version_minor": 0
      },
      "text/plain": [
       "  0%|          | 0/100 [00:00<?, ?it/s]"
      ]
     },
     "metadata": {},
     "output_type": "display_data"
    },
    {
     "data": {
      "application/vnd.jupyter.widget-view+json": {
       "model_id": "b6ef43548d7b44d5ab37dd23f4ae7920",
       "version_major": 2,
       "version_minor": 0
      },
      "text/plain": [
       "  0%|          | 0/100 [00:00<?, ?it/s]"
      ]
     },
     "metadata": {},
     "output_type": "display_data"
    },
    {
     "ename": "KeyboardInterrupt",
     "evalue": "",
     "output_type": "error",
     "traceback": [
      "\u001b[0;31m---------------------------------------------------------------------------\u001b[0m",
      "\u001b[0;31mKeyboardInterrupt\u001b[0m                         Traceback (most recent call last)",
      "\u001b[0;32m<ipython-input-34-d7aad931efc3>\u001b[0m in \u001b[0;36m<module>\u001b[0;34m\u001b[0m\n\u001b[1;32m      2\u001b[0m     \u001b[0mmodel\u001b[0m\u001b[0;34m,\u001b[0m \u001b[0mloss_func\u001b[0m\u001b[0;34m,\u001b[0m \u001b[0moptimizer\u001b[0m\u001b[0;34m,\u001b[0m \u001b[0mscheduler\u001b[0m\u001b[0;34m,\u001b[0m\u001b[0;34m\u001b[0m\u001b[0;34m\u001b[0m\u001b[0m\n\u001b[1;32m      3\u001b[0m     \u001b[0mtrainloader\u001b[0m\u001b[0;34m,\u001b[0m \u001b[0mtestloader\u001b[0m\u001b[0;34m,\u001b[0m\u001b[0;34m\u001b[0m\u001b[0;34m\u001b[0m\u001b[0m\n\u001b[0;32m----> 4\u001b[0;31m     \u001b[0mNUM_EPOCHS\u001b[0m\u001b[0;34m=\u001b[0m\u001b[0;36m20\u001b[0m\u001b[0;34m\u001b[0m\u001b[0;34m\u001b[0m\u001b[0m\n\u001b[0m\u001b[1;32m      5\u001b[0m )\n",
      "\u001b[0;32m<ipython-input-8-ea47d9a0e342>\u001b[0m in \u001b[0;36mtrain\u001b[0;34m(model, loss_func, optimizer, scheduler, trainloader, testloader, NUM_EPOCHS)\u001b[0m\n\u001b[1;32m     28\u001b[0m         \u001b[0mscheduler\u001b[0m\u001b[0;34m.\u001b[0m\u001b[0mstep\u001b[0m\u001b[0;34m(\u001b[0m\u001b[0mtest_acc\u001b[0m\u001b[0;34m)\u001b[0m\u001b[0;34m\u001b[0m\u001b[0;34m\u001b[0m\u001b[0m\n\u001b[1;32m     29\u001b[0m \u001b[0;34m\u001b[0m\u001b[0m\n\u001b[0;32m---> 30\u001b[0;31m         \u001b[0msave_embedding_img\u001b[0m\u001b[0;34m(\u001b[0m\u001b[0mepoch\u001b[0m\u001b[0;34m,\u001b[0m \u001b[0mmodel\u001b[0m\u001b[0;34m,\u001b[0m \u001b[0mtestloader\u001b[0m\u001b[0;34m,\u001b[0m \u001b[0maccuracy\u001b[0m\u001b[0;34m=\u001b[0m\u001b[0mtest_acc\u001b[0m\u001b[0;34m)\u001b[0m\u001b[0;34m\u001b[0m\u001b[0;34m\u001b[0m\u001b[0m\n\u001b[0m\u001b[1;32m     31\u001b[0m \u001b[0;34m\u001b[0m\u001b[0m\n\u001b[1;32m     32\u001b[0m         print(f'epoch: {epoch}; loss: {loss}',\n",
      "\u001b[0;32m<ipython-input-6-379b2154e82d>\u001b[0m in \u001b[0;36msave_embedding_img\u001b[0;34m(epoch, model, loader, accuracy, SAMPLE_IMAGES_DIR)\u001b[0m\n\u001b[1;32m      1\u001b[0m \u001b[0;32mdef\u001b[0m \u001b[0msave_embedding_img\u001b[0m\u001b[0;34m(\u001b[0m\u001b[0mepoch\u001b[0m\u001b[0;34m,\u001b[0m \u001b[0mmodel\u001b[0m\u001b[0;34m,\u001b[0m \u001b[0mloader\u001b[0m\u001b[0;34m,\u001b[0m \u001b[0maccuracy\u001b[0m\u001b[0;34m=\u001b[0m\u001b[0;36m0\u001b[0m\u001b[0;34m,\u001b[0m \u001b[0mSAMPLE_IMAGES_DIR\u001b[0m\u001b[0;34m=\u001b[0m\u001b[0;34m\"mnist_embeddings/cosine_similarity\"\u001b[0m\u001b[0;34m)\u001b[0m\u001b[0;34m:\u001b[0m\u001b[0;34m\u001b[0m\u001b[0;34m\u001b[0m\u001b[0m\n\u001b[0;32m----> 2\u001b[0;31m     \u001b[0mfig\u001b[0m \u001b[0;34m=\u001b[0m \u001b[0mvisualize_embeddings\u001b[0m\u001b[0;34m(\u001b[0m\u001b[0mmodel\u001b[0m\u001b[0;34m,\u001b[0m \u001b[0mloader\u001b[0m\u001b[0;34m)\u001b[0m\u001b[0;34m\u001b[0m\u001b[0;34m\u001b[0m\u001b[0m\n\u001b[0m\u001b[1;32m      3\u001b[0m     \u001b[0mplt\u001b[0m\u001b[0;34m.\u001b[0m\u001b[0mtitle\u001b[0m\u001b[0;34m(\u001b[0m\u001b[0;34mf'epoch: {epoch:04}; accuracy: {accuracy:.3f}'\u001b[0m\u001b[0;34m)\u001b[0m\u001b[0;34m\u001b[0m\u001b[0;34m\u001b[0m\u001b[0m\n\u001b[1;32m      4\u001b[0m     \u001b[0mplt\u001b[0m\u001b[0;34m.\u001b[0m\u001b[0mlegend\u001b[0m\u001b[0;34m(\u001b[0m\u001b[0mloc\u001b[0m\u001b[0;34m=\u001b[0m\u001b[0;34m\"upper right\"\u001b[0m\u001b[0;34m)\u001b[0m\u001b[0;34m\u001b[0m\u001b[0;34m\u001b[0m\u001b[0m\n\u001b[1;32m      5\u001b[0m     \u001b[0mfig\u001b[0m\u001b[0;34m.\u001b[0m\u001b[0mtight_layout\u001b[0m\u001b[0;34m(\u001b[0m\u001b[0;34m)\u001b[0m\u001b[0;34m;\u001b[0m\u001b[0;34m\u001b[0m\u001b[0;34m\u001b[0m\u001b[0m\n",
      "\u001b[0;32m<ipython-input-5-0f83a7ec2803>\u001b[0m in \u001b[0;36mvisualize_embeddings\u001b[0;34m(model, loader)\u001b[0m\n\u001b[1;32m      1\u001b[0m \u001b[0;32mdef\u001b[0m \u001b[0mvisualize_embeddings\u001b[0m\u001b[0;34m(\u001b[0m\u001b[0mmodel\u001b[0m\u001b[0;34m,\u001b[0m \u001b[0mloader\u001b[0m\u001b[0;34m)\u001b[0m\u001b[0;34m:\u001b[0m\u001b[0;34m\u001b[0m\u001b[0;34m\u001b[0m\u001b[0m\n\u001b[0;32m----> 2\u001b[0;31m     \u001b[0membeddings\u001b[0m\u001b[0;34m,\u001b[0m \u001b[0mtargets\u001b[0m \u001b[0;34m=\u001b[0m \u001b[0mget_embeddings\u001b[0m\u001b[0;34m(\u001b[0m\u001b[0mmodel\u001b[0m\u001b[0;34m,\u001b[0m \u001b[0mloader\u001b[0m\u001b[0;34m)\u001b[0m\u001b[0;34m\u001b[0m\u001b[0;34m\u001b[0m\u001b[0m\n\u001b[0m\u001b[1;32m      3\u001b[0m     \u001b[0mX\u001b[0m \u001b[0;34m=\u001b[0m \u001b[0membeddings\u001b[0m\u001b[0;34m.\u001b[0m\u001b[0mcpu\u001b[0m\u001b[0;34m(\u001b[0m\u001b[0;34m)\u001b[0m\u001b[0;34m.\u001b[0m\u001b[0mnumpy\u001b[0m\u001b[0;34m(\u001b[0m\u001b[0;34m)\u001b[0m\u001b[0;34m\u001b[0m\u001b[0;34m\u001b[0m\u001b[0m\n\u001b[1;32m      4\u001b[0m     \u001b[0my\u001b[0m \u001b[0;34m=\u001b[0m \u001b[0mtargets\u001b[0m\u001b[0;34m.\u001b[0m\u001b[0mcpu\u001b[0m\u001b[0;34m(\u001b[0m\u001b[0;34m)\u001b[0m\u001b[0;34m.\u001b[0m\u001b[0mnumpy\u001b[0m\u001b[0;34m(\u001b[0m\u001b[0;34m)\u001b[0m\u001b[0;34m\u001b[0m\u001b[0;34m\u001b[0m\u001b[0m\n\u001b[1;32m      5\u001b[0m     \u001b[0mdf\u001b[0m \u001b[0;34m=\u001b[0m \u001b[0mpd\u001b[0m\u001b[0;34m.\u001b[0m\u001b[0mDataFrame\u001b[0m\u001b[0;34m(\u001b[0m\u001b[0mX\u001b[0m\u001b[0;34m,\u001b[0m \u001b[0mcolumns\u001b[0m\u001b[0;34m=\u001b[0m\u001b[0;34m[\u001b[0m\u001b[0;34m'x'\u001b[0m\u001b[0;34m,\u001b[0m \u001b[0;34m'y'\u001b[0m\u001b[0;34m]\u001b[0m\u001b[0;34m)\u001b[0m\u001b[0;34m\u001b[0m\u001b[0;34m\u001b[0m\u001b[0m\n",
      "\u001b[0;32m<ipython-input-4-af4aa45a32a4>\u001b[0m in \u001b[0;36mget_embeddings\u001b[0;34m(model, loader)\u001b[0m\n\u001b[1;32m      3\u001b[0m     \u001b[0mtargets\u001b[0m \u001b[0;34m=\u001b[0m \u001b[0mtorch\u001b[0m\u001b[0;34m.\u001b[0m\u001b[0mzeros\u001b[0m\u001b[0;34m(\u001b[0m\u001b[0;34m(\u001b[0m\u001b[0;36m1\u001b[0m\u001b[0;34m)\u001b[0m\u001b[0;34m)\u001b[0m\u001b[0;34m[\u001b[0m\u001b[0;36m1\u001b[0m\u001b[0;34m:\u001b[0m\u001b[0;34m]\u001b[0m\u001b[0;34m.\u001b[0m\u001b[0mto\u001b[0m\u001b[0;34m(\u001b[0m\u001b[0mdevice\u001b[0m\u001b[0;34m)\u001b[0m\u001b[0;34m\u001b[0m\u001b[0;34m\u001b[0m\u001b[0m\n\u001b[1;32m      4\u001b[0m     \u001b[0;32mfor\u001b[0m \u001b[0mimages\u001b[0m\u001b[0;34m,\u001b[0m \u001b[0mlabels\u001b[0m \u001b[0;32min\u001b[0m \u001b[0mtqdm\u001b[0m\u001b[0;34m(\u001b[0m\u001b[0mloader\u001b[0m\u001b[0;34m)\u001b[0m\u001b[0;34m:\u001b[0m\u001b[0;34m\u001b[0m\u001b[0;34m\u001b[0m\u001b[0m\n\u001b[0;32m----> 5\u001b[0;31m         \u001b[0mimages\u001b[0m\u001b[0;34m,\u001b[0m \u001b[0mlabels\u001b[0m \u001b[0;34m=\u001b[0m \u001b[0mimages\u001b[0m\u001b[0;34m.\u001b[0m\u001b[0mto\u001b[0m\u001b[0;34m(\u001b[0m\u001b[0mdevice\u001b[0m\u001b[0;34m)\u001b[0m\u001b[0;34m,\u001b[0m \u001b[0mlabels\u001b[0m\u001b[0;34m.\u001b[0m\u001b[0mto\u001b[0m\u001b[0;34m(\u001b[0m\u001b[0mdevice\u001b[0m\u001b[0;34m)\u001b[0m\u001b[0;34m\u001b[0m\u001b[0;34m\u001b[0m\u001b[0m\n\u001b[0m\u001b[1;32m      6\u001b[0m         \u001b[0;32mwith\u001b[0m \u001b[0mtorch\u001b[0m\u001b[0;34m.\u001b[0m\u001b[0mno_grad\u001b[0m\u001b[0;34m(\u001b[0m\u001b[0;34m)\u001b[0m\u001b[0;34m:\u001b[0m\u001b[0;34m\u001b[0m\u001b[0;34m\u001b[0m\u001b[0m\n\u001b[1;32m      7\u001b[0m             \u001b[0mnew_emb\u001b[0m \u001b[0;34m=\u001b[0m \u001b[0mmodel\u001b[0m\u001b[0;34m(\u001b[0m\u001b[0mimages\u001b[0m\u001b[0;34m)\u001b[0m\u001b[0;34m\u001b[0m\u001b[0;34m\u001b[0m\u001b[0m\n",
      "\u001b[0;31mKeyboardInterrupt\u001b[0m: "
     ]
    }
   ],
   "source": [
    "losses, test_accuracies = train(\n",
    "    model, loss_func, optimizer, scheduler,\n",
    "    trainloader, testloader,\n",
    "    NUM_EPOCHS=20\n",
    ")"
   ]
  },
  {
   "cell_type": "code",
   "execution_count": null,
   "id": "constant-apache",
   "metadata": {
    "ExecuteTime": {
     "end_time": "2021-02-04T09:54:09.591141Z",
     "start_time": "2021-02-04T09:53:10.086Z"
    },
    "colab": {
     "base_uri": "https://localhost:8080/",
     "height": 268
    },
    "id": "LQjHkqrQ832C",
    "outputId": "334d933c-abb2-48a7-f6a7-febb1d4ad597"
   },
   "outputs": [],
   "source": [
    "plt.plot(losses, label='train loss')\n",
    "# plt.plot(val_losses, label='validation loss')\n",
    "plt.legend();"
   ]
  },
  {
   "cell_type": "code",
   "execution_count": null,
   "id": "three-simpson",
   "metadata": {
    "ExecuteTime": {
     "end_time": "2021-02-04T09:54:09.592232Z",
     "start_time": "2021-02-04T09:53:10.257Z"
    },
    "colab": {
     "base_uri": "https://localhost:8080/",
     "height": 270
    },
    "id": "YKs2iVHZ832D",
    "outputId": "fd68f9ca-9846-4fdb-827f-c49124bbf530"
   },
   "outputs": [],
   "source": [
    "# plt.plot(accuracy, label='train accuracy')\n",
    "plt.plot(test_accuracies, label='validation accuracy')\n",
    "plt.legend();"
   ]
  },
  {
   "cell_type": "code",
   "execution_count": null,
   "id": "maritime-march",
   "metadata": {
    "ExecuteTime": {
     "end_time": "2021-02-04T07:42:12.290682Z",
     "start_time": "2021-02-04T07:42:12.110408Z"
    }
   },
   "outputs": [],
   "source": [
    "!mkdir -p models"
   ]
  },
  {
   "cell_type": "code",
   "execution_count": null,
   "id": "packed-sleeve",
   "metadata": {
    "ExecuteTime": {
     "end_time": "2021-02-04T07:42:12.403911Z",
     "start_time": "2021-02-04T07:42:12.400299Z"
    },
    "id": "XO87FRO0832E"
   },
   "outputs": [],
   "source": [
    "MODEL_PATH = Path('./models/mnist_ml.pth')"
   ]
  },
  {
   "cell_type": "code",
   "execution_count": null,
   "id": "august-criterion",
   "metadata": {
    "ExecuteTime": {
     "end_time": "2021-02-04T07:42:13.335885Z",
     "start_time": "2021-02-04T07:42:12.969362Z"
    }
   },
   "outputs": [],
   "source": [
    "torch.save(model.state_dict(), MODEL_PATH)"
   ]
  },
  {
   "cell_type": "code",
   "execution_count": null,
   "id": "endless-preliminary",
   "metadata": {},
   "outputs": [],
   "source": []
  }
 ],
 "metadata": {
  "kernelspec": {
   "display_name": "Python 3",
   "language": "python",
   "name": "python3"
  },
  "language_info": {
   "codemirror_mode": {
    "name": "ipython",
    "version": 3
   },
   "file_extension": ".py",
   "mimetype": "text/x-python",
   "name": "python",
   "nbconvert_exporter": "python",
   "pygments_lexer": "ipython3",
   "version": "3.8.6"
  },
  "toc": {
   "base_numbering": 1,
   "nav_menu": {},
   "number_sections": true,
   "sideBar": true,
   "skip_h1_title": true,
   "title_cell": "Table of Contents",
   "title_sidebar": "Contents",
   "toc_cell": true,
   "toc_position": {},
   "toc_section_display": true,
   "toc_window_display": false
  }
 },
 "nbformat": 4,
 "nbformat_minor": 5
}
